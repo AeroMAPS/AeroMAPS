{
 "cells": [
  {
   "cell_type": "markdown",
   "id": "4cacbf1c-3c31-4cc9-93b2-85d244b6e599",
   "metadata": {},
   "source": [
    "# Generation of the historical dataset for temperature estimation"
   ]
  },
  {
   "cell_type": "code",
   "execution_count": 1,
   "id": "3cfcc63c-9450-4c87-9741-9080a19da728",
   "metadata": {
    "tags": []
   },
   "outputs": [],
   "source": [
    "import numpy as np\n",
    "import pandas as pd\n",
    "from pandas import read_csv"
   ]
  },
  {
   "cell_type": "code",
   "execution_count": 2,
   "id": "8b33ce64-58ff-4657-b73b-f4c8875ef96d",
   "metadata": {
    "tags": []
   },
   "outputs": [
    {
     "name": "stdout",
     "output_type": "stream",
     "text": [
      "[1941. 1942. 1943. 1944. 1945. 1946. 1947. 1948. 1949. 1950. 1951. 1952.\n",
      " 1953. 1954. 1955. 1956. 1957. 1958. 1959. 1960. 1961. 1962. 1963. 1964.\n",
      " 1965. 1966. 1967. 1968. 1969. 1970. 1971. 1972. 1973. 1974. 1975. 1976.\n",
      " 1977. 1978. 1979. 1980. 1981. 1982. 1983. 1984. 1985. 1986. 1987. 1988.\n",
      " 1989. 1990. 1991. 1992. 1993. 1994. 1995. 1996. 1997. 1998. 1999. 2000.\n",
      " 2001. 2002. 2003. 2004. 2005. 2006. 2007. 2008. 2009. 2010. 2011. 2012.\n",
      " 2013. 2014. 2015. 2016. 2017. 2018.]\n"
     ]
    }
   ],
   "source": [
    "# Recovery of historical data from Klower et al. and Lee et al.\n",
    "\n",
    "klower_data_df = read_csv(\"historical_data_from_klower.csv\", delimiter=\";\")\n",
    "klower_data = klower_data_df.values\n",
    "klower_data_years = klower_data[1:, 0]\n",
    "klower_data_co2 = klower_data[1:, 1]\n",
    "klower_data_distance = klower_data[1:, 2]\n",
    "aeromaps_data_co2 = klower_data[1:, 3]\n",
    "\n",
    "print(klower_data_years)"
   ]
  },
  {
   "cell_type": "code",
   "execution_count": 3,
   "id": "0cfe6008-898a-443c-b447-8da10fcd0e35",
   "metadata": {
    "tags": []
   },
   "outputs": [
    {
     "name": "stdout",
     "output_type": "stream",
     "text": [
      "[1941. 1942. 1943. 1944. 1945. 1946. 1947. 1948. 1949. 1950. 1951. 1952.\n",
      " 1953. 1954. 1955. 1956. 1957. 1958. 1959. 1960. 1961. 1962. 1963. 1964.\n",
      " 1965. 1966. 1967. 1968. 1969. 1970. 1971. 1972. 1973. 1974. 1975. 1976.\n",
      " 1977. 1978. 1979. 1980. 1981. 1982. 1983. 1984. 1985. 1986. 1987. 1988.\n",
      " 1989. 1990. 1991. 1992. 1993. 1994. 1995. 1996. 1997. 1998. 1999. 2000.]\n"
     ]
    }
   ],
   "source": [
    "# Estimation of historical years\n",
    "\n",
    "## Index for 2000 year\n",
    "k2000 = 0\n",
    "for k in range(0, len(klower_data_years)):\n",
    "    if klower_data_years[k] < 2000:\n",
    "        k2000 += 1\n",
    "\n",
    "## Historical years\n",
    "historical_years = np.zeros(k2000 + 1)\n",
    "for k in range(0, k2000 + 1):\n",
    "    historical_years[k] = klower_data_years[k]\n",
    "print(historical_years)"
   ]
  },
  {
   "cell_type": "code",
   "execution_count": 4,
   "id": "a5e85730-b1dc-4333-9f2a-caa751a9c2a6",
   "metadata": {
    "tags": []
   },
   "outputs": [
    {
     "name": "stdout",
     "output_type": "stream",
     "text": [
      "[ 37.43937211  40.4319568   43.67036095  47.16527237  50.93806664\n",
      "  55.01011939  59.41349401  64.15887832  69.29971131  74.835993\n",
      "  80.8318502   87.2979707   94.27710572 101.82269428 109.96679977\n",
      " 118.76286121 128.26431762 138.52460801 149.60785919 161.57819797\n",
      " 177.27857982 195.234088   206.0073929  215.43403469 230.24732894\n",
      " 249.53881242 294.42758286 333.47012534 349.18119499 350.0789704\n",
      " 360.45682661 379.01085173 392.26372681 379.59868086 379.88725153\n",
      " 380.63539771 403.400417   417.23043341 431.74446919 434.77245189\n",
      " 427.40983851 432.91153447 440.22686501 469.60301691 484.44307341\n",
      " 511.61381864 535.1336533  561.07166739 584.25039015 587.41834031\n",
      " 568.07965948 569.39682426 572.5039822  599.8131986  614.41684091\n",
      " 642.22590446 661.7807354  674.83079874 696.59779104 728.586936  ]\n"
     ]
    }
   ],
   "source": [
    "# Estimation of historical CO2 emissions\n",
    "\n",
    "## Correction of CO2 emissions (commercial scope and life cycle emissions)\n",
    "difference_coefficient = np.zeros(len(klower_data_years) - k2000)\n",
    "for k in range(0, len(klower_data_years) - k2000):\n",
    "    difference_coefficient[k] = aeromaps_data_co2[k + k2000] / klower_data_co2[k + k2000]\n",
    "mean_difference_coefficient = np.mean(difference_coefficient)\n",
    "\n",
    "## Historical CO2 emissions\n",
    "historical_co2_emissions = np.zeros(k2000 + 1)\n",
    "for k in range(0, k2000):\n",
    "    historical_co2_emissions[k] = klower_data_co2[k] * mean_difference_coefficient\n",
    "historical_co2_emissions[k2000] = aeromaps_data_co2[k2000]\n",
    "print(historical_co2_emissions)"
   ]
  },
  {
   "cell_type": "code",
   "execution_count": 5,
   "id": "09ba94db-65c5-4382-ba0e-38a6640b8b9d",
   "metadata": {
    "tags": []
   },
   "outputs": [
    {
     "name": "stdout",
     "output_type": "stream",
     "text": [
      "[4.27878538e+11 4.62079506e+11 4.99089839e+11 5.39031684e+11\n",
      " 5.82149333e+11 6.28687079e+11 6.79011360e+11 7.33244324e+11\n",
      " 7.91996701e+11 8.55268491e+11 9.23792574e+11 9.97691094e+11\n",
      " 1.07745264e+12 1.16368793e+12 1.25676343e+12 1.35728984e+12\n",
      " 1.46587792e+12 1.58313838e+12 1.70980410e+12 1.84660798e+12\n",
      " 2.02604091e+12 2.23124672e+12 2.35437020e+12 2.46210325e+12\n",
      " 2.63139804e+12 2.85187214e+12 3.36488666e+12 3.81108715e+12\n",
      " 3.99064223e+12 4.00090252e+12 4.11950659e+12 4.33155259e+12\n",
      " 4.48301402e+12 4.33827064e+12 4.34156859e+12 4.35011883e+12\n",
      " 4.61029048e+12 4.76834781e+12 4.93422251e+12 4.96882802e+12\n",
      " 4.88468387e+12 4.94756039e+12 5.03116417e+12 5.36689162e+12\n",
      " 5.53649227e+12 5.84701507e+12 6.11581318e+12 6.41224763e+12\n",
      " 6.67714732e+12 6.71335246e+12 6.49233897e+12 6.50739228e+12\n",
      " 6.54290265e+12 6.85500798e+12 7.02190675e+12 7.33972462e+12\n",
      " 7.56320840e+12 7.71235199e+12 7.96111761e+12 8.32670784e+12]\n"
     ]
    }
   ],
   "source": [
    "# Estimation of historical energy consumption\n",
    "\n",
    "co2_emission_factor = 87.5  # [gCO2/MJ] including life cycle\n",
    "historical_energy_consumption = historical_co2_emissions / (\n",
    "    co2_emission_factor * 10 ** (-12)\n",
    ")  # [MJ]\n",
    "print(historical_energy_consumption)"
   ]
  },
  {
   "cell_type": "code",
   "execution_count": 6,
   "id": "3c33cbe5-77d9-4559-801c-8395e671354e",
   "metadata": {
    "tags": []
   },
   "outputs": [
    {
     "name": "stdout",
     "output_type": "stream",
     "text": [
      "[0.14722912 0.15899736 0.17173228 0.1854759  0.20031229 0.21632551\n",
      " 0.23364164 0.25230271 0.27251886 0.29429011 0.31786863 0.34329644\n",
      " 0.37074166 0.40041444 0.43244087 0.4670311  0.50439526 0.54474352\n",
      " 0.58832805 0.63540102 0.69714226 0.76775171 0.81011738 0.84718735\n",
      " 0.90544015 0.98130328 1.15782691 1.31136044 1.37314371 1.37667418\n",
      " 1.41748477 1.49044787 1.54256437 1.49275949 1.49389428 1.49683634\n",
      " 1.58635904 1.64074513 1.69782111 1.70972855 1.68077531 1.70241055\n",
      " 1.73117785 1.84669862 1.90505666 2.01190473 2.10439572 2.20639612\n",
      " 2.29754569 2.31000355 2.23395482 2.23913452 2.25135332 2.35874593\n",
      " 2.41617428 2.52553252 2.60243126 2.65375021 2.7393482  2.86514447]\n"
     ]
    }
   ],
   "source": [
    "# Estimation of historical non-CO2 emissions\n",
    "\n",
    "lhv_kerosene = 44  # [MJ/kg]\n",
    "emission_index_nox = 0.01514\n",
    "emission_index_h2o = 1.231\n",
    "emission_index_soot = 3e-5\n",
    "emission_index_sulfur = 0.0012\n",
    "historical_nox_emissions = (\n",
    "    emission_index_nox * historical_energy_consumption / lhv_kerosene * 10 ** (-9)\n",
    ")\n",
    "historical_h2o_emissions = (\n",
    "    emission_index_h2o * historical_energy_consumption / lhv_kerosene * 10 ** (-9)\n",
    ")\n",
    "historical_soot_emissions = (\n",
    "    emission_index_soot * historical_energy_consumption / lhv_kerosene * 10 ** (-9)\n",
    ")\n",
    "historical_sulfur_emissions = (\n",
    "    emission_index_sulfur * historical_energy_consumption / lhv_kerosene * 10 ** (-9)\n",
    ")\n",
    "print(historical_nox_emissions)"
   ]
  },
  {
   "cell_type": "code",
   "execution_count": 7,
   "id": "3e459a9c-2b5b-40b6-8f33-26451b9f142b",
   "metadata": {
    "tags": []
   },
   "outputs": [
    {
     "name": "stdout",
     "output_type": "stream",
     "text": [
      "[8.05152506e+08 8.69509543e+08 9.39153052e+08 1.01431288e+09\n",
      " 1.09544871e+09 1.18302025e+09 1.27771704e+09 1.37976891e+09\n",
      " 1.49032511e+09 1.60938563e+09 1.73832955e+09 1.87738672e+09\n",
      " 2.02747652e+09 2.18974819e+09 2.36489127e+09 2.55405499e+09\n",
      " 2.75838859e+09 2.97904129e+09 3.21739217e+09 3.47482032e+09\n",
      " 3.81246492e+09 4.19860714e+09 4.43029248e+09 4.63301715e+09\n",
      " 4.95158448e+09 5.36645753e+09 6.33181308e+09 7.17144258e+09\n",
      " 7.50931702e+09 7.52862413e+09 7.75180514e+09 8.15081877e+09\n",
      " 8.43582851e+09 8.16346034e+09 8.16966619e+09 8.18575545e+09\n",
      " 8.67532863e+09 8.97275008e+09 9.28488171e+09 9.35000000e+09\n",
      " 9.11300000e+09 9.14000000e+09 9.39500000e+09 1.01020000e+10\n",
      " 1.05980000e+10 1.14910000e+10 1.22660000e+10 1.30170000e+10\n",
      " 1.34930000e+10 1.43710000e+10 1.42620000e+10 1.56900000e+10\n",
      " 1.71180000e+10 1.82490000e+10 1.94700000e+10 2.06010000e+10\n",
      " 2.16300000e+10 2.24380000e+10 2.37420000e+10 2.59815560e+10]\n"
     ]
    }
   ],
   "source": [
    "# Estimation of distance before 1980\n",
    "\n",
    "## Index for 1980 year\n",
    "k1980 = 0\n",
    "for k in range(0, len(klower_data_years)):\n",
    "    if klower_data_years[k] < 1980:\n",
    "        k1980 += 1\n",
    "\n",
    "## Conversion from million kilometer to kilometer\n",
    "klower_data_distance = klower_data_distance * 10**6\n",
    "\n",
    "## Correction of distance\n",
    "distance_coefficient = klower_data_distance[k1980] / klower_data_co2[k1980]\n",
    "historical_distance = np.zeros(k2000 + 1)\n",
    "for k in range(0, k1980):\n",
    "    historical_distance[k] = klower_data_co2[k] * distance_coefficient\n",
    "for k in range(k1980, k2000 + 1):\n",
    "    historical_distance[k] = klower_data_distance[k]\n",
    "print(historical_distance)"
   ]
  },
  {
   "cell_type": "code",
   "execution_count": 8,
   "id": "0044fede-aaf9-4176-a35f-ee385b5f5a94",
   "metadata": {
    "tags": []
   },
   "outputs": [],
   "source": [
    "# Historical dataset\n",
    "\n",
    "historical_dataset = np.zeros((k2000 + 1, 7))\n",
    "for k in range(0, k2000 + 1):\n",
    "    historical_dataset[k, 0] = historical_years[k]\n",
    "    historical_dataset[k, 1] = historical_co2_emissions[k]\n",
    "    historical_dataset[k, 2] = historical_nox_emissions[k]\n",
    "    historical_dataset[k, 3] = historical_h2o_emissions[k]\n",
    "    historical_dataset[k, 4] = historical_soot_emissions[k]\n",
    "    historical_dataset[k, 5] = historical_sulfur_emissions[k]\n",
    "    historical_dataset[k, 6] = historical_distance[k]\n",
    "\n",
    "np.savetxt(\"temperature_historical_dataset.csv\", historical_dataset, delimiter=\";\")"
   ]
  },
  {
   "cell_type": "code",
   "execution_count": null,
   "id": "dce646df-b341-4ffb-83b5-b12de7a960f4",
   "metadata": {},
   "outputs": [],
   "source": []
  }
 ],
 "metadata": {
  "kernelspec": {
   "display_name": "Python 3 (ipykernel)",
   "language": "python",
   "name": "python3"
  },
  "language_info": {
   "codemirror_mode": {
    "name": "ipython",
    "version": 3
   },
   "file_extension": ".py",
   "mimetype": "text/x-python",
   "name": "python",
   "nbconvert_exporter": "python",
   "pygments_lexer": "ipython3",
   "version": "3.8.18"
  }
 },
 "nbformat": 4,
 "nbformat_minor": 5
}
