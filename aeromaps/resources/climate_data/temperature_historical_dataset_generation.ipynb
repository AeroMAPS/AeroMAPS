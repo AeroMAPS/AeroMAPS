{
 "cells": [
  {
   "cell_type": "markdown",
   "id": "4cacbf1c-3c31-4cc9-93b2-85d244b6e599",
   "metadata": {},
   "source": [
    "# Generation of the historical dataset for temperature estimation"
   ]
  },
  {
   "cell_type": "code",
   "execution_count": null,
   "id": "3cfcc63c-9450-4c87-9741-9080a19da728",
   "metadata": {
    "tags": []
   },
   "outputs": [],
   "source": [
    "import numpy as np\n",
    "from pandas import read_csv"
   ]
  },
  {
   "cell_type": "code",
   "execution_count": null,
   "id": "8b33ce64-58ff-4657-b73b-f4c8875ef96d",
   "metadata": {
    "tags": []
   },
   "outputs": [],
   "source": [
    "# Recovery of historical data from Klower et al. and Lee et al.\n",
    "\n",
    "klower_data_df = read_csv(\"historical_data_from_klower.csv\", delimiter=\";\")\n",
    "klower_data = klower_data_df.values\n",
    "klower_data_years = klower_data[:, 0]\n",
    "klower_data_co2 = klower_data[:, 1]\n",
    "klower_data_distance = klower_data[:, 2]\n",
    "aeromaps_data_co2 = klower_data[:, 3]\n",
    "\n",
    "print(klower_data_years)"
   ]
  },
  {
   "cell_type": "code",
   "execution_count": null,
   "id": "0cfe6008-898a-443c-b447-8da10fcd0e35",
   "metadata": {
    "tags": []
   },
   "outputs": [],
   "source": [
    "# Estimation of historical years\n",
    "\n",
    "## Index for 2000 year\n",
    "k2000 = 0\n",
    "for k in range(0, len(klower_data_years)):\n",
    "    if klower_data_years[k] < 2000:\n",
    "        k2000 += 1\n",
    "\n",
    "## Historical years\n",
    "historical_years = np.zeros(k2000 + 1)\n",
    "for k in range(0, k2000 + 1):\n",
    "    historical_years[k] = klower_data_years[k]\n",
    "print(historical_years)"
   ]
  },
  {
   "cell_type": "code",
   "execution_count": null,
   "id": "a5e85730-b1dc-4333-9f2a-caa751a9c2a6",
   "metadata": {
    "tags": []
   },
   "outputs": [],
   "source": [
    "# Estimation of historical CO2 emissions\n",
    "\n",
    "## Correction of CO2 emissions (commercial scope and life cycle emissions)\n",
    "difference_coefficient = np.zeros(len(klower_data_years) - k2000)\n",
    "for k in range(0, len(klower_data_years) - k2000):\n",
    "    difference_coefficient[k] = aeromaps_data_co2[k + k2000] / klower_data_co2[k + k2000]\n",
    "mean_difference_coefficient = np.mean(difference_coefficient)\n",
    "\n",
    "## Historical CO2 emissions\n",
    "historical_co2_emissions = np.zeros(k2000 + 1)\n",
    "for k in range(0, k2000):\n",
    "    historical_co2_emissions[k] = klower_data_co2[k] * mean_difference_coefficient\n",
    "historical_co2_emissions[k2000] = aeromaps_data_co2[k2000]\n",
    "print(historical_co2_emissions)"
   ]
  },
  {
   "cell_type": "code",
   "execution_count": null,
   "id": "09ba94db-65c5-4382-ba0e-38a6640b8b9d",
   "metadata": {
    "tags": []
   },
   "outputs": [],
   "source": [
    "# Estimation of historical energy consumption\n",
    "\n",
    "co2_emission_factor = 88.7  # [gCO2/MJ] including life cycle\n",
    "historical_energy_consumption = historical_co2_emissions / (\n",
    "    co2_emission_factor * 10 ** (-12)\n",
    ")  # [MJ]\n",
    "print(historical_energy_consumption)"
   ]
  },
  {
   "cell_type": "code",
   "execution_count": null,
   "id": "3c33cbe5-77d9-4559-801c-8395e671354e",
   "metadata": {
    "tags": []
   },
   "outputs": [],
   "source": [
    "# Estimation of historical non-CO2 emissions\n",
    "\n",
    "lhv_kerosene = 44  # [MJ/kg]\n",
    "emission_index_nox = 0.01514\n",
    "emission_index_h2o = 1.231\n",
    "emission_index_soot = 3e-5\n",
    "emission_index_sulfur = 0.0012\n",
    "historical_nox_emissions = (\n",
    "    emission_index_nox * historical_energy_consumption / lhv_kerosene * 10 ** (-9)\n",
    ")\n",
    "historical_h2o_emissions = (\n",
    "    emission_index_h2o * historical_energy_consumption / lhv_kerosene * 10 ** (-9)\n",
    ")\n",
    "historical_soot_emissions = (\n",
    "    emission_index_soot * historical_energy_consumption / lhv_kerosene * 10 ** (-9)\n",
    ")\n",
    "historical_sulfur_emissions = (\n",
    "    emission_index_sulfur * historical_energy_consumption / lhv_kerosene * 10 ** (-9)\n",
    ")\n",
    "print(historical_nox_emissions)"
   ]
  },
  {
   "cell_type": "code",
   "execution_count": null,
   "id": "3e459a9c-2b5b-40b6-8f33-26451b9f142b",
   "metadata": {
    "tags": []
   },
   "outputs": [],
   "source": [
    "# Estimation of distance before 1980\n",
    "\n",
    "## Index for 1980 year\n",
    "k1980 = 0\n",
    "for k in range(0, len(klower_data_years)):\n",
    "    if klower_data_years[k] < 1980:\n",
    "        k1980 += 1\n",
    "\n",
    "## Conversion from million kilometer to kilometer\n",
    "klower_data_distance = klower_data_distance * 10**6\n",
    "\n",
    "## Correction of distance\n",
    "distance_coefficient = klower_data_distance[k1980] / klower_data_co2[k1980]\n",
    "historical_distance = np.zeros(k2000 + 1)\n",
    "for k in range(0, k1980):\n",
    "    historical_distance[k] = klower_data_co2[k] * distance_coefficient\n",
    "for k in range(k1980, k2000 + 1):\n",
    "    historical_distance[k] = klower_data_distance[k]\n",
    "print(historical_distance)"
   ]
  },
  {
   "cell_type": "code",
   "execution_count": null,
   "id": "0044fede-aaf9-4176-a35f-ee385b5f5a94",
   "metadata": {
    "tags": []
   },
   "outputs": [],
   "source": [
    "# Historical dataset\n",
    "\n",
    "historical_dataset = np.zeros((k2000 + 1, 7))\n",
    "for k in range(0, k2000 + 1):\n",
    "    historical_dataset[k, 0] = historical_years[k]\n",
    "    historical_dataset[k, 1] = historical_co2_emissions[k]\n",
    "    historical_dataset[k, 2] = historical_nox_emissions[k]\n",
    "    historical_dataset[k, 3] = historical_h2o_emissions[k]\n",
    "    historical_dataset[k, 4] = historical_soot_emissions[k]\n",
    "    historical_dataset[k, 5] = historical_sulfur_emissions[k]\n",
    "    historical_dataset[k, 6] = historical_distance[k]\n",
    "\n",
    "np.savetxt(\"temperature_historical_dataset.csv\", historical_dataset, delimiter=\";\")"
   ]
  },
  {
   "cell_type": "code",
   "execution_count": null,
   "id": "dce646df-b341-4ffb-83b5-b12de7a960f4",
   "metadata": {},
   "outputs": [],
   "source": []
  }
 ],
 "metadata": {
  "kernelspec": {
   "display_name": "Python 3 (ipykernel)",
   "language": "python",
   "name": "python3"
  },
  "language_info": {
   "codemirror_mode": {
    "name": "ipython",
    "version": 3
   },
   "file_extension": ".py",
   "mimetype": "text/x-python",
   "name": "python",
   "nbconvert_exporter": "python",
   "pygments_lexer": "ipython3",
   "version": "3.8.18"
  }
 },
 "nbformat": 4,
 "nbformat_minor": 5
}
