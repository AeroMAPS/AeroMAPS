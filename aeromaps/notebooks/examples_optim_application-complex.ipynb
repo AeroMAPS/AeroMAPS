{
 "cells": [
  {
   "cell_type": "markdown",
   "id": "23c89ead-e80d-4557-bc08-3ce5465005f9",
   "metadata": {},
   "source": [
    "Notebook for Optim application. Notebook for supplementary material of a submitted publication. \n",
    "\n",
    "### Imports and settings"
   ]
  },
  {
   "cell_type": "code",
   "execution_count": 1,
   "id": "f479de1f-5757-45d7-b718-03ea76b4851f",
   "metadata": {
    "tags": []
   },
   "outputs": [
    {
     "data": {
      "text/plain": [
       "<RootLogger root (INFO)>"
      ]
     },
     "execution_count": 1,
     "metadata": {},
     "output_type": "execute_result"
    }
   ],
   "source": [
    "import matplotlib.pyplot as plt\n",
    "import pandas as pd\n",
    "import numpy as np\n",
    "import json\n",
    "\n",
    "\n",
    "%matplotlib widget\n",
    "import time\n",
    "import numpy as np\n",
    "from aeromaps import create_process\n",
    "from aeromaps.core.models import (\n",
    "    models_optim_complex,\n",
    ")\n",
    "\n",
    "\n",
    "import gemseo as gm\n",
    "gm.configure_logger()"
   ]
  },
  {
   "cell_type": "markdown",
   "id": "927e248c-3b8e-4850-91f3-88f57d09f94e",
   "metadata": {},
   "source": [
    "# 1- Scenario initialisation and settings\n",
    "\n",
    "The first phase corresponds to running a first, central scenario with AeroMAPS. Other runs ar performed afterwards."
   ]
  },
  {
   "cell_type": "code",
   "execution_count": 2,
   "id": "95709522-84bd-44a0-a63a-7374c6aeea65",
   "metadata": {
    "tags": []
   },
   "outputs": [],
   "source": [
    "from aeromaps.utils.functions import create_partitioning"
   ]
  },
  {
   "cell_type": "code",
   "execution_count": 3,
   "id": "46971271-e2f4-442a-ba03-11c4398a9058",
   "metadata": {
    "tags": []
   },
   "outputs": [],
   "source": [
    "create_partitioning(file=\"data_optim/aeroscope_europe_data.csv\", path=\"data_optim\")"
   ]
  },
  {
   "cell_type": "markdown",
   "id": "221c45a8-b4b1-4650-a767-b32210de8098",
   "metadata": {},
   "source": [
    "## 2. Run AeroMAPS on this studied scope"
   ]
  },
  {
   "cell_type": "code",
   "execution_count": 4,
   "id": "60e7a4d4-bd84-44d9-b649-aa0e8c86b1a1",
   "metadata": {
    "tags": []
   },
   "outputs": [],
   "source": [
    "%matplotlib widget\n",
    "from aeromaps import create_process\n",
    "from aeromaps.core.models import default_models_top_down"
   ]
  },
  {
   "cell_type": "code",
   "execution_count": 5,
   "id": "2cc981cb-d0b9-41e8-99a8-912fec7d7d58",
   "metadata": {
    "tags": []
   },
   "outputs": [
    {
     "data": {
      "text/plain": [
       "<aeromaps.models.impacts.costs.airlines.total_airline_cost_and_airfare.PassengerAircraftTotalCostAirfare at 0x2362cf0b430>"
      ]
     },
     "execution_count": 5,
     "metadata": {},
     "output_type": "execute_result"
    }
   ],
   "source": [
    "models = {\n",
    "    \"models_optim_complex\": models_optim_complex,\n",
    "}\n",
    "models['models_optim_complex']['default_models_top_down']['models_traffic'].pop('rpk')\n",
    "models['models_optim_complex']['default_models_top_down']['models_operation_cost_top_down'].pop('passenger_aircraft_total_cost_and_airfare')\n"
   ]
  },
  {
   "cell_type": "markdown",
   "id": "b397a078-2985-406d-bee8-55afd2568261",
   "metadata": {},
   "source": [
    "Create process as usual, the partitionning is recuperated as specified in the config file."
   ]
  },
  {
   "cell_type": "code",
   "execution_count": 6,
   "id": "1f086770-d53a-44f3-97d0-336fd7a40cac",
   "metadata": {
    "tags": []
   },
   "outputs": [],
   "source": [
    "process = create_process(\n",
    "    configuration_file=\"data_optim/config.json\",\n",
    "    models=models,\n",
    "    use_fleet_model=False\n",
    ")"
   ]
  },
  {
   "cell_type": "markdown",
   "id": "0ef8e51e-dd99-4707-b2ae-86fc8d9a8e5e",
   "metadata": {
    "tags": []
   },
   "source": [
    "## 1-a) Air traffic evolution\n",
    "\n",
    "As of April 2024, AeroMAPS is considering an exgenous growth rate.\n",
    "For the purposes of this article, an uniform growth rate of 3% is set. This is significantly lower from industry prospects such as [Airbus GMF: 3.6%](https://www.airbus.com/en/products-services/commercial-aircraft/market/global-market-forecast) or [Boeing CMO: 3.8%](https://www.boeing.com/content/dam/boeing/boeingdotcom/market/assets/downloads/CMO_2022_Report_FINAL_v02.pdf), but higher than [IEA Net Zero: 2.1% (2019 as base year)](https://www.iea.org/reports/net-zero-roadmap-a-global-pathway-to-keep-the-15-0c-goal-in-reach).\n"
   ]
  },
  {
   "cell_type": "code",
   "execution_count": 7,
   "id": "a5f79996-e6ef-4434-8844-11a93122c3f2",
   "metadata": {
    "tags": []
   },
   "outputs": [],
   "source": [
    "## Growth rate by category [%]\n",
    "process.parameters.cagr_passenger_short_range_reference_periods = []\n",
    "process.parameters.cagr_passenger_short_range_reference_periods_values = [1.0]\n",
    "process.parameters.cagr_passenger_medium_range_reference_periods = []\n",
    "process.parameters.cagr_passenger_medium_range_reference_periods_values = [1.0]\n",
    "process.parameters.cagr_passenger_long_range_reference_periods = []\n",
    "process.parameters.cagr_passenger_long_range_reference_periods_values = [1.0]\n",
    "process.parameters.cagr_freight_reference_periods = []\n",
    "process.parameters.cagr_freight_reference_periods_values = [1.0]\n",
    "process.parameters.reference_cagr_aviation_reference_periods= []\n",
    "process.parameters.reference_cagr_aviation_reference_periods_values= [1.0]"
   ]
  },
  {
   "cell_type": "markdown",
   "id": "99ad83c8-eb43-46a2-968b-e495905b9cd2",
   "metadata": {
    "tags": []
   },
   "source": [
    "## 1-b) Aircraft fleet\n",
    "\n",
    "Top-down fleet, without hydrogen aircraft, callibrated on the fleet of the MACC applciation, with drop-in instead of h2  \n",
    "http://localhost:8888/lab/tree/aeromaps/notebooks/data_cost/top_down_cost_callibration_phd.ipynb\n",
    "\n",
    "Mean annual efficiency improvement: 1.4% --> applied to all catgeories"
   ]
  },
  {
   "cell_type": "code",
   "execution_count": 8,
   "id": "118fe016-9846-4a2a-918e-5e8f300dea99",
   "metadata": {
    "tags": []
   },
   "outputs": [],
   "source": [
    "process.parameters.energy_per_ask_short_range_dropin_fuel_gain_reference_years = []\n",
    "process.parameters.energy_per_ask_short_range_dropin_fuel_gain_reference_years_values = [1.4]\n",
    "process.parameters.energy_per_ask_medium_range_dropin_fuel_gain_reference_years = []\n",
    "process.parameters.energy_per_ask_medium_range_dropin_fuel_gain_reference_years_values = [1.4]\n",
    "process.parameters.energy_per_ask_long_range_dropin_fuel_gain_reference_years = []\n",
    "process.parameters.energy_per_ask_long_range_dropin_fuel_gain_reference_years_values = [1.4]\n",
    "\n",
    "## Hydrogen aircraft\n",
    "# NONE"
   ]
  },
  {
   "cell_type": "markdown",
   "id": "deb4792a-411b-45d9-9fd2-b97bb85a9d7c",
   "metadata": {},
   "source": [
    "### 1-c) Operational improvements\n",
    "\n",
    "Operational improvements are considered via two opportunities. \n",
    "- Load factor improvement: improvement to 89% at the end of the scenario.\n",
    "- Operational efficiency (better ATM, aircrfat MRO and operational optimisation): improvement of 8% in 25y. \n",
    "\n",
    "Cost savings incur through the fuel savings. However, it could come at an extra cost (non-energy). This parameter is modelled, but not considered in this article due to lack of specific informations to the best of our knowldege.\n"
   ]
  },
  {
   "cell_type": "code",
   "execution_count": 9,
   "id": "ab476bc9-f507-4bd4-9335-1002d2977a90",
   "metadata": {
    "tags": []
   },
   "outputs": [],
   "source": [
    "process.parameters.load_factor_end_year = 89.0  # 2019 value: 82.399312"
   ]
  },
  {
   "cell_type": "code",
   "execution_count": 10,
   "id": "4349dc55-808c-4ebe-a493-7210032b3fb8",
   "metadata": {
    "tags": []
   },
   "outputs": [],
   "source": [
    "# Aircraft fleet and operation evolution - Operations\n",
    "\n",
    "## Values for setting the logistic function\n",
    "process.parameters.operations_final_gain = 8.0  # [%]\n",
    "process.parameters.operations_start_year = 2025\n",
    "process.parameters.operations_duration = 25.0"
   ]
  },
  {
   "cell_type": "markdown",
   "id": "4e060f89-e3c6-43a8-bc64-61399941760a",
   "metadata": {},
   "source": [
    "## 1-d) Energy\n",
    "\n",
    "Top-down callibrated on the values of teh MACC apllication.\n",
    "Faster optim but caution as MFSP full computation is more detailled: larges use of e-fuel in the begining influence late mFSp (no-decomissioning)"
   ]
  },
  {
   "cell_type": "code",
   "execution_count": 11,
   "id": "3d71b69d-b5c6-4607-b760-7930973671b9",
   "metadata": {
    "slideshow": {
     "slide_type": "subslide"
    },
    "tags": []
   },
   "outputs": [],
   "source": [
    "# # Energy settings: production choices\n",
    "\n",
    "# # Aircraft energy - Introduction of alternative drop-in fuels\n",
    "\n",
    "# ## Share of alternative fuels in the drop-in fuel mix (the rest being supplemented by kerosene) [%]\n",
    "process.parameters.biofuel_share_reference_years = [2030, 2035, 2040, 2045, 2050]\n",
    "process.parameters.biofuel_share_reference_years_values = np.array([4.8, 15, 24, 27, 35])\n",
    "process.parameters.electrofuel_share_reference_years = [2030, 2035, 2040, 2045, 2050]\n",
    "process.parameters.electrofuel_share_reference_years_values = np.array([1.2, 5, 10, 15, 35])\n",
    "\n",
    "\n",
    "## Share of biofuel production pathways (the rest being completed by AtJ processes) [%]\n",
    "process.parameters.biofuel_hefa_fog_share_reference_years = []\n",
    "process.parameters.biofuel_hefa_fog_share_reference_years_values = [0.6]\n",
    "process.parameters.biofuel_hefa_others_share_reference_years = []\n",
    "process.parameters.biofuel_hefa_others_share_reference_years_values = [12.5]\n",
    "process.parameters.biofuel_ft_others_share_reference_years = []\n",
    "process.parameters.biofuel_ft_others_share_reference_years_values = [68.9]\n",
    "process.parameters.biofuel_ft_msw_share_reference_years = []\n",
    "process.parameters.biofuel_ft_msw_share_reference_years_values = [6.6]\n"
   ]
  },
  {
   "cell_type": "code",
   "execution_count": 12,
   "id": "bf9baeef-47b6-4af0-9bf2-833e39ec3477",
   "metadata": {
    "slideshow": {
     "slide_type": "subslide"
    },
    "tags": []
   },
   "outputs": [],
   "source": [
    "process.parameters.biofuel_hefa_fog_mfsp_simple_reference_years = []\n",
    "process.parameters.biofuel_hefa_fog_mfsp_simple_reference_years_values = [0.815488]\n",
    "process.parameters.biofuel_hefa_others_mfsp_simple_reference_years = []\n",
    "process.parameters.biofuel_hefa_others_mfsp_simple_reference_years_values = [1.052703]\n",
    "process.parameters.biofuel_ft_others_mfsp_simple_reference_years = []\n",
    "process.parameters.biofuel_ft_others_mfsp_simple_reference_years_values = [1.378082]\n",
    "process.parameters.biofuel_ft_msw_mfsp_simple_reference_years = []\n",
    "process.parameters.biofuel_ft_msw_mfsp_simple_reference_years_values = [1.142423]\n",
    "process.parameters.biofuel_atj_mfsp_simple_reference_years = []\n",
    "process.parameters.biofuel_atj_mfsp_simple_reference_years_values = [1.38668]\n",
    "\n",
    "process.parameters.electrofuel_mfsp_simple_reference_years = [\n",
    "    2020, 2021, 2022, 2023, 2024, 2025, 2026, 2027, 2028, 2029, 2030,\n",
    "    2031, 2032, 2033, 2034, 2035, 2036, 2037, 2038, 2039, 2040, 2041,\n",
    "    2042, 2043, 2044, 2045, 2046, 2047, 2048, 2049, 2050\n",
    "]\n",
    "process.parameters.electrofuel_mfsp_simple_reference_years_values = [\n",
    "    3.720546, 3.720546, 3.720546, 3.720546, 3.720546, 3.720546, 3.720546,\n",
    "    3.573659, 3.426978, 3.277308, 3.130003, 3.095717, 3.062247, 3.029682,\n",
    "    2.998903, 2.971869, 2.946851, 2.923276, 2.901135, 2.882374, 2.866464,\n",
    "    2.852876, 2.841350, 2.829845, 2.807006, 2.774737, 2.737160, 2.698305,\n",
    "    2.660365, 2.624329, 2.590476\n",
    "]\n",
    "\n",
    "# Enerdata scenario europe-specific data (https://eneroutlook.enerdata.net/forecast-world-co2-intensity-of-electricity-generation.html)\n",
    "process.parameters.electricity_emission_factor_reference_years = [2020, 2025, 2030, 2035, 2040, 2045, 2050]\n",
    "process.parameters.electricity_emission_factor_reference_years_values = [205, 175, 92, 47, 31, 19, 12]\n",
    "\n",
    "# Optimisation parameters\n",
    "europe_ask_share = 15.49 / 100\n",
    "\n",
    "process.parameters.aviation_carbon_budget_objective = 2.6 * europe_ask_share # --> sensitivity 4.8\n",
    "\n",
    "process.parameters.biomass_availability_constraint_trajectory_reference_years = [2020, 2030, 2040, 2050]\n",
    "process.parameters.biomass_availability_constraint_trajectory_reference_years_values = [62.8 * europe_ask_share, 72.1 * europe_ask_share, 97.8 * europe_ask_share, 101.8 * europe_ask_share]\n",
    "\n",
    "process.parameters.electricity_availability_constraint_trajectory_reference_years = [2020, 2030, 2040, 2050]\n",
    "process.parameters.electricity_availability_constraint_trajectory_reference_years_values = [102.0456 * europe_ask_share, 137.5452 * europe_ask_share, 212.7996 * europe_ask_share, 276.6168 * europe_ask_share]\n",
    "\n",
    "process.parameters.volume_ramp_up_constraint_biofuel = 0.2 * europe_ask_share\n",
    "process.parameters.rate_ramp_up_constraint_biofuel = 0.2\n",
    "\n",
    "process.parameters.volume_ramp_up_constraint_electrofuel = 0.2 * europe_ask_share\n",
    "process.parameters.rate_ramp_up_constraint_electrofuel = 0.2\n"
   ]
  },
  {
   "cell_type": "markdown",
   "id": "58589dd8-11d2-435a-bf7c-9d3cc70676b4",
   "metadata": {},
   "source": [
    "## 1-e) Other process.parameters "
   ]
  },
  {
   "cell_type": "markdown",
   "id": "0fc38e2c-be44-49a1-bbbb-97b53c0e4551",
   "metadata": {
    "tags": []
   },
   "source": [
    "Downscaling not automatic"
   ]
  },
  {
   "cell_type": "code",
   "execution_count": 13,
   "id": "a4148162-d43f-4053-ab13-aece0381b050",
   "metadata": {
    "slideshow": {
     "slide_type": "subslide"
    },
    "tags": []
   },
   "outputs": [],
   "source": [
    "# Environmental limits\n",
    "\n",
    "## Carbon budgets and Carbon Dioxide Removal [GtCO2]\n",
    "process.parameters.net_carbon_budget = 850.0\n",
    "process.parameters.carbon_dioxyde_removal_2100 = 285.0"
   ]
  },
  {
   "cell_type": "code",
   "execution_count": 14,
   "id": "8e8bcda3-8aad-4f27-b1ae-6277fbc7f63a",
   "metadata": {
    "slideshow": {
     "slide_type": "subslide"
    },
    "tags": []
   },
   "outputs": [],
   "source": [
    "# Allocation settings\n",
    "\n",
    "## Aviation share of the global (equivalent) carbon budget [%]\n",
    "process.parameters.aviation_carbon_budget_allocated_share = 2.6\n",
    "process.parameters.aviation_equivalentcarbonbudget_allocated_share = 5.1\n",
    "\n",
    "## Aviation share of the global energy resources (biomass and electricity) [%]\n",
    "process.parameters.aviation_biomass_allocated_share = 9.90\n",
    "process.parameters.aviation_electricity_allocated_share = 5.0"
   ]
  },
  {
   "cell_type": "code",
   "execution_count": 15,
   "id": "2005dd28-609d-447c-b533-07acbc065996",
   "metadata": {},
   "outputs": [],
   "source": [
    "process.parameters.price_elasticity = -0.9"
   ]
  },
  {
   "cell_type": "code",
   "execution_count": 16,
   "id": "f7356f18-22e3-43e1-93d5-2a4f96addb05",
   "metadata": {},
   "outputs": [],
   "source": [
    "# magic_method_view=[]\n",
    "# magic_rpk=[]\n",
    "\n",
    "# import pandas as pd\n",
    "# magic_method_view.append(0.092949239)\n",
    "\n",
    "\n",
    "# process.parameters.airfare_per_rpk=pd.Series(0.092949239, index=range(2000,2051))\n",
    "\n",
    "                         \n",
    "# process.setup()\n",
    "# process.compute()\n",
    "# process.parameters.airfare_per_rpk.loc[2025:2050]=process.vector_outputs_df['airfare_per_rpk'].loc[2025:2050]\n",
    "# # magic_method_view.append(process.vector_outputs_df['airfare_per_rpk'].loc[2050])\n",
    "# # magic_rpk.append(process.vector_outputs_df['rpk_no_elasticity'].loc[2050])\n",
    "# # magic_rpk.append(process.vector_outputs_df['rpk'].loc[2050])\n",
    "\n",
    "# process.setup()\n",
    "# process.compute()\n",
    "# process.parameters.airfare_per_rpk.loc[2025:2050]=process.vector_outputs_df['airfare_per_rpk'].loc[2025:2050]\n",
    "# magic_method_view.append(process.vector_outputs_df['airfare_per_rpk'].loc[2050])\n",
    "# magic_rpk.append(process.vector_outputs_df['rpk'].loc[2050])\n",
    "\n",
    "# process.setup()\n",
    "# process.compute()\n",
    "# process.parameters.airfare_per_rpk.loc[2025:2050]=process.vector_outputs_df['airfare_per_rpk'].loc[2025:2050]\n",
    "# magic_method_view.append(process.vector_outputs_df['airfare_per_rpk'].loc[2050])\n",
    "# magic_rpk.append(process.vector_outputs_df['rpk'].loc[2050])\n",
    "\n",
    "# process.setup()\n",
    "# process.compute()\n",
    "# process.parameters.airfare_per_rpk.loc[2025:2050]=process.vector_outputs_df['airfare_per_rpk'].loc[2025:2050]\n",
    "# magic_method_view.append(process.vector_outputs_df['airfare_per_rpk'].loc[2050])\n",
    "# magic_rpk.append(process.vector_outputs_df['rpk'].loc[2050])\n",
    "\n",
    "# process.setup()\n",
    "# process.compute()\n",
    "# process.parameters.airfare_per_rpk.loc[2025:2050]=process.vector_outputs_df['airfare_per_rpk'].loc[2025:2050]\n",
    "# magic_method_view.append(process.vector_outputs_df['airfare_per_rpk'].loc[2050])\n",
    "# magic_rpk.append(process.vector_outputs_df['rpk'].loc[2050])\n",
    "\n",
    "# process.setup()\n",
    "# process.compute()\n",
    "# process.parameters.airfare_per_rpk.loc[2025:2050]=process.vector_outputs_df['airfare_per_rpk'].loc[2025:2050]\n",
    "# magic_method_view.append(process.vector_outputs_df['airfare_per_rpk'].loc[2050])\n",
    "# magic_rpk.append(process.vector_outputs_df['rpk'].loc[2050])\n",
    "\n",
    "# process.setup()\n",
    "# process.compute()\n",
    "# process.parameters.airfare_per_rpk.loc[2025:2050]=process.vector_outputs_df['airfare_per_rpk'].loc[2025:2050]\n",
    "# magic_method_view.append(process.vector_outputs_df['airfare_per_rpk'].loc[2050])\n",
    "# magic_rpk.append(process.vector_outputs_df['rpk'].loc[2050])\n",
    "\n",
    "# process.setup()\n",
    "# process.compute()\n",
    "# process.parameters.airfare_per_rpk.loc[2025:2050]=process.vector_outputs_df['airfare_per_rpk'].loc[2025:2050]\n",
    "# magic_method_view.append(process.vector_outputs_df['airfare_per_rpk'].loc[2050])\n",
    "# magic_rpk.append(process.vector_outputs_df['rpk'].loc[2050])\n",
    "\n",
    "# process.setup()\n",
    "# process.compute()\n",
    "# process.parameters.airfare_per_rpk.loc[2025:2050]=process.vector_outputs_df['airfare_per_rpk'].loc[2025:2050]\n",
    "# magic_method_view.append(process.vector_outputs_df['airfare_per_rpk'].loc[2050])\n",
    "# magic_rpk.append(process.vector_outputs_df['rpk'].loc[2050])\n",
    "\n",
    "# process.setup()\n",
    "# process.compute()\n",
    "# magic_method_view.append(process.vector_outputs_df['airfare_per_rpk'].loc[2050])\n",
    "# magic_rpk.append(process.vector_outputs_df['rpk'].loc[2050])\n"
   ]
  },
  {
   "cell_type": "code",
   "execution_count": 17,
   "id": "2c3d97c0-8313-479e-8b2d-d455ecf52991",
   "metadata": {
    "tags": []
   },
   "outputs": [],
   "source": [
    "# process.plot('air_transport_co2_emissions')"
   ]
  },
  {
   "cell_type": "markdown",
   "id": "13b2e06c-36fb-49bb-8ad6-5ca2aa130638",
   "metadata": {},
   "source": [
    "## 2 - Problem definition"
   ]
  },
  {
   "cell_type": "markdown",
   "id": "f0558667-94cd-4026-89c9-f024807cd129",
   "metadata": {},
   "source": [
    "### Cas 1 \n",
    "\n",
    "min cumulative_total_airline_cost_discounted\n",
    "\n",
    "w.r.t. biofuel_share_reference_years_values, electrofuel_share_reference_years_values, \n",
    "\n",
    "s.t. cumulative_co2_emissions, electricity_consumption, biomass_consumption, max(biofuel_share_prospective + electrofuel_share_prospective)\n",
    "\n"
   ]
  },
  {
   "cell_type": "code",
   "execution_count": 18,
   "id": "7b29719b-e67b-496c-a957-5cb7a7dcd013",
   "metadata": {},
   "outputs": [],
   "source": [
    "from gemseo.algos.design_space import DesignSpace\n",
    "from gemseo import generate_n2_plot, create_scenario\n",
    "\n",
    "process.setup()\n",
    "\n",
    "design_space = DesignSpace()\n",
    "\n",
    "process.parameters.airfare_per_rpk=pd.Series(0.092949239, index=range(2000,2051))\n",
    "# design_space.add_variable(\"electrofuel_share_reference_years_values\", size=6, lower_bound=[0, 0, 0, 0, 0, 0], upper_bound=[100, 100,100, 100, 100, 100], value=[0, 1.2, 5, 10, 15, 35])\n",
    "# design_space.add_variable(\"biofuel_share_reference_years_values\", size=6, lower_bound=[0, 0, 0, 0, 0, 0], upper_bound=[100, 100,100, 100, 100, 100], value=[2, 4.8, 15, 24, 27, 35])\n",
    "\n",
    "\n",
    "design_space.add_variable(\"electrofuel_share_reference_years_values\",\n",
    "                          size=5,\n",
    "                          lower_bound=[1e-17, 1e-17, 1e-17, 1e-17, 1e-17], \n",
    "                          upper_bound=[100,100, 100, 100, 100],\n",
    "                          value= [1.53876061e-02, 6.69531291e-02, 1.84765061e+00, 8.85047992e+00,\n",
    "        1.57302626e+01]\n",
    "                         )\n",
    "design_space.add_variable(\"biofuel_share_reference_years_values\",\n",
    "                          size=5, lower_bound=[1e-17, 1e-17, 1e-17, 1e-17, 1e-17], \n",
    "                          upper_bound=[100,100, 100, 100, 100],\n",
    "                          value=  [11.02945021, 22.64991278, 45.09265767, 50.79100536, 53.35073021]\n",
    "                         )\n",
    "\n",
    "\n",
    "#                   value=[ 2.95630584, 12.01966251, 24.51769195, 45.09794791, 50.85012186,\n",
    "        # 53.05347661]\n",
    "\n",
    "objective_name = \"cumulative_total_airline_cost_discounted_obj\"\n",
    "\n",
    "\n",
    "process.gemseo_settings[\"design_space\"] = design_space\n",
    "\n",
    "process.gemseo_settings[\"objective_name\"] = objective_name\n",
    "\n",
    "# process.gemseo_settings[\"scenario_type\"]=\"DOE\"\n",
    "process.gemseo_settings[\"scenario_type\"] = \"MDO\"\n",
    "\n",
    "# Create a GEMSEO scenario\n",
    "process.create_gemseo_scenario()\n",
    "\n",
    "# Set differention method (only use for gradient based optimizers)\n",
    "process.scenario.set_differentiation_method(\"finite_differences\")\n",
    "\n",
    "# Add constraints\n",
    "all_constraints = [\n",
    "    \"aviation_carbon_budget_constraint\",\n",
    "    \"blend_completeness_constraint\",\n",
    "    \"electricity_trajectory_constraint\",\n",
    "    \"biomass_trajectory_constraint\",\n",
    "    \"electrofuel_use_growth_constraint\",\n",
    "    \"biofuel_use_growth_constraint\",\n",
    "    \"biofuel_use_no_degrowth_constraint\",\n",
    "    \"electrofuel_use_no_degrowth_constraint\"\n",
    "]\n",
    "\n",
    "\n",
    "for constraint in all_constraints:\n",
    "    process.scenario.add_constraint(constraint, constraint_type=\"ineq\")\n",
    "\n",
    "\n",
    "process.scenario.formulation.optimization_problem.objective = process.scenario.formulation.optimization_problem.objective * 1e-12\n",
    "\n",
    "##### Base MDO -> in source for DOE [...]\n",
    "\n",
    "# Configure the algorithm used\n",
    "algo_options = {\n",
    "    \"ftol_rel\": 0.00001,\n",
    "    \"ctol_abs\": 0.0001,\n",
    "    \"ftol_abs\": 0.0001,\n",
    "    \"normalize_design_space\": True,\n",
    "    \"init_step\": 0.1\n",
    "}\n",
    "process.scenario.options = {\n",
    "    \"algo\": \"NLOPT_COBYLA\",\n",
    "    \"max_iter\": 50,\n",
    "    \"algo_options\": algo_options\n",
    "}"
   ]
  },
  {
   "cell_type": "code",
   "execution_count": 19,
   "id": "4461ca3c-db5f-47ec-9b5c-24b23b154f77",
   "metadata": {},
   "outputs": [
    {
     "name": "stdout",
     "output_type": "stream",
     "text": [
      "Pre-compute time: 0.023907899856567383 seconds\n"
     ]
    },
    {
     "name": "stderr",
     "output_type": "stream",
     "text": [
      "    INFO - 14:17:13:  \n",
      "    INFO - 14:17:13: *** Start MDOScenario execution ***\n",
      "    INFO - 14:17:13: MDOScenario\n",
      "    INFO - 14:17:13:    Disciplines: MDAChain\n",
      "    INFO - 14:17:13:    MDO formulation: MDF\n",
      "    INFO - 14:17:13: Optimization problem:\n",
      "    INFO - 14:17:13:    minimize 1e-12*cumulative_total_airline_cost_discounted_obj(electrofuel_share_reference_years_values, biofuel_share_reference_years_values)\n",
      "    INFO - 14:17:13:    with respect to biofuel_share_reference_years_values, electrofuel_share_reference_years_values\n",
      "    INFO - 14:17:13:    subject to constraints:\n",
      "    INFO - 14:17:13:       aviation_carbon_budget_constraint(electrofuel_share_reference_years_values, biofuel_share_reference_years_values) <= 0\n",
      "    INFO - 14:17:13:       blend_completeness_constraint(electrofuel_share_reference_years_values, biofuel_share_reference_years_values) <= 0\n",
      "    INFO - 14:17:13:       electricity_trajectory_constraint(electrofuel_share_reference_years_values, biofuel_share_reference_years_values) <= 0\n",
      "    INFO - 14:17:13:       biomass_trajectory_constraint(electrofuel_share_reference_years_values, biofuel_share_reference_years_values) <= 0\n",
      "    INFO - 14:17:13:       electrofuel_use_growth_constraint(electrofuel_share_reference_years_values, biofuel_share_reference_years_values) <= 0\n",
      "    INFO - 14:17:13:       biofuel_use_growth_constraint(electrofuel_share_reference_years_values, biofuel_share_reference_years_values) <= 0\n",
      "    INFO - 14:17:13:       biofuel_use_no_degrowth_constraint(electrofuel_share_reference_years_values, biofuel_share_reference_years_values) <= 0\n",
      "    INFO - 14:17:13:       electrofuel_use_no_degrowth_constraint(electrofuel_share_reference_years_values, biofuel_share_reference_years_values) <= 0\n",
      "    INFO - 14:17:13:    over the design space:\n",
      "    INFO - 14:17:13:       +---------------------------------------------+-------------+---------------------+-------------+-------+\n",
      "    INFO - 14:17:13:       | Name                                        | Lower bound |        Value        | Upper bound | Type  |\n",
      "    INFO - 14:17:13:       +---------------------------------------------+-------------+---------------------+-------------+-------+\n",
      "    INFO - 14:17:13:       | electrofuel_share_reference_years_values[0] |    1e-17    |     0.0153876061    |     100     | float |\n",
      "    INFO - 14:17:13:       | electrofuel_share_reference_years_values[1] |    1e-17    | 0.06695312909999999 |     100     | float |\n",
      "    INFO - 14:17:13:       | electrofuel_share_reference_years_values[2] |    1e-17    |      1.84765061     |     100     | float |\n",
      "    INFO - 14:17:13:       | electrofuel_share_reference_years_values[3] |    1e-17    |      8.85047992     |     100     | float |\n",
      "    INFO - 14:17:13:       | electrofuel_share_reference_years_values[4] |    1e-17    |      15.7302626     |     100     | float |\n",
      "    INFO - 14:17:13:       | biofuel_share_reference_years_values[0]     |    1e-17    |     11.02945021     |     100     | float |\n",
      "    INFO - 14:17:13:       | biofuel_share_reference_years_values[1]     |    1e-17    |     22.64991278     |     100     | float |\n",
      "    INFO - 14:17:13:       | biofuel_share_reference_years_values[2]     |    1e-17    |     45.09265767     |     100     | float |\n",
      "    INFO - 14:17:13:       | biofuel_share_reference_years_values[3]     |    1e-17    |     50.79100536     |     100     | float |\n",
      "    INFO - 14:17:13:       | biofuel_share_reference_years_values[4]     |    1e-17    |     53.35073021     |     100     | float |\n",
      "    INFO - 14:17:13:       +---------------------------------------------+-------------+---------------------+-------------+-------+\n",
      "    INFO - 14:17:13: Solving optimization problem with algorithm NLOPT_COBYLA:\n",
      "   ERROR - 14:17:13: Grammar MDA chain_discipline_input: validation failed.\n",
      "   ERROR - 14:17:13: Missing required names: airfare_per_rpk, ask, ask_long_range, ask_long_range_dropin_fuel, ask_long_range_dropin_fuel_share, ask_long_range_electric, ask_long_range_electric_share, ask_long_range_hydrogen, ask_long_range_hydrogen_share, ask_medium_range, ask_medium_range_dropin_fuel, ask_medium_range_dropin_fuel_share, ask_medium_range_electric, ask_medium_range_electric_share, ask_medium_range_hydrogen, ask_medium_range_hydrogen_share, ask_short_range, ask_short_range_dropin_fuel, ask_short_range_dropin_fuel_share, ask_short_range_electric, ask_short_range_electric_share, ask_short_range_hydrogen, ask_short_range_hydrogen_share, average_hydrogen_mean_carbon_tax_kg, average_hydrogen_mean_mfsp_kg, biofuel_mean_carbon_tax_per_l, carbon_offset, co2_emissions, co2_per_energy_mean, doc_carbon_tax_lowering_offset_per_ask_long_range_mean, doc_carbon_tax_lowering_offset_per_ask_mean, doc_carbon_tax_lowering_offset_per_ask_medium_range_mean, doc_carbon_tax_lowering_offset_per_ask_short_range_mean, doc_energy_per_ask_long_range_mean, doc_energy_per_ask_mean, doc_energy_per_ask_medium_range_mean, doc_energy_per_ask_short_range_mean, doc_non_energy_per_ask_long_range_mean, doc_non_energy_per_ask_mean, doc_non_energy_per_ask_medium_range_mean, doc_non_energy_per_ask_short_range_mean, dropin_mean_mfsp, dropin_mfsp_carbon_tax_supplement, electricity_direct_use_carbon_tax_kWh, electrofuel_mfsp_carbon_tax_supplement, energy_consumption, energy_consumption_biofuel, energy_consumption_biofuel_without_operations, energy_consumption_electric, energy_consumption_electric_without_operations, energy_consumption_electrofuel, energy_consumption_electrofuel_without_operations, energy_consumption_freight_biofuel, energy_consumption_freight_biofuel_without_operations, energy_consumption_freight_electric, energy_consumption_freight_electric_without_operations, energy_consumption_freight_electrofuel, energy_consumption_freight_electrofuel_without_operations, energy_consumption_freight_hydrogen, energy_consumption_freight_hydrogen_without_operations, energy_consumption_freight_kerosene, energy_consumption_freight_kerosene_without_operations, energy_consumption_hydrogen, energy_consumption_hydrogen_without_operations, energy_consumption_kerosene, energy_consumption_kerosene_without_operations, energy_consumption_long_range_biofuel, energy_consumption_long_range_biofuel_without_operations, energy_consumption_long_range_electric, energy_consumption_long_range_electric_without_operations, energy_consumption_long_range_electrofuel, energy_consumption_long_range_electrofuel_without_operations, energy_consumption_long_range_hydrogen, energy_consumption_long_range_hydrogen_without_operations, energy_consumption_long_range_kerosene, energy_consumption_long_range_kerosene_without_operations, energy_consumption_medium_range_biofuel, energy_consumption_medium_range_biofuel_without_operations, energy_consumption_medium_range_electric, energy_consumption_medium_range_electric_without_operations, energy_consumption_medium_range_electrofuel, energy_consumption_medium_range_electrofuel_without_operations, energy_consumption_medium_range_hydrogen, energy_consumption_medium_range_hydrogen_without_operations, energy_consumption_medium_range_kerosene, energy_consumption_medium_range_kerosene_without_operations, energy_consumption_passenger_biofuel, energy_consumption_passenger_biofuel_without_operations, energy_consumption_passenger_electric, energy_consumption_passenger_electric_without_operations, energy_consumption_passenger_electrofuel, energy_consumption_passenger_electrofuel_without_operations, energy_consumption_passenger_hydrogen, energy_consumption_passenger_hydrogen_without_operations, energy_consumption_passenger_kerosene, energy_consumption_passenger_kerosene_without_operations, energy_consumption_short_range_biofuel, energy_consumption_short_range_biofuel_without_operations, energy_consumption_short_range_electric, energy_consumption_short_range_electric_without_operations, energy_consumption_short_range_electrofuel, energy_consumption_short_range_electrofuel_without_operations, energy_consumption_short_range_hydrogen, energy_consumption_short_range_hydrogen_without_operations, energy_consumption_short_range_kerosene, energy_consumption_short_range_kerosene_without_operations, energy_per_ask_long_range_dropin_fuel, energy_per_ask_long_range_electric, energy_per_ask_long_range_hydrogen, energy_per_ask_mean, energy_per_ask_medium_range_dropin_fuel, energy_per_ask_medium_range_electric, energy_per_ask_medium_range_hydrogen, energy_per_ask_short_range_dropin_fuel, energy_per_ask_short_range_electric, energy_per_ask_short_range_hydrogen, energy_per_ask_without_operations_long_range_dropin_fuel, energy_per_ask_without_operations_long_range_electric, energy_per_ask_without_operations_long_range_hydrogen, energy_per_ask_without_operations_medium_range_dropin_fuel, energy_per_ask_without_operations_medium_range_electric, energy_per_ask_without_operations_medium_range_hydrogen, energy_per_ask_without_operations_short_range_dropin_fuel, energy_per_ask_without_operations_short_range_electric, energy_per_ask_without_operations_short_range_hydrogen, energy_per_rtk_freight_dropin_fuel, energy_per_rtk_freight_electric, energy_per_rtk_freight_hydrogen, energy_per_rtk_mean, energy_per_rtk_without_operations_freight_dropin_fuel, energy_per_rtk_without_operations_freight_electric, energy_per_rtk_without_operations_freight_hydrogen, kerosene_price_supplement_carbon_tax, level_carbon_offset, load_factor, load_factor_cost_non_energy_per_ask, noc_carbon_offset_per_ask, residual_carbon_offset, rpk, rpk_long_range, rpk_medium_range, rpk_no_elasticity, rpk_short_range, rtk_dropin_fuel, rtk_dropin_fuel_share, rtk_electric, rtk_electric_share, rtk_hydrogen, rtk_hydrogen_share, total_cost_per_rpk_without_extra_tax, total_extra_tax_per_rpk.\n"
     ]
    },
    {
     "ename": "InvalidDataError",
     "evalue": "Grammar MDA chain_discipline_input: validation failed.\nMissing required names: airfare_per_rpk, ask, ask_long_range, ask_long_range_dropin_fuel, ask_long_range_dropin_fuel_share, ask_long_range_electric, ask_long_range_electric_share, ask_long_range_hydrogen, ask_long_range_hydrogen_share, ask_medium_range, ask_medium_range_dropin_fuel, ask_medium_range_dropin_fuel_share, ask_medium_range_electric, ask_medium_range_electric_share, ask_medium_range_hydrogen, ask_medium_range_hydrogen_share, ask_short_range, ask_short_range_dropin_fuel, ask_short_range_dropin_fuel_share, ask_short_range_electric, ask_short_range_electric_share, ask_short_range_hydrogen, ask_short_range_hydrogen_share, average_hydrogen_mean_carbon_tax_kg, average_hydrogen_mean_mfsp_kg, biofuel_mean_carbon_tax_per_l, carbon_offset, co2_emissions, co2_per_energy_mean, doc_carbon_tax_lowering_offset_per_ask_long_range_mean, doc_carbon_tax_lowering_offset_per_ask_mean, doc_carbon_tax_lowering_offset_per_ask_medium_range_mean, doc_carbon_tax_lowering_offset_per_ask_short_range_mean, doc_energy_per_ask_long_range_mean, doc_energy_per_ask_mean, doc_energy_per_ask_medium_range_mean, doc_energy_per_ask_short_range_mean, doc_non_energy_per_ask_long_range_mean, doc_non_energy_per_ask_mean, doc_non_energy_per_ask_medium_range_mean, doc_non_energy_per_ask_short_range_mean, dropin_mean_mfsp, dropin_mfsp_carbon_tax_supplement, electricity_direct_use_carbon_tax_kWh, electrofuel_mfsp_carbon_tax_supplement, energy_consumption, energy_consumption_biofuel, energy_consumption_biofuel_without_operations, energy_consumption_electric, energy_consumption_electric_without_operations, energy_consumption_electrofuel, energy_consumption_electrofuel_without_operations, energy_consumption_freight_biofuel, energy_consumption_freight_biofuel_without_operations, energy_consumption_freight_electric, energy_consumption_freight_electric_without_operations, energy_consumption_freight_electrofuel, energy_consumption_freight_electrofuel_without_operations, energy_consumption_freight_hydrogen, energy_consumption_freight_hydrogen_without_operations, energy_consumption_freight_kerosene, energy_consumption_freight_kerosene_without_operations, energy_consumption_hydrogen, energy_consumption_hydrogen_without_operations, energy_consumption_kerosene, energy_consumption_kerosene_without_operations, energy_consumption_long_range_biofuel, energy_consumption_long_range_biofuel_without_operations, energy_consumption_long_range_electric, energy_consumption_long_range_electric_without_operations, energy_consumption_long_range_electrofuel, energy_consumption_long_range_electrofuel_without_operations, energy_consumption_long_range_hydrogen, energy_consumption_long_range_hydrogen_without_operations, energy_consumption_long_range_kerosene, energy_consumption_long_range_kerosene_without_operations, energy_consumption_medium_range_biofuel, energy_consumption_medium_range_biofuel_without_operations, energy_consumption_medium_range_electric, energy_consumption_medium_range_electric_without_operations, energy_consumption_medium_range_electrofuel, energy_consumption_medium_range_electrofuel_without_operations, energy_consumption_medium_range_hydrogen, energy_consumption_medium_range_hydrogen_without_operations, energy_consumption_medium_range_kerosene, energy_consumption_medium_range_kerosene_without_operations, energy_consumption_passenger_biofuel, energy_consumption_passenger_biofuel_without_operations, energy_consumption_passenger_electric, energy_consumption_passenger_electric_without_operations, energy_consumption_passenger_electrofuel, energy_consumption_passenger_electrofuel_without_operations, energy_consumption_passenger_hydrogen, energy_consumption_passenger_hydrogen_without_operations, energy_consumption_passenger_kerosene, energy_consumption_passenger_kerosene_without_operations, energy_consumption_short_range_biofuel, energy_consumption_short_range_biofuel_without_operations, energy_consumption_short_range_electric, energy_consumption_short_range_electric_without_operations, energy_consumption_short_range_electrofuel, energy_consumption_short_range_electrofuel_without_operations, energy_consumption_short_range_hydrogen, energy_consumption_short_range_hydrogen_without_operations, energy_consumption_short_range_kerosene, energy_consumption_short_range_kerosene_without_operations, energy_per_ask_long_range_dropin_fuel, energy_per_ask_long_range_electric, energy_per_ask_long_range_hydrogen, energy_per_ask_mean, energy_per_ask_medium_range_dropin_fuel, energy_per_ask_medium_range_electric, energy_per_ask_medium_range_hydrogen, energy_per_ask_short_range_dropin_fuel, energy_per_ask_short_range_electric, energy_per_ask_short_range_hydrogen, energy_per_ask_without_operations_long_range_dropin_fuel, energy_per_ask_without_operations_long_range_electric, energy_per_ask_without_operations_long_range_hydrogen, energy_per_ask_without_operations_medium_range_dropin_fuel, energy_per_ask_without_operations_medium_range_electric, energy_per_ask_without_operations_medium_range_hydrogen, energy_per_ask_without_operations_short_range_dropin_fuel, energy_per_ask_without_operations_short_range_electric, energy_per_ask_without_operations_short_range_hydrogen, energy_per_rtk_freight_dropin_fuel, energy_per_rtk_freight_electric, energy_per_rtk_freight_hydrogen, energy_per_rtk_mean, energy_per_rtk_without_operations_freight_dropin_fuel, energy_per_rtk_without_operations_freight_electric, energy_per_rtk_without_operations_freight_hydrogen, kerosene_price_supplement_carbon_tax, level_carbon_offset, load_factor, load_factor_cost_non_energy_per_ask, noc_carbon_offset_per_ask, residual_carbon_offset, rpk, rpk_long_range, rpk_medium_range, rpk_no_elasticity, rpk_short_range, rtk_dropin_fuel, rtk_dropin_fuel_share, rtk_electric, rtk_electric_share, rtk_hydrogen, rtk_hydrogen_share, total_cost_per_rpk_without_extra_tax, total_extra_tax_per_rpk.",
     "output_type": "error",
     "traceback": [
      "\u001b[1;31m---------------------------------------------------------------------------\u001b[0m",
      "\u001b[1;31mInvalidDataError\u001b[0m                          Traceback (most recent call last)",
      "Cell \u001b[1;32mIn[19], line 1\u001b[0m\n\u001b[1;32m----> 1\u001b[0m \u001b[43mprocess\u001b[49m\u001b[38;5;241;43m.\u001b[39;49m\u001b[43mcompute\u001b[49m\u001b[43m(\u001b[49m\u001b[43m)\u001b[49m\n",
      "File \u001b[1;32m~\\PycharmProjects\\AeroMAPS\\aeromaps\\core\\process.py:157\u001b[0m, in \u001b[0;36mAeroMAPSProcess.compute\u001b[1;34m(self)\u001b[0m\n\u001b[0;32m    155\u001b[0m     \u001b[38;5;28;01melse\u001b[39;00m:\n\u001b[0;32m    156\u001b[0m         \u001b[38;5;28mself\u001b[39m\u001b[38;5;241m.\u001b[39mmda_chain\u001b[38;5;241m.\u001b[39mexecute(input_data\u001b[38;5;241m=\u001b[39m\u001b[38;5;28mself\u001b[39m\u001b[38;5;241m.\u001b[39minput_data)\n\u001b[1;32m--> 157\u001b[0m         \u001b[38;5;28;43mself\u001b[39;49m\u001b[38;5;241;43m.\u001b[39;49m\u001b[43mscenario\u001b[49m\u001b[38;5;241;43m.\u001b[39;49m\u001b[43mexecute\u001b[49m\u001b[43m(\u001b[49m\u001b[43minput_data\u001b[49m\u001b[38;5;241;43m=\u001b[39;49m\u001b[38;5;28;43mself\u001b[39;49m\u001b[38;5;241;43m.\u001b[39;49m\u001b[43mscenario\u001b[49m\u001b[38;5;241;43m.\u001b[39;49m\u001b[43moptions\u001b[49m\u001b[43m)\u001b[49m\n\u001b[0;32m    158\u001b[0m \u001b[38;5;28;01melse\u001b[39;00m:\n\u001b[0;32m    159\u001b[0m     \u001b[38;5;28mself\u001b[39m\u001b[38;5;241m.\u001b[39mmda_chain\u001b[38;5;241m.\u001b[39mexecute(input_data\u001b[38;5;241m=\u001b[39m\u001b[38;5;28mself\u001b[39m\u001b[38;5;241m.\u001b[39minput_data)\n",
      "File \u001b[1;32m~\\AppData\\Local\\miniconda3\\envs\\AeroMAPS_2024_2\\lib\\site-packages\\gemseo\\core\\discipline.py:1012\u001b[0m, in \u001b[0;36mMDODiscipline.execute\u001b[1;34m(self, input_data)\u001b[0m\n\u001b[0;32m   1008\u001b[0m \u001b[38;5;28;01mif\u001b[39;00m \u001b[38;5;129;01mnot\u001b[39;00m \u001b[38;5;28mself\u001b[39m\u001b[38;5;241m.\u001b[39mvirtual_execution:\n\u001b[0;32m   1009\u001b[0m     \u001b[38;5;28;01mtry\u001b[39;00m:\n\u001b[0;32m   1010\u001b[0m         \u001b[38;5;66;03m# Effectively run the discipline, the _run method has to be\u001b[39;00m\n\u001b[0;32m   1011\u001b[0m         \u001b[38;5;66;03m# Defined by the subclasses\u001b[39;00m\n\u001b[1;32m-> 1012\u001b[0m         \u001b[38;5;28;43mself\u001b[39;49m\u001b[38;5;241;43m.\u001b[39;49m\u001b[43m_run\u001b[49m\u001b[43m(\u001b[49m\u001b[43m)\u001b[49m\n\u001b[0;32m   1013\u001b[0m     \u001b[38;5;28;01mexcept\u001b[39;00m \u001b[38;5;167;01mException\u001b[39;00m:\n\u001b[0;32m   1014\u001b[0m         \u001b[38;5;28mself\u001b[39m\u001b[38;5;241m.\u001b[39mstatus \u001b[38;5;241m=\u001b[39m \u001b[38;5;28mself\u001b[39m\u001b[38;5;241m.\u001b[39mExecutionStatus\u001b[38;5;241m.\u001b[39mFAILED\n",
      "File \u001b[1;32m~\\AppData\\Local\\miniconda3\\envs\\AeroMAPS_2024_2\\lib\\site-packages\\gemseo\\scenarios\\scenario.py:481\u001b[0m, in \u001b[0;36mScenario._run\u001b[1;34m(self)\u001b[0m\n\u001b[0;32m    479\u001b[0m database \u001b[38;5;241m=\u001b[39m \u001b[38;5;28mself\u001b[39m\u001b[38;5;241m.\u001b[39mformulation\u001b[38;5;241m.\u001b[39moptimization_problem\u001b[38;5;241m.\u001b[39mdatabase\n\u001b[0;32m    480\u001b[0m n_x \u001b[38;5;241m=\u001b[39m \u001b[38;5;28mlen\u001b[39m(database)\n\u001b[1;32m--> 481\u001b[0m \u001b[38;5;28;43mself\u001b[39;49m\u001b[38;5;241;43m.\u001b[39;49m\u001b[43m_run_algorithm\u001b[49m\u001b[43m(\u001b[49m\u001b[43m)\u001b[49m\n\u001b[0;32m    482\u001b[0m LOGGER\u001b[38;5;241m.\u001b[39minfo(\n\u001b[0;32m    483\u001b[0m     \u001b[38;5;124m\"\u001b[39m\u001b[38;5;124m*** End \u001b[39m\u001b[38;5;132;01m%s\u001b[39;00m\u001b[38;5;124m execution (time: \u001b[39m\u001b[38;5;132;01m%s\u001b[39;00m\u001b[38;5;124m) ***\u001b[39m\u001b[38;5;124m\"\u001b[39m,\n\u001b[0;32m    484\u001b[0m     \u001b[38;5;28mself\u001b[39m\u001b[38;5;241m.\u001b[39mname,\n\u001b[0;32m    485\u001b[0m     timedelta(seconds\u001b[38;5;241m=\u001b[39mtimeit\u001b[38;5;241m.\u001b[39mdefault_timer() \u001b[38;5;241m-\u001b[39m t_0),\n\u001b[0;32m    486\u001b[0m )\n\u001b[0;32m    487\u001b[0m \u001b[38;5;66;03m# The last call to the functions may not trigger the callback\u001b[39;00m\n\u001b[0;32m    488\u001b[0m \u001b[38;5;66;03m# so some values may be missing in the database.\u001b[39;00m\n\u001b[0;32m    489\u001b[0m \u001b[38;5;66;03m# This ensures that the callback is called after the last iteration.\u001b[39;00m\n",
      "File \u001b[1;32m~\\AppData\\Local\\miniconda3\\envs\\AeroMAPS_2024_2\\lib\\site-packages\\gemseo\\scenarios\\mdo_scenario.py:110\u001b[0m, in \u001b[0;36mMDOScenario._run_algorithm\u001b[1;34m(self)\u001b[0m\n\u001b[0;32m    107\u001b[0m     lib \u001b[38;5;241m=\u001b[39m \u001b[38;5;28mself\u001b[39m\u001b[38;5;241m.\u001b[39m_algo_factory\u001b[38;5;241m.\u001b[39mcreate(algo_name)\n\u001b[0;32m    108\u001b[0m     \u001b[38;5;28mself\u001b[39m\u001b[38;5;241m.\u001b[39m_lib \u001b[38;5;241m=\u001b[39m lib\n\u001b[1;32m--> 110\u001b[0m \u001b[38;5;28mself\u001b[39m\u001b[38;5;241m.\u001b[39moptimization_result \u001b[38;5;241m=\u001b[39m lib\u001b[38;5;241m.\u001b[39mexecute(problem, max_iter\u001b[38;5;241m=\u001b[39mmax_iter, \u001b[38;5;241m*\u001b[39m\u001b[38;5;241m*\u001b[39moptions)\n\u001b[0;32m    111\u001b[0m \u001b[38;5;28;01mreturn\u001b[39;00m \u001b[38;5;28mself\u001b[39m\u001b[38;5;241m.\u001b[39moptimization_result\n",
      "File \u001b[1;32m~\\AppData\\Local\\miniconda3\\envs\\AeroMAPS_2024_2\\lib\\site-packages\\gemseo\\algos\\base_driver_library.py:438\u001b[0m, in \u001b[0;36mBaseDriverLibrary.execute\u001b[1;34m(self, problem, eval_obs_jac, skip_int_check, max_design_space_dimension_to_log, store_jacobian, **settings)\u001b[0m\n\u001b[0;32m    433\u001b[0m \u001b[38;5;28;01mwith\u001b[39;00m (\n\u001b[0;32m    434\u001b[0m     OneLineLogging(TQDM_LOGGER) \u001b[38;5;28;01mif\u001b[39;00m use_one_line_progress_bar \u001b[38;5;28;01melse\u001b[39;00m nullcontext()\n\u001b[0;32m    435\u001b[0m ):\n\u001b[0;32m    436\u001b[0m     \u001b[38;5;66;03m# Term criteria such as max iter or max_time can be triggered in pre_run\u001b[39;00m\n\u001b[0;32m    437\u001b[0m     \u001b[38;5;28;01mtry\u001b[39;00m:\n\u001b[1;32m--> 438\u001b[0m         \u001b[38;5;28mself\u001b[39m\u001b[38;5;241m.\u001b[39m_pre_run(problem, \u001b[38;5;241m*\u001b[39m\u001b[38;5;241m*\u001b[39moptions)\n\u001b[0;32m    439\u001b[0m         result \u001b[38;5;241m=\u001b[39m \u001b[38;5;28mself\u001b[39m\u001b[38;5;241m.\u001b[39m_run(problem, \u001b[38;5;241m*\u001b[39m\u001b[38;5;241m*\u001b[39moptions)\n\u001b[0;32m    440\u001b[0m     \u001b[38;5;28;01mexcept\u001b[39;00m TerminationCriterion \u001b[38;5;28;01mas\u001b[39;00m termination_criterion:\n",
      "File \u001b[1;32m~\\AppData\\Local\\miniconda3\\envs\\AeroMAPS_2024_2\\lib\\site-packages\\gemseo\\algos\\opt\\lib_nlopt.py:445\u001b[0m, in \u001b[0;36mNlopt._pre_run\u001b[1;34m(self, problem, **options)\u001b[0m\n\u001b[0;32m    443\u001b[0m \u001b[38;5;28;01melse\u001b[39;00m:\n\u001b[0;32m    444\u001b[0m     options[\u001b[38;5;28mself\u001b[39m\u001b[38;5;241m.\u001b[39m_STOP_CRIT_NX] \u001b[38;5;241m=\u001b[39m n_stop_crit_x \u001b[38;5;129;01mor\u001b[39;00m \u001b[38;5;241m3\u001b[39m\n\u001b[1;32m--> 445\u001b[0m \u001b[38;5;28msuper\u001b[39m()\u001b[38;5;241m.\u001b[39m_pre_run(problem, \u001b[38;5;241m*\u001b[39m\u001b[38;5;241m*\u001b[39moptions)\n",
      "File \u001b[1;32m~\\AppData\\Local\\miniconda3\\envs\\AeroMAPS_2024_2\\lib\\site-packages\\gemseo\\algos\\opt\\base_optimization_library.py:206\u001b[0m, in \u001b[0;36mBaseOptimizationLibrary._pre_run\u001b[1;34m(self, problem, **options)\u001b[0m\n\u001b[0;32m    199\u001b[0m \u001b[38;5;66;03m# First, evaluate all functions at x_0. Some algorithms don't do this\u001b[39;00m\n\u001b[0;32m    200\u001b[0m output_functions, jacobian_functions \u001b[38;5;241m=\u001b[39m problem\u001b[38;5;241m.\u001b[39mget_functions(\n\u001b[0;32m    201\u001b[0m     jacobian_names\u001b[38;5;241m=\u001b[39m() \u001b[38;5;28;01mif\u001b[39;00m require_gradient \u001b[38;5;28;01melse\u001b[39;00m \u001b[38;5;28;01mNone\u001b[39;00m,\n\u001b[0;32m    202\u001b[0m     evaluate_objective\u001b[38;5;241m=\u001b[39m\u001b[38;5;28;01mTrue\u001b[39;00m,\n\u001b[0;32m    203\u001b[0m     observable_names\u001b[38;5;241m=\u001b[39m\u001b[38;5;28;01mNone\u001b[39;00m,\n\u001b[0;32m    204\u001b[0m )\n\u001b[1;32m--> 206\u001b[0m function_values, _ \u001b[38;5;241m=\u001b[39m \u001b[43mproblem\u001b[49m\u001b[38;5;241;43m.\u001b[39;49m\u001b[43mevaluate_functions\u001b[49m\u001b[43m(\u001b[49m\n\u001b[0;32m    207\u001b[0m \u001b[43m    \u001b[49m\u001b[43mdesign_vector_is_normalized\u001b[49m\u001b[38;5;241;43m=\u001b[39;49m\u001b[43moptions\u001b[49m\u001b[38;5;241;43m.\u001b[39;49m\u001b[43mget\u001b[49m\u001b[43m(\u001b[49m\n\u001b[0;32m    208\u001b[0m \u001b[43m        \u001b[49m\u001b[38;5;28;43mself\u001b[39;49m\u001b[38;5;241;43m.\u001b[39;49m\u001b[43m_NORMALIZE_DESIGN_SPACE_OPTION\u001b[49m\u001b[43m,\u001b[49m\u001b[43m \u001b[49m\u001b[38;5;28;43mself\u001b[39;49m\u001b[38;5;241;43m.\u001b[39;49m\u001b[43m_NORMALIZE_DS\u001b[49m\n\u001b[0;32m    209\u001b[0m \u001b[43m    \u001b[49m\u001b[43m)\u001b[49m\u001b[43m,\u001b[49m\n\u001b[0;32m    210\u001b[0m \u001b[43m    \u001b[49m\u001b[43moutput_functions\u001b[49m\u001b[38;5;241;43m=\u001b[39;49m\u001b[43moutput_functions\u001b[49m\u001b[43m,\u001b[49m\n\u001b[0;32m    211\u001b[0m \u001b[43m    \u001b[49m\u001b[43mjacobian_functions\u001b[49m\u001b[38;5;241;43m=\u001b[39;49m\u001b[43mjacobian_functions\u001b[49m\u001b[43m,\u001b[49m\n\u001b[0;32m    212\u001b[0m \u001b[43m\u001b[49m\u001b[43m)\u001b[49m\n\u001b[0;32m    214\u001b[0m scaling_threshold \u001b[38;5;241m=\u001b[39m options\u001b[38;5;241m.\u001b[39mget(\u001b[38;5;28mself\u001b[39m\u001b[38;5;241m.\u001b[39m_SCALING_THRESHOLD)\n\u001b[0;32m    215\u001b[0m \u001b[38;5;28;01mif\u001b[39;00m scaling_threshold \u001b[38;5;129;01mis\u001b[39;00m \u001b[38;5;129;01mnot\u001b[39;00m \u001b[38;5;28;01mNone\u001b[39;00m:\n",
      "File \u001b[1;32m~\\AppData\\Local\\miniconda3\\envs\\AeroMAPS_2024_2\\lib\\site-packages\\gemseo\\algos\\evaluation_problem.py:418\u001b[0m, in \u001b[0;36mEvaluationProblem.evaluate_functions\u001b[1;34m(self, design_vector, design_vector_is_normalized, preprocess_design_vector, output_functions, jacobian_functions)\u001b[0m\n\u001b[0;32m    416\u001b[0m \u001b[38;5;28;01mfor\u001b[39;00m function \u001b[38;5;129;01min\u001b[39;00m output_functions:\n\u001b[0;32m    417\u001b[0m     \u001b[38;5;28;01mtry\u001b[39;00m:\n\u001b[1;32m--> 418\u001b[0m         outputs[function\u001b[38;5;241m.\u001b[39mname] \u001b[38;5;241m=\u001b[39m \u001b[43mfunction\u001b[49m\u001b[38;5;241;43m.\u001b[39;49m\u001b[43mevaluate\u001b[49m\u001b[43m(\u001b[49m\u001b[43mdesign_vector\u001b[49m\u001b[43m)\u001b[49m\n\u001b[0;32m    419\u001b[0m     \u001b[38;5;28;01mexcept\u001b[39;00m \u001b[38;5;167;01mValueError\u001b[39;00m:  \u001b[38;5;66;03m# noqa: PERF203\u001b[39;00m\n\u001b[0;32m    420\u001b[0m         LOGGER\u001b[38;5;241m.\u001b[39mexception(\u001b[38;5;124m\"\u001b[39m\u001b[38;5;124mFailed to evaluate function \u001b[39m\u001b[38;5;132;01m%s\u001b[39;00m\u001b[38;5;124m\"\u001b[39m, function\u001b[38;5;241m.\u001b[39mname)\n",
      "File \u001b[1;32m~\\AppData\\Local\\miniconda3\\envs\\AeroMAPS_2024_2\\lib\\site-packages\\gemseo\\algos\\problem_function.py:184\u001b[0m, in \u001b[0;36mProblemFunction.evaluate\u001b[1;34m(self, x_vect)\u001b[0m\n\u001b[0;32m    181\u001b[0m     \u001b[38;5;28;01mwith\u001b[39;00m \u001b[38;5;28mself\u001b[39m\u001b[38;5;241m.\u001b[39m_n_calls\u001b[38;5;241m.\u001b[39mget_lock():\n\u001b[0;32m    182\u001b[0m         \u001b[38;5;28mself\u001b[39m\u001b[38;5;241m.\u001b[39m_n_calls\u001b[38;5;241m.\u001b[39mvalue \u001b[38;5;241m+\u001b[39m\u001b[38;5;241m=\u001b[39m \u001b[38;5;241m1\u001b[39m\n\u001b[1;32m--> 184\u001b[0m \u001b[38;5;28;01mreturn\u001b[39;00m \u001b[38;5;28;43msuper\u001b[39;49m\u001b[43m(\u001b[49m\u001b[43m)\u001b[49m\u001b[38;5;241;43m.\u001b[39;49m\u001b[43mevaluate\u001b[49m\u001b[43m(\u001b[49m\u001b[43mx_vect\u001b[49m\u001b[43m)\u001b[49m\n",
      "File \u001b[1;32m~\\AppData\\Local\\miniconda3\\envs\\AeroMAPS_2024_2\\lib\\site-packages\\gemseo\\core\\mdo_functions\\mdo_function.py:326\u001b[0m, in \u001b[0;36mMDOFunction.evaluate\u001b[1;34m(self, x_vect)\u001b[0m\n\u001b[0;32m    313\u001b[0m \u001b[38;5;28;01mdef\u001b[39;00m \u001b[38;5;21mevaluate\u001b[39m(\u001b[38;5;28mself\u001b[39m, x_vect: NumberArray) \u001b[38;5;241m-\u001b[39m\u001b[38;5;241m>\u001b[39m OutputType:\n\u001b[0;32m    314\u001b[0m \u001b[38;5;250m    \u001b[39m\u001b[38;5;124;03m\"\"\"Evaluate the function and store the output value in :attr:`.last_eval`.\u001b[39;00m\n\u001b[0;32m    315\u001b[0m \n\u001b[0;32m    316\u001b[0m \u001b[38;5;124;03m    When the output dimension :attr:`.dim` is not defined,\u001b[39;00m\n\u001b[1;32m   (...)\u001b[0m\n\u001b[0;32m    324\u001b[0m \u001b[38;5;124;03m        or its real part when :attr:`.force_real` is `True`.\u001b[39;00m\n\u001b[0;32m    325\u001b[0m \u001b[38;5;124;03m    \"\"\"\u001b[39;00m\n\u001b[1;32m--> 326\u001b[0m     output_value \u001b[38;5;241m=\u001b[39m \u001b[38;5;28mself\u001b[39m\u001b[38;5;241m.\u001b[39mlast_eval \u001b[38;5;241m=\u001b[39m \u001b[38;5;28;43mself\u001b[39;49m\u001b[38;5;241;43m.\u001b[39;49m\u001b[43m_func\u001b[49m\u001b[43m(\u001b[49m\u001b[43mx_vect\u001b[49m\u001b[43m)\u001b[49m\n\u001b[0;32m    328\u001b[0m     \u001b[38;5;28;01mif\u001b[39;00m \u001b[38;5;28mself\u001b[39m\u001b[38;5;241m.\u001b[39mforce_real:\n\u001b[0;32m    329\u001b[0m         output_value \u001b[38;5;241m=\u001b[39m output_value\u001b[38;5;241m.\u001b[39mreal\n",
      "File \u001b[1;32m~\\AppData\\Local\\miniconda3\\envs\\AeroMAPS_2024_2\\lib\\site-packages\\gemseo\\algos\\problem_function.py:301\u001b[0m, in \u001b[0;36mProblemFunction._compute_output_db_norm\u001b[1;34m(self, input_value)\u001b[0m\n\u001b[0;32m    295\u001b[0m \u001b[38;5;28;01mif\u001b[39;00m (\n\u001b[0;32m    296\u001b[0m     \u001b[38;5;129;01mnot\u001b[39;00m database\u001b[38;5;241m.\u001b[39mget(hashed_xu)\n\u001b[0;32m    297\u001b[0m     \u001b[38;5;129;01mand\u001b[39;00m \u001b[38;5;28mself\u001b[39m\u001b[38;5;241m.\u001b[39m_evaluation_counter\u001b[38;5;241m.\u001b[39mmaximum_is_reached\n\u001b[0;32m    298\u001b[0m ):\n\u001b[0;32m    299\u001b[0m     \u001b[38;5;28;01mraise\u001b[39;00m MaxIterReachedException\n\u001b[1;32m--> 301\u001b[0m output_value \u001b[38;5;241m=\u001b[39m \u001b[38;5;28;43mself\u001b[39;49m\u001b[38;5;241;43m.\u001b[39;49m\u001b[43m_compute_output\u001b[49m\u001b[43m(\u001b[49m\u001b[43mxn_vect\u001b[49m\u001b[43m)\u001b[49m\n\u001b[0;32m    302\u001b[0m \u001b[38;5;28mself\u001b[39m\u001b[38;5;241m.\u001b[39mcheck_function_output_includes_nan(\n\u001b[0;32m    303\u001b[0m     output_value, \u001b[38;5;28mself\u001b[39m\u001b[38;5;241m.\u001b[39mstop_if_nan, \u001b[38;5;28mself\u001b[39m\u001b[38;5;241m.\u001b[39mname, xu_vect\n\u001b[0;32m    304\u001b[0m )\n\u001b[0;32m    305\u001b[0m database\u001b[38;5;241m.\u001b[39mstore(hashed_xu, {\u001b[38;5;28mself\u001b[39m\u001b[38;5;241m.\u001b[39mname: output_value})\n",
      "File \u001b[1;32m~\\AppData\\Local\\miniconda3\\envs\\AeroMAPS_2024_2\\lib\\site-packages\\gemseo\\algos\\problem_function.py:196\u001b[0m, in \u001b[0;36mProblemFunction._compute_output\u001b[1;34m(self, input_value)\u001b[0m\n\u001b[0;32m    187\u001b[0m \u001b[38;5;250m\u001b[39m\u001b[38;5;124;03m\"\"\"Compute the output value from an input value.\u001b[39;00m\n\u001b[0;32m    188\u001b[0m \n\u001b[0;32m    189\u001b[0m \u001b[38;5;124;03mArgs:\u001b[39;00m\n\u001b[1;32m   (...)\u001b[0m\n\u001b[0;32m    193\u001b[0m \u001b[38;5;124;03m    The output value.\u001b[39;00m\n\u001b[0;32m    194\u001b[0m \u001b[38;5;124;03m\"\"\"\u001b[39;00m\n\u001b[0;32m    195\u001b[0m \u001b[38;5;28;01mfor\u001b[39;00m func \u001b[38;5;129;01min\u001b[39;00m \u001b[38;5;28mself\u001b[39m\u001b[38;5;241m.\u001b[39m_output_evaluation_sequence:\n\u001b[1;32m--> 196\u001b[0m     input_value \u001b[38;5;241m=\u001b[39m \u001b[43mfunc\u001b[49m\u001b[43m(\u001b[49m\u001b[43minput_value\u001b[49m\u001b[43m)\u001b[49m\n\u001b[0;32m    198\u001b[0m \u001b[38;5;28;01mreturn\u001b[39;00m input_value\n",
      "File \u001b[1;32m~\\AppData\\Local\\miniconda3\\envs\\AeroMAPS_2024_2\\lib\\site-packages\\gemseo\\core\\mdo_functions\\_operations.py:219\u001b[0m, in \u001b[0;36m_OperationFunctionMaker._compute_operation\u001b[1;34m(self, input_value)\u001b[0m\n\u001b[0;32m    216\u001b[0m \u001b[38;5;28;01mif\u001b[39;00m \u001b[38;5;28mself\u001b[39m\u001b[38;5;241m.\u001b[39m_second_operand_is_func:\n\u001b[0;32m    217\u001b[0m     second_operand \u001b[38;5;241m=\u001b[39m second_operand\u001b[38;5;241m.\u001b[39mfunc(input_value)\n\u001b[1;32m--> 219\u001b[0m \u001b[38;5;28;01mreturn\u001b[39;00m \u001b[38;5;28mself\u001b[39m\u001b[38;5;241m.\u001b[39m_operator(\u001b[38;5;28;43mself\u001b[39;49m\u001b[38;5;241;43m.\u001b[39;49m\u001b[43m_first_operand\u001b[49m\u001b[38;5;241;43m.\u001b[39;49m\u001b[43mfunc\u001b[49m\u001b[43m(\u001b[49m\u001b[43minput_value\u001b[49m\u001b[43m)\u001b[49m, second_operand)\n",
      "File \u001b[1;32m~\\AppData\\Local\\miniconda3\\envs\\AeroMAPS_2024_2\\lib\\site-packages\\gemseo\\core\\mdo_functions\\function_from_discipline.py:179\u001b[0m, in \u001b[0;36mFunctionFromDiscipline._func_to_wrap\u001b[1;34m(self, x_vect)\u001b[0m\n\u001b[0;32m    170\u001b[0m \u001b[38;5;28;01mdef\u001b[39;00m \u001b[38;5;21m_func_to_wrap\u001b[39m(\u001b[38;5;28mself\u001b[39m, x_vect: NumberArray) \u001b[38;5;241m-\u001b[39m\u001b[38;5;241m>\u001b[39m NumberArray:\n\u001b[0;32m    171\u001b[0m \u001b[38;5;250m    \u001b[39m\u001b[38;5;124;03m\"\"\"Compute the outputs.\u001b[39;00m\n\u001b[0;32m    172\u001b[0m \n\u001b[0;32m    173\u001b[0m \u001b[38;5;124;03m    Args:\u001b[39;00m\n\u001b[1;32m   (...)\u001b[0m\n\u001b[0;32m    177\u001b[0m \u001b[38;5;124;03m        The value of the outputs.\u001b[39;00m\n\u001b[0;32m    178\u001b[0m \u001b[38;5;124;03m    \"\"\"\u001b[39;00m\n\u001b[1;32m--> 179\u001b[0m     \u001b[38;5;28;01mreturn\u001b[39;00m \u001b[38;5;28;43mself\u001b[39;49m\u001b[38;5;241;43m.\u001b[39;49m\u001b[43m__discipline_adapter\u001b[49m\u001b[38;5;241;43m.\u001b[39;49m\u001b[43mevaluate\u001b[49m\u001b[43m(\u001b[49m\u001b[43mx_vect\u001b[49m\u001b[43m[\u001b[49m\u001b[38;5;28;43mself\u001b[39;49m\u001b[38;5;241;43m.\u001b[39;49m\u001b[43m_input_mask\u001b[49m\u001b[43m]\u001b[49m\u001b[43m)\u001b[49m\n",
      "File \u001b[1;32m~\\AppData\\Local\\miniconda3\\envs\\AeroMAPS_2024_2\\lib\\site-packages\\gemseo\\core\\mdo_functions\\mdo_function.py:326\u001b[0m, in \u001b[0;36mMDOFunction.evaluate\u001b[1;34m(self, x_vect)\u001b[0m\n\u001b[0;32m    313\u001b[0m \u001b[38;5;28;01mdef\u001b[39;00m \u001b[38;5;21mevaluate\u001b[39m(\u001b[38;5;28mself\u001b[39m, x_vect: NumberArray) \u001b[38;5;241m-\u001b[39m\u001b[38;5;241m>\u001b[39m OutputType:\n\u001b[0;32m    314\u001b[0m \u001b[38;5;250m    \u001b[39m\u001b[38;5;124;03m\"\"\"Evaluate the function and store the output value in :attr:`.last_eval`.\u001b[39;00m\n\u001b[0;32m    315\u001b[0m \n\u001b[0;32m    316\u001b[0m \u001b[38;5;124;03m    When the output dimension :attr:`.dim` is not defined,\u001b[39;00m\n\u001b[1;32m   (...)\u001b[0m\n\u001b[0;32m    324\u001b[0m \u001b[38;5;124;03m        or its real part when :attr:`.force_real` is `True`.\u001b[39;00m\n\u001b[0;32m    325\u001b[0m \u001b[38;5;124;03m    \"\"\"\u001b[39;00m\n\u001b[1;32m--> 326\u001b[0m     output_value \u001b[38;5;241m=\u001b[39m \u001b[38;5;28mself\u001b[39m\u001b[38;5;241m.\u001b[39mlast_eval \u001b[38;5;241m=\u001b[39m \u001b[38;5;28;43mself\u001b[39;49m\u001b[38;5;241;43m.\u001b[39;49m\u001b[43m_func\u001b[49m\u001b[43m(\u001b[49m\u001b[43mx_vect\u001b[49m\u001b[43m)\u001b[49m\n\u001b[0;32m    328\u001b[0m     \u001b[38;5;28;01mif\u001b[39;00m \u001b[38;5;28mself\u001b[39m\u001b[38;5;241m.\u001b[39mforce_real:\n\u001b[0;32m    329\u001b[0m         output_value \u001b[38;5;241m=\u001b[39m output_value\u001b[38;5;241m.\u001b[39mreal\n",
      "File \u001b[1;32m~\\AppData\\Local\\miniconda3\\envs\\AeroMAPS_2024_2\\lib\\site-packages\\gemseo\\core\\mdo_functions\\mdo_discipline_adapter.py:202\u001b[0m, in \u001b[0;36mMDODisciplineAdapter._func_to_wrap\u001b[1;34m(self, x_vect)\u001b[0m\n\u001b[0;32m    199\u001b[0m \u001b[38;5;28mself\u001b[39m\u001b[38;5;241m.\u001b[39m__discipline\u001b[38;5;241m.\u001b[39mreset_statuses_for_run()\n\u001b[0;32m    201\u001b[0m input_data \u001b[38;5;241m=\u001b[39m \u001b[38;5;28mself\u001b[39m\u001b[38;5;241m.\u001b[39m__create_discipline_input_data(x_vect)\n\u001b[1;32m--> 202\u001b[0m output_data \u001b[38;5;241m=\u001b[39m \u001b[38;5;28;43mself\u001b[39;49m\u001b[38;5;241;43m.\u001b[39;49m\u001b[43m__discipline\u001b[49m\u001b[38;5;241;43m.\u001b[39;49m\u001b[43mexecute\u001b[49m\u001b[43m(\u001b[49m\u001b[43minput_data\u001b[49m\u001b[43m)\u001b[49m\n\u001b[0;32m    204\u001b[0m \u001b[38;5;28;01mreturn\u001b[39;00m \u001b[38;5;28mself\u001b[39m\u001b[38;5;241m.\u001b[39m_convert_output_data_to_array(output_data)\n",
      "File \u001b[1;32m~\\AppData\\Local\\miniconda3\\envs\\AeroMAPS_2024_2\\lib\\site-packages\\gemseo\\mda\\mda_chain.py:484\u001b[0m, in \u001b[0;36mMDAChain.execute\u001b[1;34m(self, input_data)\u001b[0m\n\u001b[0;32m    478\u001b[0m     \u001b[38;5;28mself\u001b[39m\u001b[38;5;241m.\u001b[39mdefault_inputs\u001b[38;5;241m.\u001b[39mupdate({\n\u001b[0;32m    479\u001b[0m         key: value\n\u001b[0;32m    480\u001b[0m         \u001b[38;5;28;01mfor\u001b[39;00m key, value \u001b[38;5;129;01min\u001b[39;00m init_chain\u001b[38;5;241m.\u001b[39mexecute(input_data)\u001b[38;5;241m.\u001b[39mitems()\n\u001b[0;32m    481\u001b[0m         \u001b[38;5;28;01mif\u001b[39;00m key \u001b[38;5;129;01min\u001b[39;00m \u001b[38;5;28mself\u001b[39m\u001b[38;5;241m.\u001b[39minput_grammar\u001b[38;5;241m.\u001b[39mnames\n\u001b[0;32m    482\u001b[0m     })\n\u001b[0;32m    483\u001b[0m     \u001b[38;5;28mself\u001b[39m\u001b[38;5;241m.\u001b[39m__initialize_defaults \u001b[38;5;241m=\u001b[39m \u001b[38;5;28;01mFalse\u001b[39;00m\n\u001b[1;32m--> 484\u001b[0m \u001b[38;5;28;01mreturn\u001b[39;00m \u001b[38;5;28;43msuper\u001b[39;49m\u001b[43m(\u001b[49m\u001b[43m)\u001b[49m\u001b[38;5;241;43m.\u001b[39;49m\u001b[43mexecute\u001b[49m\u001b[43m(\u001b[49m\u001b[43minput_data\u001b[49m\u001b[38;5;241;43m=\u001b[39;49m\u001b[43minput_data\u001b[49m\u001b[43m)\u001b[49m\n",
      "File \u001b[1;32m~\\AppData\\Local\\miniconda3\\envs\\AeroMAPS_2024_2\\lib\\site-packages\\gemseo\\mda\\base_mda.py:713\u001b[0m, in \u001b[0;36mBaseMDA.execute\u001b[1;34m(self, input_data)\u001b[0m\n\u001b[0;32m    709\u001b[0m \u001b[38;5;28;01mdef\u001b[39;00m \u001b[38;5;21mexecute\u001b[39m(  \u001b[38;5;66;03m# noqa:D102\u001b[39;00m\n\u001b[0;32m    710\u001b[0m     \u001b[38;5;28mself\u001b[39m, input_data: StrKeyMapping \u001b[38;5;241m|\u001b[39m \u001b[38;5;28;01mNone\u001b[39;00m \u001b[38;5;241m=\u001b[39m \u001b[38;5;28;01mNone\u001b[39;00m\n\u001b[0;32m    711\u001b[0m ) \u001b[38;5;241m-\u001b[39m\u001b[38;5;241m>\u001b[39m DisciplineData:\n\u001b[0;32m    712\u001b[0m     \u001b[38;5;28mself\u001b[39m\u001b[38;5;241m.\u001b[39m_current_iter \u001b[38;5;241m=\u001b[39m \u001b[38;5;241m0\u001b[39m\n\u001b[1;32m--> 713\u001b[0m     \u001b[38;5;28;01mreturn\u001b[39;00m \u001b[38;5;28;43msuper\u001b[39;49m\u001b[43m(\u001b[49m\u001b[43m)\u001b[49m\u001b[38;5;241;43m.\u001b[39;49m\u001b[43mexecute\u001b[49m\u001b[43m(\u001b[49m\u001b[43minput_data\u001b[49m\u001b[38;5;241;43m=\u001b[39;49m\u001b[43minput_data\u001b[49m\u001b[43m)\u001b[49m\n",
      "File \u001b[1;32m~\\AppData\\Local\\miniconda3\\envs\\AeroMAPS_2024_2\\lib\\site-packages\\gemseo\\core\\discipline.py:988\u001b[0m, in \u001b[0;36mMDODiscipline.execute\u001b[1;34m(self, input_data)\u001b[0m\n\u001b[0;32m    985\u001b[0m \u001b[38;5;28mself\u001b[39m\u001b[38;5;241m.\u001b[39m_cache_was_loaded \u001b[38;5;241m=\u001b[39m \u001b[38;5;28;01mFalse\u001b[39;00m\n\u001b[0;32m    987\u001b[0m \u001b[38;5;28;01mif\u001b[39;00m \u001b[38;5;28mself\u001b[39m\u001b[38;5;241m.\u001b[39mactivate_input_data_check:\n\u001b[1;32m--> 988\u001b[0m     \u001b[38;5;28;43mself\u001b[39;49m\u001b[38;5;241;43m.\u001b[39;49m\u001b[43mcheck_input_data\u001b[49m\u001b[43m(\u001b[49m\u001b[43minput_data\u001b[49m\u001b[43m)\u001b[49m\n\u001b[0;32m    990\u001b[0m \u001b[38;5;66;03m# Keep a pristine copy of the inputs before it is eventually changed.\u001b[39;00m\n\u001b[0;32m    991\u001b[0m inputs_for_cache \u001b[38;5;241m=\u001b[39m \u001b[38;5;28mself\u001b[39m\u001b[38;5;241m.\u001b[39m__create_input_data_for_cache(input_data)\n",
      "File \u001b[1;32m~\\AppData\\Local\\miniconda3\\envs\\AeroMAPS_2024_2\\lib\\site-packages\\gemseo\\core\\discipline.py:2006\u001b[0m, in \u001b[0;36mMDODiscipline.check_input_data\u001b[1;34m(self, input_data, raise_exception)\u001b[0m\n\u001b[0;32m   1994\u001b[0m \u001b[38;5;28;01mdef\u001b[39;00m \u001b[38;5;21mcheck_input_data\u001b[39m(\n\u001b[0;32m   1995\u001b[0m     \u001b[38;5;28mself\u001b[39m,\n\u001b[0;32m   1996\u001b[0m     input_data: StrKeyMapping,\n\u001b[0;32m   1997\u001b[0m     raise_exception: \u001b[38;5;28mbool\u001b[39m \u001b[38;5;241m=\u001b[39m \u001b[38;5;28;01mTrue\u001b[39;00m,\n\u001b[0;32m   1998\u001b[0m ) \u001b[38;5;241m-\u001b[39m\u001b[38;5;241m>\u001b[39m \u001b[38;5;28;01mNone\u001b[39;00m:\n\u001b[0;32m   1999\u001b[0m \u001b[38;5;250m    \u001b[39m\u001b[38;5;124;03m\"\"\"Check the input data validity.\u001b[39;00m\n\u001b[0;32m   2000\u001b[0m \n\u001b[0;32m   2001\u001b[0m \u001b[38;5;124;03m    Args:\u001b[39;00m\n\u001b[1;32m   (...)\u001b[0m\n\u001b[0;32m   2004\u001b[0m \u001b[38;5;124;03m        raise_exception: Whether to raise on error.\u001b[39;00m\n\u001b[0;32m   2005\u001b[0m \u001b[38;5;124;03m    \"\"\"\u001b[39;00m\n\u001b[1;32m-> 2006\u001b[0m     \u001b[38;5;28;43mself\u001b[39;49m\u001b[38;5;241;43m.\u001b[39;49m\u001b[43minput_grammar\u001b[49m\u001b[38;5;241;43m.\u001b[39;49m\u001b[43mvalidate\u001b[49m\u001b[43m(\u001b[49m\u001b[43minput_data\u001b[49m\u001b[43m,\u001b[49m\u001b[43m \u001b[49m\u001b[43mraise_exception\u001b[49m\u001b[43m)\u001b[49m\n",
      "File \u001b[1;32m~\\AppData\\Local\\miniconda3\\envs\\AeroMAPS_2024_2\\lib\\site-packages\\gemseo\\core\\grammars\\base_grammar.py:406\u001b[0m, in \u001b[0;36mBaseGrammar.validate\u001b[1;34m(self, data, raise_exception)\u001b[0m\n\u001b[0;32m    404\u001b[0m LOGGER\u001b[38;5;241m.\u001b[39merror(error_message)\n\u001b[0;32m    405\u001b[0m \u001b[38;5;28;01mif\u001b[39;00m raise_exception:\n\u001b[1;32m--> 406\u001b[0m     \u001b[38;5;28;01mraise\u001b[39;00m InvalidDataError(\u001b[38;5;28mstr\u001b[39m(error_message)) \u001b[38;5;28;01mfrom\u001b[39;00m \u001b[38;5;28;01mNone\u001b[39;00m\n",
      "\u001b[1;31mInvalidDataError\u001b[0m: Grammar MDA chain_discipline_input: validation failed.\nMissing required names: airfare_per_rpk, ask, ask_long_range, ask_long_range_dropin_fuel, ask_long_range_dropin_fuel_share, ask_long_range_electric, ask_long_range_electric_share, ask_long_range_hydrogen, ask_long_range_hydrogen_share, ask_medium_range, ask_medium_range_dropin_fuel, ask_medium_range_dropin_fuel_share, ask_medium_range_electric, ask_medium_range_electric_share, ask_medium_range_hydrogen, ask_medium_range_hydrogen_share, ask_short_range, ask_short_range_dropin_fuel, ask_short_range_dropin_fuel_share, ask_short_range_electric, ask_short_range_electric_share, ask_short_range_hydrogen, ask_short_range_hydrogen_share, average_hydrogen_mean_carbon_tax_kg, average_hydrogen_mean_mfsp_kg, biofuel_mean_carbon_tax_per_l, carbon_offset, co2_emissions, co2_per_energy_mean, doc_carbon_tax_lowering_offset_per_ask_long_range_mean, doc_carbon_tax_lowering_offset_per_ask_mean, doc_carbon_tax_lowering_offset_per_ask_medium_range_mean, doc_carbon_tax_lowering_offset_per_ask_short_range_mean, doc_energy_per_ask_long_range_mean, doc_energy_per_ask_mean, doc_energy_per_ask_medium_range_mean, doc_energy_per_ask_short_range_mean, doc_non_energy_per_ask_long_range_mean, doc_non_energy_per_ask_mean, doc_non_energy_per_ask_medium_range_mean, doc_non_energy_per_ask_short_range_mean, dropin_mean_mfsp, dropin_mfsp_carbon_tax_supplement, electricity_direct_use_carbon_tax_kWh, electrofuel_mfsp_carbon_tax_supplement, energy_consumption, energy_consumption_biofuel, energy_consumption_biofuel_without_operations, energy_consumption_electric, energy_consumption_electric_without_operations, energy_consumption_electrofuel, energy_consumption_electrofuel_without_operations, energy_consumption_freight_biofuel, energy_consumption_freight_biofuel_without_operations, energy_consumption_freight_electric, energy_consumption_freight_electric_without_operations, energy_consumption_freight_electrofuel, energy_consumption_freight_electrofuel_without_operations, energy_consumption_freight_hydrogen, energy_consumption_freight_hydrogen_without_operations, energy_consumption_freight_kerosene, energy_consumption_freight_kerosene_without_operations, energy_consumption_hydrogen, energy_consumption_hydrogen_without_operations, energy_consumption_kerosene, energy_consumption_kerosene_without_operations, energy_consumption_long_range_biofuel, energy_consumption_long_range_biofuel_without_operations, energy_consumption_long_range_electric, energy_consumption_long_range_electric_without_operations, energy_consumption_long_range_electrofuel, energy_consumption_long_range_electrofuel_without_operations, energy_consumption_long_range_hydrogen, energy_consumption_long_range_hydrogen_without_operations, energy_consumption_long_range_kerosene, energy_consumption_long_range_kerosene_without_operations, energy_consumption_medium_range_biofuel, energy_consumption_medium_range_biofuel_without_operations, energy_consumption_medium_range_electric, energy_consumption_medium_range_electric_without_operations, energy_consumption_medium_range_electrofuel, energy_consumption_medium_range_electrofuel_without_operations, energy_consumption_medium_range_hydrogen, energy_consumption_medium_range_hydrogen_without_operations, energy_consumption_medium_range_kerosene, energy_consumption_medium_range_kerosene_without_operations, energy_consumption_passenger_biofuel, energy_consumption_passenger_biofuel_without_operations, energy_consumption_passenger_electric, energy_consumption_passenger_electric_without_operations, energy_consumption_passenger_electrofuel, energy_consumption_passenger_electrofuel_without_operations, energy_consumption_passenger_hydrogen, energy_consumption_passenger_hydrogen_without_operations, energy_consumption_passenger_kerosene, energy_consumption_passenger_kerosene_without_operations, energy_consumption_short_range_biofuel, energy_consumption_short_range_biofuel_without_operations, energy_consumption_short_range_electric, energy_consumption_short_range_electric_without_operations, energy_consumption_short_range_electrofuel, energy_consumption_short_range_electrofuel_without_operations, energy_consumption_short_range_hydrogen, energy_consumption_short_range_hydrogen_without_operations, energy_consumption_short_range_kerosene, energy_consumption_short_range_kerosene_without_operations, energy_per_ask_long_range_dropin_fuel, energy_per_ask_long_range_electric, energy_per_ask_long_range_hydrogen, energy_per_ask_mean, energy_per_ask_medium_range_dropin_fuel, energy_per_ask_medium_range_electric, energy_per_ask_medium_range_hydrogen, energy_per_ask_short_range_dropin_fuel, energy_per_ask_short_range_electric, energy_per_ask_short_range_hydrogen, energy_per_ask_without_operations_long_range_dropin_fuel, energy_per_ask_without_operations_long_range_electric, energy_per_ask_without_operations_long_range_hydrogen, energy_per_ask_without_operations_medium_range_dropin_fuel, energy_per_ask_without_operations_medium_range_electric, energy_per_ask_without_operations_medium_range_hydrogen, energy_per_ask_without_operations_short_range_dropin_fuel, energy_per_ask_without_operations_short_range_electric, energy_per_ask_without_operations_short_range_hydrogen, energy_per_rtk_freight_dropin_fuel, energy_per_rtk_freight_electric, energy_per_rtk_freight_hydrogen, energy_per_rtk_mean, energy_per_rtk_without_operations_freight_dropin_fuel, energy_per_rtk_without_operations_freight_electric, energy_per_rtk_without_operations_freight_hydrogen, kerosene_price_supplement_carbon_tax, level_carbon_offset, load_factor, load_factor_cost_non_energy_per_ask, noc_carbon_offset_per_ask, residual_carbon_offset, rpk, rpk_long_range, rpk_medium_range, rpk_no_elasticity, rpk_short_range, rtk_dropin_fuel, rtk_dropin_fuel_share, rtk_electric, rtk_electric_share, rtk_hydrogen, rtk_hydrogen_share, total_cost_per_rpk_without_extra_tax, total_extra_tax_per_rpk."
     ]
    }
   ],
   "source": [
    "process.compute()"
   ]
  },
  {
   "cell_type": "code",
   "execution_count": null,
   "id": "d342f6d9-a608-43cb-a8c8-e0dde5a1cf55",
   "metadata": {
    "tags": []
   },
   "outputs": [],
   "source": [
    "process.scenario.get_result().design_variable_names_to_values"
   ]
  },
  {
   "cell_type": "code",
   "execution_count": null,
   "id": "4d17735c-8d3d-4e39-bb12-3aa3db753cea",
   "metadata": {},
   "outputs": [],
   "source": [
    "####DOE\n",
    "process.gemseo_settings[\"doe_input_names\"] = [\"electrofuel_share_reference_years_values\", \"biofuel_share_reference_years_values\"]\n",
    "process.gemseo_settings[\"doe_output_names\"] = [\"cumulative_total_airline_cost_discounted_obj\"]\n",
    "\n",
    "process.create_gemseo_doe()\n",
    "\n",
    "sample_1 = [0.05, 1.2, 5, 10, 15, 35,\n",
    "            2, 4.8, 15, 24, 27, 35]\n",
    "sample_2 = [0.05, 0.05, 0.05, 0.05, 0.05, 0.05,\n",
    "            2, 6, 20, 34, 42, 70]\n",
    "sample_3 = [2, 6, 20, 34, 42, 70,\n",
    "            0.05, 0.05, 0.05, 0.05, 0.05, 0.05]\n",
    "sample_4 = [0.05, 0.05, 0.05, 0.05, 0.05, 0.05,\n",
    "            0.05, 0.05, 0.05, 0.05, 0.05, 0.05]\n",
    "sample_5 = [20,20,30,30,40,40,\n",
    "            20,20,30,30,40,40]\n",
    "\n",
    "process.samples = np.array([sample_1, sample_2, sample_3, sample_4, sample_5])"
   ]
  },
  {
   "cell_type": "markdown",
   "id": "15ee89f3-6718-4e51-89b3-eb261801f411",
   "metadata": {
    "slideshow": {
     "slide_type": "slide"
    },
    "tags": []
   },
   "source": [
    "# 2- Compute\n",
    "\n",
    "Run AeroMAPS process"
   ]
  },
  {
   "cell_type": "code",
   "execution_count": null,
   "id": "8896dc5f-ead6-4a45-b88c-53f94de24d6e",
   "metadata": {
    "slideshow": {
     "slide_type": "subslide"
    },
    "tags": []
   },
   "outputs": [],
   "source": [
    "# process.compute()"
   ]
  },
  {
   "cell_type": "code",
   "execution_count": null,
   "id": "b8d5ab78-1c5b-45d7-8fb6-230bad162ce0",
   "metadata": {
    "tags": []
   },
   "outputs": [],
   "source": [
    "# process.scenario_doe.get_result().optimization_problems_to_results"
   ]
  },
  {
   "cell_type": "code",
   "execution_count": null,
   "id": "83c4b7f3-6c68-42d9-82b7-3f20de63604f",
   "metadata": {
    "tags": []
   },
   "outputs": [],
   "source": [
    "process.scenario.post_process(\"OptHistoryView\", save=False, show=True)"
   ]
  },
  {
   "cell_type": "code",
   "execution_count": null,
   "id": "8de3b6cb-8e84-48a4-acb9-1277973f321d",
   "metadata": {
    "tags": []
   },
   "outputs": [],
   "source": [
    "process.plot(\"air_transport_co2_emissions\")"
   ]
  },
  {
   "cell_type": "code",
   "execution_count": null,
   "id": "1dedbb80-9cf6-4e67-9627-0c5482c1ab32",
   "metadata": {
    "tags": []
   },
   "outputs": [],
   "source": [
    "process.plot(\"biomass_consumption\")"
   ]
  },
  {
   "cell_type": "code",
   "execution_count": null,
   "id": "209d003c-2bbd-4ad9-8587-117f2de0bb7d",
   "metadata": {
    "tags": []
   },
   "outputs": [],
   "source": [
    "fig, [ax1,ax2,ax3] = plt.subplots(1,3, figsize=(12,4))\n",
    "\n",
    "ax1.plot(\n",
    "    process.data['years']['prospective_years'],\n",
    "    process.vector_outputs_df.loc[process.data['years']['prospective_years'], \"biofuel_share\"],\n",
    "    color=\"green\",\n",
    "    linestyle=\"-\",\n",
    "    label=\"Biofuel\",\n",
    "    linewidth=2,\n",
    ")\n",
    "\n",
    "ax1.plot(\n",
    "    process.data['years']['prospective_years'],\n",
    "    process.vector_outputs_df.loc[process.data['years']['prospective_years'], \"electrofuel_share\"],\n",
    "    color=\"blue\",\n",
    "    linestyle=\"-\",\n",
    "    label=\"Electrofuel\",\n",
    "    linewidth=2,\n",
    ")\n",
    "\n",
    "ax1.plot(\n",
    "    process.data['years']['prospective_years'],\n",
    "    process.vector_outputs_df.loc[process.data['years']['prospective_years'], \"kerosene_share\"],\n",
    "    color=\"red\",\n",
    "    linestyle=\"-\",\n",
    "    label=\"Fossil\",\n",
    "    linewidth=2,\n",
    ")\n",
    "\n",
    "\n",
    "ax1.plot(\n",
    "    [2020,2025,2030,2035,2040,2045,2050],\n",
    "    [0, 2, 4.8, 15, 24, 27, 35],\n",
    "    color=\"green\",\n",
    "    linestyle=\"--\",\n",
    "    label=\"Biofuel- Ref\",\n",
    "    linewidth=2,\n",
    ")\n",
    "\n",
    "ax1.plot(\n",
    "    [2020,2025,2030,2035,2040,2045,2050],\n",
    "    [0, 0, 1.2, 5, 10, 15, 35],\n",
    "    color=\"blue\",\n",
    "    linestyle=\"--\",\n",
    "    label=\"Electrofuel - Ref\",\n",
    "    linewidth=2,\n",
    ")\n",
    "\n",
    "ax1.plot(\n",
    "    [2020,2025,2030,2035,2040,2045,2050],\n",
    "    [100, 98, 94.0, 80, 66, 58, 30],\n",
    "    color=\"red\",\n",
    "    linestyle=\"--\",\n",
    "    label=\"Fossil - Ref\",\n",
    "    linewidth=2,\n",
    ")\n",
    "\n",
    "\n",
    "ax1.grid()\n",
    "ax1.legend()\n",
    "ax1.set_ylabel(\"Drop-in Fuel Shares\")\n",
    "ax1.set_xlim(2021,2050)\n",
    "\n",
    "\n",
    "\n",
    "\n",
    "ax2.plot(\n",
    "    process.data['years']['prospective_years'],\n",
    "    process.vector_outputs_df.loc[process.data['years']['prospective_years'], \"annual_biofuel_growth_constraint_viz\"]/1e12,\n",
    "    color=\"#F59700\",\n",
    "    linestyle=\"-\",\n",
    "    label=\"Ramp-up constraint\",\n",
    "    linewidth=2,\n",
    ")\n",
    "\n",
    "ax2.fill_between(\n",
    "    process.data['years']['prospective_years'],\n",
    "    process.vector_outputs_df.loc[process.data['years']['prospective_years'], \"annual_biofuel_growth_constraint_viz\"]/1e12,\n",
    "    3,   \n",
    "    hatch='\\\\\\\\',  \n",
    "    edgecolor=\"#F59700\",\n",
    "    facecolor='none',\n",
    "    alpha=0.2\n",
    ")\n",
    "\n",
    "\n",
    "\n",
    "ax2.plot(\n",
    "    process.data['years']['prospective_years'],\n",
    "    process.vector_outputs_df.loc[process.data['years']['prospective_years'], \"biofuel_max_availability_viz\"]/1e12,\n",
    "    color=\"#002157\",\n",
    "    linestyle=\"-\",\n",
    "    label=\"Ressource constraint\",\n",
    "    linewidth=2,\n",
    ")\n",
    "\n",
    "ax2.fill_between(\n",
    "    process.data['years']['prospective_years'],\n",
    "    process.vector_outputs_df.loc[process.data['years']['prospective_years'], \"biofuel_max_availability_viz\"]/1e12,\n",
    "    3,   \n",
    "    hatch='//',  \n",
    "    edgecolor=\"#002157\",\n",
    "    facecolor='none',\n",
    "    linewidth=0,\n",
    "    alpha=0.1\n",
    ")\n",
    "\n",
    "\n",
    "ax2.plot(\n",
    "    process.data['years']['prospective_years'],\n",
    "    process.vector_outputs_df.loc[process.data['years']['prospective_years'], \"biofuel_growth_constraint_theoretical_max_viz\"]/1e12,\n",
    "    color=\"#002157\",\n",
    "    linestyle=\"--\",\n",
    "    label=\"'Max' ramp-up constraint\",\n",
    "    linewidth=2,\n",
    ")\n",
    "\n",
    "\n",
    "ax2.plot(\n",
    "    process.data['years']['prospective_years'],\n",
    "    process.vector_outputs_df.loc[process.data['years']['prospective_years'], \"energy_consumption_biofuel\"]/1e12,\n",
    "    color=\"green\",\n",
    "    linestyle=\"-\",\n",
    "    # label=\"Aviation biofuel consumption\",\n",
    "    linewidth=2,\n",
    ")\n",
    "\n",
    "\n",
    "\n",
    "ax2.grid()\n",
    "# ax2.set_xlabel(\"Year\")\n",
    "ax2.set_ylabel(\"Biofuel consumption [EJ]\")\n",
    "ax2.legend(loc='upper left')\n",
    "ax2.set_xlim(2021,2050)\n",
    "ax2.set_ylim(0,1.5)\n",
    "\n",
    "\n",
    "\n",
    "ax3.plot(\n",
    "    process.data['years']['prospective_years'],\n",
    "    process.vector_outputs_df.loc[process.data['years']['prospective_years'], \"annual_electrofuel_growth_constraint_viz\"]/1e12,\n",
    "    color=\"#F59700\",\n",
    "    linestyle=\"-\",\n",
    "    # label=\"Electrofuel ramp-up constraint\",\n",
    "    linewidth=2,\n",
    ")\n",
    "\n",
    "ax3.fill_between(\n",
    "    process.data['years']['prospective_years'],\n",
    "    process.vector_outputs_df.loc[process.data['years']['prospective_years'], \"annual_electrofuel_growth_constraint_viz\"]/1e12,\n",
    "    3,   \n",
    "    hatch='\\\\\\\\',  \n",
    "    edgecolor=\"#F59700\",\n",
    "    facecolor='none',\n",
    "    alpha=0.2\n",
    ")\n",
    "\n",
    "\n",
    "\n",
    "ax3.plot(\n",
    "    process.data['years']['prospective_years'],\n",
    "    process.vector_outputs_df.loc[process.data['years']['prospective_years'], \"electrofuel_max_availability_viz\"]/1e12,\n",
    "    color=\"#002157\",\n",
    "    linestyle=\"-\",\n",
    "    # label=\"Electricity availability constraint\",\n",
    "    linewidth=2,\n",
    ")\n",
    "\n",
    "ax3.fill_between(\n",
    "    process.data['years']['prospective_years'],\n",
    "    process.vector_outputs_df.loc[process.data['years']['prospective_years'], \"electrofuel_max_availability_viz\"]/1e12,\n",
    "    3,   \n",
    "    hatch='//',  \n",
    "    edgecolor=\"#002157\",\n",
    "    facecolor='none',\n",
    "    linewidth=0,\n",
    "    alpha=0.1\n",
    ")\n",
    "\n",
    "\n",
    "ax3.plot(\n",
    "    process.data['years']['prospective_years'],\n",
    "    process.vector_outputs_df.loc[process.data['years']['prospective_years'], \"electrofuel_growth_constraint_theoretical_max_viz\"]/1e12,\n",
    "    color=\"#002157\",\n",
    "    linestyle=\"--\",\n",
    "    # label=\"Electrofuel theoretical max ramp-Up constraint\",\n",
    "    linewidth=2,\n",
    ")\n",
    "\n",
    "\n",
    "ax3.plot(\n",
    "    process.data['years']['prospective_years'],\n",
    "    process.vector_outputs_df.loc[process.data['years']['prospective_years'], \"energy_consumption_electrofuel\"]/1e12,\n",
    "    color=\"blue\",\n",
    "    linestyle=\"-\",\n",
    "    # label=\"Aviation electrofuel consumption\",\n",
    "    linewidth=2,\n",
    ")\n",
    "\n",
    "\n",
    "ax3.grid()\n",
    "ax3.set_ylabel(\"Electrofuel consumption [EJ]\")\n",
    "ax3.set_xlim(2021,2050)\n",
    "ax3.set_ylim(0,1.5)\n",
    "\n",
    "fig.tight_layout()\n",
    "fig.savefig('ressource_constraints.png', dpi=800)\n"
   ]
  },
  {
   "cell_type": "code",
   "execution_count": null,
   "id": "ebee9491-f970-47ff-bde6-b3677ed9ed7a",
   "metadata": {
    "tags": []
   },
   "outputs": [],
   "source": [
    "process.plot(\"energy_expenses_carbon_tax_effect\")"
   ]
  },
  {
   "cell_type": "code",
   "execution_count": null,
   "id": "888e07fb-4f07-45fe-9e2a-415a71773ad5",
   "metadata": {
    "tags": []
   },
   "outputs": [],
   "source": [
    "process.vector_outputs_df[\"cumulative_co2_emissions\"][2050]"
   ]
  },
  {
   "cell_type": "code",
   "execution_count": null,
   "id": "1c07556c-d7ae-4efa-8978-d5f781223cb7",
   "metadata": {
    "tags": []
   },
   "outputs": [],
   "source": [
    "process.vector_outputs_df[\"co2_emissions_including_energy\"][2050]\n"
   ]
  },
  {
   "cell_type": "code",
   "execution_count": null,
   "id": "05f0b61c-28cc-4bca-8714-fbfa822ae946",
   "metadata": {
    "tags": []
   },
   "outputs": [],
   "source": [
    "process.vector_outputs_df[\"cumulative_total_airline_cost_discounted\"][2050]"
   ]
  },
  {
   "cell_type": "code",
   "execution_count": null,
   "id": "71848d90-4d8f-4b6c-84b6-d0f1155f9135",
   "metadata": {
    "tags": []
   },
   "outputs": [],
   "source": [
    "max(process.vector_outputs_df[\"electricity_consumption\"].dropna())"
   ]
  },
  {
   "cell_type": "code",
   "execution_count": null,
   "id": "9909ea24-73aa-4338-99fb-6456572a43ac",
   "metadata": {
    "tags": []
   },
   "outputs": [],
   "source": [
    "sum(process.vector_outputs_df[\"electricity_consumption\"].dropna())"
   ]
  },
  {
   "cell_type": "code",
   "execution_count": null,
   "id": "8b601d64-2339-4823-abd9-498431d7f391",
   "metadata": {
    "tags": []
   },
   "outputs": [],
   "source": [
    "max(process.vector_outputs_df[\"biomass_consumption\"].dropna())"
   ]
  },
  {
   "cell_type": "code",
   "execution_count": null,
   "id": "68ad7937-decc-43a7-acce-e99496adeb9b",
   "metadata": {
    "tags": []
   },
   "outputs": [],
   "source": [
    "sum(process.vector_outputs_df[\"biomass_consumption\"].dropna())"
   ]
  },
  {
   "cell_type": "code",
   "execution_count": null,
   "id": "1eb23733-5b21-43a5-ae13-4322d9947137",
   "metadata": {},
   "outputs": [],
   "source": [
    "# from gemseo.algos.design_space import DesignSpace\n",
    "# from gemseo import generate_n2_plot, create_scenario\n",
    "\n",
    "# manual_DOE_carbon_budgets = [k * europe_ask_share for k in [2.0, 2.5, 2.6, 2.7, 2.8, 2.9, 3.0, 3.2, 3.5, 4.0]]\n",
    "# manual_DOE_results = {}\n",
    "\n",
    "                    \n",
    "# for carbon_budget_share in manual_DOE_carbon_budgets:\n",
    "    \n",
    "#     process.parameters.aviation_carbon_budget_objective = carbon_budget_share\n",
    "                             \n",
    "#     process.setup()\n",
    "\n",
    "#     design_space = DesignSpace()\n",
    "\n",
    "#     # design_space.add_variable(\"load_factor_end_year\", size=1, lower_bound=89.0, upper_bound=89.5, value=89.2)\n",
    "#     design_space.add_variable(\"electrofuel_share_reference_years_values\", size=7, lower_bound=[0, 0, 0, 0, 0, 0, 0], upper_bound=[0, 100, 100,100, 100, 100, 100], value=[0, 0, 1.2, 5, 10, 15, 35])\n",
    "#     design_space.add_variable(\"biofuel_share_reference_years_values\", size=7, lower_bound=[0, 0, 0, 0, 0, 0, 0], upper_bound=[0, 100, 100,100, 100, 100, 100], value=[0, 2, 4.8, 15, 24, 27, 35])\n",
    "#     # design_space.add_variable(\"biofuel_share_reference_years_values\", size=7, lower_bound=np.array([0, 0, 0,0, 0, 0, 0]), upper_bound=np.array([0, 100, 100,100, 100, 100, 100]), value=np.array([0, 0, 1.2, 5, 10, 15, 35]))\n",
    "#     # design_space.add_variable(\"biofuel_share_reference_years_values\", size=1, lower_bound=1, upper_bound=100, value=5)\n",
    "\n",
    "#     objective_name = \"cumulative_total_airline_cost_discounted_obj\"\n",
    "\n",
    "\n",
    "#     process.gemseo_settings[\"design_space\"] = design_space\n",
    "\n",
    "#     process.gemseo_settings[\"objective_name\"] = objective_name\n",
    "\n",
    "#     # process.gemseo_settings[\"scenario_type\"]=\"DOE\"\n",
    "#     process.gemseo_settings[\"scenario_type\"] = \"MDO\"\n",
    "\n",
    "#     # Create a GEMSEO scenario\n",
    "#     process.create_gemseo_scenario()\n",
    "\n",
    "#     # Set differention method (only use for gradient based optimizers)\n",
    "#     process.scenario.set_differentiation_method(\"finite_differences\")\n",
    "\n",
    "#     # Add constraints\n",
    "#     all_constraints = [\n",
    "#         \"aviation_carbon_budget_constraint\",\n",
    "#         \"blend_completeness_constraint\",\n",
    "#         \"electricity_trajectory_constraint\",\n",
    "#         \"biomass_trajectory_constraint\",\n",
    "#         \"electrofuel_use_growth_constraint\",\n",
    "#         \"biofuel_use_growth_constraint\",\n",
    "#         \"biofuel_use_no_degrowth_constraint\",\n",
    "#         \"electrofuel_use_no_degrowth_constraint\"\n",
    "#     ]\n",
    "\n",
    "\n",
    "\n",
    "#     for constraint in all_constraints:\n",
    "#         process.scenario.add_constraint(constraint, constraint_type=\"ineq\")\n",
    "\n",
    "\n",
    "\n",
    "#     process.scenario.formulation.optimization_problem.objective = process.scenario.formulation.optimization_problem.objective * 1e-12\n",
    "\n",
    "#     algo_options = {\n",
    "#         \"ftol_rel\": 0.001,\n",
    "#         \"ftol_abs\": 0.001,\n",
    "#         \"normalize_design_space\": True,\n",
    "#         \"init_step\":1\n",
    "#     }\n",
    "#     # Configure the algorithm used\n",
    "#     # config_algo = {\"algo\": \"NLOPT_COBYLA\", \"max_iter\": 200}\n",
    "#     config_algo = {\n",
    "#         \"algo\": \"NLOPT_COBYLA\",\n",
    "#         \"max_iter\": 500,\n",
    "#         \"algo_options\":algo_options\n",
    "#     }\n",
    "#     # config_algo = {\"algo\": \"DIFFERENTIAL_EVOLUTION\", \"max_iter\": 1000}\n",
    "\n",
    "#     #Configure the DOE used\n",
    "\n",
    "#     # config_algo = {\"algo\": \"LHS\", \"n_samples\": 1000}\n",
    "\n",
    "\n",
    "#     process.input_data.update(config_algo)\n",
    "                             \n",
    "#     process.compute()\n",
    "    \n",
    "#     manual_DOE_results[carbon_budget_share]=process.scenario.get_result().optimization_problems_to_results\n",
    "                             \n",
    "    "
   ]
  },
  {
   "cell_type": "code",
   "execution_count": null,
   "id": "62017b29-1bde-4e40-a149-e682e84f17af",
   "metadata": {
    "tags": []
   },
   "outputs": [],
   "source": [
    "# manual_DOE_results"
   ]
  },
  {
   "cell_type": "code",
   "execution_count": null,
   "id": "4c184247-cded-4796-8310-71b732bde37c",
   "metadata": {
    "tags": []
   },
   "outputs": [],
   "source": [
    "# {\n",
    "#   \"0.3098\": {\n",
    "#     \"main\": {\n",
    "#       \"Optimization result\": {\n",
    "#         \"Design variables\": [0.0, 0.0200054873, 2.05140066, 21.1813998, 50.2237717, 62.708779, 67.6659455, 0.0, 6.37460003, 13.3005508, 23.9880299, 34.5420461, 38.6414905, 40.5526613],\n",
    "#         \"Objective function\": 4.923723348357994,\n",
    "#         \"Feasible solution\": false\n",
    "#       }\n",
    "#     }\n",
    "#   },\n",
    "#   \"0.38725000000000004\": {\n",
    "#     \"main\": {\n",
    "#       \"Optimization result\": {\n",
    "#         \"Design variables\": [0.0, 9.50830997e-16, 5.46074505e-15, 4.87835124, 17.8344375, 35.9188935, 44.7192748, 0.0, 6.06082219, 13.16114, 23.2813313, 30.8878381, 35.5180169, 37.1535953],\n",
    "#         \"Objective function\": 4.703385363758759,\n",
    "#         \"Feasible solution\": true\n",
    "#       }\n",
    "#     }\n",
    "#   },\n",
    "#   \"0.40274000000000004\": {\n",
    "#     \"main\": {\n",
    "#       \"Optimization result\": {\n",
    "#         \"Design variables\": [0.0, 5.68528514e-16, 3.52478468e-16, 2.13553207, 11.523514, 27.3651544, 48.9386831, 0.0, 5.57028651, 13.8559199, 14.8875224, 26.9343106, 35.2600772, 37.1299377],\n",
    "#         \"Objective function\": 4.65427847765963,\n",
    "#         \"Feasible solution\": true\n",
    "#       }\n",
    "#     }\n",
    "#   },\n",
    "#   \"0.41823000000000005\": {\n",
    "#     \"main\": {\n",
    "#       \"Optimization result\": {\n",
    "#         \"Design variables\": [0.0, 8.00602614e-15, 0.493206033, 2.15320295, 6.84688915, 16.065036, 35.8409102, 0.0, 5.21639236, 9.54168243, 15.385152, 30.3210818, 35.4914538, 36.6780568],\n",
    "#         \"Objective function\": 4.608114408167807,\n",
    "#         \"Feasible solution\": true\n",
    "#       }\n",
    "#     }\n",
    "#   },\n",
    "#   \"0.43372\": {\n",
    "#     \"main\": {\n",
    "#       \"Optimization result\": {\n",
    "#         \"Design variables\": [0.0, 2.60208521e-15, 2.01227923e-14, 1.90819582e-14, 4.46973153, 14.5540439, 32.7356765, 0.0, 3.12017252, 8.47822827, 13.5795412, 23.1990379, 29.6078295, 34.8518127],\n",
    "#         \"Objective function\": 4.569699143108438,\n",
    "#         \"Feasible solution\": true\n",
    "#       }\n",
    "#     }\n",
    "#   },\n",
    "#   \"0.44921\": {\n",
    "#     \"main\": {\n",
    "#       \"Optimization result\": {\n",
    "#         \"Design variables\": [0.0, 0.11924028, 0.4731823, 3.9455404, 17.04417396, 40.53708351, 56.24505107, 0.0, 0.08376552, 0.67126784, 8.39397436, 15.21908486, 28.46091729, 36.36557437],\n",
    "#         \"Objective function\": 4.659503862073434,\n",
    "#         \"Feasible solution\": true\n",
    "#       }\n",
    "#     }\n",
    "#   },\n",
    "#   \"0.4647\": {\n",
    "#     \"main\": {\n",
    "#       \"Optimization result\": {\n",
    "#         \"Design variables\": [0.0, 5.0497717e-16, 1.71911138e-15, 7.20866319e-15, 5.34337113e-14, 2.77555756e-14, 1.61869054, 0.0, 9.96287534e-15, 2.65478792, 10.1524168, 20.8683498, 32.3839377, 37.0775387],\n",
    "#         \"Objective function\": 4.4858105558686425,\n",
    "#         \"Feasible solution\": true\n",
    "#       }\n",
    "#     }\n",
    "#   },\n",
    "#   \"0.49568000000000006\": {\n",
    "#     \"main\": {\n",
    "#       \"Optimization result\": {\n",
    "#         \"Design variables\": [0.0, 1.209974e-15, 9.07712291e-17, 4.52762243e-17, 0.501961593, 13.5764353, 29.1746387, 0.0, 1.50004538, 10.175401, 20.0427433, 27.2900464, 35.5768404, 37.155043],\n",
    "#         \"Objective function\": 4.570591342503452,\n",
    "#         \"Feasible solution\": true\n",
    "#       }\n",
    "#     }\n",
    "#   },\n",
    "#   \"0.54215\": {\n",
    "#     \"main\": {\n",
    "#       \"Optimization result\": {\n",
    "#         \"Design variables\": [0.0, 1.63064007e-14, 1.83880688e-14, 1.11022302e-14, 6.1409211e-14, 8.46564825, 53.1968294, 0.0, 8.32667268e-15, 6.28789295, 12.7622453, 20.8460642, 30.18929, 31.6952819],\n",
    "#         \"Objective function\": 4.555169656402445,\n",
    "#         \"Feasible solution\": true\n",
    "#       }\n",
    "#     }\n",
    "#   },\n",
    "#   \"0.6196\": {\n",
    "#     \"main\": {\n",
    "#       \"Optimization result\": {\n",
    "#         \"Design variables\": [0.0, 1.63064007e-14, 1.83880688e-14, 1.11022302e-14, 6.1409211e-14, 8.46564825, 53.1968294, 0.0, 8.32667268e-15, 6.28789295, 12.7622453, 20.8460642, 30.18929, 31.6952819],\n",
    "#         \"Objective function\": 4.555169656402445,\n",
    "#         \"Feasible solution\": true\n",
    "#       }\n",
    "#     }\n",
    "#   }\n",
    "# }\n"
   ]
  },
  {
   "cell_type": "code",
   "execution_count": null,
   "id": "9dcddbb8-9977-49e8-b2c7-c15219df1b8f",
   "metadata": {},
   "outputs": [],
   "source": []
  }
 ],
 "metadata": {
  "kernelspec": {
   "display_name": "Python 3 (ipykernel)",
   "language": "python",
   "name": "python3"
  },
  "language_info": {
   "codemirror_mode": {
    "name": "ipython",
    "version": 3
   },
   "file_extension": ".py",
   "mimetype": "text/x-python",
   "name": "python",
   "nbconvert_exporter": "python",
   "pygments_lexer": "ipython3",
   "version": "3.9.20"
  }
 },
 "nbformat": 4,
 "nbformat_minor": 5
}
