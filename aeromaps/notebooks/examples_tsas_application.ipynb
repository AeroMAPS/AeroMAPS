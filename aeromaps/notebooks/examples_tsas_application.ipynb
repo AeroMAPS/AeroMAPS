{
 "cells": [
  {
   "cell_type": "markdown",
   "metadata": {},
   "source": [
    "# Application for TSAS\n",
    "\n",
    "This document has been published for reproducing the application presented in a conference paper dedicated to AeroMAPS, focuding on the reproduction of ICAO LTAG scenarios. The different assumptions of this prospective scenario are given in the following. \n",
    "\n",
    "> **⚠ This notebook has been developed with the AeroMAPS version v0.7.1-beta for obtaining the paper results. However, this notebook has been or could be modified in order to be executable with the latest versions of AeroMAPS, which sometimes leads to different results compared to the ones from the paper, due to some models' modifications. In order to retrieve the results of the paper, one can use the v0.4.2-beta version associated with the original notebook.**"
   ]
  },
  {
   "cell_type": "markdown",
   "metadata": {
    "slideshow": {
     "slide_type": "slide"
    }
   },
   "source": [
    "## Load and process"
   ]
  },
  {
   "cell_type": "code",
   "execution_count": null,
   "metadata": {
    "slideshow": {
     "slide_type": "subslide"
    },
    "tags": []
   },
   "outputs": [],
   "source": [
    "%matplotlib widget\n",
    "import time\n",
    "import numpy as np\n",
    "from aeromaps import create_process\n",
    "from aeromaps.core.models import (\n",
    "    models_traffic,\n",
    "    models_efficiency_bottom_up,\n",
    "    models_efficiency_top_down,\n",
    "    models_energy_with_fuel_effect,\n",
    "    models_offset,\n",
    "    models_climate_fair,\n",
    "    models_sustainability,\n",
    "    models_energy_cost_complex,\n",
    "    models_operation_cost_bottom_up,\n",
    "    models_production_cost,\n",
    "    models_abatements_cost,\n",
    ")\n",
    "from aeromaps.utils.functions import create_partitioning, merge_json_files"
   ]
  },
  {
   "cell_type": "code",
   "execution_count": null,
   "metadata": {
    "tags": []
   },
   "outputs": [],
   "source": [
    "create_partitioning(file=\"data_tsas/aeroscope_international_data.csv\", path=\"data_tsas\")"
   ]
  },
  {
   "cell_type": "code",
   "execution_count": null,
   "metadata": {},
   "outputs": [],
   "source": [
    "merge_json_files(\n",
    "    \"data_tsas/partitioned_inputs.json\",\n",
    "    \"data_tsas/ltag_data_inputs/is0high_inputs.json\",\n",
    "    \"data_tsas/partitioned_ltag_data_inputs/partitioned_is0high_inputs.json\",\n",
    ")\n",
    "merge_json_files(\n",
    "    \"data_tsas/partitioned_inputs.json\",\n",
    "    \"data_tsas/ltag_data_inputs/is0low_inputs.json\",\n",
    "    \"data_tsas/partitioned_ltag_data_inputs/partitioned_is0low_inputs.json\",\n",
    ")\n",
    "merge_json_files(\n",
    "    \"data_tsas/partitioned_inputs.json\",\n",
    "    \"data_tsas/ltag_data_inputs/is0medium_inputs.json\",\n",
    "    \"data_tsas/partitioned_ltag_data_inputs/partitioned_is0medium_inputs.json\",\n",
    ")\n",
    "merge_json_files(\n",
    "    \"data_tsas/partitioned_inputs.json\",\n",
    "    \"data_tsas/ltag_data_inputs/is1high_inputs.json\",\n",
    "    \"data_tsas/partitioned_ltag_data_inputs/partitioned_is1high_inputs.json\",\n",
    ")\n",
    "merge_json_files(\n",
    "    \"data_tsas/partitioned_inputs.json\",\n",
    "    \"data_tsas/ltag_data_inputs/is1low_inputs.json\",\n",
    "    \"data_tsas/partitioned_ltag_data_inputs/partitioned_is1low_inputs.json\",\n",
    ")\n",
    "merge_json_files(\n",
    "    \"data_tsas/partitioned_inputs.json\",\n",
    "    \"data_tsas/ltag_data_inputs/is1medium_inputs.json\",\n",
    "    \"data_tsas/partitioned_ltag_data_inputs/partitioned_is1medium_inputs.json\",\n",
    ")\n",
    "merge_json_files(\n",
    "    \"data_tsas/partitioned_inputs.json\",\n",
    "    \"data_tsas/ltag_data_inputs/is2high_inputs.json\",\n",
    "    \"data_tsas/partitioned_ltag_data_inputs/partitioned_is2high_inputs.json\",\n",
    ")\n",
    "merge_json_files(\n",
    "    \"data_tsas/partitioned_inputs.json\",\n",
    "    \"data_tsas/ltag_data_inputs/is2low_inputs.json\",\n",
    "    \"data_tsas/partitioned_ltag_data_inputs/partitioned_is2low_inputs.json\",\n",
    ")\n",
    "merge_json_files(\n",
    "    \"data_tsas/partitioned_inputs.json\",\n",
    "    \"data_tsas/ltag_data_inputs/is2medium_inputs.json\",\n",
    "    \"data_tsas/partitioned_ltag_data_inputs/partitioned_is2medium_inputs.json\",\n",
    ")\n",
    "merge_json_files(\n",
    "    \"data_tsas/partitioned_inputs.json\",\n",
    "    \"data_tsas/ltag_data_inputs/is3high_inputs.json\",\n",
    "    \"data_tsas/partitioned_ltag_data_inputs/partitioned_is3high_inputs.json\",\n",
    ")\n",
    "merge_json_files(\n",
    "    \"data_tsas/partitioned_inputs.json\",\n",
    "    \"data_tsas/ltag_data_inputs/is3low_inputs.json\",\n",
    "    \"data_tsas/partitioned_ltag_data_inputs/partitioned_is3low_inputs.json\",\n",
    ")\n",
    "merge_json_files(\n",
    "    \"data_tsas/partitioned_inputs.json\",\n",
    "    \"data_tsas/ltag_data_inputs/is3medium_inputs.json\",\n",
    "    \"data_tsas/partitioned_ltag_data_inputs/partitioned_is3medium_inputs.json\",\n",
    ")"
   ]
  },
  {
   "cell_type": "code",
   "execution_count": null,
   "metadata": {
    "tags": []
   },
   "outputs": [],
   "source": [
    "models = {\n",
    "    \"models_traffic\": models_traffic,\n",
    "    \"models_efficiency_bottom_up\": models_efficiency_bottom_up,\n",
    "    \"models_energy_with_fuel_effect\": models_energy_with_fuel_effect,\n",
    "    \"models_offset\": models_offset,\n",
    "    \"models_climate_fair\": models_climate_fair,\n",
    "    \"models_sustainability\": models_sustainability,\n",
    "    \"models_energy_cost_complex\": models_energy_cost_complex,\n",
    "    \"models_operation_cost_bottom_up\": models_operation_cost_bottom_up,\n",
    "    \"models_production_cost\": models_production_cost,\n",
    "    \"models_abatements_cost\": models_abatements_cost,\n",
    "}\n",
    "\n",
    "models = {\n",
    "    \"models_traffic\": models_traffic,\n",
    "    \"models_efficiency_top_down\": models_efficiency_top_down,\n",
    "    \"models_energy_with_fuel_effect\": models_energy_with_fuel_effect,\n",
    "    \"models_offset\": models_offset,\n",
    "    \"models_climate_fair\": models_climate_fair,\n",
    "}"
   ]
  },
  {
   "cell_type": "code",
   "execution_count": null,
   "metadata": {
    "slideshow": {
     "slide_type": "subslide"
    },
    "tags": []
   },
   "outputs": [],
   "source": [
    "process = create_process(\n",
    "    configuration_file=\"data_tsas/config_files/config_is3medium.json\",\n",
    "    models=models,\n",
    ")"
   ]
  },
  {
   "cell_type": "markdown",
   "metadata": {
    "slideshow": {
     "slide_type": "slide"
    }
   },
   "source": [
    "## Set up variables\n",
    "\n",
    "### Aviation scenario"
   ]
  },
  {
   "cell_type": "code",
   "execution_count": null,
   "metadata": {},
   "outputs": [],
   "source": [
    "# process.parameters.kerosene_emission_factor_reference_years_values = [74] #74"
   ]
  },
  {
   "cell_type": "code",
   "execution_count": null,
   "metadata": {
    "slideshow": {
     "slide_type": "subslide"
    },
    "tags": []
   },
   "outputs": [],
   "source": [
    "## Aircraft energy - Introduction of alternative drop-in fuels\n",
    "#\n",
    "### Share of alternative fuels in the drop-in fuel mix (the rest being supplemented by kerosene) [%]\n",
    "# process.parameters.biofuel_share_reference_years = [2020, 2030, 2040, 2050, 2070]\n",
    "# process.parameters.biofuel_share_reference_years_values = [0.0, 4.8, 24.0, 35.0, 35.0]\n",
    "# process.parameters.electrofuel_share_reference_years = [2020, 2030, 2040, 2050, 2060, 2070]\n",
    "# process.parameters.electrofuel_share_reference_years_values = [0.0, 1.2, 10.0, 35.0, 48, 58.0]"
   ]
  },
  {
   "cell_type": "code",
   "execution_count": null,
   "metadata": {
    "slideshow": {
     "slide_type": "subslide"
    },
    "tags": []
   },
   "outputs": [],
   "source": [
    "## Various environmental settings\n",
    "#\n",
    "### Share of biofuel production pathways (the rest being completed by AtJ processes) [%]\n",
    "# process.parameters.biofuel_hefa_fog_share_reference_years = [2020, 2030, 2040, 2050]\n",
    "# process.parameters.biofuel_hefa_fog_share_reference_years_values = [100, 0.7, 0.7, 0.7]\n",
    "# process.parameters.biofuel_hefa_others_share_reference_years = [2020, 2030, 2040, 2050]\n",
    "# process.parameters.biofuel_hefa_others_share_reference_years_values = [0.0, 3.8, 3.8, 3.8]\n",
    "# process.parameters.biofuel_ft_others_share_reference_years = [2020, 2030, 2040, 2050]\n",
    "# process.parameters.biofuel_ft_others_share_reference_years_values = [0.0, 76.3, 76.3, 76.3]\n",
    "# process.parameters.biofuel_ft_msw_share_reference_years = [2020, 2030, 2040, 2050]\n",
    "# process.parameters.biofuel_ft_msw_share_reference_years_values = [0.0, 7.4, 7.4, 7.4]\n",
    "#\n",
    "### Emission factors for electricity (2019 value: 429 gCO2/kWh)\n",
    "# process.parameters.electricity_emission_factor_reference_years = [2020, 2030, 2040, 2050]\n",
    "# process.parameters.electricity_emission_factor_reference_years_values = [429.0, 180.0, 75.0, 30.0]"
   ]
  },
  {
   "cell_type": "markdown",
   "metadata": {},
   "source": [
    "### Sustainability assessment"
   ]
  },
  {
   "cell_type": "markdown",
   "metadata": {
    "slideshow": {
     "slide_type": "slide"
    }
   },
   "source": [
    "## Compute"
   ]
  },
  {
   "cell_type": "code",
   "execution_count": null,
   "metadata": {
    "slideshow": {
     "slide_type": "subslide"
    },
    "tags": []
   },
   "outputs": [],
   "source": [
    "t1 = time.time()\n",
    "process.compute()\n",
    "t2 = time.time()\n",
    "print(\"Computation time:\", np.round(t2 - t1, 2), \"s\")"
   ]
  },
  {
   "cell_type": "markdown",
   "metadata": {},
   "source": [
    "## Results"
   ]
  },
  {
   "cell_type": "markdown",
   "metadata": {
    "slideshow": {
     "slide_type": "slide"
    }
   },
   "source": [
    "### Plots"
   ]
  },
  {
   "cell_type": "code",
   "execution_count": null,
   "metadata": {
    "slideshow": {
     "slide_type": "subslide"
    },
    "tags": []
   },
   "outputs": [],
   "source": [
    "process.plot(\"air_transport_co2_emissions\")"
   ]
  },
  {
   "cell_type": "code",
   "execution_count": null,
   "metadata": {
    "tags": []
   },
   "outputs": [],
   "source": [
    "process.plot(\"emission_factor_per_fuel\")"
   ]
  },
  {
   "cell_type": "code",
   "execution_count": null,
   "metadata": {
    "tags": []
   },
   "outputs": [],
   "source": [
    "process.data[\"vector_outputs\"][[\"cumulative_co2_emissions\"]]"
   ]
  },
  {
   "cell_type": "code",
   "execution_count": null,
   "metadata": {
    "tags": []
   },
   "outputs": [],
   "source": [
    "process.data[\"climate_outputs\"][[\"co2_emissions\"]]"
   ]
  },
  {
   "cell_type": "code",
   "execution_count": null,
   "metadata": {
    "tags": []
   },
   "outputs": [],
   "source": [
    "raw_data = \"0,0%1,7%2,8%3,5%3,9%4,8%5,7%6,6%7,4%8,2%9,0%10,5%11,9%13,2%14,5%15,7%16,7%17,6%18,5%19,3%20,0%23,4%26,6%29,7%32,7%35,6%38,3%41,0%43,5%45,9%48,3%49,0%49,6%50,3%50,9%51,5%52,1%52,7%53,3%53,8%54,4%54,1%53,8%53,5%53,2%52,9%52,6%52,3%52,0%51,7%51,4%\"\n",
    "\n",
    "# Convertir en tableau NumPy\n",
    "data = np.array([float(value.replace(\",\", \".\")) for value in raw_data.split(\"%\") if value])\n",
    "\n",
    "# Afficher les données avec des virgules\n",
    "print(\", \".join(map(str, data)))"
   ]
  },
  {
   "cell_type": "code",
   "execution_count": null,
   "metadata": {},
   "outputs": [],
   "source": []
  }
 ],
 "metadata": {
  "celltoolbar": "Diaporama",
  "kernelspec": {
   "display_name": "Python 3 (ipykernel)",
   "language": "python",
   "name": "python3"
  },
  "language_info": {
   "codemirror_mode": {
    "name": "ipython",
    "version": 3
   },
   "file_extension": ".py",
   "mimetype": "text/x-python",
   "name": "python",
   "nbconvert_exporter": "python",
   "pygments_lexer": "ipython3",
   "version": "3.10.14"
  }
 },
 "nbformat": 4,
 "nbformat_minor": 4
}
