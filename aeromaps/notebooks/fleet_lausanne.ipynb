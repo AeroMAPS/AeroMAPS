{
 "cells": [
  {
   "cell_type": "markdown",
   "id": "721e00ea-eec3-4040-a716-d63927e46ff1",
   "metadata": {},
   "source": [
    "# Example for using fleet modeling in AeroMAPS"
   ]
  },
  {
   "cell_type": "markdown",
   "id": "8b8bd6a5-69d6-4519-9670-56a8e027ff38",
   "metadata": {},
   "source": [
    "This notebook aims at using the classes dedicated to the fleet modelling that are used in AeroMAPS."
   ]
  },
  {
   "cell_type": "markdown",
   "id": "b1ab1748-8998-4541-9e62-147a56261d6a",
   "metadata": {},
   "source": [
    "## Link with other AeroMAPS models\n",
    "\n",
    "This fleet model can be used in AeroMAPS for improving the modeling of the fleet efficiency. For this purpose, a dedicated model is loaded, based on the bottom-up approach using fleet model. It replaces the basic top-down approach for modeling the evolution of the fleet efficiency, based on annual efficiency gains."
   ]
  },
  {
   "cell_type": "code",
   "execution_count": 1,
   "id": "e0ba22a9-dd5d-420d-b9a5-2f79582d1a83",
   "metadata": {
    "slideshow": {
     "slide_type": "subslide"
    },
    "tags": []
   },
   "outputs": [],
   "source": [
    "%matplotlib widget\n",
    "from aeromaps.core.process import AeromapsProcess\n",
    "from aeromaps.core.models import models_complex"
   ]
  },
  {
   "cell_type": "markdown",
   "id": "641394a1-ed30-49a8-95c2-a63c346468f8",
   "metadata": {},
   "source": [
    "Here, an example using the previous fleet generated is performed with the AeroMAPS default float inputs. The hydrogen used for hydrogen aircraft is assumed to be produced via electrolysis using dedicated low-carbon electricity."
   ]
  },
  {
   "cell_type": "code",
   "execution_count": 2,
   "id": "d0c6d06f-acf2-4361-9d62-3391fda8e33a",
   "metadata": {
    "slideshow": {
     "slide_type": "subslide"
    },
    "tags": []
   },
   "outputs": [],
   "source": [
    "process = AeromapsProcess(read_json=True, models=models_complex, fleet=True)"
   ]
  },
  {
   "cell_type": "code",
   "execution_count": 3,
   "id": "e1d12d36-2863-4474-a5eb-1bc021b5f837",
   "metadata": {
    "slideshow": {
     "slide_type": "subslide"
    },
    "tags": []
   },
   "outputs": [],
   "source": [
    "# Air traffic evolution\n",
    "\n",
    "## Growth rate by category and decade [%]\n",
    "process.parameters.growth_rate_2020_2030_short_range = 3\n",
    "process.parameters.growth_rate_2030_2040_short_range = 3\n",
    "process.parameters.growth_rate_2040_2050_short_range = 3\n",
    "process.parameters.growth_rate_2020_2030_medium_range = 3\n",
    "process.parameters.growth_rate_2030_2040_medium_range = 3\n",
    "process.parameters.growth_rate_2040_2050_medium_range = 3\n",
    "process.parameters.growth_rate_2020_2030_long_range = 3\n",
    "process.parameters.growth_rate_2030_2040_long_range = 3\n",
    "process.parameters.growth_rate_2040_2050_long_range = 3\n",
    "process.parameters.growth_rate_2020_2030_freight = 3\n",
    "process.parameters.growth_rate_2030_2040_freight = 3\n",
    "process.parameters.growth_rate_2040_2050_freight = 3"
   ]
  },
  {
   "cell_type": "code",
   "execution_count": 4,
   "id": "1b7a5924-eb50-4194-b21c-9ec6597689de",
   "metadata": {
    "slideshow": {
     "slide_type": "subslide"
    },
    "tags": []
   },
   "outputs": [],
   "source": [
    "# Aircraft fleet and operation evolution - Aircraft load factor\n",
    "\n",
    "## Aircraft load factor in 2050 [%]\n",
    "process.parameters.load_factor_end_year = 89  # 2019 value: 82.399312"
   ]
  },
  {
   "cell_type": "code",
   "execution_count": 5,
   "id": "aba0c362-4eed-431b-a63c-6ea22a178de9",
   "metadata": {
    "slideshow": {
     "slide_type": "subslide"
    },
    "tags": []
   },
   "outputs": [],
   "source": [
    "# Aircraft fleet and operation evolution - Operations\n",
    "\n",
    "## Values for setting the logistic function\n",
    "process.parameters.operations_final_gain = 8.0  # [%]\n",
    "process.parameters.operations_start_year = 2025\n",
    "process.parameters.operations_duration = 25.0"
   ]
  },
  {
   "cell_type": "code",
   "execution_count": 6,
   "id": "716a9b06-5311-4d93-999c-c02709ff78ce",
   "metadata": {
    "slideshow": {
     "slide_type": "subslide"
    },
    "tags": []
   },
   "outputs": [],
   "source": [
    "# Environmental limits\n",
    "\n",
    "## Carbon budgets and Carbon Dioxide Removal [GtCO2]\n",
    "process.parameters.net_carbon_budget = 850.0\n",
    "process.parameters.carbon_dioxyde_removal_2100 = 280.0\n",
    "\n",
    "## Available energy resources in 2050 [EJ]\n",
    "process.parameters.waste_biomass = 12\n",
    "process.parameters.crops_biomass = 63\n",
    "process.parameters.forest_residues_biomass = 17\n",
    "process.parameters.agricultural_residues_biomass = 57\n",
    "process.parameters.algae_biomass = 15\n",
    "process.parameters.available_electricity = 250.0"
   ]
  },
  {
   "cell_type": "code",
   "execution_count": 7,
   "id": "61385884-eabe-4f5c-a60c-820a706b7a4c",
   "metadata": {
    "slideshow": {
     "slide_type": "subslide"
    },
    "tags": []
   },
   "outputs": [],
   "source": [
    "# Allocation settings\n",
    "\n",
    "## Aviation share of the global (equivalent) carbon budget [%]\n",
    "process.parameters.aviation_carbon_budget_allocated_share = 2.6\n",
    "process.parameters.aviation_equivalentcarbonbudget_allocated_share = 5.1\n",
    "\n"
   ]
  },
  {
   "cell_type": "code",
   "execution_count": 8,
   "id": "1b5047cb-c2ff-44b6-a328-5d93e323e7da",
   "metadata": {
    "slideshow": {
     "slide_type": "subslide"
    },
    "tags": []
   },
   "outputs": [],
   "source": [
    "# Aircraft energy - Introduction of alternative drop-in fuels\n",
    "\n",
    "## Share of alternative fuels in the drop-in fuel mix by decade (the rest being supplemented by kerosene) [%]\n",
    "\n",
    "# REFUELEU LIKE\n",
    "\n",
    "process.parameters.biofuel_share_2030 = 4.8\n",
    "process.parameters.biofuel_share_2040 = 24.0\n",
    "process.parameters.biofuel_share_2050 = 35.0\n",
    "process.parameters.electrofuel_share_2030 = 1.2\n",
    "process.parameters.electrofuel_share_2040 = 10.0\n",
    "process.parameters.electrofuel_share_2050 = 35.0\n",
    "\n"
   ]
  },
  {
   "cell_type": "code",
   "execution_count": 9,
   "id": "8f597879-fe65-4f66-bd9e-94e5bc22785a",
   "metadata": {
    "slideshow": {
     "slide_type": "subslide"
    },
    "tags": []
   },
   "outputs": [],
   "source": [
    "# Various environmental settings\n",
    "\n",
    "## Share of biofuel production pathways by decade (the rest being completed by AtJ processes) [%]\n",
    "# REFUELEU LIKE\n",
    "process.parameters.biofuel_hefa_fog_share_2030 = 0.7\n",
    "process.parameters.biofuel_hefa_fog_share_2040 = 0.7\n",
    "process.parameters.biofuel_hefa_fog_share_2050 = 0.7\n",
    "process.parameters.biofuel_hefa_others_share_2030 = 3.8\n",
    "process.parameters.biofuel_hefa_others_share_2040 = 3.8\n",
    "process.parameters.biofuel_hefa_others_share_2050 = 3.8\n",
    "process.parameters.biofuel_ft_others_share_2030 = 76.3\n",
    "process.parameters.biofuel_ft_others_share_2040 = 76.3\n",
    "process.parameters.biofuel_ft_others_share_2050 = 76.3\n",
    "process.parameters.biofuel_ft_msw_share_2030 = 7.4\n",
    "process.parameters.biofuel_ft_msw_share_2040 = 7.4\n",
    "process.parameters.biofuel_ft_msw_share_2050 = 7.4\n",
    "\n",
    "\n",
    "## Emission factors for electricity by decade (2019 value: 429 gCO2/kWh)\n",
    "process.parameters.electricity_emission_factor_2020 = 429\n",
    "process.parameters.electricity_emission_factor_2030 = 200\n",
    "process.parameters.electricity_emission_factor_2040 = 100\n",
    "process.parameters.electricity_emission_factor_2050 = 30\n",
    "\n",
    "## Share of hydrogen production pathways by decade (the rest being completed by production via coal without CCS) [%]\n",
    "## Distribution in 2019: Gas without CCS (71%), Coal without CCS (27%), Electrolysis (2%), Others with CCS (0%), Co-products not taken into account\n",
    "process.parameters.hydrogen_electrolysis_share_2030 = 100\n",
    "process.parameters.hydrogen_electrolysis_share_2040 = 100\n",
    "process.parameters.hydrogen_electrolysis_share_2050 = 100\n",
    "process.parameters.hydrogen_gas_ccs_share_2030 = 0\n",
    "process.parameters.hydrogen_gas_ccs_share_2040 = 0\n",
    "process.parameters.hydrogen_gas_ccs_share_2050 = 0\n",
    "process.parameters.hydrogen_coal_ccs_share_2030 = 0\n",
    "process.parameters.hydrogen_coal_ccs_share_2040 = 0\n",
    "process.parameters.hydrogen_coal_ccs_share_2050 = 0\n",
    "process.parameters.hydrogen_gas_share_2030 = 0\n",
    "process.parameters.hydrogen_gas_share_2040 = 0\n",
    "process.parameters.hydrogen_gas_share_2050 = 0"
   ]
  },
  {
   "cell_type": "code",
   "execution_count": 10,
   "id": "864f7dab-3a56-4a7d-95f1-693ceb8cc83f",
   "metadata": {
    "tags": []
   },
   "outputs": [],
   "source": [
    "# process.parameters.covid_start_year: int = 2020\n",
    "# process.parameters.covid_rpk_drop_start_year: float = 0.0  # [%]\n",
    "# process.parameters.covid_end_year: int = 2024\n",
    "# process.parameters.covid_end_year_reference_rpk_ratio: float = 112.0  # [%]\n",
    "# process.parameters.covid_load_factor_2020: float = 83.2  # [%]\n",
    "# process.parameters.covid_energy_intensity_per_ask_increase_2020: float = 0.0  # [%]"
   ]
  },
  {
   "cell_type": "markdown",
   "id": "9ec27d30-f96a-4535-b72a-5d7544264087",
   "metadata": {},
   "source": [
    "## Load and process"
   ]
  },
  {
   "cell_type": "code",
   "execution_count": 11,
   "id": "334ae7bc-274f-46f9-af6f-b371deed1406",
   "metadata": {
    "pycharm": {
     "is_executing": true
    },
    "tags": []
   },
   "outputs": [],
   "source": [
    "import pandas as pd\n",
    "\n",
    "pd.set_option(\"display.max_rows\", 500)\n",
    "pd.set_option(\"display.max_columns\", 500)\n",
    "pd.set_option(\"display.width\", 1000)"
   ]
  },
  {
   "cell_type": "markdown",
   "id": "3eb3ef4d-476a-4a2e-bf08-79184975b0f9",
   "metadata": {},
   "source": [
    "The fleet is divided into three main categories of aircraft, associated to an initial subcategory based on representative aircraft:\n",
    "- Short range (Conventional narrow-body)\n",
    "- Medium range (Conventional narrow-body)\n",
    "- Long range (Conventional wide-body)"
   ]
  },
  {
   "cell_type": "markdown",
   "id": "d0cbbdb6-459d-46fd-a294-b040b6ece346",
   "metadata": {},
   "source": [
    "Lets now assemble these categories into a fleet object. By default, two new aircraft have been added to the initial subcategories, and two subcategories have also been added for Short Range (turboprop aircraft and hydrogen aircraft). Illustrative values are considered."
   ]
  },
  {
   "cell_type": "code",
   "execution_count": 12,
   "id": "5f8eeb2d",
   "metadata": {
    "collapsed": false,
    "jupyter": {
     "outputs_hidden": false
    },
    "pycharm": {
     "name": "#%%\n"
    },
    "tags": []
   },
   "outputs": [],
   "source": [
    "fleet = process.fleet\n",
    "fleet_model = process.fleet_model"
   ]
  },
  {
   "cell_type": "markdown",
   "id": "a3c9f0d4-260b-4fa2-9afe-5d2373ae33e8",
   "metadata": {},
   "source": [
    "## Set up the fleet"
   ]
  },
  {
   "cell_type": "markdown",
   "id": "47da873a-cdc3-478f-90da-23153b2b72b8",
   "metadata": {},
   "source": [
    "A dedicated user interface can be used for modifying the fleet using the following command. The can then directly change the future composition of the fleet by simply adding subcategories and aircraft. For subcategories, the final distribution between the different subcategories among a category has to be indicated. For aircraft, the user can choose an Entry-Into-Service year as well as the type of fuel used (DROP_IN_FUEL or HYDROGEN). The gains in terms of fuel consumption, NOx emission index and soot emission index, in comparison to the recent reference aircraft in the initial subcategory, also have to be specified. Negative values can be considered, meaning an increase in fuel consumption for instance."
   ]
  },
  {
   "cell_type": "code",
   "execution_count": 13,
   "id": "7d636320-e679-4588-9e1a-24e9cb465b85",
   "metadata": {
    "tags": []
   },
   "outputs": [
    {
     "data": {
      "application/vnd.jupyter.widget-view+json": {
       "model_id": "0be859ccf44f4f19b53a8b38951a6303",
       "version_major": 2,
       "version_minor": 0
      },
      "text/plain": [
       "HBox(children=(Tree(nodes=(Node(name='Short Range', nodes=(Node(name='SR conventional narrow-body'), Node(name…"
      ]
     },
     "execution_count": 13,
     "metadata": {},
     "output_type": "execute_result"
    }
   ],
   "source": [
    "fleet.ui"
   ]
  },
  {
   "cell_type": "markdown",
   "id": "07fdf884-2a6c-42f3-a81b-65ae93d0c2e6",
   "metadata": {},
   "source": [
    "You can change fleet renewal rates for each category. The default value is 25 years."
   ]
  },
  {
   "cell_type": "code",
   "execution_count": null,
   "id": "aa2a7bfa-3fba-454d-8b98-3b9b17ae46f9",
   "metadata": {
    "tags": []
   },
   "outputs": [],
   "source": [
    "fleet.categories[\"Short Range\"].parameters.life = 25\n",
    "fleet.categories[\"Medium Range\"].parameters.life = 25\n",
    "fleet.categories[\"Long Range\"].parameters.life = 25"
   ]
  },
  {
   "cell_type": "code",
   "execution_count": null,
   "id": "b4f0f741-dc92-455f-822d-6f51f6612747",
   "metadata": {
    "tags": []
   },
   "outputs": [],
   "source": [
    "#This loop was used to perform a tradeoff analysis of required eis to meet a given target (see below)\n",
    "\n",
    "\n",
    "import numpy as np\n",
    "\n",
    "datastorage_co2=[]\n",
    "datastorage_final_co2=[]\n",
    "datastorage_energy=[]\n",
    "\n",
    "categories = list(fleet_model.fleet.categories.values())\n",
    "for year in range(2025,2046):\n",
    "    for val in range(61):\n",
    "        for i, category in enumerate(categories):\n",
    "            for j, subcategory in category.subcategories.items():\n",
    "                for aircraft in subcategory.aircraft.values():\n",
    "                    if aircraft.energy_type=='DROP_IN_FUEL':\n",
    "                        aircraft.parameters.consumption_gain=str(val)\n",
    "                        aircraft.parameters.entry_into_service_year=str(year)\n",
    "        fleet_model.compute()\n",
    "        process.compute()\n",
    "        # datastorage_co2.append([year, val, process.data['vector_outputs']['cumulative_co2_emissions'][2050]])\n",
    "        datastorage_energy.append([year, val, process.data['vector_outputs'].loc[2020:2050,'energy_consumption'].sum()])\n"
   ]
  },
  {
   "cell_type": "code",
   "execution_count": null,
   "id": "de101da5-7961-4a0a-893c-89ce6ce00d00",
   "metadata": {
    "tags": []
   },
   "outputs": [],
   "source": [
    "# pd.DataFrame(datastorage_final_co2).to_csv('25_years_final_co2.csv')\n",
    "# pd.DataFrame(datastorage_energy).to_csv('25_years_energy.csv')"
   ]
  },
  {
   "cell_type": "markdown",
   "id": "708fb33d-42ac-48d9-bab4-33f37d423227",
   "metadata": {},
   "source": [
    "## Compute and results for the fleet model\n",
    "\n",
    "Once the fleet has been chosen, the user can compute."
   ]
  },
  {
   "cell_type": "code",
   "execution_count": 14,
   "id": "6fa09d91-db39-4b74-9eb0-4705af870ea7",
   "metadata": {},
   "outputs": [],
   "source": [
    "fleet_model.compute()"
   ]
  },
  {
   "cell_type": "code",
   "execution_count": 15,
   "id": "33bf24ac-76a6-4d08-942a-e54e9553281f",
   "metadata": {
    "slideshow": {
     "slide_type": "subslide"
    },
    "tags": []
   },
   "outputs": [
    {
     "name": "stderr",
     "output_type": "stream",
     "text": [
      "Traceback (most recent call last):\n",
      "  File \"C:\\Users\\a.salgas.ISAE-SUPAERO\\AppData\\Local\\miniconda3\\envs\\AeroMAPS_prod_env\\lib\\site-packages\\gemseo\\core\\parallel_execution\\callable_parallel_execution.py\", line 64, in _execute_workers\n",
      "    output = task_callables(task_index)\n",
      "  File \"C:\\Users\\a.salgas.ISAE-SUPAERO\\AppData\\Local\\miniconda3\\envs\\AeroMAPS_prod_env\\lib\\site-packages\\gemseo\\core\\parallel_execution\\callable_parallel_execution.py\", line 105, in __call__\n",
      "    return callable_(self.inputs[task_index])\n",
      "  File \"C:\\Users\\a.salgas.ISAE-SUPAERO\\AppData\\Local\\miniconda3\\envs\\AeroMAPS_prod_env\\lib\\site-packages\\gemseo\\core\\discipline.py\", line 980, in execute\n",
      "    self._run()\n",
      "  File \"C:\\Users\\a.salgas.ISAE-SUPAERO\\PycharmProjects\\AeroMAPS\\aeromaps\\core\\gemseo.py\", line 162, in _run\n",
      "    input_vals = self._convert_inputs(input_vals)\n",
      "  File \"C:\\Users\\a.salgas.ISAE-SUPAERO\\PycharmProjects\\AeroMAPS\\aeromaps\\core\\gemseo.py\", line 226, in _convert_inputs\n",
      "    input_vals[name] = pd.Series(val, index=self.model.df.index)\n",
      "  File \"C:\\Users\\a.salgas.ISAE-SUPAERO\\AppData\\Local\\miniconda3\\envs\\AeroMAPS_prod_env\\lib\\site-packages\\pandas\\core\\series.py\", line 461, in __init__\n",
      "    com.require_length_match(data, index)\n",
      "  File \"C:\\Users\\a.salgas.ISAE-SUPAERO\\AppData\\Local\\miniconda3\\envs\\AeroMAPS_prod_env\\lib\\site-packages\\pandas\\core\\common.py\", line 571, in require_length_match\n",
      "    raise ValueError(\n",
      "ValueError: Length of values (0) does not match length of index (51)\n",
      "Traceback (most recent call last):\n",
      "  File \"C:\\Users\\a.salgas.ISAE-SUPAERO\\AppData\\Local\\miniconda3\\envs\\AeroMAPS_prod_env\\lib\\site-packages\\gemseo\\core\\parallel_execution\\callable_parallel_execution.py\", line 64, in _execute_workers\n",
      "    output = task_callables(task_index)\n",
      "  File \"C:\\Users\\a.salgas.ISAE-SUPAERO\\AppData\\Local\\miniconda3\\envs\\AeroMAPS_prod_env\\lib\\site-packages\\gemseo\\core\\parallel_execution\\callable_parallel_execution.py\", line 105, in __call__\n",
      "    return callable_(self.inputs[task_index])\n",
      "  File \"C:\\Users\\a.salgas.ISAE-SUPAERO\\AppData\\Local\\miniconda3\\envs\\AeroMAPS_prod_env\\lib\\site-packages\\gemseo\\core\\discipline.py\", line 980, in execute\n",
      "    self._run()\n",
      "  File \"C:\\Users\\a.salgas.ISAE-SUPAERO\\PycharmProjects\\AeroMAPS\\aeromaps\\core\\gemseo.py\", line 162, in _run\n",
      "    input_vals = self._convert_inputs(input_vals)\n",
      "  File \"C:\\Users\\a.salgas.ISAE-SUPAERO\\PycharmProjects\\AeroMAPS\\aeromaps\\core\\gemseo.py\", line 226, in _convert_inputs\n",
      "    input_vals[name] = pd.Series(val, index=self.model.df.index)\n",
      "  File \"C:\\Users\\a.salgas.ISAE-SUPAERO\\AppData\\Local\\miniconda3\\envs\\AeroMAPS_prod_env\\lib\\site-packages\\pandas\\core\\series.py\", line 461, in __init__\n",
      "    com.require_length_match(data, index)\n",
      "  File \"C:\\Users\\a.salgas.ISAE-SUPAERO\\AppData\\Local\\miniconda3\\envs\\AeroMAPS_prod_env\\lib\\site-packages\\pandas\\core\\common.py\", line 571, in require_length_match\n",
      "    raise ValueError(\n",
      "ValueError: Length of values (0) does not match length of index (51)\n"
     ]
    },
    {
     "ename": "ValueError",
     "evalue": "Length of values (0) does not match length of index (51)",
     "output_type": "error",
     "traceback": [
      "\u001b[1;31m---------------------------------------------------------------------------\u001b[0m",
      "\u001b[1;31mValueError\u001b[0m                                Traceback (most recent call last)",
      "Cell \u001b[1;32mIn[15], line 1\u001b[0m\n\u001b[1;32m----> 1\u001b[0m \u001b[43mprocess\u001b[49m\u001b[38;5;241;43m.\u001b[39;49m\u001b[43mcompute\u001b[49m\u001b[43m(\u001b[49m\u001b[43m)\u001b[49m\n",
      "File \u001b[1;32m~\\PycharmProjects\\AeroMAPS\\aeromaps\\core\\process.py:118\u001b[0m, in \u001b[0;36mAeromapsProcess.compute\u001b[1;34m(self)\u001b[0m\n\u001b[0;32m    114\u001b[0m     \u001b[38;5;28mself\u001b[39m\u001b[38;5;241m.\u001b[39mmodels[\u001b[38;5;124m\"\u001b[39m\u001b[38;5;124mpassenger_aircraft_efficiency_complex\u001b[39m\u001b[38;5;124m\"\u001b[39m]\u001b[38;5;241m.\u001b[39mfleet_model \u001b[38;5;241m=\u001b[39m \u001b[38;5;28mself\u001b[39m\u001b[38;5;241m.\u001b[39mfleet_model\n\u001b[0;32m    116\u001b[0m input_data \u001b[38;5;241m=\u001b[39m \u001b[38;5;28mself\u001b[39m\u001b[38;5;241m.\u001b[39m_set_inputs()\n\u001b[1;32m--> 118\u001b[0m \u001b[38;5;28;43mself\u001b[39;49m\u001b[38;5;241;43m.\u001b[39;49m\u001b[43mprocess\u001b[49m\u001b[38;5;241;43m.\u001b[39;49m\u001b[43mexecute\u001b[49m\u001b[43m(\u001b[49m\u001b[43minput_data\u001b[49m\u001b[38;5;241;43m=\u001b[39;49m\u001b[43minput_data\u001b[49m\u001b[43m)\u001b[49m\n\u001b[0;32m    120\u001b[0m \u001b[38;5;28mself\u001b[39m\u001b[38;5;241m.\u001b[39m_update_variables()\n\u001b[0;32m    122\u001b[0m \u001b[38;5;28mself\u001b[39m\u001b[38;5;241m.\u001b[39mwrite_json()\n",
      "File \u001b[1;32m~\\AppData\\Local\\miniconda3\\envs\\AeroMAPS_prod_env\\lib\\site-packages\\gemseo\\mda\\mda.py:706\u001b[0m, in \u001b[0;36mMDA.execute\u001b[1;34m(self, input_data)\u001b[0m\n\u001b[0;32m    702\u001b[0m \u001b[38;5;28;01mdef\u001b[39;00m \u001b[38;5;21mexecute\u001b[39m(  \u001b[38;5;66;03m# noqa:D102\u001b[39;00m\n\u001b[0;32m    703\u001b[0m     \u001b[38;5;28mself\u001b[39m, input_data: Mapping[\u001b[38;5;28mstr\u001b[39m, Any] \u001b[38;5;241m|\u001b[39m \u001b[38;5;28;01mNone\u001b[39;00m \u001b[38;5;241m=\u001b[39m \u001b[38;5;28;01mNone\u001b[39;00m\n\u001b[0;32m    704\u001b[0m ) \u001b[38;5;241m-\u001b[39m\u001b[38;5;241m>\u001b[39m \u001b[38;5;28mdict\u001b[39m[\u001b[38;5;28mstr\u001b[39m, Any]:\n\u001b[0;32m    705\u001b[0m     \u001b[38;5;28mself\u001b[39m\u001b[38;5;241m.\u001b[39m_current_iter \u001b[38;5;241m=\u001b[39m \u001b[38;5;241m0\u001b[39m\n\u001b[1;32m--> 706\u001b[0m     \u001b[38;5;28;01mreturn\u001b[39;00m \u001b[38;5;28;43msuper\u001b[39;49m\u001b[43m(\u001b[49m\u001b[43m)\u001b[49m\u001b[38;5;241;43m.\u001b[39;49m\u001b[43mexecute\u001b[49m\u001b[43m(\u001b[49m\u001b[43minput_data\u001b[49m\u001b[38;5;241;43m=\u001b[39;49m\u001b[43minput_data\u001b[49m\u001b[43m)\u001b[49m\n",
      "File \u001b[1;32m~\\AppData\\Local\\miniconda3\\envs\\AeroMAPS_prod_env\\lib\\site-packages\\gemseo\\core\\discipline.py:980\u001b[0m, in \u001b[0;36mMDODiscipline.execute\u001b[1;34m(self, input_data)\u001b[0m\n\u001b[0;32m    976\u001b[0m \u001b[38;5;28;01mif\u001b[39;00m \u001b[38;5;129;01mnot\u001b[39;00m \u001b[38;5;28mself\u001b[39m\u001b[38;5;241m.\u001b[39mvirtual_execution:\n\u001b[0;32m    977\u001b[0m     \u001b[38;5;28;01mtry\u001b[39;00m:\n\u001b[0;32m    978\u001b[0m         \u001b[38;5;66;03m# Effectively run the discipline, the _run method has to be\u001b[39;00m\n\u001b[0;32m    979\u001b[0m         \u001b[38;5;66;03m# Defined by the subclasses\u001b[39;00m\n\u001b[1;32m--> 980\u001b[0m         \u001b[38;5;28;43mself\u001b[39;49m\u001b[38;5;241;43m.\u001b[39;49m\u001b[43m_run\u001b[49m\u001b[43m(\u001b[49m\u001b[43m)\u001b[49m\n\u001b[0;32m    981\u001b[0m     \u001b[38;5;28;01mexcept\u001b[39;00m \u001b[38;5;167;01mException\u001b[39;00m:\n\u001b[0;32m    982\u001b[0m         \u001b[38;5;28mself\u001b[39m\u001b[38;5;241m.\u001b[39mstatus \u001b[38;5;241m=\u001b[39m \u001b[38;5;28mself\u001b[39m\u001b[38;5;241m.\u001b[39mExecutionStatus\u001b[38;5;241m.\u001b[39mFAILED\n",
      "File \u001b[1;32m~\\AppData\\Local\\miniconda3\\envs\\AeroMAPS_prod_env\\lib\\site-packages\\gemseo\\mda\\mda_chain.py:448\u001b[0m, in \u001b[0;36mMDAChain._run\u001b[1;34m(self)\u001b[0m\n\u001b[0;32m    446\u001b[0m \u001b[38;5;28;01mif\u001b[39;00m \u001b[38;5;28mself\u001b[39m\u001b[38;5;241m.\u001b[39mwarm_start:\n\u001b[0;32m    447\u001b[0m     \u001b[38;5;28mself\u001b[39m\u001b[38;5;241m.\u001b[39m_couplings_warm_start()\n\u001b[1;32m--> 448\u001b[0m \u001b[38;5;28mself\u001b[39m\u001b[38;5;241m.\u001b[39mlocal_data \u001b[38;5;241m=\u001b[39m \u001b[38;5;28;43mself\u001b[39;49m\u001b[38;5;241;43m.\u001b[39;49m\u001b[43mmdo_chain\u001b[49m\u001b[38;5;241;43m.\u001b[39;49m\u001b[43mexecute\u001b[49m\u001b[43m(\u001b[49m\u001b[38;5;28;43mself\u001b[39;49m\u001b[38;5;241;43m.\u001b[39;49m\u001b[43mlocal_data\u001b[49m\u001b[43m)\u001b[49m\n\u001b[0;32m    450\u001b[0m res_sum \u001b[38;5;241m=\u001b[39m \u001b[38;5;241m0.0\u001b[39m\n\u001b[0;32m    451\u001b[0m \u001b[38;5;28;01mfor\u001b[39;00m mda \u001b[38;5;129;01min\u001b[39;00m \u001b[38;5;28mself\u001b[39m\u001b[38;5;241m.\u001b[39minner_mdas:\n",
      "File \u001b[1;32m~\\AppData\\Local\\miniconda3\\envs\\AeroMAPS_prod_env\\lib\\site-packages\\gemseo\\core\\discipline.py:980\u001b[0m, in \u001b[0;36mMDODiscipline.execute\u001b[1;34m(self, input_data)\u001b[0m\n\u001b[0;32m    976\u001b[0m \u001b[38;5;28;01mif\u001b[39;00m \u001b[38;5;129;01mnot\u001b[39;00m \u001b[38;5;28mself\u001b[39m\u001b[38;5;241m.\u001b[39mvirtual_execution:\n\u001b[0;32m    977\u001b[0m     \u001b[38;5;28;01mtry\u001b[39;00m:\n\u001b[0;32m    978\u001b[0m         \u001b[38;5;66;03m# Effectively run the discipline, the _run method has to be\u001b[39;00m\n\u001b[0;32m    979\u001b[0m         \u001b[38;5;66;03m# Defined by the subclasses\u001b[39;00m\n\u001b[1;32m--> 980\u001b[0m         \u001b[38;5;28;43mself\u001b[39;49m\u001b[38;5;241;43m.\u001b[39;49m\u001b[43m_run\u001b[49m\u001b[43m(\u001b[49m\u001b[43m)\u001b[49m\n\u001b[0;32m    981\u001b[0m     \u001b[38;5;28;01mexcept\u001b[39;00m \u001b[38;5;167;01mException\u001b[39;00m:\n\u001b[0;32m    982\u001b[0m         \u001b[38;5;28mself\u001b[39m\u001b[38;5;241m.\u001b[39mstatus \u001b[38;5;241m=\u001b[39m \u001b[38;5;28mself\u001b[39m\u001b[38;5;241m.\u001b[39mExecutionStatus\u001b[38;5;241m.\u001b[39mFAILED\n",
      "File \u001b[1;32m~\\AppData\\Local\\miniconda3\\envs\\AeroMAPS_prod_env\\lib\\site-packages\\gemseo\\core\\chain.py:117\u001b[0m, in \u001b[0;36mMDOChain._run\u001b[1;34m(self)\u001b[0m\n\u001b[0;32m    115\u001b[0m \u001b[38;5;28;01mdef\u001b[39;00m \u001b[38;5;21m_run\u001b[39m(\u001b[38;5;28mself\u001b[39m) \u001b[38;5;241m-\u001b[39m\u001b[38;5;241m>\u001b[39m \u001b[38;5;28;01mNone\u001b[39;00m:\n\u001b[0;32m    116\u001b[0m     \u001b[38;5;28;01mfor\u001b[39;00m discipline \u001b[38;5;129;01min\u001b[39;00m \u001b[38;5;28mself\u001b[39m\u001b[38;5;241m.\u001b[39mdisciplines:\n\u001b[1;32m--> 117\u001b[0m         \u001b[38;5;28mself\u001b[39m\u001b[38;5;241m.\u001b[39mlocal_data\u001b[38;5;241m.\u001b[39mupdate(\u001b[43mdiscipline\u001b[49m\u001b[38;5;241;43m.\u001b[39;49m\u001b[43mexecute\u001b[49m\u001b[43m(\u001b[49m\u001b[38;5;28;43mself\u001b[39;49m\u001b[38;5;241;43m.\u001b[39;49m\u001b[43mlocal_data\u001b[49m\u001b[43m)\u001b[49m)\n",
      "File \u001b[1;32m~\\AppData\\Local\\miniconda3\\envs\\AeroMAPS_prod_env\\lib\\site-packages\\gemseo\\core\\discipline.py:980\u001b[0m, in \u001b[0;36mMDODiscipline.execute\u001b[1;34m(self, input_data)\u001b[0m\n\u001b[0;32m    976\u001b[0m \u001b[38;5;28;01mif\u001b[39;00m \u001b[38;5;129;01mnot\u001b[39;00m \u001b[38;5;28mself\u001b[39m\u001b[38;5;241m.\u001b[39mvirtual_execution:\n\u001b[0;32m    977\u001b[0m     \u001b[38;5;28;01mtry\u001b[39;00m:\n\u001b[0;32m    978\u001b[0m         \u001b[38;5;66;03m# Effectively run the discipline, the _run method has to be\u001b[39;00m\n\u001b[0;32m    979\u001b[0m         \u001b[38;5;66;03m# Defined by the subclasses\u001b[39;00m\n\u001b[1;32m--> 980\u001b[0m         \u001b[38;5;28;43mself\u001b[39;49m\u001b[38;5;241;43m.\u001b[39;49m\u001b[43m_run\u001b[49m\u001b[43m(\u001b[49m\u001b[43m)\u001b[49m\n\u001b[0;32m    981\u001b[0m     \u001b[38;5;28;01mexcept\u001b[39;00m \u001b[38;5;167;01mException\u001b[39;00m:\n\u001b[0;32m    982\u001b[0m         \u001b[38;5;28mself\u001b[39m\u001b[38;5;241m.\u001b[39mstatus \u001b[38;5;241m=\u001b[39m \u001b[38;5;28mself\u001b[39m\u001b[38;5;241m.\u001b[39mExecutionStatus\u001b[38;5;241m.\u001b[39mFAILED\n",
      "File \u001b[1;32m~\\AppData\\Local\\miniconda3\\envs\\AeroMAPS_prod_env\\lib\\site-packages\\gemseo\\core\\chain.py:117\u001b[0m, in \u001b[0;36mMDOChain._run\u001b[1;34m(self)\u001b[0m\n\u001b[0;32m    115\u001b[0m \u001b[38;5;28;01mdef\u001b[39;00m \u001b[38;5;21m_run\u001b[39m(\u001b[38;5;28mself\u001b[39m) \u001b[38;5;241m-\u001b[39m\u001b[38;5;241m>\u001b[39m \u001b[38;5;28;01mNone\u001b[39;00m:\n\u001b[0;32m    116\u001b[0m     \u001b[38;5;28;01mfor\u001b[39;00m discipline \u001b[38;5;129;01min\u001b[39;00m \u001b[38;5;28mself\u001b[39m\u001b[38;5;241m.\u001b[39mdisciplines:\n\u001b[1;32m--> 117\u001b[0m         \u001b[38;5;28mself\u001b[39m\u001b[38;5;241m.\u001b[39mlocal_data\u001b[38;5;241m.\u001b[39mupdate(\u001b[43mdiscipline\u001b[49m\u001b[38;5;241;43m.\u001b[39;49m\u001b[43mexecute\u001b[49m\u001b[43m(\u001b[49m\u001b[38;5;28;43mself\u001b[39;49m\u001b[38;5;241;43m.\u001b[39;49m\u001b[43mlocal_data\u001b[49m\u001b[43m)\u001b[49m)\n",
      "File \u001b[1;32m~\\AppData\\Local\\miniconda3\\envs\\AeroMAPS_prod_env\\lib\\site-packages\\gemseo\\mda\\mda.py:706\u001b[0m, in \u001b[0;36mMDA.execute\u001b[1;34m(self, input_data)\u001b[0m\n\u001b[0;32m    702\u001b[0m \u001b[38;5;28;01mdef\u001b[39;00m \u001b[38;5;21mexecute\u001b[39m(  \u001b[38;5;66;03m# noqa:D102\u001b[39;00m\n\u001b[0;32m    703\u001b[0m     \u001b[38;5;28mself\u001b[39m, input_data: Mapping[\u001b[38;5;28mstr\u001b[39m, Any] \u001b[38;5;241m|\u001b[39m \u001b[38;5;28;01mNone\u001b[39;00m \u001b[38;5;241m=\u001b[39m \u001b[38;5;28;01mNone\u001b[39;00m\n\u001b[0;32m    704\u001b[0m ) \u001b[38;5;241m-\u001b[39m\u001b[38;5;241m>\u001b[39m \u001b[38;5;28mdict\u001b[39m[\u001b[38;5;28mstr\u001b[39m, Any]:\n\u001b[0;32m    705\u001b[0m     \u001b[38;5;28mself\u001b[39m\u001b[38;5;241m.\u001b[39m_current_iter \u001b[38;5;241m=\u001b[39m \u001b[38;5;241m0\u001b[39m\n\u001b[1;32m--> 706\u001b[0m     \u001b[38;5;28;01mreturn\u001b[39;00m \u001b[38;5;28;43msuper\u001b[39;49m\u001b[43m(\u001b[49m\u001b[43m)\u001b[49m\u001b[38;5;241;43m.\u001b[39;49m\u001b[43mexecute\u001b[49m\u001b[43m(\u001b[49m\u001b[43minput_data\u001b[49m\u001b[38;5;241;43m=\u001b[39;49m\u001b[43minput_data\u001b[49m\u001b[43m)\u001b[49m\n",
      "File \u001b[1;32m~\\AppData\\Local\\miniconda3\\envs\\AeroMAPS_prod_env\\lib\\site-packages\\gemseo\\core\\discipline.py:980\u001b[0m, in \u001b[0;36mMDODiscipline.execute\u001b[1;34m(self, input_data)\u001b[0m\n\u001b[0;32m    976\u001b[0m \u001b[38;5;28;01mif\u001b[39;00m \u001b[38;5;129;01mnot\u001b[39;00m \u001b[38;5;28mself\u001b[39m\u001b[38;5;241m.\u001b[39mvirtual_execution:\n\u001b[0;32m    977\u001b[0m     \u001b[38;5;28;01mtry\u001b[39;00m:\n\u001b[0;32m    978\u001b[0m         \u001b[38;5;66;03m# Effectively run the discipline, the _run method has to be\u001b[39;00m\n\u001b[0;32m    979\u001b[0m         \u001b[38;5;66;03m# Defined by the subclasses\u001b[39;00m\n\u001b[1;32m--> 980\u001b[0m         \u001b[38;5;28;43mself\u001b[39;49m\u001b[38;5;241;43m.\u001b[39;49m\u001b[43m_run\u001b[49m\u001b[43m(\u001b[49m\u001b[43m)\u001b[49m\n\u001b[0;32m    981\u001b[0m     \u001b[38;5;28;01mexcept\u001b[39;00m \u001b[38;5;167;01mException\u001b[39;00m:\n\u001b[0;32m    982\u001b[0m         \u001b[38;5;28mself\u001b[39m\u001b[38;5;241m.\u001b[39mstatus \u001b[38;5;241m=\u001b[39m \u001b[38;5;28mself\u001b[39m\u001b[38;5;241m.\u001b[39mExecutionStatus\u001b[38;5;241m.\u001b[39mFAILED\n",
      "File \u001b[1;32m~\\AppData\\Local\\miniconda3\\envs\\AeroMAPS_prod_env\\lib\\site-packages\\gemseo\\mda\\jacobi.py:189\u001b[0m, in \u001b[0;36mMDAJacobi._run\u001b[1;34m(self)\u001b[0m\n\u001b[0;32m    187\u001b[0m \u001b[38;5;66;03m# execute the disciplines\u001b[39;00m\n\u001b[0;32m    188\u001b[0m current_couplings \u001b[38;5;241m=\u001b[39m \u001b[38;5;28mself\u001b[39m\u001b[38;5;241m.\u001b[39m_current_input_couplings()\n\u001b[1;32m--> 189\u001b[0m \u001b[38;5;28;43mself\u001b[39;49m\u001b[38;5;241;43m.\u001b[39;49m\u001b[43mexecute_all_disciplines\u001b[49m\u001b[43m(\u001b[49m\u001b[43mdeepcopy\u001b[49m\u001b[43m(\u001b[49m\u001b[38;5;28;43mself\u001b[39;49m\u001b[38;5;241;43m.\u001b[39;49m\u001b[43mlocal_data\u001b[49m\u001b[43m)\u001b[49m\u001b[43m)\u001b[49m\n\u001b[0;32m    190\u001b[0m new_couplings \u001b[38;5;241m=\u001b[39m \u001b[38;5;28mself\u001b[39m\u001b[38;5;241m.\u001b[39m_current_input_couplings()\n\u001b[0;32m    191\u001b[0m \u001b[38;5;28mself\u001b[39m\u001b[38;5;241m.\u001b[39m_dx_n\u001b[38;5;241m.\u001b[39mappend(new_couplings \u001b[38;5;241m-\u001b[39m current_couplings)\n",
      "File \u001b[1;32m~\\AppData\\Local\\miniconda3\\envs\\AeroMAPS_prod_env\\lib\\site-packages\\gemseo\\mda\\jacobi.py:158\u001b[0m, in \u001b[0;36mMDAJacobi.execute_all_disciplines\u001b[1;34m(self, input_local_data)\u001b[0m\n\u001b[0;32m    156\u001b[0m \u001b[38;5;28mself\u001b[39m\u001b[38;5;241m.\u001b[39mreset_disciplines_statuses()\n\u001b[0;32m    157\u001b[0m \u001b[38;5;28;01mif\u001b[39;00m \u001b[38;5;28mself\u001b[39m\u001b[38;5;241m.\u001b[39mn_processes \u001b[38;5;241m>\u001b[39m \u001b[38;5;241m1\u001b[39m:\n\u001b[1;32m--> 158\u001b[0m     \u001b[38;5;28;43mself\u001b[39;49m\u001b[38;5;241;43m.\u001b[39;49m\u001b[43mparallel_execution\u001b[49m\u001b[38;5;241;43m.\u001b[39;49m\u001b[43mexecute\u001b[49m\u001b[43m(\u001b[49m\n\u001b[0;32m    159\u001b[0m \u001b[43m        \u001b[49m\u001b[43m[\u001b[49m\u001b[43mdeepcopy\u001b[49m\u001b[43m(\u001b[49m\u001b[43minput_local_data\u001b[49m\u001b[43m)\u001b[49m\u001b[43m \u001b[49m\u001b[38;5;28;43;01mfor\u001b[39;49;00m\u001b[43m \u001b[49m\u001b[43m_\u001b[49m\u001b[43m \u001b[49m\u001b[38;5;129;43;01min\u001b[39;49;00m\u001b[43m \u001b[49m\u001b[38;5;28;43mrange\u001b[39;49m\u001b[43m(\u001b[49m\u001b[38;5;28;43mlen\u001b[39;49m\u001b[43m(\u001b[49m\u001b[38;5;28;43mself\u001b[39;49m\u001b[38;5;241;43m.\u001b[39;49m\u001b[43mdisciplines\u001b[49m\u001b[43m)\u001b[49m\u001b[43m)\u001b[49m\u001b[43m]\u001b[49m\n\u001b[0;32m    160\u001b[0m \u001b[43m    \u001b[49m\u001b[43m)\u001b[49m\n\u001b[0;32m    161\u001b[0m \u001b[38;5;28;01melse\u001b[39;00m:\n\u001b[0;32m    162\u001b[0m     \u001b[38;5;28;01mfor\u001b[39;00m discipline \u001b[38;5;129;01min\u001b[39;00m \u001b[38;5;28mself\u001b[39m\u001b[38;5;241m.\u001b[39mdisciplines:\n",
      "File \u001b[1;32m~\\AppData\\Local\\miniconda3\\envs\\AeroMAPS_prod_env\\lib\\site-packages\\gemseo\\core\\parallel_execution\\disc_parallel_execution.py:66\u001b[0m, in \u001b[0;36mDiscParallelExecution.execute\u001b[1;34m(self, inputs, exec_callback, task_submitted_callback)\u001b[0m\n\u001b[0;32m     60\u001b[0m \u001b[38;5;28;01mdef\u001b[39;00m \u001b[38;5;21mexecute\u001b[39m(  \u001b[38;5;66;03m# noqa: D102\u001b[39;00m\n\u001b[0;32m     61\u001b[0m     \u001b[38;5;28mself\u001b[39m,\n\u001b[0;32m     62\u001b[0m     inputs: Sequence[Data \u001b[38;5;241m|\u001b[39m \u001b[38;5;28;01mNone\u001b[39;00m],\n\u001b[0;32m     63\u001b[0m     exec_callback: Callable[[\u001b[38;5;28mint\u001b[39m, Any], Any] \u001b[38;5;241m|\u001b[39m \u001b[38;5;28;01mNone\u001b[39;00m \u001b[38;5;241m=\u001b[39m \u001b[38;5;28;01mNone\u001b[39;00m,\n\u001b[0;32m     64\u001b[0m     task_submitted_callback: Callable \u001b[38;5;241m|\u001b[39m \u001b[38;5;28;01mNone\u001b[39;00m \u001b[38;5;241m=\u001b[39m \u001b[38;5;28;01mNone\u001b[39;00m,\n\u001b[0;32m     65\u001b[0m ) \u001b[38;5;241m-\u001b[39m\u001b[38;5;241m>\u001b[39m \u001b[38;5;28mlist\u001b[39m[Any]:\n\u001b[1;32m---> 66\u001b[0m     ordered_outputs \u001b[38;5;241m=\u001b[39m \u001b[38;5;28;43msuper\u001b[39;49m\u001b[43m(\u001b[49m\u001b[43m)\u001b[49m\u001b[38;5;241;43m.\u001b[39;49m\u001b[43mexecute\u001b[49m\u001b[43m(\u001b[49m\n\u001b[0;32m     67\u001b[0m \u001b[43m        \u001b[49m\u001b[43minputs\u001b[49m\u001b[43m,\u001b[49m\n\u001b[0;32m     68\u001b[0m \u001b[43m        \u001b[49m\u001b[43mexec_callback\u001b[49m\u001b[38;5;241;43m=\u001b[39;49m\u001b[43mexec_callback\u001b[49m\u001b[43m,\u001b[49m\n\u001b[0;32m     69\u001b[0m \u001b[43m        \u001b[49m\u001b[43mtask_submitted_callback\u001b[49m\u001b[38;5;241;43m=\u001b[39;49m\u001b[43mtask_submitted_callback\u001b[49m\u001b[43m,\u001b[49m\n\u001b[0;32m     70\u001b[0m \u001b[43m    \u001b[49m\u001b[43m)\u001b[49m\n\u001b[0;32m     72\u001b[0m     \u001b[38;5;28;01mif\u001b[39;00m \u001b[38;5;28mlen\u001b[39m(\u001b[38;5;28mself\u001b[39m\u001b[38;5;241m.\u001b[39m_disciplines) \u001b[38;5;241m==\u001b[39m \u001b[38;5;241m1\u001b[39m \u001b[38;5;129;01mor\u001b[39;00m \u001b[38;5;129;01mnot\u001b[39;00m \u001b[38;5;28mlen\u001b[39m(\u001b[38;5;28mself\u001b[39m\u001b[38;5;241m.\u001b[39m_disciplines) \u001b[38;5;241m==\u001b[39m \u001b[38;5;28mlen\u001b[39m(\n\u001b[0;32m     73\u001b[0m         \u001b[38;5;28mself\u001b[39m\u001b[38;5;241m.\u001b[39minputs\n\u001b[0;32m     74\u001b[0m     ):\n\u001b[0;32m     75\u001b[0m         \u001b[38;5;28;01mif\u001b[39;00m IS_WIN \u001b[38;5;129;01mand\u001b[39;00m \u001b[38;5;129;01mnot\u001b[39;00m \u001b[38;5;28mself\u001b[39m\u001b[38;5;241m.\u001b[39muse_threading:\n",
      "File \u001b[1;32m~\\AppData\\Local\\miniconda3\\envs\\AeroMAPS_prod_env\\lib\\site-packages\\gemseo\\core\\parallel_execution\\callable_parallel_execution.py:303\u001b[0m, in \u001b[0;36mCallableParallelExecution.execute\u001b[1;34m(self, inputs, exec_callback, task_submitted_callback)\u001b[0m\n\u001b[0;32m    300\u001b[0m     proc\u001b[38;5;241m.\u001b[39mjoin()\n\u001b[0;32m    302\u001b[0m \u001b[38;5;28;01mif\u001b[39;00m \u001b[38;5;28misinstance\u001b[39m(output, \u001b[38;5;28mself\u001b[39m\u001b[38;5;241m.\u001b[39m__exceptions_to_re_raise):\n\u001b[1;32m--> 303\u001b[0m     \u001b[38;5;28;01mraise\u001b[39;00m output\n\u001b[0;32m    305\u001b[0m \u001b[38;5;28;01mreturn\u001b[39;00m ordered_outputs\n",
      "File \u001b[1;32m~\\AppData\\Local\\miniconda3\\envs\\AeroMAPS_prod_env\\lib\\site-packages\\gemseo\\core\\parallel_execution\\callable_parallel_execution.py:64\u001b[0m, in \u001b[0;36m_execute_workers\u001b[1;34m(task_callables, queue_in, queue_out)\u001b[0m\n\u001b[0;32m     62\u001b[0m \u001b[38;5;28;01mtry\u001b[39;00m:\n\u001b[0;32m     63\u001b[0m     sys\u001b[38;5;241m.\u001b[39mstdout\u001b[38;5;241m.\u001b[39mflush()\n\u001b[1;32m---> 64\u001b[0m     output \u001b[38;5;241m=\u001b[39m \u001b[43mtask_callables\u001b[49m\u001b[43m(\u001b[49m\u001b[43mtask_index\u001b[49m\u001b[43m)\u001b[49m\n\u001b[0;32m     65\u001b[0m \u001b[38;5;28;01mexcept\u001b[39;00m \u001b[38;5;167;01mException\u001b[39;00m \u001b[38;5;28;01mas\u001b[39;00m err:\n\u001b[0;32m     66\u001b[0m     traceback\u001b[38;5;241m.\u001b[39mprint_exc()\n",
      "File \u001b[1;32m~\\AppData\\Local\\miniconda3\\envs\\AeroMAPS_prod_env\\lib\\site-packages\\gemseo\\core\\parallel_execution\\callable_parallel_execution.py:105\u001b[0m, in \u001b[0;36m_TaskCallables.__call__\u001b[1;34m(self, task_index)\u001b[0m\n\u001b[0;32m    103\u001b[0m \u001b[38;5;28;01melse\u001b[39;00m:\n\u001b[0;32m    104\u001b[0m     callable_ \u001b[38;5;241m=\u001b[39m \u001b[38;5;28mself\u001b[39m\u001b[38;5;241m.\u001b[39mcallables[\u001b[38;5;241m0\u001b[39m]\n\u001b[1;32m--> 105\u001b[0m \u001b[38;5;28;01mreturn\u001b[39;00m \u001b[43mcallable_\u001b[49m\u001b[43m(\u001b[49m\u001b[38;5;28;43mself\u001b[39;49m\u001b[38;5;241;43m.\u001b[39;49m\u001b[43minputs\u001b[49m\u001b[43m[\u001b[49m\u001b[43mtask_index\u001b[49m\u001b[43m]\u001b[49m\u001b[43m)\u001b[49m\n",
      "File \u001b[1;32m~\\AppData\\Local\\miniconda3\\envs\\AeroMAPS_prod_env\\lib\\site-packages\\gemseo\\core\\discipline.py:980\u001b[0m, in \u001b[0;36mMDODiscipline.execute\u001b[1;34m(self, input_data)\u001b[0m\n\u001b[0;32m    976\u001b[0m \u001b[38;5;28;01mif\u001b[39;00m \u001b[38;5;129;01mnot\u001b[39;00m \u001b[38;5;28mself\u001b[39m\u001b[38;5;241m.\u001b[39mvirtual_execution:\n\u001b[0;32m    977\u001b[0m     \u001b[38;5;28;01mtry\u001b[39;00m:\n\u001b[0;32m    978\u001b[0m         \u001b[38;5;66;03m# Effectively run the discipline, the _run method has to be\u001b[39;00m\n\u001b[0;32m    979\u001b[0m         \u001b[38;5;66;03m# Defined by the subclasses\u001b[39;00m\n\u001b[1;32m--> 980\u001b[0m         \u001b[38;5;28;43mself\u001b[39;49m\u001b[38;5;241;43m.\u001b[39;49m\u001b[43m_run\u001b[49m\u001b[43m(\u001b[49m\u001b[43m)\u001b[49m\n\u001b[0;32m    981\u001b[0m     \u001b[38;5;28;01mexcept\u001b[39;00m \u001b[38;5;167;01mException\u001b[39;00m:\n\u001b[0;32m    982\u001b[0m         \u001b[38;5;28mself\u001b[39m\u001b[38;5;241m.\u001b[39mstatus \u001b[38;5;241m=\u001b[39m \u001b[38;5;28mself\u001b[39m\u001b[38;5;241m.\u001b[39mExecutionStatus\u001b[38;5;241m.\u001b[39mFAILED\n",
      "File \u001b[1;32m~\\PycharmProjects\\AeroMAPS\\aeromaps\\core\\gemseo.py:162\u001b[0m, in \u001b[0;36mAutoPyDiscipline._run\u001b[1;34m(self)\u001b[0m\n\u001b[0;32m    160\u001b[0m \u001b[38;5;28;01mdef\u001b[39;00m \u001b[38;5;21m_run\u001b[39m(\u001b[38;5;28mself\u001b[39m) \u001b[38;5;241m-\u001b[39m\u001b[38;5;241m>\u001b[39m \u001b[38;5;28;01mNone\u001b[39;00m:\n\u001b[0;32m    161\u001b[0m     input_vals \u001b[38;5;241m=\u001b[39m \u001b[38;5;28mself\u001b[39m\u001b[38;5;241m.\u001b[39mget_input_data(with_namespaces\u001b[38;5;241m=\u001b[39m\u001b[38;5;28;01mFalse\u001b[39;00m)\n\u001b[1;32m--> 162\u001b[0m     input_vals \u001b[38;5;241m=\u001b[39m \u001b[38;5;28;43mself\u001b[39;49m\u001b[38;5;241;43m.\u001b[39;49m\u001b[43m_convert_inputs\u001b[49m\u001b[43m(\u001b[49m\u001b[43minput_vals\u001b[49m\u001b[43m)\u001b[49m\n\u001b[0;32m    163\u001b[0m     output_values \u001b[38;5;241m=\u001b[39m \u001b[38;5;28mself\u001b[39m\u001b[38;5;241m.\u001b[39mpy_func(\u001b[38;5;241m*\u001b[39m\u001b[38;5;241m*\u001b[39minput_vals)\n\u001b[0;32m    164\u001b[0m     \u001b[38;5;28;01mif\u001b[39;00m \u001b[38;5;28mlen\u001b[39m(\u001b[38;5;28mself\u001b[39m\u001b[38;5;241m.\u001b[39moutput_names) \u001b[38;5;241m==\u001b[39m \u001b[38;5;241m1\u001b[39m:\n",
      "File \u001b[1;32m~\\PycharmProjects\\AeroMAPS\\aeromaps\\core\\gemseo.py:226\u001b[0m, in \u001b[0;36mAutoPyDiscipline._convert_inputs\u001b[1;34m(self, input_vals)\u001b[0m\n\u001b[0;32m    224\u001b[0m \u001b[38;5;28;01mfor\u001b[39;00m name, val \u001b[38;5;129;01min\u001b[39;00m input_vals\u001b[38;5;241m.\u001b[39mitems():\n\u001b[0;32m    225\u001b[0m     \u001b[38;5;28;01mif\u001b[39;00m \u001b[38;5;28missubclass\u001b[39m(\u001b[38;5;28mself\u001b[39m\u001b[38;5;241m.\u001b[39m_get_input_types()[name], pd\u001b[38;5;241m.\u001b[39mSeries):\n\u001b[1;32m--> 226\u001b[0m         input_vals[name] \u001b[38;5;241m=\u001b[39m \u001b[43mpd\u001b[49m\u001b[38;5;241;43m.\u001b[39;49m\u001b[43mSeries\u001b[49m\u001b[43m(\u001b[49m\u001b[43mval\u001b[49m\u001b[43m,\u001b[49m\u001b[43m \u001b[49m\u001b[43mindex\u001b[49m\u001b[38;5;241;43m=\u001b[39;49m\u001b[38;5;28;43mself\u001b[39;49m\u001b[38;5;241;43m.\u001b[39;49m\u001b[43mmodel\u001b[49m\u001b[38;5;241;43m.\u001b[39;49m\u001b[43mdf\u001b[49m\u001b[38;5;241;43m.\u001b[39;49m\u001b[43mindex\u001b[49m\u001b[43m)\u001b[49m\n\u001b[0;32m    227\u001b[0m     \u001b[38;5;28;01melif\u001b[39;00m \u001b[38;5;28missubclass\u001b[39m(\u001b[38;5;28mself\u001b[39m\u001b[38;5;241m.\u001b[39m_get_input_types()[name], \u001b[38;5;28mint\u001b[39m):\n\u001b[0;32m    228\u001b[0m         input_vals[name] \u001b[38;5;241m=\u001b[39m \u001b[38;5;28mint\u001b[39m(val)\n",
      "File \u001b[1;32m~\\AppData\\Local\\miniconda3\\envs\\AeroMAPS_prod_env\\lib\\site-packages\\pandas\\core\\series.py:461\u001b[0m, in \u001b[0;36mSeries.__init__\u001b[1;34m(self, data, index, dtype, name, copy, fastpath)\u001b[0m\n\u001b[0;32m    459\u001b[0m     index \u001b[38;5;241m=\u001b[39m default_index(\u001b[38;5;28mlen\u001b[39m(data))\n\u001b[0;32m    460\u001b[0m \u001b[38;5;28;01melif\u001b[39;00m is_list_like(data):\n\u001b[1;32m--> 461\u001b[0m     \u001b[43mcom\u001b[49m\u001b[38;5;241;43m.\u001b[39;49m\u001b[43mrequire_length_match\u001b[49m\u001b[43m(\u001b[49m\u001b[43mdata\u001b[49m\u001b[43m,\u001b[49m\u001b[43m \u001b[49m\u001b[43mindex\u001b[49m\u001b[43m)\u001b[49m\n\u001b[0;32m    463\u001b[0m \u001b[38;5;66;03m# create/copy the manager\u001b[39;00m\n\u001b[0;32m    464\u001b[0m \u001b[38;5;28;01mif\u001b[39;00m \u001b[38;5;28misinstance\u001b[39m(data, (SingleBlockManager, SingleArrayManager)):\n",
      "File \u001b[1;32m~\\AppData\\Local\\miniconda3\\envs\\AeroMAPS_prod_env\\lib\\site-packages\\pandas\\core\\common.py:571\u001b[0m, in \u001b[0;36mrequire_length_match\u001b[1;34m(data, index)\u001b[0m\n\u001b[0;32m    567\u001b[0m \u001b[38;5;250m\u001b[39m\u001b[38;5;124;03m\"\"\"\u001b[39;00m\n\u001b[0;32m    568\u001b[0m \u001b[38;5;124;03mCheck the length of data matches the length of the index.\u001b[39;00m\n\u001b[0;32m    569\u001b[0m \u001b[38;5;124;03m\"\"\"\u001b[39;00m\n\u001b[0;32m    570\u001b[0m \u001b[38;5;28;01mif\u001b[39;00m \u001b[38;5;28mlen\u001b[39m(data) \u001b[38;5;241m!=\u001b[39m \u001b[38;5;28mlen\u001b[39m(index):\n\u001b[1;32m--> 571\u001b[0m     \u001b[38;5;28;01mraise\u001b[39;00m \u001b[38;5;167;01mValueError\u001b[39;00m(\n\u001b[0;32m    572\u001b[0m         \u001b[38;5;124m\"\u001b[39m\u001b[38;5;124mLength of values \u001b[39m\u001b[38;5;124m\"\u001b[39m\n\u001b[0;32m    573\u001b[0m         \u001b[38;5;124mf\u001b[39m\u001b[38;5;124m\"\u001b[39m\u001b[38;5;124m(\u001b[39m\u001b[38;5;132;01m{\u001b[39;00m\u001b[38;5;28mlen\u001b[39m(data)\u001b[38;5;132;01m}\u001b[39;00m\u001b[38;5;124m) \u001b[39m\u001b[38;5;124m\"\u001b[39m\n\u001b[0;32m    574\u001b[0m         \u001b[38;5;124m\"\u001b[39m\u001b[38;5;124mdoes not match length of index \u001b[39m\u001b[38;5;124m\"\u001b[39m\n\u001b[0;32m    575\u001b[0m         \u001b[38;5;124mf\u001b[39m\u001b[38;5;124m\"\u001b[39m\u001b[38;5;124m(\u001b[39m\u001b[38;5;132;01m{\u001b[39;00m\u001b[38;5;28mlen\u001b[39m(index)\u001b[38;5;132;01m}\u001b[39;00m\u001b[38;5;124m)\u001b[39m\u001b[38;5;124m\"\u001b[39m\n\u001b[0;32m    576\u001b[0m     )\n",
      "\u001b[1;31mValueError\u001b[0m: Length of values (0) does not match length of index (51)"
     ]
    }
   ],
   "source": [
    "process.compute()"
   ]
  },
  {
   "cell_type": "code",
   "execution_count": null,
   "id": "fdede023-8a98-4c55-85dd-74b5960a07e2",
   "metadata": {
    "tags": []
   },
   "outputs": [],
   "source": [
    "process.plot('carbon_budget_assessment')"
   ]
  },
  {
   "cell_type": "code",
   "execution_count": null,
   "id": "0c760a74-54a1-4ea8-bd82-dbd8a2354b5c",
   "metadata": {
    "tags": []
   },
   "outputs": [],
   "source": [
    "process.plot('air_transport_co2_emissions')"
   ]
  },
  {
   "cell_type": "code",
   "execution_count": null,
   "id": "2544d1de-dde6-4fbc-958f-00e280566ec2",
   "metadata": {
    "tags": []
   },
   "outputs": [],
   "source": [
    "fleet_model.plot()\n"
   ]
  },
  {
   "cell_type": "code",
   "execution_count": null,
   "id": "db380b36-563d-497b-bdca-cbe1dfd696a2",
   "metadata": {
    "tags": []
   },
   "outputs": [],
   "source": []
  },
  {
   "cell_type": "markdown",
   "id": "3d5e2f53-cee7-4873-9f4a-b11c5e08b215",
   "metadata": {},
   "source": [
    "## EIS perfo tradeoff --> Total CO2"
   ]
  },
  {
   "cell_type": "code",
   "execution_count": null,
   "id": "d2b51f1f-5bc3-473c-af45-096605207bb1",
   "metadata": {
    "tags": []
   },
   "outputs": [],
   "source": [
    "import pandas as pd\n",
    "import numpy as np\n",
    "import matplotlib.pyplot as plt\n",
    "twenty_years=pd.read_csv('25_years_co2.csv')"
   ]
  },
  {
   "cell_type": "code",
   "execution_count": null,
   "id": "7cdc6e54-7256-41d3-84fc-e22b39fc8fa9",
   "metadata": {
    "tags": []
   },
   "outputs": [],
   "source": [
    "df_explo=twenty_years.pivot(index='0',columns='1', values='2')\n",
    "\n",
    "\n",
    "# Find closest value and corresponding column name for each year\n",
    "closest_values = []\n",
    "closest_columns = []\n",
    "\n",
    "\n",
    "target = 27  # Target value\n",
    "threshold = 0.1  # Threshold for considering a value close to the target\n",
    "\n",
    "# Find closest value and corresponding column name for each year\n",
    "closest_values = []\n",
    "closest_columns = []\n",
    "\n",
    "for _, row in df_explo.iterrows():\n",
    "    closest_value = min(row[1:], key=lambda x: abs(x - target))\n",
    "    if abs(closest_value - target) > threshold:\n",
    "        closest_value = np.nan\n",
    "        closest_column = np.nan\n",
    "    else:\n",
    "        closest_column = df_explo.columns[row.tolist().index(closest_value)]\n",
    "    closest_values.append(closest_value)\n",
    "    closest_columns.append(closest_column)\n",
    "\n",
    "df_explo['Closest Value'] = closest_values\n",
    "df_explo['Closest Column'] = closest_columns"
   ]
  },
  {
   "cell_type": "code",
   "execution_count": null,
   "id": "36123813-e24f-4e84-a0da-abf78e6c8f59",
   "metadata": {
    "tags": []
   },
   "outputs": [],
   "source": [
    "# df_final=pd.DataFrame()\n",
    "df_final['25 years']=df_explo['Closest Column']"
   ]
  },
  {
   "cell_type": "code",
   "execution_count": null,
   "id": "b356642a-92a1-4041-b8e0-de7610aa5c7f",
   "metadata": {
    "tags": []
   },
   "outputs": [],
   "source": [
    "twentyfive_years_finco2=pd.read_csv('25_years_final_co2.csv')"
   ]
  },
  {
   "cell_type": "code",
   "execution_count": null,
   "id": "17aae757-8810-4d14-bd8c-8e3c08d751cd",
   "metadata": {
    "tags": []
   },
   "outputs": [],
   "source": [
    "df_explo_fin_co2=twentyfive_years_finco2.pivot(index='0',columns='1', values='2')\n",
    "df_fin_co2=pd.DataFrame()\n",
    "\n",
    "\n",
    "targets = [400,500,576.8,600,650] \n",
    "\n",
    "\n",
    "for target in targets:\n",
    "    threshold = 0.01*target  # Threshold for considering a value close to the target\n",
    "\n",
    "    # Find closest value and corresponding column name for each year\n",
    "    closest_values = []\n",
    "    closest_columns = []\n",
    "    \n",
    "    \n",
    "    for _, row in df_explo_fin_co2.iterrows():\n",
    "        closest_value = min(row[1:], key=lambda x: abs(x - target))\n",
    "        if abs(closest_value - target) > threshold:\n",
    "            closest_value = np.nan\n",
    "            closest_column = np.nan\n",
    "        else:\n",
    "            closest_column = df_explo_fin_co2.columns[row.tolist().index(closest_value)]\n",
    "        closest_values.append(closest_value)\n",
    "        closest_columns.append(closest_column)\n",
    "\n",
    "    df_explo_fin_co2['Closest Value'] = closest_values\n",
    "    df_explo_fin_co2['Closest Column'] = closest_columns\n",
    "    \n",
    "    \n",
    "    df_fin_co2[target]=df_explo_fin_co2['Closest Column']"
   ]
  },
  {
   "cell_type": "code",
   "execution_count": null,
   "id": "7b6ac932-68c8-4db6-8b4e-334d289a2d71",
   "metadata": {
    "tags": []
   },
   "outputs": [],
   "source": [
    "import matplotlib.pyplot as plt\n",
    "fig, ax =plt.subplots(1,2)\n",
    "df_final.rename(columns={'25 years':'25 years (ref)'}).plot(ax=ax[0], linewidth=1.5, alpha=0.8)\n",
    "ax[0].set_ylabel('Aircraft necessary energy consumption reduction (%)')\n",
    "ax[0].set_xlabel('Aircraft entry into service (EIS) year')\n",
    "ax[0].grid()\n",
    "legend = ax[0].legend(fontsize='small')\n",
    "legend.set_title(\"Fleet renewal duration\")\n",
    "\n",
    "df_fin_co2.rename(columns={576.8:'576.8 (ref)'}).plot(ax=ax[1], linewidth=1.5, alpha=0.8)\n",
    "\n",
    "pd.DataFrame(df_final['25 years']).rename(columns={'25 years':'Cumulative\\nmethod (ref)'}).plot(ax=ax[1], linewidth=1.5,linestyle='--', color='#2ca02c', alpha=0.8)\n",
    "ax[1].set_ylabel('Aircraft necessary energy consumption reduction (%)')\n",
    "ax[1].set_xlabel('Aircraft entry into service (EIS) year')\n",
    "ax[1].grid()\n",
    "legend = ax[1].legend(fontsize='small')\n",
    "legend.set_title(\"Final year CO$_2$\\ntarget (MtCO$_2$)\")\n",
    "\n",
    "# Set the tick positions and labels\n",
    "tick_positions = np.arange(2025, 2046, 5)\n",
    "tick_labels = tick_positions.astype(str)\n",
    "\n",
    "ax[0].set_xticks(tick_positions)\n",
    "ax[0].set_xticklabels(tick_labels)\n",
    "ax[1].set_xticks(tick_positions)\n",
    "ax[1].set_xticklabels(tick_labels)\n",
    "\n",
    "# Rotate the tick labels if desired\n",
    "# plt.xticks(rotation=45)\n",
    "\n",
    "plt.tight_layout()"
   ]
  },
  {
   "cell_type": "markdown",
   "id": "71d21ebb-150c-47c3-a47a-cd129f76c9fc",
   "metadata": {},
   "source": [
    "## EIS perfo tradeoff --> Total Energy"
   ]
  },
  {
   "cell_type": "code",
   "execution_count": null,
   "id": "b8afeadf-37ee-49d9-ac21-22c7721e0724",
   "metadata": {
    "tags": []
   },
   "outputs": [],
   "source": [
    "twentyfive_years=pd.read_csv('25_years_energy.csv')"
   ]
  },
  {
   "cell_type": "code",
   "execution_count": null,
   "id": "4e456f53-67c7-4540-b874-6655ebf281cf",
   "metadata": {
    "tags": []
   },
   "outputs": [],
   "source": [
    "df_explo_energy=twentyfive_years.pivot(index='0',columns='1', values='2')\n",
    "\n",
    "df_nrj=pd.DataFrame()\n",
    "\n",
    "target=[int(0.8*396411357823452),int(0.9*396411357823452),int(0.9635*396411357823452),int(1.05*396411357823452)]\n",
    "\n",
    "for target in target:\n",
    "\n",
    "    # Find closest value and corresponding column name for each year\n",
    "    closest_values = []\n",
    "    closest_columns = []\n",
    "\n",
    "\n",
    "    threshold = 0.005*target  # Threshold for considering a value close to the target\n",
    "\n",
    "    # Find closest value and corresponding column name for each year\n",
    "    closest_values = []\n",
    "    closest_columns = []\n",
    "\n",
    "    for _, row in df_explo_energy.iterrows():\n",
    "        closest_value = min(row[0:], key=lambda x: abs(x - target))\n",
    "        if closest_value - target > threshold:\n",
    "            closest_value = np.nan\n",
    "            closest_column = np.nan\n",
    "        else:\n",
    "            closest_column = df_explo_energy.columns[row.tolist().index(closest_value)]\n",
    "        closest_values.append(closest_value)\n",
    "        closest_columns.append(closest_column)\n",
    "    \n",
    "    df_explo_energy['Closest Value'] = closest_values\n",
    "    df_explo_energy['Closest Column'] = closest_columns\n",
    "    \n",
    "    df_nrj[int(target/1e12)]=df_explo_energy['Closest Column']\n",
    "    "
   ]
  },
  {
   "cell_type": "code",
   "execution_count": null,
   "id": "2c1a18b4-f21d-427b-90b4-6f905233778f",
   "metadata": {
    "tags": []
   },
   "outputs": [],
   "source": [
    "df_explo_energy"
   ]
  },
  {
   "cell_type": "code",
   "execution_count": null,
   "id": "8f26b746-ffdf-4d88-a0dc-00bddf341e29",
   "metadata": {
    "tags": []
   },
   "outputs": [],
   "source": [
    "import matplotlib.pyplot as plt\n",
    "fig, ax =plt.subplots()\n",
    "df_nrj.rename(columns={381:'381 (ref)'}).plot(ax=ax, linewidth=2, alpha=0.8)\n",
    "ax.set_ylabel('Aircraft necessary energy consumption reduction (%)')\n",
    "ax.set_xlabel('Aircraft entry into service (EIS) year')\n",
    "ax.grid()\n",
    "\n",
    "legend = ax.legend(fontsize='small')\n",
    "legend.set_title(\"Cumulative energy target (EJ)\")\n",
    "\n",
    "# Set the tick positions and labels\n",
    "tick_positions = np.arange(2025, 2046, 5)\n",
    "tick_labels = tick_positions.astype(str)\n",
    "\n",
    "\n",
    "ax.set_xticks(tick_positions)\n",
    "ax.set_xticklabels(tick_labels)\n",
    "\n",
    "# Rotate the tick labels if desired\n",
    "# plt.xticks(rotation=45)\n",
    "\n",
    "plt.tight_layout()"
   ]
  },
  {
   "cell_type": "markdown",
   "id": "76c8bf7d-ba12-4c2c-9e9c-05981e25402f",
   "metadata": {
    "tags": []
   },
   "source": [
    "## Cost Calaculation"
   ]
  },
  {
   "cell_type": "code",
   "execution_count": null,
   "id": "df0b9923-e914-4cec-a2f0-1c79cde7611f",
   "metadata": {
    "tags": []
   },
   "outputs": [],
   "source": [
    "### Computing the number of aircraft needed each year \n",
    "\n",
    "# retrieving the categories active using the fleet model\n",
    "# \n",
    "\n",
    "categories = list(fleet_model.fleet.categories.values())\n",
    "\n",
    "\n",
    "\n",
    "# Computing each aircraft category ASKs \n",
    "aircraft_ask_dict={}\n",
    "for i, category in enumerate(categories):\n",
    "    for j, subcategory in category.subcategories.items():\n",
    "        for aircraft in subcategory.aircraft.values():\n",
    "            var_name = (\n",
    "                        category.name\n",
    "                        + \":\"\n",
    "                        + subcategory.name\n",
    "                        + \":\"\n",
    "                        + aircraft.name\n",
    "                        + \":aircraft_share\"\n",
    "                    )\n",
    "            \n",
    "            if category.name == 'Short Range':\n",
    "                ask=fleet_model.df[var_name]/100*process.data['vector_outputs'].ask_short_range\n",
    "            elif category.name == 'Medium Range':\n",
    "                ask=fleet_model.df[var_name]/100*process.data['vector_outputs'].ask_medium_range\n",
    "            elif category.name == 'Long Range':\n",
    "                ask=fleet_model.df[var_name]/100*process.data['vector_outputs'].ask_long_range\n",
    "            else:\n",
    "                print('wtf')\n",
    "                \n",
    "            aircraft_ask_dict[aircraft.name]=ask\n",
    "\n",
    "\n",
    "# Adding by hand old aircaft (not in model outputs)\n",
    "aircraft_ask_dict['SR conventional narrow-body - Old']=fleet_model.df[\"Short Range:SR conventional narrow-body:old_reference:aircraft_share\"]/100*process.data['vector_outputs'].ask_short_range\n",
    "aircraft_ask_dict['SR conventional narrow-body - Recent']=fleet_model.df[\"Short Range:SR conventional narrow-body:recent_reference:aircraft_share\"]/100*process.data['vector_outputs'].ask_short_range\n",
    "aircraft_ask_dict['MR conventional narrow-body - Old']=fleet_model.df[\"Medium Range:MR conventional narrow-body:old_reference:aircraft_share\"]/100*process.data['vector_outputs'].ask_medium_range\n",
    "aircraft_ask_dict['MR conventional narrow-body - Recent']=fleet_model.df[\"Medium Range:MR conventional narrow-body:recent_reference:aircraft_share\"]/100*process.data['vector_outputs'].ask_medium_range\n",
    "aircraft_ask_dict['LR conventional narrow-body - Old']=fleet_model.df[\"Long Range:LR conventional wide-body:old_reference:aircraft_share\"]/100*process.data['vector_outputs'].ask_long_range\n",
    "aircraft_ask_dict['LR conventional narrow-body - Recent']=fleet_model.df[\"Long Range:LR conventional wide-body:recent_reference:aircraft_share\"]/100*process.data['vector_outputs'].ask_long_range\n",
    "\n",
    "ask_df=pd.DataFrame(aircraft_ask_dict)\n",
    "\n",
    "\n",
    "# Divinding by average ASK per aircraft\n",
    "ask_per_ac=406986332\n",
    "n_aircraft_df=ask_df/ask_per_ac"
   ]
  },
  {
   "cell_type": "code",
   "execution_count": null,
   "id": "c229aa35-a8e5-4d08-9e44-0577262c2597",
   "metadata": {
    "tags": []
   },
   "outputs": [],
   "source": [
    "n_aircraft_df.plot.area()\n"
   ]
  },
  {
   "cell_type": "code",
   "execution_count": null,
   "id": "78722727-1064-4061-960f-8c76b851ff3f",
   "metadata": {
    "tags": []
   },
   "outputs": [],
   "source": [
    "## Merging 2 already in use aircraft types for new aircraft to be built estimation \n",
    "ask_doc=ask_df.copy()\n",
    "\n",
    "ask_df['SR conventional narrow-body']=ask_df['SR conventional narrow-body - Old']+ask_df['SR conventional narrow-body - Recent']\n",
    "ask_df.drop(columns={'SR conventional narrow-body - Old','SR conventional narrow-body - Recent'}, inplace=True)\n",
    "\n",
    "ask_df['MR conventional narrow-body']=ask_df['MR conventional narrow-body - Old']+ask_df['MR conventional narrow-body - Recent']\n",
    "ask_df.drop(columns={'MR conventional narrow-body - Old','MR conventional narrow-body - Recent'}, inplace=True)\n",
    "\n",
    "ask_df['LR conventional narrow-body']=ask_df['LR conventional narrow-body - Old']+ask_df['LR conventional narrow-body - Recent']\n",
    "ask_df.drop(columns={'LR conventional narrow-body - Old','LR conventional narrow-body - Recent'}, inplace=True)"
   ]
  },
  {
   "cell_type": "code",
   "execution_count": null,
   "id": "1594b25e-e649-4beb-a886-a327b0bb9066",
   "metadata": {
    "tags": []
   },
   "outputs": [],
   "source": [
    "import numpy as np\n",
    "\n",
    "\n",
    "\n",
    "\n",
    "def compute_existing_availability(\n",
    "        ask_aircraft_type: pd.Series = pd.Series(dtype=\"float64\"),\n",
    "        ask_per_aircraft_aircraft_type: float = 1.0,\n",
    "        n_years_prod: float = 0.0,\n",
    "        life_aircraft_type: float = 0.0,\n",
    "        prod_cagr: float =0.0,\n",
    "):\n",
    "\n",
    "    n_aircraft_t0 = ask_aircraft_type[2025]/ask_per_aircraft_aircraft_type\n",
    "\n",
    "    indexes = ask_aircraft_type.index\n",
    "\n",
    "    # Additional aircraft to be built per year\n",
    "    aircraft_available_scenario = pd.Series(np.zeros(len(indexes)), indexes)\n",
    "    aircraft_building_scenario = pd.Series(np.zeros(len(indexes)), indexes)\n",
    "\n",
    "    x_0= n_aircraft_t0/((1-(1+prod_cagr)**n_years_prod)/(-prod_cagr))\n",
    "\n",
    "    for i in range (0,n_years_prod):\n",
    "        aircraft_building_scenario[2025-n_years_prod+i]=np.ceil(x_0*(1+prod_cagr)**i)\n",
    "        for j in range (2025-n_years_prod+i, 2025+life_aircraft_type-n_years_prod+i):\n",
    "            aircraft_available_scenario[j+1] +=np.ceil(x_0*(1+prod_cagr)**i)    \n",
    "        \n",
    "    return(\n",
    "        pd.Series(aircraft_building_scenario),\n",
    "        pd.Series(aircraft_available_scenario)\n",
    "    )\n",
    "\n",
    "\n",
    "\n",
    "def compute_aircraft_production(\n",
    "        aircraft_available_scenario: pd.Series = pd.Series(dtype=\"float64\"),\n",
    "        aircraft_building_scenario: pd.Series = pd.Series(dtype=\"float64\"),\n",
    "        ask_aircraft_type: pd.Series = pd.Series(dtype=\"float64\"),\n",
    "        ask_per_aircraft_aircraft_type: float = 1.0,\n",
    "        life_aircraft_type: float = 0.0,\n",
    "):\n",
    "\n",
    "    #define the aircraft demand scenario:\n",
    "    # compute the number of aircraft to match the ask of the aircraft type, round to sup\n",
    "    demand_scenario=np.ceil(ask_aircraft_type/ask_per_aircraft_aircraft_type)\n",
    "\n",
    "\n",
    "    indexes = demand_scenario.index\n",
    "\n",
    "\n",
    "    # For each year of the demand scenario the demand is matched by the production\n",
    "    for year in range(2025,2050):\n",
    "        # Aircraft missing in year n+1 must be supplied by aircraft built in year n\n",
    "        if aircraft_available_scenario[year + 1] < demand_scenario[year + 1]:\n",
    "            \n",
    "            # print(year, aircraft_available_scenario[year + 1] - demand_scenario[year + 1])\n",
    "            # Getting the necessary production\n",
    "            missing_production = demand_scenario[year + 1] - aircraft_available_scenario[year + 1]\n",
    "            aircraft_building_scenario[year] = missing_production\n",
    "            # When new aircraft availability ends: either at the end of plant life or the end of the scenario;\n",
    "            end_bound = min(list(demand_scenario.index)[-1], year + life_aircraft_type)\n",
    "            # Adding new plant production to future years and computing total cost associated\n",
    "            for i in range(year + 1, end_bound + 1):\n",
    "                aircraft_available_scenario[i] = aircraft_available_scenario[i] + missing_production\n",
    "\n",
    "\n",
    "    return(\n",
    "        pd.Series(aircraft_building_scenario),\n",
    "        pd.Series(aircraft_available_scenario)\n",
    "    )"
   ]
  },
  {
   "cell_type": "code",
   "execution_count": null,
   "id": "37bc25ee-b8a9-4e43-9d71-b900c5fc0477",
   "metadata": {
    "tags": []
   },
   "outputs": [],
   "source": [
    "# compute_existing_availability(aircraft_ask_dict['SR conventional narrow-body - Recent'],406986332, 20, 25, 0.04)[1]"
   ]
  },
  {
   "cell_type": "code",
   "execution_count": null,
   "id": "7fb24239-a45a-4fc3-9aac-d32233da7286",
   "metadata": {},
   "outputs": [],
   "source": [
    "production_df=ask_df.apply(lambda col: compute_aircraft_production(compute_existing_availability(col, 406986332, 25, 25, 0.03)[1],compute_existing_availability(col, 406986332, 25, 25, 0.03)[0], col, 406986332, 26)[0], axis=0)\n",
    "availability_df=ask_df.apply(lambda col: compute_aircraft_production(compute_existing_availability(col, 406986332, 25, 25, 0.03)[1],compute_existing_availability(col, 406986332, 25, 25, 0.03)[0], col, 406986332, 26)[1], axis=0)"
   ]
  },
  {
   "cell_type": "code",
   "execution_count": null,
   "id": "94dae6d1-0117-4d11-afe1-b3231c218685",
   "metadata": {
    "tags": []
   },
   "outputs": [],
   "source": [
    "# compute_aircraft_production(compute_existing_availability(aircraft_ask_dict['SR conventional narrow-body - Recent'], 406986332, 20, 25, 0.04)[1],compute_existing_availability(aircraft_ask_dict['SR conventional narrow-body - Recent'], 406986332, 20, 25, 0.04)[0], aircraft_ask_dict['SR conventional narrow-body - Recent'], 406986332, 25)"
   ]
  },
  {
   "cell_type": "code",
   "execution_count": null,
   "id": "d4da8740-40e0-4b66-bacb-2b58ffad6096",
   "metadata": {
    "tags": []
   },
   "outputs": [],
   "source": [
    "production_df.loc[2020:2049].plot.area()"
   ]
  },
  {
   "cell_type": "code",
   "execution_count": null,
   "id": "8fcc1b76-7bfa-467d-a9f0-fbbd3e284f01",
   "metadata": {
    "tags": []
   },
   "outputs": [],
   "source": [
    "availability_df.loc[2025:2049].plot.area()"
   ]
  },
  {
   "cell_type": "markdown",
   "id": "51343849-145d-4288-a9c2-5d573e134345",
   "metadata": {},
   "source": [
    "### NRC "
   ]
  },
  {
   "cell_type": "code",
   "execution_count": null,
   "id": "5460faf3-cf0a-4c4e-a4bb-b0b27d364600",
   "metadata": {},
   "outputs": [],
   "source": [
    "def compute_nrc(\n",
    "        nrc_tot_aircraft_type: float=0.0,\n",
    "        development_time_aircraft_type: float=0.0,\n",
    "        aircraft_building_scenario: pd.Series = pd.Series(dtype=\"float64\"),\n",
    "):\n",
    "    costs = []\n",
    "    years=[]\n",
    "    sigma = development_time_aircraft_type / 6.0  # Controls the spread of the distribution\n",
    "    \n",
    "    \n",
    "    nrc_distributed = pd.Series(np.zeros(len(aircraft_building_scenario.index)), aircraft_building_scenario.index)\n",
    "    \n",
    "    entry_into_service_year=aircraft_building_scenario.ne(0).idxmax()\n",
    "\n",
    "    for i in range(1, development_time_aircraft_type + 1):\n",
    "        year=entry_into_service_year-development_time_aircraft_type+i\n",
    "        weight = np.exp(-0.5 * ((i - development_time_aircraft_type/2) / sigma) ** 2)\n",
    "        cost = round(nrc_tot_aircraft_type * weight)\n",
    "        costs.append(cost)\n",
    "        years.append(year)\n",
    "\n",
    "    # Adjust the distributed costs to ensure their sum matches the total cost\n",
    "    total_distributed_cost = sum(costs)\n",
    "    scaling_factor = nrc_tot_aircraft_type / total_distributed_cost\n",
    "    costs = [round(cost * scaling_factor) for cost in costs]\n",
    "    nrc_distributed = pd.Series(costs, index =years)\n",
    "\n",
    "    return nrc_distributed\n",
    "\n",
    "\n"
   ]
  },
  {
   "cell_type": "code",
   "execution_count": null,
   "id": "b3d30ab8-2ed4-41ae-9226-bde4dc5c07a9",
   "metadata": {
    "tags": []
   },
   "outputs": [],
   "source": [
    "production_df['New Short-range Narrow-body 1: NRC']=compute_nrc(10e9,7,production_df['New Short-range Narrow-body 1'])\n",
    "production_df['New Short-range hydrogen: NRC']=compute_nrc(20e9,10,production_df['New Short-range hydrogen'])\n",
    "production_df['New Medium-range narrow-body 1: NRC']=compute_nrc(10e9,7,production_df['New Medium-range narrow-body 1'])\n",
    "production_df['New Long-range wide-body 1: NRC']=compute_nrc(20e9,7,production_df['New Long-range wide-body 1'])"
   ]
  },
  {
   "cell_type": "markdown",
   "id": "0595f3fc-ff27-4c5f-bf2d-55ab00738eba",
   "metadata": {},
   "source": [
    "## RC"
   ]
  },
  {
   "cell_type": "code",
   "execution_count": null,
   "id": "b16b222e-9113-491c-858f-fdf27e3d2f31",
   "metadata": {
    "tags": []
   },
   "outputs": [],
   "source": [
    "production_df['New Short-range Narrow-body 1: RC']=production_df['New Short-range Narrow-body 1']*50e6\n",
    "production_df['SR conventional narrow-body: RC']=production_df['SR conventional narrow-body']*50e6\n",
    "production_df['SR conventional narrow-body: RC']=production_df['SR conventional narrow-body']*50e6\n",
    "production_df['New Short-range hydrogen: RC']=production_df['New Short-range hydrogen']*70e6\n",
    "\n",
    "\n",
    "production_df['New Medium-range narrow-body 1: RC']=production_df['New Medium-range narrow-body 1']*60e6\n",
    "production_df['MR conventional narrow-body: RC']=production_df['MR conventional narrow-body']*60e6\n",
    "production_df['MR conventional narrow-body: RC']=production_df['MR conventional narrow-body']*60e6\n",
    "\n",
    "\n",
    "production_df['New Long-range wide-body 1: RC']=production_df['New Long-range wide-body 1']*120e6\n",
    "production_df['LR conventional narrow-body: RC']=production_df['LR conventional narrow-body']*120e6\n",
    "production_df['LR conventional narrow-body: RC']=production_df['LR conventional narrow-body']*120e6"
   ]
  },
  {
   "cell_type": "markdown",
   "id": "f57fe3b4-f0cc-4033-974b-2163350d71f8",
   "metadata": {
    "tags": []
   },
   "source": [
    "## DOC"
   ]
  },
  {
   "cell_type": "code",
   "execution_count": null,
   "id": "343ca8ea-406c-4ba8-a214-86d4172c81db",
   "metadata": {
    "tags": []
   },
   "outputs": [],
   "source": [
    "def compute_dropin_doc(\n",
    "        energy_ask_aircraft_type,\n",
    "):\n",
    "    fuel_lhv = 35.3\n",
    "    doc_bio = energy_ask_aircraft_type * (process.data['vector_outputs'].biofuel_hefa_fog_mfsp * process.data['vector_outputs'].biofuel_hefa_fog_share/100+\n",
    "                                          process.data['vector_outputs'].biofuel_hefa_others_mfsp * process.data['vector_outputs'].biofuel_hefa_others_share/100+\n",
    "                                          process.data['vector_outputs'].biofuel_atj_mfsp * process.data['vector_outputs'].biofuel_atj_share/100+\n",
    "                                          process.data['vector_outputs'].biofuel_ft_msw_mfsp * process.data['vector_outputs'].biofuel_ft_msw_share/100+\n",
    "                                          process.data['vector_outputs'].biofuel_ft_others_share/100*process.data['vector_outputs'].biofuel_ft_others_mfsp) * process.data['vector_outputs'].biofuel_share/100 / fuel_lhv\n",
    "    doc_efuel = energy_ask_aircraft_type * process.data['vector_outputs'].electrofuel_avg_cost_per_l * process.data['vector_outputs'].electrofuel_share/100 /fuel_lhv\n",
    "    doc_kerosene = energy_ask_aircraft_type * process.data['vector_outputs'].kerosene_market_price * process.data['vector_outputs'].kerosene_share/100 /fuel_lhv\n",
    "\n",
    "    doc_energy_aircraft_type_ask=doc_kerosene.fillna(0)+doc_efuel.fillna(0)+doc_bio.fillna(0)\n",
    "\n",
    "    return (\n",
    "        doc_energy_aircraft_type_ask\n",
    "    )\n",
    "\n",
    "\n",
    "\n",
    "def compute_lh2_doc(\n",
    "        energy_ask_aircraft_type\n",
    "):\n",
    "    hydrogen_specific_energy = 119.93  # MJ/kg\n",
    "\n",
    "    doc_energy_aircraft_type_ask = energy_ask_aircraft_type * process.data['vector_outputs'].h2_avg_cost_per_kg_electrolysis / hydrogen_specific_energy\n",
    "\n",
    "    return (\n",
    "        doc_energy_aircraft_type_ask\n",
    "    )\n"
   ]
  },
  {
   "cell_type": "code",
   "execution_count": null,
   "id": "db5629be-e9a2-4c25-9bcb-f05e73035a14",
   "metadata": {
    "tags": []
   },
   "outputs": [],
   "source": [
    "energy_ask_type={}\n",
    "\n",
    "old_SR_e_ask=110.8/73.2*0.824\n",
    "recent_SR_e_ask=84.2/73.2*0.824\n",
    "\n",
    "old_MR_e_ask=81.4/73.2*0.824\n",
    "recent_MR_e_ask=62/73.2*0.824\n",
    "\n",
    "old_LR_e_ask=96.65/73.2*0.824\n",
    "recent_LR_e_ask=73.45/73.2*0.824\n",
    "\n",
    "\n",
    "for i, category in enumerate(categories):\n",
    "    for j, subcategory in category.subcategories.items():\n",
    "        for aircraft in subcategory.aircraft.values():\n",
    "            var_name = (\n",
    "                        aircraft.name\n",
    "                        + \": DOC_energy_ask\"\n",
    "                    )\n",
    "            aircraft.parameters.\n",
    "\n",
    "            if category.name=='Short Range':\n",
    "                energy_ask_type[var_name]=(1-float(aircraft.parameters.consumption_gain)/100)*recent_SR_e_ask\n",
    "            elif category.name=='Medium Range':\n",
    "                energy_ask_type[var_name]=(1-float(aircraft.parameters.consumption_gain)/100)*recent_MR_e_ask\n",
    "            else:\n",
    "                energy_ask_type[var_name]=(1-float(aircraft.parameters.consumption_gain)/100)*recent_LR_e_ask"
   ]
  },
  {
   "cell_type": "code",
   "execution_count": null,
   "id": "621e1d3b-0bec-4e6c-9f2c-6a8c77701ea9",
   "metadata": {
    "tags": []
   },
   "outputs": [],
   "source": [
    "energy_ask_type"
   ]
  },
  {
   "cell_type": "code",
   "execution_count": null,
   "id": "8599513e-9585-4689-b057-638982b37469",
   "metadata": {
    "tags": []
   },
   "outputs": [],
   "source": [
    "ask_doc['New Short-range Narrow-body 1: DOC_energy_ask']=compute_dropin_doc(energy_ask_type['New Short-range Narrow-body 1: DOC_energy_ask'])\n",
    "ask_doc['SR conventional narrow-body - Old: DOC_energy_ask']=compute_dropin_doc(old_SR_e_ask) ## -> calib directe\n",
    "ask_doc['SR conventional narrow-body - Recent: DOC_energy_ask']=compute_dropin_doc(recent_SR_e_ask) ## -> calib directe\n",
    "ask_doc['New Short-range hydrogen: DOC_energy_ask']=compute_lh2_doc(energy_ask_type['New Short-range hydrogen: DOC_energy_ask'])\n",
    "\n",
    "\n",
    "ask_doc['New Medium-range narrow-body 1: DOC_energy_ask']=compute_dropin_doc(energy_ask_type['New Short-range Narrow-body 1: DOC_energy_ask'])\n",
    "ask_doc['MR conventional narrow-body - Old: DOC_energy_ask']=compute_dropin_doc(old_MR_e_ask)\n",
    "ask_doc['MR conventional narrow-body - Recent: DOC_energy_ask']=compute_dropin_doc(recent_MR_e_ask)\n",
    "\n",
    "ask_doc['New Long-range wide-body 1: DOC_energy_ask']=compute_dropin_doc(energy_ask_type['New Long-range wide-body 1: DOC_energy_ask'])\n",
    "ask_doc['LR conventional narrow-body - Old: DOC_energy_ask']=compute_dropin_doc(old_LR_e_ask)\n",
    "ask_doc['LR conventional narrow-body - Recent: DOC_energy_ask']=compute_dropin_doc(recent_LR_e_ask)"
   ]
  },
  {
   "cell_type": "code",
   "execution_count": null,
   "id": "d19abf83-d74d-4b13-8455-16c8a9372cd5",
   "metadata": {
    "tags": []
   },
   "outputs": [],
   "source": [
    "ask_doc['New Short-range Narrow-body 1: DOC_energy']=ask_doc['New Short-range Narrow-body 1']*ask_doc['New Short-range Narrow-body 1: DOC_energy_ask']\n",
    "ask_doc['SR conventional narrow-body - Old: DOC_energy']=ask_doc['SR conventional narrow-body - Old']*ask_doc['SR conventional narrow-body - Old: DOC_energy_ask']\n",
    "ask_doc['SR conventional narrow-body - Recent: DOC_energy']=ask_doc['SR conventional narrow-body - Recent']*ask_doc['SR conventional narrow-body - Recent: DOC_energy_ask']\n",
    "ask_doc['New Short-range hydrogen: DOC_energy']=ask_doc['New Short-range hydrogen']*ask_doc['New Short-range hydrogen: DOC_energy_ask']\n",
    "\n",
    "\n",
    "ask_doc['New Medium-range narrow-body 1: DOC_energy']=ask_doc['New Medium-range narrow-body 1']*ask_doc['New Medium-range narrow-body 1: DOC_energy_ask']\n",
    "ask_doc['MR conventional narrow-body - Old: DOC_energy']=ask_doc['MR conventional narrow-body - Old']*ask_doc['MR conventional narrow-body - Old: DOC_energy_ask']\n",
    "ask_doc['MR conventional narrow-body - Recent: DOC_energy']=ask_doc['MR conventional narrow-body - Recent']*ask_doc['MR conventional narrow-body - Recent: DOC_energy_ask']\n",
    "\n",
    "ask_doc['New Long-range wide-body 1: DOC_energy']=ask_doc['New Long-range wide-body 1']*ask_doc['New Long-range wide-body 1: DOC_energy_ask']\n",
    "ask_doc['LR conventional narrow-body - Old: DOC_energy']=ask_doc['LR conventional narrow-body - Old']*ask_doc['LR conventional narrow-body - Old: DOC_energy_ask']\n",
    "ask_doc['LR conventional narrow-body - Recent: DOC_energy']=ask_doc['LR conventional narrow-body - Recent']*ask_doc['LR conventional narrow-body - Recent: DOC_energy_ask']"
   ]
  },
  {
   "cell_type": "code",
   "execution_count": null,
   "id": "1c6e0263-00b0-488a-b253-82da34bbc119",
   "metadata": {
    "tags": []
   },
   "outputs": [],
   "source": [
    "ask_doc"
   ]
  },
  {
   "cell_type": "code",
   "execution_count": null,
   "id": "196c989d-27f0-4081-8ab9-0f034ce47b84",
   "metadata": {
    "tags": []
   },
   "outputs": [],
   "source": [
    "ask_doc['New Short-range Narrow-body 1: DOC_non_energy']=ask_doc['New Short-range Narrow-body 1']*0.04+0.005\n",
    "ask_doc['SR conventional narrow-body - Old: DOC_non_energy']=ask_doc['SR conventional narrow-body - Old']*0.04+0.005\n",
    "ask_doc['SR conventional narrow-body - Recent: DOC_non_energy']=ask_doc['SR conventional narrow-body - Recent']*0.04+0.005\n",
    "ask_doc['New Short-range hydrogen: DOC_non_energy']=ask_doc['New Short-range hydrogen']*0.05+0.006\n",
    "\n",
    "\n",
    "ask_doc['New Medium-range narrow-body 1: DOC_non_energy']=ask_doc['New Medium-range narrow-body 1']*0.025+0.003\n",
    "ask_doc['MR conventional narrow-body - Old: DOC_non_energy']=ask_doc['MR conventional narrow-body - Old']*0.025+0.003\n",
    "ask_doc['MR conventional narrow-body - Recent: DOC_non_energy']=ask_doc['MR conventional narrow-body - Recent']*0.025+0.003\n",
    "\n",
    "ask_doc['New Long-range wide-body 1: DOC_non_energy']=ask_doc['New Long-range wide-body 1']*0.02+0.003\n",
    "ask_doc['LR conventional narrow-body - Old: DOC_non_energy']=ask_doc['LR conventional narrow-body - Old']*0.02+0.003\n",
    "ask_doc['LR conventional narrow-body - Recent: DOC_non_energy']=ask_doc['LR conventional narrow-body - Recent']*0.02+0.003"
   ]
  },
  {
   "cell_type": "code",
   "execution_count": null,
   "id": "7a0e14e7-1629-4897-ace4-3a483bd6fe04",
   "metadata": {
    "tags": []
   },
   "outputs": [],
   "source": [
    "ask_doc['SR Average DOC_ask']= (ask_doc['New Short-range Narrow-body 1: DOC_non_energy']+\n",
    "                               ask_doc['SR conventional narrow-body - Old: DOC_non_energy']+\n",
    "                               ask_doc['SR conventional narrow-body - Recent: DOC_non_energy']+\n",
    "                               ask_doc['New Short-range hydrogen: DOC_non_energy'].fillna(0)+\n",
    "                               ask_doc['New Short-range Narrow-body 1: DOC_energy']+\n",
    "                               ask_doc['SR conventional narrow-body - Old: DOC_energy']+\n",
    "                               ask_doc['SR conventional narrow-body - Recent: DOC_energy']+\n",
    "                               ask_doc['New Short-range hydrogen: DOC_energy'].fillna(0))/process.data['vector_outputs'].ask_short_range\n",
    "\n",
    "\n",
    "ask_doc['MR Average DOC_ask']=(ask_doc['New Medium-range narrow-body 1: DOC_energy']+\n",
    "                              ask_doc['MR conventional narrow-body - Old: DOC_energy']+\n",
    "                              ask_doc['MR conventional narrow-body - Recent: DOC_energy']+\n",
    "                              ask_doc['New Medium-range narrow-body 1: DOC_non_energy']+\n",
    "                              ask_doc['MR conventional narrow-body - Old: DOC_non_energy']+\n",
    "                              ask_doc['MR conventional narrow-body - Recent: DOC_non_energy'])/process.data['vector_outputs'].ask_medium_range\n",
    "\n",
    "\n",
    "ask_doc['LR Average DOC_ask']=(ask_doc['New Long-range wide-body 1: DOC_energy']+\n",
    "                              ask_doc['LR conventional narrow-body - Old: DOC_energy']+\n",
    "                              ask_doc['LR conventional narrow-body - Recent: DOC_energy']+\n",
    "                              ask_doc['New Long-range wide-body 1: DOC_non_energy']+\n",
    "                              ask_doc['LR conventional narrow-body - Old: DOC_non_energy']+\n",
    "                              ask_doc['LR conventional narrow-body - Recent: DOC_non_energy'])/process.data['vector_outputs'].ask_long_range"
   ]
  },
  {
   "cell_type": "code",
   "execution_count": null,
   "id": "dd9eecfd-7df5-4b3f-9368-1dc8338505a1",
   "metadata": {
    "tags": []
   },
   "outputs": [],
   "source": [
    "pd.DataFrame([ask_doc['SR Average DOC_ask'],ask_doc['LR Average DOC_ask'],ask_doc['MR Average DOC_ask']]).transpose().plot()"
   ]
  },
  {
   "cell_type": "code",
   "execution_count": null,
   "id": "235ecd48-a940-4376-8529-f66eddc5f4a5",
   "metadata": {
    "tags": []
   },
   "outputs": [],
   "source": []
  },
  {
   "cell_type": "code",
   "execution_count": null,
   "id": "31500d76-40a0-4b11-9e24-230e973005e4",
   "metadata": {},
   "outputs": [],
   "source": [
    "energy_ask_type"
   ]
  },
  {
   "cell_type": "code",
   "execution_count": null,
   "id": "b3e73bd2-eb59-48b3-bb65-2dff4466211e",
   "metadata": {},
   "outputs": [],
   "source": []
  }
 ],
 "metadata": {
  "kernelspec": {
   "display_name": "Python 3 (ipykernel)",
   "language": "python",
   "name": "python3"
  },
  "language_info": {
   "codemirror_mode": {
    "name": "ipython",
    "version": 3
   },
   "file_extension": ".py",
   "mimetype": "text/x-python",
   "name": "python",
   "nbconvert_exporter": "python",
   "pygments_lexer": "ipython3",
   "version": "3.8.16"
  }
 },
 "nbformat": 4,
 "nbformat_minor": 5
}
