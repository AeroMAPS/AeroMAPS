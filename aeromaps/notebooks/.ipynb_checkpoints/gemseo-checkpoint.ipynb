{
 "cells": [
  {
   "cell_type": "code",
   "execution_count": 1,
   "id": "0cbbd50e-b07a-4497-aaec-0dc0a85dd361",
   "metadata": {
    "tags": []
   },
   "outputs": [
    {
     "data": {
      "text/plain": [
       "<RootLogger root (INFO)>"
      ]
     },
     "execution_count": 1,
     "metadata": {},
     "output_type": "execute_result"
    }
   ],
   "source": [
    "from __future__ import annotations\n",
    "\n",
    "from gemseo import configure_logger\n",
    "from gemseo.core.discipline import MDODiscipline\n",
    "from pandas import DataFrame\n",
    "\n",
    "configure_logger()"
   ]
  },
  {
   "cell_type": "code",
   "execution_count": 2,
   "id": "86267d1a-2130-4d2a-8dc0-fba8138a3337",
   "metadata": {
    "tags": []
   },
   "outputs": [],
   "source": [
    "class DataFrameDiscipline1(MDODiscipline):\n",
    "    def __init__(self):\n",
    "        super().__init__(grammar_type=MDODiscipline.GrammarType.SIMPLE)\n",
    "        self.input_grammar.update_from_names([\"df~x\"])\n",
    "        self.output_grammar.update_from_names([\"df~y\"])\n",
    "        self.default_inputs = {\"df\": DataFrame(data={\"x\": [0.0]})}\n",
    "\n",
    "    def _run(self):\n",
    "        df = self.local_data[\"df\"]\n",
    "        df[\"y\"] = 1.0 - 0.2 * df[\"x\"]\n",
    "\n",
    "        # The code above could also have been written as\n",
    "        # self.local_data[\"df~y\"] = 1.0 - 0.2 * self.local_data[\"df~x\"]\n",
    "        # self.local_data[\"df\"][\"y\"] = 1.0 - 0.2 * self.local_data[\"df\"][\"x\"]"
   ]
  },
  {
   "cell_type": "code",
   "execution_count": 3,
   "id": "c00ec8b2-21c5-4383-8938-2ac0a812f1b6",
   "metadata": {
    "tags": []
   },
   "outputs": [],
   "source": [
    "discipline1 = DataFrameDiscipline1()"
   ]
  },
  {
   "cell_type": "code",
   "execution_count": 4,
   "id": "adf07504-32ac-4bd3-8412-9bee5143842a",
   "metadata": {
    "tags": []
   },
   "outputs": [
    {
     "name": "stdout",
     "output_type": "stream",
     "text": [
      "{'df':      x    y\n",
      "0  0.0  1.0}\n"
     ]
    }
   ],
   "source": [
    "print(discipline1.execute())"
   ]
  },
  {
   "cell_type": "code",
   "execution_count": 5,
   "id": "63ff1e32-0d58-42e0-b30f-9e3b355fa706",
   "metadata": {
    "tags": []
   },
   "outputs": [],
   "source": [
    "class DataFrameDiscipline2(MDODiscipline):\n",
    "    def __init__(self):\n",
    "        super().__init__(grammar_type=MDODiscipline.GrammarType.SIMPLE)\n",
    "        self.input_grammar.update_from_names([\"df~y\"])\n",
    "        self.output_grammar.update_from_names([\"df~z\"])\n",
    "        self.default_inputs = {\"df\": DataFrame(data={\"y\": [0.0]})}\n",
    "\n",
    "    def _run(self):\n",
    "        df = self.local_data[\"df\"]\n",
    "        df[\"z\"] = 1.0 - 0.2 * df[\"y\"]\n",
    "\n",
    "        # The code above could also have been written as\n",
    "        # self.local_data[\"df~y\"] = 1.0 - 0.2 * self.local_data[\"df~x\"]\n",
    "        # self.local_data[\"df\"][\"y\"] = 1.0 - 0.2 * self.local_data[\"df\"][\"x\"]"
   ]
  },
  {
   "cell_type": "code",
   "execution_count": 6,
   "id": "33cc5d98-8376-4b14-8543-c2f31060a4f6",
   "metadata": {
    "tags": []
   },
   "outputs": [],
   "source": [
    "discipline2 = DataFrameDiscipline2()"
   ]
  },
  {
   "cell_type": "code",
   "execution_count": 7,
   "id": "96b88cfe-0fa0-4330-8c80-0a2bae2910e6",
   "metadata": {
    "tags": []
   },
   "outputs": [
    {
     "name": "stdout",
     "output_type": "stream",
     "text": [
      "{'df':      y    z\n",
      "0  0.0  1.0}\n"
     ]
    }
   ],
   "source": [
    "print(discipline2.execute())"
   ]
  },
  {
   "cell_type": "code",
   "execution_count": 9,
   "id": "be45cdbc-d497-48e8-b8f6-926355254e51",
   "metadata": {
    "tags": []
   },
   "outputs": [],
   "source": [
    "from gemseo import create_mda\n",
    "\n",
    "process = create_mda(\n",
    "    \"MDAChain\",\n",
    "    disciplines=[discipline1, discipline2],\n",
    "    grammar_type=MDODiscipline.GrammarType.SIMPLE,\n",
    ")"
   ]
  },
  {
   "cell_type": "code",
   "execution_count": 10,
   "id": "9bbcad01-8fba-49fc-9c7a-53e4a27d9c26",
   "metadata": {
    "tags": []
   },
   "outputs": [
    {
     "data": {
      "text/plain": [
       "{'df':      x    y    z\n",
       "0  0.0  1.0  0.8, 'MDA residuals norm': array([0.])}"
      ]
     },
     "execution_count": 10,
     "metadata": {},
     "output_type": "execute_result"
    }
   ],
   "source": [
    "process.execute()"
   ]
  },
  {
   "cell_type": "code",
   "execution_count": 11,
   "id": "13768e4e-508e-48fd-bc46-cd41927423f3",
   "metadata": {
    "tags": []
   },
   "outputs": [
    {
     "ename": "NameError",
     "evalue": "name 'discipline' is not defined",
     "output_type": "error",
     "traceback": [
      "\u001b[0;31m---------------------------------------------------------------------------\u001b[0m",
      "\u001b[0;31mNameError\u001b[0m                                 Traceback (most recent call last)",
      "Cell \u001b[0;32mIn[11], line 1\u001b[0m\n\u001b[0;32m----> 1\u001b[0m \u001b[38;5;28mprint\u001b[39m(\u001b[43mdiscipline\u001b[49m\u001b[38;5;241m.\u001b[39mexecute({\u001b[38;5;124m\"\u001b[39m\u001b[38;5;124mdf~x\u001b[39m\u001b[38;5;124m\"\u001b[39m: [\u001b[38;5;241m1.0\u001b[39m]}))\n",
      "\u001b[0;31mNameError\u001b[0m: name 'discipline' is not defined"
     ]
    }
   ],
   "source": [
    "print(process.execute({\"df~x\": [1.0]}))"
   ]
  },
  {
   "cell_type": "code",
   "execution_count": null,
   "id": "1459013a-58ba-497a-b30b-7349c3433bab",
   "metadata": {},
   "outputs": [],
   "source": []
  }
 ],
 "metadata": {
  "kernelspec": {
   "display_name": "Python 3 (ipykernel)",
   "language": "python",
   "name": "python3"
  },
  "language_info": {
   "codemirror_mode": {
    "name": "ipython",
    "version": 3
   },
   "file_extension": ".py",
   "mimetype": "text/x-python",
   "name": "python",
   "nbconvert_exporter": "python",
   "pygments_lexer": "ipython3",
   "version": "3.8.15"
  }
 },
 "nbformat": 4,
 "nbformat_minor": 5
}
