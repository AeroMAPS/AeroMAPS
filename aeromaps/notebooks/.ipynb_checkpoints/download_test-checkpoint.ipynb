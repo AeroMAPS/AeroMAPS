{
 "cells": [
  {
   "cell_type": "code",
   "execution_count": 2,
   "id": "817f067f-cc9f-402b-ad0f-4f323a82f485",
   "metadata": {
    "tags": []
   },
   "outputs": [],
   "source": [
    "import os\n",
    "import shutil\n",
    "from pathlib import Path\n",
    "\n",
    "import ipywidgets as widgets\n",
    "from IPython.display import HTML, display"
   ]
  },
  {
   "cell_type": "code",
   "execution_count": 4,
   "id": "7bba884b-81da-454b-938e-af3c88ae4c2c",
   "metadata": {
    "tags": []
   },
   "outputs": [
    {
     "data": {
      "text/html": [
       "<b>Download results</b>: <a download href=\"data.xlsx\">data.xlsx</a>"
      ],
      "text/plain": [
       "<IPython.core.display.HTML object>"
      ]
     },
     "execution_count": 4,
     "metadata": {},
     "output_type": "execute_result"
    }
   ],
   "source": [
    "file = \"data\"\n",
    "\n",
    "download_output = widgets.Output()\n",
    "# file_name = \"data.xlsx\"\n",
    "file_name = \"data.txt\"\n",
    "# file_path = \"/resources/data/\" + file_name\n",
    "file_path = pth.join(DATA_FOLDER, file_name)\n",
    "\n",
    "self._trigger_download(file_path, file_name, self.download_output)\n",
    "# os.remove(filepath)\n",
    "\n",
    "\n",
    "def _trigger_download(self, filepath, filename, output):\n",
    "    js_code = f\"\"\"\n",
    "        var a = document.createElement('a');\n",
    "        a.setAttribute('download', '{filename}');\n",
    "        a.setAttribute('href', '{filepath}');\n",
    "        a.click()\n",
    "    \"\"\"\n",
    "    with output:\n",
    "        display(HTML(f\"<script>{js_code}</script>\"))"
   ]
  },
  {
   "cell_type": "code",
   "execution_count": null,
   "id": "db6a83d7-0d7f-486f-8dbe-4651a0832b89",
   "metadata": {},
   "outputs": [],
   "source": []
  }
 ],
 "metadata": {
  "kernelspec": {
   "display_name": "Python 3 (ipykernel)",
   "language": "python",
   "name": "python3"
  },
  "language_info": {
   "codemirror_mode": {
    "name": "ipython",
    "version": 3
   },
   "file_extension": ".py",
   "mimetype": "text/x-python",
   "name": "python",
   "nbconvert_exporter": "python",
   "pygments_lexer": "ipython3",
   "version": "3.8.15"
  }
 },
 "nbformat": 4,
 "nbformat_minor": 5
}
