{
 "cells": [
  {
   "cell_type": "markdown",
   "metadata": {},
   "source": [
    "# Basic example for using AeroMAPS with Jupyter Notebook\n",
    "\n",
    "This document represents both an example and a tutorial for using the basic functions of AeroMAPS to simulate and evaluate a transition scenario for the aviation sector.  It is written in the form of a Jupyter Notebook to facilitate its use. The user will be able to adapt this notebook and couple it with other notebooks proposed in the documentation."
   ]
  },
  {
   "cell_type": "markdown",
   "metadata": {
    "slideshow": {
     "slide_type": "slide"
    }
   },
   "source": [
    "## Load and process\n",
    "\n",
    "First, the user has to load the framework and generate a process."
   ]
  },
  {
   "cell_type": "code",
   "execution_count": null,
   "metadata": {
    "jupyter": {
     "is_executing": true
    },
    "slideshow": {
     "slide_type": "subslide"
    },
    "tags": []
   },
   "outputs": [],
   "source": [
    "%matplotlib widget\n",
    "from aeromaps import create_process\n",
    "from aeromaps.core.models import (\n",
    "    models_traffic,\n",
    "    models_efficiency_top_down,\n",
    "    models_energy_without_fuel_effect,\n",
    "    models_offset,\n",
    "    models_climate_simple_gwpstar,\n",
    "    models_sustainability,\n",
    "    models_energy_cost_simple,\n",
    "    models_operation_cost_top_down,\n",
    ")"
   ]
  },
  {
   "cell_type": "code",
   "execution_count": null,
   "metadata": {
    "tags": []
   },
   "outputs": [],
   "source": [
    "models = {\n",
    "    \"models_traffic\": models_traffic,\n",
    "    \"models_efficiency_top_down\": models_efficiency_top_down,\n",
    "    \"models_energy_without_fuel_effect\": models_energy_without_fuel_effect,\n",
    "    \"models_offset\": models_offset,\n",
    "    \"models_climate_simple_gwpstar\": models_climate_simple_gwpstar,\n",
    "    \"models_sustainability\": models_sustainability,\n",
    "    \"models_energy_cost_simple\": models_energy_cost_simple,\n",
    "    \"models_operation_cost_top_down\": models_operation_cost_top_down,\n",
    "}"
   ]
  },
  {
   "cell_type": "code",
   "execution_count": null,
   "metadata": {
    "slideshow": {
     "slide_type": "subslide"
    },
    "tags": []
   },
   "outputs": [],
   "source": [
    "process = create_process(models=models)"
   ]
  },
  {
   "cell_type": "markdown",
   "metadata": {
    "slideshow": {
     "slide_type": "slide"
    }
   },
   "source": [
    "## Set up variables\n",
    "\n",
    "The user can then set the different parameters of the model to generate its scenario. The list of the float inputs can be displayed using this command."
   ]
  },
  {
   "cell_type": "code",
   "execution_count": null,
   "metadata": {
    "tags": []
   },
   "outputs": [],
   "source": [
    "# process.list_float_inputs()"
   ]
  },
  {
   "cell_type": "markdown",
   "metadata": {},
   "source": [
    " In the following, some main parameters are for instance set up."
   ]
  },
  {
   "cell_type": "code",
   "execution_count": null,
   "metadata": {
    "slideshow": {
     "slide_type": "subslide"
    },
    "tags": []
   },
   "outputs": [],
   "source": [
    "# Air traffic evolution\n",
    "\n",
    "## Growth rate by category [%]\n",
    "process.parameters.cagr_passenger_short_range_reference_periods = [2020, 2030, 2040, 2050]\n",
    "process.parameters.cagr_passenger_short_range_reference_periods_values = [3.0, 2.0, 1.0]\n",
    "process.parameters.cagr_passenger_medium_range_reference_periods = []\n",
    "process.parameters.cagr_passenger_medium_range_reference_periods_values = [3.0]\n",
    "process.parameters.cagr_passenger_long_range_reference_periods = []\n",
    "process.parameters.cagr_passenger_long_range_reference_periods_values = [3.0]\n",
    "process.parameters.cagr_freight_reference_periods = []\n",
    "process.parameters.cagr_freight_reference_periods_values = [3.0]"
   ]
  },
  {
   "cell_type": "code",
   "execution_count": null,
   "metadata": {
    "slideshow": {
     "slide_type": "subslide"
    },
    "tags": []
   },
   "outputs": [],
   "source": [
    "# Aircraft fleet and operation evolution - Aircraft load factor\n",
    "\n",
    "## Aircraft load factor in 2050 [%]\n",
    "process.parameters.load_factor_end_year = 85.0  # 2019 value: 82.399312"
   ]
  },
  {
   "cell_type": "code",
   "execution_count": null,
   "metadata": {
    "slideshow": {
     "slide_type": "subslide"
    },
    "tags": []
   },
   "outputs": [],
   "source": [
    "# Aircraft fleet and operation evolution - Aircraft efficiency using the top-down approach\n",
    "\n",
    "## Drop-in aircraft\n",
    "### Mean annual efficiency gains by category [%]\n",
    "process.parameters.energy_per_ask_short_range_dropin_fuel_gain_reference_years = []\n",
    "process.parameters.energy_per_ask_short_range_dropin_fuel_gain_reference_years_values = [1.5]\n",
    "process.parameters.energy_per_ask_medium_range_dropin_fuel_gain_reference_years = []\n",
    "process.parameters.energy_per_ask_medium_range_dropin_fuel_gain_reference_years_values = [1.5]\n",
    "process.parameters.energy_per_ask_long_range_dropin_fuel_gain_reference_years = []\n",
    "process.parameters.energy_per_ask_long_range_dropin_fuel_gain_reference_years_values = [1.5]\n",
    "\n",
    "## Hydrogen aircraft\n",
    "### Values for setting logistic functions by category\n",
    "process.parameters.hydrogen_final_market_share_short_range = 50.0  # [%]\n",
    "process.parameters.hydrogen_introduction_year_short_range = 2035\n",
    "process.parameters.fleet_renewal_duration = 20.0\n",
    "### Relative energy consumption for hydrogen aircraft with respect to drop-in aircraft [%]\n",
    "process.parameters.relative_energy_per_ask_hydrogen_wrt_dropin_short_range_reference_years = []\n",
    "process.parameters.relative_energy_per_ask_hydrogen_wrt_dropin_short_range_reference_years_values = [\n",
    "    1.0\n",
    "]"
   ]
  },
  {
   "cell_type": "code",
   "execution_count": null,
   "metadata": {
    "slideshow": {
     "slide_type": "subslide"
    },
    "tags": []
   },
   "outputs": [],
   "source": [
    "# Aircraft fleet and operation evolution - Operations\n",
    "\n",
    "## Values for setting the logistic function\n",
    "process.parameters.operations_final_gain = 8.0  # [%]\n",
    "process.parameters.operations_start_year = 2025\n",
    "process.parameters.operations_duration = 25.0"
   ]
  },
  {
   "cell_type": "code",
   "execution_count": null,
   "metadata": {
    "slideshow": {
     "slide_type": "subslide"
    },
    "tags": []
   },
   "outputs": [],
   "source": [
    "# Aircraft energy - Introduction of alternative drop-in fuels\n",
    "\n",
    "## Share of alternative fuels in the drop-in fuel mix (the rest being supplemented by kerosene) [%]\n",
    "process.parameters.biofuel_share_reference_years = [2020, 2030, 2040, 2050]\n",
    "process.parameters.biofuel_share_reference_years_values = [0.0, 4.8, 24.0, 35.0]\n",
    "process.parameters.electrofuel_share_reference_years = [2020, 2030, 2040, 2050]\n",
    "process.parameters.electrofuel_share_reference_years_values = [0.0, 1.2, 10.0, 35.0]"
   ]
  },
  {
   "cell_type": "code",
   "execution_count": null,
   "metadata": {
    "tags": []
   },
   "outputs": [],
   "source": [
    "# Carbon offset\n",
    "process.parameters.carbon_offset_baseline_level_vs_2019_reference_periods = [2020, 2024, 2050]\n",
    "process.parameters.carbon_offset_baseline_level_vs_2019_reference_periods_values = [100.0, 85.0]\n",
    "process.parameters.residual_carbon_offset_share_reference_years = [2020, 2030, 2040, 2050]\n",
    "process.parameters.residual_carbon_offset_share_reference_years_values = [0.0, 0.0, 20.0, 50.0]"
   ]
  },
  {
   "cell_type": "code",
   "execution_count": null,
   "metadata": {
    "slideshow": {
     "slide_type": "subslide"
    },
    "tags": []
   },
   "outputs": [],
   "source": [
    "# Environmental limits\n",
    "\n",
    "## Carbon budgets and Carbon Dioxide Removal [GtCO2]\n",
    "process.parameters.net_carbon_budget = 850.0\n",
    "process.parameters.carbon_dioxyde_removal_2100 = 280.0\n",
    "\n",
    "## Available energy resources in 2050 [EJ]\n",
    "process.parameters.waste_biomass = 12.0\n",
    "process.parameters.crops_biomass = 63.0\n",
    "process.parameters.forest_residues_biomass = 17.0\n",
    "process.parameters.agricultural_residues_biomass = 57.0\n",
    "process.parameters.algae_biomass = 15.0\n",
    "process.parameters.available_electricity = 250.0"
   ]
  },
  {
   "cell_type": "code",
   "execution_count": null,
   "metadata": {
    "slideshow": {
     "slide_type": "subslide"
    },
    "tags": []
   },
   "outputs": [],
   "source": [
    "# Allocation settings\n",
    "\n",
    "## Aviation share of the global (equivalent) carbon budget [%]\n",
    "process.parameters.aviation_carbon_budget_allocated_share = 2.6\n",
    "process.parameters.aviation_equivalentcarbonbudget_allocated_share = 5.1\n",
    "\n",
    "## Aviation share of the global energy resources (biomass and electricity) [%]\n",
    "process.parameters.aviation_biomass_allocated_share = 5.0\n",
    "process.parameters.aviation_electricity_allocated_share = 5.0"
   ]
  },
  {
   "cell_type": "code",
   "execution_count": null,
   "metadata": {
    "slideshow": {
     "slide_type": "subslide"
    },
    "tags": []
   },
   "outputs": [],
   "source": [
    "# Various environmental settings\n",
    "\n",
    "## Share of biofuel production pathways (the rest being completed by AtJ processes) [%]\n",
    "process.parameters.biofuel_hefa_fog_share_reference_years = [2020, 2030, 2040, 2050]\n",
    "process.parameters.biofuel_hefa_fog_share_reference_years_values = [100, 100, 0.7, 0.7]\n",
    "process.parameters.biofuel_hefa_others_share_reference_years = [2020, 2030, 2040, 2050]\n",
    "process.parameters.biofuel_hefa_others_share_reference_years_values = [0.0, 0.0, 3.8, 3.8]\n",
    "process.parameters.biofuel_ft_others_share_reference_years = [2020, 2030, 2040, 2050]\n",
    "process.parameters.biofuel_ft_others_share_reference_years_values = [0.0, 0.0, 76.3, 76.3]\n",
    "process.parameters.biofuel_ft_msw_share_reference_years = [2020, 2030, 2040, 2050]\n",
    "process.parameters.biofuel_ft_msw_share_reference_years_values = [0.0, 0.0, 7.4, 7.4]\n",
    "\n",
    "## Emission factors for electricity (2019 value: 429 gCO2/kWh)\n",
    "process.parameters.electricity_emission_factor_reference_years = [2020, 2030, 2040, 2050]\n",
    "process.parameters.electricity_emission_factor_reference_years_values = [429.0, 200.0, 100.0, 30.0]\n",
    "\n",
    "## Share of hydrogen production pathways (the rest being completed by production via coal without CCS) [%]\n",
    "## Distribution in 2019: Gas without CCS (71%), Coal without CCS (27%), Electrolysis (2%), Others with CCS (0%), Co-products not taken into account\n",
    "process.parameters.hydrogen_electrolysis_share_reference_years = [2020, 2030, 2040, 2050]\n",
    "process.parameters.hydrogen_electrolysis_share_reference_years_values = [2, 100, 100, 100]\n",
    "process.parameters.hydrogen_gas_ccs_share_reference_years = [2020, 2030, 2040, 2050]\n",
    "process.parameters.hydrogen_gas_ccs_share_reference_years_values = [0, 0, 0, 0]\n",
    "process.parameters.hydrogen_coal_ccs_share_reference_years = [2020, 2030, 2040, 2050]\n",
    "process.parameters.hydrogen_coal_ccs_share_reference_years_values = [0, 0, 0, 0]\n",
    "process.parameters.hydrogen_gas_share_reference_years = [2020, 2030, 2040, 2050]\n",
    "process.parameters.hydrogen_gas_share_reference_years_values = [71, 0, 0, 0]"
   ]
  },
  {
   "cell_type": "markdown",
   "metadata": {
    "slideshow": {
     "slide_type": "slide"
    }
   },
   "source": [
    "## Compute\n",
    "\n",
    "Once all the parameters have been set up, the user can compute."
   ]
  },
  {
   "cell_type": "code",
   "execution_count": null,
   "metadata": {
    "slideshow": {
     "slide_type": "subslide"
    },
    "tags": []
   },
   "outputs": [],
   "source": [
    "process.compute()"
   ]
  },
  {
   "cell_type": "markdown",
   "metadata": {},
   "source": [
    "## Results\n",
    "\n",
    "The user can then display the results. The user has access to float outputs but also to annual data outputs, with the possibility of choosing the output."
   ]
  },
  {
   "cell_type": "code",
   "execution_count": null,
   "metadata": {
    "tags": []
   },
   "outputs": [],
   "source": [
    "process.data[\"float_outputs\"]"
   ]
  },
  {
   "cell_type": "code",
   "execution_count": null,
   "metadata": {
    "tags": []
   },
   "outputs": [],
   "source": [
    "process.data[\"vector_outputs\"]"
   ]
  },
  {
   "cell_type": "code",
   "execution_count": null,
   "metadata": {
    "tags": []
   },
   "outputs": [],
   "source": [
    "process.data[\"climate_outputs\"][[\"co2_emissions\"]]"
   ]
  },
  {
   "cell_type": "markdown",
   "metadata": {},
   "source": [
    "The user can write the results to an Excel file with the following command."
   ]
  },
  {
   "cell_type": "code",
   "execution_count": null,
   "metadata": {
    "tags": []
   },
   "outputs": [],
   "source": [
    "process.write_excel(file_name=\"aeromaps_data.xlsx\")"
   ]
  },
  {
   "cell_type": "markdown",
   "metadata": {
    "slideshow": {
     "slide_type": "slide"
    }
   },
   "source": [
    "## Plots\n",
    "\n",
    "Lastly, the user can also plot different parameters based on a database of plots. The list of the available plots can be displayed using the following command."
   ]
  },
  {
   "cell_type": "code",
   "execution_count": null,
   "metadata": {
    "tags": []
   },
   "outputs": [],
   "source": [
    "process.list_available_plots()"
   ]
  },
  {
   "cell_type": "markdown",
   "metadata": {},
   "source": [
    "The user can thus display a figure of this list, for instance the CO<sub>2</sub> emissions of the simulated scenario."
   ]
  },
  {
   "cell_type": "code",
   "execution_count": null,
   "metadata": {
    "slideshow": {
     "slide_type": "subslide"
    },
    "tags": []
   },
   "outputs": [],
   "source": [
    "process.plot(\"air_transport_co2_emissions\", save=False)"
   ]
  },
  {
   "cell_type": "code",
   "execution_count": null,
   "metadata": {},
   "outputs": [],
   "source": [
    "process.data[\"vector_outputs\"][[\"electricity_emission_factor\"]]"
   ]
  },
  {
   "cell_type": "code",
   "execution_count": null,
   "metadata": {},
   "outputs": [],
   "source": []
  }
 ],
 "metadata": {
  "celltoolbar": "Diaporama",
  "kernelspec": {
   "display_name": "Python 3 (ipykernel)",
   "language": "python",
   "name": "python3"
  },
  "language_info": {
   "codemirror_mode": {
    "name": "ipython",
    "version": 3
   },
   "file_extension": ".py",
   "mimetype": "text/x-python",
   "name": "python",
   "nbconvert_exporter": "python",
   "pygments_lexer": "ipython3",
   "version": "3.10.16"
  }
 },
 "nbformat": 4,
 "nbformat_minor": 4
}
