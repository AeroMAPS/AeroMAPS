{
 "cells": [
  {
   "cell_type": "markdown",
   "metadata": {},
   "source": [
    "# Optimisation\n",
    "This notebook presents a procedure to optimize scenarios within AeroMAPS."
   ]
  },
  {
   "cell_type": "markdown",
   "metadata": {
    "slideshow": {
     "slide_type": "slide"
    }
   },
   "source": [
    "## Load"
   ]
  },
  {
   "cell_type": "code",
   "execution_count": null,
   "metadata": {
    "slideshow": {
     "slide_type": "subslide"
    },
    "tags": []
   },
   "outputs": [],
   "source": [
    "from typing import Tuple\n",
    "\n",
    "from aeromaps import create_process\n",
    "from aeromaps.core.models import models_optim_complex\n",
    "\n",
    "from aeromaps.core.gemseo import CustomDataConverter\n",
    "\n",
    "from gemseo.algos.design_space import DesignSpace\n",
    "\n",
    "from gemseo.settings.opt import SLSQP_Settings\n",
    "\n",
    "\n",
    "import gemseo as gm\n",
    "import warnings\n",
    "import pandas as pd\n",
    "\n",
    "from aeromaps.models.base import AeroMAPSModel, aeromaps_interpolation_function\n",
    "\n",
    "from aeromaps.utils.functions import custom_logger_config\n",
    "\n",
    "custom_logger_config(gm.configure_logger())"
   ]
  },
  {
   "cell_type": "markdown",
   "metadata": {},
   "source": [
    "## Models"
   ]
  },
  {
   "cell_type": "code",
   "execution_count": null,
   "metadata": {
    "tags": []
   },
   "outputs": [],
   "source": [
    "models_optim_complex[\"models_energy_without_fuel_effect\"].pop(\"dropin_fuel_distribution\")\n",
    "\n",
    "\n",
    "# Custom dropin fuel distribution model for optimisation\n",
    "class DropinFuelDistribution(AeroMAPSModel):\n",
    "    def __init__(self, name=\"dropin_fuel_distribution\", *args, **kwargs):\n",
    "        super().__init__(name, *args, **kwargs)\n",
    "\n",
    "    def compute(\n",
    "        self,\n",
    "        biofuel_share_optim: list,\n",
    "        electrofuel_share_optim: list,\n",
    "    ) -> Tuple[pd.Series, pd.Series, pd.Series]:\n",
    "        \"\"\"Fuel distribution calculation using interpolation functions\"\"\"\n",
    "\n",
    "        biofuel_share = pd.Series(0.0, index=range(self.historic_start_year, self.end_year + 1))\n",
    "        electrofuel_share = pd.Series(0.0, index=range(self.historic_start_year, self.end_year + 1))\n",
    "\n",
    "        biofuel_share[2024] = 0.5\n",
    "        biofuel_share_reference_years = [2025, 2030, 2035, 2040, 2045, 2050]\n",
    "        biofuel_share_loc = biofuel_share_optim.copy()\n",
    "        biofuel_share_loc.insert(0, 2)\n",
    "\n",
    "        biofuel_share.loc[2025:2050] = aeromaps_interpolation_function(\n",
    "            self,\n",
    "            biofuel_share_reference_years,\n",
    "            biofuel_share_loc,\n",
    "            method=\"linear\",\n",
    "            positive_constraint=True,\n",
    "            model_name=self.name,\n",
    "        )\n",
    "\n",
    "        self.df.loc[:, \"biofuel_share\"] = biofuel_share\n",
    "\n",
    "        electrofuel_share_reference_years = [2025, 2030, 2035, 2040, 2045, 2050]\n",
    "        electrofuel_share_loc = electrofuel_share_optim.copy()\n",
    "        electrofuel_share_loc.insert(0, 0)\n",
    "\n",
    "        # Electrofuel\n",
    "        electrofuel_share.loc[2025:2050] = aeromaps_interpolation_function(\n",
    "            self,\n",
    "            electrofuel_share_reference_years,\n",
    "            electrofuel_share_loc,\n",
    "            method=\"linear\",  # linear for optim\n",
    "            positive_constraint=True,\n",
    "            model_name=self.name,\n",
    "        )\n",
    "\n",
    "        self.df.loc[:, \"electrofuel_share\"] = electrofuel_share\n",
    "\n",
    "        # Kerosene\n",
    "        kerosene_share = 100 - biofuel_share - electrofuel_share\n",
    "        self.df.loc[:, \"kerosene_share\"] = kerosene_share\n",
    "\n",
    "        return biofuel_share, electrofuel_share, kerosene_share\n",
    "\n",
    "\n",
    "models = {\n",
    "    \"models_optim_complex\": models_optim_complex,\n",
    "    \"dropin_fuel_distribution\": DropinFuelDistribution(\"dropin_fuel_distribution\"),\n",
    "}"
   ]
  },
  {
   "cell_type": "markdown",
   "metadata": {},
   "source": [
    "## Process, data and compute"
   ]
  },
  {
   "cell_type": "code",
   "execution_count": null,
   "metadata": {
    "slideshow": {
     "slide_type": "subslide"
    },
    "tags": []
   },
   "outputs": [],
   "source": [
    "process = create_process(models=models, optimisation=True)"
   ]
  },
  {
   "cell_type": "markdown",
   "metadata": {},
   "source": [
    "## Constraints definition\n",
    "\n",
    "These standard constraints are defined in the source code; but as explained in create_a_custom_process, one can define other constraints directly, and add these to the set of models used."
   ]
  },
  {
   "cell_type": "code",
   "execution_count": null,
   "metadata": {},
   "outputs": [],
   "source": [
    "# Carbon budget share\n",
    "process.parameters.aviation_carbon_budget_objective = 3.6\n",
    "\n",
    "# Biomass availability\n",
    "process.parameters.biomass_availability_constraint_trajectory_reference_years = [\n",
    "    2020,\n",
    "    2030,\n",
    "    2040,\n",
    "    2050,\n",
    "]\n",
    "process.parameters.biomass_availability_constraint_trajectory_reference_years_values = [\n",
    "    62.8,\n",
    "    72.1,\n",
    "    97.8,\n",
    "    101.8,\n",
    "]\n",
    "\n",
    "process.parameters.biomass_availability_constraint_enforcement_years = [\n",
    "    2030,\n",
    "    2035,\n",
    "    2040,\n",
    "    2045,\n",
    "    2050,\n",
    "]\n",
    "\n",
    "# Electricity availability\n",
    "process.parameters.electricity_availability_constraint_trajectory_reference_years = [\n",
    "    2020,\n",
    "    2030,\n",
    "    2040,\n",
    "    2050,\n",
    "]\n",
    "process.parameters.electricity_availability_constraint_trajectory_reference_years_values = [\n",
    "    102.0456,\n",
    "    137.5452,\n",
    "    212.7996,\n",
    "    276.6168,\n",
    "]\n",
    "process.parameters.electricity_availability_constraint_enforcement_years = [\n",
    "    2030,\n",
    "    2035,\n",
    "    2040,\n",
    "    2045,\n",
    "    2050,\n",
    "]\n",
    "process.parameters.blend_completeness_constraint_enforcement_years = [2030, 2035, 2040, 2045, 2050]\n",
    "process.parameters.biofuel_use_growth_constraint_enforcement_years = [2030, 2035, 2040, 2045, 2050]\n",
    "process.parameters.electrofuel_use_growth_constraint_enforcement_years = [\n",
    "    2030,\n",
    "    2035,\n",
    "    2040,\n",
    "    2045,\n",
    "    2050,\n",
    "]\n",
    "\n",
    "# Volume and rate ramp up constraints\n",
    "process.parameters.volume_ramp_up_constraint_biofuel = 0.3\n",
    "process.parameters.rate_ramp_up_constraint_biofuel = 0.2\n",
    "\n",
    "process.parameters.volume_ramp_up_constraint_electrofuel = 0.3\n",
    "process.parameters.rate_ramp_up_constraint_electrofuel = 0.2\n",
    "\n",
    "\n",
    "# Other settings\n",
    "\n",
    "## Carbon budgets and Carbon Dioxide Removal [GtCO2]\n",
    "process.parameters.net_carbon_budget = 850.0\n",
    "process.parameters.carbon_dioxyde_removal_2100 = 285.0\n",
    "\n",
    "\n",
    "## Aviation share of the global (equivalent) carbon budget [%]\n",
    "process.parameters.aviation_carbon_budget_allocated_share = 3.6\n",
    "process.parameters.aviation_equivalentcarbonbudget_allocated_share = 5.1\n",
    "\n",
    "## Aviation share of the global energy resources (biomass and electricity) [%]\n",
    "process.parameters.aviation_biomass_allocated_share = 15.0\n",
    "process.parameters.aviation_electricity_allocated_share = 8.0\n",
    "\n",
    "\n",
    "### Biofuel and efuel reference years associated with the optim variables"
   ]
  },
  {
   "cell_type": "code",
   "execution_count": null,
   "metadata": {},
   "outputs": [],
   "source": [
    "### Here as we are operating with a loop, we have to define initial values of an entry point, just as in use_varaible_demand example\n",
    "process.parameters.price_elasticity = -0.9\n",
    "\n",
    "process.parameters.airfare_per_rpk = pd.Series(\n",
    "    0.082949239,\n",
    "    index=range(process.parameters.historic_start_year, process.parameters.end_year + 1),\n",
    ")"
   ]
  },
  {
   "cell_type": "markdown",
   "metadata": {
    "tags": []
   },
   "source": [
    "### Optimisation problem setup with GEMSEO"
   ]
  },
  {
   "cell_type": "code",
   "execution_count": null,
   "metadata": {
    "tags": []
   },
   "outputs": [],
   "source": [
    "# Create a GEMSEO scenario\n",
    "process.gemseo_settings[\"scenario_type\"] = \"MDO\"\n",
    "process.gemseo_settings[\"formulation\"] = \"MDF\"\n",
    "\n",
    "\n",
    "# define the design sapce: electrofuel and biofuel blending mandates\n",
    "\n",
    "design_space = DesignSpace()\n",
    "design_space.add_variable(\n",
    "    \"electrofuel_share_optim\",\n",
    "    size=5,\n",
    "    lower_bound=[0, 0, 0, 0, 0],\n",
    "    upper_bound=[100, 100, 100, 100, 100],\n",
    "    value=[9.13249637, 14.68171346, 24.29143904, 41.14065492, 41.87052262],\n",
    ")\n",
    "\n",
    "\n",
    "design_space.add_variable(\n",
    "    \"biofuel_share_optim\",\n",
    "    size=5,\n",
    "    lower_bound=[2, 2, 2, 2, 2],\n",
    "    upper_bound=[100, 100, 100, 100, 100],\n",
    "    value=[10.85689249, 16.98435693, 29.28238527, 32.74786858, 29.99980536],\n",
    ")\n",
    "\n",
    "\n",
    "process.gemseo_settings[\"design_space\"] = design_space\n",
    "\n",
    "\n",
    "# Define the objective\n",
    "objective_name = \"cumulative_total_surplus_loss_discounted_obj\"\n",
    "process.gemseo_settings[\"objective_name\"] = objective_name\n",
    "\n",
    "\n",
    "process.create_gemseo_scenario()\n",
    "# Make optimisation objective values in the 1-10 interval\n",
    "process.scenario.formulation.optimization_problem.objective = (\n",
    "    process.scenario.formulation.optimization_problem.objective * 1e-13\n",
    ")\n",
    "\n",
    "\n",
    "# Add constraints\n",
    "all_constraints = [\n",
    "    \"aviation_carbon_budget_constraint\",\n",
    "    \"blend_completeness_constraint\",\n",
    "    \"electricity_trajectory_constraint\",\n",
    "    \"biomass_trajectory_constraint\",\n",
    "]\n",
    "\n",
    "\n",
    "for constraint in all_constraints:\n",
    "    process.scenario.add_constraint(constraint, constraint_type=\"ineq\")\n",
    "\n",
    "\n",
    "process.scenario.set_differentiation_method(\"finite_differences\")\n",
    "\n",
    "# Optim algo: COBYLA, a gradient-free non linear solver\n",
    "# slsqp_settings = SLSQP_Settings(\n",
    "#     max_iter=200,  # CAUTION, 2 set for quick automated test , use something like 200,\n",
    "#     ftol_rel=0.001,\n",
    "#     ftol_abs=0.001,\n",
    "#     ineq_tolerance=0.015,\n",
    "#     normalize_design_space=True,\n",
    "# )\n",
    "\n",
    "slsqp_settings = SLSQP_Settings(\n",
    "    max_iter=20,  # CAUTION, 2 set for quick automated test , use something like 200,\n",
    "    ftol_rel=0.001,\n",
    "    ftol_abs=0.001,\n",
    "    ineq_tolerance=0.015,\n",
    "    normalize_design_space=True,\n",
    ")\n",
    "\n",
    "test_settings = slsqp_settings\n",
    "\n",
    "\n",
    "process.gemseo_settings[\"algorithm\"] = test_settings\n",
    "\n",
    "\n",
    "# Adding design variables to the set of list types varaible (they are declared as ndarray but needed as lists within aeromaps functions)\n",
    "CustomDataConverter._list_names.update(process.scenario.get_optim_variable_names())"
   ]
  },
  {
   "cell_type": "code",
   "execution_count": null,
   "metadata": {
    "slideshow": {
     "slide_type": "subslide"
    },
    "tags": []
   },
   "outputs": [],
   "source": [
    "warnings.filterwarnings(\"ignore\")\n",
    "process.compute()"
   ]
  },
  {
   "cell_type": "markdown",
   "metadata": {
    "tags": []
   },
   "source": [
    "## Results"
   ]
  },
  {
   "cell_type": "code",
   "execution_count": null,
   "metadata": {
    "tags": []
   },
   "outputs": [],
   "source": [
    "process = process"
   ]
  },
  {
   "cell_type": "code",
   "execution_count": null,
   "metadata": {
    "tags": []
   },
   "outputs": [],
   "source": [
    "process.scenario.post_process(\n",
    "    post_name=\"OptHistoryView\",\n",
    "    save=False,\n",
    "    show=True,\n",
    ")"
   ]
  },
  {
   "cell_type": "code",
   "execution_count": null,
   "metadata": {
    "tags": []
   },
   "outputs": [],
   "source": [
    "process.scenario.get_result().design_variable_names_to_values"
   ]
  },
  {
   "cell_type": "code",
   "execution_count": null,
   "metadata": {
    "tags": []
   },
   "outputs": [],
   "source": [
    "process.plot(\"dropin_fuel_shares\")"
   ]
  },
  {
   "cell_type": "code",
   "execution_count": null,
   "metadata": {
    "tags": []
   },
   "outputs": [],
   "source": [
    "from aeromaps.utils.functions import clean_notebooks_on_tests\n",
    "\n",
    "clean_notebooks_on_tests(globals(), force_cleanup=True)"
   ]
  }
 ],
 "metadata": {
  "celltoolbar": "Diaporama",
  "kernelspec": {
   "display_name": "Python 3 (ipykernel)",
   "language": "python",
   "name": "python3"
  },
  "language_info": {
   "codemirror_mode": {
    "name": "ipython",
    "version": 3
   },
   "file_extension": ".py",
   "mimetype": "text/x-python",
   "name": "python",
   "nbconvert_exporter": "python",
   "pygments_lexer": "ipython3",
   "version": "3.12.11"
  }
 },
 "nbformat": 4,
 "nbformat_minor": 4
}
