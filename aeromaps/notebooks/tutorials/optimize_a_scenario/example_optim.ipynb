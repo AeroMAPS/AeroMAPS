{
 "cells": [
  {
   "cell_type": "markdown",
   "metadata": {},
   "source": [
    "# Optimisation\n",
    "This notebook presents a procedure to optimize scenarios within AeroMAPS."
   ]
  },
  {
   "cell_type": "markdown",
   "metadata": {
    "slideshow": {
     "slide_type": "slide"
    }
   },
   "source": [
    "## Load"
   ]
  },
  {
   "cell_type": "code",
   "execution_count": null,
   "metadata": {
    "slideshow": {
     "slide_type": "subslide"
    },
    "tags": []
   },
   "outputs": [],
   "source": [
    "%matplotlib widget\n",
    "from aeromaps import create_process\n",
    "from aeromaps.core.models import models_optim_simple\n",
    "\n",
    "from aeromaps.core.gemseo import CustomDataConverter\n",
    "\n",
    "from gemseo.algos.design_space import DesignSpace\n",
    "\n",
    "# from gemseo.algos.opt.nlopt.settings.nlopt_cobyla_settings import NLOPT_COBYLA_Settings\n",
    "from gemseo.algos.opt.scipy_local.settings.slsqp import SLSQP_Settings\n",
    "\n",
    "\n",
    "import gemseo as gm\n",
    "import warnings\n",
    "\n",
    "from aeromaps.utils.functions import custom_logger_config\n",
    "\n",
    "custom_logger_config(gm.configure_logger())"
   ]
  },
  {
   "cell_type": "markdown",
   "metadata": {},
   "source": [
    "## Models"
   ]
  },
  {
   "cell_type": "code",
   "execution_count": null,
   "metadata": {
    "tags": []
   },
   "outputs": [],
   "source": [
    "models = {\n",
    "    \"models_optim_simple\": models_optim_simple,\n",
    "}"
   ]
  },
  {
   "cell_type": "markdown",
   "metadata": {},
   "source": [
    "## Process, data and compute"
   ]
  },
  {
   "cell_type": "code",
   "execution_count": null,
   "metadata": {
    "slideshow": {
     "slide_type": "subslide"
    },
    "tags": []
   },
   "outputs": [],
   "source": [
    "process = create_process(models=models)"
   ]
  },
  {
   "cell_type": "markdown",
   "metadata": {},
   "source": [
    "## Constraints definition\n",
    "\n",
    "These standard constraints are defined in the source code; but as explained in create_a_custom_process, one can define other constraints directly, and add these to the set of models used."
   ]
  },
  {
   "cell_type": "code",
   "execution_count": null,
   "metadata": {
    "tags": []
   },
   "outputs": [],
   "source": [
    "# Carbon budget share\n",
    "process.parameters.aviation_carbon_budget_objective = 3.6\n",
    "\n",
    "# Biomass availability\n",
    "process.parameters.biomass_availability_constraint_trajectory_reference_years = [\n",
    "    2020,\n",
    "    2030,\n",
    "    2040,\n",
    "    2050,\n",
    "]\n",
    "process.parameters.biomass_availability_constraint_trajectory_reference_years_values = [\n",
    "    62.8,\n",
    "    72.1,\n",
    "    97.8,\n",
    "    101.8,\n",
    "]\n",
    "\n",
    "# Electricity availability\n",
    "process.parameters.electricity_availability_constraint_trajectory_reference_years = [\n",
    "    2020,\n",
    "    2030,\n",
    "    2040,\n",
    "    2050,\n",
    "]\n",
    "process.parameters.electricity_availability_constraint_trajectory_reference_years_values = [\n",
    "    102.0456,\n",
    "    137.5452,\n",
    "    212.7996,\n",
    "    276.6168,\n",
    "]\n",
    "\n",
    "# Volume and rate ramp up constraints\n",
    "process.parameters.volume_ramp_up_constraint_biofuel = 0.3\n",
    "process.parameters.rate_ramp_up_constraint_biofuel = 0.2\n",
    "\n",
    "process.parameters.volume_ramp_up_constraint_electrofuel = 0.3\n",
    "process.parameters.rate_ramp_up_constraint_electrofuel = 0.2\n",
    "\n",
    "\n",
    "# Other settings\n",
    "\n",
    "## Carbon budgets and Carbon Dioxide Removal [GtCO2]\n",
    "process.parameters.net_carbon_budget = 850.0\n",
    "process.parameters.carbon_dioxyde_removal_2100 = 285.0\n",
    "\n",
    "\n",
    "## Aviation share of the global (equivalent) carbon budget [%]\n",
    "process.parameters.aviation_carbon_budget_allocated_share = 3.6\n",
    "process.parameters.aviation_equivalentcarbonbudget_allocated_share = 5.1\n",
    "\n",
    "## Aviation share of the global energy resources (biomass and electricity) [%]\n",
    "process.parameters.aviation_biomass_allocated_share = 15.0\n",
    "process.parameters.aviation_electricity_allocated_share = 8.0\n",
    "\n",
    "\n",
    "### Biofuel and efuel reference years associated with the optim variables\n",
    "\n",
    "process.parameters.biofuel_share_reference_years = [2020, 2025, 2030, 2035, 2040, 2045, 2050]\n",
    "process.parameters.electrofuel_share_reference_years = [2020, 2025, 2030, 2035, 2040, 2045, 2050]"
   ]
  },
  {
   "cell_type": "markdown",
   "metadata": {
    "tags": []
   },
   "source": [
    "### Optimisation problem setup with GEMSEO"
   ]
  },
  {
   "cell_type": "code",
   "execution_count": null,
   "metadata": {
    "tags": []
   },
   "outputs": [],
   "source": [
    "process.setup()\n",
    "\n",
    "# Create a GEMSEO scenario\n",
    "\n",
    "process.gemseo_settings[\"scenario_type\"] = \"MDO\"\n",
    "process.gemseo_settings[\"formulation\"] = \"MDF\"\n",
    "\n",
    "\n",
    "# define the design sapce: electrofuel and biofuel blending mandates\n",
    "\n",
    "# NB: possible to modify DropinFuelDistribution to directly fix the first two values instead of creating frozen varaibles here, to reduce the design space size.\n",
    "\n",
    "design_space = DesignSpace()\n",
    "design_space.add_variable(\n",
    "    \"electrofuel_share_reference_years_values\",\n",
    "    size=7,\n",
    "    lower_bound=[0, 0, 1e-17, 1e-17, 1e-17, 1e-17, 1e-17],\n",
    "    upper_bound=[0.01, 0.01, 100, 100, 100, 100, 100],\n",
    "    value=[0.001, 0.001, 9.13249637, 14.68171346, 24.29143904, 41.14065492, 41.87052262],\n",
    ")\n",
    "\n",
    "\n",
    "design_space.add_variable(\n",
    "    \"biofuel_share_reference_years_values\",\n",
    "    size=7,\n",
    "    lower_bound=[0, 2, 1e-17, 1e-17, 1e-17, 1e-17, 1e-17],\n",
    "    upper_bound=[0.01, 2.01, 100, 100, 100, 100, 100],\n",
    "    value=[0.001, 2.001, 10.85689249, 16.98435693, 29.28238527, 32.74786858, 29.99980536],\n",
    ")\n",
    "\n",
    "\n",
    "process.gemseo_settings[\"design_space\"] = design_space\n",
    "\n",
    "\n",
    "# Define the objective\n",
    "objective_name = \"cumulative_total_airline_cost_discounted_obj\"\n",
    "process.gemseo_settings[\"objective_name\"] = objective_name\n",
    "\n",
    "\n",
    "process.create_gemseo_scenario()\n",
    "# Make optimisation objective values in the 1-10 interval\n",
    "process.scenario.formulation.optimization_problem.objective = (\n",
    "    process.scenario.formulation.optimization_problem.objective * 1e-13\n",
    ")\n",
    "\n",
    "\n",
    "# Add constraints\n",
    "all_constraints = [\n",
    "    \"aviation_carbon_budget_constraint\",\n",
    "    \"blend_completeness_constraint\",\n",
    "    \"electricity_trajectory_constraint\",\n",
    "    \"biomass_trajectory_constraint\",\n",
    "    # \"electrofuel_use_growth_constraint\",\n",
    "    # \"biofuel_use_growth_constraint\",\n",
    "    # \"biofuel_use_no_degrowth_constraint\",\n",
    "    # \"electrofuel_use_no_degrowth_constraint\",\n",
    "]\n",
    "\n",
    "\n",
    "for constraint in all_constraints:\n",
    "    process.scenario.add_constraint(constraint, constraint_type=\"ineq\")\n",
    "\n",
    "\n",
    "process.scenario.set_differentiation_method(\"finite_differences\")\n",
    "\n",
    "# Optim algo: COBYLA, a gradient-free non linear solver ==> Require installation of NLOP; better than SLSQP to start with\n",
    "# cobyla_settings = NLOPT_COBYLA_Settings(\n",
    "#     max_iter=3,  # CAUTION, 3 set for quick automated test , use something like 200,\n",
    "#     ftol_rel=0.001,\n",
    "#     ftol_abs=0.001,\n",
    "#     ineq_tolerance=0.015,\n",
    "#     normalize_design_space=True,\n",
    "#     init_step=0.1,\n",
    "# )\n",
    "\n",
    "\n",
    "slsqp_settings = SLSQP_Settings(\n",
    "    max_iter=2,  # CAUTION, 2 set for quick automated test , use something like 200,\n",
    "    ftol_rel=0.001,\n",
    "    ftol_abs=0.001,\n",
    "    ineq_tolerance=0.015,\n",
    "    normalize_design_space=True,\n",
    ")\n",
    "\n",
    "\n",
    "process.gemseo_settings[\"algorithm\"] = slsqp_settings  # cobyla_settings\n",
    "\n",
    "\n",
    "# Adding design variables to the set of list types varaible (they are declared as ndarray but needed as lists within aeromaps functions)\n",
    "\n",
    "CustomDataConverter._list_names.update(process.scenario.get_optim_variable_names())"
   ]
  },
  {
   "cell_type": "code",
   "execution_count": null,
   "metadata": {
    "slideshow": {
     "slide_type": "subslide"
    },
    "tags": []
   },
   "outputs": [],
   "source": [
    "warnings.filterwarnings(\"ignore\")\n",
    "process.compute()"
   ]
  },
  {
   "cell_type": "markdown",
   "metadata": {
    "tags": []
   },
   "source": [
    "## Results"
   ]
  },
  {
   "cell_type": "code",
   "execution_count": null,
   "metadata": {
    "tags": []
   },
   "outputs": [],
   "source": [
    "process = process"
   ]
  },
  {
   "cell_type": "code",
   "execution_count": null,
   "metadata": {
    "tags": []
   },
   "outputs": [],
   "source": [
    "process.scenario.post_process(\n",
    "    post_name=\"OptHistoryView\",\n",
    "    save=False,\n",
    "    show=True,\n",
    ")"
   ]
  },
  {
   "cell_type": "code",
   "execution_count": null,
   "metadata": {
    "tags": []
   },
   "outputs": [],
   "source": [
    "process.scenario.get_result().design_variable_names_to_values"
   ]
  },
  {
   "cell_type": "code",
   "execution_count": null,
   "metadata": {
    "tags": []
   },
   "outputs": [],
   "source": [
    "process.plot(\"dropin_fuel_shares\")"
   ]
  },
  {
   "cell_type": "code",
   "execution_count": null,
   "metadata": {},
   "outputs": [],
   "source": []
  }
 ],
 "metadata": {
  "celltoolbar": "Diaporama",
  "kernelspec": {
   "display_name": "Python 3 (ipykernel)",
   "language": "python",
   "name": "python3"
  },
  "language_info": {
   "codemirror_mode": {
    "name": "ipython",
    "version": 3
   },
   "file_extension": ".py",
   "mimetype": "text/x-python",
   "name": "python",
   "nbconvert_exporter": "python",
   "pygments_lexer": "ipython3",
   "version": "3.12.11"
  }
 },
 "nbformat": 4,
 "nbformat_minor": 4
}
