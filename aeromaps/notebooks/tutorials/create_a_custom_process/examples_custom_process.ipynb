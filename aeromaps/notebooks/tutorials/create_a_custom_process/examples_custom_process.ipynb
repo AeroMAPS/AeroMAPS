{
 "cells": [
  {
   "cell_type": "markdown",
   "metadata": {},
   "source": [
    "# Example for creating a custom process in AeroMAPS\n",
    "\n",
    "This document aims to show the recommended way to create a custom process (configuration file and custom models) and execute them within AeroMAPS."
   ]
  },
  {
   "cell_type": "markdown",
   "metadata": {
    "slideshow": {
     "slide_type": "slide"
    }
   },
   "source": [
    "## Load and process\n",
    "\n",
    "First, the user has to load the framework and generate a process."
   ]
  },
  {
   "cell_type": "code",
   "execution_count": null,
   "metadata": {
    "slideshow": {
     "slide_type": "subslide"
    },
    "tags": []
   },
   "outputs": [],
   "source": [
    "%matplotlib widget\n",
    "from aeromaps import create_process\n",
    "from aeromaps.core.models import (\n",
    "    models_traffic,\n",
    "    models_efficiency_top_down,\n",
    "    models_energy_without_fuel_effect,\n",
    "    models_offset,\n",
    "    models_climate_simple_gwpstar,\n",
    "    models_sustainability,\n",
    ")"
   ]
  },
  {
   "cell_type": "markdown",
   "metadata": {},
   "source": [
    "## Create a custom model\n",
    "\n",
    "Here by default we import several aggregated reference models, such as `models_traffic`, that contains basic models used in AeroMAPS. Overall, these different aggregated models include 100 basic models. We recommend to keep these default models to not remove any outputs that may be needed by other models.\n",
    "For instance, the `models_traffic` is a dictionnary structure with keys that are the name of the model and the value an instance of the model:\n",
    "\n",
    "```python\n",
    "models_traffic = {\n",
    "    \"rpk_measures\": RPKMeasures(\"rpk_measures\"),\n",
    "    \"rpk\": RPK(\"rpk\"),\n",
    "    \"rpk_reference\": RPKReference(\"rpk_reference\"),\n",
    "    \"total_aircraft_distance\": TotalAircraftDistance(\"total_aircraft_distance\"),\n",
    "    \"rtk\": RTK(\"rtk\"),\n",
    "    \"rtk_reference\": RTKReference(\"rtk_reference\"),\n",
    "    \"ask\": ASK(\"ask\")\n",
    "}\n",
    "\n",
    "```\n",
    "\n",
    "We create a custom model example `MeanDistancePerInhabitantFlyer` that is located [here](./models/mean_distance_per_inhabitant_and_flyer.py), in the file `models/mean_distance_per_inhabitant_and_flyer.py`. To integrate it in to the AeroMAPS process we propose to import it and to add it to the dictionnary containing the models."
   ]
  },
  {
   "cell_type": "code",
   "execution_count": null,
   "metadata": {
    "tags": []
   },
   "outputs": [],
   "source": [
    "from models.mean_distance_per_inhabitant_and_flyer import MeanDistancePerInhabitantFlyer\n",
    "\n",
    "extended_models = {\n",
    "    \"models_traffic\": models_traffic,\n",
    "    \"models_efficiency_top_down\": models_efficiency_top_down,\n",
    "    \"models_energy_without_fuel_effect\": models_energy_without_fuel_effect,\n",
    "    \"models_offset\": models_offset,\n",
    "    \"models_climate_simple_gwpstar\": models_climate_simple_gwpstar,\n",
    "    \"models_sustainability\": models_sustainability,\n",
    "    \"mean_distance_per_inhabitant_and_flyer\": MeanDistancePerInhabitantFlyer(\n",
    "        \"mean_distance_per_inhabitant_and_flyer\"\n",
    "    ),\n",
    "}"
   ]
  },
  {
   "cell_type": "markdown",
   "metadata": {
    "tags": []
   },
   "source": [
    "This new ensemble of models can be provided to the process."
   ]
  },
  {
   "cell_type": "markdown",
   "metadata": {},
   "source": [
    "## Create the process\n",
    "\n",
    "Here we show how we can use a configuration file with an example [here](./data/config.json), in the file `data/config.json`.\n",
    "There you can specify the relative path to the different files.\n",
    "For example, you can provide a custom input file with the parameters you want to modify with an example [here](./data/inputs.json), in the file `data/inputs.json`.\n",
    "\n",
    "Be careful, do not forget to set the inputs required by your models, either in the `resources/data/parameters.json` file if you modify the source code, or directly in the `inputs.json` file from your configuration file. You can also change the inputs data directly through the code after the creation of the process (see below)."
   ]
  },
  {
   "cell_type": "code",
   "execution_count": null,
   "metadata": {
    "slideshow": {
     "slide_type": "subslide"
    },
    "tags": []
   },
   "outputs": [],
   "source": [
    "process = create_process(configuration_file=\"data/config.json\", models=extended_models)"
   ]
  },
  {
   "cell_type": "code",
   "execution_count": null,
   "metadata": {},
   "outputs": [],
   "source": [
    "process.parameters.world_inhabitant_number_reference_years = [2020, 2030, 2040, 2050]\n",
    "process.parameters.world_inhabitant_number_reference_years_values = [\n",
    "    7.805e9,\n",
    "    8.512e9,\n",
    "    9.159e9,\n",
    "    9.687e9,\n",
    "]  # Assumption based on the 2022 Revision of World Population Prospects from the United Nations\n",
    "process.parameters.inhabitant_flyer_share_reference_years = [2020, 2030, 2040, 2050]\n",
    "process.parameters.inhabitant_flyer_share_reference_years_values = [\n",
    "    11,\n",
    "    14,\n",
    "    17,\n",
    "    20,\n",
    "]  # Assumption based on a linear increase from Gossling and Humpe (2020) value"
   ]
  },
  {
   "cell_type": "markdown",
   "metadata": {
    "slideshow": {
     "slide_type": "slide"
    }
   },
   "source": [
    "## Compute\n",
    "\n",
    "Once all the parameters have been set up, the user can compute."
   ]
  },
  {
   "cell_type": "code",
   "execution_count": null,
   "metadata": {
    "slideshow": {
     "slide_type": "subslide"
    },
    "tags": []
   },
   "outputs": [],
   "source": [
    "process.compute()"
   ]
  },
  {
   "cell_type": "markdown",
   "metadata": {},
   "source": [
    "## Results\n",
    "\n",
    "The user can then display the results. The user has access to float outputs but also to annual data outputs, with the possibility of choosing the output."
   ]
  },
  {
   "cell_type": "code",
   "execution_count": null,
   "metadata": {
    "tags": []
   },
   "outputs": [],
   "source": [
    "process.data[\"vector_outputs\"][[\"mean_distance_per_inhabitant\", \"mean_distance_per_flyer\"]]"
   ]
  },
  {
   "cell_type": "code",
   "execution_count": null,
   "metadata": {},
   "outputs": [],
   "source": []
  }
 ],
 "metadata": {
  "celltoolbar": "Diaporama",
  "kernelspec": {
   "display_name": "Python 3 (ipykernel)",
   "language": "python",
   "name": "python3"
  },
  "language_info": {
   "codemirror_mode": {
    "name": "ipython",
    "version": 3
   },
   "file_extension": ".py",
   "mimetype": "text/x-python",
   "name": "python",
   "nbconvert_exporter": "python",
   "pygments_lexer": "ipython3",
   "version": "3.10.16"
  }
 },
 "nbformat": 4,
 "nbformat_minor": 4
}
