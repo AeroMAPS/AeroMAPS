{
 "cells": [
  {
   "cell_type": "markdown",
   "metadata": {},
   "source": [
    "# Example of usage with price elasticity\n",
    "\n",
    "This notebook presents a simple example of an AeroMAPS scenario in which both the demand and the offer are affected by the evolution of the energy prices.  \n",
    "This work is published in chapter 11 of [this thesis](https://theses.fr/2025ESAE0001)."
   ]
  },
  {
   "cell_type": "markdown",
   "metadata": {
    "slideshow": {
     "slide_type": "slide"
    }
   },
   "source": [
    "## Load and process\n",
    "\n",
    "As usually, the user has to load the framework and generate a process."
   ]
  },
  {
   "cell_type": "code",
   "execution_count": null,
   "metadata": {
    "slideshow": {
     "slide_type": "subslide"
    },
    "tags": []
   },
   "outputs": [],
   "source": [
    "%matplotlib widget\n",
    "from aeromaps import create_process\n",
    "from aeromaps.core.models import (\n",
    "    models_traffic_cost_feedback,\n",
    "    models_efficiency_top_down,\n",
    "    models_energy_without_fuel_effect,\n",
    "    models_offset,\n",
    "    models_climate_simple_gwpstar,\n",
    "    models_sustainability,\n",
    "    models_energy_cost_simple,\n",
    "    models_operation_cost_top_down_feedback,\n",
    ")\n",
    "\n",
    "import gemseo as gm\n",
    "import pandas as pd\n",
    "\n",
    "from aeromaps.utils.functions import custom_logger_config\n",
    "\n",
    "custom_logger_config(gm.configure_logger())"
   ]
  },
  {
   "cell_type": "code",
   "execution_count": null,
   "metadata": {
    "tags": []
   },
   "outputs": [],
   "source": [
    "models = {\n",
    "    \"models_traffic_cost_feedback\": models_traffic_cost_feedback,\n",
    "    \"models_efficiency_top_down\": models_efficiency_top_down,\n",
    "    \"models_energy_without_fuel_effect\": models_energy_without_fuel_effect,\n",
    "    \"models_offset\": models_offset,\n",
    "    \"models_climate_simple_gwpstar\": models_climate_simple_gwpstar,\n",
    "    \"models_sustainability\": models_sustainability,\n",
    "    \"models_energy_cost_simple\": models_energy_cost_simple,\n",
    "    \"models_operation_cost_top_down_feedback\": models_operation_cost_top_down_feedback,\n",
    "}"
   ]
  },
  {
   "cell_type": "code",
   "execution_count": null,
   "metadata": {
    "slideshow": {
     "slide_type": "subslide"
    },
    "tags": []
   },
   "outputs": [],
   "source": [
    "process = create_process(\n",
    "    configuration_file=\"data_elasticity/config_elasticity.json\",\n",
    "    models=models,\n",
    ")"
   ]
  },
  {
   "cell_type": "markdown",
   "metadata": {
    "slideshow": {
     "slide_type": "slide"
    }
   },
   "source": [
    "## Set up variables\n",
    "\n",
    "### Aviation scenario"
   ]
  },
  {
   "cell_type": "code",
   "execution_count": null,
   "metadata": {
    "tags": []
   },
   "outputs": [],
   "source": [
    "process.parameters.price_elasticity = -0.9"
   ]
  },
  {
   "cell_type": "code",
   "execution_count": null,
   "metadata": {
    "slideshow": {
     "slide_type": "subslide"
    },
    "tags": []
   },
   "outputs": [],
   "source": [
    "# Default (\"business as usual\" --> in our case considering frozen technology in 2019 and 100% kerozene) Air traffic evolution\n",
    "\n",
    "# Aircraft fleet and operation evolution - Aircraft efficiency using the top-down approach\n",
    "\n",
    "# ## Drop-in aircraft\n",
    "# ### Mean annual efficiency gains by category [%]\n",
    "# process.parameters.energy_per_ask_short_range_dropin_fuel_gain_reference_years = []\n",
    "# process.parameters.energy_per_ask_short_range_dropin_fuel_gain_reference_years_values = [0.0000000001]\n",
    "# process.parameters.energy_per_ask_medium_range_dropin_fuel_gain_reference_years = []\n",
    "# process.parameters.energy_per_ask_medium_range_dropin_fuel_gain_reference_years_values = [0.0000000001]\n",
    "# process.parameters.energy_per_ask_long_range_dropin_fuel_gain_reference_years = []\n",
    "# process.parameters.energy_per_ask_long_range_dropin_fuel_gain_reference_years_values = [0.0000000001]\n",
    "\n",
    "\n",
    "# # Aircraft fleet and operation evolution - Operations\n",
    "\n",
    "# ## Values for setting the logistic function\n",
    "# process.parameters.operations_final_gain = 0.0000000001  # [%]\n",
    "# process.parameters.operations_start_year = 2025\n",
    "# process.parameters.operations_duration = 25.0\n",
    "\n",
    "# process.parameters.load_factor_end_year = 82.39931200000001  # 2019 value: 82.399312\n",
    "\n",
    "# ## Growth rate by category [%]\n",
    "# process.parameters.cagr_passenger_short_range_reference_periods = []\n",
    "# process.parameters.cagr_passenger_short_range_reference_periods_values = [3.0]\n",
    "# process.parameters.cagr_passenger_medium_range_reference_periods = []\n",
    "# process.parameters.cagr_passenger_medium_range_reference_periods_values = [3.0]\n",
    "# process.parameters.cagr_passenger_long_range_reference_periods = []\n",
    "# process.parameters.cagr_passenger_long_range_reference_periods_values = [3.0]\n",
    "# process.parameters.cagr_freight_reference_periods = []\n",
    "# process.parameters.cagr_freight_reference_periods_values = [3.0]"
   ]
  },
  {
   "cell_type": "code",
   "execution_count": null,
   "metadata": {
    "slideshow": {
     "slide_type": "subslide"
    },
    "tags": []
   },
   "outputs": [],
   "source": [
    "# Aircraft energy - Introduction of alternative drop-in fuels --> none here\n",
    "\n",
    "\n",
    "## Share of alternative fuels in the drop-in fuel mix (the rest being supplemented by kerosene) [%]\n",
    "process.parameters.biofuel_share_reference_years = [2020, 2030, 2040, 2050]\n",
    "process.parameters.biofuel_share_reference_years_values = [0.0, 0.0, 0.0, 0.0]\n",
    "process.parameters.electrofuel_share_reference_years = [2020, 2030, 2040, 2050]\n",
    "process.parameters.electrofuel_share_reference_years_values = [0.0, 0.0, 0.0, 0.0]"
   ]
  },
  {
   "cell_type": "code",
   "execution_count": null,
   "metadata": {
    "tags": []
   },
   "outputs": [],
   "source": [
    "# Cost parameters\n",
    "\n",
    "## Carbon tax\n",
    "process.parameters.carbon_tax_reference_years = [2020, 2030, 2040, 2050]\n",
    "process.parameters.carbon_tax_reference_years_values = [\n",
    "    500,\n",
    "    500,\n",
    "    500,\n",
    "    500,\n",
    "]  # 2020 value differs from the value of Quinet (54 €/tCO2)"
   ]
  },
  {
   "cell_type": "code",
   "execution_count": null,
   "metadata": {
    "tags": []
   },
   "outputs": [],
   "source": [
    "# With the eleasticity there is a coupling llop bewteen airfare and traffic.\n",
    "# The solver needs to enter in the loop at some point, and thus some coupling varaibles needs to have a default value. If not done in the models, one can do it here or in the input files.\n",
    "\n",
    "process.parameters.airfare_per_rpk = pd.Series(\n",
    "    0.082949239,\n",
    "    index=range(process.parameters.historic_start_year, process.parameters.end_year + 1),\n",
    ")"
   ]
  },
  {
   "cell_type": "code",
   "execution_count": null,
   "metadata": {},
   "outputs": [],
   "source": [
    "process.setup()\n",
    "process.compute()"
   ]
  },
  {
   "cell_type": "code",
   "execution_count": null,
   "metadata": {},
   "outputs": [],
   "source": [
    "process.mda_chain.plot_residual_history(show=True, save=False, fig_size=(10.0, 4.0))"
   ]
  },
  {
   "cell_type": "code",
   "execution_count": null,
   "metadata": {
    "tags": []
   },
   "outputs": [],
   "source": [
    "rpk_with_elast = process.data[\"vector_outputs\"][\"rpk\"]\n",
    "rpk_no_elast = process.data[\"vector_outputs\"][\"rpk_no_elasticity\"]"
   ]
  },
  {
   "cell_type": "code",
   "execution_count": null,
   "metadata": {
    "tags": []
   },
   "outputs": [],
   "source": [
    "rpk_with_elast / rpk_no_elast"
   ]
  },
  {
   "cell_type": "code",
   "execution_count": null,
   "metadata": {
    "tags": []
   },
   "outputs": [],
   "source": [
    "process.data[\"vector_outputs\"][\"total_cost_per_rpk_without_extra_tax\"][2019]"
   ]
  },
  {
   "cell_type": "code",
   "execution_count": null,
   "metadata": {
    "tags": []
   },
   "outputs": [],
   "source": [
    "process.data[\"vector_outputs\"][\"total_cost_per_rpk_without_extra_tax\"][2019] + 0.003983"
   ]
  },
  {
   "cell_type": "code",
   "execution_count": null,
   "metadata": {
    "tags": []
   },
   "outputs": [],
   "source": [
    "process.plot(\"air_transport_co2_emissions\")"
   ]
  },
  {
   "cell_type": "code",
   "execution_count": null,
   "metadata": {
    "tags": []
   },
   "outputs": [],
   "source": [
    "process.plot(\"airfare_breakdown\")"
   ]
  },
  {
   "cell_type": "code",
   "execution_count": null,
   "metadata": {},
   "outputs": [],
   "source": []
  }
 ],
 "metadata": {
  "celltoolbar": "Diaporama",
  "kernelspec": {
   "display_name": "Python 3 (ipykernel)",
   "language": "python",
   "name": "python3"
  },
  "language_info": {
   "codemirror_mode": {
    "name": "ipython",
    "version": 3
   },
   "file_extension": ".py",
   "mimetype": "text/x-python",
   "name": "python",
   "nbconvert_exporter": "python",
   "pygments_lexer": "ipython3",
   "version": "3.12.11"
  }
 },
 "nbformat": 4,
 "nbformat_minor": 4
}
