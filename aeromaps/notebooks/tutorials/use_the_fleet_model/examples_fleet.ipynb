{
 "cells": [
  {
   "cell_type": "markdown",
   "id": "721e00ea-eec3-4040-a716-d63927e46ff1",
   "metadata": {},
   "source": [
    "# Example for using fleet modeling in AeroMAPS"
   ]
  },
  {
   "cell_type": "markdown",
   "id": "8b8bd6a5-69d6-4519-9670-56a8e027ff38",
   "metadata": {},
   "source": [
    "This notebook aims at using the classes dedicated to the fleet modelling that are used in AeroMAPS."
   ]
  },
  {
   "cell_type": "markdown",
   "id": "b1ab1748-8998-4541-9e62-147a56261d6a",
   "metadata": {},
   "source": [
    "## Link with other AeroMAPS models\n",
    "\n",
    "This fleet model can be used in AeroMAPS for improving the modeling of the fleet efficiency. For this purpose, a dedicated model is loaded, based on the bottom-up approach using fleet model. It replaces the basic top-down approach for modeling the evolution of the fleet efficiency, based on annual efficiency gains."
   ]
  },
  {
   "cell_type": "code",
   "execution_count": null,
   "id": "e0ba22a9-dd5d-420d-b9a5-2f79582d1a83",
   "metadata": {
    "slideshow": {
     "slide_type": "subslide"
    },
    "tags": []
   },
   "outputs": [],
   "source": [
    "%matplotlib widget\n",
    "from aeromaps import create_process\n",
    "from aeromaps.core.models import (\n",
    "    models_traffic,\n",
    "    models_efficiency_bottom_up,\n",
    "    models_energy_without_fuel_effect,\n",
    "    models_offset,\n",
    "    models_climate_simple_gwpstar,\n",
    "    models_sustainability,\n",
    ")"
   ]
  },
  {
   "cell_type": "code",
   "execution_count": null,
   "id": "71a3585f-ef99-45ef-8034-acc7af1ae705",
   "metadata": {},
   "outputs": [],
   "source": [
    "models = {\n",
    "    \"models_traffic\": models_traffic,\n",
    "    \"models_efficiency_bottom_up\": models_efficiency_bottom_up,\n",
    "    \"models_energy_without_fuel_effect\": models_energy_without_fuel_effect,\n",
    "    \"models_offset\": models_offset,\n",
    "    \"models_climate_simple_gwpstar\": models_climate_simple_gwpstar,\n",
    "    \"models_sustainability\": models_sustainability,\n",
    "}"
   ]
  },
  {
   "cell_type": "code",
   "execution_count": null,
   "id": "d0c6d06f-acf2-4361-9d62-3391fda8e33a",
   "metadata": {
    "slideshow": {
     "slide_type": "subslide"
    },
    "tags": []
   },
   "outputs": [],
   "source": [
    "process = create_process(\n",
    "    models=models,\n",
    "    use_fleet_model=True,\n",
    "    add_examples_aircraft_and_subcategory=True,\n",
    ")"
   ]
  },
  {
   "cell_type": "code",
   "execution_count": null,
   "id": "2f43a99a-783f-4b43-8020-3d557f71dec5",
   "metadata": {
    "tags": []
   },
   "outputs": [],
   "source": [
    "process.parameters.prospection_start_year"
   ]
  },
  {
   "cell_type": "markdown",
   "id": "641394a1-ed30-49a8-95c2-a63c346468f8",
   "metadata": {},
   "source": [
    "Here, an example using the previous fleet generated is performed with the AeroMAPS default float inputs. The hydrogen used for hydrogen aircraft is assumed to be produced via electrolysis using dedicated low-carbon electricity."
   ]
  },
  {
   "cell_type": "code",
   "execution_count": null,
   "id": "c51d6f18-4666-4c1c-8198-ab6508019a4f",
   "metadata": {},
   "outputs": [],
   "source": [
    "# Change end year\n",
    "process.parameters.end_year = 2060\n",
    "process.setup(add_examples_aircraft_and_subcategory=True)"
   ]
  },
  {
   "cell_type": "code",
   "execution_count": null,
   "id": "b3b74263-fd24-443d-9487-cf9becc1cd4b",
   "metadata": {
    "tags": []
   },
   "outputs": [],
   "source": [
    "# Hydrogen production\n",
    "process.parameters.hydrogen_electrolysis_share_reference_years = []\n",
    "process.parameters.hydrogen_electrolysis_share_reference_years_values = [100]\n",
    "process.parameters.hydrogen_gas_ccs_share_reference_years = []\n",
    "process.parameters.hydrogen_gas_ccs_share_reference_years_values = [0]\n",
    "process.parameters.hydrogen_coal_ccs_share_reference_years = []\n",
    "process.parameters.hydrogen_coal_ccs_share_reference_years_values = [0]\n",
    "process.parameters.hydrogen_gas_share_reference_years = []\n",
    "process.parameters.hydrogen_gas_share_reference_years_values = [0]\n",
    "# Electricity emission factor\n",
    "process.parameters.electricity_emission_factor_reference_years = []\n",
    "process.parameters.electricity_emission_factor_reference_years_values = [20.0]"
   ]
  },
  {
   "cell_type": "markdown",
   "id": "9ec27d30-f96a-4535-b72a-5d7544264087",
   "metadata": {},
   "source": [
    "## Load and process"
   ]
  },
  {
   "cell_type": "code",
   "execution_count": null,
   "id": "334ae7bc-274f-46f9-af6f-b371deed1406",
   "metadata": {
    "pycharm": {
     "is_executing": true
    },
    "tags": []
   },
   "outputs": [],
   "source": [
    "import pandas as pd\n",
    "\n",
    "pd.set_option(\"display.max_rows\", 500)\n",
    "pd.set_option(\"display.max_columns\", 500)\n",
    "pd.set_option(\"display.width\", 1000)"
   ]
  },
  {
   "cell_type": "markdown",
   "id": "3eb3ef4d-476a-4a2e-bf08-79184975b0f9",
   "metadata": {},
   "source": [
    "The fleet is divided into three main categories of aircraft, associated to an initial subcategory based on representative aircraft:\n",
    "- Short range (Conventional narrow-body)\n",
    "- Medium range (Conventional narrow-body)\n",
    "- Long range (Conventional wide-body)"
   ]
  },
  {
   "cell_type": "markdown",
   "id": "d0cbbdb6-459d-46fd-a294-b040b6ece346",
   "metadata": {},
   "source": [
    "Lets now assemble these categories into a fleet object. By default, two new aircraft have been added to the initial subcategories, and two subcategories have also been added for Short Range (turboprop aircraft and hydrogen aircraft). Illustrative values are considered."
   ]
  },
  {
   "cell_type": "code",
   "execution_count": null,
   "id": "5f8eeb2d",
   "metadata": {
    "jupyter": {
     "outputs_hidden": false
    },
    "pycharm": {
     "name": "#%%\n"
    },
    "tags": []
   },
   "outputs": [],
   "source": [
    "fleet = process.fleet\n",
    "fleet_model = process.fleet_model"
   ]
  },
  {
   "cell_type": "markdown",
   "id": "a3c9f0d4-260b-4fa2-9afe-5d2373ae33e8",
   "metadata": {},
   "source": [
    "## Set up the fleet"
   ]
  },
  {
   "cell_type": "markdown",
   "id": "47da873a-cdc3-478f-90da-23153b2b72b8",
   "metadata": {},
   "source": [
    "A dedicated user interface can be used for modifying the fleet using the following command. The can then directly change the future composition of the fleet by simply adding subcategories and aircraft. For subcategories, the final distribution between the different subcategories among a category has to be indicated. For aircraft, the user can choose an Entry-Into-Service year as well as the type of fuel used (DROP_IN_FUEL or HYDROGEN). The gains in terms of fuel consumption, NOx emission index and soot emission index, in comparison to the recent reference aircraft in the initial subcategory, also have to be specified. Negative values can be considered, meaning an increase in fuel consumption for instance."
   ]
  },
  {
   "cell_type": "code",
   "execution_count": null,
   "id": "7d636320-e679-4588-9e1a-24e9cb465b85",
   "metadata": {
    "tags": []
   },
   "outputs": [],
   "source": [
    "fleet.ui"
   ]
  },
  {
   "cell_type": "markdown",
   "id": "07fdf884-2a6c-42f3-a81b-65ae93d0c2e6",
   "metadata": {},
   "source": [
    "You can change fleet renewal rates for each category. The default value is 25 years."
   ]
  },
  {
   "cell_type": "code",
   "execution_count": null,
   "id": "18b4726b-e1ba-40fa-b353-4aef1c1a33ad",
   "metadata": {
    "tags": []
   },
   "outputs": [],
   "source": [
    "fleet.categories[\"Medium Range\"].parameters.life = 20"
   ]
  },
  {
   "cell_type": "markdown",
   "id": "708fb33d-42ac-48d9-bab4-33f37d423227",
   "metadata": {},
   "source": [
    "## Compute and results for the fleet model\n",
    "\n",
    "Once the fleet has been chosen, the user can compute."
   ]
  },
  {
   "cell_type": "code",
   "execution_count": null,
   "id": "6fa09d91-db39-4b74-9eb0-4705af870ea7",
   "metadata": {
    "tags": []
   },
   "outputs": [],
   "source": [
    "fleet_model.compute()"
   ]
  },
  {
   "cell_type": "markdown",
   "id": "30999274-43b8-4ab5-a829-1a322df22642",
   "metadata": {},
   "source": [
    "The user can then display the results."
   ]
  },
  {
   "cell_type": "code",
   "execution_count": null,
   "id": "5a3396ec-360d-4722-9d13-4b1bbfc7c6d3",
   "metadata": {
    "tags": []
   },
   "outputs": [],
   "source": [
    "fleet_model.df"
   ]
  },
  {
   "cell_type": "markdown",
   "id": "275cc413-fcc9-4f99-8056-c71f2de0a2db",
   "metadata": {},
   "source": [
    "More simply, the user can plot fleet renewal and its impact on energy consumption per ASK for each category."
   ]
  },
  {
   "cell_type": "code",
   "execution_count": null,
   "id": "83224b9c-180e-4543-b75c-3ab2242f0afb",
   "metadata": {
    "tags": []
   },
   "outputs": [],
   "source": [
    "fleet_model.plot()"
   ]
  },
  {
   "cell_type": "markdown",
   "id": "d291f265-bc93-4c2b-b5c5-d63574dd371e",
   "metadata": {},
   "source": [
    "## Compute and results for the global model\n",
    "\n",
    "The user can finally run the global model for studying a prospective scenario for air transport based on a hand-made fleet."
   ]
  },
  {
   "cell_type": "code",
   "execution_count": null,
   "id": "33bf24ac-76a6-4d08-942a-e54e9553281f",
   "metadata": {
    "slideshow": {
     "slide_type": "subslide"
    },
    "tags": []
   },
   "outputs": [],
   "source": [
    "process.compute()"
   ]
  },
  {
   "cell_type": "code",
   "execution_count": null,
   "id": "02e4fa58-7dad-4213-b4f0-f2dc26c80001",
   "metadata": {
    "tags": []
   },
   "outputs": [],
   "source": [
    "process.plot(\"air_transport_co2_emissions\")"
   ]
  },
  {
   "cell_type": "code",
   "execution_count": null,
   "id": "dffb577a-64c0-4733-86a0-dd9c904c5b29",
   "metadata": {},
   "outputs": [],
   "source": []
  }
 ],
 "metadata": {
  "kernelspec": {
   "display_name": "Python 3 (ipykernel)",
   "language": "python",
   "name": "python3"
  },
  "language_info": {
   "codemirror_mode": {
    "name": "ipython",
    "version": 3
   },
   "file_extension": ".py",
   "mimetype": "text/x-python",
   "name": "python",
   "nbconvert_exporter": "python",
   "pygments_lexer": "ipython3",
   "version": "3.10.16"
  }
 },
 "nbformat": 4,
 "nbformat_minor": 5
}
