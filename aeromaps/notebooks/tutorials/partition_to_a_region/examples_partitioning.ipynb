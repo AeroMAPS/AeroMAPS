{
 "cells": [
  {
   "cell_type": "markdown",
   "id": "a301957d-4adf-437c-b9ca-9dcbe0e784e8",
   "metadata": {},
   "source": [
    "# Example for partitioning the scope of the AeroMAPS scenario using AeroSCOPE data\n",
    "\n",
    "This notebook serves as an example for producing analyses on a reduced scope (e.g. regional) using AeroSCOPE data.\n",
    "\n",
    "## 1. Generation of a corrected input file for the studied scope\n",
    "\n",
    "Base values for calibrating a scenario can be obtained using [AeroSCOPE](www.aeromaps.eu/aeroscope).\n",
    "The file is downloaded from the \"AeroMAPS Export\" tab, using the available filtering options. \n",
    "\n",
    "**Please refer to [AeroSCOPE description](https://github.com/AeroMAPS/AeroSCOPE) to understand the limitaions of the tool.**\n",
    "<img src=\"attachment:ed93cd8b-9206-47ad-a81c-398e796a81bb.png\" alt=\"Image\" width=\"1400\"/>\n",
    "\n",
    "Click on \"Download File\" to generate the input files for 2019, and place the *.csv* file in *data* folder as below. This folder is used to store the calibration *.csv*, but also a custom input file.\n",
    "\n",
    "Here, an example is provided considering domestic and international flights departing from France (overseas not included). \n",
    "A dedicated function of AeroMAPS calibrates historical parameters by calibrating AeroMAPS values using AeroSCOPE partitionned file.  \n",
    "A set of transformations is necessary to match a similar coverage as AeroSCOPE does not cover dedicated cargo flights. \n",
    "\n",
    "**⚠ Historical values are calibrated based on the comparision of AeroSCOPE 2019 values with AeroMAPS 2019 reference. Historical trajectories (RPK, energy consumption, emissions, ...) are scaled using this ratio and are NOT REPRESENTATIVE of actual historical values for the partition made, which can result in significant differences, in particular for climate models ⚠**"
   ]
  },
  {
   "cell_type": "code",
   "execution_count": null,
   "id": "8e12a429-3ed7-4632-80e1-0a887f7cde13",
   "metadata": {
    "tags": []
   },
   "outputs": [],
   "source": [
    "from aeromaps.utils.functions import create_partitioning"
   ]
  },
  {
   "cell_type": "code",
   "execution_count": null,
   "id": "8986f241-62f4-43c8-ac30-6040bfabb9e5",
   "metadata": {
    "tags": []
   },
   "outputs": [],
   "source": [
    "create_partitioning(file=\"data/aeroscope_france_data.csv\", path=\"data\")"
   ]
  },
  {
   "cell_type": "markdown",
   "id": "8e7abdae-bb7f-4716-928d-328bb18772af",
   "metadata": {},
   "source": [
    "## 2. Run AeroMAPS on this studied scope"
   ]
  },
  {
   "cell_type": "code",
   "execution_count": null,
   "id": "6819c521-7db3-4cd2-92c2-1199c6b1dfbe",
   "metadata": {
    "tags": []
   },
   "outputs": [],
   "source": [
    "%matplotlib widget\n",
    "from aeromaps import create_process\n",
    "from aeromaps.core.models import (\n",
    "    models_traffic,\n",
    "    models_efficiency_top_down,\n",
    "    models_energy_without_fuel_effect,\n",
    "    models_offset,\n",
    "    models_climate_gwpstar,\n",
    "    models_sustainability,\n",
    ")"
   ]
  },
  {
   "cell_type": "code",
   "execution_count": null,
   "id": "20a3a0a6-6c42-4d3b-a0f8-8f218f879aac",
   "metadata": {
    "tags": []
   },
   "outputs": [],
   "source": [
    "models = {\n",
    "    \"models_traffic\": models_traffic,\n",
    "    \"models_efficiency_top_down\": models_efficiency_top_down,\n",
    "    \"models_energy_without_fuel_effect\": models_energy_without_fuel_effect,\n",
    "    \"models_offset\": models_offset,\n",
    "    \"models_climate_simple_gwpstar\": models_climate_gwpstar,\n",
    "    \"models_sustainability\": models_sustainability,\n",
    "}"
   ]
  },
  {
   "cell_type": "markdown",
   "id": "be24a791-a4ec-4275-a466-9454671a2cfe",
   "metadata": {},
   "source": [
    "Create process as usual, the partitionning is recuperated as specified in the config file."
   ]
  },
  {
   "cell_type": "code",
   "execution_count": null,
   "id": "9dc75f7b-5584-4de3-8efc-2026c2874abd",
   "metadata": {
    "tags": []
   },
   "outputs": [],
   "source": [
    "process = create_process(configuration_file=\"data/config.json\", models=models)"
   ]
  },
  {
   "cell_type": "code",
   "execution_count": null,
   "id": "8eb22a70-8570-4db0-94f6-5d2f57b6d7c2",
   "metadata": {
    "tags": []
   },
   "outputs": [],
   "source": [
    "process.compute()\n",
    "process.write_json()"
   ]
  },
  {
   "cell_type": "code",
   "execution_count": null,
   "id": "3b33586b-bed4-4eab-9b75-6f1e91a49d82",
   "metadata": {
    "tags": []
   },
   "outputs": [],
   "source": [
    "process.plot(\"air_transport_co2_emissions\", save=False)"
   ]
  },
  {
   "cell_type": "code",
   "execution_count": null,
   "id": "1285817d-41b5-467e-b421-b294c882c68b",
   "metadata": {},
   "outputs": [],
   "source": []
  }
 ],
 "metadata": {
  "kernelspec": {
   "display_name": "AeroMAPS",
   "language": "python",
   "name": "python3"
  },
  "language_info": {
   "codemirror_mode": {
    "name": "ipython",
    "version": 3
   },
   "file_extension": ".py",
   "mimetype": "text/x-python",
   "name": "python",
   "nbconvert_exporter": "python",
   "pygments_lexer": "ipython3",
   "version": "3.9.19"
  }
 },
 "nbformat": 4,
 "nbformat_minor": 5
}
