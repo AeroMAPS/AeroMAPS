{
 "cells": [
  {
   "cell_type": "markdown",
   "metadata": {},
   "source": [
    "# Callibration of simple energy cost models with original MFSP calculations"
   ]
  },
  {
   "cell_type": "markdown",
   "metadata": {
    "slideshow": {
     "slide_type": "slide"
    }
   },
   "source": [
    "## Load and process complex models"
   ]
  },
  {
   "cell_type": "code",
   "execution_count": null,
   "metadata": {
    "slideshow": {
     "slide_type": "subslide"
    },
    "tags": []
   },
   "outputs": [],
   "source": [
    "%matplotlib widget\n",
    "from aeromaps import create_process\n",
    "from aeromaps.core.models import (\n",
    "    models_traffic,\n",
    "    models_efficiency_top_down,\n",
    "    models_energy_without_fuel_effect,\n",
    "    models_offset,\n",
    "    models_climate_simple_gwpstar,\n",
    "    models_sustainability,\n",
    "    models_energy_cost,\n",
    ")\n",
    "import copy"
   ]
  },
  {
   "cell_type": "code",
   "execution_count": null,
   "metadata": {
    "tags": []
   },
   "outputs": [],
   "source": [
    "models = {\n",
    "    \"models_traffic\": models_traffic,\n",
    "    \"models_efficiency_top_down\": models_efficiency_top_down,\n",
    "    \"models_energy_without_fuel_effect\": models_energy_without_fuel_effect,\n",
    "    \"models_offset\": models_offset,\n",
    "    \"models_climate_simple_gwpstar\": models_climate_simple_gwpstar,\n",
    "    \"models_sustainability\": models_sustainability,\n",
    "    \"models_energy_cost_complex\": models_energy_cost,\n",
    "}"
   ]
  },
  {
   "cell_type": "code",
   "execution_count": null,
   "metadata": {
    "slideshow": {
     "slide_type": "subslide"
    },
    "tags": []
   },
   "outputs": [],
   "source": [
    "process = create_process(\n",
    "    configuration_file=\"data/config_BU.json\",\n",
    "    models=copy.deepcopy(models),\n",
    "    use_fleet_model=True,\n",
    "    add_examples_aircraft_and_subcategory=False,\n",
    ")"
   ]
  },
  {
   "cell_type": "markdown",
   "metadata": {
    "slideshow": {
     "slide_type": "slide"
    }
   },
   "source": [
    "## Set up variables\n",
    "\n",
    "A scenario is defined with MFSP energy models using default aeromaps assumptions.\n",
    "\n",
    "***Non-representative share ensuring permanent production (and thus calculus of MFSP) of each fuel are taken below.***"
   ]
  },
  {
   "cell_type": "markdown",
   "metadata": {},
   "source": [
    " In the following, some main parameters are for instance set up.\n",
    " \n",
    " \n",
    " ***UPDATE: THIS NOTEBOOK IS NOW USED ONLY TO RUN DEFAULT BOTTOM UP ENERGY MODELS. MEAN RESULTS CAN BE SET TO TOP-DOWN MODELS***\n",
    " --> all inputs are now useless as everything is defined in the conf "
   ]
  },
  {
   "cell_type": "code",
   "execution_count": null,
   "metadata": {
    "slideshow": {
     "slide_type": "subslide"
    },
    "tags": []
   },
   "outputs": [],
   "source": [
    "# Aircraft energy - Introduction of alternative drop-in fuels\n",
    "\n",
    "## Share of alternative fuels in the drop-in fuel mix (the rest being supplemented by kerosene) [%]\n",
    "# process.parameters.biofuel_share_reference_years = []\n",
    "# process.parameters.biofuel_share_reference_years_values = [30.0]\n",
    "# process.parameters.electrofuel_share_reference_years = []\n",
    "# process.parameters.electrofuel_share_reference_years_values = [30.0]\n",
    "\n",
    "process.parameters.hydrogen_final_market_share_short_range = 50.0  # [%]\n",
    "process.parameters.hydrogen_introduction_year_short_range = 2020\n",
    "process.parameters.fleet_renewal_duration = 20.0"
   ]
  },
  {
   "cell_type": "code",
   "execution_count": null,
   "metadata": {
    "slideshow": {
     "slide_type": "subslide"
    },
    "tags": []
   },
   "outputs": [],
   "source": [
    "# Various environmental settings\n",
    "\n",
    "## Share of biofuel production pathways (the rest being completed by AtJ processes) [%]\n",
    "# process.parameters.biofuel_hefa_fog_share_reference_years = []\n",
    "# process.parameters.biofuel_hefa_fog_share_reference_years_values = [20]\n",
    "# process.parameters.biofuel_hefa_others_share_reference_years = []\n",
    "# process.parameters.biofuel_hefa_others_share_reference_years_values = [20]\n",
    "# process.parameters.biofuel_ft_others_share_reference_years = []\n",
    "# process.parameters.biofuel_ft_others_share_reference_years_values = [20]\n",
    "# process.parameters.biofuel_ft_msw_share_reference_years = []\n",
    "# process.parameters.biofuel_ft_msw_share_reference_years_values = [20]\n",
    "\n",
    "\n",
    "# process.parameters.hydrogen_electrolysis_share_reference_years = []\n",
    "# process.parameters.hydrogen_electrolysis_share_reference_years_values = [20]\n",
    "# process.parameters.hydrogen_gas_ccs_share_reference_years = []\n",
    "# process.parameters.hydrogen_gas_ccs_share_reference_years_values = [20]\n",
    "# process.parameters.hydrogen_coal_ccs_share_reference_years = []\n",
    "# process.parameters.hydrogen_coal_ccs_share_reference_years_values = [20]\n",
    "# process.parameters.hydrogen_gas_share_reference_years = []\n",
    "# process.parameters.hydrogen_gas_share_reference_years_values = [20]\n",
    "\n",
    "\n",
    "process.parameters.carbon_tax_reference_years = [2020, 2040]\n",
    "process.parameters.carbon_tax_reference_years_values = [100, 200]"
   ]
  },
  {
   "cell_type": "markdown",
   "metadata": {
    "slideshow": {
     "slide_type": "slide"
    }
   },
   "source": [
    "## Compute\n",
    "\n",
    "Once all the parameters have been set up, the user can compute."
   ]
  },
  {
   "cell_type": "code",
   "execution_count": null,
   "metadata": {
    "slideshow": {
     "slide_type": "subslide"
    },
    "tags": []
   },
   "outputs": [],
   "source": [
    "process.compute()"
   ]
  },
  {
   "cell_type": "code",
   "execution_count": null,
   "metadata": {
    "tags": []
   },
   "outputs": [],
   "source": [
    "process.plot(\"energy_mfsp\")"
   ]
  },
  {
   "cell_type": "code",
   "execution_count": null,
   "metadata": {
    "tags": []
   },
   "outputs": [],
   "source": [
    "process_td = create_process(\n",
    "    models=copy.deepcopy(models),\n",
    "    use_fleet_model=True,\n",
    "    add_examples_aircraft_and_subcategory=False,\n",
    ")\n",
    "\n",
    "process_td.parameters.hydrogen_final_market_share_short_range = 50.0  # [%]\n",
    "process_td.parameters.hydrogen_introduction_year_short_range = 2020\n",
    "process_td.parameters.fleet_renewal_duration = 20.0\n",
    "\n",
    "process_td.parameters.carbon_tax_reference_years = [2020, 2040]\n",
    "process_td.parameters.carbon_tax_reference_years_values = [100, 200]"
   ]
  },
  {
   "cell_type": "code",
   "execution_count": null,
   "metadata": {
    "tags": []
   },
   "outputs": [],
   "source": [
    "process_td.compute()"
   ]
  },
  {
   "cell_type": "code",
   "execution_count": null,
   "metadata": {
    "tags": []
   },
   "outputs": [],
   "source": [
    "process_td.plot(\"energy_mfsp\")"
   ]
  },
  {
   "cell_type": "code",
   "execution_count": null,
   "metadata": {},
   "outputs": [],
   "source": []
  }
 ],
 "metadata": {
  "celltoolbar": "Diaporama",
  "kernelspec": {
   "display_name": "Python 3 (ipykernel)",
   "language": "python",
   "name": "python3"
  },
  "language_info": {
   "codemirror_mode": {
    "name": "ipython",
    "version": 3
   },
   "file_extension": ".py",
   "mimetype": "text/x-python",
   "name": "python",
   "nbconvert_exporter": "python",
   "pygments_lexer": "ipython3",
   "version": "3.9.21"
  }
 },
 "nbformat": 4,
 "nbformat_minor": 4
}
