{
 "cells": [
  {
   "cell_type": "markdown",
   "metadata": {
    "slideshow": {
     "slide_type": "slide"
    }
   },
   "source": [
    "## Load and process"
   ]
  },
  {
   "cell_type": "code",
   "execution_count": 1,
   "metadata": {
    "slideshow": {
     "slide_type": "subslide"
    },
    "tags": []
   },
   "outputs": [],
   "source": [
    "%matplotlib widget\n",
    "from aeromaps.core.process import AeromapsProcess\n",
    "from aeromaps.core.models import models_simple"
   ]
  },
  {
   "cell_type": "code",
   "execution_count": 2,
   "metadata": {
    "slideshow": {
     "slide_type": "subslide"
    }
   },
   "outputs": [],
   "source": [
    "process = AeromapsProcess(read_json=True, models=models_simple)"
   ]
  },
  {
   "cell_type": "markdown",
   "metadata": {
    "slideshow": {
     "slide_type": "slide"
    }
   },
   "source": [
    "## Set up variables for levers of action"
   ]
  },
  {
   "cell_type": "code",
   "execution_count": 3,
   "metadata": {
    "slideshow": {
     "slide_type": "subslide"
    }
   },
   "outputs": [],
   "source": [
    "# # Evolution du trafic aérien\n",
    "# ## Taux de croissance par catégorie et par décennie [%]\n",
    "# a = 3\n",
    "# process.parameters.growth_rate_2020_2030_short_range = a\n",
    "# process.parameters.growth_rate_2030_2040_short_range = a\n",
    "# process.parameters.growth_rate_2040_2050_short_range = a\n",
    "# process.parameters.growth_rate_2020_2030_medium_range = a\n",
    "# process.parameters.growth_rate_2030_2040_medium_range = a\n",
    "# process.parameters.growth_rate_2040_2050_medium_range = a\n",
    "# process.parameters.growth_rate_2020_2030_long_range = a\n",
    "# process.parameters.growth_rate_2030_2040_long_range = a\n",
    "# process.parameters.growth_rate_2040_2050_long_range = a"
   ]
  },
  {
   "cell_type": "code",
   "execution_count": 4,
   "metadata": {
    "slideshow": {
     "slide_type": "subslide"
    }
   },
   "outputs": [],
   "source": [
    "# # Amélioration de l'efficacité énergétique des avions via le taux de remplissage\n",
    "\n",
    "# ## Valeur du taux de remplissage en 2050 [%]\n",
    "# process.parameters.load_factor_end_year = 89"
   ]
  },
  {
   "cell_type": "code",
   "execution_count": 5,
   "metadata": {
    "slideshow": {
     "slide_type": "subslide"
    }
   },
   "outputs": [],
   "source": [
    "# Amélioration de l'efficacité énergétique des avions via le renouvellement de flotte\n",
    "\n",
    "# ## Avions de type Drop-in Fuel\n",
    "# ## Amélioration annuelle moyenne par catégorie [%]\n",
    "# process.parameters.energy_per_ask_short_range_dropin_fuel_gain = 1.5\n",
    "# process.parameters.energy_per_ask_medium_range_dropin_fuel_gain = 1.5\n",
    "# process.parameters.energy_per_ask_long_range_dropin_fuel_gain = 1.5\n",
    "\n",
    "# ## Avions de type Hydrogène\n",
    "# ### Valeurs pour régler les fonctions sigmoïdes par catégorie\n",
    "# process.parameters.hydrogen_final_market_share_short_range = 50.0  # [%]\n",
    "# process.parameters.hydrogen_introduction_year_short_range = 2035\n",
    "# process.parameters.hydrogen_final_market_share_medium_range = 0.0  # [%]\n",
    "# process.parameters.hydrogen_introduction_year_medium_range = 2045\n",
    "# process.parameters.hydrogen_final_market_share_long_range = 0.0  # [%]\n",
    "# process.parameters.hydrogen_introduction_year_long_range = 2051\n",
    "# process.parameters.fleet_renewal_duration = 20.0\n",
    "# ### Amélioration annuelle moyenne par catégorie [%]\n",
    "# process.parameters.energy_per_ask_short_range_hydrogen_gain = 1.5\n",
    "# process.parameters.energy_per_ask_medium_range_hydrogen_gain = 1.5\n",
    "# process.parameters.energy_per_ask_long_range_hydrogen_gain = 1.5"
   ]
  },
  {
   "cell_type": "code",
   "execution_count": 6,
   "metadata": {
    "slideshow": {
     "slide_type": "subslide"
    }
   },
   "outputs": [],
   "source": [
    "# # Amélioration de l'efficacité énergétique des avions via les opérations\n",
    "\n",
    "# ## Valeurs pour régler la fonction sigmoïde\n",
    "# process.parameters.operations_final_gain = 12.0  # [%]\n",
    "# process.parameters.operations_start_year = 2020\n",
    "# process.parameters.operations_duration = 20.0"
   ]
  },
  {
   "cell_type": "code",
   "execution_count": 7,
   "metadata": {
    "slideshow": {
     "slide_type": "subslide"
    }
   },
   "outputs": [],
   "source": [
    "# # Introduction de carburants drop-in alternatifs\n",
    "\n",
    "# ## Part des carburants dans le mix des carburants drop-in (le reste étant complété par du kérosène) [%]\n",
    "# process.parameters.biofuel_share_2030 = 6 # 5-0.7 # 6-2\n",
    "# process.parameters.biofuel_share_2040 = 37-13 # 32-8 # 37-13\n",
    "# process.parameters.biofuel_share_2050 = 85-50 # 63-28 # 85-50\n",
    "# process.parameters.electrofuel_share_2030 = 0 # 0.7 # 2\n",
    "# process.parameters.electrofuel_share_2040 = 13 # 8 # 13\n",
    "# process.parameters.electrofuel_share_2050 = 50 # 63-28 # 85-50_2050 = 50 # 28 # 50"
   ]
  },
  {
   "cell_type": "code",
   "execution_count": 8,
   "metadata": {
    "slideshow": {
     "slide_type": "subslide"
    }
   },
   "outputs": [],
   "source": [
    "# # Effets non-CO2\n",
    "\n",
    "# ## Évolution du facteur d'émission pour les NOx (une valeur positive signifie une augmentation du facteur d'émission) [%]\n",
    "# process.parameters.emission_index_nox_dropin_fuel_evolution = 0.0\n",
    "# process.parameters.emission_index_nox_hydrogen_evolution = 0.0"
   ]
  },
  {
   "cell_type": "markdown",
   "metadata": {
    "slideshow": {
     "slide_type": "slide"
    }
   },
   "source": [
    "## Set up variables for environment"
   ]
  },
  {
   "cell_type": "code",
   "execution_count": 9,
   "metadata": {
    "slideshow": {
     "slide_type": "subslide"
    }
   },
   "outputs": [],
   "source": [
    "# # Limites environnementales\n",
    "\n",
    "# ## Budgets carbone [GtCO2]\n",
    "# process.parameters.net_carbon_budget = 850.0\n",
    "# process.parameters.carbon_dioxyde_removal_2100 = 280.0\n",
    "\n",
    "# ## Ressources énergétiques disponibles en 2050 [EJ]\n",
    "# process.parameters.waste_biomass = 12\n",
    "# process.parameters.crops_biomass = 63\n",
    "# process.parameters.forest_residues_biomass = 17\n",
    "# process.parameters.agricultural_residues_biomass = 57\n",
    "# process.parameters.algae_biomass = 15\n",
    "# process.parameters.available_electricity = 250.0"
   ]
  },
  {
   "cell_type": "code",
   "execution_count": 10,
   "metadata": {
    "slideshow": {
     "slide_type": "subslide"
    }
   },
   "outputs": [],
   "source": [
    "# # Règles d'allocation\n",
    "\n",
    "# ## Part allouée à l'aviation du budget carbone (équivalent) [%]\n",
    "# process.parameters.aviation_carbon_budget_allocated_share = 2.6\n",
    "# process.parameters.aviation_equivalentcarbonbudget_allocated_share = 5.1\n",
    "\n",
    "# ## Part allouée à l'aviation des ressources énergétiques (biomasse et électricité) [%]\n",
    "# process.parameters.aviation_biomass_allocated_share = 16\n",
    "# process.parameters.aviation_electricity_allocated_share = 16"
   ]
  },
  {
   "cell_type": "code",
   "execution_count": 11,
   "metadata": {
    "slideshow": {
     "slide_type": "subslide"
    }
   },
   "outputs": [],
   "source": [
    "# # Réglages environnementaux divers\n",
    "\n",
    "# ## Part des méthodes de production des biocarburants par décennie (le reste étant complété par des proécédés AtJ) [%]\n",
    "# ## Pour le HEFA=> 100% jusque 2030 puis vol ~constant \n",
    "# process.parameters.biofuel_hefa_fog_share_2020 = 0.7 # Initial\n",
    "# process.parameters.biofuel_hefa_fog_share_2030 = 0.7\n",
    "# process.parameters.biofuel_hefa_fog_share_2040 = 0.7\n",
    "# process.parameters.biofuel_hefa_fog_share_2050 = 0.7\n",
    "# process.parameters.biofuel_hefa_others_share_2020 = 3.8 # Initial\n",
    "# process.parameters.biofuel_hefa_others_share_2030 = 3.8\n",
    "# process.parameters.biofuel_hefa_others_share_2040 = 3.8\n",
    "# process.parameters.biofuel_hefa_others_share_2050 = 3.8\n",
    "# process.parameters.biofuel_ft_others_share_2020 = 76.3\n",
    "# process.parameters.biofuel_ft_others_share_2030 = 76.3\n",
    "# process.parameters.biofuel_ft_others_share_2040 = 76.3\n",
    "# process.parameters.biofuel_ft_others_share_2050 = 76.3\n",
    "# process.parameters.biofuel_ft_msw_share_2020 = 7.4\n",
    "# process.parameters.biofuel_ft_msw_share_2030 = 7.4\n",
    "# process.parameters.biofuel_ft_msw_share_2040 = 7.4\n",
    "# process.parameters.biofuel_ft_msw_share_2050 = 7.4\n",
    "\n",
    "# ## Facteurs d'émission pour l'électricité par décennie (valeur en 2019 : 429 gCO2/kWh)\n",
    "# process.parameters.electricity_emission_factor_2030 = 160\n",
    "# process.parameters.electricity_emission_factor_2040 = 60\n",
    "# process.parameters.electricity_emission_factor_2050 = 20\n",
    "\n",
    "\n",
    "# ##increase electrolysis efficiency and adjust liquefaction efficiency to have 0.57 global efficiency in 2020 and 0.6 in 2050 (to discuss)\n",
    "\n",
    "# process.parameters.electrolysis_efficiency_2020 = 0.569\n",
    "# process.parameters.electrolysis_efficiency_2020 = 0.6\n",
    "\n",
    "\n",
    "# process.parameters.liquefaction_efficiency_2020 = 1\n",
    "# process.parameters.liquefaction_efficiency_2050 = 1\n",
    "\n",
    "\n",
    "\n",
    "# # electrofuel efficiency\n",
    "# # Hack yo ensure global ptl efficiency = 0.41, given electrolysis efficiency\n",
    "\n",
    "# process.parameters.electrofuel_hydrogen_efficiency_2020 = 0.41/process.parameters.electrolysis_efficiency_2020\n",
    "# process.parameters.electrofuel_hydrogen_efficiency_2050 = 0.41/process.parameters.electrolysis_efficiency_2050\n",
    "\n",
    "\n",
    "# ## Part des méthodes de production de l'hydrogène par décennie (le reste étant complété par de la production via du charbon) [%]\n",
    "# ## Répartition en 2019 : Gaz sans CCS (71%), Charbon sans CCS (27%), Electrolyse (2%), Autres avec CCS (0%)\n",
    "# process.parameters.hydrogen_electrolysis_share_2030: float = 100\n",
    "# process.parameters.hydrogen_electrolysis_share_2040: float = 100\n",
    "# process.parameters.hydrogen_electrolysis_share_2050: float = 100\n",
    "# process.parameters.hydrogen_gas_ccs_share_2030: float = 0\n",
    "# process.parameters.hydrogen_gas_ccs_share_2040: float = 0\n",
    "# process.parameters.hydrogen_gas_ccs_share_2050: float = 0\n",
    "# process.parameters.hydrogen_coal_ccs_share_2030: float = 0\n",
    "# process.parameters.hydrogen_coal_ccs_share_2040: float = 0\n",
    "# process.parameters.hydrogen_coal_ccs_share_2050: float = 0\n",
    "# process.parameters.hydrogen_gas_share_2030: float = 0\n",
    "# process.parameters.hydrogen_gas_share_2040: float = 0\n",
    "# process.parameters.hydrogen_gas_share_2050: float = 0"
   ]
  },
  {
   "cell_type": "markdown",
   "metadata": {},
   "source": [
    "## Set up cost variables"
   ]
  },
  {
   "cell_type": "code",
   "execution_count": 12,
   "metadata": {
    "tags": []
   },
   "outputs": [],
   "source": [
    "# electrolyser_capex_2020: float = 0.0,\n",
    "# electrolyser_capex_2030: float = 0.0,\n",
    "# electrolyser_capex_2040: float = 0.0,\n",
    "# electrolyser_capex_2050: float = 0.0,\n",
    "\n",
    "# # Electrolysis Opex (€ / (kg/day) /year and €/kg\n",
    "\n",
    "# electrolyser_fixed_opex_2020: float = 0.0,\n",
    "# electrolyser_fixed_opex_2030: float = 0.0,\n",
    "# electrolyser_fixed_opex_2040: float = 0.0,\n",
    "# electrolyser_fixed_opex_2050: float = 0.0,\n",
    "# electrolyser_var_opex_2020: float = 0.0,\n",
    "# electrolyser_var_opex_2030: float = 0.0,\n",
    "# electrolyser_var_opex_2040: float = 0.0,\n",
    "# electrolyser_var_opex_2050: float = 0.0,\n",
    "\n",
    "# # Electrolysis Specific Electricity (kWh/kg)\n",
    "# electrolyser_specific_electricity_2020: float = 0.0,\n",
    "# electrolyser_specific_electricity_2030: float = 0.0,\n",
    "# electrolyser_specific_electricity_2040: float = 0.0,\n",
    "# electrolyser_specific_electricity_2050: float = 0.0,\n",
    "\n",
    "# #Liquefier Capex (€/ (kg/day))\n",
    "# liquefier_capex_2020: float = 0.0,\n",
    "# liquefier_capex_2030: float = 0.0,\n",
    "# liquefier_capex_2040: float = 0.0,\n",
    "# liquefier_capex_2050: float = 0.0,\n",
    "\n",
    "# # Liquefier sp. electricity (kWh/kg)\n",
    "# liquefier_specific_electricity_2020: float = 0.0,\n",
    "# liquefier_specific_electricity_2030: float = 0.0,\n",
    "# liquefier_specific_electricity_2040: float = 0.0,\n",
    "# liquefier_specific_electricity_2050: float = 0.0,\n",
    "\n",
    "# # Electrofuel plant capex € / (kg/day)\n",
    "# electrofuel_capex_2020: float = 0.0,\n",
    "# electrofuel_capex_2030: float = 0.0,\n",
    "# electrofuel_capex_2040: float = 0.0,\n",
    "# electrofuel_capex_2050: float = 0.0,\n",
    "\n",
    "# # Electrofuel plant Opex (€ / (kg/day) /year\n",
    "# electrofuel_fixed_opex_2020: float = 0.0,\n",
    "# electrofuel_fixed_opex_2030: float = 0.0,\n",
    "# electrofuel_fixed_opex_2040: float = 0.0,\n",
    "# electrofuel_fixed_opex_2050: float = 0.0,\n",
    "\n",
    "# # €/kg\n",
    "# electrofuel_var_opex_2020: float = 0.0,\n",
    "# # electrofuel_var_opex_2030: float = 0.0,\n",
    "# # electrofuel_var_opex_2040: float = 0.0,\n",
    "# # electrofuel_var_opex_2050: float = 0.0,\n",
    "\n",
    "# # # Electrofuel plant specific electricity (kWh/kg)\n",
    "\n",
    "# # electrofuel_specific_electricity_2020: float = 0.0,\n",
    "# # electrofuel_specific_electricity_2030: float = 0.0,\n",
    "# # electrofuel_specific_electricity_2040: float = 0.0,\n",
    "# # electrofuel_specific_electricity_2050: float = 0.0,\n",
    "\n",
    "# # # Electrofuel plant specific co2 (kg/kg)\n",
    "# # electrofuel_specific_co2_2020: float = 0.0,\n",
    "# # electrofuel_specific_co2_2030: float = 0.0,\n",
    "# # electrofuel_specific_co2_2040: float = 0.0,\n",
    "# # electrofuel_specific_co2_2050: float = 0.0,\n",
    "\n",
    "# # #Electricity market price (€/kWh)\n",
    "\n",
    "# process.parameters.electricity_cost_2020: float = 0.08,\n",
    "# process.parameters.electricity_cost_2030: float = 0.08,\n",
    "# process.parameters.electricity_cost_2040: float = 0.10,\n",
    "# process.parameters.electricity_cost_2050: float = 0.12,\n",
    "\n",
    "\n",
    "# # Kerosene cost\n",
    "\n",
    "# process.parameters.kerosene_price_2020: float = 0.41,\n",
    "# process.parameters.kerosene_price_2030: float = 0.51,\n",
    "# process.parameters.kerosene_price_2040: float = 0.61,\n",
    "# process.parameters.kerosene_price_2050: float = 0.51,\n",
    "\n",
    "# # #CO2 DAC market price (€/kg)\n",
    "\n",
    "# # co2_cost_2020: float = 0.0,\n",
    "# # co2_cost_2030: float = 0.0,\n",
    "# # co2_cost_2040: float = 0.0,\n",
    "# # co2_cost_2050: float = 0.0,\n",
    "\n",
    "\n",
    "# # ### Biofuel\n",
    "\n",
    "# # biofuel_hefa_fog_mfsp_2020: float = np.nan,\n",
    "# # biofuel_hefa_fog_mfsp_2050: float = np.nan,\n",
    "# # biofuel_hefa_others_mfsp_2020: float = np.nan,\n",
    "# # biofuel_hefa_others_mfsp_2050: float = np.nan,\n",
    "# # biofuel_ft_others_mfsp_2020: float = np.nan,\n",
    "# # biofuel_ft_others_mfsp_2050: float = np.nan,\n",
    "# # biofuel_ft_msw_mfsp_2020: float = np.nan,\n",
    "# # biofuel_ft_msw_mfsp_2050: float = np.nan,\n",
    "# # biofuel_atj_mfsp_2020: float = np.nan,\n",
    "# # biofuel_atj_mfsp_2050: float = np.nan,\n",
    "# # kerosene_price_2020: float = np.nan,\n",
    "# # kerosene_price_2050: float = np.nan,\n",
    "\n",
    "\n",
    "# # biofuel_hefa_fog_capex_2020: float = 0.0,\n",
    "# # biofuel_hefa_fog_capex_2050: float = 0.0,\n",
    "# # biofuel_hefa_others_capex_2020: float = 0.0,\n",
    "# # biofuel_hefa_others_capex_2050: float = 0.0,\n",
    "# # biofuel_ft_others_capex_2020: float = 0.0,\n",
    "# # biofuel_ft_others_capex_2050: float = 0.0,\n",
    "# # biofuel_ft_msw_capex_2020: float = 0.0,\n",
    "# # biofuel_ft_msw_capex_2050: float = 0.0,\n",
    "# # biofuel_atj_capex_2020: float = 0.0,\n",
    "# # biofuel_atj_capex_2050: float = 0.0,\n",
    "\n",
    "\n"
   ]
  },
  {
   "cell_type": "markdown",
   "metadata": {
    "slideshow": {
     "slide_type": "slide"
    }
   },
   "source": [
    "## Compute"
   ]
  },
  {
   "cell_type": "code",
   "execution_count": 13,
   "metadata": {
    "slideshow": {
     "slide_type": "subslide"
    }
   },
   "outputs": [
    {
     "name": "stdout",
     "output_type": "stream",
     "text": [
      "\n"
     ]
    }
   ],
   "source": [
    "process.compute()"
   ]
  },
  {
   "cell_type": "code",
   "execution_count": 14,
   "metadata": {},
   "outputs": [],
   "source": [
    "# process.df.energy_consumption_kerosene\n"
   ]
  },
  {
   "cell_type": "code",
   "execution_count": null,
   "metadata": {},
   "outputs": [],
   "source": [
    "\n"
   ]
  },
  {
   "cell_type": "code",
   "execution_count": null,
   "metadata": {},
   "outputs": [],
   "source": [
    "process.df.total_erf"
   ]
  },
  {
   "cell_type": "markdown",
   "metadata": {
    "slideshow": {
     "slide_type": "slide"
    }
   },
   "source": [
    "## Results"
   ]
  },
  {
   "cell_type": "code",
   "execution_count": 16,
   "metadata": {
    "slideshow": {
     "slide_type": "subslide"
    }
   },
   "outputs": [
    {
     "ename": "AttributeError",
     "evalue": "'AeromapsProcess' object has no attribute 'plot_co2_emissions'",
     "output_type": "error",
     "traceback": [
      "\u001B[1;31m---------------------------------------------------------------------------\u001B[0m",
      "\u001B[1;31mAttributeError\u001B[0m                            Traceback (most recent call last)",
      "Cell \u001B[1;32mIn[16], line 1\u001B[0m\n\u001B[1;32m----> 1\u001B[0m \u001B[43mprocess\u001B[49m\u001B[38;5;241;43m.\u001B[39;49m\u001B[43mplot_co2_emissions\u001B[49m()\n",
      "\u001B[1;31mAttributeError\u001B[0m: 'AeromapsProcess' object has no attribute 'plot_co2_emissions'"
     ]
    }
   ],
   "source": [
    "process.plot_co2_emissions()"
   ]
  },
  {
   "cell_type": "code",
   "execution_count": null,
   "metadata": {
    "slideshow": {
     "slide_type": "subslide"
    }
   },
   "outputs": [],
   "source": [
    "process.plot_erf_evolution()"
   ]
  },
  {
   "cell_type": "code",
   "execution_count": null,
   "metadata": {
    "slideshow": {
     "slide_type": "subslide"
    }
   },
   "outputs": [],
   "source": [
    "process.plot_radar_plot()\n",
    "#.write_image(\"test.pdf\")\n",
    "# process.plot_carbon_budget()\n",
    "# # process.plot_equivalent_carbon_budget()  \n",
    "# process.plot_biomass_budget()\n",
    "# process.plot_electricity_budget()\n",
    "# # process.plot_carbon_budget()"
   ]
  },
  {
   "cell_type": "code",
   "execution_count": null,
   "metadata": {},
   "outputs": [],
   "source": [
    "process.plot_electricity_budget()"
   ]
  },
  {
   "cell_type": "code",
   "execution_count": null,
   "metadata": {
    "slideshow": {
     "slide_type": "subslide"
    }
   },
   "outputs": [],
   "source": [
    "process.plot_energy_capital()"
   ]
  },
  {
   "cell_type": "code",
   "execution_count": null,
   "metadata": {},
   "outputs": [],
   "source": [
    "process.plot_energy_expenses()"
   ]
  },
  {
   "cell_type": "code",
   "execution_count": null,
   "metadata": {},
   "outputs": [],
   "source": [
    "process.plot_energy_mfsp()"
   ]
  },
  {
   "cell_type": "code",
   "execution_count": null,
   "metadata": {},
   "outputs": [],
   "source": [
    "\n",
    "process.parameters.social_discount_rate: float = 0.0\n",
    "process.compute()\n",
    "zero_discount =  process.df.discounted_energy_expenses\n",
    "zero_discount.sum()\n",
    "\n"
   ]
  },
  {
   "cell_type": "code",
   "execution_count": null,
   "metadata": {},
   "outputs": [],
   "source": [
    "process.parameters.social_discount_rate: float = 0.03\n",
    "process.compute()\n",
    "three_discount =  process.df.discounted_energy_expenses\n",
    "three_discount.sum()\n",
    "\n"
   ]
  },
  {
   "cell_type": "code",
   "execution_count": null,
   "metadata": {},
   "outputs": [],
   "source": [
    "process.parameters.social_discount_rate: float = 0.05\n",
    "process.compute()\n",
    "five_discount =  process.df.discounted_energy_expenses\n",
    "five_discount.sum()"
   ]
  },
  {
   "cell_type": "code",
   "execution_count": 17,
   "metadata": {},
   "outputs": [
    {
     "ename": "NameError",
     "evalue": "name 'zero_discount' is not defined",
     "output_type": "error",
     "traceback": [
      "\u001B[1;31m---------------------------------------------------------------------------\u001B[0m",
      "\u001B[1;31mNameError\u001B[0m                                 Traceback (most recent call last)",
      "Cell \u001B[1;32mIn[17], line 4\u001B[0m\n\u001B[0;32m      1\u001B[0m \u001B[38;5;28;01mimport\u001B[39;00m \u001B[38;5;21;01mmatplotlib\u001B[39;00m\u001B[38;5;21;01m.\u001B[39;00m\u001B[38;5;21;01mpyplot\u001B[39;00m \u001B[38;5;28;01mas\u001B[39;00m \u001B[38;5;21;01mplt\u001B[39;00m\n\u001B[0;32m      2\u001B[0m fig, ax \u001B[38;5;241m=\u001B[39m plt\u001B[38;5;241m.\u001B[39msubplots()\n\u001B[1;32m----> 4\u001B[0m ax\u001B[38;5;241m.\u001B[39mplot(\u001B[43mzero_discount\u001B[49m,\n\u001B[0;32m      5\u001B[0m         color\u001B[38;5;241m=\u001B[39m\u001B[38;5;124m\"\u001B[39m\u001B[38;5;124m#2A3438\u001B[39m\u001B[38;5;124m\"\u001B[39m,\n\u001B[0;32m      6\u001B[0m             linestyle\u001B[38;5;241m=\u001B[39m\u001B[38;5;124m\"\u001B[39m\u001B[38;5;124m-\u001B[39m\u001B[38;5;124m\"\u001B[39m,\n\u001B[0;32m      7\u001B[0m             label\u001B[38;5;241m=\u001B[39m\u001B[38;5;124m\"\u001B[39m\u001B[38;5;124mNon-discounted expenses\u001B[39m\u001B[38;5;124m\"\u001B[39m,\n\u001B[0;32m      8\u001B[0m             linewidth\u001B[38;5;241m=\u001B[39m\u001B[38;5;241m2\u001B[39m,)\n\u001B[0;32m     10\u001B[0m ax\u001B[38;5;241m.\u001B[39mplot(three_discount,\n\u001B[0;32m     11\u001B[0m         color\u001B[38;5;241m=\u001B[39m\u001B[38;5;124m\"\u001B[39m\u001B[38;5;124m#0c9e30\u001B[39m\u001B[38;5;124m\"\u001B[39m,\n\u001B[0;32m     12\u001B[0m             linestyle\u001B[38;5;241m=\u001B[39m\u001B[38;5;124m\"\u001B[39m\u001B[38;5;124m-\u001B[39m\u001B[38;5;124m\"\u001B[39m,\n\u001B[0;32m     13\u001B[0m             label\u001B[38;5;241m=\u001B[39m\u001B[38;5;124m\"\u001B[39m\u001B[38;5;124m3\u001B[39m\u001B[38;5;124m%\u001B[39m\u001B[38;5;124m SE Discount\u001B[39m\u001B[38;5;124m\"\u001B[39m,\n\u001B[0;32m     14\u001B[0m             linewidth\u001B[38;5;241m=\u001B[39m\u001B[38;5;241m2\u001B[39m,)\n\u001B[0;32m     16\u001B[0m ax\u001B[38;5;241m.\u001B[39mplot(five_discount,\n\u001B[0;32m     17\u001B[0m         color\u001B[38;5;241m=\u001B[39m\u001B[38;5;124m\"\u001B[39m\u001B[38;5;124m#0075A3\u001B[39m\u001B[38;5;124m\"\u001B[39m,\n\u001B[0;32m     18\u001B[0m             linestyle\u001B[38;5;241m=\u001B[39m\u001B[38;5;124m\"\u001B[39m\u001B[38;5;124m-\u001B[39m\u001B[38;5;124m\"\u001B[39m,\n\u001B[0;32m     19\u001B[0m             label\u001B[38;5;241m=\u001B[39m\u001B[38;5;124m\"\u001B[39m\u001B[38;5;124m5\u001B[39m\u001B[38;5;124m%\u001B[39m\u001B[38;5;124m SE Discount\u001B[39m\u001B[38;5;124m\"\u001B[39m,\n\u001B[0;32m     20\u001B[0m             linewidth\u001B[38;5;241m=\u001B[39m\u001B[38;5;241m2\u001B[39m,)\n",
      "\u001B[1;31mNameError\u001B[0m: name 'zero_discount' is not defined"
     ]
    },
    {
     "data": {
      "application/vnd.jupyter.widget-view+json": {
       "model_id": "b3f5dd248a1542fdb6086c748880b56c",
       "version_major": 2,
       "version_minor": 0
      },
      "image/png": "[encoded data removed]",
      "text/html": [
       "\n",
       "            <div style=\"display: inline-block;\">\n",
       "                <div class=\"jupyter-widgets widget-label\" style=\"text-align: center;\">\n",
       "                    Figure\n",
       "                </div>\n",
       "                <img src='data:image/png;base64,iVBORw0KGgoAAAANSUhEUgAAAoAAAAHgCAYAAAA10dzkAAAAOXRFWHRTb2Z0d2FyZQBNYXRwbG90bGliIHZlcnNpb24zLjYuMywgaHR0cHM6Ly9tYXRwbG90bGliLm9yZy/P9b71AAAACXBIWXMAAA9hAAAPYQGoP6dpAAAevklEQVR4nO3df2zfdZ3A8Vfb0W8h0jJvrvtxX9yBh6jAhhurBRfCpWcTyLz9cbEHZpsLgugk3JpTNn6sIrpOBLJEigsTDpOT25QAZ1xTDnsuBqlZ3NYEZYPgwO2MLdvp2jm0Ze3n/rjw9eo6XEf3/Y7v+/FIvn/0zeez7+vLm/J95vP9sYosy7IAACAZlaUeAACA4hKAAACJEYAAAIkRgAAAiRGAAACJEYAAAIkRgAAAiRGAAACJEYAAAIkRgAAAiRGAAACJEYAAAIkRgAAAiRGAAACJEYAAAIkRgAAAiRGAAACJEYAAAIkRgAAAiRGAAACJEYAAAIkRgAAAiRGAAACJEYAAAIkRgAAAiRGAAACJEYAAAIkRgAAAiRGAAACJEYAAAIkRgAAAiRGAAACJEYAAAIkRgAAAiRGAAACJEYAAAIkRgAAAiRGAAACJEYAAAIkRgAAAiRGAAACJEYAAAIkRgAAAiRGAAACJEYAAAIkRgAAAiRGAAACJEYAAAIkRgAAAiRGAAACJEYAAAIkRgAAAiSmbAPzxj38cixcvjlmzZkVFRUU89dRTf/Gcbdu2xYc//OHI5XLxvve9Lx599NFTPicAQKmVTQAeOXIk5s6dGx0dHSd0/CuvvBLXXHNNXHXVVdHb2xv//M//HJ/+9Kfj6aefPsWTAgCUVkWWZVmph5hsFRUV8eSTT8aSJUuOe8ytt94aW7dujZ///OeFtX/6p3+KQ4cORVdXVxGmBAAojbK5AjhRPT090dTUNGatubk5enp6SjQRAEBxTCn1AKXS19cX9fX1Y9bq6+tjcHAw/vCHP8SZZ555zDlDQ0MxNDRU+Hl0dDR++9vfxl/91V9FRUXFKZ8ZAHj7siyLw4cPx6xZs6KyMs1rYckG4Mlob2+Pu+66q9RjAACTYP/+/fHXf/3XpR6jJJINwBkzZkR/f/+Ytf7+/qitrR336l9ExJo1a6K1tbXw88DAQJx77rmxf//+qK2tPaXzAgCTY3BwMPL5fJx99tmlHqVkkg3AxsbG6OzsHLP2zDPPRGNj43HPyeVykcvljlmvra0VgADwDpPy27fK5oXv3//+99Hb2xu9vb0R8X9f89Lb2xv79u2LiP+7erds2bLC8TfddFPs3bs3vvjFL8aePXviwQcfjO9+97uxatWqUowPAFA0ZROAP/vZz+LSSy+NSy+9NCIiWltb49JLL421a9dGRMRvfvObQgxGRPzN3/xNbN26NZ555pmYO3du3HffffGtb30rmpubSzI/AECxlOX3ABbL4OBg1NXVxcDAgJeAAeAdwvN3GV0BBADgxAhAAIDECEAAgMQIQACAxAhAAIDECEAAgMQIQACAxAhAAIDECEAAgMQIQACAxAhAAIDECEAAgMQIQACAxAhAAIDECEAAgMQIQACAxAhAAIDECEAAgMQIQACAxAhAAIDECEAAgMQIQACAxAhAAIDECEAAgMQIQACAxAhAAIDECEAAgMQIQACAxAhAAIDECEAAgMQIQACAxAhAAIDECEAAgMQIQACAxAhAAIDECEAAgMQIQACAxAhAAIDECEAAgMQIQACAxAhAAIDECEAAgMQIQACAxAhAAIDECEAAgMQIQACAxAhAAIDECEAAgMQIQACAxAhAAIDECEAAgMQIQACAxAhAAIDECEAAgMQIQACAxAhAAIDECEAAgMQIQACAxAhAAIDECEAAgMQIQACAxAhAAIDECEAAgMSUVQB2dHTEnDlzoqamJhoaGmL79u1vefyGDRvi/e9/f5x55pmRz+dj1apV8cc//rFI0wIAlEbZBOCWLVuitbU12traYufOnTF37txobm6O1157bdzjH3vssVi9enW0tbXF7t274+GHH44tW7bEbbfdVuTJAQCKq2wC8P77748bbrghVqxYER/84Adj48aNcdZZZ8Ujjzwy7vHPPfdcXHHFFXHdddfFnDlz4mMf+1hce+21f/GqIQDAO11ZBODw8HDs2LEjmpqaCmuVlZXR1NQUPT09455z+eWXx44dOwrBt3fv3ujs7Iyrr766KDMDAJTKlFIPMBkOHjwYIyMjUV9fP2a9vr4+9uzZM+451113XRw8eDA++tGPRpZlcfTo0bjpppve8iXgoaGhGBoaKvw8ODg4OQ8AAKCIyuIK4MnYtm1brFu3Lh588MHYuXNnPPHEE7F169a4++67j3tOe3t71NXVFW75fL6IEwMATI6KLMuyUg/xdg0PD8dZZ50Vjz/+eCxZsqSwvnz58jh06FD8x3/8xzHnLFq0KD7ykY/E17/+9cLav/3bv8WNN94Yv//976Oy8tg2Hu8KYD6fj4GBgaitrZ3cBwUAnBKDg4NRV1eX9PN3WVwBrK6ujvnz50d3d3dhbXR0NLq7u6OxsXHcc15//fVjIq+qqioiIo7XxLlcLmpra8fcAADeacriPYAREa2trbF8+fJYsGBBLFy4MDZs2BBHjhyJFStWRETEsmXLYvbs2dHe3h4REYsXL477778/Lr300mhoaIiXX3457rzzzli8eHEhBAEAylHZBGBLS0scOHAg1q5dG319fTFv3rzo6uoqfDBk3759Y6743XHHHVFRURF33HFH/PrXv473vOc9sXjx4vjqV79aqocAAFAUZfEewFLxHgIAeOfx/F0m7wEEAODECUAAgMQIQACAxAhAAIDECEAAgMQIQACAxAhAAIDECEAAgMQIQACAxAhAAIDECEAAgMQIQACAxAhAAIDECEAAgMQIQACAxAhAAIDECEAAgMQIQACAxAhAAIDECEAAgMQIQACAxAhAAIDECEAAgMQIQACAxAhAAIDECEAAgMQIQACAxAhAAIDECEAAgMQIQACAxAhAAIDECEAAgMQIQACAxAhAAIDECEAAgMQIQACAxAhAAIDECEAAgMQIQACAxAhAAIDECEAAgMQIQACAxAhAAIDECEAAgMQIQACAxAhAAIDECEAAgMQIQACAxAhAAIDECEAAgMQIQACAxAhAAIDECEAAgMQIQACAxAhAAIDECEAAgMQIQACAxAhAAIDECEAAgMQIQACAxAhAAIDECEAAgMQIQACAxJRVAHZ0dMScOXOipqYmGhoaYvv27W95/KFDh2LlypUxc+bMyOVyccEFF0RnZ2eRpgUAKI0ppR5gsmzZsiVaW1tj48aN0dDQEBs2bIjm5uZ48cUXY/r06cccPzw8HH//938f06dPj8cffzxmz54dv/rVr+Kcc84p/vAAAEVUkWVZVuohJkNDQ0Ncdtll8cADD0RExOjoaOTz+bj55ptj9erVxxy/cePG+PrXvx579uyJM84446Tuc3BwMOrq6mJgYCBqa2vf1vwAQHF4/i6Tl4CHh4djx44d0dTUVFirrKyMpqam6OnpGfec73//+9HY2BgrV66M+vr6uOiii2LdunUxMjJy3PsZGhqKwcHBMTcAgHeasgjAgwcPxsjISNTX149Zr6+vj76+vnHP2bt3bzz++OMxMjISnZ2dceedd8Z9990XX/nKV457P+3t7VFXV1e45fP5SX0cAADFUBYBeDJGR0dj+vTp8dBDD8X8+fOjpaUlbr/99ti4ceNxz1mzZk0MDAwUbvv37y/ixAAAk6MsPgQybdq0qKqqiv7+/jHr/f39MWPGjHHPmTlzZpxxxhlRVVVVWPvABz4QfX19MTw8HNXV1ceck8vlIpfLTe7wAABFVhZXAKurq2P+/PnR3d1dWBsdHY3u7u5obGwc95wrrrgiXn755RgdHS2svfTSSzFz5sxx4w8AoFyURQBGRLS2tsamTZvi29/+duzevTs++9nPxpEjR2LFihUREbFs2bJYs2ZN4fjPfvaz8dvf/jZuueWWeOmll2Lr1q2xbt26WLlyZakeAgBAUZTFS8ARES0tLXHgwIFYu3Zt9PX1xbx586Krq6vwwZB9+/ZFZeWfejefz8fTTz8dq1atiksuuSRmz54dt9xyS9x6662leggAAEVRNt8DWAq+RwgA3nk8f5fRS8AAAJwYAQgAkBgBCACQGAEIAJAYAQgAkBgBCACQGAEIAJAYAQgAkBgBCACQGAEIAJAYAQgAkBgBCACQGAEIAJAYAQgAkBgBCACQGAEIAJAYAQgAkBgBCACQGAEIAJAYAQgAkBgBCACQGAEIAJAYAQgAkBgBCACQGAEIAJAYAQgAkBgBCACQGAEIAJAYAQgAkBgBCACQGAEIAJAYAQgAkBgBCACQGAEIAJAYAQgAkBgBCACQGAEIAJAYAQgAkBgBCACQGAEIAJAYAQgAkBgBCACQGAEIAJAYAQgAkBgBCACQGAEIAJAYAQgAkBgBCACQGAEIAJAYAQgAkBgBCACQGAEIAJAYAQgAkBgBCACQGAEIAJAYAQgAkBgBCACQGAEIAJAYAQgAkBgBCACQGAEIAJAYAQgAkBgBCACQmLIKwI6OjpgzZ07U1NREQ0NDbN++/YTO27x5c1RUVMSSJUtO7YAAAKeBsgnALVu2RGtra7S1tcXOnTtj7ty50dzcHK+99tpbnvfqq6/Gv/zLv8SiRYuKNCkAQGmVTQDef//9ccMNN8SKFSvigx/8YGzcuDHOOuuseOSRR457zsjISHzyk5+Mu+66K84777wiTgsAUDplEYDDw8OxY8eOaGpqKqxVVlZGU1NT9PT0HPe8L3/5yzF9+vS4/vrrT+h+hoaGYnBwcMwNAOCdpiwC8ODBgzEyMhL19fVj1uvr66Ovr2/cc5599tl4+OGHY9OmTSd8P+3t7VFXV1e45fP5tzU3AEAplEUATtThw4dj6dKlsWnTppg2bdoJn7dmzZoYGBgo3Pbv338KpwQAODWmlHqAyTBt2rSoqqqK/v7+Mev9/f0xY8aMY47/5S9/Ga+++mosXry4sDY6OhoREVOmTIkXX3wxzj///GPOy+VykcvlJnl6AIDiKosrgNXV1TF//vzo7u4urI2OjkZ3d3c0NjYec/yFF14Yzz//fPT29hZuH//4x+Oqq66K3t5eL+0CAGWtLK4ARkS0trbG8uXLY8GCBbFw4cLYsGFDHDlyJFasWBEREcuWLYvZs2dHe3t71NTUxEUXXTTm/HPOOSci4ph1AIByUzYB2NLSEgcOHIi1a9dGX19fzJs3L7q6ugofDNm3b19UVpbFBU8AgLelIsuyrNRDvFMNDg5GXV1dDAwMRG1tbanHAQBOgOfvMnkPIAAAJ04AAgAkRgACACRGAAIAJEYAAgAkRgACACRGAAIAJEYAAgAkRgACACRGAAIAJEYAAgAkRgACACRGAAIAJEYAAgAkRgACACRGAAIAJEYAAgAkRgACACRGAAIAJEYAAgAkRgACACRGAAIAJEYAAgAkRgACACRGAAIAJEYAAgAkRgACACRGAAIAJEYAAgAkRgACACRGAAIAJEYAAgAkRgACACRGAAIAJEYAAgAkRgACACRGAAIAJEYAAgAkRgACACRGAAIAJEYAAgAkRgACACRGAAIAJEYAAgAkRgACACRGAAIAJEYAAgAkRgACACRGAAIAJEYAAgAkRgACACRGAAIAJEYAAgAkRgACACRGAAIAJEYAAgAkRgACACRGAAIAJEYAAgAkRgACACRGAAIAJEYAAgAkRgACACSmrAKwo6Mj5syZEzU1NdHQ0BDbt28/7rGbNm2KRYsWxdSpU2Pq1KnR1NT0lscDAJSLsgnALVu2RGtra7S1tcXOnTtj7ty50dzcHK+99tq4x2/bti2uvfba+NGPfhQ9PT2Rz+fjYx/7WPz6178u8uQAAMVVkWVZVuohJkNDQ0Ncdtll8cADD0RExOjoaOTz+bj55ptj9erVf/H8kZGRmDp1ajzwwAOxbNmyE7rPwcHBqKuri4GBgaitrX1b8wMAxeH5u0yuAA4PD8eOHTuiqampsFZZWRlNTU3R09NzQn/G66+/Hm+88Ua8+93vPu4xQ0NDMTg4OOYGAPBOUxYBePDgwRgZGYn6+vox6/X19dHX13dCf8att94as2bNGhORf669vT3q6uoKt3w+/7bmBgAohbIIwLdr/fr1sXnz5njyySejpqbmuMetWbMmBgYGCrf9+/cXcUoAgMkxpdQDTIZp06ZFVVVV9Pf3j1nv7++PGTNmvOW59957b6xfvz5++MMfxiWXXPKWx+Zyucjlcm97XgCAUiqLK4DV1dUxf/786O7uLqyNjo5Gd3d3NDY2Hve8e+65J+6+++7o6uqKBQsWFGNUAICSK4srgBERra2tsXz58liwYEEsXLgwNmzYEEeOHIkVK1ZERMSyZcti9uzZ0d7eHhERX/va12Lt2rXx2GOPxZw5cwrvFXzXu94V73rXu0r2OAAATrWyCcCWlpY4cOBArF27Nvr6+mLevHnR1dVV+GDIvn37orLyTxc8v/nNb8bw8HD84z/+45g/p62tLb70pS8Vc3QAgKIqm+8BLAXfIwQA7zyev8vkPYAAAJw4AQgAkBgBCACQGAEIAJAYAQgAkBgBCACQGAEIAJAYAQgAkBgBCACQGAEIAJAYAQgAkBgBCACQGAEIAJAYAQgAkBgBCACQGAEIAJAYAQgAkBgBCACQGAEIAJAYAQgAkBgBCACQGAEIAJAYAQgAkBgBCACQGAEIAJAYAQgAkBgBCACQGAEIAJAYAQgAkBgBCACQGAEIAJAYAQgAkBgBCACQGAEIAJAYAQgAkBgBCACQGAEIAJAYAQgAkBgBCACQGAEIAJAYAQgAkBgBCACQGAEIAJAYAQgAkBgBCACQGAEIAJAYAQgAkBgBCACQGAEIAJAYAQgAkBgBCACQGAEIAJAYAQgAkBgBCACQGAEIAJAYAQgAkBgBCACQGAEIAJAYAQgAkBgBCACQGAEIAJAYAQgAkBgBCACQmLIKwI6OjpgzZ07U1NREQ0NDbN++/S2P/973vhcXXnhh1NTUxMUXXxydnZ1FmhQAoHTKJgC3bNkSra2t0dbWFjt37oy5c+dGc3NzvPbaa+Me/9xzz8W1114b119/fezatSuWLFkSS5YsiZ///OdFnhwAoLgqsizLSj3EZGhoaIjLLrssHnjggYiIGB0djXw+HzfffHOsXr36mONbWlriyJEj8YMf/KCw9pGPfCTmzZsXGzduPKH7HBwcjLq6uhgYGIja2trJeSAAwCnl+TtiSqkHmAzDw8OxY8eOWLNmTWGtsrIympqaoqenZ9xzenp6orW1dcxac3NzPPXUU8e9n6GhoRgaGir8PDAwEBH/9x8SAPDO8ObzdplcAzspZRGABw8ejJGRkaivrx+zXl9fH3v27Bn3nL6+vnGP7+vrO+79tLe3x1133XXMej6fP4mpAYBS+p//+Z+oq6sr9RglURYBWCxr1qwZc9Xw0KFD8d73vjf27duX7H9Ap4vBwcHI5/Oxf//+ZC/nny7sxenFfpw+7MXpY2BgIM4999x497vfXepRSqYsAnDatGlRVVUV/f39Y9b7+/tjxowZ454zY8aMCR0fEZHL5SKXyx2zXldX55f5NFFbW2svThP24vRiP04f9uL0UVlZNp+FnbCyeOTV1dUxf/786O7uLqyNjo5Gd3d3NDY2jntOY2PjmOMjIp555pnjHg8AUC7K4gpgRERra2ssX748FixYEAsXLowNGzbEkSNHYsWKFRERsWzZspg9e3a0t7dHRMQtt9wSV155Zdx3331xzTXXxObNm+NnP/tZPPTQQ6V8GAAAp1zZBGBLS0scOHAg1q5dG319fTFv3rzo6uoqfNBj3759Yy71Xn755fHYY4/FHXfcEbfddlv87d/+bTz11FNx0UUXnfB95nK5aGtrG/dlYYrLXpw+7MXpxX6cPuzF6cNelNH3AAIAcGLK4j2AAACcOAEIAJAYAQgAkBgBCACQGAH4F3R0dMScOXOipqYmGhoaYvv27W95/Pe+97248MILo6amJi6++OLo7Ows0qTlbyJ7sWnTpli0aFFMnTo1pk6dGk1NTX9x7zhxE/29eNPmzZujoqIilixZcmoHTMhE9+LQoUOxcuXKmDlzZuRyubjgggv8f2oSTXQ/NmzYEO9///vjzDPPjHw+H6tWrYo//vGPRZq2fP34xz+OxYsXx6xZs6KioiKeeuqpv3jOtm3b4sMf/nDkcrl43/veF48++ugpn7OkMo5r8+bNWXV1dfbII49kv/jFL7IbbrghO+ecc7L+/v5xj//JT36SVVVVZffcc0/2wgsvZHfccUd2xhlnZM8//3yRJy8/E92L6667Luvo6Mh27dqV7d69O/vUpz6V1dXVZf/93/9d5MnLz0T34k2vvPJKNnv27GzRokXZP/zDPxRn2DI30b0YGhrKFixYkF199dXZs88+m73yyivZtm3bst7e3iJPXp4muh/f+c53slwul33nO9/JXnnllezpp5/OZs6cma1atarIk5efzs7O7Pbbb8+eeOKJLCKyJ5988i2P37t3b3bWWWdlra2t2QsvvJB94xvfyKqqqrKurq7iDFwCAvAtLFy4MFu5cmXh55GRkWzWrFlZe3v7uMd/4hOfyK655poxaw0NDdlnPvOZUzpnCia6F3/u6NGj2dlnn519+9vfPlUjJuNk9uLo0aPZ5Zdfnn3rW9/Kli9fLgAnyUT34pvf/GZ23nnnZcPDw8UaMSkT3Y+VK1dmf/d3fzdmrbW1NbviiitO6ZypOZEA/OIXv5h96EMfGrPW0tKSNTc3n8LJSstLwMcxPDwcO3bsiKampsJaZWVlNDU1RU9Pz7jn9PT0jDk+IqK5ufm4x3NiTmYv/tzrr78eb7zxRtJ/8fdkONm9+PKXvxzTp0+P66+/vhhjJuFk9uL73/9+NDY2xsqVK6O+vj4uuuiiWLduXYyMjBRr7LJ1Mvtx+eWXx44dOwovE+/duzc6Ozvj6quvLsrM/EmKz99l8zeBTLaDBw/GyMhI4W8SeVN9fX3s2bNn3HP6+vrGPb6vr++UzZmCk9mLP3frrbfGrFmzjvkFZ2JOZi+effbZePjhh6O3t7cIE6bjZPZi79698V//9V/xyU9+Mjo7O+Pll1+Oz33uc/HGG29EW1tbMcYuWyezH9ddd10cPHgwPvrRj0aWZXH06NG46aab4rbbbivGyPw/x3v+HhwcjD/84Q9x5plnlmiyU8cVQMre+vXrY/PmzfHkk09GTU1NqcdJyuHDh2Pp0qWxadOmmDZtWqnHSd7o6GhMnz49HnrooZg/f360tLTE7bffHhs3biz1aEnatm1brFu3Lh588MHYuXNnPPHEE7F169a4++67Sz0aCXAF8DimTZsWVVVV0d/fP2a9v78/ZsyYMe45M2bMmNDxnJiT2Ys33XvvvbF+/fr44Q9/GJdccsmpHDMJE92LX/7yl/Hqq6/G4sWLC2ujo6MRETFlypR48cUX4/zzzz+1Q5epk/m9mDlzZpxxxhlRVVVVWPvABz4QfX19MTw8HNXV1ad05nJ2Mvtx5513xtKlS+PTn/50RERcfPHFceTIkbjxxhvj9ttvH/P313NqHe/5u7a2tiyv/kW4Anhc1dXVMX/+/Oju7i6sjY6ORnd3dzQ2No57TmNj45jjIyKeeeaZ4x7PiTmZvYiIuOeee+Luu++Orq6uWLBgQTFGLXsT3YsLL7wwnn/++ejt7S3cPv7xj8dVV10Vvb29kc/nizl+WTmZ34srrrgiXn755UKER0S89NJLMXPmTPH3Np3Mfrz++uvHRN6bcZ5l2akblmMk+fxd6k+hnM42b96c5XK57NFHH81eeOGF7MYbb8zOOeecrK+vL8uyLFu6dGm2evXqwvE/+clPsilTpmT33ntvtnv37qytrc3XwEySie7F+vXrs+rq6uzxxx/PfvOb3xRuhw8fLtVDKBsT3Ys/51PAk2eie7Fv377s7LPPzj7/+c9nL774YvaDH/wgmz59evaVr3ylVA+hrEx0P9ra2rKzzz47+/d///ds79692X/+539m559/fvaJT3yiVA+hbBw+fDjbtWtXtmvXriwisvvvvz/btWtX9qtf/SrLsixbvXp1tnTp0sLxb34NzBe+8IVs9+7dWUdHh6+BSd03vvGN7Nxzz82qq6uzhQsXZj/96U8L/+zKK6/Mli9fPub47373u9kFF1yQVVdXZx/60IeyrVu3Fnni8jWRvXjve9+bRcQxt7a2tuIPXoYm+nvx/wnAyTXRvXjuueeyhoaGLJfLZeedd1721a9+NTt69GiRpy5fE9mPN954I/vSl76UnX/++VlNTU2Wz+ezz33uc9nvfve74g9eZn70ox+N+xzw5r//5cuXZ1deeeUx58ybNy+rrq7OzjvvvOxf//Vfiz53MVVkmevMAAAp8R5AAIDECEAAgMQIQACAxAhAAIDECEAAgMQIQACAxAhAAIDECEAAgMQIQACAxAhAAIDECEAAgMQIQACAxAhAAIDECEAAgMQIQACAxAhAAIDECEAAgMQIQACAxAhAAIDECEAAgMQIQACAxAhAAIDECEAAgMQIQACAxAhAAIDECEAAgMQIQACAxAhAAIDECEAAgMQIQACAxAhAAIDE/C9EV9qKDRIt0wAAAABJRU5ErkJggg==' width=640.0/>\n",
       "            </div>\n",
       "        "
      ],
      "text/plain": [
       "Canvas(toolbar=Toolbar(toolitems=[('Home', 'Reset original view', 'home', 'home'), ('Back', 'Back to previous …"
      ]
     },
     "metadata": {},
     "output_type": "display_data"
    }
   ],
   "source": [
    "import matplotlib.pyplot as plt\n",
    "fig, ax = plt.subplots()\n",
    "\n",
    "ax.plot(zero_discount,\n",
    "        color=\"#2A3438\",\n",
    "            linestyle=\"-\",\n",
    "            label=\"Non-discounted expenses\",\n",
    "            linewidth=2,)\n",
    "\n",
    "ax.plot(three_discount,\n",
    "        color=\"#0c9e30\",\n",
    "            linestyle=\"-\",\n",
    "            label=\"3% SE Discount\",\n",
    "            linewidth=2,)\n",
    "\n",
    "ax.plot(five_discount,\n",
    "        color=\"#0075A3\",\n",
    "            linestyle=\"-\",\n",
    "            label=\"5% SE Discount\",\n",
    "            linewidth=2,)\n",
    "\n",
    "ax.grid(axis='y')\n",
    "ax.set_title(\"Total (energy) expenses (M€)\")\n",
    "ax.set_ylabel(\"M€ / year\")\n",
    "ax = plt.gca()\n",
    "ax.legend()\n",
    "ax.set_xlim(2020, 2050)\n",
    "# #\n",
    "fig.canvas.header_visible = False\n",
    "fig.canvas.toolbar_position = \"bottom\"\n",
    "# # fig.canvas.layout.width = \"auto\"\n",
    "# # fig.canvas.layout.height = \"auto\"\n",
    "fig.tight_layout()"
   ]
  },
  {
   "cell_type": "markdown",
   "metadata": {},
   "source": [
    "# MACC"
   ]
  },
  {
   "cell_type": "code",
   "execution_count": null,
   "metadata": {},
   "outputs": [],
   "source": [
    "process.df.biomass_atj_consumption[2028]*10**12*process.df.biofuel_atj_efficiency[2028]*(process.df.kerosene_emission_factor[2028]-process.df.biofuel_atj_emission_factor[2028])/1000000"
   ]
  },
  {
   "cell_type": "code",
   "execution_count": null,
   "metadata": {},
   "outputs": [],
   "source": [
    "# process.parameters.available_biomass_atj"
   ]
  },
  {
   "cell_type": "code",
   "execution_count": null,
   "metadata": {},
   "outputs": [],
   "source": []
  },
  {
   "cell_type": "code",
   "execution_count": null,
   "metadata": {},
   "outputs": [],
   "source": [
    "import matplotlib.pyplot as plt\n",
    "import pandas as pd\n",
    "import numpy as np\n",
    "plt.rcParams[\"figure.figsize\"] = (10,5)\n",
    "\n",
    "fig, ax = plt.subplots()\n",
    "\n",
    "year=2050\n",
    "\n",
    "\n",
    "# create a dataframe for the patways (use: sort the values by cincreasing carbon abatement cost)\n",
    "\n",
    "\n",
    "pathways=[\"Bio - HEFA FOG\",\n",
    "\"Bio - HEFA Others\",\n",
    "\"Bio - Alcohol to Jet\",\n",
    "\"Bio - FT MSW\",\n",
    "\"Bio - FT Others\",\n",
    "# \"Liquid Hydrogen\",\n",
    "\"Electrofuel\"]\n",
    "    \n",
    "abatement_potential=[elt/1000000 for elt in [process.df.abatement_potential_hefa_fog[year],\n",
    "process.df.abatement_potential_hefa_others[year],\n",
    "process.df.abatement_potential_atj[year],\n",
    "process.df.abatement_potential_ft_msw[year],\n",
    "process.df.abatement_potential_ft_others[year],\n",
    "# process.df.abatement_potential_hydrogen_electrolysis[year],\n",
    "process.df.abatement_potential_electrofuel[year]]]\n",
    "\n",
    "\n",
    "energy_avail=[elt/1000000000000 for elt in [process.df.energy_avail_hefa_fog[year],\n",
    "process.df.energy_avail_hefa_others[year],\n",
    "process.df.energy_avail_atj[year],\n",
    "process.df.energy_avail_ft_msw[year],\n",
    "process.df.energy_avail_ft_others[year],\n",
    "# process.df.energy_avail_hydrogen_electrolysis[year],\n",
    "process.df.energy_avail_electrofuel[year]]]\n",
    "\n",
    "    \n",
    "\n",
    "abatement_effective=[elt/1000000 for elt in [process.df.abatement_effective_hefa_fog[year],\n",
    "process.df.abatement_effective_hefa_others[year],\n",
    "process.df.abatement_effective_atj[year],\n",
    "process.df.abatement_effective_ft_msw[year],\n",
    "process.df.abatement_effective_ft_others[year],\n",
    "# process.df.abatement_effective_hydrogen_electrolysis[year],\n",
    "process.df.abatement_effective_electrofuel[year]]]\n",
    "\n",
    "    \n",
    "carbon_abatement_cost=[process.df.carbon_abatement_cost_hefa_fog[year],\n",
    "process.df.carbon_abatement_cost_hefa_others[year],\n",
    "process.df.carbon_abatement_cost_atj[year],\n",
    "process.df.carbon_abatement_cost_ft_msw[year],\n",
    "process.df.carbon_abatement_cost_ft_others[year],\n",
    "# process.df.carbon_abatement_cost_h2_electrolysis[year],\n",
    "process.df.electrofuel_abatement_cost[year]\n",
    "]\n",
    "\n",
    "\n",
    "macc_df=pd.DataFrame(data=[abatement_potential,energy_avail, abatement_effective, carbon_abatement_cost], columns=pathways, index=['abatement_potential', 'energy_avail', 'abatement_effective', 'carbon_abatement_cost'])\n",
    "macc_df=macc_df.transpose().sort_values(by='carbon_abatement_cost')\n",
    "\n",
    "\n",
    "heights=macc_df['carbon_abatement_cost'].to_list()\n",
    "names=macc_df.index.to_list()\n",
    "heights.insert(0,0)\n",
    "heights.append(heights[-1])\n",
    "\n",
    "# MAx potential MACC\n",
    "widths_potential= macc_df['abatement_potential'].to_list()\n",
    "widths_potential.insert(0,0)\n",
    "widths_potential.append(widths_potential[-1])\n",
    "\n",
    "ax.step(np.cumsum(widths_potential)-widths_potential, heights, 'g', where='post', color=\"#335C67\", label= \"Marginal abatement cost\" , linewidth=1.5)\n",
    "\n",
    "\n",
    "#Effective scenario MACC\n",
    "\n",
    "# widths_effective= macc_df['abatement_effective'].to_list()\n",
    "# widths_effective.insert(0,0)\n",
    "# widths_effective.append(widths_effective[-1])\n",
    "\n",
    "# ax.step(np.cumsum(widths_effective)-widths_effective, heights, 'g', where='post', color=\"#335C67\", label= \"Scenario abatement cost\" , linewidth=1.5)\n",
    "\n",
    "fuel= macc_df.energy_avail.to_list()\n",
    "fuel.insert(0,0)\n",
    "widths_potential.pop()\n",
    "ax2=ax.twinx()\n",
    "ax2.plot(np.cumsum(widths_potential), np.cumsum(fuel), color=\"#9E2A2B\", linestyle=':', label= \"Energy potential\", marker='x')\n",
    "\n",
    "# ax.set_yscale('log')\n",
    "\n",
    "ax2.axhline(y=process.df.energy_consumption_dropin_fuel[year]/1e12-process.df.energy_consumption_kerosene[year]/1e12, color='black', linewidth=1, linestyle='-.')\n",
    "ax2.text(0, 3.75e2, 'Air transport alternative drop-in fuels use, 2050')\n",
    "\n",
    "ax.grid(True, which=\"both\", ls=':')\n",
    "ax.set_ylabel('Carbon Abatement Cost (€/t$\\mathregular{CO_2}$)')\n",
    "ax2.set_ylabel('Energy potential (EJ)')\n",
    "ax.set_xlabel('$\\mathregular{CO_2}$ abatted (Mt)')\n",
    "# ax.set_xlim(-0.02,0.84)\n",
    "# ax.set_ylim(0,1000) \n",
    "# ax2.set_ylim(0,450)\n",
    "\n",
    "ax.grid(True, which=\"both\", ls=':')\n",
    "ax.set_ylabel('Carbon Abatement Cost (€/t$\\mathregular{CO_2}$)')\n",
    "\n",
    "ax.set_xlabel('$\\mathregular{CO_2}$ abatted (Mt)')\n",
    "# ax.set_xlim(-0.02,0.84)\n",
    "# ax.set_ylim(0,1000) \n",
    "# ax2.set_ylim(0,450)\n",
    "\n",
    "# print(heights, np.cumsum(widths), names)\n",
    "\n",
    "\n",
    "\n",
    "# overshoot_allocation=macc_df['abatement_effective']/macc_df['abatement_potential']*100\n",
    "\n",
    "\n",
    "ax.text(np.cumsum(widths_potential)[0]+10, heights[1]-50, names[0])\n",
    "ax.text(np.cumsum(widths_potential)[1]+10, heights[2]+18, names[1])\n",
    "ax.text(np.cumsum(widths_potential)[2]+10, heights[3]-50, names[2])\n",
    "ax.text(np.cumsum(widths_potential)[3]+10, heights[4]-50, names[3])\n",
    "ax.text(np.cumsum(widths_potential)[4]+10, heights[5]-50, names[4])\n",
    "ax.text(np.cumsum(widths_potential)[5]+10, heights[6]-50, names[5])\n",
    "# ax.text(np.cumsum(widths_potential)[6]+0.005, heights[7]+18, names[6])\n",
    "\n",
    "# # plt.ylim([1,2.8*10**3]) \n",
    "\n",
    "# # ax.get_yaxis().get_major_formatter().labelOnlyBase = False\n",
    "fig.legend(fancybox=True, shadow=True,  bbox_to_anchor=(0.38, 0.85))\n",
    "\n",
    "\n",
    "\n",
    "\n",
    "macc_df\n"
   ]
  },
  {
   "cell_type": "code",
   "execution_count": null,
   "metadata": {},
   "outputs": [],
   "source": []
  },
  {
   "cell_type": "code",
   "execution_count": null,
   "metadata": {},
   "outputs": [],
   "source": [
    "fig, ax = plt.subplots()\n",
    "\n",
    "\n",
    "macc_df['abatement_intensity']=macc_df['abatement_potential']/macc_df['energy_avail']\n",
    "macc_df=macc_df.sort_values(by='abatement_intensity', ascending=False)\n",
    "\n",
    "\n",
    "heights=macc_df['carbon_abatement_cost'].to_list()\n",
    "names=macc_df.index.to_list()\n",
    "heights.insert(0,0)\n",
    "heights.append(heights[-1])\n",
    "\n",
    "# MAx potential MACC\n",
    "widths_potential= macc_df['abatement_potential'].to_list()\n",
    "widths_potential.insert(0,0)\n",
    "widths_potential.append(widths_potential[-1])\n",
    "\n",
    "ax.step(np.cumsum(widths_potential)-widths_potential, heights, 'g', where='post', color=\"#335C67\", label= \"Marginal Abatement Cost\" , linewidth=1.5)\n",
    "\n",
    "\n",
    "# Effective scenario MACC\n",
    "\n",
    "# # MAx potential MACC\n",
    "# widths_effective= macc_df['abatement_effective'].to_list()\n",
    "# widths_effective.insert(0,0)\n",
    "# widths_effective.append(widths_effective[-1])\n",
    "\n",
    "# ax.step(np.cumsum(widths_effective)-widths_effective, heights, 'g', where='post', color=\"#335C67\", label= \"Scenario abatement cost and potential\" , linewidth=1.5)\n",
    "\n",
    "fuel= macc_df.energy_avail.to_list()\n",
    "fuel.insert(0,0)\n",
    "widths_potential.pop()\n",
    "ax2=ax.twinx()\n",
    "ax2.plot(np.cumsum(widths_potential), np.cumsum(fuel), color=\"#9E2A2B\", linestyle=':', label= \"Energy potential\", marker='x')\n",
    "\n",
    "# ax.set_yscale('log')\n",
    "\n",
    "ax2.axhline(y=process.df.energy_consumption_dropin_fuel[year]/1e12-process.df.energy_consumption_kerosene[year]/1e12, color='black', linewidth=1, linestyle='-.')\n",
    "ax2.text(0, 3.75e2, 'Air transport drop-in fuels use, 2050')\n",
    "\n",
    "\n",
    "ax.grid(True, which=\"both\", ls=':')\n",
    "ax.set_ylabel('Carbon Abatement Cost (€/t$\\mathregular{CO_2}$)')\n",
    "ax2.set_ylabel('Energy potential (EJ)')\n",
    "ax.set_xlabel('$\\mathregular{CO_2}$ abatted (Mt)')\n",
    "# ax.set_xlim(-0.02,0.84)\n",
    "# ax.set_ylim(0,1000) \n",
    "# ax2.set_ylim(0,450)\n",
    "\n",
    "ax.grid(True, which=\"both\", ls=':')\n",
    "ax.set_ylabel('Carbon Abatement Cost (€/t$\\mathregular{CO_2}$)')\n",
    "\n",
    "ax.set_xlabel('$\\mathregular{CO_2}$ abatted (Mt)')\n",
    "# ax.set_xlim(-0.02,0.84)\n",
    "ax.set_xlim(0,2200) \n",
    "# ax2.set_ylim(0,450)\n",
    "\n",
    "# print(heights, np.cumsum(widths), names)\n",
    "\n",
    "\n",
    "\n",
    "# overshoot_allocation=macc_df['abatement_effective']/macc_df['abatement_potential']*100\n",
    "\n",
    "\n",
    "ax.text(np.cumsum(widths_potential)[0]+10, heights[1]-50, names[0])\n",
    "ax.text(np.cumsum(widths_potential)[1]+10, heights[2]-50, names[1])\n",
    "ax.text(np.cumsum(widths_potential)[2]+10, heights[3]-50, names[2])\n",
    "ax.text(np.cumsum(widths_potential)[3]+10, heights[4]-50, names[3])\n",
    "ax.text(np.cumsum(widths_potential)[4]+10, heights[5]-50, names[4])\n",
    "ax.text(np.cumsum(widths_potential)[5]+10, heights[6]-50, names[5])\n",
    "# ax.text(np.cumsum(widths_potential)[6]+0.005, heights[7]+18, names[6])\n",
    "\n",
    "# # plt.ylim([1,2.8*10**3]) \n",
    "\n",
    "# # ax.get_yaxis().get_major_formatter().labelOnlyBase = False\n",
    "fig.legend(fancybox=True, shadow=True,  bbox_to_anchor=(0.38, 0.85))\n",
    "\n",
    "\n",
    "\n"
   ]
  },
  {
   "cell_type": "code",
   "execution_count": null,
   "metadata": {},
   "outputs": [],
   "source": [
    "macc_df"
   ]
  },
  {
   "cell_type": "code",
   "execution_count": null,
   "metadata": {},
   "outputs": [],
   "source": []
  },
  {
   "cell_type": "code",
   "execution_count": null,
   "metadata": {},
   "outputs": [],
   "source": []
  },
  {
   "cell_type": "code",
   "execution_count": null,
   "metadata": {},
   "outputs": [],
   "source": []
  },
  {
   "cell_type": "code",
   "execution_count": null,
   "metadata": {},
   "outputs": [],
   "source": []
  },
  {
   "cell_type": "code",
   "execution_count": null,
   "metadata": {},
   "outputs": [],
   "source": []
  },
  {
   "cell_type": "code",
   "execution_count": null,
   "metadata": {},
   "outputs": [],
   "source": []
  },
  {
   "cell_type": "code",
   "execution_count": null,
   "metadata": {},
   "outputs": [],
   "source": []
  },
  {
   "cell_type": "code",
   "execution_count": null,
   "metadata": {},
   "outputs": [],
   "source": []
  },
  {
   "cell_type": "code",
   "execution_count": null,
   "metadata": {},
   "outputs": [],
   "source": []
  },
  {
   "cell_type": "code",
   "execution_count": null,
   "metadata": {},
   "outputs": [],
   "source": []
  },
  {
   "cell_type": "code",
   "execution_count": null,
   "metadata": {},
   "outputs": [],
   "source": []
  },
  {
   "cell_type": "code",
   "execution_count": null,
   "metadata": {},
   "outputs": [],
   "source": []
  }
 ],
 "metadata": {
  "celltoolbar": "Diaporama",
  "kernelspec": {
   "display_name": "Python 3 (ipykernel)",
   "language": "python",
   "name": "python3"
  },
  "language_info": {
   "codemirror_mode": {
    "name": "ipython",
    "version": 3
   },
   "file_extension": ".py",
   "mimetype": "text/x-python",
   "name": "python",
   "nbconvert_exporter": "python",
   "pygments_lexer": "ipython3",
   "version": "3.8.16"
  }
 },
 "nbformat": 4,
 "nbformat_minor": 4
}
