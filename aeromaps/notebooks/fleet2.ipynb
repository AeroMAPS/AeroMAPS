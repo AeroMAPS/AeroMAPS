{
 "cells": [
  {
   "cell_type": "markdown",
   "id": "721e00ea-eec3-4040-a716-d63927e46ff1",
   "metadata": {},
   "source": [
    "# Fleet modeling"
   ]
  },
  {
   "cell_type": "markdown",
   "id": "8b8bd6a5-69d6-4519-9670-56a8e027ff38",
   "metadata": {},
   "source": [
    "This notebook aims at using the classes dedicated to the fleet modelling that are used in AeroMAPS."
   ]
  },
  {
   "cell_type": "code",
   "execution_count": 1,
   "id": "334ae7bc-274f-46f9-af6f-b371deed1406",
   "metadata": {
    "pycharm": {
     "is_executing": true
    }
   },
   "outputs": [],
   "source": [
    "from aeromaps.models.air_transport.aircraft_fleet_and_operations.fleet.fleet_model import (\n",
    "    AircraftParameters,\n",
    "    SubcategoryParameters,\n",
    "    CategoryParameters,\n",
    "    Aircraft,\n",
    "    SubCategory,\n",
    "    Category,\n",
    "    Fleet,\n",
    "    FleetModel,\n",
    ")\n",
    "\n",
    "from aeromaps.models.parameters import YearParameters\n",
    "\n",
    "year_parameters = YearParameters(\n",
    "    historic_start_year=2020, prospection_start_year=2020, end_year=2050\n",
    ")\n",
    "\n",
    "from aeromaps.models.air_transport.constants import EnergyTypes\n",
    "\n",
    "import pandas as pd\n",
    "\n",
    "pd.set_option(\"display.max_rows\", 500)\n",
    "pd.set_option(\"display.max_columns\", 500)\n",
    "pd.set_option(\"display.width\", 1000)"
   ]
  },
  {
   "cell_type": "markdown",
   "id": "3eb3ef4d-476a-4a2e-bf08-79184975b0f9",
   "metadata": {},
   "source": [
    "Lets create the following categories and subcategories of aircraft:\n",
    "- Short range:\n",
    "    - Narrow-body\n",
    "    - Regional Turboprop\n",
    "    - Regional Turbofan\n",
    "- Medium range (Narrow-body)\n",
    "- Long range (Wide-body)"
   ]
  },
  {
   "cell_type": "markdown",
   "id": "d0cbbdb6-459d-46fd-a294-b040b6ece346",
   "metadata": {},
   "source": [
    "Lets now assemble these categories into a fleet object."
   ]
  },
  {
   "cell_type": "code",
   "execution_count": 2,
   "id": "5f8eeb2d",
   "metadata": {
    "collapsed": false,
    "jupyter": {
     "outputs_hidden": false
    },
    "pycharm": {
     "name": "#%%\n"
    }
   },
   "outputs": [
    {
     "ename": "TypeError",
     "evalue": "__init__() got an unexpected keyword argument 'ask0'",
     "output_type": "error",
     "traceback": [
      "\u001b[1;31m---------------------------------------------------------------------------\u001b[0m",
      "\u001b[1;31mTypeError\u001b[0m                                 Traceback (most recent call last)",
      "Cell \u001b[1;32mIn[2], line 1\u001b[0m\n\u001b[1;32m----> 1\u001b[0m fleet \u001b[38;5;241m=\u001b[39m \u001b[43mFleet\u001b[49m\u001b[43m(\u001b[49m\u001b[43m)\u001b[49m\n",
      "File \u001b[1;32m~\\PycharmProjects\\AeroMAPS\\aeromaps\\models\\air_transport\\aircraft_fleet_and_operations\\fleet\\fleet_model.py:763\u001b[0m, in \u001b[0;36mFleet.__init__\u001b[1;34m(self, short_range, medium_range, long_range, build_default_fleet)\u001b[0m\n\u001b[0;32m    761\u001b[0m \u001b[38;5;66;03m# Build default fleet\u001b[39;00m\n\u001b[0;32m    762\u001b[0m \u001b[38;5;28;01mif\u001b[39;00m build_default_fleet:\n\u001b[1;32m--> 763\u001b[0m     \u001b[38;5;28;43mself\u001b[39;49m\u001b[38;5;241;43m.\u001b[39;49m\u001b[43m_build_default_fleet\u001b[49m\u001b[43m(\u001b[49m\u001b[43m)\u001b[49m\n\u001b[0;32m    765\u001b[0m \u001b[38;5;66;03m# Initialize\u001b[39;00m\n\u001b[0;32m    766\u001b[0m \u001b[38;5;28mself\u001b[39m\u001b[38;5;241m.\u001b[39mui \u001b[38;5;241m=\u001b[39m \u001b[38;5;28;01mNone\u001b[39;00m\n",
      "File \u001b[1;32m~\\PycharmProjects\\AeroMAPS\\aeromaps\\models\\air_transport\\aircraft_fleet_and_operations\\fleet\\fleet_model.py:998\u001b[0m, in \u001b[0;36mFleet._build_default_fleet\u001b[1;34m(self)\u001b[0m\n\u001b[0;32m    995\u001b[0m sr_tf_cat\u001b[38;5;241m.\u001b[39madd_aircraft(aircraft\u001b[38;5;241m=\u001b[39msr_tf_aircraft_2)\n\u001b[0;32m    997\u001b[0m \u001b[38;5;66;03m# Short range\u001b[39;00m\n\u001b[1;32m--> 998\u001b[0m cat_params \u001b[38;5;241m=\u001b[39m \u001b[43mCategoryParameters\u001b[49m\u001b[43m(\u001b[49m\n\u001b[0;32m    999\u001b[0m \u001b[43m    \u001b[49m\u001b[43mask0\u001b[49m\u001b[38;5;241;43m=\u001b[39;49m\u001b[38;5;241;43m1e6\u001b[39;49m\u001b[43m,\u001b[49m\u001b[43m \u001b[49m\u001b[43mgrowth_rates\u001b[49m\u001b[38;5;241;43m=\u001b[39;49m\u001b[43m{\u001b[49m\u001b[38;5;241;43m2030\u001b[39;49m\u001b[43m:\u001b[49m\u001b[43m \u001b[49m\u001b[38;5;241;43m2.0\u001b[39;49m\u001b[43m,\u001b[49m\u001b[43m \u001b[49m\u001b[38;5;241;43m2040\u001b[39;49m\u001b[43m:\u001b[49m\u001b[43m \u001b[49m\u001b[38;5;241;43m2.0\u001b[39;49m\u001b[43m,\u001b[49m\u001b[43m \u001b[49m\u001b[38;5;241;43m2050\u001b[39;49m\u001b[43m:\u001b[49m\u001b[43m \u001b[49m\u001b[38;5;241;43m2.0\u001b[39;49m\u001b[43m}\u001b[49m\u001b[43m,\u001b[49m\u001b[43m \u001b[49m\u001b[43mlife\u001b[49m\u001b[38;5;241;43m=\u001b[39;49m\u001b[38;5;241;43m25\u001b[39;49m\n\u001b[0;32m   1000\u001b[0m \u001b[43m\u001b[49m\u001b[43m)\u001b[49m\n\u001b[0;32m   1001\u001b[0m sr_cat \u001b[38;5;241m=\u001b[39m Category(\u001b[38;5;124m\"\u001b[39m\u001b[38;5;124mShort Range\u001b[39m\u001b[38;5;124m\"\u001b[39m, parameters\u001b[38;5;241m=\u001b[39mcat_params)\n\u001b[0;32m   1002\u001b[0m sr_cat\u001b[38;5;241m.\u001b[39madd_subcategory(subcategory\u001b[38;5;241m=\u001b[39msr_nb_cat)\n",
      "\u001b[1;31mTypeError\u001b[0m: __init__() got an unexpected keyword argument 'ask0'"
     ]
    }
   ],
   "source": [
    "fleet = Fleet()"
   ]
  },
  {
   "cell_type": "code",
   "execution_count": null,
   "id": "7d636320-e679-4588-9e1a-24e9cb465b85",
   "metadata": {},
   "outputs": [],
   "source": [
    "fleet.ui"
   ]
  },
  {
   "cell_type": "code",
   "execution_count": null,
   "id": "61b0ffb4-52f2-4556-940d-dd4f1e78d1db",
   "metadata": {},
   "outputs": [],
   "source": [
    "print(list(list(fleet.categories.values())[0].subcategories[0].aircraft.values())[0].name)\n",
    "list(list(fleet.categories.values())[0].subcategories[0].aircraft.values())[0].parameters\n",
    "# list(fleet.categories.values())[0].subcategories[0].datagrid.data"
   ]
  },
  {
   "cell_type": "code",
   "execution_count": null,
   "id": "ba7a95d7-3e10-4edb-9a34-1371cad3b6f2",
   "metadata": {},
   "outputs": [],
   "source": []
  },
  {
   "cell_type": "code",
   "execution_count": null,
   "id": "6fa09d91-db39-4b74-9eb0-4705af870ea7",
   "metadata": {},
   "outputs": [],
   "source": [
    "fleet_model = FleetGrowthModel(fleet=fleet, year_parameters=year_parameters)\n",
    "fleet_model.compute()\n",
    "fleet_model.df"
   ]
  },
  {
   "cell_type": "code",
   "execution_count": null,
   "id": "97fe3c83-0111-408e-9f49-68f696cd8835",
   "metadata": {},
   "outputs": [],
   "source": [
    "# Gains summary\n",
    "df = fleet_model.df[[\"global_fleet:energy_consumption [MJ/ASK]\"]]\n",
    "df = fleet_model.df[[\"Medium range:Medium-range:energy_consumption [MJ/ASK]\"]]\n",
    "gains_2035 = (1 - df.loc[2035] / df.loc[2020]) * 100\n",
    "gains_2050 = (1 - df.loc[2050] / df.loc[2020]) * 100\n",
    "annual_gains = 100 * (1 - (1 + (df.loc[2050] / df.loc[2020] - 1)) ** (1 / (2050 - 2020)))\n",
    "\n",
    "\n",
    "print(\"Gains in 2035 w.r.t 2020: \", float(gains_2035), \" [%]\")\n",
    "print(\"Gains in 2050 w.r.t 2020: \", float(gains_2050), \" [%]\")\n",
    "print(\"Mean annual gains between 2020 and 2050: \", float(annual_gains), \" [%]\")\n",
    "print(fleet_model.df[[\"Medium range:Medium-range:energy_consumption [MJ/ASK]\"]])"
   ]
  },
  {
   "cell_type": "code",
   "execution_count": null,
   "id": "83224b9c-180e-4543-b75c-3ab2242f0afb",
   "metadata": {},
   "outputs": [],
   "source": [
    "fleet_model.plot()"
   ]
  },
  {
   "cell_type": "code",
   "execution_count": null,
   "id": "c190472c-0916-4aef-b225-0f370aa57d77",
   "metadata": {},
   "outputs": [],
   "source": []
  }
 ],
 "metadata": {
  "kernelspec": {
   "display_name": "Python 3 (ipykernel)",
   "language": "python",
   "name": "python3"
  },
  "language_info": {
   "codemirror_mode": {
    "name": "ipython",
    "version": 3
   },
   "file_extension": ".py",
   "mimetype": "text/x-python",
   "name": "python",
   "nbconvert_exporter": "python",
   "pygments_lexer": "ipython3",
   "version": "3.8.16"
  }
 },
 "nbformat": 4,
 "nbformat_minor": 5
}
