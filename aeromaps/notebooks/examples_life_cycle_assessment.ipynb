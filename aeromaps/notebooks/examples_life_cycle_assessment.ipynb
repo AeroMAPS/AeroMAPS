{
 "cells": [
  {
   "cell_type": "markdown",
   "metadata": {},
   "source": [
    "# Example for life cycle assessment module of AeroMAPS\n"
   ]
  },
  {
   "cell_type": "markdown",
   "metadata": {
    "slideshow": {
     "slide_type": "slide"
    }
   },
   "source": [
    "## Load and process\n",
    "\n",
    "First, the user has to load the framework and generate a process."
   ]
  },
  {
   "cell_type": "code",
   "execution_count": 1,
   "metadata": {
    "slideshow": {
     "slide_type": "subslide"
    },
    "tags": []
   },
   "source": [
    "%matplotlib widget\n",
    "import pandas as pd\n",
    "from aeromaps import create_process\n",
    "from aeromaps.core.models import (\n",
    "    models_traffic,\n",
    "    models_efficiency_bottom_up,\n",
    "    models_energy_without_fuel_effect,\n",
    "    models_offset,\n",
    "    models_climate_simple_gwpstar,\n",
    "    models_sustainability,\n",
    ")\n",
    "from aeromaps.models.air_transport.aircraft_fleet_and_operations.fleet.fleet_numeric import FleetEvolution\n",
    "from aeromaps.models.impacts.life_cycle_assessment.life_cycle_assessment import LifeCycleAssessment"
   ],
   "outputs": []
  },
  {
   "cell_type": "code",
   "execution_count": null,
   "metadata": {
    "tags": []
   },
   "source": [
    "extended_models = {\n",
    "    \"models_traffic\": models_traffic,\n",
    "    \"models_efficiency_bottom_up\": models_efficiency_bottom_up,\n",
    "    \"models_energy_without_fuel_effect\": models_energy_without_fuel_effect,\n",
    "    \"models_offset\": models_offset,\n",
    "    \"models_climate_simple_gwpstar\": models_climate_simple_gwpstar,\n",
    "    \"models_sustainability\": models_sustainability,\n",
    "    \"fleet_numeric\": FleetEvolution(\"fleet_numeric\"),\n",
    "    \"life_cycle_assessment\": LifeCycleAssessment(\n",
    "        \"life_cycle_assessment\",\n",
    "        reset=False,\n",
    "    )\n",
    "}"
   ],
   "outputs": []
  },
  {
   "cell_type": "code",
   "execution_count": null,
   "metadata": {
    "slideshow": {
     "slide_type": "subslide"
    },
    "tags": []
   },
   "source": [
    "process = create_process(\n",
    "    configuration_file=\"data_files/config.json\",\n",
    "    models=extended_models,\n",
    "    use_fleet_model=True,\n",
    "    add_examples_aircraft_and_subcategory=True\n",
    ")"
   ],
   "outputs": []
  },
  {
   "cell_type": "code",
   "execution_count": null,
   "metadata": {
    "tags": []
   },
   "source": [
    "#process.list_float_inputs()"
   ],
   "outputs": []
  },
  {
   "cell_type": "markdown",
   "metadata": {},
   "source": [
    "## Input parameters\n",
    "\n",
    "ReFuelEU"
   ]
  },
  {
   "cell_type": "code",
   "execution_count": null,
   "metadata": {
    "tags": []
   },
   "source": [
    "## Share of alternative fuels in the drop-in fuel mix (the rest being supplemented by kerosene) [%]\n",
    "process.parameters.biofuel_share_reference_years = [2020, 2025, 2030, 2035, 2040, 2045, 2050]\n",
    "process.parameters.biofuel_share_reference_years_values = [0, 2, 4.8, 15, 24, 27, 35]\n",
    "process.parameters.electrofuel_share_reference_years = [2020, 2025, 2030, 2035, 2040, 2045, 2050]\n",
    "process.parameters.electrofuel_share_reference_years_values = [0, 0, 1.2, 5, 10, 15, 35]"
   ],
   "outputs": []
  },
  {
   "cell_type": "markdown",
   "metadata": {
    "slideshow": {
     "slide_type": "slide"
    }
   },
   "source": [
    "## Compute\n",
    "\n",
    "Once all the parameters have been set up, the user can compute."
   ]
  },
  {
   "cell_type": "code",
   "execution_count": 7,
   "metadata": {
    "slideshow": {
     "slide_type": "subslide"
    },
    "tags": []
   },
   "source": [
    "import time\n",
    "start_time = time.time()\n",
    "process.compute()\n",
    "print(\"--- %s seconds ---\" % (time.time() - start_time))"
   ],
   "outputs": []
  },
  {
   "cell_type": "markdown",
   "metadata": {},
   "source": [
    "## Results\n",
    "\n",
    "The user can then display the results. The user has access to float outputs but also to annual data outputs, with the possibility of choosing the output."
   ]
  },
  {
   "cell_type": "code",
   "execution_count": 21,
   "metadata": {
    "tags": []
   },
   "source": [
    "#process.data['vector_outputs']"
   ],
   "outputs": []
  },
  {
   "cell_type": "code",
   "execution_count": 22,
   "metadata": {
    "tags": []
   },
   "source": [
    "#process.climate_outputs_df"
   ],
   "outputs": []
  },
  {
   "cell_type": "code",
   "execution_count": 8,
   "metadata": {
    "tags": []
   },
   "source": [
    "process.lca_outputs_df.T"
   ],
   "outputs": []
  },
  {
   "cell_type": "markdown",
   "metadata": {},
   "source": [
    "## Plots"
   ]
  },
  {
   "cell_type": "code",
   "execution_count": 9,
   "metadata": {
    "tags": []
   },
   "source": [
    "import matplotlib.pyplot as plt\n",
    "import seaborn as sns\n",
    "import math\n",
    "plt.style.use('ggplot')\n",
    "\n",
    "def plot_stacked_evolution_subplots(df):\n",
    "    # Remove phases containing 'sum'\n",
    "    df_filtered = df[~df.index.get_level_values('phase').str.contains('sum')]\n",
    "    \n",
    "    methods = df_filtered.index.get_level_values('method').unique()\n",
    "    years = df_filtered.columns\n",
    "    \n",
    "    # Determine the number of rows and columns for the subplots\n",
    "    n_methods = len(methods)\n",
    "    n_cols = 2 if n_methods % 2 == 0 else 3\n",
    "    n_rows = math.ceil(n_methods / n_cols)\n",
    "    \n",
    "    # Use seaborn color palette for better aesthetics\n",
    "    palette = sns.color_palette(\"Set2\", len(df_filtered.index.levels[1]))\n",
    "    \n",
    "    # Create subplots\n",
    "    fig, axes = plt.subplots(n_rows, n_cols, figsize=(12, n_rows * 4), constrained_layout=True)\n",
    "    axes = axes.flatten()  # Flatten the array of axes for easy iteration\n",
    "\n",
    "    for i, method in enumerate(methods):\n",
    "        df_method = df_filtered.xs(method, level='method')\n",
    "        #df_method.index = df_method.index.str.replace('_', ' ')\n",
    "        \n",
    "        # Plot stacked area chart with custom colors\n",
    "        axes[i].stackplot(years, df_method, labels=df_method.index, alpha=0.8, colors=palette)\n",
    "        \n",
    "        # Customize the subplot\n",
    "        name, unit = method.split('[', 1)\n",
    "        name = name.replace('- ', '\\n').replace('(', '\\n(')\n",
    "        name = \"\".join([a if a.isupper() else b for a,b in zip(name,name.title())])\n",
    "        unit = unit.replace(']', '')\n",
    "        axes[i].set_title(name, fontsize=12)\n",
    "        axes[i].set_xlabel('Year')\n",
    "        axes[i].set_ylabel(unit)\n",
    "        axes[i].grid(True)\n",
    "        if i == 0:\n",
    "            axes[i].legend()\n",
    "    \n",
    "    # Remove any empty subplots\n",
    "    #for j in range(i + 1, len(axes)):\n",
    "    #    fig.delaxes(axes[j])\n",
    "    \n",
    "    # Add a single legend for all subplots\n",
    "    #handles, labels = axes[0].get_legend_handles_labels()\n",
    "    #fig.legend(handles, labels, title='Phase', loc='upper center', ncol=4, bbox_to_anchor = (0, 0.05, 1, 1), mode=\"expand\") #, ncol=len(df_filtered.index.levels[1]))\n",
    "        \n",
    "    plt.show()\n",
    "\n",
    "# Call the function\n",
    "plot_stacked_evolution_subplots(process.lca_outputs_df)"
   ],
   "outputs": []
  },
  {
   "cell_type": "code",
   "execution_count": null,
   "metadata": {},
   "source": [],
   "outputs": []
  },
  {
   "cell_type": "markdown",
   "metadata": {},
   "source": [
    "# Draft"
   ]
  },
  {
   "cell_type": "code",
   "execution_count": null,
   "metadata": {
    "tags": []
   },
   "source": [
    "from functools import wraps\n",
    "\n",
    "def kwargs_decorator():\n",
    "    def wrapper(f):\n",
    "        @wraps(f)\n",
    "        def inner_wrapper(*args, **kwargs):\n",
    "            dict_kwargs = args[0].lca_params\n",
    "            new_kwargs = {**dict_kwargs, **kwargs}\n",
    "            return f(*args, **new_kwargs)\n",
    "        return inner_wrapper\n",
    "    return wrapper\n",
    "\n",
    "class Test:\n",
    "    def __init__(self):\n",
    "        self.lca_params = {'a': 1.0}\n",
    "        \n",
    "    @kwargs_decorator()\n",
    "    def foo(self, **kwargs):\n",
    "        print(kwargs)"
   ],
   "outputs": []
  },
  {
   "cell_type": "code",
   "execution_count": null,
   "metadata": {
    "tags": []
   },
   "source": [
    "test = Test()\n",
    "test.foo()"
   ],
   "outputs": []
  },
  {
   "cell_type": "code",
   "execution_count": null,
   "metadata": {
    "tags": []
   },
   "source": [
    "from functools import wraps\n",
    "import lca_algebraic as agb\n",
    "\n",
    "def kwargs_decorator(dict_kwargs):\n",
    "    def wrapper(f):\n",
    "        @wraps(f)\n",
    "        def inner_wrapper(*args, **kwargs):\n",
    "            # dict_kwargs = args[0].my_dict  # args[0] refer to 'self'\n",
    "            new_kwargs = {**dict_kwargs, **kwargs}\n",
    "            return f(*args, **new_kwargs)\n",
    "        return inner_wrapper\n",
    "    return wrapper\n",
    "\n",
    "\n",
    "def args_decorator(list_args):\n",
    "    def wrapper(f):\n",
    "        @wraps(f)\n",
    "        def inner_wrapper(*args, **kwargs):\n",
    "            # dict_kwargs = args[0].my_dict  # args[0] refer to 'self'\n",
    "            new_args = {*args, *list_args}\n",
    "            return f(*new_args, **kwargs)\n",
    "        return inner_wrapper\n",
    "    return wrapper\n",
    "\n",
    "\n",
    "class Test:\n",
    "        \n",
    "    @args_decorator(agb.all_params().keys())\n",
    "    def foo(self, *args, **kwargs):\n",
    "        return args\n",
    "    \n",
    "    \n",
    "test = Test()\n",
    "test.__init__()\n",
    "res = test.foo()\n",
    "res"
   ],
   "outputs": []
  },
  {
   "cell_type": "code",
   "execution_count": null,
   "metadata": {
    "tags": []
   },
   "source": [
    "from inspect import getfullargspec\n",
    "\n",
    "getfullargspec(test.foo)"
   ],
   "outputs": []
  },
  {
   "cell_type": "code",
   "execution_count": null,
   "metadata": {
    "tags": []
   },
   "source": [
    "list(agb.all_params().keys())"
   ],
   "outputs": []
  },
  {
   "cell_type": "code",
   "execution_count": null,
   "metadata": {},
   "source": [
    "class Test:\n",
    "    def init(self):\n",
    "        self.my_list = ['a', 'b']\n",
    "    \n",
    "    def foo(self, *args, **kwargs):\n",
    "        \n",
    "        \n",
    "        def foo2(\n",
    "        \n",
    "        return args\n",
    "    "
   ],
   "outputs": []
  },
  {
   "cell_type": "code",
   "execution_count": null,
   "metadata": {
    "tags": []
   },
   "source": [
    "test = ['q', 1.0]\n",
    "\n",
    "any(isinstance(elem, str) for elem in test)"
   ],
   "outputs": []
  },
  {
   "cell_type": "code",
   "execution_count": 99,
   "metadata": {
    "tags": []
   },
   "source": [
    "agb.findMethods?"
   ],
   "outputs": []
  },
  {
   "cell_type": "code",
   "execution_count": 110,
   "metadata": {
    "tags": []
   },
   "source": [
    "import lca_algebraic as agb\n",
    "\n",
    "agb.findMethods('',mainCat='ReCiPe 2016 v1.03, midpoint (H)')"
   ],
   "outputs": []
  },
  {
   "cell_type": "code",
   "execution_count": null,
   "metadata": {},
   "source": [],
   "outputs": []
  },
  {
   "cell_type": "code",
   "execution_count": null,
   "metadata": {},
   "source": [],
   "outputs": []
  },
  {
   "cell_type": "code",
   "execution_count": 3,
   "metadata": {
    "tags": []
   },
   "source": [
    "import brightway2 as bw\n",
    "from dotenv import load_dotenv\n",
    "import bw2io\n",
    "import bw2data\n",
    "import os\n",
    "import lca_algebraic as agb\n",
    "\n",
    "bw2data.projects.set_current('example_methodology_ei391')\n",
    "db = bw.Database('ecoinvent_cutoff_3.9_remind_SSP2-Base_2020')\n",
    "#db = bw.Database('biosphere3')"
   ],
   "outputs": []
  },
  {
   "cell_type": "code",
   "execution_count": 10,
   "metadata": {
    "tags": []
   },
   "source": [
    "[act for act in db if 'Carbon dioxide' in act['name']]"
   ],
   "outputs": []
  },
  {
   "cell_type": "code",
   "execution_count": 10,
   "metadata": {
    "tags": []
   },
   "source": [
    "[act for act in db if 'kerosene production, via Fischer-Tropsch' in act['name']]"
   ],
   "outputs": []
  },
  {
   "cell_type": "code",
   "execution_count": 8,
   "metadata": {
    "tags": []
   },
   "source": [
    "act"
   ],
   "outputs": []
  },
  {
   "cell_type": "code",
   "execution_count": 12,
   "metadata": {
    "tags": []
   },
   "source": [
    "act.as_dict()"
   ],
   "outputs": []
  },
  {
   "cell_type": "code",
   "execution_count": null,
   "metadata": {},
   "source": [],
   "outputs": []
  },
  {
   "cell_type": "code",
   "execution_count": null,
   "metadata": {
    "tags": []
   },
   "source": [
    "import lca_algebraic as agb\n",
    "import pandas as pd\n",
    "from sympy.parsing.sympy_parser import parse_expr\n",
    "from sympy import Float\n",
    "import bw2data\n",
    "from typing import List, Union\n",
    "\n",
    "USER_DB = 'Foreground DB'\n",
    "DEFAULT_PROJECT = 'lcav_default_project'\n",
    "\n",
    "\n",
    "def list_processes(model, foreground_only: bool = True, custom_attribute: str = None) -> pd.DataFrame:\n",
    "    \"\"\"\n",
    "    Traverses the tree of sub-activities (sub-processes) until background database is reached.\n",
    "    \"\"\"\n",
    "\n",
    "    def _recursive_activities(act,\n",
    "                              activities, units, locations, parents, exchanges, levels, dbs, custom_attributes,\n",
    "                              parent: str = \"\", exc: dict = None, level: int = 0):\n",
    "\n",
    "        if exc is None:\n",
    "            exc = {}\n",
    "        name = act.as_dict()['name']\n",
    "        unit = act.as_dict()['unit']\n",
    "        loc = act.as_dict().get('location', \"\")\n",
    "        if loc not in ['GLO', '']:\n",
    "            name += f' [{loc}]'\n",
    "        exchange = _getAmountOrFormula(exc)\n",
    "        db = act.as_dict()['database']\n",
    "        custom_attr = act.as_dict().get(custom_attribute, \"\")  # get any additional attribute asked by the user\n",
    "\n",
    "        # Stop BEFORE reaching the first level of background activities\n",
    "        if foreground_only and db != USER_DB:\n",
    "            return\n",
    "\n",
    "        activities.append(name)\n",
    "        units.append(unit)\n",
    "        locations.append(loc)\n",
    "        parents.append(parent)\n",
    "        exchanges.append(exchange)\n",
    "        levels.append(level)\n",
    "        dbs.append(db)\n",
    "        custom_attributes.append(custom_attr)\n",
    "\n",
    "        # Stop AFTER reaching the first level of background activities\n",
    "        if db != USER_DB:\n",
    "            return\n",
    "\n",
    "        for exc in act.exchanges():\n",
    "            if exc.input != act:\n",
    "                _recursive_activities(exc.input, activities, units, locations, parents, exchanges, levels, dbs, custom_attributes,\n",
    "                                      parent=name,\n",
    "                                      exc=exc,\n",
    "                                      level=level + 1)\n",
    "        return\n",
    "\n",
    "    # Initialize lists\n",
    "    activities = []\n",
    "    units = []\n",
    "    locations = []\n",
    "    parents = []\n",
    "    exchanges = []\n",
    "    levels = []\n",
    "    dbs = []\n",
    "    custom_attributes = []\n",
    "\n",
    "    # Recursively populate lists\n",
    "    _recursive_activities(model, activities, units, locations, parents, exchanges, levels, dbs, custom_attributes)\n",
    "    data = {'activity': activities,\n",
    "            'unit': units,\n",
    "            'location': locations,\n",
    "            'level': levels,\n",
    "            'database': dbs,\n",
    "            'parent': parents,\n",
    "            'exchange': exchanges,\n",
    "            }\n",
    "    if custom_attribute:\n",
    "        data[custom_attribute] = custom_attributes\n",
    "\n",
    "    # Create DataFrame\n",
    "    df = pd.DataFrame(data, index=activities)\n",
    "\n",
    "    return df\n",
    "\n",
    "\n",
    "def get_parameter(key: str):\n",
    "    param = agb.params._param_registry().__getitem__(key)\n",
    "    return param\n",
    "\n",
    "\n",
    "def expandParams(param, value=None):\n",
    "    \"\"\"\n",
    "    Modified version of expandParams from classes EnumParam and ParamDef from lca_algebraic library.\n",
    "    For enum (switch) parameters, returns a dictionary of single enum values as sympy symbols,\n",
    "    with only a single one set to 1.\n",
    "    For float parameters, returns a dictionary with either the user-provided value or the default parameter value.\n",
    "    \"\"\"\n",
    "\n",
    "    # Enum (e.g. switch) parameters\n",
    "    if param['type'] == 'enum':\n",
    "        values = param['values'] + [None]\n",
    "\n",
    "        # Bad value ?\n",
    "        if value not in values:\n",
    "            raise Exception(\"Invalid value %s for param %s. Should be in %s\" %\n",
    "                            (value, param['name'], str(param['values'])))\n",
    "\n",
    "        res = dict()\n",
    "        for enum_val in values:\n",
    "            var_name = \"%s_%s\" % (param['name'], enum_val if enum_val is not None else \"default\")\n",
    "            res[var_name] = 1.0 if enum_val == value else 0.0\n",
    "        return res\n",
    "\n",
    "    # Float parameters\n",
    "    else:\n",
    "        if value is None:\n",
    "            value = param['default']\n",
    "        return {param['name']: value}\n",
    "\n",
    "\n",
    "def completeParamValues(params, param_registry, setDefaults=True):\n",
    "    \"\"\"\n",
    "    Modified version of completeParamValues from lca_algebraic library.\n",
    "    Sets default values for missing parameters and expand enum params.\n",
    "\n",
    "    Returns\n",
    "    -------\n",
    "        Dict of param_name => float value\n",
    "    \"\"\"\n",
    "\n",
    "    # Set default variables for missing values\n",
    "    if setDefaults:\n",
    "        for name, param in param_registry.items():\n",
    "            if not name in params:\n",
    "                params[name] = param['default']\n",
    "                agb.warn(\n",
    "                    \"Required param '%s' was missing, replacing by default value : %s\" % (name, str(param['default'])))\n",
    "\n",
    "    res = dict()\n",
    "    for key, val in params.items():\n",
    "        if key in param_registry:\n",
    "            param = param_registry[key]\n",
    "        else:\n",
    "            continue\n",
    "            # raise Exception(\"Parameter not found : %s. Valid parameters : %s\" % (key, list(param_registry.keys())))\n",
    "\n",
    "        if isinstance(val, list):\n",
    "            newvals = [expandParams(param, val) for val in val]\n",
    "            res.update(agb.params._listOfDictToDictOflist(newvals))\n",
    "        else:\n",
    "            res.update(expandParams(param, val))\n",
    "\n",
    "    return res\n",
    "\n",
    "\n",
    "def format_number(num, precision=2):\n",
    "    \"\"\"\n",
    "    This function takes a number (either a Python float or a SymPy Float) and a precision,\n",
    "    and returns a string that represents the number with the given precision.\n",
    "    If the number is too large or too small, it switches to scientific notation.\n",
    "\n",
    "    :param num: The number to format.\n",
    "    :param precision: The number of decimal places to use.\n",
    "    :return: A string that represents the number with the given precision.\n",
    "    \"\"\"\n",
    "    if isinstance(num, Float):  # SymPy float\n",
    "        num = num.evalf()\n",
    "    sci_num = \"{:.{}e}\".format(num, precision)\n",
    "    if 'e+00' in sci_num:\n",
    "        return \"{:.{}f}\".format(num, precision)\n",
    "    else:\n",
    "        return sci_num\n",
    "\n",
    "\n",
    "def _getAmountOrFormula(ex):\n",
    "    \"\"\" Return either a fixed float value or an expression for the amount of this exchange\"\"\"\n",
    "    if 'formula' in ex:\n",
    "        expr = parse_expr(ex['formula'])\n",
    "        try:\n",
    "            float(expr)\n",
    "            return format_number(float(expr))\n",
    "        except TypeError:\n",
    "            return expr\n",
    "    elif 'amount' in ex:\n",
    "        return format_number(ex['amount'])\n",
    "    return \"\"\n",
    "\n",
    "\n",
    "def safe_delete_brightway_project(projectname: str) -> None:\n",
    "    try:\n",
    "        bw2data.projects.delete_project(\n",
    "            name = projectname,\n",
    "            delete_dir = True\n",
    "        )\n",
    "    except:\n",
    "        pass"
   ],
   "outputs": []
  },
  {
   "cell_type": "code",
   "execution_count": null,
   "metadata": {
    "tags": []
   },
   "source": [
    "model = agb.findActivity('model', db_name='Foreground DB')"
   ],
   "outputs": []
  },
  {
   "cell_type": "code",
   "execution_count": null,
   "metadata": {
    "tags": []
   },
   "source": [
    "list_processes(model)"
   ],
   "outputs": []
  },
  {
   "cell_type": "code",
   "execution_count": null,
   "metadata": {},
   "source": [],
   "outputs": []
  }
 ],
 "metadata": {
  "celltoolbar": "Diaporama",
  "kernelspec": {
   "display_name": "Python 3 (ipykernel)",
   "language": "python",
   "name": "python3"
  },
  "language_info": {
   "codemirror_mode": {
    "name": "ipython",
    "version": 3
   },
   "file_extension": ".py",
   "mimetype": "text/x-python",
   "name": "python",
   "nbconvert_exporter": "python",
   "pygments_lexer": "ipython3",
   "version": "3.10.14"
  }
 },
 "nbformat": 4,
 "nbformat_minor": 4
}
