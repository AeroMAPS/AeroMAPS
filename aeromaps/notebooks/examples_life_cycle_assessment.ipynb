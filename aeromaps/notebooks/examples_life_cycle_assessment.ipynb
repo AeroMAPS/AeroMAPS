{
 "cells": [
  {
   "cell_type": "markdown",
   "metadata": {},
   "source": [
    "# Example for life cycle assessment module of AeroMAPS\n"
   ]
  },
  {
   "cell_type": "markdown",
   "metadata": {
    "slideshow": {
     "slide_type": "slide"
    }
   },
   "source": [
    "## Load and process\n",
    "\n",
    "First, the user has to load the framework and generate a process."
   ]
  },
  {
   "cell_type": "code",
   "execution_count": 1,
   "metadata": {
    "slideshow": {
     "slide_type": "subslide"
    },
    "tags": []
   },
   "source": [
    "%matplotlib widget\n",
    "import pandas as pd\n",
    "from aeromaps import create_process\n",
    "from aeromaps.core.models import (\n",
    "    models_traffic,\n",
    "    models_efficiency_bottom_up,\n",
    "    models_energy_without_fuel_effect,\n",
    "    models_offset,\n",
    "    models_climate_simple_gwpstar,\n",
    "    models_sustainability,\n",
    ")\n",
    "from aeromaps.models.air_transport.aircraft_fleet_and_operations.fleet.fleet_numeric import FleetEvolution\n",
    "from aeromaps.models.impacts.life_cycle_assessment.life_cycle_assessment import LifeCycleAssessment\n",
    "from aeromaps.models.air_transport.aircraft_fleet_and_operations.fleet.fleet_model import (\n",
    "    Fleet,\n",
    "    AircraftParameters,\n",
    "    Aircraft,\n",
    ")"
   ],
   "outputs": []
  },
  {
   "cell_type": "code",
   "execution_count": 2,
   "metadata": {
    "tags": []
   },
   "source": [
    "extended_models = {\n",
    "    \"models_traffic\": models_traffic,\n",
    "    \"models_efficiency_bottom_up\": models_efficiency_bottom_up,\n",
    "    \"models_energy_without_fuel_effect\": models_energy_without_fuel_effect,\n",
    "    \"models_offset\": models_offset,\n",
    "    \"models_climate_simple_gwpstar\": models_climate_simple_gwpstar,\n",
    "    \"models_sustainability\": models_sustainability,\n",
    "    \"fleet_numeric\": FleetEvolution(\"fleet_numeric\"),\n",
    "    \"life_cycle_assessment\": LifeCycleAssessment(\n",
    "        \"life_cycle_assessment\",\n",
    "        reset=False,\n",
    "    )\n",
    "}"
   ],
   "outputs": []
  },
  {
   "cell_type": "code",
   "execution_count": 51,
   "metadata": {
    "slideshow": {
     "slide_type": "subslide"
    },
    "tags": []
   },
   "source": [
    "process = create_process(\n",
    "    configuration_file=\"data_files/config.json\",\n",
    "    models=extended_models,\n",
    "    use_fleet_model=True,\n",
    "    add_examples_aircraft_and_subcategory=False\n",
    ")"
   ],
   "outputs": []
  },
  {
   "cell_type": "code",
   "execution_count": 52,
   "metadata": {
    "tags": []
   },
   "source": [
    "#process.list_float_inputs()"
   ],
   "outputs": []
  },
  {
   "cell_type": "markdown",
   "metadata": {},
   "source": [
    "## Input parameters\n",
    "\n",
    "ReFuelEU"
   ]
  },
  {
   "cell_type": "code",
   "execution_count": 53,
   "metadata": {
    "tags": []
   },
   "source": [
    "# Aircraft fleet\n",
    "\n",
    "## Initialization\n",
    "fleet = process.fleet\n",
    "\n",
    "## Short Range\n",
    "short_range_aircraft_params = AircraftParameters(\n",
    "    entry_into_service_year=2035,\n",
    "    consumption_evolution=-20.0,\n",
    "    nox_evolution=0.0,\n",
    "    soot_evolution=0.0,\n",
    "    doc_non_energy_evolution=0.0,\n",
    "    cruise_altitude=12000.0,\n",
    "    ask_year=280000000,\n",
    "    rc_cost=50000000,\n",
    "    nrc_cost=10000000000.0,\n",
    ")\n",
    "short_range_aircraft = Aircraft(\n",
    "    \"New Short-range Aircraft\", parameters=short_range_aircraft_params, energy_type=\"DROP_IN_FUEL\"\n",
    ")\n",
    "fleet.categories[\"Short Range\"].subcategories[0].add_aircraft(aircraft=short_range_aircraft)\n",
    "\n",
    "## Medium Range\n",
    "medium_range_aircraft_params = AircraftParameters(\n",
    "    entry_into_service_year=2035,\n",
    "    consumption_evolution=-20.0,\n",
    "    nox_evolution=0.0,\n",
    "    soot_evolution=0.0,\n",
    "    doc_non_energy_evolution=0.0,\n",
    "    cruise_altitude=12000.0,\n",
    "    ask_year=352000000.0,\n",
    "    rc_cost=60000000.0,\n",
    "    nrc_cost=10000000000.0,\n",
    ")\n",
    "medium_range_aircraft = Aircraft(\n",
    "    \"New Medium-range Aircraft\", parameters=medium_range_aircraft_params, energy_type=\"DROP_IN_FUEL\"\n",
    ")\n",
    "fleet.categories[\"Medium Range\"].subcategories[0].add_aircraft(aircraft=medium_range_aircraft)\n",
    "\n",
    "## Long Range\n",
    "long_range_aircraft_params = AircraftParameters(\n",
    "    entry_into_service_year=2035,\n",
    "    consumption_evolution=-20.0,\n",
    "    nox_evolution=0.0,\n",
    "    soot_evolution=0.0,\n",
    "    doc_non_energy_evolution=0.0,\n",
    "    cruise_altitude=12000.0,\n",
    "    ask_year=912000000.0,\n",
    "    rc_cost=150000000.0,\n",
    "    nrc_cost=25000000000.0,\n",
    ")\n",
    "long_range_aircraft = Aircraft(\n",
    "    \"New Long-range Aircraft\", parameters=long_range_aircraft_params, energy_type=\"DROP_IN_FUEL\"\n",
    ")\n",
    "fleet.categories[\"Long Range\"].subcategories[0].add_aircraft(aircraft=long_range_aircraft)\n",
    "\n",
    "## Fleet renewal\n",
    "fleet.categories[\"Short Range\"].parameters.life = 25\n",
    "fleet.categories[\"Medium Range\"].parameters.life = 25\n",
    "fleet.categories[\"Long Range\"].parameters.life = 25\n",
    "\n",
    "process.fleet_model.compute()\n",
    "#process.fleet_model.plot()"
   ],
   "outputs": []
  },
  {
   "cell_type": "code",
   "execution_count": 54,
   "metadata": {
    "tags": []
   },
   "source": [
    "## Share of alternative fuels in the drop-in fuel mix (the rest being supplemented by kerosene) [%]\n",
    "process.parameters.biofuel_share_reference_years = [2020, 2025, 2030, 2035, 2040, 2045, 2050]\n",
    "process.parameters.biofuel_share_reference_years_values = [0, 2, 4.8, 15, 24, 27, 35]  # [0.0, 0.0, 0.0, 0.0, 0.0, 0.0, 0.0]\n",
    "process.parameters.electrofuel_share_reference_years = [2020, 2025, 2030, 2035, 2040, 2045, 2050]\n",
    "process.parameters.electrofuel_share_reference_years_values = [0, 0, 1.2, 5, 10, 15, 35]  # [0.0, 0.0, 0.0, 0.0, 0.0, 0.0, 0.0]\n",
    "\n",
    "# Share of photovoltaic in the electricity mix for efuel production\n",
    "process.parameters.elec_solar_share_reference_years = [2020, 2030, 2040, 2050]\n",
    "process.parameters.elec_solar_share_reference_years_values = [1.0, 1.0, 1.0, 1.0]  # [0.0, 0.0, 0.0, 0.0]\n",
    "\n",
    "# Load factor of photovoltaic --> involves oversizing of electrolyzer and DAC capacities\n",
    "process.parameters.load_factor_photovoltaic_reference_years: [2020, 2025, 2030, 2035, 2040, 2045, 2050]\n",
    "process.parameters.load_factor_photovoltaic_reference_years_values: [1.0, 1.0, 1.0, 1.0, 1.0, 1.0, 1.0]  # [0.14, 0.14, 0.14, 0.14, 0.14, 0.14, 0.14]\n",
    "\n",
    "# Set water vapor to zero (FIXME?)\n",
    "process.parameters.emission_index_h2o_kerosene = 0.0\n",
    "process.parameters.emission_index_h2o_biofuel = 0.0\n",
    "process.parameters.emission_index_h2o_electrofuel = 0.0"
   ],
   "outputs": []
  },
  {
   "cell_type": "markdown",
   "metadata": {
    "slideshow": {
     "slide_type": "slide"
    }
   },
   "source": [
    "## Compute\n",
    "\n",
    "Once all the parameters have been set up, the user can compute."
   ]
  },
  {
   "cell_type": "code",
   "execution_count": 55,
   "metadata": {
    "slideshow": {
     "slide_type": "subslide"
    },
    "tags": []
   },
   "source": [
    "import time\n",
    "start_time = time.time()\n",
    "process.compute()\n",
    "print(\"--- %s seconds ---\" % (time.time() - start_time))"
   ],
   "outputs": []
  },
  {
   "cell_type": "markdown",
   "metadata": {},
   "source": [
    "## Results\n",
    "\n",
    "The user can then display the results. The user has access to float outputs but also to annual data outputs, with the possibility of choosing the output."
   ]
  },
  {
   "cell_type": "code",
   "execution_count": 56,
   "metadata": {
    "tags": []
   },
   "source": [
    "#process.data['vector_outputs']"
   ],
   "outputs": []
  },
  {
   "cell_type": "code",
   "execution_count": 57,
   "metadata": {
    "tags": []
   },
   "source": [
    "import matplotlib.pyplot as plt\n",
    "figure, ax = plt.subplots()\n",
    "ax.plot(process.climate_outputs_df['co2_emissions'].loc[2020:])\n",
    "plt.show()"
   ],
   "outputs": []
  },
  {
   "cell_type": "code",
   "execution_count": 58,
   "metadata": {
    "tags": []
   },
   "source": [
    "process.lca_outputs_df.T"
   ],
   "outputs": []
  },
  {
   "cell_type": "markdown",
   "metadata": {},
   "source": [
    "## Plots"
   ]
  },
  {
   "cell_type": "code",
   "execution_count": 59,
   "metadata": {
    "tags": []
   },
   "source": [
    "#process.climate_outputs_df['co2_emissions']"
   ],
   "outputs": []
  },
  {
   "cell_type": "code",
   "execution_count": 60,
   "metadata": {
    "tags": []
   },
   "source": [
    "import matplotlib.pyplot as plt\n",
    "import seaborn as sns\n",
    "import math\n",
    "import collections\n",
    "plt.style.use('bmh')\n",
    "\n",
    "plt.close()\n",
    "\n",
    "def plot_stacked_evolution_subplots(df):\n",
    "    # Remove phases containing 'sum'\n",
    "    df_filtered = df[~df.index.get_level_values('phase').str.contains('sum')]\n",
    "    \n",
    "    methods = df_filtered.index.get_level_values('method').unique()#[9:]\n",
    "    years = df_filtered.columns\n",
    "    \n",
    "    # Determine the number of rows and columns for the subplots\n",
    "    n_methods = len(methods)\n",
    "    n_cols = 3 #2 if n_methods % 2 == 0 else 3\n",
    "    n_rows = math.ceil(n_methods / n_cols)\n",
    "    \n",
    "    # Use seaborn color palette for better aesthetics\n",
    "    palette = sns.color_palette(\"Set2\", len(df_filtered.index.levels[1]))\n",
    "    \n",
    "    # Create subplots\n",
    "    fig, axes = plt.subplots(n_rows, n_cols, figsize=(12, n_rows * 4), constrained_layout=False)\n",
    "    axes = axes.flatten()  # Flatten the array of axes for easy iteration\n",
    "\n",
    "    for i, method in enumerate(methods):\n",
    "        df_method = df_filtered.xs(method, level='method')\n",
    "        #df_method.index = df_method.index.str.replace('_', ' ')\n",
    "        \n",
    "        # Plot stacked area chart with custom colors\n",
    "        axes[i].stackplot(years, df_method, labels=df_method.index, alpha=0.8, colors=palette)\n",
    "        \n",
    "        # Customize the subplot\n",
    "        name, unit = method.split('[', 1)\n",
    "        #name = name.replace('- ', '\\n').replace('(', '\\n(')\n",
    "        name = name.replace('total', '')\n",
    "        name = name.split('- ')[0]\n",
    "        name = name.replace(':', '\\n')\n",
    "        name = \"\".join([a if a.isupper() else b for a,b in zip(name,name.title())])\n",
    "        unit = unit.replace(']', '')\n",
    "        axes[i].set_title(name, fontsize=12)\n",
    "        axes[i].set_xlabel('Year')\n",
    "        axes[i].set_ylabel(unit)\n",
    "        axes[i].grid(True)\n",
    "        axes[i].set_axisbelow(True)\n",
    "        axes[i].ticklabel_format(axis='y', scilimits=(0,4))\n",
    "        #if i == 0 or i == len(axes) - 1:\n",
    "            #axes[i].legend()\n",
    "    \n",
    "    # Remove any empty subplots\n",
    "    #for j in range(i + 1, len(axes)):\n",
    "    #    fig.delaxes(axes[j])\n",
    "    \n",
    "    # Add a single legend for all subplots\n",
    "    #handles, labels = axes[0].get_legend_handles_labels()\n",
    "    #fig.legend(handles, labels, title='Phase', loc='lower center', ncol=4, bbox_to_anchor = (0, -0.01, 1, 1))#, mode=\"expand\") #, ncol=len(df_filtered.index.levels[1]))\n",
    "    #plt.tight_layout()\n",
    "    \n",
    "    # Collect legend labels from all plots.\n",
    "    entries = collections.OrderedDict()\n",
    "    for ax in axes.flatten():\n",
    "        for handle, label in zip(*axes[0].get_legend_handles_labels()):\n",
    "            #if 'biofuel' in label or 'electrofuel' in label:\n",
    "            #    continue\n",
    "            label_name = label.replace('_', ' ').title()\n",
    "            entries[label_name] = handle\n",
    "    legend = fig.legend(\n",
    "        entries.values(), entries.keys(),\n",
    "        loc='lower center', bbox_to_anchor=(0.5, 0),\n",
    "        ncol=4,\n",
    "        fontsize=11,\n",
    "        title='Life-Cycle Phase',\n",
    "        title_fontsize=12\n",
    "    )\n",
    "\n",
    "    # Set tight layout while keeping legend in the screen\n",
    "    bbox = legend.get_window_extent(fig.canvas.get_renderer()).transformed(fig.transFigure.inverted())\n",
    "    fig.tight_layout(rect=(0, bbox.y1, 1, 1), h_pad=0.5, w_pad=0.5)\n",
    "    \n",
    "    # show plot\n",
    "    plt.show()\n",
    "\n",
    "# Call the function\n",
    "df_to_plot = process.lca_outputs_df[~process.lca_outputs_df.index.get_level_values('method').str.contains('total')]\n",
    "#df_to_plot = process.lca_outputs_df[process.lca_outputs_df.index.get_level_values('method').str.contains('|'.join(['climate', 'land use', 'material']))]\n",
    "plot_stacked_evolution_subplots(df_to_plot)\n",
    "#plt.savefig('lca_aeromaps_refueleu_fullsolar_loadfactor14percent_midpoints_2.pdf')"
   ],
   "outputs": []
  },
  {
   "cell_type": "markdown",
   "metadata": {},
   "source": [
    "# Post-processing"
   ]
  },
  {
   "cell_type": "code",
   "execution_count": null,
   "metadata": {
    "tags": []
   },
   "source": [
    "model = process.models['life_cycle_assessment'].model\n",
    "\n",
    "dbname = model.key[0]\n",
    "with agb.DbContext(dbname):\n",
    "    process.models['life_cycle_assessment'].compute_impacts_from_lambdas(\n",
    "        rpk_long_range=0,\n",
    "        rpk_medium_range=0,\n",
    "        rpk_short_range=0,\n",
    "        aircraft_production_long_range=0,\n",
    "        aircraft_production_medium_range=0,\n",
    "        aircraft_production_short_range=0,\n",
    "        energy_consumption_kerosene=0,\n",
    "        energy_consumption_biofuel=0,\n",
    "        energy_consumption_electrofuel=1e6,\n",
    "        load_factor_photovoltaic=1\n",
    "    )"
   ],
   "outputs": []
  },
  {
   "cell_type": "markdown",
   "metadata": {},
   "source": [
    "# Draft"
   ]
  },
  {
   "cell_type": "code",
   "execution_count": 34,
   "metadata": {
    "tags": []
   },
   "source": [
    "import lca_algebraic as agb\n",
    "import bw2analyzer as bwa\n",
    "import bw2data\n",
    "import bw2calc"
   ],
   "outputs": []
  },
  {
   "cell_type": "code",
   "execution_count": 63,
   "metadata": {
    "tags": []
   },
   "source": [
    "test = agb.findActivity('hydrogen production, gaseous, 30 bar, from PEM electrolysis, from grid electricity', db_name = 'ecoinvent_cutoff_3.9_remind_SSP2-Base_2050', loc = 'World')\n",
    "test.listExchanges()"
   ],
   "outputs": []
  },
  {
   "cell_type": "code",
   "execution_count": 67,
   "metadata": {
    "tags": []
   },
   "source": [
    "test = agb.findActivity('hydrogen production, gaseous, 30 bar, from PEM electrolysis, from grid electricity\\n[World]\\n(remind_SSP2_Base_2050)',  db_name='Foreground DB')\n",
    "test.listExchanges()"
   ],
   "outputs": []
  },
  {
   "cell_type": "code",
   "execution_count": null,
   "metadata": {},
   "source": [
    "test = agb.findActivity('hydrogen production, gaseous, 30 bar, from PEM electrolysis, from grid electricity\\n[World]\\n(remind_SSP2_Base_2050)',  db_name='Foreground DB')\n",
    "test.listExchanges()"
   ],
   "outputs": []
  },
  {
   "cell_type": "code",
   "execution_count": 72,
   "metadata": {
    "tags": []
   },
   "source": [
    "agb.compute_impacts(\n",
    "    test,\n",
    "    agb.findMethods('material resources: metals/minerals', mainCat='ReCiPe 2016 v1.03, midpoint (H)'),\n",
    "    load_factor_photovoltaic=1.0,\n",
    "    elec_solar_share=1.0\n",
    ")"
   ],
   "outputs": []
  },
  {
   "cell_type": "code",
   "execution_count": 160,
   "metadata": {
    "tags": []
   },
   "source": [
    "import lca_algebraic as agb\n",
    "\n",
    "model = agb.newActivity(\n",
    "    'Foreground DB',\n",
    "    'copy CO2',\n",
    "    unit='kilogram',\n",
    "    exchanges = {agb.findBioAct('water', categories=('air', 'non-urban air or from high stacks')): 1.0}\n",
    "    #exchanges = {agb.findBioAct('carbon dioxide, fossil', categories=('air', 'lower stratosphere + upper troposphere')): 1.0}\n",
    ")\n",
    "#model = agb.findActivity('market_row', db_name='Foreground DB')\n",
    "model.listExchanges()"
   ],
   "outputs": []
  },
  {
   "cell_type": "code",
   "execution_count": 152,
   "metadata": {
    "tags": []
   },
   "source": [
    "agb.findBioAct('water, in air').as_dict()"
   ],
   "outputs": []
  },
  {
   "cell_type": "code",
   "execution_count": 131,
   "metadata": {
    "tags": []
   },
   "source": [
    "agb.findBioAct('water', categories=('air', 'lower stratosphere + upper troposphere')).as_dict()"
   ],
   "outputs": []
  },
  {
   "cell_type": "code",
   "execution_count": 159,
   "metadata": {
    "tags": []
   },
   "source": [
    "agb.findBioAct('*water*', single=False)"
   ],
   "outputs": []
  },
  {
   "cell_type": "code",
   "execution_count": 163,
   "metadata": {
    "tags": []
   },
   "source": [
    "import bw2analyzer as bwa\n",
    "import bw2data\n",
    "import bw2calc\n",
    "\n",
    "lca = bw2calc.LCA(\n",
    "    {model: 1},\n",
    "    #('ReCiPe 2016 v1.03, midpoint (H)', 'climate change',  'global warming potential (GWP100)')\n",
    "    #('ReCiPe 2016 v1.03, midpoint (H)', 'ozone depletion', 'ozone depletion potential (ODPinfinite)')\n",
    "    #('ReCiPe 2016 v1.03, midpoint (H)', 'water use', 'water consumption potential (WCP)')\n",
    "    ('EF v3.1', 'water use', 'user deprivation potential (deprivation-weighted water consumption)')\n",
    "    #('Ecological Scarcity 2021 no LT','water use no LT','water resources, evaporated no LT')\n",
    "    )\n",
    "\n",
    "lca.lci()\n",
    "lca.lcia()\n",
    "\n",
    "print(lca.score)\n",
    "\n",
    "# %% Contribution analysis\n",
    "#lca.lci()\n",
    "#lca.lcia()\n",
    "#lca.characterized_inventory[:,lca.activity_dict.get(model.key)].sum()\n",
    "\n",
    "ca = bwa.ContributionAnalysis()\n",
    "contributions = ca.annotated_top_processes(lca)\n",
    "print(sum([i[0] for i in contributions]))"
   ],
   "outputs": []
  },
  {
   "cell_type": "code",
   "execution_count": null,
   "metadata": {
    "tags": []
   },
   "source": [
    "from functools import wraps\n",
    "\n",
    "def kwargs_decorator():\n",
    "    def wrapper(f):\n",
    "        @wraps(f)\n",
    "        def inner_wrapper(*args, **kwargs):\n",
    "            dict_kwargs = args[0].lca_params\n",
    "            new_kwargs = {**dict_kwargs, **kwargs}\n",
    "            return f(*args, **new_kwargs)\n",
    "        return inner_wrapper\n",
    "    return wrapper\n",
    "\n",
    "class Test:\n",
    "    def __init__(self):\n",
    "        self.lca_params = {'a': 1.0}\n",
    "        \n",
    "    @kwargs_decorator()\n",
    "    def foo(self, **kwargs):\n",
    "        print(kwargs)"
   ],
   "outputs": []
  },
  {
   "cell_type": "code",
   "execution_count": null,
   "metadata": {
    "tags": []
   },
   "source": [
    "test = Test()\n",
    "test.foo()"
   ],
   "outputs": []
  },
  {
   "cell_type": "code",
   "execution_count": null,
   "metadata": {
    "tags": []
   },
   "source": [
    "from functools import wraps\n",
    "import lca_algebraic as agb\n",
    "\n",
    "def kwargs_decorator(dict_kwargs):\n",
    "    def wrapper(f):\n",
    "        @wraps(f)\n",
    "        def inner_wrapper(*args, **kwargs):\n",
    "            # dict_kwargs = args[0].my_dict  # args[0] refer to 'self'\n",
    "            new_kwargs = {**dict_kwargs, **kwargs}\n",
    "            return f(*args, **new_kwargs)\n",
    "        return inner_wrapper\n",
    "    return wrapper\n",
    "\n",
    "\n",
    "def args_decorator(list_args):\n",
    "    def wrapper(f):\n",
    "        @wraps(f)\n",
    "        def inner_wrapper(*args, **kwargs):\n",
    "            # dict_kwargs = args[0].my_dict  # args[0] refer to 'self'\n",
    "            new_args = {*args, *list_args}\n",
    "            return f(*new_args, **kwargs)\n",
    "        return inner_wrapper\n",
    "    return wrapper\n",
    "\n",
    "\n",
    "class Test:\n",
    "        \n",
    "    @args_decorator(agb.all_params().keys())\n",
    "    def foo(self, *args, **kwargs):\n",
    "        return args\n",
    "    \n",
    "    \n",
    "test = Test()\n",
    "test.__init__()\n",
    "res = test.foo()\n",
    "res"
   ],
   "outputs": []
  },
  {
   "cell_type": "code",
   "execution_count": null,
   "metadata": {
    "tags": []
   },
   "source": [
    "from inspect import getfullargspec\n",
    "\n",
    "getfullargspec(test.foo)"
   ],
   "outputs": []
  },
  {
   "cell_type": "code",
   "execution_count": null,
   "metadata": {
    "tags": []
   },
   "source": [
    "list(agb.all_params().keys())"
   ],
   "outputs": []
  },
  {
   "cell_type": "code",
   "execution_count": null,
   "metadata": {},
   "source": [
    "class Test:\n",
    "    def init(self):\n",
    "        self.my_list = ['a', 'b']\n",
    "    \n",
    "    def foo(self, *args, **kwargs):\n",
    "        \n",
    "        \n",
    "        def foo2(\n",
    "        \n",
    "        return args\n",
    "    "
   ],
   "outputs": []
  },
  {
   "cell_type": "code",
   "execution_count": null,
   "metadata": {
    "tags": []
   },
   "source": [
    "test = ['q', 1.0]\n",
    "\n",
    "any(isinstance(elem, str) for elem in test)"
   ],
   "outputs": []
  },
  {
   "cell_type": "code",
   "execution_count": null,
   "metadata": {
    "tags": []
   },
   "source": [
    "agb.findMethods?"
   ],
   "outputs": []
  },
  {
   "cell_type": "code",
   "execution_count": null,
   "metadata": {
    "tags": []
   },
   "source": [
    "import lca_algebraic as agb\n",
    "\n",
    "agb.findMethods('',mainCat='ReCiPe 2016 v1.03, endpoint (H)')"
   ],
   "outputs": []
  },
  {
   "cell_type": "code",
   "execution_count": null,
   "metadata": {},
   "source": [],
   "outputs": []
  },
  {
   "cell_type": "code",
   "execution_count": null,
   "metadata": {},
   "source": [],
   "outputs": []
  },
  {
   "cell_type": "code",
   "execution_count": null,
   "metadata": {
    "tags": []
   },
   "source": [
    "import brightway2 as bw\n",
    "from dotenv import load_dotenv\n",
    "import bw2io\n",
    "import bw2data\n",
    "import os\n",
    "import lca_algebraic as agb\n",
    "\n",
    "bw2data.projects.set_current('example_methodology_ei391')\n",
    "db = bw.Database('ecoinvent_cutoff_3.9_remind_SSP2-Base_2020')\n",
    "#db = bw.Database('biosphere3')"
   ],
   "outputs": []
  },
  {
   "cell_type": "code",
   "execution_count": null,
   "metadata": {
    "tags": []
   },
   "source": [
    "[act for act in db if 'Carbon dioxide' in act['name']]"
   ],
   "outputs": []
  },
  {
   "cell_type": "code",
   "execution_count": null,
   "metadata": {
    "tags": []
   },
   "source": [
    "[act for act in db if 'kerosene production, via Fischer-Tropsch' in act['name']]"
   ],
   "outputs": []
  },
  {
   "cell_type": "code",
   "execution_count": null,
   "metadata": {
    "tags": []
   },
   "source": [
    "act"
   ],
   "outputs": []
  },
  {
   "cell_type": "code",
   "execution_count": null,
   "metadata": {
    "tags": []
   },
   "source": [
    "act.as_dict()"
   ],
   "outputs": []
  },
  {
   "cell_type": "code",
   "execution_count": null,
   "metadata": {},
   "source": [],
   "outputs": []
  },
  {
   "cell_type": "code",
   "execution_count": null,
   "metadata": {
    "tags": []
   },
   "source": [
    "import lca_algebraic as agb\n",
    "import pandas as pd\n",
    "from sympy.parsing.sympy_parser import parse_expr\n",
    "from sympy import Float\n",
    "import bw2data\n",
    "from typing import List, Union\n",
    "\n",
    "USER_DB = 'Foreground DB'\n",
    "DEFAULT_PROJECT = 'lcav_default_project'\n",
    "\n",
    "\n",
    "def list_processes(model, foreground_only: bool = True, custom_attribute: str = None) -> pd.DataFrame:\n",
    "    \"\"\"\n",
    "    Traverses the tree of sub-activities (sub-processes) until background database is reached.\n",
    "    \"\"\"\n",
    "\n",
    "    def _recursive_activities(act,\n",
    "                              activities, units, locations, parents, exchanges, levels, dbs, custom_attributes,\n",
    "                              parent: str = \"\", exc: dict = None, level: int = 0):\n",
    "\n",
    "        if exc is None:\n",
    "            exc = {}\n",
    "        name = act.as_dict()['name']\n",
    "        unit = act.as_dict()['unit']\n",
    "        loc = act.as_dict().get('location', \"\")\n",
    "        if loc not in ['GLO', '']:\n",
    "            name += f' [{loc}]'\n",
    "        exchange = _getAmountOrFormula(exc)\n",
    "        db = act.as_dict()['database']\n",
    "        custom_attr = act.as_dict().get(custom_attribute, \"\")  # get any additional attribute asked by the user\n",
    "\n",
    "        # Stop BEFORE reaching the first level of background activities\n",
    "        if foreground_only and db != USER_DB:\n",
    "            return\n",
    "\n",
    "        activities.append(name)\n",
    "        units.append(unit)\n",
    "        locations.append(loc)\n",
    "        parents.append(parent)\n",
    "        exchanges.append(exchange)\n",
    "        levels.append(level)\n",
    "        dbs.append(db)\n",
    "        custom_attributes.append(custom_attr)\n",
    "\n",
    "        # Stop AFTER reaching the first level of background activities\n",
    "        if db != USER_DB:\n",
    "            return\n",
    "\n",
    "        for exc in act.exchanges():\n",
    "            if exc.input != act:\n",
    "                _recursive_activities(exc.input, activities, units, locations, parents, exchanges, levels, dbs, custom_attributes,\n",
    "                                      parent=name,\n",
    "                                      exc=exc,\n",
    "                                      level=level + 1)\n",
    "        return\n",
    "\n",
    "    # Initialize lists\n",
    "    activities = []\n",
    "    units = []\n",
    "    locations = []\n",
    "    parents = []\n",
    "    exchanges = []\n",
    "    levels = []\n",
    "    dbs = []\n",
    "    custom_attributes = []\n",
    "\n",
    "    # Recursively populate lists\n",
    "    _recursive_activities(model, activities, units, locations, parents, exchanges, levels, dbs, custom_attributes)\n",
    "    data = {'activity': activities,\n",
    "            'unit': units,\n",
    "            'location': locations,\n",
    "            'level': levels,\n",
    "            'database': dbs,\n",
    "            'parent': parents,\n",
    "            'exchange': exchanges,\n",
    "            }\n",
    "    if custom_attribute:\n",
    "        data[custom_attribute] = custom_attributes\n",
    "\n",
    "    # Create DataFrame\n",
    "    df = pd.DataFrame(data, index=activities)\n",
    "\n",
    "    return df\n",
    "\n",
    "\n",
    "def get_parameter(key: str):\n",
    "    param = agb.params._param_registry().__getitem__(key)\n",
    "    return param\n",
    "\n",
    "\n",
    "def expandParams(param, value=None):\n",
    "    \"\"\"\n",
    "    Modified version of expandParams from classes EnumParam and ParamDef from lca_algebraic library.\n",
    "    For enum (switch) parameters, returns a dictionary of single enum values as sympy symbols,\n",
    "    with only a single one set to 1.\n",
    "    For float parameters, returns a dictionary with either the user-provided value or the default parameter value.\n",
    "    \"\"\"\n",
    "\n",
    "    # Enum (e.g. switch) parameters\n",
    "    if param['type'] == 'enum':\n",
    "        values = param['values'] + [None]\n",
    "\n",
    "        # Bad value ?\n",
    "        if value not in values:\n",
    "            raise Exception(\"Invalid value %s for param %s. Should be in %s\" %\n",
    "                            (value, param['name'], str(param['values'])))\n",
    "\n",
    "        res = dict()\n",
    "        for enum_val in values:\n",
    "            var_name = \"%s_%s\" % (param['name'], enum_val if enum_val is not None else \"default\")\n",
    "            res[var_name] = 1.0 if enum_val == value else 0.0\n",
    "        return res\n",
    "\n",
    "    # Float parameters\n",
    "    else:\n",
    "        if value is None:\n",
    "            value = param['default']\n",
    "        return {param['name']: value}\n",
    "\n",
    "\n",
    "def completeParamValues(params, param_registry, setDefaults=True):\n",
    "    \"\"\"\n",
    "    Modified version of completeParamValues from lca_algebraic library.\n",
    "    Sets default values for missing parameters and expand enum params.\n",
    "\n",
    "    Returns\n",
    "    -------\n",
    "        Dict of param_name => float value\n",
    "    \"\"\"\n",
    "\n",
    "    # Set default variables for missing values\n",
    "    if setDefaults:\n",
    "        for name, param in param_registry.items():\n",
    "            if not name in params:\n",
    "                params[name] = param['default']\n",
    "                agb.warn(\n",
    "                    \"Required param '%s' was missing, replacing by default value : %s\" % (name, str(param['default'])))\n",
    "\n",
    "    res = dict()\n",
    "    for key, val in params.items():\n",
    "        if key in param_registry:\n",
    "            param = param_registry[key]\n",
    "        else:\n",
    "            continue\n",
    "            # raise Exception(\"Parameter not found : %s. Valid parameters : %s\" % (key, list(param_registry.keys())))\n",
    "\n",
    "        if isinstance(val, list):\n",
    "            newvals = [expandParams(param, val) for val in val]\n",
    "            res.update(agb.params._listOfDictToDictOflist(newvals))\n",
    "        else:\n",
    "            res.update(expandParams(param, val))\n",
    "\n",
    "    return res\n",
    "\n",
    "\n",
    "def format_number(num, precision=2):\n",
    "    \"\"\"\n",
    "    This function takes a number (either a Python float or a SymPy Float) and a precision,\n",
    "    and returns a string that represents the number with the given precision.\n",
    "    If the number is too large or too small, it switches to scientific notation.\n",
    "\n",
    "    :param num: The number to format.\n",
    "    :param precision: The number of decimal places to use.\n",
    "    :return: A string that represents the number with the given precision.\n",
    "    \"\"\"\n",
    "    if isinstance(num, Float):  # SymPy float\n",
    "        num = num.evalf()\n",
    "    sci_num = \"{:.{}e}\".format(num, precision)\n",
    "    if 'e+00' in sci_num:\n",
    "        return \"{:.{}f}\".format(num, precision)\n",
    "    else:\n",
    "        return sci_num\n",
    "\n",
    "\n",
    "def _getAmountOrFormula(ex):\n",
    "    \"\"\" Return either a fixed float value or an expression for the amount of this exchange\"\"\"\n",
    "    if 'formula' in ex:\n",
    "        expr = parse_expr(ex['formula'])\n",
    "        try:\n",
    "            float(expr)\n",
    "            return format_number(float(expr))\n",
    "        except TypeError:\n",
    "            return expr\n",
    "    elif 'amount' in ex:\n",
    "        return format_number(ex['amount'])\n",
    "    return \"\"\n",
    "\n",
    "\n",
    "def safe_delete_brightway_project(projectname: str) -> None:\n",
    "    try:\n",
    "        bw2data.projects.delete_project(\n",
    "            name = projectname,\n",
    "            delete_dir = True\n",
    "        )\n",
    "    except:\n",
    "        pass"
   ],
   "outputs": []
  },
  {
   "cell_type": "code",
   "execution_count": null,
   "metadata": {
    "tags": []
   },
   "source": [
    "model = agb.findActivity('model', db_name='Foreground DB')\n",
    "model = agb.findActivity('kerosene production, synthetic, Fischer Tropsch process, hydrogen from electrolysis, energy allocation', \n",
    "                         loc='World',\n",
    "                         db_name='ecoinvent_cutoff_3.9_remind_SSP2-Base_2050')"
   ],
   "outputs": []
  },
  {
   "cell_type": "code",
   "execution_count": null,
   "metadata": {
    "tags": []
   },
   "source": [
    "from IPython.display import display\n",
    "\n",
    "#total_elec = 0\n",
    "total_elec = 0.015703571134020617\n",
    "\n",
    "for exc in model.exchanges():\n",
    "    res = agb.compute_impacts(\n",
    "        exc.input, \n",
    "        agb.findMethods(\"'ReCiPe 2016 v1.03, midpoint (H)', 'climate change', 'global warming potential (GWP100)'\")\n",
    "    )\n",
    "    print(exc.amount / total_elec * 100)\n",
    "    display(res)\n",
    "    #if 'electricity' in exc.input.as_dict()['name']:\n",
    "    #    total_elec+=exc.amount\n",
    "        \n",
    "print(total_elec)"
   ],
   "outputs": []
  },
  {
   "cell_type": "code",
   "execution_count": null,
   "metadata": {
    "tags": []
   },
   "source": [
    "agb.findMethods(\"'ReCiPe 2016 v1.03, midpoint (H)', 'climate change', 'global warming potential (GWP100)'\")"
   ],
   "outputs": []
  },
  {
   "cell_type": "code",
   "execution_count": null,
   "metadata": {
    "tags": []
   },
   "source": [
    "model = agb.findActivity('kerosene production, synthetic, Fischer Tropsch process, hydrogen from electrolysis, energy allocation', \n",
    "                         loc='World',\n",
    "                         db_name='ecoinvent_cutoff_3.9_remind_SSP2-Base_2020')\n",
    "name = 'market group for electricity*'\n",
    "model.getExchange(name, single='*' not in name)"
   ],
   "outputs": []
  },
  {
   "cell_type": "code",
   "execution_count": null,
   "metadata": {
    "tags": []
   },
   "source": [
    "[exc.input.as_dict()['name'] for exc in model.exchanges()]"
   ],
   "outputs": []
  },
  {
   "cell_type": "code",
   "execution_count": null,
   "metadata": {},
   "source": [],
   "outputs": []
  }
 ],
 "metadata": {
  "celltoolbar": "Diaporama",
  "kernelspec": {
   "display_name": "Python 3 (ipykernel)",
   "language": "python",
   "name": "python3"
  },
  "language_info": {
   "codemirror_mode": {
    "name": "ipython",
    "version": 3
   },
   "file_extension": ".py",
   "mimetype": "text/x-python",
   "name": "python",
   "nbconvert_exporter": "python",
   "pygments_lexer": "ipython3",
   "version": "3.10.14"
  }
 },
 "nbformat": 4,
 "nbformat_minor": 4
}
