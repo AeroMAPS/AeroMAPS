{
 "cells": [
  {
   "cell_type": "markdown",
   "metadata": {},
   "source": [
    "# Example for life cycle assessment module of AeroMAPS\n"
   ]
  },
  {
   "cell_type": "markdown",
   "metadata": {
    "slideshow": {
     "slide_type": "slide"
    }
   },
   "source": [
    "## Load and process\n",
    "\n",
    "First, the user has to load the framework and generate a process."
   ]
  },
  {
   "cell_type": "code",
   "execution_count": 1,
   "metadata": {
    "slideshow": {
     "slide_type": "subslide"
    },
    "tags": []
   },
   "source": [
    "%matplotlib widget\n",
    "import pandas as pd\n",
    "from aeromaps.core.process import create_process\n",
    "from aeromaps.core.models import (\n",
    "    models_traffic,\n",
    "    models_efficiency_top_down,\n",
    "    models_energy_without_fuel_effect,\n",
    "    models_offset,\n",
    "    models_climate_simple_gwpstar,\n",
    "    models_sustainability,\n",
    ")\n",
    "from aeromaps.models.impacts.life_cycle_assessment.life_cycle_assessment import LifeCycleAssessment"
   ],
   "outputs": []
  },
  {
   "cell_type": "code",
   "execution_count": 2,
   "metadata": {
    "tags": []
   },
   "source": [
    "extended_models = {\n",
    "    \"models_traffic\": models_traffic,\n",
    "    \"models_efficiency_top_down\": models_efficiency_top_down,\n",
    "    \"models_energy_without_fuel_effect\": models_energy_without_fuel_effect,\n",
    "    \"models_offset\": models_offset,\n",
    "    \"models_climate_simple_gwpstar\": models_climate_simple_gwpstar,\n",
    "    \"models_sustainability\": models_sustainability,\n",
    "    \"life_cycle_assessment\": LifeCycleAssessment(\n",
    "        \"life_cycle_assessment\"\n",
    "    ),\n",
    "}"
   ],
   "outputs": []
  },
  {
   "cell_type": "code",
   "execution_count": 3,
   "metadata": {
    "slideshow": {
     "slide_type": "subslide"
    },
    "tags": []
   },
   "source": [
    "process = create_process(configuration_file=\"data_files/config.json\", models=extended_models)"
   ],
   "outputs": []
  },
  {
   "cell_type": "code",
   "execution_count": 4,
   "metadata": {
    "tags": []
   },
   "source": [
    "#process.list_float_inputs()"
   ],
   "outputs": []
  },
  {
   "cell_type": "markdown",
   "metadata": {
    "slideshow": {
     "slide_type": "slide"
    }
   },
   "source": [
    "## Compute\n",
    "\n",
    "Once all the parameters have been set up, the user can compute."
   ]
  },
  {
   "cell_type": "code",
   "execution_count": 5,
   "metadata": {
    "slideshow": {
     "slide_type": "subslide"
    },
    "tags": []
   },
   "source": [
    "process.compute()"
   ],
   "outputs": []
  },
  {
   "cell_type": "markdown",
   "metadata": {},
   "source": [
    "## Results\n",
    "\n",
    "The user can then display the results. The user has access to float outputs but also to annual data outputs, with the possibility of choosing the output."
   ]
  },
  {
   "cell_type": "code",
   "execution_count": 6,
   "metadata": {
    "tags": []
   },
   "source": [
    "process.data['vector_outputs']"
   ],
   "outputs": []
  },
  {
   "cell_type": "code",
   "execution_count": 7,
   "metadata": {
    "tags": []
   },
   "source": [
    "process.climate_outputs_df"
   ],
   "outputs": []
  },
  {
   "cell_type": "code",
   "execution_count": 11,
   "metadata": {
    "tags": []
   },
   "source": [
    "process.lca_outputs_df.T"
   ],
   "outputs": []
  },
  {
   "cell_type": "code",
   "execution_count": null,
   "metadata": {},
   "source": [],
   "outputs": []
  },
  {
   "cell_type": "code",
   "execution_count": null,
   "metadata": {},
   "source": [],
   "outputs": []
  },
  {
   "cell_type": "markdown",
   "metadata": {},
   "source": [
    "# Draft"
   ]
  },
  {
   "cell_type": "code",
   "execution_count": null,
   "metadata": {
    "tags": []
   },
   "source": [
    "from functools import wraps\n",
    "\n",
    "def kwargs_decorator():\n",
    "    def wrapper(f):\n",
    "        @wraps(f)\n",
    "        def inner_wrapper(*args, **kwargs):\n",
    "            dict_kwargs = args[0].lca_params\n",
    "            new_kwargs = {**dict_kwargs, **kwargs}\n",
    "            return f(*args, **new_kwargs)\n",
    "        return inner_wrapper\n",
    "    return wrapper\n",
    "\n",
    "class Test:\n",
    "    def __init__(self):\n",
    "        self.lca_params = {'a': 1.0}\n",
    "        \n",
    "    @kwargs_decorator()\n",
    "    def foo(self, **kwargs):\n",
    "        print(kwargs)"
   ],
   "outputs": []
  },
  {
   "cell_type": "code",
   "execution_count": null,
   "metadata": {
    "tags": []
   },
   "source": [
    "test = Test()\n",
    "test.foo()"
   ],
   "outputs": []
  },
  {
   "cell_type": "code",
   "execution_count": null,
   "metadata": {
    "tags": []
   },
   "source": [
    "from functools import wraps\n",
    "import lca_algebraic as agb\n",
    "\n",
    "def kwargs_decorator(dict_kwargs):\n",
    "    def wrapper(f):\n",
    "        @wraps(f)\n",
    "        def inner_wrapper(*args, **kwargs):\n",
    "            # dict_kwargs = args[0].my_dict  # args[0] refer to 'self'\n",
    "            new_kwargs = {**dict_kwargs, **kwargs}\n",
    "            return f(*args, **new_kwargs)\n",
    "        return inner_wrapper\n",
    "    return wrapper\n",
    "\n",
    "\n",
    "def args_decorator(list_args):\n",
    "    def wrapper(f):\n",
    "        @wraps(f)\n",
    "        def inner_wrapper(*args, **kwargs):\n",
    "            # dict_kwargs = args[0].my_dict  # args[0] refer to 'self'\n",
    "            new_args = {*args, *list_args}\n",
    "            return f(*new_args, **kwargs)\n",
    "        return inner_wrapper\n",
    "    return wrapper\n",
    "\n",
    "\n",
    "class Test:\n",
    "        \n",
    "    @args_decorator(agb.all_params().keys())\n",
    "    def foo(self, *args, **kwargs):\n",
    "        return args\n",
    "    \n",
    "    \n",
    "test = Test()\n",
    "test.__init__()\n",
    "res = test.foo()\n",
    "res"
   ],
   "outputs": []
  },
  {
   "cell_type": "code",
   "execution_count": null,
   "metadata": {
    "tags": []
   },
   "source": [
    "from inspect import getfullargspec\n",
    "\n",
    "getfullargspec(test.foo)"
   ],
   "outputs": []
  },
  {
   "cell_type": "code",
   "execution_count": null,
   "metadata": {
    "tags": []
   },
   "source": [
    "list(agb.all_params().keys())"
   ],
   "outputs": []
  },
  {
   "cell_type": "code",
   "execution_count": null,
   "metadata": {},
   "source": [
    "class Test:\n",
    "    def init(self):\n",
    "        self.my_list = ['a', 'b']\n",
    "    \n",
    "    def foo(self, *args, **kwargs):\n",
    "        \n",
    "        \n",
    "        def foo2(\n",
    "        \n",
    "        return args\n",
    "    "
   ],
   "outputs": []
  },
  {
   "cell_type": "code",
   "execution_count": null,
   "metadata": {
    "tags": []
   },
   "source": [
    "test = ['q', 1.0]\n",
    "\n",
    "any(isinstance(elem, str) for elem in test)"
   ],
   "outputs": []
  },
  {
   "cell_type": "code",
   "execution_count": null,
   "metadata": {},
   "source": [],
   "outputs": []
  }
 ],
 "metadata": {
  "celltoolbar": "Diaporama",
  "kernelspec": {
   "display_name": "Python 3 (ipykernel)",
   "language": "python",
   "name": "python3"
  },
  "language_info": {
   "codemirror_mode": {
    "name": "ipython",
    "version": 3
   },
   "file_extension": ".py",
   "mimetype": "text/x-python",
   "name": "python",
   "nbconvert_exporter": "python",
   "pygments_lexer": "ipython3",
   "version": "3.10.14"
  }
 },
 "nbformat": 4,
 "nbformat_minor": 4
}
