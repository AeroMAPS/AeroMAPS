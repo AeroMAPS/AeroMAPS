{
 "cells": [
  {
   "cell_type": "markdown",
   "id": "23c89ead-e80d-4557-bc08-3ce5465005f9",
   "metadata": {},
   "source": [
    "Notebook for Optim application. Notebook for supplementary material of a submitted publication. \n",
    "\n",
    "### Imports and settings"
   ]
  },
  {
   "cell_type": "code",
   "execution_count": 1,
   "id": "f479de1f-5757-45d7-b718-03ea76b4851f",
   "metadata": {
    "tags": []
   },
   "outputs": [
    {
     "data": {
      "text/plain": [
       "<RootLogger root (INFO)>"
      ]
     },
     "execution_count": 1,
     "metadata": {},
     "output_type": "execute_result"
    }
   ],
   "source": [
    "import matplotlib.pyplot as plt\n",
    "import pandas as pd\n",
    "import numpy as np\n",
    "import json\n",
    "\n",
    "\n",
    "%matplotlib widget\n",
    "import time\n",
    "import numpy as np\n",
    "from aeromaps import create_process\n",
    "from aeromaps.core.models import (\n",
    "    models_optim_simple,\n",
    ")\n",
    "\n",
    "import gemseo as gm\n",
    "gm.configure_logger()"
   ]
  },
  {
   "cell_type": "code",
   "execution_count": 2,
   "id": "dc7c71e7-e7b1-4c61-8530-37b989dee180",
   "metadata": {
    "tags": []
   },
   "outputs": [],
   "source": [
    "# # Define the quantity range\n",
    "# quantity = np.linspace(1, 16, 1000)  # Define quantity range\n",
    "\n",
    "# # Constant elasticity demand function: P = a * Q^(-1/b)\n",
    "# a = 17\n",
    "# b = 0.4\n",
    "# price = (a / quantity) ** (1 / b)\n",
    "\n",
    "# # Market prices\n",
    "# market_price = 2\n",
    "# market_price_1 = 4\n",
    "\n",
    "# # Plotting the demand curve\n",
    "# plt.figure(figsize=(10, 6))\n",
    "# plt.plot(quantity, price, label=\"Demand Curve\", color=\"#031926\")\n",
    "\n",
    "# # Highlighting the consumer surplus area for the first market price\n",
    "# plt.fill_between(\n",
    "#     quantity,\n",
    "#     market_price,\n",
    "#     price,\n",
    "#     where=(price >= market_price),\n",
    "#     interpolate=True,\n",
    "#     color=\"#9DBEBB\",\n",
    "#     alpha=0.5,\n",
    "#     label=\"Initial Surplus\",\n",
    "# )\n",
    "\n",
    "# # Highlighting the additional consumer surplus area for the second market price\n",
    "# plt.fill_between(\n",
    "#     quantity,\n",
    "#     market_price,\n",
    "#     price,\n",
    "#     where=((price >= market_price) & (price <= market_price_1)),\n",
    "#     interpolate=False,\n",
    "#     facecolor=\"none\",\n",
    "#     edgecolor=\"#41625F\",\n",
    "#     alpha=1,\n",
    "#     hatch=\"/\",\n",
    "#     linewidth=0,\n",
    "# )\n",
    "\n",
    "# # Highlighting the additional consumer surplus area for the second market price\n",
    "# plt.fill_between(\n",
    "#     quantity,\n",
    "#     market_price,\n",
    "#     market_price_1,\n",
    "#     where=((price >= market_price_1 - 0.01)),\n",
    "#     interpolate=False,\n",
    "#     facecolor=\"none\",\n",
    "#     edgecolor=\"#41625F\",\n",
    "#     alpha=1,\n",
    "#     linewidth=0,\n",
    "#     hatch=\"/\",\n",
    "# )\n",
    "\n",
    "# # Adding the equilibrium price lines\n",
    "\n",
    "# plt.fill_between(\n",
    "#     quantity,\n",
    "#     market_price - 0.8,\n",
    "#     market_price,\n",
    "#     where=((price >= market_price)),\n",
    "#     interpolate=False,\n",
    "#     color=\"#D38F22\",\n",
    "#     alpha=0.5,\n",
    "#     label=\"Initial Profit\",\n",
    "# )\n",
    "\n",
    "# plt.fill_between(\n",
    "#     quantity,\n",
    "#     market_price - 0.8,\n",
    "#     market_price,\n",
    "#     where=((price <= market_price_1) & (price >= market_price)),\n",
    "#     interpolate=False,\n",
    "#     color=\"none\",\n",
    "#     edgecolor=\"#9E6B1A\",\n",
    "#     alpha=1,\n",
    "#     linewidth=1,\n",
    "#     hatch=\"\\\\\",\n",
    "# )\n",
    "\n",
    "\n",
    "# plt.fill_between(\n",
    "#     quantity,\n",
    "#     market_price_1,\n",
    "#     market_price_1_notax,\n",
    "#     where=((price >= market_price_1)),\n",
    "#     interpolate=False,\n",
    "#     color=\"none\",\n",
    "#     edgecolor=\"#A86185\",\n",
    "#     alpha=1,\n",
    "#     linewidth=1,\n",
    "#     hatch=\".\",\n",
    "# )\n",
    "\n",
    "\n",
    "# plt.axhline(\n",
    "#     y=market_price - 0.8, color=\"#D38F22\", linestyle=\"--\", linewidth=2, label=\"Initial Average Cost\"\n",
    "# )\n",
    "# plt.axhline(y=market_price, color=\"#D38F22\", linestyle=\":\", linewidth=2, label=\"Initial Price\")\n",
    "\n",
    "# plt.axhline(y=market_price_1, color=\"#D90F08\", linestyle=\":\", linewidth=2, label=\"New Price\")\n",
    "\n",
    "# market_price_1_notax = market_price + 0.6 * (-market_price + market_price_1)\n",
    "\n",
    "# plt.axhline(\n",
    "#     y=market_price_1_notax,\n",
    "#     color=\"#D90F08\",\n",
    "#     linestyle=\"-.\",\n",
    "#     linewidth=2,\n",
    "#     label=\"New price without tax\",\n",
    "# )\n",
    "\n",
    "\n",
    "# # Adding P1 and P2 at the intersection of the demand curve with market prices\n",
    "# P1 = quantity[np.abs(price - market_price).argmin()]\n",
    "# P2 = quantity[np.abs(price - market_price_1).argmin()]\n",
    "# plt.scatter([P1, P2], [market_price, market_price_1], color=\"black\")\n",
    "# plt.text(\n",
    "#     P1 + 0.2,\n",
    "#     market_price + 0.2,\n",
    "#     \" E1\",\n",
    "#     verticalalignment=\"bottom\",\n",
    "#     horizontalalignment=\"right\",\n",
    "#     color=\"black\",\n",
    "#     fontsize=14,\n",
    "# )\n",
    "# plt.text(\n",
    "#     P2 + 0.2,\n",
    "#     market_price_1 + 0.2,\n",
    "#     \" E2\",\n",
    "#     verticalalignment=\"bottom\",\n",
    "#     horizontalalignment=\"right\",\n",
    "#     color=\"black\",\n",
    "#     fontsize=14,\n",
    "# )\n",
    "\n",
    "# # Adding text in the lost surplus zone\n",
    "# plt.text(\n",
    "#     10,\n",
    "#     (market_price + market_price_1) / 2.3,\n",
    "#     \"Lost Surplus\",\n",
    "#     verticalalignment=\"center\",\n",
    "#     horizontalalignment=\"center\",\n",
    "#     color=\"black\",\n",
    "#     fontsize=14,\n",
    "#     bbox=dict(facecolor=\"#C2D6D4\", alpha=1, boxstyle=\"round\"),\n",
    "# )\n",
    "\n",
    "# plt.text(\n",
    "#     11.2,\n",
    "#     (market_price - 0.42),\n",
    "#     \"Lost Profit\",\n",
    "#     verticalalignment=\"center\",\n",
    "#     horizontalalignment=\"center\",\n",
    "#     color=\"black\",\n",
    "#     fontsize=14,\n",
    "#     bbox=dict(facecolor=\"#EBC484\", alpha=1, boxstyle=\"round\"),\n",
    "# )\n",
    "\n",
    "# plt.text(\n",
    "#     8,\n",
    "#     (market_price_1_notax + 0.4),\n",
    "#     \"Extra tax raised\",\n",
    "#     verticalalignment=\"center\",\n",
    "#     horizontalalignment=\"center\",\n",
    "#     color=\"black\",\n",
    "#     fontsize=14,\n",
    "#     bbox=dict(facecolor=\"#B77B99\", alpha=1, boxstyle=\"round\"),\n",
    "# )\n",
    "\n",
    "\n",
    "# # Adding arrows and text between each hline\n",
    "\n",
    "# # Arrow and text between Initial Price and Initial Average Cost\n",
    "# plt.annotate(\n",
    "#     \"\",\n",
    "#     xy=(13.2, market_price_1_notax),\n",
    "#     xytext=(13.2, market_price_1),\n",
    "#     arrowprops=dict(arrowstyle=\"<->\", color=\"black\"),\n",
    "# )\n",
    "# plt.text(\n",
    "#     13.4,\n",
    "#     (market_price_1_notax + market_price_1) / 2,\n",
    "#     \"Price increase: extra tax\",\n",
    "#     verticalalignment=\"center\",\n",
    "#     horizontalalignment=\"left\",\n",
    "#     color=\"black\",\n",
    "#     fontsize=12,\n",
    "# )\n",
    "\n",
    "# # Arrow and text between Initial Price and New Price\n",
    "# plt.annotate(\n",
    "#     \"\",\n",
    "#     xy=(13.2, market_price),\n",
    "#     xytext=(13.2, market_price_1_notax),\n",
    "#     arrowprops=dict(arrowstyle=\"<->\", color=\"black\"),\n",
    "# )\n",
    "# plt.text(\n",
    "#     13.4,\n",
    "#     (market_price + market_price_1) / 2.2,\n",
    "#     \"Price increase: change in cost\",\n",
    "#     verticalalignment=\"center\",\n",
    "#     horizontalalignment=\"left\",\n",
    "#     color=\"black\",\n",
    "#     fontsize=12,\n",
    "# )\n",
    "\n",
    "\n",
    "# # Labels and title\n",
    "# plt.xlabel(\"Demand\", fontsize=14)\n",
    "\n",
    "# plt.ylabel(\"Price\", fontsize=14)\n",
    "\n",
    "# # Customizing ticks\n",
    "# plt.xticks([])\n",
    "# plt.yticks([0])\n",
    "# plt.xlim(7, 16)\n",
    "# plt.ylim(0, 7)\n",
    "\n",
    "# plt.legend(fontsize=14, ncol=2)\n",
    "# plt.tight_layout()\n",
    "# plt.savefig(\"CS_simple.pdf\")"
   ]
  },
  {
   "cell_type": "markdown",
   "id": "927e248c-3b8e-4850-91f3-88f57d09f94e",
   "metadata": {},
   "source": [
    "# 1- Scenario initialisation and settings\n",
    "\n",
    "The first phase corresponds to running a first, central scenario with AeroMAPS. Other runs ar performed afterwards."
   ]
  },
  {
   "cell_type": "code",
   "execution_count": 3,
   "id": "95709522-84bd-44a0-a63a-7374c6aeea65",
   "metadata": {
    "tags": []
   },
   "outputs": [],
   "source": [
    "from aeromaps.utils.functions import create_partitioning"
   ]
  },
  {
   "cell_type": "code",
   "execution_count": 4,
   "id": "46971271-e2f4-442a-ba03-11c4398a9058",
   "metadata": {
    "tags": []
   },
   "outputs": [],
   "source": [
    "create_partitioning(file=\"data_optim/aeroscope_europe_data.csv\", path=\"data_optim\")"
   ]
  },
  {
   "cell_type": "markdown",
   "id": "221c45a8-b4b1-4650-a767-b32210de8098",
   "metadata": {},
   "source": [
    "## 2. Run AeroMAPS on this studied scope"
   ]
  },
  {
   "cell_type": "code",
   "execution_count": 5,
   "id": "60e7a4d4-bd84-44d9-b649-aa0e8c86b1a1",
   "metadata": {
    "tags": []
   },
   "outputs": [],
   "source": [
    "%matplotlib widget\n",
    "from aeromaps import create_process\n",
    "from aeromaps.core.models import default_models_top_down"
   ]
  },
  {
   "cell_type": "code",
   "execution_count": 6,
   "id": "2cc981cb-d0b9-41e8-99a8-912fec7d7d58",
   "metadata": {
    "tags": []
   },
   "outputs": [],
   "source": [
    "models = {\n",
    "    \"models_optim_simple\": models_optim_simple,\n",
    "}"
   ]
  },
  {
   "cell_type": "markdown",
   "id": "b397a078-2985-406d-bee8-55afd2568261",
   "metadata": {},
   "source": [
    "Create process as usual, the partitionning is recuperated as specified in the config file."
   ]
  },
  {
   "cell_type": "code",
   "execution_count": 7,
   "id": "1f086770-d53a-44f3-97d0-336fd7a40cac",
   "metadata": {
    "tags": []
   },
   "outputs": [],
   "source": [
    "process = create_process(\n",
    "    configuration_file=\"data_optim/config.json\",\n",
    "    models=models,\n",
    "    use_fleet_model=False\n",
    ")"
   ]
  },
  {
   "cell_type": "markdown",
   "id": "0ef8e51e-dd99-4707-b2ae-86fc8d9a8e5e",
   "metadata": {
    "tags": []
   },
   "source": [
    "## 1-a) Air traffic evolution\n",
    "\n",
    "As of April 2024, AeroMAPS is considering an exgenous growth rate.\n",
    "For the purposes of this article, an uniform growth rate of 3% is set. This is significantly lower from industry prospects such as [Airbus GMF: 3.6%](https://www.airbus.com/en/products-services/commercial-aircraft/market/global-market-forecast) or [Boeing CMO: 3.8%](https://www.boeing.com/content/dam/boeing/boeingdotcom/market/assets/downloads/CMO_2022_Report_FINAL_v02.pdf), but higher than [IEA Net Zero: 2.1% (2019 as base year)](https://www.iea.org/reports/net-zero-roadmap-a-global-pathway-to-keep-the-15-0c-goal-in-reach).\n"
   ]
  },
  {
   "cell_type": "code",
   "execution_count": 8,
   "id": "a5f79996-e6ef-4434-8844-11a93122c3f2",
   "metadata": {
    "tags": []
   },
   "outputs": [],
   "source": [
    "## Growth rate by category [%]\n",
    "process.parameters.cagr_passenger_short_range_reference_periods = []\n",
    "process.parameters.cagr_passenger_short_range_reference_periods_values = [-8.0]\n",
    "process.parameters.cagr_passenger_medium_range_reference_periods = []\n",
    "process.parameters.cagr_passenger_medium_range_reference_periods_values = [-8.0]\n",
    "# process.parameters.cagr_passenger_long_range_reference_periods = []\n",
    "# process.parameters.cagr_passenger_long_range_reference_periods_values = [1.0]\n",
    "# process.parameters.cagr_freight_reference_periods = []\n",
    "# process.parameters.cagr_freight_reference_periods_values = [1.0]"
   ]
  },
  {
   "cell_type": "markdown",
   "id": "99ad83c8-eb43-46a2-968b-e495905b9cd2",
   "metadata": {
    "tags": []
   },
   "source": [
    "## 1-b) Aircraft fleet\n",
    "\n",
    "Top-down fleet, without hydrogen aircraft, callibrated on the fleet of the MACC applciation, with drop-in instead of h2  \n",
    "http://localhost:8888/lab/tree/aeromaps/notebooks/data_cost/top_down_cost_callibration_phd.ipynb\n",
    "\n",
    "Mean annual efficiency improvement: 1.4% --> applied to all catgeories"
   ]
  },
  {
   "cell_type": "code",
   "execution_count": 9,
   "id": "118fe016-9846-4a2a-918e-5e8f300dea99",
   "metadata": {
    "tags": []
   },
   "outputs": [],
   "source": [
    "# process.parameters.energy_per_ask_short_range_dropin_fuel_gain_reference_years = []\n",
    "# process.parameters.energy_per_ask_short_range_dropin_fuel_gain_reference_years_values = [1.4]\n",
    "# process.parameters.energy_per_ask_medium_range_dropin_fuel_gain_reference_years = []\n",
    "# process.parameters.energy_per_ask_medium_range_dropin_fuel_gain_reference_years_values = [1.4]\n",
    "# process.parameters.energy_per_ask_long_range_dropin_fuel_gain_reference_years = []\n",
    "# process.parameters.energy_per_ask_long_range_dropin_fuel_gain_reference_years_values = [1.4]\n",
    "\n",
    "## Hydrogen aircraft\n",
    "# NONE"
   ]
  },
  {
   "cell_type": "markdown",
   "id": "deb4792a-411b-45d9-9fd2-b97bb85a9d7c",
   "metadata": {},
   "source": [
    "### 1-c) Operational improvements\n",
    "\n",
    "Operational improvements are considered via two opportunities. \n",
    "- Load factor improvement: improvement to 89% at the end of the scenario.\n",
    "- Operational efficiency (better ATM, aircrfat MRO and operational optimisation): improvement of 8% in 25y. \n",
    "\n",
    "Cost savings incur through the fuel savings. However, it could come at an extra cost (non-energy). This parameter is modelled, but not considered in this article due to lack of specific informations to the best of our knowldege.\n"
   ]
  },
  {
   "cell_type": "code",
   "execution_count": 10,
   "id": "ab476bc9-f507-4bd4-9335-1002d2977a90",
   "metadata": {
    "tags": []
   },
   "outputs": [],
   "source": [
    "# process.parameters.load_factor_end_year = 89.0  # 2019 value: 82.399312"
   ]
  },
  {
   "cell_type": "code",
   "execution_count": 11,
   "id": "4349dc55-808c-4ebe-a493-7210032b3fb8",
   "metadata": {
    "tags": []
   },
   "outputs": [],
   "source": [
    "# # Aircraft fleet and operation evolution - Operations\n",
    "\n",
    "# ## Values for setting the logistic function\n",
    "# process.parameters.operations_final_gain = 8.0  # [%]\n",
    "# process.parameters.operations_start_year = 2025\n",
    "# process.parameters.operations_duration = 25.0"
   ]
  },
  {
   "cell_type": "markdown",
   "id": "4e060f89-e3c6-43a8-bc64-61399941760a",
   "metadata": {},
   "source": [
    "## 1-d) Energy\n",
    "\n",
    "Top-down callibrated on the values of teh MACC apllication.\n",
    "Faster optim but caution as MFSP full computation is more detailled: larges use of e-fuel in the begining influence late mFSp (no-decomissioning)"
   ]
  },
  {
   "cell_type": "code",
   "execution_count": 12,
   "id": "3d71b69d-b5c6-4607-b760-7930973671b9",
   "metadata": {
    "slideshow": {
     "slide_type": "subslide"
    },
    "tags": []
   },
   "outputs": [],
   "source": [
    "# # Energy settings: production choices\n",
    "\n",
    "# # Aircraft energy - Introduction of alternative drop-in fuels\n",
    "\n",
    "# ## Share of alternative fuels in the drop-in fuel mix (the rest being supplemented by kerosene) [%]\n",
    "process.parameters.biofuel_share_reference_years = [2020, 2025, 2030, 2035, 2040, 2045, 2050]\n",
    "process.parameters.biofuel_share_reference_years_values = [0, 2, 4.8, 15, 24, 27, 35]\n",
    "process.parameters.electrofuel_share_reference_years = [2020, 2025, 2030, 2035, 2040, 2045, 2050]\n",
    "process.parameters.electrofuel_share_reference_years_values = [0, 0, 1.2, 5, 10, 15, 35]\n",
    "\n",
    "\n",
    "# ## Share of biofuel production pathways (the rest being completed by AtJ processes) [%]\n",
    "# process.parameters.biofuel_hefa_fog_share_reference_years = []\n",
    "# process.parameters.biofuel_hefa_fog_share_reference_years_values = [0.6]\n",
    "# process.parameters.biofuel_hefa_others_share_reference_years = []\n",
    "# process.parameters.biofuel_hefa_others_share_reference_years_values = [12.5]\n",
    "# process.parameters.biofuel_ft_others_share_reference_years = []\n",
    "# process.parameters.biofuel_ft_others_share_reference_years_values = [68.9]\n",
    "# process.parameters.biofuel_ft_msw_share_reference_years = []\n",
    "# process.parameters.biofuel_ft_msw_share_reference_years_values = [6.6]\n"
   ]
  },
  {
   "cell_type": "code",
   "execution_count": 13,
   "id": "bf9baeef-47b6-4af0-9bf2-833e39ec3477",
   "metadata": {
    "slideshow": {
     "slide_type": "subslide"
    },
    "tags": []
   },
   "outputs": [],
   "source": [
    "# process.parameters.biofuel_hefa_fog_mfsp_simple_reference_years = []\n",
    "# process.parameters.biofuel_hefa_fog_mfsp_simple_reference_years_values = [0.815488]\n",
    "# process.parameters.biofuel_hefa_others_mfsp_simple_reference_years = []\n",
    "# process.parameters.biofuel_hefa_others_mfsp_simple_reference_years_values = [1.052703]\n",
    "# process.parameters.biofuel_ft_others_mfsp_simple_reference_years = []\n",
    "# process.parameters.biofuel_ft_others_mfsp_simple_reference_years_values = [1.378082]\n",
    "# process.parameters.biofuel_ft_msw_mfsp_simple_reference_years = []\n",
    "# process.parameters.biofuel_ft_msw_mfsp_simple_reference_years_values = [1.142423]\n",
    "# process.parameters.biofuel_atj_mfsp_simple_reference_years = []\n",
    "# process.parameters.biofuel_atj_mfsp_simple_reference_years_values = [1.38668]\n",
    "\n",
    "# process.parameters.electrofuel_mfsp_simple_reference_years = [\n",
    "#     2020, 2021, 2022, 2023, 2024, 2025, 2026, 2027, 2028, 2029, 2030,\n",
    "#     2031, 2032, 2033, 2034, 2035, 2036, 2037, 2038, 2039, 2040, 2041,\n",
    "#     2042, 2043, 2044, 2045, 2046, 2047, 2048, 2049, 2050\n",
    "# ]\n",
    "# process.parameters.electrofuel_mfsp_simple_reference_years_values = [\n",
    "#     3.720546, 3.720546, 3.720546, 3.720546, 3.720546, 3.720546, 3.720546,\n",
    "#     3.573659, 3.426978, 3.277308, 3.130003, 3.095717, 3.062247, 3.029682,\n",
    "#     2.998903, 2.971869, 2.946851, 2.923276, 2.901135, 2.882374, 2.866464,\n",
    "#     2.852876, 2.841350, 2.829845, 2.807006, 2.774737, 2.737160, 2.698305,\n",
    "#     2.660365, 2.624329, 2.590476\n",
    "# ]\n",
    "\n",
    "\n",
    "process.parameters.electricity_emission_factor_reference_years = [2020, 2030, 2040, 2050]\n",
    "process.parameters.electricity_emission_factor_reference_years_values = [0, 0, 0, 0]\n",
    "\n",
    "process.parameters.aviation_carbon_budget_objective = 3."
   ]
  },
  {
   "cell_type": "markdown",
   "id": "58589dd8-11d2-435a-bf7c-9d3cc70676b4",
   "metadata": {},
   "source": [
    "## 1-e) Other process.parameters "
   ]
  },
  {
   "cell_type": "markdown",
   "id": "0fc38e2c-be44-49a1-bbbb-97b53c0e4551",
   "metadata": {
    "tags": []
   },
   "source": [
    "Downscaling not automatic"
   ]
  },
  {
   "cell_type": "code",
   "execution_count": 14,
   "id": "a4148162-d43f-4053-ab13-aece0381b050",
   "metadata": {
    "slideshow": {
     "slide_type": "subslide"
    },
    "tags": []
   },
   "outputs": [],
   "source": [
    "# # Environmental limits\n",
    "\n",
    "# ## Carbon budgets and Carbon Dioxide Removal [GtCO2]\n",
    "# process.parameters.net_carbon_budget = 850.0\n",
    "# process.parameters.carbon_dioxyde_removal_2100 = 285.0"
   ]
  },
  {
   "cell_type": "code",
   "execution_count": 15,
   "id": "8e8bcda3-8aad-4f27-b1ae-6277fbc7f63a",
   "metadata": {
    "slideshow": {
     "slide_type": "subslide"
    },
    "tags": []
   },
   "outputs": [],
   "source": [
    "# # Allocation settings\n",
    "\n",
    "# ## Aviation share of the global (equivalent) carbon budget [%]\n",
    "# process.parameters.aviation_carbon_budget_allocated_share = 2.6\n",
    "# process.parameters.aviation_equivalentcarbonbudget_allocated_share = 5.1\n",
    "\n",
    "# ## Aviation share of the global energy resources (biomass and electricity) [%]\n",
    "# process.parameters.aviation_biomass_allocated_share = 5.0\n",
    "# process.parameters.aviation_electricity_allocated_share = 5.0"
   ]
  },
  {
   "cell_type": "markdown",
   "id": "13b2e06c-36fb-49bb-8ad6-5ca2aa130638",
   "metadata": {},
   "source": [
    "## 2 - Problem definition"
   ]
  },
  {
   "cell_type": "code",
   "execution_count": 16,
   "id": "7b29719b-e67b-496c-a957-5cb7a7dcd013",
   "metadata": {},
   "outputs": [
    {
     "name": "stderr",
     "output_type": "stream",
     "text": [
      " WARNING - 07:43:13: No coupling in MDA, switching chain_linearize to True.\n"
     ]
    }
   ],
   "source": [
    "from gemseo.algos.design_space import DesignSpace\n",
    "from gemseo import generate_n2_plot, create_scenario\n",
    "\n",
    "process.setup()\n",
    "\n",
    "design_space = DesignSpace()\n",
    "\n",
    "# design_space.add_variable(\"load_factor_end_year\", size=1, lower_bound=89.0, upper_bound=89.5, value=89.2)\n",
    "design_space.add_variable(\"electrofuel_share_reference_years_values\", size=7, lower_bound=[0, 0, 0, 0, 0, 0, 0], upper_bound=[0, 100, 100,100, 100, 100, 100], value=[0, 50, 50, 50, 50, 50, 50])\n",
    "design_space.add_variable(\"biofuel_share_reference_years_values\", size=7, lower_bound=np.array([0, 0, 0,0, 0, 0, 0]), upper_bound=np.array([0, 100, 100,100, 100, 100, 100]), value=np.array([0, 0, 1.2, 5, 10, 15, 35]))\n",
    "# design_space.add_variable(\"biofuel_share_reference_years_values\", size=1, lower_bound=1, upper_bound=100, value=5)\n",
    "\n",
    "objective_name = \"cumulative_total_airline_cost_discounted_obj\"\n",
    "\n",
    "\n",
    "process.gemseo_settings[\"design_space\"] = design_space\n",
    "\n",
    "process.gemseo_settings[\"objective_name\"] = objective_name\n",
    "\n",
    "# Create a GEMSEO scenario\n",
    "process.create_gemseo_scenario()\n",
    "\n",
    "# Set differention method (only use for gradient based optimizers)\n",
    "process.scenario.set_differentiation_method(\"finite_differences\")\n",
    "\n",
    "# Add constraints\n",
    "process.scenario.add_constraint('aviation_carbon_budget_constraint', 'ineq')\n",
    "process.scenario.add_constraint('blend_completeness_constraint', 'ineq')\n",
    "process.scenario.add_constraint('electricity_trajectory_constraint', 'ineq')\n",
    "process.scenario.add_constraint('biomass_trajectory_constraint', 'ineq')\n",
    "process.scenario.add_constraint('electrofuel_use_growth_constraint', 'ineq')\n",
    "process.scenario.add_constraint('biofuel_use_growth_constraint', 'ineq')\n",
    "\n",
    "\n",
    "process.scenario.formulation.optimization_problem.objective = process.scenario.formulation.optimization_problem.objective * 1e-12\n",
    "\n",
    "\n",
    "# Configure the algorithm used\n",
    "# config_algo = {\"algo\": \"NLOPT_COBYLA\", \"max_iter\": 200}\n",
    "config_algo = {\"algo\": \"NLOPT_COBYLA\", \"max_iter\": 10}\n",
    "# config_algo = {\"algo\": \"DIFFERENTIAL_EVOLUTION\", \"max_iter\": 1000}\n",
    "\n",
    "process.input_data.update(config_algo)"
   ]
  },
  {
   "cell_type": "markdown",
   "id": "15ee89f3-6718-4e51-89b3-eb261801f411",
   "metadata": {
    "slideshow": {
     "slide_type": "slide"
    },
    "tags": []
   },
   "source": [
    "# 2- Compute\n",
    "\n",
    "Run AeroMAPS process"
   ]
  },
  {
   "cell_type": "code",
   "execution_count": 17,
   "id": "8896dc5f-ead6-4a45-b88c-53f94de24d6e",
   "metadata": {
    "slideshow": {
     "slide_type": "subslide"
    },
    "tags": []
   },
   "outputs": [
    {
     "name": "stderr",
     "output_type": "stream",
     "text": [
      "    INFO - 07:43:13:  \n",
      "    INFO - 07:43:13: *** Start MDOScenario execution ***\n",
      "    INFO - 07:43:13: MDOScenario\n",
      "    INFO - 07:43:13:    Disciplines: MDAChain\n",
      "    INFO - 07:43:13:    MDO formulation: MDF\n",
      "    INFO - 07:43:13: Optimization problem:\n",
      "    INFO - 07:43:13:    minimize 1e-12*cumulative_total_airline_cost_discounted_obj(electrofuel_share_reference_years_values, biofuel_share_reference_years_values)\n",
      "    INFO - 07:43:13:    with respect to biofuel_share_reference_years_values, electrofuel_share_reference_years_values\n",
      "    INFO - 07:43:13:    subject to constraints:\n",
      "    INFO - 07:43:13:       aviation_carbon_budget_constraint(electrofuel_share_reference_years_values, biofuel_share_reference_years_values) <= 0\n",
      "    INFO - 07:43:13:       blend_completeness_constraint(electrofuel_share_reference_years_values, biofuel_share_reference_years_values) <= 0\n",
      "    INFO - 07:43:13:       electricity_trajectory_constraint(electrofuel_share_reference_years_values, biofuel_share_reference_years_values) <= 0\n",
      "    INFO - 07:43:13:       biomass_trajectory_constraint(electrofuel_share_reference_years_values, biofuel_share_reference_years_values) <= 0\n",
      "    INFO - 07:43:13:       electrofuel_use_growth_constraint(electrofuel_share_reference_years_values, biofuel_share_reference_years_values) <= 0\n",
      "    INFO - 07:43:13:       biofuel_use_growth_constraint(electrofuel_share_reference_years_values, biofuel_share_reference_years_values) <= 0\n",
      "    INFO - 07:43:13:    over the design space:\n",
      "    INFO - 07:43:13:       +---------------------------------------------+-------------+-------+-------------+-------+\n",
      "    INFO - 07:43:13:       | Name                                        | Lower bound | Value | Upper bound | Type  |\n",
      "    INFO - 07:43:13:       +---------------------------------------------+-------------+-------+-------------+-------+\n",
      "    INFO - 07:43:13:       | electrofuel_share_reference_years_values[0] |      0      |   0   |      0      | float |\n",
      "    INFO - 07:43:13:       | electrofuel_share_reference_years_values[1] |      0      |   50  |     100     | float |\n",
      "    INFO - 07:43:13:       | electrofuel_share_reference_years_values[2] |      0      |   50  |     100     | float |\n",
      "    INFO - 07:43:13:       | electrofuel_share_reference_years_values[3] |      0      |   50  |     100     | float |\n",
      "    INFO - 07:43:13:       | electrofuel_share_reference_years_values[4] |      0      |   50  |     100     | float |\n",
      "    INFO - 07:43:13:       | electrofuel_share_reference_years_values[5] |      0      |   50  |     100     | float |\n",
      "    INFO - 07:43:13:       | electrofuel_share_reference_years_values[6] |      0      |   50  |     100     | float |\n",
      "    INFO - 07:43:13:       | biofuel_share_reference_years_values[0]     |      0      |   0   |      0      | float |\n",
      "    INFO - 07:43:13:       | biofuel_share_reference_years_values[1]     |      0      |   0   |     100     | float |\n",
      "    INFO - 07:43:13:       | biofuel_share_reference_years_values[2]     |      0      |  1.2  |     100     | float |\n",
      "    INFO - 07:43:13:       | biofuel_share_reference_years_values[3]     |      0      |   5   |     100     | float |\n",
      "    INFO - 07:43:13:       | biofuel_share_reference_years_values[4]     |      0      |   10  |     100     | float |\n",
      "    INFO - 07:43:13:       | biofuel_share_reference_years_values[5]     |      0      |   15  |     100     | float |\n",
      "    INFO - 07:43:13:       | biofuel_share_reference_years_values[6]     |      0      |   35  |     100     | float |\n",
      "    INFO - 07:43:13:       +---------------------------------------------+-------------+-------+-------------+-------+\n",
      "    INFO - 07:43:13: Solving optimization problem with algorithm NLOPT_COBYLA:\n",
      "   ERROR - 07:43:13: Grammar MDA chain_discipline_input: validation failed.\n",
      "   ERROR - 07:43:13: Bad type for rpk_init: <class 'list'> instead of <class 'pandas.core.series.Series'>.\n",
      "   ERROR - 07:43:13: Bad type for ask_init: <class 'list'> instead of <class 'pandas.core.series.Series'>.\n",
      "   ERROR - 07:43:13: Bad type for energy_consumption_init: <class 'list'> instead of <class 'pandas.core.series.Series'>.\n",
      "   ERROR - 07:43:13: Bad type for rtk_init: <class 'list'> instead of <class 'pandas.core.series.Series'>.\n",
      "   ERROR - 07:43:13: Bad type for total_aircraft_distance_init: <class 'list'> instead of <class 'pandas.core.series.Series'>.\n"
     ]
    },
    {
     "ename": "InvalidDataError",
     "evalue": "Grammar MDA chain_discipline_input: validation failed.\nBad type for rpk_init: <class 'list'> instead of <class 'pandas.core.series.Series'>.\nBad type for ask_init: <class 'list'> instead of <class 'pandas.core.series.Series'>.\nBad type for energy_consumption_init: <class 'list'> instead of <class 'pandas.core.series.Series'>.\nBad type for rtk_init: <class 'list'> instead of <class 'pandas.core.series.Series'>.\nBad type for total_aircraft_distance_init: <class 'list'> instead of <class 'pandas.core.series.Series'>.",
     "output_type": "error",
     "traceback": [
      "\u001b[0;31m---------------------------------------------------------------------------\u001b[0m",
      "\u001b[0;31mInvalidDataError\u001b[0m                          Traceback (most recent call last)",
      "Cell \u001b[0;32mIn[17], line 1\u001b[0m\n\u001b[0;32m----> 1\u001b[0m \u001b[43mprocess\u001b[49m\u001b[38;5;241;43m.\u001b[39;49m\u001b[43mcompute\u001b[49m\u001b[43m(\u001b[49m\u001b[43m)\u001b[49m\n",
      "File \u001b[0;32m~/PycharmProjects/AeroMAPS_private/aeromaps/core/process.py:148\u001b[0m, in \u001b[0;36mAeroMAPSProcess.compute\u001b[0;34m(self)\u001b[0m\n\u001b[1;32m    146\u001b[0m \u001b[38;5;28mself\u001b[39m\u001b[38;5;241m.\u001b[39m_pre_compute()\n\u001b[1;32m    147\u001b[0m \u001b[38;5;28;01mif\u001b[39;00m \u001b[38;5;28mself\u001b[39m\u001b[38;5;241m.\u001b[39mscenario \u001b[38;5;129;01mis\u001b[39;00m \u001b[38;5;129;01mnot\u001b[39;00m \u001b[38;5;28;01mNone\u001b[39;00m:\n\u001b[0;32m--> 148\u001b[0m     \u001b[38;5;28;43mself\u001b[39;49m\u001b[38;5;241;43m.\u001b[39;49m\u001b[43mscenario\u001b[49m\u001b[38;5;241;43m.\u001b[39;49m\u001b[43mexecute\u001b[49m\u001b[43m(\u001b[49m\u001b[43minput_data\u001b[49m\u001b[38;5;241;43m=\u001b[39;49m\u001b[38;5;28;43mself\u001b[39;49m\u001b[38;5;241;43m.\u001b[39;49m\u001b[43minput_data\u001b[49m\u001b[43m)\u001b[49m\n\u001b[1;32m    150\u001b[0m \u001b[38;5;28;01melse\u001b[39;00m:\n\u001b[1;32m    151\u001b[0m     \u001b[38;5;28mself\u001b[39m\u001b[38;5;241m.\u001b[39mmda_chain\u001b[38;5;241m.\u001b[39mexecute(input_data\u001b[38;5;241m=\u001b[39m\u001b[38;5;28mself\u001b[39m\u001b[38;5;241m.\u001b[39minput_data)\n",
      "File \u001b[0;32m/opt/homebrew/Caskroom/miniforge/base/envs/AeroMAPS_private/lib/python3.9/site-packages/gemseo/core/discipline.py:1012\u001b[0m, in \u001b[0;36mMDODiscipline.execute\u001b[0;34m(self, input_data)\u001b[0m\n\u001b[1;32m   1008\u001b[0m \u001b[38;5;28;01mif\u001b[39;00m \u001b[38;5;129;01mnot\u001b[39;00m \u001b[38;5;28mself\u001b[39m\u001b[38;5;241m.\u001b[39mvirtual_execution:\n\u001b[1;32m   1009\u001b[0m     \u001b[38;5;28;01mtry\u001b[39;00m:\n\u001b[1;32m   1010\u001b[0m         \u001b[38;5;66;03m# Effectively run the discipline, the _run method has to be\u001b[39;00m\n\u001b[1;32m   1011\u001b[0m         \u001b[38;5;66;03m# Defined by the subclasses\u001b[39;00m\n\u001b[0;32m-> 1012\u001b[0m         \u001b[38;5;28;43mself\u001b[39;49m\u001b[38;5;241;43m.\u001b[39;49m\u001b[43m_run\u001b[49m\u001b[43m(\u001b[49m\u001b[43m)\u001b[49m\n\u001b[1;32m   1013\u001b[0m     \u001b[38;5;28;01mexcept\u001b[39;00m \u001b[38;5;167;01mException\u001b[39;00m:\n\u001b[1;32m   1014\u001b[0m         \u001b[38;5;28mself\u001b[39m\u001b[38;5;241m.\u001b[39mstatus \u001b[38;5;241m=\u001b[39m \u001b[38;5;28mself\u001b[39m\u001b[38;5;241m.\u001b[39mExecutionStatus\u001b[38;5;241m.\u001b[39mFAILED\n",
      "File \u001b[0;32m/opt/homebrew/Caskroom/miniforge/base/envs/AeroMAPS_private/lib/python3.9/site-packages/gemseo/scenarios/scenario.py:481\u001b[0m, in \u001b[0;36mScenario._run\u001b[0;34m(self)\u001b[0m\n\u001b[1;32m    479\u001b[0m database \u001b[38;5;241m=\u001b[39m \u001b[38;5;28mself\u001b[39m\u001b[38;5;241m.\u001b[39mformulation\u001b[38;5;241m.\u001b[39moptimization_problem\u001b[38;5;241m.\u001b[39mdatabase\n\u001b[1;32m    480\u001b[0m n_x \u001b[38;5;241m=\u001b[39m \u001b[38;5;28mlen\u001b[39m(database)\n\u001b[0;32m--> 481\u001b[0m \u001b[38;5;28;43mself\u001b[39;49m\u001b[38;5;241;43m.\u001b[39;49m\u001b[43m_run_algorithm\u001b[49m\u001b[43m(\u001b[49m\u001b[43m)\u001b[49m\n\u001b[1;32m    482\u001b[0m LOGGER\u001b[38;5;241m.\u001b[39minfo(\n\u001b[1;32m    483\u001b[0m     \u001b[38;5;124m\"\u001b[39m\u001b[38;5;124m*** End \u001b[39m\u001b[38;5;132;01m%s\u001b[39;00m\u001b[38;5;124m execution (time: \u001b[39m\u001b[38;5;132;01m%s\u001b[39;00m\u001b[38;5;124m) ***\u001b[39m\u001b[38;5;124m\"\u001b[39m,\n\u001b[1;32m    484\u001b[0m     \u001b[38;5;28mself\u001b[39m\u001b[38;5;241m.\u001b[39mname,\n\u001b[1;32m    485\u001b[0m     timedelta(seconds\u001b[38;5;241m=\u001b[39mtimeit\u001b[38;5;241m.\u001b[39mdefault_timer() \u001b[38;5;241m-\u001b[39m t_0),\n\u001b[1;32m    486\u001b[0m )\n\u001b[1;32m    487\u001b[0m \u001b[38;5;66;03m# The last call to the functions may not trigger the callback\u001b[39;00m\n\u001b[1;32m    488\u001b[0m \u001b[38;5;66;03m# so some values may be missing in the database.\u001b[39;00m\n\u001b[1;32m    489\u001b[0m \u001b[38;5;66;03m# This ensures that the callback is called after the last iteration.\u001b[39;00m\n",
      "File \u001b[0;32m/opt/homebrew/Caskroom/miniforge/base/envs/AeroMAPS_private/lib/python3.9/site-packages/gemseo/scenarios/mdo_scenario.py:110\u001b[0m, in \u001b[0;36mMDOScenario._run_algorithm\u001b[0;34m(self)\u001b[0m\n\u001b[1;32m    107\u001b[0m     lib \u001b[38;5;241m=\u001b[39m \u001b[38;5;28mself\u001b[39m\u001b[38;5;241m.\u001b[39m_algo_factory\u001b[38;5;241m.\u001b[39mcreate(algo_name)\n\u001b[1;32m    108\u001b[0m     \u001b[38;5;28mself\u001b[39m\u001b[38;5;241m.\u001b[39m_lib \u001b[38;5;241m=\u001b[39m lib\n\u001b[0;32m--> 110\u001b[0m \u001b[38;5;28mself\u001b[39m\u001b[38;5;241m.\u001b[39moptimization_result \u001b[38;5;241m=\u001b[39m \u001b[43mlib\u001b[49m\u001b[38;5;241;43m.\u001b[39;49m\u001b[43mexecute\u001b[49m\u001b[43m(\u001b[49m\u001b[43mproblem\u001b[49m\u001b[43m,\u001b[49m\u001b[43m \u001b[49m\u001b[43mmax_iter\u001b[49m\u001b[38;5;241;43m=\u001b[39;49m\u001b[43mmax_iter\u001b[49m\u001b[43m,\u001b[49m\u001b[43m \u001b[49m\u001b[38;5;241;43m*\u001b[39;49m\u001b[38;5;241;43m*\u001b[39;49m\u001b[43moptions\u001b[49m\u001b[43m)\u001b[49m\n\u001b[1;32m    111\u001b[0m \u001b[38;5;28;01mreturn\u001b[39;00m \u001b[38;5;28mself\u001b[39m\u001b[38;5;241m.\u001b[39moptimization_result\n",
      "File \u001b[0;32m/opt/homebrew/Caskroom/miniforge/base/envs/AeroMAPS_private/lib/python3.9/site-packages/gemseo/algos/base_driver_library.py:438\u001b[0m, in \u001b[0;36mBaseDriverLibrary.execute\u001b[0;34m(self, problem, eval_obs_jac, skip_int_check, max_design_space_dimension_to_log, store_jacobian, **settings)\u001b[0m\n\u001b[1;32m    433\u001b[0m \u001b[38;5;28;01mwith\u001b[39;00m (\n\u001b[1;32m    434\u001b[0m     OneLineLogging(TQDM_LOGGER) \u001b[38;5;28;01mif\u001b[39;00m use_one_line_progress_bar \u001b[38;5;28;01melse\u001b[39;00m nullcontext()\n\u001b[1;32m    435\u001b[0m ):\n\u001b[1;32m    436\u001b[0m     \u001b[38;5;66;03m# Term criteria such as max iter or max_time can be triggered in pre_run\u001b[39;00m\n\u001b[1;32m    437\u001b[0m     \u001b[38;5;28;01mtry\u001b[39;00m:\n\u001b[0;32m--> 438\u001b[0m         \u001b[38;5;28;43mself\u001b[39;49m\u001b[38;5;241;43m.\u001b[39;49m\u001b[43m_pre_run\u001b[49m\u001b[43m(\u001b[49m\u001b[43mproblem\u001b[49m\u001b[43m,\u001b[49m\u001b[43m \u001b[49m\u001b[38;5;241;43m*\u001b[39;49m\u001b[38;5;241;43m*\u001b[39;49m\u001b[43moptions\u001b[49m\u001b[43m)\u001b[49m\n\u001b[1;32m    439\u001b[0m         result \u001b[38;5;241m=\u001b[39m \u001b[38;5;28mself\u001b[39m\u001b[38;5;241m.\u001b[39m_run(problem, \u001b[38;5;241m*\u001b[39m\u001b[38;5;241m*\u001b[39moptions)\n\u001b[1;32m    440\u001b[0m     \u001b[38;5;28;01mexcept\u001b[39;00m TerminationCriterion \u001b[38;5;28;01mas\u001b[39;00m termination_criterion:\n",
      "File \u001b[0;32m/opt/homebrew/Caskroom/miniforge/base/envs/AeroMAPS_private/lib/python3.9/site-packages/gemseo/algos/opt/lib_nlopt.py:445\u001b[0m, in \u001b[0;36mNlopt._pre_run\u001b[0;34m(self, problem, **options)\u001b[0m\n\u001b[1;32m    443\u001b[0m \u001b[38;5;28;01melse\u001b[39;00m:\n\u001b[1;32m    444\u001b[0m     options[\u001b[38;5;28mself\u001b[39m\u001b[38;5;241m.\u001b[39m_STOP_CRIT_NX] \u001b[38;5;241m=\u001b[39m n_stop_crit_x \u001b[38;5;129;01mor\u001b[39;00m \u001b[38;5;241m3\u001b[39m\n\u001b[0;32m--> 445\u001b[0m \u001b[38;5;28;43msuper\u001b[39;49m\u001b[43m(\u001b[49m\u001b[43m)\u001b[49m\u001b[38;5;241;43m.\u001b[39;49m\u001b[43m_pre_run\u001b[49m\u001b[43m(\u001b[49m\u001b[43mproblem\u001b[49m\u001b[43m,\u001b[49m\u001b[43m \u001b[49m\u001b[38;5;241;43m*\u001b[39;49m\u001b[38;5;241;43m*\u001b[39;49m\u001b[43moptions\u001b[49m\u001b[43m)\u001b[49m\n",
      "File \u001b[0;32m/opt/homebrew/Caskroom/miniforge/base/envs/AeroMAPS_private/lib/python3.9/site-packages/gemseo/algos/opt/base_optimization_library.py:206\u001b[0m, in \u001b[0;36mBaseOptimizationLibrary._pre_run\u001b[0;34m(self, problem, **options)\u001b[0m\n\u001b[1;32m    199\u001b[0m \u001b[38;5;66;03m# First, evaluate all functions at x_0. Some algorithms don't do this\u001b[39;00m\n\u001b[1;32m    200\u001b[0m output_functions, jacobian_functions \u001b[38;5;241m=\u001b[39m problem\u001b[38;5;241m.\u001b[39mget_functions(\n\u001b[1;32m    201\u001b[0m     jacobian_names\u001b[38;5;241m=\u001b[39m() \u001b[38;5;28;01mif\u001b[39;00m require_gradient \u001b[38;5;28;01melse\u001b[39;00m \u001b[38;5;28;01mNone\u001b[39;00m,\n\u001b[1;32m    202\u001b[0m     evaluate_objective\u001b[38;5;241m=\u001b[39m\u001b[38;5;28;01mTrue\u001b[39;00m,\n\u001b[1;32m    203\u001b[0m     observable_names\u001b[38;5;241m=\u001b[39m\u001b[38;5;28;01mNone\u001b[39;00m,\n\u001b[1;32m    204\u001b[0m )\n\u001b[0;32m--> 206\u001b[0m function_values, _ \u001b[38;5;241m=\u001b[39m \u001b[43mproblem\u001b[49m\u001b[38;5;241;43m.\u001b[39;49m\u001b[43mevaluate_functions\u001b[49m\u001b[43m(\u001b[49m\n\u001b[1;32m    207\u001b[0m \u001b[43m    \u001b[49m\u001b[43mdesign_vector_is_normalized\u001b[49m\u001b[38;5;241;43m=\u001b[39;49m\u001b[43moptions\u001b[49m\u001b[38;5;241;43m.\u001b[39;49m\u001b[43mget\u001b[49m\u001b[43m(\u001b[49m\n\u001b[1;32m    208\u001b[0m \u001b[43m        \u001b[49m\u001b[38;5;28;43mself\u001b[39;49m\u001b[38;5;241;43m.\u001b[39;49m\u001b[43m_NORMALIZE_DESIGN_SPACE_OPTION\u001b[49m\u001b[43m,\u001b[49m\u001b[43m \u001b[49m\u001b[38;5;28;43mself\u001b[39;49m\u001b[38;5;241;43m.\u001b[39;49m\u001b[43m_NORMALIZE_DS\u001b[49m\n\u001b[1;32m    209\u001b[0m \u001b[43m    \u001b[49m\u001b[43m)\u001b[49m\u001b[43m,\u001b[49m\n\u001b[1;32m    210\u001b[0m \u001b[43m    \u001b[49m\u001b[43moutput_functions\u001b[49m\u001b[38;5;241;43m=\u001b[39;49m\u001b[43moutput_functions\u001b[49m\u001b[43m,\u001b[49m\n\u001b[1;32m    211\u001b[0m \u001b[43m    \u001b[49m\u001b[43mjacobian_functions\u001b[49m\u001b[38;5;241;43m=\u001b[39;49m\u001b[43mjacobian_functions\u001b[49m\u001b[43m,\u001b[49m\n\u001b[1;32m    212\u001b[0m \u001b[43m\u001b[49m\u001b[43m)\u001b[49m\n\u001b[1;32m    214\u001b[0m scaling_threshold \u001b[38;5;241m=\u001b[39m options\u001b[38;5;241m.\u001b[39mget(\u001b[38;5;28mself\u001b[39m\u001b[38;5;241m.\u001b[39m_SCALING_THRESHOLD)\n\u001b[1;32m    215\u001b[0m \u001b[38;5;28;01mif\u001b[39;00m scaling_threshold \u001b[38;5;129;01mis\u001b[39;00m \u001b[38;5;129;01mnot\u001b[39;00m \u001b[38;5;28;01mNone\u001b[39;00m:\n",
      "File \u001b[0;32m/opt/homebrew/Caskroom/miniforge/base/envs/AeroMAPS_private/lib/python3.9/site-packages/gemseo/algos/evaluation_problem.py:418\u001b[0m, in \u001b[0;36mEvaluationProblem.evaluate_functions\u001b[0;34m(self, design_vector, design_vector_is_normalized, preprocess_design_vector, output_functions, jacobian_functions)\u001b[0m\n\u001b[1;32m    416\u001b[0m \u001b[38;5;28;01mfor\u001b[39;00m function \u001b[38;5;129;01min\u001b[39;00m output_functions:\n\u001b[1;32m    417\u001b[0m     \u001b[38;5;28;01mtry\u001b[39;00m:\n\u001b[0;32m--> 418\u001b[0m         outputs[function\u001b[38;5;241m.\u001b[39mname] \u001b[38;5;241m=\u001b[39m \u001b[43mfunction\u001b[49m\u001b[38;5;241;43m.\u001b[39;49m\u001b[43mevaluate\u001b[49m\u001b[43m(\u001b[49m\u001b[43mdesign_vector\u001b[49m\u001b[43m)\u001b[49m\n\u001b[1;32m    419\u001b[0m     \u001b[38;5;28;01mexcept\u001b[39;00m \u001b[38;5;167;01mValueError\u001b[39;00m:  \u001b[38;5;66;03m# noqa: PERF203\u001b[39;00m\n\u001b[1;32m    420\u001b[0m         LOGGER\u001b[38;5;241m.\u001b[39mexception(\u001b[38;5;124m\"\u001b[39m\u001b[38;5;124mFailed to evaluate function \u001b[39m\u001b[38;5;132;01m%s\u001b[39;00m\u001b[38;5;124m\"\u001b[39m, function\u001b[38;5;241m.\u001b[39mname)\n",
      "File \u001b[0;32m/opt/homebrew/Caskroom/miniforge/base/envs/AeroMAPS_private/lib/python3.9/site-packages/gemseo/algos/problem_function.py:184\u001b[0m, in \u001b[0;36mProblemFunction.evaluate\u001b[0;34m(self, x_vect)\u001b[0m\n\u001b[1;32m    181\u001b[0m     \u001b[38;5;28;01mwith\u001b[39;00m \u001b[38;5;28mself\u001b[39m\u001b[38;5;241m.\u001b[39m_n_calls\u001b[38;5;241m.\u001b[39mget_lock():\n\u001b[1;32m    182\u001b[0m         \u001b[38;5;28mself\u001b[39m\u001b[38;5;241m.\u001b[39m_n_calls\u001b[38;5;241m.\u001b[39mvalue \u001b[38;5;241m+\u001b[39m\u001b[38;5;241m=\u001b[39m \u001b[38;5;241m1\u001b[39m\n\u001b[0;32m--> 184\u001b[0m \u001b[38;5;28;01mreturn\u001b[39;00m \u001b[38;5;28;43msuper\u001b[39;49m\u001b[43m(\u001b[49m\u001b[43m)\u001b[49m\u001b[38;5;241;43m.\u001b[39;49m\u001b[43mevaluate\u001b[49m\u001b[43m(\u001b[49m\u001b[43mx_vect\u001b[49m\u001b[43m)\u001b[49m\n",
      "File \u001b[0;32m/opt/homebrew/Caskroom/miniforge/base/envs/AeroMAPS_private/lib/python3.9/site-packages/gemseo/core/mdo_functions/mdo_function.py:326\u001b[0m, in \u001b[0;36mMDOFunction.evaluate\u001b[0;34m(self, x_vect)\u001b[0m\n\u001b[1;32m    313\u001b[0m \u001b[38;5;28;01mdef\u001b[39;00m \u001b[38;5;21mevaluate\u001b[39m(\u001b[38;5;28mself\u001b[39m, x_vect: NumberArray) \u001b[38;5;241m-\u001b[39m\u001b[38;5;241m>\u001b[39m OutputType:\n\u001b[1;32m    314\u001b[0m \u001b[38;5;250m    \u001b[39m\u001b[38;5;124;03m\"\"\"Evaluate the function and store the output value in :attr:`.last_eval`.\u001b[39;00m\n\u001b[1;32m    315\u001b[0m \n\u001b[1;32m    316\u001b[0m \u001b[38;5;124;03m    When the output dimension :attr:`.dim` is not defined,\u001b[39;00m\n\u001b[0;32m   (...)\u001b[0m\n\u001b[1;32m    324\u001b[0m \u001b[38;5;124;03m        or its real part when :attr:`.force_real` is `True`.\u001b[39;00m\n\u001b[1;32m    325\u001b[0m \u001b[38;5;124;03m    \"\"\"\u001b[39;00m\n\u001b[0;32m--> 326\u001b[0m     output_value \u001b[38;5;241m=\u001b[39m \u001b[38;5;28mself\u001b[39m\u001b[38;5;241m.\u001b[39mlast_eval \u001b[38;5;241m=\u001b[39m \u001b[38;5;28;43mself\u001b[39;49m\u001b[38;5;241;43m.\u001b[39;49m\u001b[43m_func\u001b[49m\u001b[43m(\u001b[49m\u001b[43mx_vect\u001b[49m\u001b[43m)\u001b[49m\n\u001b[1;32m    328\u001b[0m     \u001b[38;5;28;01mif\u001b[39;00m \u001b[38;5;28mself\u001b[39m\u001b[38;5;241m.\u001b[39mforce_real:\n\u001b[1;32m    329\u001b[0m         output_value \u001b[38;5;241m=\u001b[39m output_value\u001b[38;5;241m.\u001b[39mreal\n",
      "File \u001b[0;32m/opt/homebrew/Caskroom/miniforge/base/envs/AeroMAPS_private/lib/python3.9/site-packages/gemseo/algos/problem_function.py:301\u001b[0m, in \u001b[0;36mProblemFunction._compute_output_db_norm\u001b[0;34m(self, input_value)\u001b[0m\n\u001b[1;32m    295\u001b[0m \u001b[38;5;28;01mif\u001b[39;00m (\n\u001b[1;32m    296\u001b[0m     \u001b[38;5;129;01mnot\u001b[39;00m database\u001b[38;5;241m.\u001b[39mget(hashed_xu)\n\u001b[1;32m    297\u001b[0m     \u001b[38;5;129;01mand\u001b[39;00m \u001b[38;5;28mself\u001b[39m\u001b[38;5;241m.\u001b[39m_evaluation_counter\u001b[38;5;241m.\u001b[39mmaximum_is_reached\n\u001b[1;32m    298\u001b[0m ):\n\u001b[1;32m    299\u001b[0m     \u001b[38;5;28;01mraise\u001b[39;00m MaxIterReachedException\n\u001b[0;32m--> 301\u001b[0m output_value \u001b[38;5;241m=\u001b[39m \u001b[38;5;28;43mself\u001b[39;49m\u001b[38;5;241;43m.\u001b[39;49m\u001b[43m_compute_output\u001b[49m\u001b[43m(\u001b[49m\u001b[43mxn_vect\u001b[49m\u001b[43m)\u001b[49m\n\u001b[1;32m    302\u001b[0m \u001b[38;5;28mself\u001b[39m\u001b[38;5;241m.\u001b[39mcheck_function_output_includes_nan(\n\u001b[1;32m    303\u001b[0m     output_value, \u001b[38;5;28mself\u001b[39m\u001b[38;5;241m.\u001b[39mstop_if_nan, \u001b[38;5;28mself\u001b[39m\u001b[38;5;241m.\u001b[39mname, xu_vect\n\u001b[1;32m    304\u001b[0m )\n\u001b[1;32m    305\u001b[0m database\u001b[38;5;241m.\u001b[39mstore(hashed_xu, {\u001b[38;5;28mself\u001b[39m\u001b[38;5;241m.\u001b[39mname: output_value})\n",
      "File \u001b[0;32m/opt/homebrew/Caskroom/miniforge/base/envs/AeroMAPS_private/lib/python3.9/site-packages/gemseo/algos/problem_function.py:196\u001b[0m, in \u001b[0;36mProblemFunction._compute_output\u001b[0;34m(self, input_value)\u001b[0m\n\u001b[1;32m    187\u001b[0m \u001b[38;5;250m\u001b[39m\u001b[38;5;124;03m\"\"\"Compute the output value from an input value.\u001b[39;00m\n\u001b[1;32m    188\u001b[0m \n\u001b[1;32m    189\u001b[0m \u001b[38;5;124;03mArgs:\u001b[39;00m\n\u001b[0;32m   (...)\u001b[0m\n\u001b[1;32m    193\u001b[0m \u001b[38;5;124;03m    The output value.\u001b[39;00m\n\u001b[1;32m    194\u001b[0m \u001b[38;5;124;03m\"\"\"\u001b[39;00m\n\u001b[1;32m    195\u001b[0m \u001b[38;5;28;01mfor\u001b[39;00m func \u001b[38;5;129;01min\u001b[39;00m \u001b[38;5;28mself\u001b[39m\u001b[38;5;241m.\u001b[39m_output_evaluation_sequence:\n\u001b[0;32m--> 196\u001b[0m     input_value \u001b[38;5;241m=\u001b[39m \u001b[43mfunc\u001b[49m\u001b[43m(\u001b[49m\u001b[43minput_value\u001b[49m\u001b[43m)\u001b[49m\n\u001b[1;32m    198\u001b[0m \u001b[38;5;28;01mreturn\u001b[39;00m input_value\n",
      "File \u001b[0;32m/opt/homebrew/Caskroom/miniforge/base/envs/AeroMAPS_private/lib/python3.9/site-packages/gemseo/core/mdo_functions/_operations.py:219\u001b[0m, in \u001b[0;36m_OperationFunctionMaker._compute_operation\u001b[0;34m(self, input_value)\u001b[0m\n\u001b[1;32m    216\u001b[0m \u001b[38;5;28;01mif\u001b[39;00m \u001b[38;5;28mself\u001b[39m\u001b[38;5;241m.\u001b[39m_second_operand_is_func:\n\u001b[1;32m    217\u001b[0m     second_operand \u001b[38;5;241m=\u001b[39m second_operand\u001b[38;5;241m.\u001b[39mfunc(input_value)\n\u001b[0;32m--> 219\u001b[0m \u001b[38;5;28;01mreturn\u001b[39;00m \u001b[38;5;28mself\u001b[39m\u001b[38;5;241m.\u001b[39m_operator(\u001b[38;5;28;43mself\u001b[39;49m\u001b[38;5;241;43m.\u001b[39;49m\u001b[43m_first_operand\u001b[49m\u001b[38;5;241;43m.\u001b[39;49m\u001b[43mfunc\u001b[49m\u001b[43m(\u001b[49m\u001b[43minput_value\u001b[49m\u001b[43m)\u001b[49m, second_operand)\n",
      "File \u001b[0;32m/opt/homebrew/Caskroom/miniforge/base/envs/AeroMAPS_private/lib/python3.9/site-packages/gemseo/core/mdo_functions/function_from_discipline.py:179\u001b[0m, in \u001b[0;36mFunctionFromDiscipline._func_to_wrap\u001b[0;34m(self, x_vect)\u001b[0m\n\u001b[1;32m    170\u001b[0m \u001b[38;5;28;01mdef\u001b[39;00m \u001b[38;5;21m_func_to_wrap\u001b[39m(\u001b[38;5;28mself\u001b[39m, x_vect: NumberArray) \u001b[38;5;241m-\u001b[39m\u001b[38;5;241m>\u001b[39m NumberArray:\n\u001b[1;32m    171\u001b[0m \u001b[38;5;250m    \u001b[39m\u001b[38;5;124;03m\"\"\"Compute the outputs.\u001b[39;00m\n\u001b[1;32m    172\u001b[0m \n\u001b[1;32m    173\u001b[0m \u001b[38;5;124;03m    Args:\u001b[39;00m\n\u001b[0;32m   (...)\u001b[0m\n\u001b[1;32m    177\u001b[0m \u001b[38;5;124;03m        The value of the outputs.\u001b[39;00m\n\u001b[1;32m    178\u001b[0m \u001b[38;5;124;03m    \"\"\"\u001b[39;00m\n\u001b[0;32m--> 179\u001b[0m     \u001b[38;5;28;01mreturn\u001b[39;00m \u001b[38;5;28;43mself\u001b[39;49m\u001b[38;5;241;43m.\u001b[39;49m\u001b[43m__discipline_adapter\u001b[49m\u001b[38;5;241;43m.\u001b[39;49m\u001b[43mevaluate\u001b[49m\u001b[43m(\u001b[49m\u001b[43mx_vect\u001b[49m\u001b[43m[\u001b[49m\u001b[38;5;28;43mself\u001b[39;49m\u001b[38;5;241;43m.\u001b[39;49m\u001b[43m_input_mask\u001b[49m\u001b[43m]\u001b[49m\u001b[43m)\u001b[49m\n",
      "File \u001b[0;32m/opt/homebrew/Caskroom/miniforge/base/envs/AeroMAPS_private/lib/python3.9/site-packages/gemseo/core/mdo_functions/mdo_function.py:326\u001b[0m, in \u001b[0;36mMDOFunction.evaluate\u001b[0;34m(self, x_vect)\u001b[0m\n\u001b[1;32m    313\u001b[0m \u001b[38;5;28;01mdef\u001b[39;00m \u001b[38;5;21mevaluate\u001b[39m(\u001b[38;5;28mself\u001b[39m, x_vect: NumberArray) \u001b[38;5;241m-\u001b[39m\u001b[38;5;241m>\u001b[39m OutputType:\n\u001b[1;32m    314\u001b[0m \u001b[38;5;250m    \u001b[39m\u001b[38;5;124;03m\"\"\"Evaluate the function and store the output value in :attr:`.last_eval`.\u001b[39;00m\n\u001b[1;32m    315\u001b[0m \n\u001b[1;32m    316\u001b[0m \u001b[38;5;124;03m    When the output dimension :attr:`.dim` is not defined,\u001b[39;00m\n\u001b[0;32m   (...)\u001b[0m\n\u001b[1;32m    324\u001b[0m \u001b[38;5;124;03m        or its real part when :attr:`.force_real` is `True`.\u001b[39;00m\n\u001b[1;32m    325\u001b[0m \u001b[38;5;124;03m    \"\"\"\u001b[39;00m\n\u001b[0;32m--> 326\u001b[0m     output_value \u001b[38;5;241m=\u001b[39m \u001b[38;5;28mself\u001b[39m\u001b[38;5;241m.\u001b[39mlast_eval \u001b[38;5;241m=\u001b[39m \u001b[38;5;28;43mself\u001b[39;49m\u001b[38;5;241;43m.\u001b[39;49m\u001b[43m_func\u001b[49m\u001b[43m(\u001b[49m\u001b[43mx_vect\u001b[49m\u001b[43m)\u001b[49m\n\u001b[1;32m    328\u001b[0m     \u001b[38;5;28;01mif\u001b[39;00m \u001b[38;5;28mself\u001b[39m\u001b[38;5;241m.\u001b[39mforce_real:\n\u001b[1;32m    329\u001b[0m         output_value \u001b[38;5;241m=\u001b[39m output_value\u001b[38;5;241m.\u001b[39mreal\n",
      "File \u001b[0;32m/opt/homebrew/Caskroom/miniforge/base/envs/AeroMAPS_private/lib/python3.9/site-packages/gemseo/core/mdo_functions/mdo_discipline_adapter.py:202\u001b[0m, in \u001b[0;36mMDODisciplineAdapter._func_to_wrap\u001b[0;34m(self, x_vect)\u001b[0m\n\u001b[1;32m    199\u001b[0m \u001b[38;5;28mself\u001b[39m\u001b[38;5;241m.\u001b[39m__discipline\u001b[38;5;241m.\u001b[39mreset_statuses_for_run()\n\u001b[1;32m    201\u001b[0m input_data \u001b[38;5;241m=\u001b[39m \u001b[38;5;28mself\u001b[39m\u001b[38;5;241m.\u001b[39m__create_discipline_input_data(x_vect)\n\u001b[0;32m--> 202\u001b[0m output_data \u001b[38;5;241m=\u001b[39m \u001b[38;5;28;43mself\u001b[39;49m\u001b[38;5;241;43m.\u001b[39;49m\u001b[43m__discipline\u001b[49m\u001b[38;5;241;43m.\u001b[39;49m\u001b[43mexecute\u001b[49m\u001b[43m(\u001b[49m\u001b[43minput_data\u001b[49m\u001b[43m)\u001b[49m\n\u001b[1;32m    204\u001b[0m \u001b[38;5;28;01mreturn\u001b[39;00m \u001b[38;5;28mself\u001b[39m\u001b[38;5;241m.\u001b[39m_convert_output_data_to_array(output_data)\n",
      "File \u001b[0;32m/opt/homebrew/Caskroom/miniforge/base/envs/AeroMAPS_private/lib/python3.9/site-packages/gemseo/mda/mda_chain.py:484\u001b[0m, in \u001b[0;36mMDAChain.execute\u001b[0;34m(self, input_data)\u001b[0m\n\u001b[1;32m    478\u001b[0m     \u001b[38;5;28mself\u001b[39m\u001b[38;5;241m.\u001b[39mdefault_inputs\u001b[38;5;241m.\u001b[39mupdate({\n\u001b[1;32m    479\u001b[0m         key: value\n\u001b[1;32m    480\u001b[0m         \u001b[38;5;28;01mfor\u001b[39;00m key, value \u001b[38;5;129;01min\u001b[39;00m init_chain\u001b[38;5;241m.\u001b[39mexecute(input_data)\u001b[38;5;241m.\u001b[39mitems()\n\u001b[1;32m    481\u001b[0m         \u001b[38;5;28;01mif\u001b[39;00m key \u001b[38;5;129;01min\u001b[39;00m \u001b[38;5;28mself\u001b[39m\u001b[38;5;241m.\u001b[39minput_grammar\u001b[38;5;241m.\u001b[39mnames\n\u001b[1;32m    482\u001b[0m     })\n\u001b[1;32m    483\u001b[0m     \u001b[38;5;28mself\u001b[39m\u001b[38;5;241m.\u001b[39m__initialize_defaults \u001b[38;5;241m=\u001b[39m \u001b[38;5;28;01mFalse\u001b[39;00m\n\u001b[0;32m--> 484\u001b[0m \u001b[38;5;28;01mreturn\u001b[39;00m \u001b[38;5;28;43msuper\u001b[39;49m\u001b[43m(\u001b[49m\u001b[43m)\u001b[49m\u001b[38;5;241;43m.\u001b[39;49m\u001b[43mexecute\u001b[49m\u001b[43m(\u001b[49m\u001b[43minput_data\u001b[49m\u001b[38;5;241;43m=\u001b[39;49m\u001b[43minput_data\u001b[49m\u001b[43m)\u001b[49m\n",
      "File \u001b[0;32m/opt/homebrew/Caskroom/miniforge/base/envs/AeroMAPS_private/lib/python3.9/site-packages/gemseo/mda/base_mda.py:713\u001b[0m, in \u001b[0;36mBaseMDA.execute\u001b[0;34m(self, input_data)\u001b[0m\n\u001b[1;32m    709\u001b[0m \u001b[38;5;28;01mdef\u001b[39;00m \u001b[38;5;21mexecute\u001b[39m(  \u001b[38;5;66;03m# noqa:D102\u001b[39;00m\n\u001b[1;32m    710\u001b[0m     \u001b[38;5;28mself\u001b[39m, input_data: StrKeyMapping \u001b[38;5;241m|\u001b[39m \u001b[38;5;28;01mNone\u001b[39;00m \u001b[38;5;241m=\u001b[39m \u001b[38;5;28;01mNone\u001b[39;00m\n\u001b[1;32m    711\u001b[0m ) \u001b[38;5;241m-\u001b[39m\u001b[38;5;241m>\u001b[39m DisciplineData:\n\u001b[1;32m    712\u001b[0m     \u001b[38;5;28mself\u001b[39m\u001b[38;5;241m.\u001b[39m_current_iter \u001b[38;5;241m=\u001b[39m \u001b[38;5;241m0\u001b[39m\n\u001b[0;32m--> 713\u001b[0m     \u001b[38;5;28;01mreturn\u001b[39;00m \u001b[38;5;28;43msuper\u001b[39;49m\u001b[43m(\u001b[49m\u001b[43m)\u001b[49m\u001b[38;5;241;43m.\u001b[39;49m\u001b[43mexecute\u001b[49m\u001b[43m(\u001b[49m\u001b[43minput_data\u001b[49m\u001b[38;5;241;43m=\u001b[39;49m\u001b[43minput_data\u001b[49m\u001b[43m)\u001b[49m\n",
      "File \u001b[0;32m/opt/homebrew/Caskroom/miniforge/base/envs/AeroMAPS_private/lib/python3.9/site-packages/gemseo/core/discipline.py:988\u001b[0m, in \u001b[0;36mMDODiscipline.execute\u001b[0;34m(self, input_data)\u001b[0m\n\u001b[1;32m    985\u001b[0m \u001b[38;5;28mself\u001b[39m\u001b[38;5;241m.\u001b[39m_cache_was_loaded \u001b[38;5;241m=\u001b[39m \u001b[38;5;28;01mFalse\u001b[39;00m\n\u001b[1;32m    987\u001b[0m \u001b[38;5;28;01mif\u001b[39;00m \u001b[38;5;28mself\u001b[39m\u001b[38;5;241m.\u001b[39mactivate_input_data_check:\n\u001b[0;32m--> 988\u001b[0m     \u001b[38;5;28;43mself\u001b[39;49m\u001b[38;5;241;43m.\u001b[39;49m\u001b[43mcheck_input_data\u001b[49m\u001b[43m(\u001b[49m\u001b[43minput_data\u001b[49m\u001b[43m)\u001b[49m\n\u001b[1;32m    990\u001b[0m \u001b[38;5;66;03m# Keep a pristine copy of the inputs before it is eventually changed.\u001b[39;00m\n\u001b[1;32m    991\u001b[0m inputs_for_cache \u001b[38;5;241m=\u001b[39m \u001b[38;5;28mself\u001b[39m\u001b[38;5;241m.\u001b[39m__create_input_data_for_cache(input_data)\n",
      "File \u001b[0;32m/opt/homebrew/Caskroom/miniforge/base/envs/AeroMAPS_private/lib/python3.9/site-packages/gemseo/core/discipline.py:2006\u001b[0m, in \u001b[0;36mMDODiscipline.check_input_data\u001b[0;34m(self, input_data, raise_exception)\u001b[0m\n\u001b[1;32m   1994\u001b[0m \u001b[38;5;28;01mdef\u001b[39;00m \u001b[38;5;21mcheck_input_data\u001b[39m(\n\u001b[1;32m   1995\u001b[0m     \u001b[38;5;28mself\u001b[39m,\n\u001b[1;32m   1996\u001b[0m     input_data: StrKeyMapping,\n\u001b[1;32m   1997\u001b[0m     raise_exception: \u001b[38;5;28mbool\u001b[39m \u001b[38;5;241m=\u001b[39m \u001b[38;5;28;01mTrue\u001b[39;00m,\n\u001b[1;32m   1998\u001b[0m ) \u001b[38;5;241m-\u001b[39m\u001b[38;5;241m>\u001b[39m \u001b[38;5;28;01mNone\u001b[39;00m:\n\u001b[1;32m   1999\u001b[0m \u001b[38;5;250m    \u001b[39m\u001b[38;5;124;03m\"\"\"Check the input data validity.\u001b[39;00m\n\u001b[1;32m   2000\u001b[0m \n\u001b[1;32m   2001\u001b[0m \u001b[38;5;124;03m    Args:\u001b[39;00m\n\u001b[0;32m   (...)\u001b[0m\n\u001b[1;32m   2004\u001b[0m \u001b[38;5;124;03m        raise_exception: Whether to raise on error.\u001b[39;00m\n\u001b[1;32m   2005\u001b[0m \u001b[38;5;124;03m    \"\"\"\u001b[39;00m\n\u001b[0;32m-> 2006\u001b[0m     \u001b[38;5;28;43mself\u001b[39;49m\u001b[38;5;241;43m.\u001b[39;49m\u001b[43minput_grammar\u001b[49m\u001b[38;5;241;43m.\u001b[39;49m\u001b[43mvalidate\u001b[49m\u001b[43m(\u001b[49m\u001b[43minput_data\u001b[49m\u001b[43m,\u001b[49m\u001b[43m \u001b[49m\u001b[43mraise_exception\u001b[49m\u001b[43m)\u001b[49m\n",
      "File \u001b[0;32m/opt/homebrew/Caskroom/miniforge/base/envs/AeroMAPS_private/lib/python3.9/site-packages/gemseo/core/grammars/base_grammar.py:406\u001b[0m, in \u001b[0;36mBaseGrammar.validate\u001b[0;34m(self, data, raise_exception)\u001b[0m\n\u001b[1;32m    404\u001b[0m LOGGER\u001b[38;5;241m.\u001b[39merror(error_message)\n\u001b[1;32m    405\u001b[0m \u001b[38;5;28;01mif\u001b[39;00m raise_exception:\n\u001b[0;32m--> 406\u001b[0m     \u001b[38;5;28;01mraise\u001b[39;00m InvalidDataError(\u001b[38;5;28mstr\u001b[39m(error_message)) \u001b[38;5;28;01mfrom\u001b[39;00m \u001b[38;5;28;01mNone\u001b[39;00m\n",
      "\u001b[0;31mInvalidDataError\u001b[0m: Grammar MDA chain_discipline_input: validation failed.\nBad type for rpk_init: <class 'list'> instead of <class 'pandas.core.series.Series'>.\nBad type for ask_init: <class 'list'> instead of <class 'pandas.core.series.Series'>.\nBad type for energy_consumption_init: <class 'list'> instead of <class 'pandas.core.series.Series'>.\nBad type for rtk_init: <class 'list'> instead of <class 'pandas.core.series.Series'>.\nBad type for total_aircraft_distance_init: <class 'list'> instead of <class 'pandas.core.series.Series'>."
     ]
    }
   ],
   "source": [
    "process.compute()"
   ]
  },
  {
   "cell_type": "code",
   "execution_count": null,
   "id": "8de3b6cb-8e84-48a4-acb9-1277973f321d",
   "metadata": {
    "tags": []
   },
   "outputs": [],
   "source": [
    "process.plot(\"air_transport_co2_emissions\")"
   ]
  },
  {
   "cell_type": "markdown",
   "id": "f0558667-94cd-4026-89c9-f024807cd129",
   "metadata": {},
   "source": [
    "### Cas 1 \n",
    "\n",
    "min cumulative_total_airline_cost_discounted\n",
    "\n",
    "w.r.t. biofuel_share_reference_years_values, electrofuel_share_reference_years_values, \n",
    "\n",
    "s.t. cumulative_co2_emissions, electricity_consumption, biomass_consumption, max(biofuel_share_prospective + electrofuel_share_prospective)\n",
    "\n"
   ]
  },
  {
   "cell_type": "code",
   "execution_count": null,
   "id": "a1248a48-b331-4f99-8ddd-1275f6ecc3a5",
   "metadata": {},
   "outputs": [],
   "source": [
    "models = {\n",
    "    \"models_optim_simple\": models_optim_simple,\n",
    "    \n",
    "}"
   ]
  },
  {
   "cell_type": "markdown",
   "id": "0e6f46db-ecd1-4980-bcca-fecedf488c94",
   "metadata": {},
   "source": [
    "### Cas 2"
   ]
  },
  {
   "cell_type": "code",
   "execution_count": null,
   "id": "70a6e568-e017-479f-bf05-057cbb5db5d8",
   "metadata": {},
   "outputs": [],
   "source": [
    "models = {\n",
    "    \"models_optim_compex\": models_optim_complex,\n",
    "}"
   ]
  },
  {
   "cell_type": "markdown",
   "id": "1abb910c-15a4-41fa-8589-f8517f062e2a",
   "metadata": {
    "tags": []
   },
   "source": [
    "# 3- Analyses"
   ]
  },
  {
   "cell_type": "markdown",
   "id": "4132a751-efdb-4611-a964-c49f50ba1b4b",
   "metadata": {
    "tags": []
   },
   "source": [
    "## 3-a) Base Scenario sustainability \n",
    "\n",
    "Lets begin by exploring the sustainability of the scenario:\n",
    "- $CO_2$ emissions trajectory\n",
    "- Fuels emission factors\n",
    "- Ressources consumption"
   ]
  },
  {
   "cell_type": "code",
   "execution_count": null,
   "id": "1dedbb80-9cf6-4e67-9627-0c5482c1ab32",
   "metadata": {
    "tags": []
   },
   "outputs": [],
   "source": [
    "plt.rc(\"hatch\", linewidth=1)"
   ]
  },
  {
   "cell_type": "markdown",
   "id": "dce34fc8-e731-4801-b4cb-1e1ba251e058",
   "metadata": {
    "tags": []
   },
   "source": [
    "## 3-b) Costs\n",
    "\n",
    "Then two cost parameters are presented here:\n",
    "- Energy Cost \n",
    "- Aircraft DOC"
   ]
  },
  {
   "cell_type": "code",
   "execution_count": null,
   "id": "a2e741e3-5cfb-4698-9c3f-31810e613db6",
   "metadata": {
    "tags": []
   },
   "outputs": [],
   "source": [
    "process.plot(\"energy_expenses_without_carbon_tax\")"
   ]
  },
  {
   "cell_type": "code",
   "execution_count": null,
   "id": "ebee9491-f970-47ff-bde6-b3677ed9ed7a",
   "metadata": {
    "tags": []
   },
   "outputs": [],
   "source": [
    "process.vector_outputs_df[\"electricity_emission_factor\"]"
   ]
  },
  {
   "cell_type": "code",
   "execution_count": null,
   "id": "6e16ae60-fa5f-47d9-953e-726416301cd9",
   "metadata": {
    "tags": []
   },
   "outputs": [],
   "source": [
    "process.data[\"float_outputs\"][\"aviation_carbon_budget_constraint\"]"
   ]
  },
  {
   "cell_type": "code",
   "execution_count": null,
   "id": "3b35bac9-3c55-4a6c-b0d0-dad485e61c91",
   "metadata": {
    "tags": []
   },
   "outputs": [],
   "source": [
    "process.vector_outputs_df[\"biofuel\"]"
   ]
  },
  {
   "cell_type": "code",
   "execution_count": null,
   "id": "bae7aa93-ba9b-4518-bcfb-5ea5e7beb46e",
   "metadata": {
    "tags": []
   },
   "outputs": [],
   "source": [
    "process.vector_outputs_df[\"rpk_short_range\"]"
   ]
  },
  {
   "cell_type": "code",
   "execution_count": null,
   "id": "11e1c76c-602d-45f4-a262-3361b85c6479",
   "metadata": {},
   "outputs": [],
   "source": []
  }
 ],
 "metadata": {
  "kernelspec": {
   "display_name": "Python 3 (ipykernel)",
   "language": "python",
   "name": "python3"
  },
  "language_info": {
   "codemirror_mode": {
    "name": "ipython",
    "version": 3
   },
   "file_extension": ".py",
   "mimetype": "text/x-python",
   "name": "python",
   "nbconvert_exporter": "python",
   "pygments_lexer": "ipython3",
   "version": "3.9.19"
  }
 },
 "nbformat": 4,
 "nbformat_minor": 5
}
