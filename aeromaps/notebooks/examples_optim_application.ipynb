{
 "cells": [
  {
   "cell_type": "markdown",
   "id": "23c89ead-e80d-4557-bc08-3ce5465005f9",
   "metadata": {},
   "source": [
    "Notebook for Optim application. Notebook for supplementary material of a submitted publication. \n",
    "\n",
    "### Imports and settings"
   ]
  },
  {
   "cell_type": "code",
   "execution_count": 1,
   "id": "f479de1f-5757-45d7-b718-03ea76b4851f",
   "metadata": {
    "tags": []
   },
   "outputs": [
    {
     "data": {
      "text/plain": [
       "<RootLogger root (INFO)>"
      ]
     },
     "execution_count": 1,
     "metadata": {},
     "output_type": "execute_result"
    }
   ],
   "source": [
    "import matplotlib.pyplot as plt\n",
    "import pandas as pd\n",
    "import numpy as np\n",
    "import json\n",
    "\n",
    "\n",
    "%matplotlib widget\n",
    "import time\n",
    "import numpy as np\n",
    "from aeromaps import create_process\n",
    "from aeromaps.core.models import (\n",
    "    models_optim_simple,\n",
    ")\n",
    "\n",
    "import gemseo as gm\n",
    "gm.configure_logger()"
   ]
  },
  {
   "cell_type": "code",
   "execution_count": 2,
   "id": "dc7c71e7-e7b1-4c61-8530-37b989dee180",
   "metadata": {
    "jupyter": {
     "source_hidden": true
    },
    "tags": []
   },
   "outputs": [],
   "source": [
    "# # Define the quantity range\n",
    "# quantity = np.linspace(1, 16, 1000)  # Define quantity range\n",
    "\n",
    "# # Constant elasticity demand function: P = a * Q^(-1/b)\n",
    "# a = 17\n",
    "# b = 0.4\n",
    "# price = (a / quantity) ** (1 / b)\n",
    "\n",
    "# # Market prices\n",
    "# market_price = 2\n",
    "# market_price_1 = 4\n",
    "\n",
    "# # Plotting the demand curve\n",
    "# plt.figure(figsize=(10, 6))\n",
    "# plt.plot(quantity, price, label=\"Demand Curve\", color=\"#031926\")\n",
    "\n",
    "# # Highlighting the consumer surplus area for the first market price\n",
    "# plt.fill_between(\n",
    "#     quantity,\n",
    "#     market_price,\n",
    "#     price,\n",
    "#     where=(price >= market_price),\n",
    "#     interpolate=True,\n",
    "#     color=\"#9DBEBB\",\n",
    "#     alpha=0.5,\n",
    "#     label=\"Initial Surplus\",\n",
    "# )\n",
    "\n",
    "# # Highlighting the additional consumer surplus area for the second market price\n",
    "# plt.fill_between(\n",
    "#     quantity,\n",
    "#     market_price,\n",
    "#     price,\n",
    "#     where=((price >= market_price) & (price <= market_price_1)),\n",
    "#     interpolate=False,\n",
    "#     facecolor=\"none\",\n",
    "#     edgecolor=\"#41625F\",\n",
    "#     alpha=1,\n",
    "#     hatch=\"/\",\n",
    "#     linewidth=0,\n",
    "# )\n",
    "\n",
    "# # Highlighting the additional consumer surplus area for the second market price\n",
    "# plt.fill_between(\n",
    "#     quantity,\n",
    "#     market_price,\n",
    "#     market_price_1,\n",
    "#     where=((price >= market_price_1 - 0.01)),\n",
    "#     interpolate=False,\n",
    "#     facecolor=\"none\",\n",
    "#     edgecolor=\"#41625F\",\n",
    "#     alpha=1,\n",
    "#     linewidth=0,\n",
    "#     hatch=\"/\",\n",
    "# )\n",
    "\n",
    "# # Adding the equilibrium price lines\n",
    "\n",
    "# plt.fill_between(\n",
    "#     quantity,\n",
    "#     market_price - 0.8,\n",
    "#     market_price,\n",
    "#     where=((price >= market_price)),\n",
    "#     interpolate=False,\n",
    "#     color=\"#D38F22\",\n",
    "#     alpha=0.5,\n",
    "#     label=\"Initial Profit\",\n",
    "# )\n",
    "\n",
    "# plt.fill_between(\n",
    "#     quantity,\n",
    "#     market_price - 0.8,\n",
    "#     market_price,\n",
    "#     where=((price <= market_price_1) & (price >= market_price)),\n",
    "#     interpolate=False,\n",
    "#     color=\"none\",\n",
    "#     edgecolor=\"#9E6B1A\",\n",
    "#     alpha=1,\n",
    "#     linewidth=1,\n",
    "#     hatch=\"\\\\\",\n",
    "# )\n",
    "\n",
    "\n",
    "# plt.fill_between(\n",
    "#     quantity,\n",
    "#     market_price_1,\n",
    "#     market_price_1_notax,\n",
    "#     where=((price >= market_price_1)),\n",
    "#     interpolate=False,\n",
    "#     color=\"none\",\n",
    "#     edgecolor=\"#A86185\",\n",
    "#     alpha=1,\n",
    "#     linewidth=1,\n",
    "#     hatch=\".\",\n",
    "# )\n",
    "\n",
    "\n",
    "# plt.axhline(\n",
    "#     y=market_price - 0.8, color=\"#D38F22\", linestyle=\"--\", linewidth=2, label=\"Initial Average Cost\"\n",
    "# )\n",
    "# plt.axhline(y=market_price, color=\"#D38F22\", linestyle=\":\", linewidth=2, label=\"Initial Price\")\n",
    "\n",
    "# plt.axhline(y=market_price_1, color=\"#D90F08\", linestyle=\":\", linewidth=2, label=\"New Price\")\n",
    "\n",
    "# market_price_1_notax = market_price + 0.6 * (-market_price + market_price_1)\n",
    "\n",
    "# plt.axhline(\n",
    "#     y=market_price_1_notax,\n",
    "#     color=\"#D90F08\",\n",
    "#     linestyle=\"-.\",\n",
    "#     linewidth=2,\n",
    "#     label=\"New price without tax\",\n",
    "# )\n",
    "\n",
    "\n",
    "# # Adding P1 and P2 at the intersection of the demand curve with market prices\n",
    "# P1 = quantity[np.abs(price - market_price).argmin()]\n",
    "# P2 = quantity[np.abs(price - market_price_1).argmin()]\n",
    "# plt.scatter([P1, P2], [market_price, market_price_1], color=\"black\")\n",
    "# plt.text(\n",
    "#     P1 + 0.2,\n",
    "#     market_price + 0.2,\n",
    "#     \" E1\",\n",
    "#     verticalalignment=\"bottom\",\n",
    "#     horizontalalignment=\"right\",\n",
    "#     color=\"black\",\n",
    "#     fontsize=14,\n",
    "# )\n",
    "# plt.text(\n",
    "#     P2 + 0.2,\n",
    "#     market_price_1 + 0.2,\n",
    "#     \" E2\",\n",
    "#     verticalalignment=\"bottom\",\n",
    "#     horizontalalignment=\"right\",\n",
    "#     color=\"black\",\n",
    "#     fontsize=14,\n",
    "# )\n",
    "\n",
    "# # Adding text in the lost surplus zone\n",
    "# plt.text(\n",
    "#     10,\n",
    "#     (market_price + market_price_1) / 2.3,\n",
    "#     \"Lost Surplus\",\n",
    "#     verticalalignment=\"center\",\n",
    "#     horizontalalignment=\"center\",\n",
    "#     color=\"black\",\n",
    "#     fontsize=14,\n",
    "#     bbox=dict(facecolor=\"#C2D6D4\", alpha=1, boxstyle=\"round\"),\n",
    "# )\n",
    "\n",
    "# plt.text(\n",
    "#     11.2,\n",
    "#     (market_price - 0.42),\n",
    "#     \"Lost Profit\",\n",
    "#     verticalalignment=\"center\",\n",
    "#     horizontalalignment=\"center\",\n",
    "#     color=\"black\",\n",
    "#     fontsize=14,\n",
    "#     bbox=dict(facecolor=\"#EBC484\", alpha=1, boxstyle=\"round\"),\n",
    "# )\n",
    "\n",
    "# plt.text(\n",
    "#     8,\n",
    "#     (market_price_1_notax + 0.4),\n",
    "#     \"Extra tax raised\",\n",
    "#     verticalalignment=\"center\",\n",
    "#     horizontalalignment=\"center\",\n",
    "#     color=\"black\",\n",
    "#     fontsize=14,\n",
    "#     bbox=dict(facecolor=\"#B77B99\", alpha=1, boxstyle=\"round\"),\n",
    "# )\n",
    "\n",
    "\n",
    "# # Adding arrows and text between each hline\n",
    "\n",
    "# # Arrow and text between Initial Price and Initial Average Cost\n",
    "# plt.annotate(\n",
    "#     \"\",\n",
    "#     xy=(13.2, market_price_1_notax),\n",
    "#     xytext=(13.2, market_price_1),\n",
    "#     arrowprops=dict(arrowstyle=\"<->\", color=\"black\"),\n",
    "# )\n",
    "# plt.text(\n",
    "#     13.4,\n",
    "#     (market_price_1_notax + market_price_1) / 2,\n",
    "#     \"Price increase: extra tax\",\n",
    "#     verticalalignment=\"center\",\n",
    "#     horizontalalignment=\"left\",\n",
    "#     color=\"black\",\n",
    "#     fontsize=12,\n",
    "# )\n",
    "\n",
    "# # Arrow and text between Initial Price and New Price\n",
    "# plt.annotate(\n",
    "#     \"\",\n",
    "#     xy=(13.2, market_price),\n",
    "#     xytext=(13.2, market_price_1_notax),\n",
    "#     arrowprops=dict(arrowstyle=\"<->\", color=\"black\"),\n",
    "# )\n",
    "# plt.text(\n",
    "#     13.4,\n",
    "#     (market_price + market_price_1) / 2.2,\n",
    "#     \"Price increase: change in cost\",\n",
    "#     verticalalignment=\"center\",\n",
    "#     horizontalalignment=\"left\",\n",
    "#     color=\"black\",\n",
    "#     fontsize=12,\n",
    "# )\n",
    "\n",
    "\n",
    "# # Labels and title\n",
    "# plt.xlabel(\"Demand\", fontsize=14)\n",
    "\n",
    "# plt.ylabel(\"Price\", fontsize=14)\n",
    "\n",
    "# # Customizing ticks\n",
    "# plt.xticks([])\n",
    "# plt.yticks([0])\n",
    "# plt.xlim(7, 16)\n",
    "# plt.ylim(0, 7)\n",
    "\n",
    "# plt.legend(fontsize=14, ncol=2)\n",
    "# plt.tight_layout()\n",
    "# plt.savefig(\"CS_simple.pdf\")"
   ]
  },
  {
   "cell_type": "markdown",
   "id": "927e248c-3b8e-4850-91f3-88f57d09f94e",
   "metadata": {},
   "source": [
    "# 1- Scenario initialisation and settings\n",
    "\n",
    "The first phase corresponds to running a first, central scenario with AeroMAPS. Other runs ar performed afterwards."
   ]
  },
  {
   "cell_type": "code",
   "execution_count": 3,
   "id": "95709522-84bd-44a0-a63a-7374c6aeea65",
   "metadata": {
    "tags": []
   },
   "outputs": [],
   "source": [
    "from aeromaps.utils.functions import create_partitioning"
   ]
  },
  {
   "cell_type": "code",
   "execution_count": 4,
   "id": "46971271-e2f4-442a-ba03-11c4398a9058",
   "metadata": {
    "tags": []
   },
   "outputs": [],
   "source": [
    "# create_partitioning(file=\"data_optim/aeroscope_europe_data.csv\", path=\"data_optim\")"
   ]
  },
  {
   "cell_type": "markdown",
   "id": "221c45a8-b4b1-4650-a767-b32210de8098",
   "metadata": {},
   "source": [
    "## 2. Run AeroMAPS on this studied scope"
   ]
  },
  {
   "cell_type": "code",
   "execution_count": 5,
   "id": "60e7a4d4-bd84-44d9-b649-aa0e8c86b1a1",
   "metadata": {
    "tags": []
   },
   "outputs": [],
   "source": [
    "%matplotlib widget\n",
    "from aeromaps import create_process\n",
    "from aeromaps.core.models import default_models_top_down"
   ]
  },
  {
   "cell_type": "code",
   "execution_count": 6,
   "id": "2cc981cb-d0b9-41e8-99a8-912fec7d7d58",
   "metadata": {
    "tags": []
   },
   "outputs": [],
   "source": [
    "models = {\n",
    "    \"models_optim_simple\": models_optim_simple,\n",
    "}"
   ]
  },
  {
   "cell_type": "markdown",
   "id": "b397a078-2985-406d-bee8-55afd2568261",
   "metadata": {},
   "source": [
    "Create process as usual, the partitionning is recuperated as specified in the config file."
   ]
  },
  {
   "cell_type": "code",
   "execution_count": 7,
   "id": "1f086770-d53a-44f3-97d0-336fd7a40cac",
   "metadata": {
    "tags": []
   },
   "outputs": [],
   "source": [
    "process = create_process(\n",
    "    # configuration_file=\"data_optim/config.json\",\n",
    "    models=models,\n",
    "    use_fleet_model=False\n",
    ")"
   ]
  },
  {
   "cell_type": "markdown",
   "id": "0ef8e51e-dd99-4707-b2ae-86fc8d9a8e5e",
   "metadata": {
    "tags": []
   },
   "source": [
    "## 1-a) Air traffic evolution\n",
    "\n",
    "As of April 2024, AeroMAPS is considering an exgenous growth rate.\n",
    "For the purposes of this article, an uniform growth rate of 3% is set. This is significantly lower from industry prospects such as [Airbus GMF: 3.6%](https://www.airbus.com/en/products-services/commercial-aircraft/market/global-market-forecast) or [Boeing CMO: 3.8%](https://www.boeing.com/content/dam/boeing/boeingdotcom/market/assets/downloads/CMO_2022_Report_FINAL_v02.pdf), but higher than [IEA Net Zero: 2.1% (2019 as base year)](https://www.iea.org/reports/net-zero-roadmap-a-global-pathway-to-keep-the-15-0c-goal-in-reach).\n"
   ]
  },
  {
   "cell_type": "code",
   "execution_count": 8,
   "id": "a5f79996-e6ef-4434-8844-11a93122c3f2",
   "metadata": {
    "tags": []
   },
   "outputs": [],
   "source": [
    "## Growth rate by category [%]\n",
    "# process.parameters.cagr_passenger_short_range_reference_periods = []\n",
    "# process.parameters.cagr_passenger_short_range_reference_periods_values = [-1.0]\n",
    "# process.parameters.cagr_passenger_medium_range_reference_periods = []\n",
    "# process.parameters.cagr_passenger_medium_range_reference_periods_values = [1.0]\n",
    "# process.parameters.cagr_passenger_long_range_reference_periods = []\n",
    "# process.parameters.cagr_passenger_long_range_reference_periods_values = [1.0]\n",
    "# process.parameters.cagr_freight_reference_periods = []\n",
    "# process.parameters.cagr_freight_reference_periods_values = [1.0]"
   ]
  },
  {
   "cell_type": "markdown",
   "id": "99ad83c8-eb43-46a2-968b-e495905b9cd2",
   "metadata": {
    "tags": []
   },
   "source": [
    "## 1-b) Aircraft fleet\n",
    "\n",
    "Top-down fleet, without hydrogen aircraft, callibrated on the fleet of the MACC applciation, with drop-in instead of h2  \n",
    "http://localhost:8888/lab/tree/aeromaps/notebooks/data_cost/top_down_cost_callibration_phd.ipynb\n",
    "\n",
    "Mean annual efficiency improvement: 1.4% --> applied to all catgeories"
   ]
  },
  {
   "cell_type": "code",
   "execution_count": 9,
   "id": "118fe016-9846-4a2a-918e-5e8f300dea99",
   "metadata": {
    "tags": []
   },
   "outputs": [],
   "source": [
    "# process.parameters.energy_per_ask_short_range_dropin_fuel_gain_reference_years = []\n",
    "# process.parameters.energy_per_ask_short_range_dropin_fuel_gain_reference_years_values = [1.4]\n",
    "# process.parameters.energy_per_ask_medium_range_dropin_fuel_gain_reference_years = []\n",
    "# process.parameters.energy_per_ask_medium_range_dropin_fuel_gain_reference_years_values = [1.4]\n",
    "# process.parameters.energy_per_ask_long_range_dropin_fuel_gain_reference_years = []\n",
    "# process.parameters.energy_per_ask_long_range_dropin_fuel_gain_reference_years_values = [1.4]\n",
    "\n",
    "## Hydrogen aircraft\n",
    "# NONE"
   ]
  },
  {
   "cell_type": "markdown",
   "id": "deb4792a-411b-45d9-9fd2-b97bb85a9d7c",
   "metadata": {},
   "source": [
    "### 1-c) Operational improvements\n",
    "\n",
    "Operational improvements are considered via two opportunities. \n",
    "- Load factor improvement: improvement to 89% at the end of the scenario.\n",
    "- Operational efficiency (better ATM, aircrfat MRO and operational optimisation): improvement of 8% in 25y. \n",
    "\n",
    "Cost savings incur through the fuel savings. However, it could come at an extra cost (non-energy). This parameter is modelled, but not considered in this article due to lack of specific informations to the best of our knowldege.\n"
   ]
  },
  {
   "cell_type": "code",
   "execution_count": 10,
   "id": "ab476bc9-f507-4bd4-9335-1002d2977a90",
   "metadata": {
    "tags": []
   },
   "outputs": [],
   "source": [
    "# process.parameters.load_factor_end_year = 89.0  # 2019 value: 82.399312"
   ]
  },
  {
   "cell_type": "code",
   "execution_count": 11,
   "id": "4349dc55-808c-4ebe-a493-7210032b3fb8",
   "metadata": {
    "tags": []
   },
   "outputs": [],
   "source": [
    "# # Aircraft fleet and operation evolution - Operations\n",
    "\n",
    "# ## Values for setting the logistic function\n",
    "# process.parameters.operations_final_gain = 8.0  # [%]\n",
    "# process.parameters.operations_start_year = 2025\n",
    "# process.parameters.operations_duration = 25.0"
   ]
  },
  {
   "cell_type": "markdown",
   "id": "4e060f89-e3c6-43a8-bc64-61399941760a",
   "metadata": {},
   "source": [
    "## 1-d) Energy\n",
    "\n",
    "Top-down callibrated on the values of teh MACC apllication.\n",
    "Faster optim but caution as MFSP full computation is more detailled: larges use of e-fuel in the begining influence late mFSp (no-decomissioning)"
   ]
  },
  {
   "cell_type": "code",
   "execution_count": 12,
   "id": "3d71b69d-b5c6-4607-b760-7930973671b9",
   "metadata": {
    "slideshow": {
     "slide_type": "subslide"
    },
    "tags": []
   },
   "outputs": [],
   "source": [
    "# # Energy settings: production choices\n",
    "\n",
    "# # Aircraft energy - Introduction of alternative drop-in fuels\n",
    "\n",
    "# ## Share of alternative fuels in the drop-in fuel mix (the rest being supplemented by kerosene) [%]\n",
    "process.parameters.biofuel_share_reference_years = [2020, 2025, 2030, 2035, 2040, 2045, 2050]\n",
    "process.parameters.biofuel_share_reference_years_values = [0, 2, 4.8, 15, 24, 27, 35]\n",
    "process.parameters.electrofuel_share_reference_years = [2020, 2025, 2030, 2035, 2040, 2045, 2050]\n",
    "process.parameters.electrofuel_share_reference_years_values = [0, 0, 1.2, 5, 10, 15, 35]\n",
    "\n",
    "\n",
    "# ## Share of biofuel production pathways (the rest being completed by AtJ processes) [%]\n",
    "# process.parameters.biofuel_hefa_fog_share_reference_years = []\n",
    "# process.parameters.biofuel_hefa_fog_share_reference_years_values = [0.6]\n",
    "# process.parameters.biofuel_hefa_others_share_reference_years = []\n",
    "# process.parameters.biofuel_hefa_others_share_reference_years_values = [12.5]\n",
    "# process.parameters.biofuel_ft_others_share_reference_years = []\n",
    "# process.parameters.biofuel_ft_others_share_reference_years_values = [68.9]\n",
    "# process.parameters.biofuel_ft_msw_share_reference_years = []\n",
    "# process.parameters.biofuel_ft_msw_share_reference_years_values = [6.6]\n"
   ]
  },
  {
   "cell_type": "code",
   "execution_count": 13,
   "id": "bf9baeef-47b6-4af0-9bf2-833e39ec3477",
   "metadata": {
    "slideshow": {
     "slide_type": "subslide"
    },
    "tags": []
   },
   "outputs": [],
   "source": [
    "# process.parameters.biofuel_hefa_fog_mfsp_simple_reference_years = []\n",
    "# process.parameters.biofuel_hefa_fog_mfsp_simple_reference_years_values = [0.815488]\n",
    "# process.parameters.biofuel_hefa_others_mfsp_simple_reference_years = []\n",
    "# process.parameters.biofuel_hefa_others_mfsp_simple_reference_years_values = [1.052703]\n",
    "# process.parameters.biofuel_ft_others_mfsp_simple_reference_years = []\n",
    "# process.parameters.biofuel_ft_others_mfsp_simple_reference_years_values = [1.378082]\n",
    "# process.parameters.biofuel_ft_msw_mfsp_simple_reference_years = []\n",
    "# process.parameters.biofuel_ft_msw_mfsp_simple_reference_years_values = [1.142423]\n",
    "# process.parameters.biofuel_atj_mfsp_simple_reference_years = []\n",
    "# process.parameters.biofuel_atj_mfsp_simple_reference_years_values = [1.38668]\n",
    "\n",
    "# process.parameters.electrofuel_mfsp_simple_reference_years = [\n",
    "#     2020, 2021, 2022, 2023, 2024, 2025, 2026, 2027, 2028, 2029, 2030,\n",
    "#     2031, 2032, 2033, 2034, 2035, 2036, 2037, 2038, 2039, 2040, 2041,\n",
    "#     2042, 2043, 2044, 2045, 2046, 2047, 2048, 2049, 2050\n",
    "# ]\n",
    "# process.parameters.electrofuel_mfsp_simple_reference_years_values = [\n",
    "#     3.720546, 3.720546, 3.720546, 3.720546, 3.720546, 3.720546, 3.720546,\n",
    "#     3.573659, 3.426978, 3.277308, 3.130003, 3.095717, 3.062247, 3.029682,\n",
    "#     2.998903, 2.971869, 2.946851, 2.923276, 2.901135, 2.882374, 2.866464,\n",
    "#     2.852876, 2.841350, 2.829845, 2.807006, 2.774737, 2.737160, 2.698305,\n",
    "#     2.660365, 2.624329, 2.590476\n",
    "# ]\n",
    "\n",
    "\n",
    "process.parameters.electricity_emission_factor_reference_years = [2020, 2030, 2040, 2050]\n",
    "process.parameters.electricity_emission_factor_reference_years_values = [0, 0, 0, 0]\n",
    "\n",
    "process.parameters.aviation_carbon_budget_objective = 3."
   ]
  },
  {
   "cell_type": "markdown",
   "id": "58589dd8-11d2-435a-bf7c-9d3cc70676b4",
   "metadata": {},
   "source": [
    "## 1-e) Other process.parameters "
   ]
  },
  {
   "cell_type": "markdown",
   "id": "0fc38e2c-be44-49a1-bbbb-97b53c0e4551",
   "metadata": {
    "tags": []
   },
   "source": [
    "Downscaling not automatic"
   ]
  },
  {
   "cell_type": "code",
   "execution_count": 14,
   "id": "a4148162-d43f-4053-ab13-aece0381b050",
   "metadata": {
    "slideshow": {
     "slide_type": "subslide"
    },
    "tags": []
   },
   "outputs": [],
   "source": [
    "# # Environmental limits\n",
    "\n",
    "# ## Carbon budgets and Carbon Dioxide Removal [GtCO2]\n",
    "# process.parameters.net_carbon_budget = 850.0\n",
    "# process.parameters.carbon_dioxyde_removal_2100 = 285.0"
   ]
  },
  {
   "cell_type": "code",
   "execution_count": 15,
   "id": "8e8bcda3-8aad-4f27-b1ae-6277fbc7f63a",
   "metadata": {
    "slideshow": {
     "slide_type": "subslide"
    },
    "tags": []
   },
   "outputs": [],
   "source": [
    "# # Allocation settings\n",
    "\n",
    "# ## Aviation share of the global (equivalent) carbon budget [%]\n",
    "# process.parameters.aviation_carbon_budget_allocated_share = 2.6\n",
    "# process.parameters.aviation_equivalentcarbonbudget_allocated_share = 5.1\n",
    "\n",
    "# ## Aviation share of the global energy resources (biomass and electricity) [%]\n",
    "# process.parameters.aviation_biomass_allocated_share = 5.0\n",
    "# process.parameters.aviation_electricity_allocated_share = 5.0"
   ]
  },
  {
   "cell_type": "markdown",
   "id": "13b2e06c-36fb-49bb-8ad6-5ca2aa130638",
   "metadata": {},
   "source": [
    "## 2 - Problem definition"
   ]
  },
  {
   "cell_type": "code",
   "execution_count": 30,
   "id": "7b29719b-e67b-496c-a957-5cb7a7dcd013",
   "metadata": {},
   "outputs": [
    {
     "name": "stderr",
     "output_type": "stream",
     "text": [
      " WARNING - 10:47:21: No coupling in MDA, switching chain_linearize to True.\n"
     ]
    }
   ],
   "source": [
    "from gemseo.algos.design_space import DesignSpace\n",
    "from gemseo import generate_n2_plot, create_scenario\n",
    "\n",
    "\n",
    "design_space = DesignSpace()\n",
    "\n",
    "# design_space.add_variable(\"load_factor_end_year\", size=1, lower_bound=89.0, upper_bound=89.5, value=89.2)\n",
    "design_space.add_variable(\"electrofuel_share_reference_years_values\", size=7, lower_bound=[0, 0, 0, 0, 0, 0, 0], upper_bound=[100, 100, 100,100, 100, 100, 100], value=[50, 50, 50, 50, 50, 50, 50])\n",
    "# design_space.add_variable(\"biofuel_share_reference_years_values\", size=7, lower_bound=np.array([0, 0, 0,0, 0, 0, 0]), upper_bound=np.array([100, 100, 100,100, 100, 100, 100]), value=np.array([0, 0, 1.2, 5, 10, 15, 35]))\n",
    "# design_space.add_variable(\"biofuel_share_reference_years_values\", size=1, lower_bound=1, upper_bound=100, value=5)\n",
    "\n",
    "objective_name = \"cumulative_total_airline_cost_discounted_obj\"\n",
    "\n",
    "\n",
    "process.gemseo_settings[\"design_space\"] = design_space\n",
    "\n",
    "process.gemseo_settings[\"objective_name\"] = objective_name\n",
    "\n",
    "# Create a GEMSEO scenario\n",
    "process.create_gemseo_scenario()\n",
    "\n",
    "# Set differention method (only use for gradient based optimizers)\n",
    "process.scenario.set_differentiation_method(\"finite_differences\")\n",
    "\n",
    "# Add constraints\n",
    "process.scenario.add_constraint('aviation_carbon_budget_constraint', 'ineq')\n",
    "\n",
    "process.scenario.formulation.optimization_problem.objective = process.scenario.formulation.optimization_problem.objective * 1e-0\n",
    "\n",
    "\n",
    "# Configure the algorithm used\n",
    "# config_algo = {\"algo\": \"NLOPT_COBYLA\", \"max_iter\": 100}\n",
    "# config_algo = {\"algo\": \"NLOPT_SLSQP\", \"max_iter\": 100}\n",
    "config_algo = {\"algo\": \"DIFFERENTIAL_EVOLUTION\", \"max_iter\": 1000}\n",
    "\n",
    "process.input_data.update(config_algo)"
   ]
  },
  {
   "cell_type": "markdown",
   "id": "15ee89f3-6718-4e51-89b3-eb261801f411",
   "metadata": {
    "slideshow": {
     "slide_type": "slide"
    },
    "tags": []
   },
   "source": [
    "# 2- Compute\n",
    "\n",
    "Run AeroMAPS process"
   ]
  },
  {
   "cell_type": "code",
   "execution_count": null,
   "id": "8896dc5f-ead6-4a45-b88c-53f94de24d6e",
   "metadata": {
    "slideshow": {
     "slide_type": "subslide"
    },
    "tags": []
   },
   "outputs": [
    {
     "name": "stderr",
     "output_type": "stream",
     "text": [
      "    INFO - 10:47:53:  \n",
      "    INFO - 10:47:53: *** Start MDOScenario execution ***\n",
      "    INFO - 10:47:53: MDOScenario\n",
      "    INFO - 10:47:53:    Disciplines: MDAChain\n",
      "    INFO - 10:47:53:    MDO formulation: MDF\n",
      "    INFO - 10:47:53: Optimization problem:\n",
      "    INFO - 10:47:53:    minimize 0.01*cumulative_total_airline_cost_discounted_obj(electrofuel_share_reference_years_values)\n",
      "    INFO - 10:47:53:    with respect to electrofuel_share_reference_years_values\n",
      "    INFO - 10:47:53:    subject to constraints:\n",
      "    INFO - 10:47:53:       aviation_carbon_budget_constraint(electrofuel_share_reference_years_values) <= 0\n",
      "    INFO - 10:47:53:    over the design space:\n",
      "    INFO - 10:47:53:       +---------------------------------------------+-------------+-------+-------------+-------+\n",
      "    INFO - 10:47:53:       | Name                                        | Lower bound | Value | Upper bound | Type  |\n",
      "    INFO - 10:47:53:       +---------------------------------------------+-------------+-------+-------------+-------+\n",
      "    INFO - 10:47:53:       | electrofuel_share_reference_years_values[0] |      0      |   50  |     100     | float |\n",
      "    INFO - 10:47:53:       | electrofuel_share_reference_years_values[1] |      0      |   50  |     100     | float |\n",
      "    INFO - 10:47:53:       | electrofuel_share_reference_years_values[2] |      0      |   50  |     100     | float |\n",
      "    INFO - 10:47:53:       | electrofuel_share_reference_years_values[3] |      0      |   50  |     100     | float |\n",
      "    INFO - 10:47:53:       | electrofuel_share_reference_years_values[4] |      0      |   50  |     100     | float |\n",
      "    INFO - 10:47:53:       | electrofuel_share_reference_years_values[5] |      0      |   50  |     100     | float |\n",
      "    INFO - 10:47:53:       | electrofuel_share_reference_years_values[6] |      0      |   50  |     100     | float |\n",
      "    INFO - 10:47:53:       +---------------------------------------------+-------------+-------+-------------+-------+\n",
      "    INFO - 10:47:53: Solving optimization problem with algorithm DIFFERENTIAL_EVOLUTION:\n",
      "    INFO - 10:47:55:      1%|          | 6/1000 [00:01<05:29,  3.01 it/sec, obj=2.02e+11]\n",
      "    INFO - 10:47:55:      1%|          | 7/1000 [00:02<05:31,  3.00 it/sec, obj=1.94e+11]\n",
      "    INFO - 10:47:55:      1%|          | 8/1000 [00:02<05:23,  3.07 it/sec, obj=2.34e+11]\n",
      "    INFO - 10:47:56:      1%|          | 9/1000 [00:02<05:16,  3.13 it/sec, obj=2.41e+11]\n",
      "    INFO - 10:47:56:      1%|          | 10/1000 [00:03<05:18,  3.10 it/sec, obj=2.38e+11]\n",
      "    INFO - 10:47:56:      1%|          | 11/1000 [00:03<05:13,  3.15 it/sec, obj=2.09e+11]\n",
      "    INFO - 10:47:56:      1%|          | 12/1000 [00:03<05:00,  3.29 it/sec, obj=Not evaluated]\n",
      "    INFO - 10:47:56:      1%|▏         | 13/1000 [00:03<04:37,  3.56 it/sec, obj=1.93e+11]\n",
      "    INFO - 10:47:57:      1%|▏         | 14/1000 [00:04<04:59,  3.29 it/sec, obj=2.66e+11]\n",
      "    INFO - 10:47:57:      2%|▏         | 15/1000 [00:04<04:58,  3.31 it/sec, obj=1.84e+11]\n",
      "    INFO - 10:47:58:      2%|▏         | 16/1000 [00:04<04:59,  3.29 it/sec, obj=2.25e+11]\n",
      "    INFO - 10:47:58:      2%|▏         | 17/1000 [00:05<04:58,  3.30 it/sec, obj=2.31e+11]\n",
      "    INFO - 10:47:58:      2%|▏         | 18/1000 [00:05<04:49,  3.39 it/sec, obj=Not evaluated]\n",
      "    INFO - 10:47:58:      2%|▏         | 19/1000 [00:05<04:34,  3.58 it/sec, obj=2.59e+11]\n",
      "    INFO - 10:47:59:      2%|▏         | 20/1000 [00:05<04:50,  3.38 it/sec, obj=2.15e+11]\n",
      "    INFO - 10:47:59:      2%|▏         | 21/1000 [00:06<04:48,  3.39 it/sec, obj=1.77e+11]\n",
      "    INFO - 10:47:59:      2%|▏         | 22/1000 [00:06<04:47,  3.40 it/sec, obj=2.06e+11]\n",
      "    INFO - 10:47:59:      2%|▏         | 23/1000 [00:06<04:48,  3.38 it/sec, obj=2.42e+11]\n",
      "    INFO - 10:48:00:      2%|▏         | 24/1000 [00:07<04:47,  3.39 it/sec, obj=2.23e+11]\n",
      "    INFO - 10:48:00:      2%|▎         | 25/1000 [00:07<04:47,  3.40 it/sec, obj=1.78e+11]\n",
      "    INFO - 10:48:00:      3%|▎         | 26/1000 [00:07<04:48,  3.38 it/sec, obj=2.51e+11]\n",
      "    INFO - 10:48:01:      3%|▎         | 27/1000 [00:07<04:47,  3.39 it/sec, obj=1.88e+11]\n",
      "    INFO - 10:48:01:      3%|▎         | 28/1000 [00:08<04:46,  3.40 it/sec, obj=1.76e+11]\n",
      "    INFO - 10:48:01:      3%|▎         | 29/1000 [00:08<04:47,  3.38 it/sec, obj=2.22e+11]\n",
      "    INFO - 10:48:02:      3%|▎         | 30/1000 [00:08<04:45,  3.39 it/sec, obj=1.8e+11]\n",
      "    INFO - 10:48:02:      3%|▎         | 31/1000 [00:09<04:45,  3.40 it/sec, obj=2.05e+11]\n",
      "    INFO - 10:48:02:      3%|▎         | 32/1000 [00:09<04:45,  3.39 it/sec, obj=2.21e+11]\n",
      "    INFO - 10:48:02:      3%|▎         | 33/1000 [00:09<04:44,  3.39 it/sec, obj=2.28e+11]\n",
      "    INFO - 10:48:03:      3%|▎         | 34/1000 [00:09<04:44,  3.40 it/sec, obj=1.74e+11]\n",
      "    INFO - 10:48:03:      4%|▎         | 35/1000 [00:10<04:45,  3.38 it/sec, obj=1.73e+11]\n",
      "    INFO - 10:48:03:      4%|▎         | 36/1000 [00:10<04:44,  3.39 it/sec, obj=2.62e+11]\n",
      "    INFO - 10:48:04:      4%|▎         | 37/1000 [00:10<04:43,  3.40 it/sec, obj=2.52e+11]\n",
      "    INFO - 10:48:04:      4%|▍         | 38/1000 [00:11<04:44,  3.38 it/sec, obj=2.12e+11]\n",
      "    INFO - 10:48:04:      4%|▍         | 39/1000 [00:11<04:43,  3.39 it/sec, obj=2.44e+11]\n",
      "    INFO - 10:48:04:      4%|▍         | 40/1000 [00:11<04:42,  3.39 it/sec, obj=2.04e+11]\n",
      "    INFO - 10:48:05:      4%|▍         | 41/1000 [00:12<04:42,  3.40 it/sec, obj=Not evaluated]\n",
      "    INFO - 10:48:05:      4%|▍         | 42/1000 [00:12<04:35,  3.48 it/sec, obj=2.72e+11]\n",
      "    INFO - 10:48:05:      4%|▍         | 43/1000 [00:12<04:42,  3.39 it/sec, obj=2.11e+11]\n",
      "    INFO - 10:48:06:      4%|▍         | 44/1000 [00:12<04:41,  3.40 it/sec, obj=2.56e+11]\n",
      "    INFO - 10:48:06:      4%|▍         | 45/1000 [00:13<04:42,  3.38 it/sec, obj=2.29e+11]\n",
      "    INFO - 10:48:06:      5%|▍         | 46/1000 [00:13<04:41,  3.39 it/sec, obj=2.09e+11]\n",
      "    INFO - 10:48:07:      5%|▍         | 47/1000 [00:13<04:41,  3.39 it/sec, obj=2.03e+11]\n",
      "    INFO - 10:48:07:      5%|▍         | 48/1000 [00:14<04:41,  3.38 it/sec, obj=2.58e+11]\n",
      "    INFO - 10:48:07:      5%|▍         | 49/1000 [00:14<04:41,  3.38 it/sec, obj=2.35e+11]\n",
      "    INFO - 10:48:07:      5%|▌         | 50/1000 [00:14<04:40,  3.38 it/sec, obj=2.54e+11]\n",
      "    INFO - 10:48:08:      5%|▌         | 51/1000 [00:15<04:41,  3.37 it/sec, obj=2.55e+11]\n",
      "    INFO - 10:48:08:      5%|▌         | 52/1000 [00:15<04:41,  3.37 it/sec, obj=1.75e+11]\n",
      "    INFO - 10:48:08:      5%|▌         | 53/1000 [00:15<04:40,  3.37 it/sec, obj=1.69e+11]\n",
      "    INFO - 10:48:09:      5%|▌         | 54/1000 [00:16<04:41,  3.36 it/sec, obj=2.07e+11]\n",
      "    INFO - 10:48:09:      6%|▌         | 55/1000 [00:16<04:41,  3.36 it/sec, obj=2.57e+11]\n",
      "    INFO - 10:48:09:      6%|▌         | 56/1000 [00:16<04:40,  3.36 it/sec, obj=1.86e+11]\n",
      "    INFO - 10:48:10:      6%|▌         | 57/1000 [00:16<04:41,  3.36 it/sec, obj=2.16e+11]\n",
      "    INFO - 10:48:10:      6%|▌         | 58/1000 [00:17<04:40,  3.36 it/sec, obj=1.71e+11]\n",
      "    INFO - 10:48:10:      6%|▌         | 59/1000 [00:17<04:39,  3.36 it/sec, obj=2.17e+11]\n",
      "    INFO - 10:48:11:      6%|▌         | 60/1000 [00:17<04:39,  3.36 it/sec, obj=1.95e+11]\n",
      "    INFO - 10:48:11:      6%|▌         | 61/1000 [00:18<04:39,  3.36 it/sec, obj=2.1e+11]\n",
      "    INFO - 10:48:11:      6%|▌         | 62/1000 [00:18<04:37,  3.38 it/sec, obj=Not evaluated]\n",
      "    INFO - 10:48:11:      6%|▋         | 63/1000 [00:18<04:32,  3.44 it/sec, obj=1.85e+11]\n",
      "    INFO - 10:48:12:      6%|▋         | 64/1000 [00:18<04:37,  3.38 it/sec, obj=2.43e+11]\n",
      "    INFO - 10:48:12:      6%|▋         | 65/1000 [00:19<04:36,  3.38 it/sec, obj=2.7e+11]\n",
      "    INFO - 10:48:12:      7%|▋         | 66/1000 [00:19<04:36,  3.38 it/sec, obj=2.3e+11]\n",
      "    INFO - 10:48:13:      7%|▋         | 67/1000 [00:19<04:36,  3.37 it/sec, obj=2.18e+11]\n",
      "    INFO - 10:48:13:      7%|▋         | 68/1000 [00:20<04:36,  3.37 it/sec, obj=2.64e+11]\n",
      "    INFO - 10:48:13:      7%|▋         | 69/1000 [00:20<04:36,  3.37 it/sec, obj=2.46e+11]\n",
      "    INFO - 10:48:13:      7%|▋         | 70/1000 [00:20<04:34,  3.38 it/sec, obj=Not evaluated]\n",
      "    INFO - 10:48:13:      7%|▋         | 71/1000 [00:20<04:30,  3.43 it/sec, obj=1.73e+11]\n",
      "    INFO - 10:48:14:      7%|▋         | 72/1000 [00:21<04:33,  3.39 it/sec, obj=1.98e+11]\n",
      "    INFO - 10:48:14:      7%|▋         | 73/1000 [00:21<04:34,  3.38 it/sec, obj=2.47e+11]\n",
      "    INFO - 10:48:14:      7%|▋         | 74/1000 [00:21<04:32,  3.40 it/sec, obj=Not evaluated]\n",
      "    INFO - 10:48:14:      8%|▊         | 75/1000 [00:21<04:28,  3.45 it/sec, obj=2.69e+11]\n",
      "    INFO - 10:48:15:      8%|▊         | 76/1000 [00:22<04:31,  3.40 it/sec, obj=2.13e+11]\n",
      "    INFO - 10:48:15:      8%|▊         | 77/1000 [00:22<04:31,  3.40 it/sec, obj=2.24e+11]\n",
      "    INFO - 10:48:16:      8%|▊         | 78/1000 [00:22<04:31,  3.40 it/sec, obj=1.9e+11]\n",
      "    INFO - 10:48:16:      8%|▊         | 79/1000 [00:23<04:31,  3.39 it/sec, obj=1.87e+11]\n",
      "    INFO - 10:48:16:      8%|▊         | 80/1000 [00:23<04:31,  3.39 it/sec, obj=1.82e+11]\n",
      "    INFO - 10:48:17:      8%|▊         | 81/1000 [00:23<04:31,  3.39 it/sec, obj=2.27e+11]\n",
      "    INFO - 10:48:17:      8%|▊         | 82/1000 [00:24<04:30,  3.39 it/sec, obj=2.5e+11]\n",
      "    INFO - 10:48:17:      8%|▊         | 83/1000 [00:24<04:30,  3.38 it/sec, obj=1.96e+11]\n",
      "    INFO - 10:48:17:      8%|▊         | 84/1000 [00:24<04:30,  3.39 it/sec, obj=2.4e+11]\n",
      "    INFO - 10:48:18:      8%|▊         | 85/1000 [00:25<04:29,  3.39 it/sec, obj=1.97e+11]\n",
      "    INFO - 10:48:18:      9%|▊         | 86/1000 [00:25<04:30,  3.38 it/sec, obj=2.65e+11]\n",
      "    INFO - 10:48:18:      9%|▊         | 87/1000 [00:25<04:29,  3.38 it/sec, obj=2.63e+11]\n",
      "    INFO - 10:48:19:      9%|▉         | 88/1000 [00:25<04:29,  3.39 it/sec, obj=2.68e+11]\n",
      "    INFO - 10:48:19:      9%|▉         | 89/1000 [00:26<04:29,  3.38 it/sec, obj=2.26e+11]\n",
      "    INFO - 10:48:19:      9%|▉         | 90/1000 [00:26<04:28,  3.38 it/sec, obj=2.19e+11]\n",
      "    INFO - 10:48:20:      9%|▉         | 91/1000 [00:26<04:28,  3.39 it/sec, obj=1.71e+11]\n",
      "    INFO - 10:48:20:      9%|▉         | 92/1000 [00:27<04:28,  3.38 it/sec, obj=2.67e+11]\n",
      "    INFO - 10:48:20:      9%|▉         | 93/1000 [00:27<04:28,  3.38 it/sec, obj=2.58e+11]\n",
      "    INFO - 10:48:20:      9%|▉         | 94/1000 [00:27<04:27,  3.38 it/sec, obj=2.36e+11]\n",
      "    INFO - 10:48:21:     10%|▉         | 95/1000 [00:28<04:27,  3.38 it/sec, obj=1.91e+11]\n",
      "    INFO - 10:48:21:     10%|▉         | 96/1000 [00:28<04:27,  3.38 it/sec, obj=2.39e+11]\n",
      "    INFO - 10:48:21:     10%|▉         | 97/1000 [00:28<04:26,  3.38 it/sec, obj=2.49e+11]\n",
      "    INFO - 10:48:22:     10%|▉         | 98/1000 [00:29<04:27,  3.38 it/sec, obj=1.8e+11]\n",
      "    INFO - 10:48:22:     10%|▉         | 99/1000 [00:29<04:26,  3.38 it/sec, obj=2.14e+11]\n",
      "    INFO - 10:48:22:     10%|█         | 100/1000 [00:29<04:26,  3.38 it/sec, obj=1.81e+11]\n",
      "    INFO - 10:48:22:     10%|█         | 101/1000 [00:29<04:25,  3.39 it/sec, obj=Not evaluated]\n",
      "    INFO - 10:48:22:     10%|█         | 102/1000 [00:29<04:22,  3.42 it/sec, obj=2.2e+11]\n",
      "    INFO - 10:48:23:     10%|█         | 103/1000 [00:30<04:24,  3.39 it/sec, obj=1.84e+11]\n",
      "    INFO - 10:48:23:     10%|█         | 104/1000 [00:30<04:24,  3.39 it/sec, obj=2.73e+11]\n",
      "    INFO - 10:48:24:     10%|█         | 105/1000 [00:30<04:24,  3.39 it/sec, obj=2.48e+11]\n",
      "    INFO - 10:48:24:     11%|█         | 106/1000 [00:31<04:23,  3.39 it/sec, obj=2.69e+11]\n",
      "    INFO - 10:48:24:     11%|█         | 107/1000 [00:31<04:23,  3.39 it/sec, obj=2.33e+11]\n",
      "    INFO - 10:48:25:     11%|█         | 108/1000 [00:31<04:23,  3.38 it/sec, obj=1.91e+11]\n",
      "    INFO - 10:48:25:     11%|█         | 109/1000 [00:32<04:23,  3.38 it/sec, obj=2e+11]\n",
      "    INFO - 10:48:25:     11%|█         | 110/1000 [00:32<04:22,  3.39 it/sec, obj=2.37e+11]\n",
      "    INFO - 10:48:26:     11%|█         | 111/1000 [00:32<04:22,  3.38 it/sec, obj=1.92e+11]\n",
      "    INFO - 10:48:26:     11%|█         | 112/1000 [00:33<04:22,  3.38 it/sec, obj=2.01e+11]\n",
      "    INFO - 10:48:28:     11%|█▏        | 113/1000 [00:35<04:39,  3.17 it/sec, obj=2.52e+11]\n",
      "    INFO - 10:48:29:     11%|█▏        | 114/1000 [00:35<04:39,  3.17 it/sec, obj=1.96e+11]\n",
      "    INFO - 10:48:29:     12%|█▏        | 115/1000 [00:36<04:38,  3.17 it/sec, obj=1.76e+11]\n",
      "    INFO - 10:48:29:     12%|█▏        | 116/1000 [00:36<04:38,  3.18 it/sec, obj=1.77e+11]\n",
      "    INFO - 10:48:30:     12%|█▏        | 117/1000 [00:36<04:38,  3.17 it/sec, obj=2.24e+11]\n",
      "    INFO - 10:48:30:     12%|█▏        | 118/1000 [00:37<04:37,  3.18 it/sec, obj=2.22e+11]\n",
      "    INFO - 10:48:30:     12%|█▏        | 119/1000 [00:37<04:36,  3.18 it/sec, obj=1.94e+11]\n",
      "    INFO - 10:48:30:     12%|█▏        | 120/1000 [00:37<04:37,  3.18 it/sec, obj=2.64e+11]\n",
      "    INFO - 10:48:31:     12%|█▏        | 121/1000 [00:38<04:36,  3.18 it/sec, obj=1.96e+11]\n",
      "    INFO - 10:48:31:     12%|█▏        | 122/1000 [00:38<04:35,  3.18 it/sec, obj=1.85e+11]\n",
      "    INFO - 10:48:31:     12%|█▏        | 123/1000 [00:38<04:36,  3.18 it/sec, obj=2.09e+11]\n",
      "    INFO - 10:48:32:     12%|█▏        | 124/1000 [00:38<04:34,  3.19 it/sec, obj=Not evaluated]\n",
      "    INFO - 10:48:32:     12%|█▎        | 125/1000 [00:38<04:32,  3.22 it/sec, obj=2.17e+11]\n",
      "    INFO - 10:48:32:     13%|█▎        | 126/1000 [00:39<04:35,  3.18 it/sec, obj=1.74e+11]\n",
      "    INFO - 10:48:33:     13%|█▎        | 127/1000 [00:39<04:34,  3.18 it/sec, obj=1.69e+11]\n",
      "    INFO - 10:48:33:     13%|█▎        | 128/1000 [00:40<04:34,  3.18 it/sec, obj=1.78e+11]\n",
      "    INFO - 10:48:33:     13%|█▎        | 129/1000 [00:40<04:33,  3.18 it/sec, obj=1.85e+11]\n",
      "    INFO - 10:48:34:     13%|█▎        | 130/1000 [00:40<04:33,  3.18 it/sec, obj=1.96e+11]\n",
      "    INFO - 10:48:34:     13%|█▎        | 131/1000 [00:41<04:33,  3.18 it/sec, obj=2.46e+11]\n",
      "    INFO - 10:48:34:     13%|█▎        | 132/1000 [00:41<04:32,  3.18 it/sec, obj=1.99e+11]\n",
      "    INFO - 10:48:34:     13%|█▎        | 133/1000 [00:41<04:32,  3.18 it/sec, obj=2.06e+11]\n",
      "    INFO - 10:48:35:     13%|█▎        | 134/1000 [00:42<04:31,  3.19 it/sec, obj=1.83e+11]\n",
      "    INFO - 10:48:35:     14%|█▎        | 135/1000 [00:42<04:31,  3.18 it/sec, obj=2.09e+11]\n",
      "    INFO - 10:48:35:     14%|█▎        | 136/1000 [00:42<04:31,  3.19 it/sec, obj=2.62e+11]\n",
      "    INFO - 10:48:36:     14%|█▎        | 137/1000 [00:42<04:30,  3.19 it/sec, obj=1.93e+11]\n",
      "    INFO - 10:48:36:     14%|█▍        | 138/1000 [00:43<04:30,  3.19 it/sec, obj=1.88e+11]\n",
      "    INFO - 10:48:36:     14%|█▍        | 139/1000 [00:43<04:29,  3.19 it/sec, obj=2.11e+11]\n",
      "    INFO - 10:48:37:     14%|█▍        | 140/1000 [00:43<04:29,  3.19 it/sec, obj=2.22e+11]\n",
      "    INFO - 10:48:37:     14%|█▍        | 141/1000 [00:44<04:29,  3.19 it/sec, obj=2.09e+11]\n",
      "    INFO - 10:48:37:     14%|█▍        | 142/1000 [00:44<04:28,  3.19 it/sec, obj=1.7e+11]\n",
      "    INFO - 10:48:37:     14%|█▍        | 143/1000 [00:44<04:28,  3.19 it/sec, obj=2.21e+11]\n",
      "    INFO - 10:48:38:     14%|█▍        | 144/1000 [00:45<04:28,  3.19 it/sec, obj=2e+11]\n",
      "    INFO - 10:48:38:     14%|█▍        | 145/1000 [00:45<04:27,  3.19 it/sec, obj=2.42e+11]\n",
      "    INFO - 10:48:38:     15%|█▍        | 146/1000 [00:45<04:27,  3.20 it/sec, obj=1.73e+11]\n",
      "    INFO - 10:48:39:     15%|█▍        | 147/1000 [00:46<04:27,  3.19 it/sec, obj=1.72e+11]\n",
      "    INFO - 10:48:39:     15%|█▍        | 148/1000 [00:46<04:26,  3.19 it/sec, obj=1.73e+11]\n",
      "    INFO - 10:48:39:     15%|█▍        | 149/1000 [00:46<04:26,  3.20 it/sec, obj=1.92e+11]\n",
      "    INFO - 10:48:40:     15%|█▌        | 150/1000 [00:46<04:26,  3.19 it/sec, obj=2.13e+11]\n",
      "    INFO - 10:48:40:     15%|█▌        | 151/1000 [00:47<04:25,  3.20 it/sec, obj=2.04e+11]\n",
      "    INFO - 10:48:40:     15%|█▌        | 152/1000 [00:47<04:25,  3.20 it/sec, obj=Not evaluated]\n",
      "    INFO - 10:48:40:     15%|█▌        | 153/1000 [00:47<04:23,  3.22 it/sec, obj=2.72e+11]\n",
      "    INFO - 10:48:41:     15%|█▌        | 154/1000 [00:48<04:25,  3.18 it/sec, obj=1.77e+11]\n",
      "    INFO - 10:48:41:     16%|█▌        | 155/1000 [00:48<04:25,  3.18 it/sec, obj=1.73e+11]\n",
      "    INFO - 10:48:42:     16%|█▌        | 156/1000 [00:49<04:25,  3.18 it/sec, obj=2.15e+11]\n",
      "    INFO - 10:48:42:     16%|█▌        | 157/1000 [00:49<04:24,  3.18 it/sec, obj=2.09e+11]\n",
      "    INFO - 10:48:42:     16%|█▌        | 158/1000 [00:49<04:24,  3.18 it/sec, obj=2.2e+11]\n",
      "    INFO - 10:48:43:     16%|█▌        | 159/1000 [00:49<04:24,  3.18 it/sec, obj=1.7e+11]\n",
      "    INFO - 10:48:43:     16%|█▌        | 160/1000 [00:50<04:23,  3.18 it/sec, obj=2.51e+11]\n",
      "    INFO - 10:48:43:     16%|█▌        | 161/1000 [00:50<04:23,  3.19 it/sec, obj=1.69e+11]\n",
      "    INFO - 10:48:44:     16%|█▌        | 162/1000 [00:50<04:23,  3.18 it/sec, obj=2.49e+11]\n",
      "    INFO - 10:48:44:     16%|█▋        | 163/1000 [00:51<04:22,  3.19 it/sec, obj=1.75e+11]\n",
      "    INFO - 10:48:44:     16%|█▋        | 164/1000 [00:51<04:22,  3.19 it/sec, obj=1.72e+11]\n",
      "    INFO - 10:48:45:     16%|█▋        | 165/1000 [00:51<04:22,  3.18 it/sec, obj=2.07e+11]\n",
      "    INFO - 10:48:45:     17%|█▋        | 166/1000 [00:52<04:21,  3.19 it/sec, obj=1.89e+11]\n",
      "    INFO - 10:48:45:     17%|█▋        | 167/1000 [00:52<04:21,  3.19 it/sec, obj=1.82e+11]\n",
      "    INFO - 10:48:45:     17%|█▋        | 168/1000 [00:52<04:21,  3.18 it/sec, obj=2.2e+11]\n",
      "    INFO - 10:48:46:     17%|█▋        | 169/1000 [00:53<04:20,  3.19 it/sec, obj=1.71e+11]\n",
      "    INFO - 10:48:46:     17%|█▋        | 170/1000 [00:53<04:20,  3.19 it/sec, obj=2.69e+11]\n",
      "    INFO - 10:48:46:     17%|█▋        | 171/1000 [00:53<04:20,  3.19 it/sec, obj=2.38e+11]\n",
      "    INFO - 10:48:47:     17%|█▋        | 172/1000 [00:53<04:19,  3.19 it/sec, obj=1.8e+11]\n",
      "    INFO - 10:48:47:     17%|█▋        | 173/1000 [00:54<04:19,  3.19 it/sec, obj=1.85e+11]\n",
      "    INFO - 10:48:47:     17%|█▋        | 174/1000 [00:54<04:19,  3.18 it/sec, obj=1.78e+11]\n",
      "    INFO - 10:48:48:     18%|█▊        | 175/1000 [00:54<04:18,  3.19 it/sec, obj=2.22e+11]\n",
      "    INFO - 10:48:48:     18%|█▊        | 176/1000 [00:55<04:18,  3.19 it/sec, obj=2.53e+11]\n",
      "    INFO - 10:48:48:     18%|█▊        | 177/1000 [00:55<04:18,  3.19 it/sec, obj=2.04e+11]\n",
      "    INFO - 10:48:49:     18%|█▊        | 178/1000 [00:55<04:17,  3.19 it/sec, obj=1.69e+11]\n",
      "    INFO - 10:48:49:     18%|█▊        | 179/1000 [00:56<04:17,  3.19 it/sec, obj=1.9e+11]\n",
      "    INFO - 10:48:49:     18%|█▊        | 180/1000 [00:56<04:17,  3.19 it/sec, obj=2.06e+11]\n",
      "    INFO - 10:48:50:     18%|█▊        | 181/1000 [00:56<04:17,  3.18 it/sec, obj=2.73e+11]\n",
      "    INFO - 10:48:50:     18%|█▊        | 182/1000 [00:57<04:16,  3.19 it/sec, obj=2.45e+11]\n",
      "    INFO - 10:48:50:     18%|█▊        | 183/1000 [00:57<04:16,  3.19 it/sec, obj=1.73e+11]\n",
      "    INFO - 10:48:50:     18%|█▊        | 184/1000 [00:57<04:16,  3.18 it/sec, obj=1.7e+11]\n",
      "    INFO - 10:48:51:     18%|█▊        | 185/1000 [00:58<04:15,  3.19 it/sec, obj=1.8e+11]\n",
      "    INFO - 10:48:51:     19%|█▊        | 186/1000 [00:58<04:15,  3.19 it/sec, obj=1.9e+11]\n",
      "    INFO - 10:48:51:     19%|█▊        | 187/1000 [00:58<04:15,  3.19 it/sec, obj=2.21e+11]\n",
      "    INFO - 10:48:52:     19%|█▉        | 188/1000 [00:58<04:14,  3.19 it/sec, obj=1.82e+11]\n",
      "    INFO - 10:48:52:     19%|█▉        | 189/1000 [00:59<04:14,  3.19 it/sec, obj=2.59e+11]\n",
      "    INFO - 10:48:52:     19%|█▉        | 190/1000 [00:59<04:14,  3.19 it/sec, obj=2.5e+11]\n",
      "    INFO - 10:48:53:     19%|█▉        | 191/1000 [00:59<04:13,  3.19 it/sec, obj=1.96e+11]\n",
      "    INFO - 10:48:53:     19%|█▉        | 192/1000 [01:00<04:12,  3.19 it/sec, obj=Not evaluated]\n",
      "    INFO - 10:48:53:     19%|█▉        | 193/1000 [01:00<04:11,  3.21 it/sec, obj=1.72e+11]\n",
      "    INFO - 10:48:54:     19%|█▉        | 194/1000 [01:00<04:13,  3.18 it/sec, obj=2.15e+11]\n",
      "    INFO - 10:48:54:     20%|█▉        | 195/1000 [01:01<04:12,  3.18 it/sec, obj=2.04e+11]\n",
      "    INFO - 10:48:54:     20%|█▉        | 196/1000 [01:01<04:12,  3.18 it/sec, obj=1.81e+11]\n",
      "    INFO - 10:48:55:     20%|█▉        | 197/1000 [01:01<04:12,  3.18 it/sec, obj=2.28e+11]\n",
      "    INFO - 10:48:55:     20%|█▉        | 198/1000 [01:02<04:11,  3.18 it/sec, obj=1.84e+11]\n",
      "    INFO - 10:48:55:     20%|█▉        | 199/1000 [01:02<04:11,  3.18 it/sec, obj=2.13e+11]\n",
      "    INFO - 10:48:56:     20%|██        | 200/1000 [01:02<04:11,  3.18 it/sec, obj=1.71e+11]\n",
      "    INFO - 10:48:56:     20%|██        | 201/1000 [01:03<04:10,  3.18 it/sec, obj=1.81e+11]\n",
      "    INFO - 10:48:56:     20%|██        | 202/1000 [01:03<04:10,  3.18 it/sec, obj=1.69e+11]\n",
      "    INFO - 10:48:56:     20%|██        | 203/1000 [01:03<04:10,  3.18 it/sec, obj=2.7e+11]\n",
      "    INFO - 10:48:57:     20%|██        | 204/1000 [01:04<04:10,  3.18 it/sec, obj=2.28e+11]\n",
      "    INFO - 10:48:57:     20%|██        | 205/1000 [01:04<04:09,  3.18 it/sec, obj=2.09e+11]\n",
      "    INFO - 10:48:57:     21%|██        | 206/1000 [01:04<04:09,  3.18 it/sec, obj=2.63e+11]\n",
      "    INFO - 10:48:58:     21%|██        | 207/1000 [01:05<04:09,  3.18 it/sec, obj=1.8e+11]\n",
      "    INFO - 10:48:58:     21%|██        | 208/1000 [01:05<04:08,  3.18 it/sec, obj=1.85e+11]\n",
      "    INFO - 10:48:58:     21%|██        | 209/1000 [01:05<04:08,  3.18 it/sec, obj=1.83e+11]\n",
      "    INFO - 10:48:59:     21%|██        | 210/1000 [01:05<04:07,  3.19 it/sec, obj=Not evaluated]\n",
      "    INFO - 10:48:59:     21%|██        | 211/1000 [01:05<04:06,  3.20 it/sec, obj=2.2e+11]\n",
      "    INFO - 10:48:59:     21%|██        | 212/1000 [01:06<04:07,  3.18 it/sec, obj=1.7e+11]\n",
      "    INFO - 10:49:00:     21%|██▏       | 213/1000 [01:06<04:07,  3.18 it/sec, obj=1.88e+11]\n",
      "    INFO - 10:49:00:     21%|██▏       | 214/1000 [01:07<04:07,  3.18 it/sec, obj=2.48e+11]\n",
      "    INFO - 10:49:00:     22%|██▏       | 215/1000 [01:07<04:06,  3.18 it/sec, obj=2.69e+11]\n",
      "    INFO - 10:49:01:     22%|██▏       | 216/1000 [01:07<04:06,  3.18 it/sec, obj=1.89e+11]\n",
      "    INFO - 10:49:01:     22%|██▏       | 217/1000 [01:08<04:06,  3.18 it/sec, obj=1.74e+11]\n",
      "    INFO - 10:49:01:     22%|██▏       | 218/1000 [01:08<04:06,  3.18 it/sec, obj=2e+11]\n",
      "    INFO - 10:49:02:     22%|██▏       | 219/1000 [01:08<04:05,  3.18 it/sec, obj=1.8e+11]\n",
      "    INFO - 10:49:02:     22%|██▏       | 220/1000 [01:09<04:05,  3.18 it/sec, obj=1.92e+11]\n",
      "    INFO - 10:49:02:     22%|██▏       | 221/1000 [01:09<04:05,  3.18 it/sec, obj=2.01e+11]\n",
      "    INFO - 10:49:03:     22%|██▏       | 222/1000 [01:09<04:04,  3.18 it/sec, obj=2.25e+11]\n",
      "    INFO - 10:49:03:     22%|██▏       | 223/1000 [01:10<04:04,  3.18 it/sec, obj=1.75e+11]\n",
      "    INFO - 10:49:03:     22%|██▏       | 224/1000 [01:10<04:04,  3.18 it/sec, obj=1.76e+11]\n",
      "    INFO - 10:49:03:     22%|██▎       | 225/1000 [01:10<04:03,  3.18 it/sec, obj=2.43e+11]\n",
      "    INFO - 10:49:04:     23%|██▎       | 226/1000 [01:11<04:03,  3.18 it/sec, obj=2.24e+11]\n",
      "    INFO - 10:49:04:     23%|██▎       | 227/1000 [01:11<04:02,  3.18 it/sec, obj=Not evaluated]\n",
      "    INFO - 10:49:04:     23%|██▎       | 228/1000 [01:11<04:01,  3.20 it/sec, obj=1.72e+11]\n",
      "    INFO - 10:49:05:     23%|██▎       | 229/1000 [01:12<04:02,  3.18 it/sec, obj=Not evaluated]\n",
      "    INFO - 10:49:05:     23%|██▎       | 230/1000 [01:12<04:01,  3.19 it/sec, obj=2.23e+11]\n",
      "    INFO - 10:49:06:     23%|██▎       | 231/1000 [01:12<04:02,  3.17 it/sec, obj=2.34e+11]\n",
      "    INFO - 10:49:06:     23%|██▎       | 232/1000 [01:13<04:02,  3.17 it/sec, obj=1.96e+11]\n",
      "    INFO - 10:49:06:     23%|██▎       | 233/1000 [01:13<04:01,  3.17 it/sec, obj=1.87e+11]\n",
      "    INFO - 10:49:06:     23%|██▎       | 234/1000 [01:13<04:01,  3.17 it/sec, obj=2.09e+11]\n",
      "    INFO - 10:49:07:     24%|██▎       | 235/1000 [01:14<04:01,  3.17 it/sec, obj=1.72e+11]\n",
      "    INFO - 10:49:07:     24%|██▎       | 236/1000 [01:14<04:00,  3.17 it/sec, obj=1.92e+11]\n",
      "    INFO - 10:49:07:     24%|██▎       | 237/1000 [01:14<04:00,  3.17 it/sec, obj=2.18e+11]\n",
      "    INFO - 10:49:08:     24%|██▍       | 238/1000 [01:15<04:00,  3.17 it/sec, obj=1.78e+11]\n",
      "    INFO - 10:49:08:     24%|██▍       | 239/1000 [01:15<03:59,  3.17 it/sec, obj=2.37e+11]\n",
      "    INFO - 10:49:08:     24%|██▍       | 240/1000 [01:15<03:59,  3.17 it/sec, obj=2.55e+11]\n",
      "    INFO - 10:49:09:     24%|██▍       | 241/1000 [01:15<03:59,  3.17 it/sec, obj=2e+11]\n",
      "    INFO - 10:49:09:     24%|██▍       | 242/1000 [01:16<03:58,  3.17 it/sec, obj=1.77e+11]\n",
      "    INFO - 10:49:09:     24%|██▍       | 243/1000 [01:16<03:58,  3.17 it/sec, obj=2.06e+11]\n",
      "    INFO - 10:49:10:     24%|██▍       | 244/1000 [01:16<03:58,  3.17 it/sec, obj=1.83e+11]\n",
      "    INFO - 10:49:10:     24%|██▍       | 245/1000 [01:17<03:57,  3.17 it/sec, obj=1.96e+11]\n",
      "    INFO - 10:49:10:     25%|██▍       | 246/1000 [01:17<03:57,  3.17 it/sec, obj=1.9e+11]\n",
      "    INFO - 10:49:11:     25%|██▍       | 247/1000 [01:17<03:57,  3.17 it/sec, obj=1.93e+11]\n",
      "    INFO - 10:49:11:     25%|██▍       | 248/1000 [01:18<03:57,  3.17 it/sec, obj=1.88e+11]\n",
      "    INFO - 10:49:11:     25%|██▍       | 249/1000 [01:18<03:56,  3.17 it/sec, obj=1.77e+11]\n",
      "    INFO - 10:49:12:     25%|██▌       | 250/1000 [01:18<03:56,  3.17 it/sec, obj=1.89e+11]\n",
      "    INFO - 10:49:12:     25%|██▌       | 251/1000 [01:19<03:56,  3.17 it/sec, obj=1.8e+11]\n",
      "    INFO - 10:49:12:     25%|██▌       | 252/1000 [01:19<03:55,  3.17 it/sec, obj=1.9e+11]\n",
      "    INFO - 10:49:12:     25%|██▌       | 253/1000 [01:19<03:55,  3.17 it/sec, obj=1.8e+11]\n"
     ]
    }
   ],
   "source": [
    "process.compute()"
   ]
  },
  {
   "cell_type": "code",
   "execution_count": 25,
   "id": "8de3b6cb-8e84-48a4-acb9-1277973f321d",
   "metadata": {
    "tags": []
   },
   "outputs": [
    {
     "data": {
      "text/plain": [
       "<aeromaps.plots.main.AirTransportCO2EmissionsPlot at 0x315b7af10>"
      ]
     },
     "execution_count": 25,
     "metadata": {},
     "output_type": "execute_result"
    },
    {
     "data": {
      "application/vnd.jupyter.widget-view+json": {
       "model_id": "0bb11f1258624790a27a0becaf460d1a",
       "version_major": 2,
       "version_minor": 0
      },
      "image/png": "[encoded data removed]",
      "text/html": [
       "\n",
       "            <div style=\"display: inline-block;\">\n",
       "                <div class=\"jupyter-widgets widget-label\" style=\"text-align: center;\">\n",
       "                    Figure\n",
       "                </div>\n",
       "                <img src='data:image/png;base64,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' width=850.0/>\n",
       "            </div>\n",
       "        "
      ],
      "text/plain": [
       "Canvas(header_visible=False, toolbar=Toolbar(toolitems=[('Home', 'Reset original view', 'home', 'home'), ('Bac…"
      ]
     },
     "metadata": {},
     "output_type": "display_data"
    }
   ],
   "source": [
    "process.plot(\"air_transport_co2_emissions\")"
   ]
  },
  {
   "cell_type": "markdown",
   "id": "f0558667-94cd-4026-89c9-f024807cd129",
   "metadata": {},
   "source": [
    "### Cas 1 \n",
    "\n",
    "min cumulative_total_airline_cost_discounted\n",
    "\n",
    "w.r.t. biofuel_share_reference_years_values, electrofuel_share_reference_years_values, \n",
    "\n",
    "s.t. cumulative_co2_emissions, electricity_consumption, biomass_consumption, max(biofuel_share_prospective + electrofuel_share_prospective)\n",
    "\n"
   ]
  },
  {
   "cell_type": "code",
   "execution_count": 19,
   "id": "a1248a48-b331-4f99-8ddd-1275f6ecc3a5",
   "metadata": {},
   "outputs": [],
   "source": [
    "models = {\n",
    "    \"models_optim_simple\": models_optim_simple,\n",
    "    \n",
    "}"
   ]
  },
  {
   "cell_type": "markdown",
   "id": "0e6f46db-ecd1-4980-bcca-fecedf488c94",
   "metadata": {},
   "source": [
    "### Cas 2"
   ]
  },
  {
   "cell_type": "code",
   "execution_count": 20,
   "id": "70a6e568-e017-479f-bf05-057cbb5db5d8",
   "metadata": {},
   "outputs": [
    {
     "ename": "NameError",
     "evalue": "name 'models_optim_complex' is not defined",
     "output_type": "error",
     "traceback": [
      "\u001b[0;31m---------------------------------------------------------------------------\u001b[0m",
      "\u001b[0;31mNameError\u001b[0m                                 Traceback (most recent call last)",
      "Cell \u001b[0;32mIn[20], line 2\u001b[0m\n\u001b[1;32m      1\u001b[0m models \u001b[38;5;241m=\u001b[39m {\n\u001b[0;32m----> 2\u001b[0m     \u001b[38;5;124m\"\u001b[39m\u001b[38;5;124mmodels_optim_compex\u001b[39m\u001b[38;5;124m\"\u001b[39m: \u001b[43mmodels_optim_complex\u001b[49m,\n\u001b[1;32m      3\u001b[0m }\n",
      "\u001b[0;31mNameError\u001b[0m: name 'models_optim_complex' is not defined"
     ]
    }
   ],
   "source": [
    "models = {\n",
    "    \"models_optim_compex\": models_optim_complex,\n",
    "}"
   ]
  },
  {
   "cell_type": "markdown",
   "id": "1abb910c-15a4-41fa-8589-f8517f062e2a",
   "metadata": {
    "tags": []
   },
   "source": [
    "# 3- Analyses"
   ]
  },
  {
   "cell_type": "markdown",
   "id": "4132a751-efdb-4611-a964-c49f50ba1b4b",
   "metadata": {
    "tags": []
   },
   "source": [
    "## 3-a) Base Scenario sustainability \n",
    "\n",
    "Lets begin by exploring the sustainability of the scenario:\n",
    "- $CO_2$ emissions trajectory\n",
    "- Fuels emission factors\n",
    "- Ressources consumption"
   ]
  },
  {
   "cell_type": "code",
   "execution_count": null,
   "id": "1dedbb80-9cf6-4e67-9627-0c5482c1ab32",
   "metadata": {
    "tags": []
   },
   "outputs": [],
   "source": [
    "plt.rc(\"hatch\", linewidth=1)"
   ]
  },
  {
   "cell_type": "markdown",
   "id": "dce34fc8-e731-4801-b4cb-1e1ba251e058",
   "metadata": {
    "tags": []
   },
   "source": [
    "## 3-b) Costs\n",
    "\n",
    "Then two cost parameters are presented here:\n",
    "- Energy Cost \n",
    "- Aircraft DOC"
   ]
  },
  {
   "cell_type": "code",
   "execution_count": null,
   "id": "a2e741e3-5cfb-4698-9c3f-31810e613db6",
   "metadata": {
    "tags": []
   },
   "outputs": [],
   "source": [
    "process.plot(\"energy_mfsp\")"
   ]
  },
  {
   "cell_type": "code",
   "execution_count": null,
   "id": "ebee9491-f970-47ff-bde6-b3677ed9ed7a",
   "metadata": {
    "tags": []
   },
   "outputs": [],
   "source": [
    "process.vector_outputs_df[\"electrofuel_share\"]"
   ]
  },
  {
   "cell_type": "code",
   "execution_count": null,
   "id": "6e16ae60-fa5f-47d9-953e-726416301cd9",
   "metadata": {
    "tags": []
   },
   "outputs": [],
   "source": [
    "process.data[\"float_outputs\"][\"aviation_carbon_budget_constraint\"]"
   ]
  },
  {
   "cell_type": "code",
   "execution_count": null,
   "id": "3b35bac9-3c55-4a6c-b0d0-dad485e61c91",
   "metadata": {},
   "outputs": [],
   "source": []
  },
  {
   "cell_type": "code",
   "execution_count": null,
   "id": "bae7aa93-ba9b-4518-bcfb-5ea5e7beb46e",
   "metadata": {},
   "outputs": [],
   "source": []
  }
 ],
 "metadata": {
  "kernelspec": {
   "display_name": "Python 3 (ipykernel)",
   "language": "python",
   "name": "python3"
  },
  "language_info": {
   "codemirror_mode": {
    "name": "ipython",
    "version": 3
   },
   "file_extension": ".py",
   "mimetype": "text/x-python",
   "name": "python",
   "nbconvert_exporter": "python",
   "pygments_lexer": "ipython3",
   "version": "3.9.19"
  }
 },
 "nbformat": 4,
 "nbformat_minor": 5
}
