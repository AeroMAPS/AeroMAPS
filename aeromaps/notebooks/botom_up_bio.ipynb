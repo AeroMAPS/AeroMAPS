{
 "cells": [
  {
   "cell_type": "code",
   "execution_count": 41,
   "id": "c9b17c9b-6fc6-450f-9447-ec11e9d0fb45",
   "metadata": {
    "tags": []
   },
   "outputs": [],
   "source": [
    "def compute_overall_capex(cap_l, actualisation, equity_share, interest_rate, loan_years, plant_life):\n",
    "    \"\"\"\n",
    "    This function computes the initial capex investment from the reported share of CAPEX in a fuel MFSP.\n",
    "    Standard hypothesis used to do so   => construction spans over years -1,0,1 with capital spent 30%,50%, 20%\n",
    "                                        => production ramp-up: 30% year 1, 70% year 2, full load afterwards\n",
    "                                        => Fuel density => 0.804 kg/L\n",
    "                                        => \"included\" load factor ==> real rather that nominal output capacity\n",
    "    :param cap_l: capex per liter (€2020/L)\n",
    "    :param actualisation: actualisation/internal rate of return/hurdle rate => 10%\n",
    "    :param equity_share: share of investment on investor own funds\n",
    "    :param interest_rate: interest rate on loan\n",
    "    :param loan_years: loan reimbursement period\n",
    "    :param plant_life: plant expected life span\n",
    "    :return: the initial CAPEx (€2020) required per ton per day investment\n",
    "    \"\"\"\n",
    "    prod_cost_year_ton = cap_l / 0.804 * 1000 * 365\n",
    "\n",
    "    prod_cost_life = prod_cost_year_ton * (0.3 / (1 + actualisation) + 0.7 / (1 + actualisation) ** 2 + sum(\n",
    "        1 / (1 + actualisation) ** i for i in range(3, plant_life+1)))\n",
    "\n",
    "    equity = equity_share * (0.3 * (1 + actualisation) + 0.5 + 0.2 / (1 + actualisation))\n",
    "    # print(equity)\n",
    "    debt = (1 - equity_share) * (sum(\n",
    "        (1 / loan_years + interest_rate * (1 - i / loan_years)) / (1 + actualisation) ** i for i in\n",
    "        range(0, loan_years)))\n",
    "    # print(debt)\n",
    "   \n",
    "    capx_per_ton_day = prod_cost_life / (equity + debt)\n",
    "    per_liter=capx_per_ton_day*(equity+debt)/(prod_cost_life/(prod_cost_year_ton*0.804/1000/365))\n",
    "    \n",
    "    print(per_liter)\n",
    "\n",
    "    return capx_per_ton_day"
   ]
  },
  {
   "cell_type": "code",
   "execution_count": 42,
   "id": "78846e80-d755-4e29-83cf-b73d289bf417",
   "metadata": {
    "tags": []
   },
   "outputs": [],
   "source": [
    "def compute_energy_cost(feed_l, plant_efficiency, fuel_density):\n",
    "    \"\"\"\n",
    "    Computes energy cost per MJ of intrant, depending on energy cost per liter of output, efficiecny and energy density of fuel produced \n",
    "    \"\"\"\n",
    "    return feed_l/(fuel_density/plant_efficiency)"
   ]
  },
  {
   "cell_type": "markdown",
   "id": "5b1d8a59-3434-4223-a854-554e10b7ee68",
   "metadata": {},
   "source": [
    "No need for additional function in the case of OPEX, input directly in €/L"
   ]
  },
  {
   "cell_type": "code",
   "execution_count": 43,
   "id": "3b2b3f77-34d5-4770-9774-ade59918b440",
   "metadata": {
    "tags": []
   },
   "outputs": [
    {
     "data": {
      "text/plain": [
       "0.004883720930232558"
      ]
     },
     "execution_count": 43,
     "metadata": {},
     "output_type": "execute_result"
    }
   ],
   "source": [
    "compute_energy_cost(0.35,0.6,43)\n"
   ]
  },
  {
   "cell_type": "code",
   "execution_count": 55,
   "id": "87b5c994-cfeb-475f-9bf4-768862a7bb5b",
   "metadata": {},
   "outputs": [
    {
     "name": "stdout",
     "output_type": "stream",
     "text": [
      "0.08754999999999999\n"
     ]
    },
    {
     "data": {
      "text/plain": [
       "327064.7663425527"
      ]
     },
     "execution_count": 55,
     "metadata": {},
     "output_type": "execute_result"
    }
   ],
   "source": [
    "compute_overall_capex(0.08755, 0.1, 0.2, 0.08, 15, 25)"
   ]
  },
  {
   "cell_type": "code",
   "execution_count": null,
   "id": "efd814e1-1cfd-49be-8b85-4be953f57804",
   "metadata": {},
   "outputs": [],
   "source": [
    "    \"biofuel_hefa_fog_mfsp_reference_years\": [],\n",
    "    \"biofuel_hefa_fog_mfsp_reference_years_values\": [0.89],\n",
    "    \"biofuel_hefa_others_mfsp_reference_years\": [],\n",
    "    \"biofuel_hefa_others_mfsp_reference_years_values\": [1.08],\n",
    "    \"biofuel_ft_others_mfsp_reference_years\": [],\n",
    "    \"biofuel_ft_others_mfsp_reference_years_values\": [1.14],\n",
    "    \"biofuel_ft_msw_mfsp_reference_years\": [],\n",
    "    \"biofuel_ft_msw_mfsp_reference_years_values\": [1.02],\n",
    "    \"biofuel_atj_mfsp_reference_years\": [],\n",
    "    \"biofuel_atj_mfsp_reference_years_values\": [1.42],\n",
    "    \"biofuel_hefa_fog_capex_reference_years\": [],\n",
    "    \"biofuel_hefa_fog_capex_reference_years_values\": [307.0],\n",
    "    \"biofuel_hefa_others_capex_reference_years\": [],\n",
    "    \"biofuel_hefa_others_capex_reference_years_values\": [276.0],\n",
    "    \"biofuel_ft_others_capex_reference_years\": [],\n",
    "    \"biofuel_ft_others_capex_reference_years_values\": [1872.0],\n",
    "    \"biofuel_ft_msw_capex_reference_years\": [],\n",
    "    \"biofuel_ft_msw_capex_reference_years_values\": [2056.0],\n",
    "    \"biofuel_atj_capex_reference_years\": [],\n",
    "    \"biofuel_atj_capex_reference_years_values\": [1211.0],"
   ]
  }
 ],
 "metadata": {
  "kernelspec": {
   "display_name": "Python 3 (ipykernel)",
   "language": "python",
   "name": "python3"
  },
  "language_info": {
   "codemirror_mode": {
    "name": "ipython",
    "version": 3
   },
   "file_extension": ".py",
   "mimetype": "text/x-python",
   "name": "python",
   "nbconvert_exporter": "python",
   "pygments_lexer": "ipython3",
   "version": "3.9.18"
  }
 },
 "nbformat": 4,
 "nbformat_minor": 5
}
