{
 "cells": [
  {
   "cell_type": "markdown",
   "metadata": {},
   "source": [
    "# 🚫 WORK IN PROGRESS 🚫 Example of usage with price elasticity"
   ]
  },
  {
   "cell_type": "markdown",
   "metadata": {
    "slideshow": {
     "slide_type": "slide"
    }
   },
   "source": [
    "## Load and process\n",
    "\n",
    "First, the user has to load the framework and generate a process."
   ]
  },
  {
   "cell_type": "code",
   "execution_count": 1,
   "metadata": {
    "slideshow": {
     "slide_type": "subslide"
    },
    "tags": []
   },
   "outputs": [],
   "source": [
    "%matplotlib widget\n",
    "from aeromaps import create_process\n",
    "from aeromaps.core.models import (\n",
    "    models_traffic,\n",
    "    models_efficiency_top_down,\n",
    "    models_energy_without_fuel_effect,\n",
    "    models_offset,\n",
    "    models_climate_simple_gwpstar,\n",
    "    models_sustainability,\n",
    "    models_energy_cost_simple,\n",
    "    models_operation_cost_top_down,\n",
    "    models_cost_feedback,\n",
    ")"
   ]
  },
  {
   "cell_type": "code",
   "execution_count": 2,
   "metadata": {
    "tags": []
   },
   "outputs": [],
   "source": [
    "models_traffic.pop(\"rpk\")\n",
    "# \n",
    "models = {\n",
    "    \"models_traffic\": models_traffic,\n",
    "    \"models_efficiency_top_down\": models_efficiency_top_down,\n",
    "    \"models_energy_without_fuel_effect\": models_energy_without_fuel_effect,\n",
    "    \"models_offset\": models_offset,\n",
    "    \"models_climate_simple_gwpstar\": models_climate_simple_gwpstar,\n",
    "    \"models_sustainability\": models_sustainability,\n",
    "    \"models_energy_cost_simple\": models_energy_cost_simple,\n",
    "    \"models_operation_cost_top_down\": models_operation_cost_top_down,\n",
    "    \"models_cost_feedback\": models_cost_feedback,\n",
    "}"
   ]
  },
  {
   "cell_type": "code",
   "execution_count": 3,
   "metadata": {
    "slideshow": {
     "slide_type": "subslide"
    },
    "tags": []
   },
   "outputs": [],
   "source": [
    "process_init = create_process(models=models)"
   ]
  },
  {
   "cell_type": "code",
   "execution_count": 4,
   "metadata": {},
   "outputs": [],
   "source": [
    "process_init.parameters.price_elasticity = -0.5"
   ]
  },
  {
   "cell_type": "code",
   "execution_count": 5,
   "metadata": {
    "slideshow": {
     "slide_type": "subslide"
    },
    "tags": []
   },
   "outputs": [
    {
     "name": "stdout",
     "output_type": "stream",
     "text": [
      "<class 'pandas.core.series.Series'>\n"
     ]
    }
   ],
   "source": [
    "process_init.compute()"
   ]
  },
  {
   "cell_type": "code",
   "execution_count": 3,
   "metadata": {
    "tags": []
   },
   "outputs": [],
   "source": [
    "import numpy as np\n",
    "import pandas as pd\n",
    "\n",
    "# data = np.array([0.076544 for _ in range(51)]).reshape(1,51)\n",
    "# process.parameters.airfare_per_ask = pd.Series(data, index=list(range(2000, 2051)))\n",
    "# process.parameters.airfare_per_ask = data"
   ]
  },
  {
   "cell_type": "code",
   "execution_count": 4,
   "metadata": {},
   "outputs": [
    {
     "name": "stdout",
     "output_type": "stream",
     "text": [
      "363\n"
     ]
    },
    {
     "data": {
      "text/plain": [
       "<aeromaps.models.parameters.Parameters at 0x28999aac670>"
      ]
     },
     "execution_count": 4,
     "metadata": {},
     "output_type": "execute_result"
    }
   ],
   "source": [
    "process = create_process(models=models)\n",
    "process.parameters.price_elasticity = -0.5\n",
    "print(len(process.parameters.__dict__.keys()))\n",
    "process.parameters"
   ]
  },
  {
   "cell_type": "code",
   "execution_count": 5,
   "metadata": {},
   "outputs": [
    {
     "name": "stdout",
     "output_type": "stream",
     "text": [
      "874\n"
     ]
    },
    {
     "data": {
      "text/plain": [
       "<aeromaps.models.parameters.Parameters at 0x28999aac670>"
      ]
     },
     "execution_count": 5,
     "metadata": {},
     "output_type": "execute_result"
    }
   ],
   "source": [
    "from json import load\n",
    "\n",
    "output_file = process.config[\"OUTPUTS_JSON_DATA_FILE\"]\n",
    "\n",
    "with open(output_file, \"r\", encoding=\"utf-8\") as f:\n",
    "    data = load(f)\n",
    "\n",
    "# parameters_dict = _parameters_dict_from_dict(data)\n",
    "\n",
    "new_data = {}\n",
    "# Update data by removing first level of keys and keep values\n",
    "for key, value in data.items():\n",
    "    new_data.update(value)\n",
    "\n",
    "        \n",
    "for key, value in new_data.items():\n",
    "    # TODO: generic handling of timetables\n",
    "    if isinstance(value, list) and len(value)==20:\n",
    "        new_index = range(\n",
    "            2000, 2020\n",
    "        )\n",
    "        new_data[key] = pd.Series(value, index=new_index)\n",
    "           \n",
    "    elif isinstance(value, list) and len(value)>72:\n",
    "        \n",
    "        new_index = range(\n",
    "            2000, 2051\n",
    "        )\n",
    "        new_data[key] = pd.Series(value[-51:], index=new_index)\n",
    "\n",
    "    elif isinstance(value, list) and 20<len(value)<52:\n",
    "        new_index = range(\n",
    "            2000, 2051\n",
    "        )\n",
    "        new_data[key] = pd.Series(value, index=new_index)\n",
    "    \n",
    "process.parameters.from_dict(new_data)\n",
    "print(len(process.parameters.__dict__.keys()))\n",
    "process.parameters"
   ]
  },
  {
   "cell_type": "code",
   "execution_count": 6,
   "metadata": {
    "tags": []
   },
   "outputs": [
    {
     "name": "stdout",
     "output_type": "stream",
     "text": [
      "<class 'pandas.core.series.Series'>\n"
     ]
    }
   ],
   "source": [
    "process.compute()"
   ]
  },
  {
   "cell_type": "code",
   "execution_count": 6,
   "metadata": {
    "tags": []
   },
   "outputs": [],
   "source": [
    "rpk_with_elast=process.vector_outputs_df['rpk']"
   ]
  },
  {
   "cell_type": "code",
   "execution_count": 7,
   "metadata": {
    "tags": []
   },
   "outputs": [
    {
     "data": {
      "text/plain": [
       "2000    3.037530e+12\n",
       "2001    2.949550e+12\n",
       "2002    3.025562e+12\n",
       "2003    3.130475e+12\n",
       "2004    3.608707e+12\n",
       "2005    3.913613e+12\n",
       "2006    4.164799e+12\n",
       "2007    4.513096e+12\n",
       "2008    4.608466e+12\n",
       "2009    4.561413e+12\n",
       "2010    4.930250e+12\n",
       "2011    5.254557e+12\n",
       "2012    5.535641e+12\n",
       "2013    5.839696e+12\n",
       "2014    6.188735e+12\n",
       "2015    6.652791e+12\n",
       "2016    7.144498e+12\n",
       "2017    7.716542e+12\n",
       "2018    8.278782e+12\n",
       "2019    8.685667e+12\n",
       "2020    2.953127e+12\n",
       "2021    4.386262e+12\n",
       "2022    5.819397e+12\n",
       "2023    7.252532e+12\n",
       "2024    8.685667e+12\n",
       "2025    8.946237e+12\n",
       "2026    9.214624e+12\n",
       "2027    9.491063e+12\n",
       "2028    9.775795e+12\n",
       "2029    1.006907e+13\n",
       "2030    1.037114e+13\n",
       "2031    1.068227e+13\n",
       "2032    1.100274e+13\n",
       "2033    1.133283e+13\n",
       "2034    1.167281e+13\n",
       "2035    1.202299e+13\n",
       "2036    1.238368e+13\n",
       "2037    1.275519e+13\n",
       "2038    1.313785e+13\n",
       "2039    1.353199e+13\n",
       "2040    1.393795e+13\n",
       "2041    1.435608e+13\n",
       "2042    1.478677e+13\n",
       "2043    1.523037e+13\n",
       "2044    1.568728e+13\n",
       "2045    1.615790e+13\n",
       "2046    1.664264e+13\n",
       "2047    1.714192e+13\n",
       "2048    1.765617e+13\n",
       "2049    1.818586e+13\n",
       "2050    1.873143e+13\n",
       "Name: rpk, dtype: float64"
      ]
     },
     "execution_count": 7,
     "metadata": {},
     "output_type": "execute_result"
    }
   ],
   "source": [
    "rpk_with_elast"
   ]
  },
  {
   "cell_type": "code",
   "execution_count": null,
   "metadata": {},
   "outputs": [],
   "source": []
  }
 ],
 "metadata": {
  "celltoolbar": "Diaporama",
  "kernelspec": {
   "display_name": "Python 3 (ipykernel)",
   "language": "python",
   "name": "python3"
  },
  "language_info": {
   "codemirror_mode": {
    "name": "ipython",
    "version": 3
   },
   "file_extension": ".py",
   "mimetype": "text/x-python",
   "name": "python",
   "nbconvert_exporter": "python",
   "pygments_lexer": "ipython3",
   "version": "3.9.19"
  }
 },
 "nbformat": 4,
 "nbformat_minor": 4
}
