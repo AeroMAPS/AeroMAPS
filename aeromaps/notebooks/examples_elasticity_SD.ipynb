{
 "cells": [
  {
   "cell_type": "markdown",
   "metadata": {},
   "source": [
    "# 🚫 WORK IN PROGRESS 🚫 Example of usage with price elasticity"
   ]
  },
  {
   "cell_type": "markdown",
   "metadata": {
    "slideshow": {
     "slide_type": "slide"
    }
   },
   "source": [
    "## Load and process\n",
    "\n",
    "First, the user has to load the framework and generate a process."
   ]
  },
  {
   "cell_type": "code",
   "execution_count": 1,
   "metadata": {
    "slideshow": {
     "slide_type": "subslide"
    },
    "tags": []
   },
   "outputs": [],
   "source": [
    "%matplotlib widget\n",
    "from aeromaps import create_process\n",
    "from aeromaps.core.models import (\n",
    "    models_traffic,\n",
    "    models_efficiency_top_down,\n",
    "    models_energy_without_fuel_effect,\n",
    "    models_offset,\n",
    "    models_climate_simple_gwpstar,\n",
    "    models_sustainability,\n",
    "    models_energy_cost_simple,\n",
    "    models_operation_cost_top_down,\n",
    "    models_cost_feedback,\n",
    ")"
   ]
  },
  {
   "cell_type": "code",
   "execution_count": 2,
   "metadata": {
    "tags": []
   },
   "outputs": [],
   "source": [
    "models_traffic.pop(\"rpk\")\n",
    "# \n",
    "models = {\n",
    "    \"models_traffic\": models_traffic,\n",
    "    \"models_efficiency_top_down\": models_efficiency_top_down,\n",
    "    \"models_energy_without_fuel_effect\": models_energy_without_fuel_effect,\n",
    "    \"models_offset\": models_offset,\n",
    "    \"models_climate_simple_gwpstar\": models_climate_simple_gwpstar,\n",
    "    \"models_sustainability\": models_sustainability,\n",
    "    \"models_energy_cost_simple\": models_energy_cost_simple,\n",
    "    \"models_operation_cost_top_down\": models_operation_cost_top_down,\n",
    "    \"models_cost_feedback\": models_cost_feedback,\n",
    "}"
   ]
  },
  {
   "cell_type": "code",
   "execution_count": 3,
   "metadata": {
    "slideshow": {
     "slide_type": "subslide"
    },
    "tags": []
   },
   "outputs": [],
   "source": [
    "process_init = create_process(models=models)"
   ]
  },
  {
   "cell_type": "code",
   "execution_count": 4,
   "metadata": {
    "tags": []
   },
   "outputs": [],
   "source": [
    "process_init.parameters.price_elasticity = -0.5"
   ]
  },
  {
   "cell_type": "code",
   "execution_count": 5,
   "metadata": {
    "slideshow": {
     "slide_type": "subslide"
    },
    "tags": []
   },
   "outputs": [
    {
     "ename": "InvalidDataError",
     "evalue": "Grammar MDA chain_discipline_input: validation failed.\nMissing required names: airfare_per_rpk, ask, ask_long_range, ask_long_range_dropin_fuel, ask_long_range_dropin_fuel_share, ask_long_range_electric, ask_long_range_electric_share, ask_long_range_hydrogen, ask_long_range_hydrogen_share, ask_medium_range, ask_medium_range_dropin_fuel, ask_medium_range_dropin_fuel_share, ask_medium_range_electric, ask_medium_range_electric_share, ask_medium_range_hydrogen, ask_medium_range_hydrogen_share, ask_short_range, ask_short_range_dropin_fuel, ask_short_range_dropin_fuel_share, ask_short_range_electric, ask_short_range_electric_share, ask_short_range_hydrogen, ask_short_range_hydrogen_share, average_hydrogen_mean_carbon_tax_kg, average_hydrogen_mean_mfsp_kg, biofuel_mean_carbon_tax_per_l, carbon_offset, co2_emissions, co2_per_energy_mean, doc_carbon_tax_lowering_offset_per_ask_mean, doc_energy_per_ask_mean, doc_non_energy_per_ask_mean, dropin_mean_mfsp, dropin_mfsp_carbon_tax_supplement, electricity_direct_use_carbon_tax_kWh, electrofuel_mfsp_carbon_tax_supplement, energy_consumption, energy_consumption_biofuel, energy_consumption_biofuel_without_operations, energy_consumption_electric, energy_consumption_electric_without_operations, energy_consumption_electrofuel, energy_consumption_electrofuel_without_operations, energy_consumption_freight_biofuel, energy_consumption_freight_biofuel_without_operations, energy_consumption_freight_electric, energy_consumption_freight_electric_without_operations, energy_consumption_freight_electrofuel, energy_consumption_freight_electrofuel_without_operations, energy_consumption_freight_hydrogen, energy_consumption_freight_hydrogen_without_operations, energy_consumption_freight_kerosene, energy_consumption_freight_kerosene_without_operations, energy_consumption_hydrogen, energy_consumption_hydrogen_without_operations, energy_consumption_kerosene, energy_consumption_kerosene_without_operations, energy_consumption_long_range_biofuel, energy_consumption_long_range_biofuel_without_operations, energy_consumption_long_range_electric, energy_consumption_long_range_electric_without_operations, energy_consumption_long_range_electrofuel, energy_consumption_long_range_electrofuel_without_operations, energy_consumption_long_range_hydrogen, energy_consumption_long_range_hydrogen_without_operations, energy_consumption_long_range_kerosene, energy_consumption_long_range_kerosene_without_operations, energy_consumption_medium_range_biofuel, energy_consumption_medium_range_biofuel_without_operations, energy_consumption_medium_range_electric, energy_consumption_medium_range_electric_without_operations, energy_consumption_medium_range_electrofuel, energy_consumption_medium_range_electrofuel_without_operations, energy_consumption_medium_range_hydrogen, energy_consumption_medium_range_hydrogen_without_operations, energy_consumption_medium_range_kerosene, energy_consumption_medium_range_kerosene_without_operations, energy_consumption_passenger_biofuel, energy_consumption_passenger_biofuel_without_operations, energy_consumption_passenger_electric, energy_consumption_passenger_electric_without_operations, energy_consumption_passenger_electrofuel, energy_consumption_passenger_electrofuel_without_operations, energy_consumption_passenger_hydrogen, energy_consumption_passenger_hydrogen_without_operations, energy_consumption_passenger_kerosene, energy_consumption_passenger_kerosene_without_operations, energy_consumption_short_range_biofuel, energy_consumption_short_range_biofuel_without_operations, energy_consumption_short_range_electric, energy_consumption_short_range_electric_without_operations, energy_consumption_short_range_electrofuel, energy_consumption_short_range_electrofuel_without_operations, energy_consumption_short_range_hydrogen, energy_consumption_short_range_hydrogen_without_operations, energy_consumption_short_range_kerosene, energy_consumption_short_range_kerosene_without_operations, energy_per_ask_long_range_dropin_fuel, energy_per_ask_long_range_electric, energy_per_ask_long_range_hydrogen, energy_per_ask_mean, energy_per_ask_medium_range_dropin_fuel, energy_per_ask_medium_range_electric, energy_per_ask_medium_range_hydrogen, energy_per_ask_short_range_dropin_fuel, energy_per_ask_short_range_electric, energy_per_ask_short_range_hydrogen, energy_per_ask_without_operations_long_range_dropin_fuel, energy_per_ask_without_operations_long_range_electric, energy_per_ask_without_operations_long_range_hydrogen, energy_per_ask_without_operations_medium_range_dropin_fuel, energy_per_ask_without_operations_medium_range_electric, energy_per_ask_without_operations_medium_range_hydrogen, energy_per_ask_without_operations_short_range_dropin_fuel, energy_per_ask_without_operations_short_range_electric, energy_per_ask_without_operations_short_range_hydrogen, energy_per_rtk_freight_dropin_fuel, energy_per_rtk_freight_electric, energy_per_rtk_freight_hydrogen, energy_per_rtk_mean, energy_per_rtk_without_operations_freight_dropin_fuel, energy_per_rtk_without_operations_freight_electric, energy_per_rtk_without_operations_freight_hydrogen, kerosene_price_supplement_carbon_tax, level_carbon_offset, load_factor, load_factor_cost_non_energy_per_ask, noc_carbon_offset_per_ask, operational_profit_per_ask, residual_carbon_offset, rpk, rpk_long_range, rpk_medium_range, rpk_short_range, rtk_dropin_fuel, rtk_dropin_fuel_share, rtk_electric, rtk_electric_share, rtk_hydrogen, rtk_hydrogen_share.",
     "output_type": "error",
     "traceback": [
      "\u001b[0;31m---------------------------------------------------------------------------\u001b[0m",
      "\u001b[0;31mInvalidDataError\u001b[0m                          Traceback (most recent call last)",
      "Cell \u001b[0;32mIn[5], line 1\u001b[0m\n\u001b[0;32m----> 1\u001b[0m \u001b[43mprocess_init\u001b[49m\u001b[38;5;241;43m.\u001b[39;49m\u001b[43mcompute\u001b[49m\u001b[43m(\u001b[49m\u001b[43m)\u001b[49m\n",
      "File \u001b[0;32m~/PycharmProjects/AeroMAPS/aeromaps/core/process.py:97\u001b[0m, in \u001b[0;36mAeroMAPSProcess.compute\u001b[0;34m(self)\u001b[0m\n\u001b[1;32m     93\u001b[0m \u001b[38;5;28;01mif\u001b[39;00m \u001b[38;5;28mself\u001b[39m\u001b[38;5;241m.\u001b[39mfleet \u001b[38;5;129;01mis\u001b[39;00m \u001b[38;5;129;01mnot\u001b[39;00m \u001b[38;5;28;01mNone\u001b[39;00m:\n\u001b[1;32m     94\u001b[0m     \u001b[38;5;66;03m# This is needed since fleet model is particular discipline\u001b[39;00m\n\u001b[1;32m     95\u001b[0m     input_data[\u001b[38;5;124m\"\u001b[39m\u001b[38;5;124mdummy_fleet_model_output\u001b[39m\u001b[38;5;124m\"\u001b[39m] \u001b[38;5;241m=\u001b[39m np\u001b[38;5;241m.\u001b[39mrandom\u001b[38;5;241m.\u001b[39mrand(\u001b[38;5;241m1\u001b[39m, \u001b[38;5;241m1\u001b[39m)\n\u001b[0;32m---> 97\u001b[0m \u001b[38;5;28;43mself\u001b[39;49m\u001b[38;5;241;43m.\u001b[39;49m\u001b[43mprocess\u001b[49m\u001b[38;5;241;43m.\u001b[39;49m\u001b[43mexecute\u001b[49m\u001b[43m(\u001b[49m\u001b[43minput_data\u001b[49m\u001b[38;5;241;43m=\u001b[39;49m\u001b[43minput_data\u001b[49m\u001b[43m)\u001b[49m\n\u001b[1;32m     99\u001b[0m \u001b[38;5;28mself\u001b[39m\u001b[38;5;241m.\u001b[39m_update_variables()\n\u001b[1;32m    101\u001b[0m \u001b[38;5;28;01mif\u001b[39;00m \u001b[38;5;28mself\u001b[39m\u001b[38;5;241m.\u001b[39mconfiguration_file \u001b[38;5;129;01mis\u001b[39;00m \u001b[38;5;129;01mnot\u001b[39;00m \u001b[38;5;28;01mNone\u001b[39;00m \u001b[38;5;129;01mand\u001b[39;00m \u001b[38;5;124m\"\u001b[39m\u001b[38;5;124mOUTPUTS_JSON_DATA_FILE\u001b[39m\u001b[38;5;124m\"\u001b[39m \u001b[38;5;129;01min\u001b[39;00m \u001b[38;5;28mself\u001b[39m\u001b[38;5;241m.\u001b[39mconfig:\n",
      "File \u001b[0;32m/opt/homebrew/Caskroom/miniforge/base/envs/AeroMAPS/lib/python3.9/site-packages/gemseo/mda/mda_chain.py:488\u001b[0m, in \u001b[0;36mMDAChain.execute\u001b[0;34m(self, input_data)\u001b[0m\n\u001b[1;32m    486\u001b[0m     \u001b[38;5;28mself\u001b[39m\u001b[38;5;241m.\u001b[39mdefault_inputs\u001b[38;5;241m.\u001b[39mupdate(init_chain\u001b[38;5;241m.\u001b[39mexecute(input_data))\n\u001b[1;32m    487\u001b[0m     \u001b[38;5;28mself\u001b[39m\u001b[38;5;241m.\u001b[39m__initialize_defaults \u001b[38;5;241m=\u001b[39m \u001b[38;5;28;01mFalse\u001b[39;00m\n\u001b[0;32m--> 488\u001b[0m \u001b[38;5;28;01mreturn\u001b[39;00m \u001b[38;5;28;43msuper\u001b[39;49m\u001b[43m(\u001b[49m\u001b[43m)\u001b[49m\u001b[38;5;241;43m.\u001b[39;49m\u001b[43mexecute\u001b[49m\u001b[43m(\u001b[49m\u001b[43minput_data\u001b[49m\u001b[38;5;241;43m=\u001b[39;49m\u001b[43minput_data\u001b[49m\u001b[43m)\u001b[49m\n",
      "File \u001b[0;32m/opt/homebrew/Caskroom/miniforge/base/envs/AeroMAPS/lib/python3.9/site-packages/gemseo/mda/mda.py:706\u001b[0m, in \u001b[0;36mMDA.execute\u001b[0;34m(self, input_data)\u001b[0m\n\u001b[1;32m    702\u001b[0m \u001b[38;5;28;01mdef\u001b[39;00m \u001b[38;5;21mexecute\u001b[39m(  \u001b[38;5;66;03m# noqa:D102\u001b[39;00m\n\u001b[1;32m    703\u001b[0m     \u001b[38;5;28mself\u001b[39m, input_data: Mapping[\u001b[38;5;28mstr\u001b[39m, Any] \u001b[38;5;241m|\u001b[39m \u001b[38;5;28;01mNone\u001b[39;00m \u001b[38;5;241m=\u001b[39m \u001b[38;5;28;01mNone\u001b[39;00m\n\u001b[1;32m    704\u001b[0m ) \u001b[38;5;241m-\u001b[39m\u001b[38;5;241m>\u001b[39m DisciplineData:\n\u001b[1;32m    705\u001b[0m     \u001b[38;5;28mself\u001b[39m\u001b[38;5;241m.\u001b[39m_current_iter \u001b[38;5;241m=\u001b[39m \u001b[38;5;241m0\u001b[39m\n\u001b[0;32m--> 706\u001b[0m     \u001b[38;5;28;01mreturn\u001b[39;00m \u001b[38;5;28;43msuper\u001b[39;49m\u001b[43m(\u001b[49m\u001b[43m)\u001b[49m\u001b[38;5;241;43m.\u001b[39;49m\u001b[43mexecute\u001b[49m\u001b[43m(\u001b[49m\u001b[43minput_data\u001b[49m\u001b[38;5;241;43m=\u001b[39;49m\u001b[43minput_data\u001b[49m\u001b[43m)\u001b[49m\n",
      "File \u001b[0;32m/opt/homebrew/Caskroom/miniforge/base/envs/AeroMAPS/lib/python3.9/site-packages/gemseo/core/discipline.py:996\u001b[0m, in \u001b[0;36mMDODiscipline.execute\u001b[0;34m(self, input_data)\u001b[0m\n\u001b[1;32m    993\u001b[0m \u001b[38;5;28mself\u001b[39m\u001b[38;5;241m.\u001b[39m_cache_was_loaded \u001b[38;5;241m=\u001b[39m \u001b[38;5;28;01mFalse\u001b[39;00m\n\u001b[1;32m    995\u001b[0m \u001b[38;5;28;01mif\u001b[39;00m \u001b[38;5;28mself\u001b[39m\u001b[38;5;241m.\u001b[39mactivate_input_data_check:\n\u001b[0;32m--> 996\u001b[0m     \u001b[38;5;28;43mself\u001b[39;49m\u001b[38;5;241;43m.\u001b[39;49m\u001b[43mcheck_input_data\u001b[49m\u001b[43m(\u001b[49m\u001b[43minput_data\u001b[49m\u001b[43m)\u001b[49m\n\u001b[1;32m    998\u001b[0m \u001b[38;5;66;03m# Keep a pristine copy of the inputs before it is eventually changed.\u001b[39;00m\n\u001b[1;32m    999\u001b[0m inputs_for_cache \u001b[38;5;241m=\u001b[39m \u001b[38;5;28mself\u001b[39m\u001b[38;5;241m.\u001b[39m__create_input_data_for_cache(input_data)\n",
      "File \u001b[0;32m/opt/homebrew/Caskroom/miniforge/base/envs/AeroMAPS/lib/python3.9/site-packages/gemseo/core/discipline.py:2012\u001b[0m, in \u001b[0;36mMDODiscipline.check_input_data\u001b[0;34m(self, input_data, raise_exception)\u001b[0m\n\u001b[1;32m   2000\u001b[0m \u001b[38;5;28;01mdef\u001b[39;00m \u001b[38;5;21mcheck_input_data\u001b[39m(\n\u001b[1;32m   2001\u001b[0m     \u001b[38;5;28mself\u001b[39m,\n\u001b[1;32m   2002\u001b[0m     input_data: Mapping[\u001b[38;5;28mstr\u001b[39m, Any],\n\u001b[1;32m   2003\u001b[0m     raise_exception: \u001b[38;5;28mbool\u001b[39m \u001b[38;5;241m=\u001b[39m \u001b[38;5;28;01mTrue\u001b[39;00m,\n\u001b[1;32m   2004\u001b[0m ) \u001b[38;5;241m-\u001b[39m\u001b[38;5;241m>\u001b[39m \u001b[38;5;28;01mNone\u001b[39;00m:\n\u001b[1;32m   2005\u001b[0m \u001b[38;5;250m    \u001b[39m\u001b[38;5;124;03m\"\"\"Check the input data validity.\u001b[39;00m\n\u001b[1;32m   2006\u001b[0m \n\u001b[1;32m   2007\u001b[0m \u001b[38;5;124;03m    Args:\u001b[39;00m\n\u001b[0;32m   (...)\u001b[0m\n\u001b[1;32m   2010\u001b[0m \u001b[38;5;124;03m        raise_exception: Whether to raise on error.\u001b[39;00m\n\u001b[1;32m   2011\u001b[0m \u001b[38;5;124;03m    \"\"\"\u001b[39;00m\n\u001b[0;32m-> 2012\u001b[0m     \u001b[38;5;28;43mself\u001b[39;49m\u001b[38;5;241;43m.\u001b[39;49m\u001b[43minput_grammar\u001b[49m\u001b[38;5;241;43m.\u001b[39;49m\u001b[43mvalidate\u001b[49m\u001b[43m(\u001b[49m\u001b[43minput_data\u001b[49m\u001b[43m,\u001b[49m\u001b[43m \u001b[49m\u001b[43mraise_exception\u001b[49m\u001b[43m)\u001b[49m\n",
      "File \u001b[0;32m/opt/homebrew/Caskroom/miniforge/base/envs/AeroMAPS/lib/python3.9/site-packages/gemseo/core/grammars/base_grammar.py:406\u001b[0m, in \u001b[0;36mBaseGrammar.validate\u001b[0;34m(self, data, raise_exception)\u001b[0m\n\u001b[1;32m    404\u001b[0m LOGGER\u001b[38;5;241m.\u001b[39merror(error_message)\n\u001b[1;32m    405\u001b[0m \u001b[38;5;28;01mif\u001b[39;00m raise_exception:\n\u001b[0;32m--> 406\u001b[0m     \u001b[38;5;28;01mraise\u001b[39;00m InvalidDataError(\u001b[38;5;28mstr\u001b[39m(error_message)) \u001b[38;5;28;01mfrom\u001b[39;00m \u001b[38;5;28;01mNone\u001b[39;00m\n",
      "\u001b[0;31mInvalidDataError\u001b[0m: Grammar MDA chain_discipline_input: validation failed.\nMissing required names: airfare_per_rpk, ask, ask_long_range, ask_long_range_dropin_fuel, ask_long_range_dropin_fuel_share, ask_long_range_electric, ask_long_range_electric_share, ask_long_range_hydrogen, ask_long_range_hydrogen_share, ask_medium_range, ask_medium_range_dropin_fuel, ask_medium_range_dropin_fuel_share, ask_medium_range_electric, ask_medium_range_electric_share, ask_medium_range_hydrogen, ask_medium_range_hydrogen_share, ask_short_range, ask_short_range_dropin_fuel, ask_short_range_dropin_fuel_share, ask_short_range_electric, ask_short_range_electric_share, ask_short_range_hydrogen, ask_short_range_hydrogen_share, average_hydrogen_mean_carbon_tax_kg, average_hydrogen_mean_mfsp_kg, biofuel_mean_carbon_tax_per_l, carbon_offset, co2_emissions, co2_per_energy_mean, doc_carbon_tax_lowering_offset_per_ask_mean, doc_energy_per_ask_mean, doc_non_energy_per_ask_mean, dropin_mean_mfsp, dropin_mfsp_carbon_tax_supplement, electricity_direct_use_carbon_tax_kWh, electrofuel_mfsp_carbon_tax_supplement, energy_consumption, energy_consumption_biofuel, energy_consumption_biofuel_without_operations, energy_consumption_electric, energy_consumption_electric_without_operations, energy_consumption_electrofuel, energy_consumption_electrofuel_without_operations, energy_consumption_freight_biofuel, energy_consumption_freight_biofuel_without_operations, energy_consumption_freight_electric, energy_consumption_freight_electric_without_operations, energy_consumption_freight_electrofuel, energy_consumption_freight_electrofuel_without_operations, energy_consumption_freight_hydrogen, energy_consumption_freight_hydrogen_without_operations, energy_consumption_freight_kerosene, energy_consumption_freight_kerosene_without_operations, energy_consumption_hydrogen, energy_consumption_hydrogen_without_operations, energy_consumption_kerosene, energy_consumption_kerosene_without_operations, energy_consumption_long_range_biofuel, energy_consumption_long_range_biofuel_without_operations, energy_consumption_long_range_electric, energy_consumption_long_range_electric_without_operations, energy_consumption_long_range_electrofuel, energy_consumption_long_range_electrofuel_without_operations, energy_consumption_long_range_hydrogen, energy_consumption_long_range_hydrogen_without_operations, energy_consumption_long_range_kerosene, energy_consumption_long_range_kerosene_without_operations, energy_consumption_medium_range_biofuel, energy_consumption_medium_range_biofuel_without_operations, energy_consumption_medium_range_electric, energy_consumption_medium_range_electric_without_operations, energy_consumption_medium_range_electrofuel, energy_consumption_medium_range_electrofuel_without_operations, energy_consumption_medium_range_hydrogen, energy_consumption_medium_range_hydrogen_without_operations, energy_consumption_medium_range_kerosene, energy_consumption_medium_range_kerosene_without_operations, energy_consumption_passenger_biofuel, energy_consumption_passenger_biofuel_without_operations, energy_consumption_passenger_electric, energy_consumption_passenger_electric_without_operations, energy_consumption_passenger_electrofuel, energy_consumption_passenger_electrofuel_without_operations, energy_consumption_passenger_hydrogen, energy_consumption_passenger_hydrogen_without_operations, energy_consumption_passenger_kerosene, energy_consumption_passenger_kerosene_without_operations, energy_consumption_short_range_biofuel, energy_consumption_short_range_biofuel_without_operations, energy_consumption_short_range_electric, energy_consumption_short_range_electric_without_operations, energy_consumption_short_range_electrofuel, energy_consumption_short_range_electrofuel_without_operations, energy_consumption_short_range_hydrogen, energy_consumption_short_range_hydrogen_without_operations, energy_consumption_short_range_kerosene, energy_consumption_short_range_kerosene_without_operations, energy_per_ask_long_range_dropin_fuel, energy_per_ask_long_range_electric, energy_per_ask_long_range_hydrogen, energy_per_ask_mean, energy_per_ask_medium_range_dropin_fuel, energy_per_ask_medium_range_electric, energy_per_ask_medium_range_hydrogen, energy_per_ask_short_range_dropin_fuel, energy_per_ask_short_range_electric, energy_per_ask_short_range_hydrogen, energy_per_ask_without_operations_long_range_dropin_fuel, energy_per_ask_without_operations_long_range_electric, energy_per_ask_without_operations_long_range_hydrogen, energy_per_ask_without_operations_medium_range_dropin_fuel, energy_per_ask_without_operations_medium_range_electric, energy_per_ask_without_operations_medium_range_hydrogen, energy_per_ask_without_operations_short_range_dropin_fuel, energy_per_ask_without_operations_short_range_electric, energy_per_ask_without_operations_short_range_hydrogen, energy_per_rtk_freight_dropin_fuel, energy_per_rtk_freight_electric, energy_per_rtk_freight_hydrogen, energy_per_rtk_mean, energy_per_rtk_without_operations_freight_dropin_fuel, energy_per_rtk_without_operations_freight_electric, energy_per_rtk_without_operations_freight_hydrogen, kerosene_price_supplement_carbon_tax, level_carbon_offset, load_factor, load_factor_cost_non_energy_per_ask, noc_carbon_offset_per_ask, operational_profit_per_ask, residual_carbon_offset, rpk, rpk_long_range, rpk_medium_range, rpk_short_range, rtk_dropin_fuel, rtk_dropin_fuel_share, rtk_electric, rtk_electric_share, rtk_hydrogen, rtk_hydrogen_share."
     ]
    }
   ],
   "source": [
    "process_init.compute()"
   ]
  },
  {
   "cell_type": "code",
   "execution_count": null,
   "metadata": {
    "tags": []
   },
   "outputs": [],
   "source": [
    "import numpy as np\n",
    "import pandas as pd\n",
    "\n",
    "# data = np.array([0.076544 for _ in range(51)]).reshape(1,51)\n",
    "# process.parameters.airfare_per_ask = pd.Series(data, index=list(range(2000, 2051)))\n",
    "# process.parameters.airfare_per_ask = data"
   ]
  },
  {
   "cell_type": "code",
   "execution_count": null,
   "metadata": {
    "tags": []
   },
   "outputs": [],
   "source": [
    "process = create_process(models=models)\n",
    "process.parameters.price_elasticity = -0.5\n",
    "print(len(process.parameters.__dict__.keys()))\n",
    "process.parameters"
   ]
  },
  {
   "cell_type": "code",
   "execution_count": null,
   "metadata": {
    "tags": []
   },
   "outputs": [],
   "source": [
    "from json import load\n",
    "\n",
    "output_file = process.config[\"OUTPUTS_JSON_DATA_FILE\"]\n",
    "\n",
    "with open(output_file, \"r\", encoding=\"utf-8\") as f:\n",
    "    data = load(f)\n",
    "\n",
    "# parameters_dict = _parameters_dict_from_dict(data)\n",
    "\n",
    "new_data = {}\n",
    "# Update data by removing first level of keys and keep values\n",
    "for key, value in data.items():\n",
    "    new_data.update(value)\n",
    "\n",
    "        \n",
    "for key, value in new_data.items():\n",
    "    # TODO: generic handling of timetables\n",
    "    if isinstance(value, list) and len(value)==20:\n",
    "        new_index = range(\n",
    "            2000, 2020\n",
    "        )\n",
    "        new_data[key] = pd.Series(value, index=new_index)\n",
    "           \n",
    "    elif isinstance(value, list) and len(value)>72:\n",
    "        \n",
    "        new_index = range(\n",
    "            2000, 2051\n",
    "        )\n",
    "        new_data[key] = pd.Series(value[-51:], index=new_index)\n",
    "\n",
    "    elif isinstance(value, list) and 20<len(value)<52:\n",
    "        new_index = range(\n",
    "            2000, 2051\n",
    "        )\n",
    "        new_data[key] = pd.Series(value, index=new_index)\n",
    "    \n",
    "process.parameters.from_dict(new_data)\n",
    "print(len(process.parameters.__dict__.keys()))\n",
    "process.parameters"
   ]
  },
  {
   "cell_type": "code",
   "execution_count": null,
   "metadata": {
    "tags": []
   },
   "outputs": [],
   "source": [
    "process.compute()"
   ]
  },
  {
   "cell_type": "code",
   "execution_count": null,
   "metadata": {
    "tags": []
   },
   "outputs": [],
   "source": [
    "rpk_with_elast=process.vector_outputs_df['rpk']"
   ]
  },
  {
   "cell_type": "code",
   "execution_count": null,
   "metadata": {
    "tags": []
   },
   "outputs": [],
   "source": [
    "rpk_with_elast"
   ]
  },
  {
   "cell_type": "code",
   "execution_count": null,
   "metadata": {},
   "outputs": [],
   "source": []
  }
 ],
 "metadata": {
  "celltoolbar": "Diaporama",
  "kernelspec": {
   "display_name": "Python 3 (ipykernel)",
   "language": "python",
   "name": "python3"
  },
  "language_info": {
   "codemirror_mode": {
    "name": "ipython",
    "version": 3
   },
   "file_extension": ".py",
   "mimetype": "text/x-python",
   "name": "python",
   "nbconvert_exporter": "python",
   "pygments_lexer": "ipython3",
   "version": "3.9.19"
  }
 },
 "nbformat": 4,
 "nbformat_minor": 4
}
