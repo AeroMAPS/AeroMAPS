{
 "cells": [
  {
   "cell_type": "markdown",
   "metadata": {},
   "source": [
    "# Application for the Journal of Open Aviation Science\n",
    "\n",
    "This document has been published for reproducing the application presented in a software paper dedicated to AeroMAPS, submitted to [Journal of Open Aviation Science](https://journals.open.tudelft.nl/joas/index). The different assumptions of this prospective scenario are given in the following. \n",
    "\n",
    "An illustrative 2% annual air traffic growth is assumed for the different aviation markets, i.e. lower than trend estimates of around 3%. The impact of COVID-19 is modelled assuming that air traffic returns to 2019 levels in 2024. Concerning the aircraft fleet, an accelerated fleet renewal is assumed with the introduction of 20% more efficient aircraft architectures in 2035. A hydrogen-powered aircraft is more specifically considered for short-range. Operational improvements are also included for reducing fuel consumption, but operational strategies for contrail avoidance are not considered here, even though it is a promising approach. Regarding the replacement of kerosene by drop-in fuels (biofuel and electrofuel here), ReFuelEU targets are considered as blending mandates. Different pathways are considered for the production of biofuel and hydrogen. Electricity production is expected to decarbonise rapidly and strongly, so that CO<sub>2</sub> emissions from electricity-based fuels will be lower than those from kerosene by 2035. On the economic side, several assumptions are made such as median fuel costs or a constant electricity price of 80 €/MWh. Moreover, a carbon price trajectory, based on *Alain Quinet, What Value Do We Attach to Climate Action?, 2019*, is implemented in the form of a tax on the emissions of fossil and alternative fuels.\n",
    "\n",
    "Moreover, in order to carry out a sustainability assessment, some assumptions are required for setting targets for aviation. A climate target of +1.8°C with a 67% chance of success is chosen as well as a moderate use of Carbon Dioxide Removal (CDR) worldwide. Median estimations are considered for biomass and electricity availability. Finally, concerning allocation rules, a grandfathering approach is assumed for climate issues, which means that 2.6% (i.e. aviation's current share of CO<sub>2</sub> emissions) of the world carbon budget is allocated for aviation. For energy resources, an illustrative and arbitrary allocation of 5% is assumed."
   ]
  },
  {
   "cell_type": "markdown",
   "metadata": {
    "slideshow": {
     "slide_type": "slide"
    }
   },
   "source": [
    "## Load and process"
   ]
  },
  {
   "cell_type": "code",
   "execution_count": 1,
   "metadata": {
    "slideshow": {
     "slide_type": "subslide"
    },
    "tags": []
   },
   "outputs": [],
   "source": [
    "%matplotlib widget\n",
    "import time\n",
    "import numpy as np\n",
    "from aeromaps.core.process import AeromapsProcess\n",
    "from aeromaps.core.models import models_complex\n",
    "from aeromaps.models.air_transport.aircraft_fleet_and_operations.fleet.fleet_model import (\n",
    "    Fleet,\n",
    "    AircraftParameters,\n",
    "    Aircraft,\n",
    ")"
   ]
  },
  {
   "cell_type": "code",
   "execution_count": 2,
   "metadata": {
    "slideshow": {
     "slide_type": "subslide"
    },
    "tags": []
   },
   "outputs": [],
   "source": [
    "process = AeromapsProcess(\n",
    "    models=models_complex,\n",
    "    use_fleet_model=True,\n",
    "    add_examples_aircraft_and_subcategory=False,\n",
    ")"
   ]
  },
  {
   "cell_type": "markdown",
   "metadata": {
    "slideshow": {
     "slide_type": "slide"
    }
   },
   "source": [
    "## Set up variables\n",
    "\n",
    "### Aviation scenario"
   ]
  },
  {
   "cell_type": "code",
   "execution_count": 3,
   "metadata": {
    "slideshow": {
     "slide_type": "subslide"
    },
    "tags": []
   },
   "outputs": [],
   "source": [
    "# Air traffic evolution\n",
    "\n",
    "## Growth rate by category and decade [%]\n",
    "process.parameters.growth_rate_2020_2030_short_range = 2\n",
    "process.parameters.growth_rate_2030_2040_short_range = 2\n",
    "process.parameters.growth_rate_2040_2050_short_range = 2\n",
    "process.parameters.growth_rate_2020_2030_medium_range = 2\n",
    "process.parameters.growth_rate_2030_2040_medium_range = 2\n",
    "process.parameters.growth_rate_2040_2050_medium_range = 2\n",
    "process.parameters.growth_rate_2020_2030_long_range = 2\n",
    "process.parameters.growth_rate_2030_2040_long_range = 2\n",
    "process.parameters.growth_rate_2040_2050_long_range = 2\n",
    "process.parameters.growth_rate_2020_2030_freight = 2\n",
    "process.parameters.growth_rate_2030_2040_freight = 2\n",
    "process.parameters.growth_rate_2040_2050_freight = 2"
   ]
  },
  {
   "cell_type": "code",
   "execution_count": 4,
   "metadata": {
    "tags": []
   },
   "outputs": [],
   "source": [
    "# Aircraft fleet\n",
    "\n",
    "## Initialization\n",
    "fleet = process.fleet\n",
    "\n",
    "## Short Range\n",
    "short_range_aircraft_params = AircraftParameters(\n",
    "    entry_into_service_year=2035,\n",
    "    consumption_evolution=-20.0,\n",
    "    nox_evolution=-75.0,\n",
    "    soot_evolution=-100.0,\n",
    "    doc_non_energy_evolution=10.0,\n",
    "    cruise_altitude=12000.0,\n",
    ")\n",
    "short_range_aircraft = Aircraft(\n",
    "    \"New Short-range Aircraft\", parameters=short_range_aircraft_params, energy_type=\"HYDROGEN\"\n",
    ")\n",
    "fleet.categories[\"Short Range\"].subcategories[0].add_aircraft(aircraft=short_range_aircraft)\n",
    "\n",
    "## Medium Range\n",
    "medium_range_aircraft_params = AircraftParameters(\n",
    "    entry_into_service_year=2035,\n",
    "    consumption_evolution=-20.0,\n",
    "    nox_evolution=0.0,\n",
    "    soot_evolution=0.0,\n",
    "    doc_non_energy_evolution=0.0,\n",
    "    cruise_altitude=12000.0,\n",
    ")\n",
    "medium_range_aircraft = Aircraft(\n",
    "    \"New Medium-range Aircraft\", parameters=medium_range_aircraft_params, energy_type=\"DROP_IN_FUEL\"\n",
    ")\n",
    "fleet.categories[\"Medium Range\"].subcategories[0].add_aircraft(aircraft=medium_range_aircraft)\n",
    "\n",
    "## Long Range\n",
    "long_range_aircraft_params = AircraftParameters(\n",
    "    entry_into_service_year=2035,\n",
    "    consumption_evolution=-20.0,\n",
    "    nox_evolution=0.0,\n",
    "    soot_evolution=0.0,\n",
    "    doc_non_energy_evolution=0.0,\n",
    "    cruise_altitude=12000.0,\n",
    ")\n",
    "long_range_aircraft = Aircraft(\n",
    "    \"New Long-range Aircraft\", parameters=long_range_aircraft_params, energy_type=\"DROP_IN_FUEL\"\n",
    ")\n",
    "fleet.categories[\"Long Range\"].subcategories[0].add_aircraft(aircraft=long_range_aircraft)\n",
    "\n",
    "## Fleet renewal\n",
    "fleet.categories[\"Short Range\"].parameters.life = 20\n",
    "fleet.categories[\"Medium Range\"].parameters.life = 20\n",
    "fleet.categories[\"Long Range\"].parameters.life = 20"
   ]
  },
  {
   "cell_type": "code",
   "execution_count": 5,
   "metadata": {
    "slideshow": {
     "slide_type": "subslide"
    },
    "tags": []
   },
   "outputs": [],
   "source": [
    "# Aircraft fleet and operation evolution - Aircraft load factor\n",
    "\n",
    "## Aircraft load factor in 2050 [%]\n",
    "process.parameters.load_factor_end_year = 89  # 2019 value: 82.399312"
   ]
  },
  {
   "cell_type": "code",
   "execution_count": 6,
   "metadata": {
    "slideshow": {
     "slide_type": "subslide"
    },
    "tags": []
   },
   "outputs": [],
   "source": [
    "# Aircraft fleet and operation evolution - Operations\n",
    "\n",
    "## Values for setting the logistic function\n",
    "process.parameters.operations_final_gain = 8.0  # [%]\n",
    "process.parameters.operations_start_year = 2025\n",
    "process.parameters.operations_duration = 25.0"
   ]
  },
  {
   "cell_type": "code",
   "execution_count": 7,
   "metadata": {
    "slideshow": {
     "slide_type": "subslide"
    },
    "tags": []
   },
   "outputs": [],
   "source": [
    "# Aircraft energy - Introduction of alternative drop-in fuels\n",
    "\n",
    "## Share of alternative fuels in the drop-in fuel mix by decade (the rest being supplemented by kerosene) [%]\n",
    "# process.parameters.biofuel_share = {\n",
    "#     \"years\": [2030, 2040, 2050],\n",
    "#     \"values\": [4.8, 24.0, 35.0],\n",
    "#     \"method\": \"linear\",\n",
    "# }\n",
    "# process.parameters.biofuel_share_reference_years = [2020, 2030, 2040, 2060]\n",
    "# process.parameters.biofuel_share_reference_years_values = [0.0, 4.8, 24.0, 35.0]\n",
    "# process.parameters.biofuel_share_reference_years = [2030]\n",
    "# process.parameters.biofuel_share_reference_years_values = [4.8]\n",
    "\n",
    "process.parameters.electrofuel_share_2030 = 1.2\n",
    "process.parameters.electrofuel_share_2040 = 10.0\n",
    "process.parameters.electrofuel_share_2050 = 35.0"
   ]
  },
  {
   "cell_type": "code",
   "execution_count": 8,
   "metadata": {
    "slideshow": {
     "slide_type": "subslide"
    },
    "tags": []
   },
   "outputs": [],
   "source": [
    "# Various environmental settings\n",
    "\n",
    "## Share of biofuel production pathways by decade (the rest being completed by AtJ processes) [%]\n",
    "process.parameters.biofuel_hefa_fog_share_2030 = 0.7\n",
    "process.parameters.biofuel_hefa_fog_share_2040 = 0.7\n",
    "process.parameters.biofuel_hefa_fog_share_2050 = 0.7\n",
    "process.parameters.biofuel_hefa_others_share_2030 = 3.8\n",
    "process.parameters.biofuel_hefa_others_share_2040 = 3.8\n",
    "process.parameters.biofuel_hefa_others_share_2050 = 3.8\n",
    "process.parameters.biofuel_ft_others_share_2030 = 76.3\n",
    "process.parameters.biofuel_ft_others_share_2040 = 76.3\n",
    "process.parameters.biofuel_ft_others_share_2050 = 76.3\n",
    "process.parameters.biofuel_ft_msw_share_2030 = 7.4\n",
    "process.parameters.biofuel_ft_msw_share_2040 = 7.4\n",
    "process.parameters.biofuel_ft_msw_share_2050 = 7.4\n",
    "\n",
    "## Emission factors for electricity by decade (2019 value: 429 gCO2/kWh)\n",
    "process.parameters.electricity_emission_factor_2020 = 429\n",
    "process.parameters.electricity_emission_factor_2030 = 180\n",
    "process.parameters.electricity_emission_factor_2040 = 75\n",
    "process.parameters.electricity_emission_factor_2050 = 30\n",
    "\n",
    "## Share of hydrogen production pathways by decade (the rest being completed by production via coal without CCS) [%]\n",
    "## Distribution in 2019: Gas without CCS (71%), Coal without CCS (27%), Electrolysis (2%), Others with CCS (0%), Co-products not taken into account\n",
    "process.parameters.hydrogen_electrolysis_share_2020 = 0\n",
    "process.parameters.hydrogen_electrolysis_share_2030 = 50\n",
    "process.parameters.hydrogen_electrolysis_share_2040 = 100\n",
    "process.parameters.hydrogen_electrolysis_share_2050 = 100\n",
    "process.parameters.hydrogen_gas_ccs_share_2020 = 0\n",
    "process.parameters.hydrogen_gas_ccs_share_2030 = 0\n",
    "process.parameters.hydrogen_gas_ccs_share_2040 = 0\n",
    "process.parameters.hydrogen_gas_ccs_share_2050 = 0\n",
    "process.parameters.hydrogen_coal_ccs_share_2020 = 0\n",
    "process.parameters.hydrogen_coal_ccs_share_2030 = 0\n",
    "process.parameters.hydrogen_coal_ccs_share_2040 = 0\n",
    "process.parameters.hydrogen_coal_ccs_share_2050 = 0\n",
    "process.parameters.hydrogen_gas_share_2020 = 71\n",
    "process.parameters.hydrogen_gas_share_2030 = 50\n",
    "process.parameters.hydrogen_gas_share_2040 = 0\n",
    "process.parameters.hydrogen_gas_share_2050 = 0"
   ]
  },
  {
   "cell_type": "code",
   "execution_count": 9,
   "metadata": {
    "tags": []
   },
   "outputs": [],
   "source": [
    "# Cost parameters\n",
    "\n",
    "process.parameters.co2_tax_2020 = 5  # Differs from the value of Quinet (54 €/tCO2)\n",
    "process.parameters.co2_tax_2030 = 250\n",
    "process.parameters.co2_tax_2040 = 500\n",
    "process.parameters.co2_tax_2050 = 775"
   ]
  },
  {
   "cell_type": "markdown",
   "metadata": {},
   "source": [
    "### Sustainability assessment"
   ]
  },
  {
   "cell_type": "code",
   "execution_count": 10,
   "metadata": {
    "slideshow": {
     "slide_type": "subslide"
    },
    "tags": []
   },
   "outputs": [],
   "source": [
    "# Environmental limits\n",
    "\n",
    "## Carbon budgets and Carbon Dioxide Removal [GtCO2]\n",
    "process.parameters.net_carbon_budget = 850.0\n",
    "process.parameters.carbon_dioxyde_removal_2100 = 285.0\n",
    "\n",
    "## Available energy resources in 2050 [EJ]\n",
    "process.parameters.waste_biomass = 12\n",
    "process.parameters.crops_biomass = 63\n",
    "process.parameters.forest_residues_biomass = 17\n",
    "process.parameters.agricultural_residues_biomass = 57\n",
    "process.parameters.algae_biomass = 15\n",
    "process.parameters.available_electricity = 200.0"
   ]
  },
  {
   "cell_type": "code",
   "execution_count": 11,
   "metadata": {
    "slideshow": {
     "slide_type": "subslide"
    },
    "tags": []
   },
   "outputs": [],
   "source": [
    "# Allocation settings\n",
    "\n",
    "## Aviation share of the global (equivalent) carbon budget [%]\n",
    "process.parameters.aviation_carbon_budget_allocated_share = 2.6\n",
    "process.parameters.aviation_equivalentcarbonbudget_allocated_share = 5.1\n",
    "\n",
    "## Aviation share of the global energy resources (biomass and electricity) [%]\n",
    "process.parameters.aviation_biomass_allocated_share = 5.0\n",
    "process.parameters.aviation_electricity_allocated_share = 5.0"
   ]
  },
  {
   "cell_type": "code",
   "execution_count": 12,
   "metadata": {},
   "outputs": [],
   "source": [
    "# End year\n",
    "process.parameters.end_year = 2060\n",
    "process.setup()"
   ]
  },
  {
   "cell_type": "markdown",
   "metadata": {
    "slideshow": {
     "slide_type": "slide"
    }
   },
   "source": [
    "## Compute"
   ]
  },
  {
   "cell_type": "code",
   "execution_count": 13,
   "metadata": {
    "slideshow": {
     "slide_type": "subslide"
    },
    "tags": []
   },
   "outputs": [
    {
     "ename": "InvalidDataError",
     "evalue": "Grammar MDA chain_discipline_input: validation failed.\nMissing required names: operations_contrails_duration, operations_contrails_final_gain, operations_contrails_final_overconsumption, operations_contrails_start_year, rpk_long_range_measures_duration, rpk_long_range_measures_final_impact, rpk_long_range_measures_start_year, rpk_medium_range_measures_duration, rpk_medium_range_measures_final_impact, rpk_medium_range_measures_start_year, rpk_short_range_measures_duration, rpk_short_range_measures_final_impact, rpk_short_range_measures_start_year.",
     "output_type": "error",
     "traceback": [
      "\u001b[0;31m---------------------------------------------------------------------------\u001b[0m",
      "\u001b[0;31mInvalidDataError\u001b[0m                          Traceback (most recent call last)",
      "Cell \u001b[0;32mIn[13], line 2\u001b[0m\n\u001b[1;32m      1\u001b[0m t1 \u001b[38;5;241m=\u001b[39m time\u001b[38;5;241m.\u001b[39mtime()\n\u001b[0;32m----> 2\u001b[0m \u001b[43mprocess\u001b[49m\u001b[38;5;241;43m.\u001b[39;49m\u001b[43mcompute\u001b[49m\u001b[43m(\u001b[49m\u001b[43m)\u001b[49m\n\u001b[1;32m      3\u001b[0m t2 \u001b[38;5;241m=\u001b[39m time\u001b[38;5;241m.\u001b[39mtime()\n\u001b[1;32m      4\u001b[0m \u001b[38;5;28mprint\u001b[39m(\u001b[38;5;124m\"\u001b[39m\u001b[38;5;124mComputation time:\u001b[39m\u001b[38;5;124m\"\u001b[39m, np\u001b[38;5;241m.\u001b[39mround(t2 \u001b[38;5;241m-\u001b[39m t1, \u001b[38;5;241m1\u001b[39m), \u001b[38;5;124m\"\u001b[39m\u001b[38;5;124ms\u001b[39m\u001b[38;5;124m\"\u001b[39m)\n",
      "File \u001b[0;32m~/PycharmProjects/AeroMAPS/aeromaps/core/process.py:135\u001b[0m, in \u001b[0;36mAeromapsProcess.compute\u001b[0;34m(self)\u001b[0m\n\u001b[1;32m    131\u001b[0m \u001b[38;5;28;01mif\u001b[39;00m \u001b[38;5;28mself\u001b[39m\u001b[38;5;241m.\u001b[39mfleet \u001b[38;5;129;01mis\u001b[39;00m \u001b[38;5;129;01mnot\u001b[39;00m \u001b[38;5;28;01mNone\u001b[39;00m:\n\u001b[1;32m    132\u001b[0m     \u001b[38;5;66;03m# This is needed since fleet model is particular discipline\u001b[39;00m\n\u001b[1;32m    133\u001b[0m     input_data[\u001b[38;5;124m\"\u001b[39m\u001b[38;5;124mdummy_fleet_model_output\u001b[39m\u001b[38;5;124m\"\u001b[39m] \u001b[38;5;241m=\u001b[39m np\u001b[38;5;241m.\u001b[39mrandom\u001b[38;5;241m.\u001b[39mrand(\u001b[38;5;241m1\u001b[39m, \u001b[38;5;241m1\u001b[39m)\n\u001b[0;32m--> 135\u001b[0m \u001b[38;5;28;43mself\u001b[39;49m\u001b[38;5;241;43m.\u001b[39;49m\u001b[43mprocess\u001b[49m\u001b[38;5;241;43m.\u001b[39;49m\u001b[43mexecute\u001b[49m\u001b[43m(\u001b[49m\u001b[43minput_data\u001b[49m\u001b[38;5;241;43m=\u001b[39;49m\u001b[43minput_data\u001b[49m\u001b[43m)\u001b[49m\n\u001b[1;32m    137\u001b[0m \u001b[38;5;28mself\u001b[39m\u001b[38;5;241m.\u001b[39m_update_variables()\n\u001b[1;32m    139\u001b[0m \u001b[38;5;28mself\u001b[39m\u001b[38;5;241m.\u001b[39mwrite_json()\n",
      "File \u001b[0;32m/opt/homebrew/Caskroom/miniforge/base/envs/AeroMAPS/lib/python3.8/site-packages/gemseo/mda/mda.py:706\u001b[0m, in \u001b[0;36mMDA.execute\u001b[0;34m(self, input_data)\u001b[0m\n\u001b[1;32m    702\u001b[0m \u001b[38;5;28;01mdef\u001b[39;00m \u001b[38;5;21mexecute\u001b[39m(  \u001b[38;5;66;03m# noqa:D102\u001b[39;00m\n\u001b[1;32m    703\u001b[0m     \u001b[38;5;28mself\u001b[39m, input_data: Mapping[\u001b[38;5;28mstr\u001b[39m, Any] \u001b[38;5;241m|\u001b[39m \u001b[38;5;28;01mNone\u001b[39;00m \u001b[38;5;241m=\u001b[39m \u001b[38;5;28;01mNone\u001b[39;00m\n\u001b[1;32m    704\u001b[0m ) \u001b[38;5;241m-\u001b[39m\u001b[38;5;241m>\u001b[39m \u001b[38;5;28mdict\u001b[39m[\u001b[38;5;28mstr\u001b[39m, Any]:\n\u001b[1;32m    705\u001b[0m     \u001b[38;5;28mself\u001b[39m\u001b[38;5;241m.\u001b[39m_current_iter \u001b[38;5;241m=\u001b[39m \u001b[38;5;241m0\u001b[39m\n\u001b[0;32m--> 706\u001b[0m     \u001b[38;5;28;01mreturn\u001b[39;00m \u001b[38;5;28;43msuper\u001b[39;49m\u001b[43m(\u001b[49m\u001b[43m)\u001b[49m\u001b[38;5;241;43m.\u001b[39;49m\u001b[43mexecute\u001b[49m\u001b[43m(\u001b[49m\u001b[43minput_data\u001b[49m\u001b[38;5;241;43m=\u001b[39;49m\u001b[43minput_data\u001b[49m\u001b[43m)\u001b[49m\n",
      "File \u001b[0;32m/opt/homebrew/Caskroom/miniforge/base/envs/AeroMAPS/lib/python3.8/site-packages/gemseo/core/discipline.py:959\u001b[0m, in \u001b[0;36mMDODiscipline.execute\u001b[0;34m(self, input_data)\u001b[0m\n\u001b[1;32m    956\u001b[0m     cached_inputs \u001b[38;5;241m=\u001b[39m \u001b[38;5;28mself\u001b[39m\u001b[38;5;241m.\u001b[39m__get_input_data_for_cache(input_data, in_names)\n\u001b[1;32m    958\u001b[0m \u001b[38;5;28;01mif\u001b[39;00m \u001b[38;5;28mself\u001b[39m\u001b[38;5;241m.\u001b[39mactivate_input_data_check:\n\u001b[0;32m--> 959\u001b[0m     \u001b[38;5;28;43mself\u001b[39;49m\u001b[38;5;241;43m.\u001b[39;49m\u001b[43mcheck_input_data\u001b[49m\u001b[43m(\u001b[49m\u001b[43minput_data\u001b[49m\u001b[43m)\u001b[49m\n\u001b[1;32m    961\u001b[0m processor \u001b[38;5;241m=\u001b[39m \u001b[38;5;28mself\u001b[39m\u001b[38;5;241m.\u001b[39mdata_processor\n\u001b[1;32m    962\u001b[0m \u001b[38;5;28;01mif\u001b[39;00m processor \u001b[38;5;129;01mis\u001b[39;00m \u001b[38;5;129;01mnot\u001b[39;00m \u001b[38;5;28;01mNone\u001b[39;00m:\n",
      "File \u001b[0;32m/opt/homebrew/Caskroom/miniforge/base/envs/AeroMAPS/lib/python3.8/site-packages/gemseo/core/discipline.py:1927\u001b[0m, in \u001b[0;36mMDODiscipline.check_input_data\u001b[0;34m(self, input_data, raise_exception)\u001b[0m\n\u001b[1;32m   1915\u001b[0m \u001b[38;5;28;01mdef\u001b[39;00m \u001b[38;5;21mcheck_input_data\u001b[39m(\n\u001b[1;32m   1916\u001b[0m     \u001b[38;5;28mself\u001b[39m,\n\u001b[1;32m   1917\u001b[0m     input_data: Mapping[\u001b[38;5;28mstr\u001b[39m, Any],\n\u001b[1;32m   1918\u001b[0m     raise_exception: \u001b[38;5;28mbool\u001b[39m \u001b[38;5;241m=\u001b[39m \u001b[38;5;28;01mTrue\u001b[39;00m,\n\u001b[1;32m   1919\u001b[0m ) \u001b[38;5;241m-\u001b[39m\u001b[38;5;241m>\u001b[39m \u001b[38;5;28;01mNone\u001b[39;00m:\n\u001b[1;32m   1920\u001b[0m \u001b[38;5;250m    \u001b[39m\u001b[38;5;124;03m\"\"\"Check the input data validity.\u001b[39;00m\n\u001b[1;32m   1921\u001b[0m \n\u001b[1;32m   1922\u001b[0m \u001b[38;5;124;03m    Args:\u001b[39;00m\n\u001b[0;32m   (...)\u001b[0m\n\u001b[1;32m   1925\u001b[0m \u001b[38;5;124;03m        raise_exception: Whether to raise on error.\u001b[39;00m\n\u001b[1;32m   1926\u001b[0m \u001b[38;5;124;03m    \"\"\"\u001b[39;00m\n\u001b[0;32m-> 1927\u001b[0m     \u001b[38;5;28;43mself\u001b[39;49m\u001b[38;5;241;43m.\u001b[39;49m\u001b[43minput_grammar\u001b[49m\u001b[38;5;241;43m.\u001b[39;49m\u001b[43mvalidate\u001b[49m\u001b[43m(\u001b[49m\u001b[43minput_data\u001b[49m\u001b[43m,\u001b[49m\u001b[43m \u001b[49m\u001b[43mraise_exception\u001b[49m\u001b[43m)\u001b[49m\n",
      "File \u001b[0;32m/opt/homebrew/Caskroom/miniforge/base/envs/AeroMAPS/lib/python3.8/site-packages/gemseo/core/grammars/base_grammar.py:278\u001b[0m, in \u001b[0;36mBaseGrammar.validate\u001b[0;34m(self, data, raise_exception)\u001b[0m\n\u001b[1;32m    276\u001b[0m LOGGER\u001b[38;5;241m.\u001b[39merror(error_message)\n\u001b[1;32m    277\u001b[0m \u001b[38;5;28;01mif\u001b[39;00m raise_exception:\n\u001b[0;32m--> 278\u001b[0m     \u001b[38;5;28;01mraise\u001b[39;00m InvalidDataError(\u001b[38;5;28mstr\u001b[39m(error_message)) \u001b[38;5;28;01mfrom\u001b[39;00m \u001b[38;5;28;01mNone\u001b[39;00m\n",
      "\u001b[0;31mInvalidDataError\u001b[0m: Grammar MDA chain_discipline_input: validation failed.\nMissing required names: operations_contrails_duration, operations_contrails_final_gain, operations_contrails_final_overconsumption, operations_contrails_start_year, rpk_long_range_measures_duration, rpk_long_range_measures_final_impact, rpk_long_range_measures_start_year, rpk_medium_range_measures_duration, rpk_medium_range_measures_final_impact, rpk_medium_range_measures_start_year, rpk_short_range_measures_duration, rpk_short_range_measures_final_impact, rpk_short_range_measures_start_year."
     ]
    }
   ],
   "source": [
    "t1 = time.time()\n",
    "process.compute()\n",
    "t2 = time.time()\n",
    "print(\"Computation time:\", np.round(t2 - t1, 1), \"s\")"
   ]
  },
  {
   "cell_type": "markdown",
   "metadata": {},
   "source": [
    "## Results"
   ]
  },
  {
   "cell_type": "code",
   "execution_count": null,
   "metadata": {
    "tags": []
   },
   "outputs": [],
   "source": [
    "print(\n",
    "    \"CO2 emissions in 2050:\",\n",
    "    round(process.data[\"vector_outputs\"][\"co2_emissions\"][2050], 0),\n",
    "    \"MtCO2, i.e. an evolution of:\",\n",
    "    round(\n",
    "        (\n",
    "            (\n",
    "                process.data[\"vector_outputs\"][\"co2_emissions\"][2050]\n",
    "                / process.data[\"vector_outputs\"][\"co2_emissions\"][2019]\n",
    "            )\n",
    "            - 1\n",
    "        )\n",
    "        * 100,\n",
    "        0,\n",
    "    ),\n",
    "    \"% compared to 2019\",\n",
    ")\n",
    "print(\n",
    "    \"CO2 emissions per RPK in 2050:\",\n",
    "    round(process.data[\"vector_outputs\"][\"co2_emissions_per_rpk\"][2050], 0),\n",
    "    \"gCO2/RPK, i.e. an evolution of:\",\n",
    "    round(\n",
    "        (\n",
    "            (\n",
    "                process.data[\"vector_outputs\"][\"co2_emissions_per_rpk\"][2050]\n",
    "                / process.data[\"vector_outputs\"][\"co2_emissions_per_rpk\"][2019]\n",
    "            )\n",
    "            - 1\n",
    "        )\n",
    "        * 100,\n",
    "        0,\n",
    "    ),\n",
    "    \"% compared to 2019\",\n",
    ")\n",
    "print(\n",
    "    \"Temperature increase due to aviation in 2050:\",\n",
    "    round(process.data[\"vector_outputs\"][\"temperature_increase_from_aviation\"][2050], 3),\n",
    "    \"°C, i.e. an evolution of:\",\n",
    "    round(\n",
    "        (\n",
    "            (\n",
    "                process.data[\"vector_outputs\"][\"temperature_increase_from_aviation\"][2050]\n",
    "                / process.data[\"vector_outputs\"][\"temperature_increase_from_aviation\"][2019]\n",
    "            )\n",
    "            - 1\n",
    "        )\n",
    "        * 100,\n",
    "        0,\n",
    "    ),\n",
    "    \"% compared to 2019\",\n",
    ")\n",
    "print(\n",
    "    \"Total Direct Operating Cost, including carbon tax in 2050:\",\n",
    "    round(process.data[\"vector_outputs\"][\"doc_total_per_ask_mean\"][2050], 3),\n",
    "    \"€/ASK, i.e. an evolution of:\",\n",
    "    round(\n",
    "        (\n",
    "            (\n",
    "                process.data[\"vector_outputs\"][\"doc_total_per_ask_mean\"][2050]\n",
    "                / process.data[\"vector_outputs\"][\"doc_total_per_ask_mean\"][2019]\n",
    "            )\n",
    "            - 1\n",
    "        )\n",
    "        * 100,\n",
    "        0,\n",
    "    ),\n",
    "    \"% compared to 2019\",\n",
    ")"
   ]
  },
  {
   "cell_type": "markdown",
   "metadata": {
    "slideshow": {
     "slide_type": "slide"
    }
   },
   "source": [
    "## Plots"
   ]
  },
  {
   "cell_type": "code",
   "execution_count": null,
   "metadata": {
    "slideshow": {
     "slide_type": "subslide"
    },
    "tags": []
   },
   "outputs": [],
   "source": [
    "process.plot(\"air_transport_co2_emissions\")"
   ]
  },
  {
   "cell_type": "code",
   "execution_count": null,
   "metadata": {
    "tags": []
   },
   "outputs": [],
   "source": [
    "process.plot(\"multidisciplinary_assessment\")"
   ]
  },
  {
   "cell_type": "code",
   "execution_count": null,
   "metadata": {
    "tags": []
   },
   "outputs": [],
   "source": [
    "process.plot(\"drop_in_macc_curve\")"
   ]
  },
  {
   "cell_type": "code",
   "execution_count": null,
   "metadata": {
    "tags": []
   },
   "outputs": [],
   "source": [
    "process.list_float_inputs()"
   ]
  },
  {
   "cell_type": "code",
   "execution_count": null,
   "metadata": {},
   "outputs": [],
   "source": []
  },
  {
   "cell_type": "code",
   "execution_count": null,
   "metadata": {},
   "outputs": [],
   "source": []
  },
  {
   "cell_type": "code",
   "execution_count": null,
   "metadata": {},
   "outputs": [],
   "source": []
  },
  {
   "cell_type": "code",
   "execution_count": null,
   "metadata": {},
   "outputs": [],
   "source": []
  },
  {
   "cell_type": "code",
   "execution_count": null,
   "metadata": {},
   "outputs": [],
   "source": []
  },
  {
   "cell_type": "code",
   "execution_count": null,
   "metadata": {},
   "outputs": [],
   "source": []
  }
 ],
 "metadata": {
  "celltoolbar": "Diaporama",
  "kernelspec": {
   "display_name": "Python 3 (ipykernel)",
   "language": "python",
   "name": "python3"
  },
  "language_info": {
   "codemirror_mode": {
    "name": "ipython",
    "version": 3
   },
   "file_extension": ".py",
   "mimetype": "text/x-python",
   "name": "python",
   "nbconvert_exporter": "python",
   "pygments_lexer": "ipython3",
   "version": "3.8.16"
  }
 },
 "nbformat": 4,
 "nbformat_minor": 4
}
