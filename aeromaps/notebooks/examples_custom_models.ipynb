{
 "cells": [
  {
   "cell_type": "markdown",
   "metadata": {},
   "source": [
    "# Example for using custom model in AeroMAPS\n",
    "\n",
    "This document aims to show the recommended way to add custom models and execute them within AeroMAPS."
   ]
  },
  {
   "cell_type": "markdown",
   "metadata": {
    "slideshow": {
     "slide_type": "slide"
    }
   },
   "source": [
    "## Load and process\n",
    "\n",
    "First, the user has to load the framework and generate a process."
   ]
  },
  {
   "cell_type": "code",
   "execution_count": 1,
   "metadata": {
    "slideshow": {
     "slide_type": "subslide"
    },
    "tags": []
   },
   "outputs": [],
   "source": [
    "%matplotlib widget\n",
    "from aeromaps.core.process import create_process\n",
    "from aeromaps.core.models import models_simple"
   ]
  },
  {
   "cell_type": "markdown",
   "metadata": {},
   "source": [
    "## Adding your custom modules\n",
    "\n",
    "Here by default we import `models_simple` that contains the basic models (around 400) used in AeroMAPS. We recommend to keep these default models to not remove any outputs that may be needed by other models.\n",
    "The `models_simple` is a dictionnary structure with keys that are the name of the model and the value an instance of the model:\n",
    "\n",
    "```python\n",
    "models_simple = {\n",
    "    \"rpk_measures\": RPKMeasures(\"rpk_measures\"),\n",
    "    \"rpk\": RPK(\"rpk\"),\n",
    "    \"rpk_reference\": RPKReference(\"rpk_reference\"),\n",
    "    \"total_aircraft_distance\": TotalAircraftDistance(\"total_aircraft_distance\"),\n",
    "    \"rtk\": RTK(\"rtk\")\n",
    "}\n",
    "\n",
    "```\n",
    "\n",
    "We create a custom model example `MeanDistancePerInhabitantFlyer` that is located in the file `models/mean_distance_per_inhabitant_and_flyer.py`. To integrate it in to the AeroMAPS process we propose to import it and to add it to the dictionnary containing the models."
   ]
  },
  {
   "cell_type": "code",
   "execution_count": 2,
   "metadata": {
    "tags": []
   },
   "outputs": [],
   "source": [
    "from models.mean_distance_per_inhabitant_and_flyer import MeanDistancePerInhabitantFlyer\n",
    "\n",
    "extended_models = models_simple.copy()\n",
    "extended_models[\"mean_distance_per_inhabitant_and_flyer\"] = MeanDistancePerInhabitantFlyer(\"mean_distance_per_inhabitant_and_flyer\")"
   ]
  },
  {
   "cell_type": "markdown",
   "metadata": {
    "tags": []
   },
   "source": [
    "This new ensemble of models can be provided to the process."
   ]
  },
  {
   "cell_type": "code",
   "execution_count": 3,
   "metadata": {
    "slideshow": {
     "slide_type": "subslide"
    },
    "tags": []
   },
   "outputs": [],
   "source": [
    "process = create_process(models=extended_models)"
   ]
  },
  {
   "cell_type": "markdown",
   "metadata": {},
   "source": [
    "Do not forget to set the new inputs in the `parameters.json`or through the code:"
   ]
  },
  {
   "cell_type": "code",
   "execution_count": 4,
   "metadata": {
    "tags": []
   },
   "outputs": [],
   "source": [
    "process.parameters.world_inhabitant_number_reference_years = [2020, 2030, 2040, 2050]\n",
    "process.parameters.world_inhabitant_number_reference_years_values = [8e9, 8e9*1.05, 8e9*1.10, 8e9*1.15]\n",
    "process.parameters.inhabitant_flyer_share_reference_years = [2020, 2030, 2040, 2050]\n",
    "process.parameters.inhabitant_flyer_share_reference_years_values = [0.1, 0.12, 0.15, 0.2]"
   ]
  },
  {
   "cell_type": "code",
   "execution_count": 5,
   "metadata": {
    "tags": []
   },
   "outputs": [
    {
     "data": {
      "text/plain": [
       "[8000000000.0, 8400000000.0, 8800000000.0, 9200000000.0]"
      ]
     },
     "execution_count": 5,
     "metadata": {},
     "output_type": "execute_result"
    }
   ],
   "source": [
    "process.parameters.world_inhabitant_number_reference_years_values"
   ]
  },
  {
   "cell_type": "markdown",
   "metadata": {
    "slideshow": {
     "slide_type": "slide"
    }
   },
   "source": [
    "## Compute\n",
    "\n",
    "Once all the parameters have been set up, the user can compute."
   ]
  },
  {
   "cell_type": "code",
   "execution_count": 6,
   "metadata": {
    "slideshow": {
     "slide_type": "subslide"
    },
    "tags": []
   },
   "outputs": [
    {
     "name": "stdout",
     "output_type": "stream",
     "text": [
      "[2020 2030 2040 2050]\n",
      "[8.0e+09 8.4e+09 8.8e+09 9.2e+09]\n"
     ]
    }
   ],
   "source": [
    "process.compute()"
   ]
  },
  {
   "cell_type": "markdown",
   "metadata": {},
   "source": [
    "## Results\n",
    "\n",
    "The user can then display the results. The user has access to float outputs but also to annual data outputs, with the possibility of choosing the output."
   ]
  },
  {
   "cell_type": "code",
   "execution_count": 9,
   "metadata": {
    "tags": []
   },
   "outputs": [
    {
     "data": {
      "text/plain": [
       "2000            NaN\n",
       "2001            NaN\n",
       "2002            NaN\n",
       "2003            NaN\n",
       "2004            NaN\n",
       "2005            NaN\n",
       "2006            NaN\n",
       "2007            NaN\n",
       "2008            NaN\n",
       "2009            NaN\n",
       "2010            NaN\n",
       "2011            NaN\n",
       "2012            NaN\n",
       "2013            NaN\n",
       "2014            NaN\n",
       "2015            NaN\n",
       "2016            NaN\n",
       "2017            NaN\n",
       "2018            NaN\n",
       "2019            NaN\n",
       "2020     369.140848\n",
       "2021     545.554955\n",
       "2022     720.222387\n",
       "2023     893.168959\n",
       "2024    1064.419975\n",
       "2025    1091.004513\n",
       "2026    1118.279626\n",
       "2027    1146.263628\n",
       "2028    1174.975328\n",
       "2029    1204.434040\n",
       "2030    1234.659599\n",
       "2031    1265.672375\n",
       "2032    1297.493289\n",
       "2033    1330.143825\n",
       "2034    1363.646045\n",
       "2035    1398.022611\n",
       "2036    1433.296792\n",
       "2037    1469.492490\n",
       "2038    1506.634250\n",
       "2039    1544.747281\n",
       "2040    1583.857473\n",
       "2041    1623.991418\n",
       "2042    1665.176426\n",
       "2043    1707.440545\n",
       "2044    1750.812584\n",
       "2045    1795.322130\n",
       "2046    1840.999574\n",
       "2047    1887.876127\n",
       "2048    1935.983847\n",
       "2049    1985.355663\n",
       "2050    2036.025392\n",
       "Name: mean_distance_per_inhabitant, dtype: float64"
      ]
     },
     "execution_count": 9,
     "metadata": {},
     "output_type": "execute_result"
    }
   ],
   "source": [
    "process.data[\"vector_outputs\"][\"mean_distance_per_inhabitant\"]"
   ]
  },
  {
   "cell_type": "code",
   "execution_count": null,
   "metadata": {},
   "outputs": [],
   "source": []
  }
 ],
 "metadata": {
  "celltoolbar": "Diaporama",
  "kernelspec": {
   "display_name": "Python 3 (ipykernel)",
   "language": "python",
   "name": "python3"
  },
  "language_info": {
   "codemirror_mode": {
    "name": "ipython",
    "version": 3
   },
   "file_extension": ".py",
   "mimetype": "text/x-python",
   "name": "python",
   "nbconvert_exporter": "python",
   "pygments_lexer": "ipython3",
   "version": "3.9.18"
  }
 },
 "nbformat": 4,
 "nbformat_minor": 4
}
