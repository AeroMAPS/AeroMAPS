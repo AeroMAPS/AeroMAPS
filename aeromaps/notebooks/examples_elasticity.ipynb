{
 "cells": [
  {
   "cell_type": "markdown",
   "metadata": {},
   "source": [
    "# 🚫 WORK IN PROGRESS 🚫 Example of usage with price elasticity"
   ]
  },
  {
   "cell_type": "markdown",
   "metadata": {
    "slideshow": {
     "slide_type": "slide"
    }
   },
   "source": [
    "## Load and process\n",
    "\n",
    "First, the user has to load the framework and generate a process."
   ]
  },
  {
   "cell_type": "code",
   "execution_count": 1,
   "metadata": {
    "slideshow": {
     "slide_type": "subslide"
    },
    "tags": []
   },
   "outputs": [],
   "source": [
    "%matplotlib widget\n",
    "from aeromaps import create_process\n",
    "from aeromaps.core.models import (\n",
    "    models_traffic,\n",
    "    models_efficiency_top_down,\n",
    "    models_energy_without_fuel_effect,\n",
    "    models_offset,\n",
    "    models_climate_simple_gwpstar,\n",
    "    models_sustainability,\n",
    "    models_energy_cost_simple,\n",
    "    models_operation_cost_top_down,\n",
    "    models_cost_feedback\n",
    ")"
   ]
  },
  {
   "cell_type": "code",
   "execution_count": 2,
   "metadata": {
    "tags": []
   },
   "outputs": [],
   "source": [
    "models_traffic.pop(\"rpk\")\n",
    " \n",
    "models = {\n",
    "    \"models_traffic\": models_traffic,\n",
    "    \"models_efficiency_top_down\": models_efficiency_top_down,\n",
    "    \"models_energy_without_fuel_effect\": models_energy_without_fuel_effect,\n",
    "    \"models_offset\": models_offset,\n",
    "    \"models_climate_simple_gwpstar\": models_climate_simple_gwpstar,\n",
    "    \"models_sustainability\": models_sustainability,\n",
    "    \"models_energy_cost_simple\": models_energy_cost_simple,\n",
    "    \"models_operation_cost_top_down\": models_operation_cost_top_down,\n",
    "    \"models_cost_feedback\": models_cost_feedback,\n",
    "}"
   ]
  },
  {
   "cell_type": "code",
   "execution_count": 3,
   "metadata": {
    "slideshow": {
     "slide_type": "subslide"
    },
    "tags": []
   },
   "outputs": [],
   "source": [
    "process = create_process(\n",
    "    # configuration_file=\"data_elasticity/config_elasticity.json\",\n",
    "    models=models,\n",
    ")"
   ]
  },
  {
   "cell_type": "markdown",
   "metadata": {
    "slideshow": {
     "slide_type": "slide"
    }
   },
   "source": [
    "## Set up variables\n",
    "\n",
    "### Aviation scenario"
   ]
  },
  {
   "cell_type": "code",
   "execution_count": 4,
   "metadata": {
    "tags": []
   },
   "outputs": [],
   "source": [
    "process.parameters.price_elasticity = -0.5"
   ]
  },
  {
   "cell_type": "code",
   "execution_count": 5,
   "metadata": {
    "slideshow": {
     "slide_type": "subslide"
    },
    "tags": []
   },
   "outputs": [],
   "source": [
    "# Air traffic evolution\n",
    "\n",
    "## Growth rate by category [%]\n",
    "process.parameters.cagr_passenger_short_range_reference_periods = []\n",
    "process.parameters.cagr_passenger_short_range_reference_periods_values = [3.0]\n",
    "process.parameters.cagr_passenger_medium_range_reference_periods = []\n",
    "process.parameters.cagr_passenger_medium_range_reference_periods_values = [3.0]\n",
    "process.parameters.cagr_passenger_long_range_reference_periods = []\n",
    "process.parameters.cagr_passenger_long_range_reference_periods_values = [3.0]\n",
    "process.parameters.cagr_freight_reference_periods = []\n",
    "process.parameters.cagr_freight_reference_periods_values = [3.0]"
   ]
  },
  {
   "cell_type": "code",
   "execution_count": 6,
   "metadata": {
    "slideshow": {
     "slide_type": "subslide"
    },
    "tags": []
   },
   "outputs": [],
   "source": [
    "# Aircraft fleet and operation evolution - Aircraft load factor\n",
    "\n",
    "## Aircraft load factor in 2050 [%]\n",
    "process.parameters.load_factor_end_year = 89.0  # 2019 value: 82.399312"
   ]
  },
  {
   "cell_type": "code",
   "execution_count": 7,
   "metadata": {
    "slideshow": {
     "slide_type": "subslide"
    },
    "tags": []
   },
   "outputs": [],
   "source": [
    "# Aircraft fleet and operation evolution - Operations\n",
    "\n",
    "## Values for setting the logistic function\n",
    "process.parameters.operations_final_gain = 8.0  # [%]\n",
    "process.parameters.operations_start_year = 2025\n",
    "process.parameters.operations_duration = 25.0"
   ]
  },
  {
   "cell_type": "code",
   "execution_count": 8,
   "metadata": {
    "slideshow": {
     "slide_type": "subslide"
    },
    "tags": []
   },
   "outputs": [],
   "source": [
    "# Aircraft energy - Introduction of alternative drop-in fuels\n",
    "import numpy as np\n",
    "## Share of alternative fuels in the drop-in fuel mix (the rest being supplemented by kerosene) [%]\n",
    "process.parameters.biofuel_share_reference_years = [2020, 2030, 2040, 2050]\n",
    "process.parameters.biofuel_share_reference_years_values = np.array([0.0, 0.0, 0.0,0.0])\n",
    "process.parameters.electrofuel_share_reference_years = [2020, 2030, 2040, 2050]\n",
    "process.parameters.electrofuel_share_reference_years_values = np.array([0.0, 0.0, 0.0, 0.0])"
   ]
  },
  {
   "cell_type": "code",
   "execution_count": 9,
   "metadata": {
    "slideshow": {
     "slide_type": "subslide"
    },
    "tags": []
   },
   "outputs": [],
   "source": [
    "# Various environmental settings\n",
    "\n",
    "## Share of biofuel production pathways (the rest being completed by AtJ processes) [%]\n",
    "process.parameters.biofuel_hefa_fog_share_reference_years = [2020, 2030, 2040, 2050]\n",
    "process.parameters.biofuel_hefa_fog_share_reference_years_values = [100, 0.7, 0.7, 0.7]\n",
    "process.parameters.biofuel_hefa_others_share_reference_years = [2020, 2030, 2040, 2050]\n",
    "process.parameters.biofuel_hefa_others_share_reference_years_values = [0.0, 3.8, 3.8, 3.8]\n",
    "process.parameters.biofuel_ft_others_share_reference_years = [2020, 2030, 2040, 2050]\n",
    "process.parameters.biofuel_ft_others_share_reference_years_values = [0.0, 76.3, 76.3, 76.3]\n",
    "process.parameters.biofuel_ft_msw_share_reference_years = [2020, 2030, 2040, 2050]\n",
    "process.parameters.biofuel_ft_msw_share_reference_years_values = [0.0, 7.4, 7.4, 7.4]\n",
    "\n",
    "## Emission factors for electricity (2019 value: 429 gCO2/kWh)\n",
    "process.parameters.electricity_emission_factor_reference_years = [2020, 2030, 2040, 2050]\n",
    "process.parameters.electricity_emission_factor_reference_years_values = [429.0, 180.0, 75.0, 30.0]\n",
    "\n",
    "## Share of hydrogen production pathways (the rest being completed by production via coal without CCS) [%]\n",
    "## Distribution in 2019: Gas without CCS (71%), Coal without CCS (27%), Electrolysis (2%), Others with CCS (0%), Co-products not taken into account\n",
    "process.parameters.hydrogen_electrolysis_share_reference_years = [2020, 2030, 2040, 2050]\n",
    "process.parameters.hydrogen_electrolysis_share_reference_years_values = [2, 50, 100, 100]\n",
    "process.parameters.hydrogen_gas_ccs_share_reference_years = [2020, 2030, 2040, 2050]\n",
    "process.parameters.hydrogen_gas_ccs_share_reference_years_values = [0, 0, 0, 0]\n",
    "process.parameters.hydrogen_coal_ccs_share_reference_years = [2020, 2030, 2040, 2050]\n",
    "process.parameters.hydrogen_coal_ccs_share_reference_years_values = [0, 0, 0, 0]\n",
    "process.parameters.hydrogen_gas_share_reference_years = [2020, 2030, 2040, 2050]\n",
    "process.parameters.hydrogen_gas_share_reference_years_values = [71, 50, 0, 0]"
   ]
  },
  {
   "cell_type": "code",
   "execution_count": 10,
   "metadata": {
    "tags": []
   },
   "outputs": [],
   "source": [
    "# Cost parameters\n",
    "\n",
    "## Carbon tax\n",
    "process.parameters.carbon_tax_reference_years = [2020, 2030, 2040, 2050]\n",
    "process.parameters.carbon_tax_reference_years_values = [\n",
    "    500,\n",
    "    500,\n",
    "    500,\n",
    "    500\n",
    "]  # 2020 value differs from the value of Quinet (54 €/tCO2)"
   ]
  },
  {
   "cell_type": "markdown",
   "metadata": {},
   "source": [
    "### Sustainability assessment"
   ]
  },
  {
   "cell_type": "code",
   "execution_count": 11,
   "metadata": {
    "slideshow": {
     "slide_type": "subslide"
    },
    "tags": []
   },
   "outputs": [],
   "source": [
    "# Environmental limits\n",
    "\n",
    "## Carbon budgets and Carbon Dioxide Removal [GtCO2]\n",
    "process.parameters.net_carbon_budget = 850.0\n",
    "process.parameters.carbon_dioxyde_removal_2100 = 285.0\n",
    "\n",
    "## Available energy resources in 2050 [EJ]\n",
    "process.parameters.waste_biomass = 12.0\n",
    "process.parameters.crops_biomass = 63.0\n",
    "process.parameters.forest_residues_biomass = 17.0\n",
    "process.parameters.agricultural_residues_biomass = 57.0\n",
    "process.parameters.algae_biomass = 15.0\n",
    "process.parameters.available_electricity = 200.0"
   ]
  },
  {
   "cell_type": "code",
   "execution_count": 12,
   "metadata": {
    "slideshow": {
     "slide_type": "subslide"
    },
    "tags": []
   },
   "outputs": [],
   "source": [
    "# Allocation settings\n",
    "\n",
    "## Aviation share of the global (equivalent) carbon budget [%]\n",
    "process.parameters.aviation_carbon_budget_allocated_share = 2.6\n",
    "process.parameters.aviation_equivalentcarbonbudget_allocated_share = 5.1\n",
    "\n",
    "## Aviation share of the global energy resources (biomass and electricity) [%]\n",
    "process.parameters.aviation_biomass_allocated_share = 5.0\n",
    "process.parameters.aviation_electricity_allocated_share = 5.0"
   ]
  },
  {
   "cell_type": "code",
   "execution_count": 13,
   "metadata": {
    "slideshow": {
     "slide_type": "subslide"
    },
    "tags": []
   },
   "outputs": [
    {
     "name": "stdout",
     "output_type": "stream",
     "text": [
      "Pre-compute time: 0.021938085556030273 seconds\n"
     ]
    },
    {
     "ename": "ValueError",
     "evalue": "Cannot compute the inputs airfare_per_rpk, ask, ask_dropin_fuel, ask_electric, ask_hydrogen, ask_long_range, ask_long_range_dropin_fuel, ask_long_range_dropin_fuel_share, ask_long_range_electric, ask_long_range_electric_share, ask_long_range_hydrogen, ask_long_range_hydrogen_share, ask_medium_range, ask_medium_range_dropin_fuel, ask_medium_range_dropin_fuel_share, ask_medium_range_electric, ask_medium_range_electric_share, ask_medium_range_hydrogen, ask_medium_range_hydrogen_share, ask_short_range, ask_short_range_dropin_fuel, ask_short_range_dropin_fuel_share, ask_short_range_electric, ask_short_range_electric_share, ask_short_range_hydrogen, ask_short_range_hydrogen_share, average_hydrogen_mean_carbon_tax_kg, average_hydrogen_mean_mfsp_kg, biofuel_cost_atj, biofuel_cost_ft_msw, biofuel_cost_ft_others, biofuel_cost_hefa_fog, biofuel_cost_hefa_others, biofuel_mean_carbon_tax_per_l, biomass_consumption_end_year, carbon_offset, co2_emissions, co2_emissions_2019technology, co2_emissions_2019technology_baseline3, co2_emissions_freight, co2_emissions_including_energy, co2_emissions_including_load_factor, co2_emissions_passenger, co2_erf, co2_per_energy_mean, contrails_erf, cumulative_co2_emissions, cumulative_total_equivalent_emissions, doc_carbon_tax_lowering_offset_per_ask_long_range_mean, doc_carbon_tax_lowering_offset_per_ask_mean, doc_carbon_tax_lowering_offset_per_ask_medium_range_mean, doc_carbon_tax_lowering_offset_per_ask_short_range_mean, doc_carbon_tax_per_ask_long_range_dropin_fuel, doc_carbon_tax_per_ask_long_range_electric, doc_carbon_tax_per_ask_long_range_hydrogen, doc_carbon_tax_per_ask_long_range_mean, doc_carbon_tax_per_ask_mean, doc_carbon_tax_per_ask_medium_range_dropin_fuel, doc_carbon_tax_per_ask_medium_range_electric, doc_carbon_tax_per_ask_medium_range_hydrogen, doc_carbon_tax_per_ask_medium_range_mean, doc_carbon_tax_per_ask_short_range_dropin_fuel, doc_carbon_tax_per_ask_short_range_electric, doc_carbon_tax_per_ask_short_range_hydrogen, doc_carbon_tax_per_ask_short_range_mean, doc_energy_per_ask_long_range_dropin_fuel, doc_energy_per_ask_long_range_electric, doc_energy_per_ask_long_range_hydrogen, doc_energy_per_ask_long_range_mean, doc_energy_per_ask_mean, doc_energy_per_ask_medium_range_dropin_fuel, doc_energy_per_ask_medium_range_electric, doc_energy_per_ask_medium_range_hydrogen, doc_energy_per_ask_medium_range_mean, doc_energy_per_ask_short_range_dropin_fuel, doc_energy_per_ask_short_range_electric, doc_energy_per_ask_short_range_hydrogen, doc_energy_per_ask_short_range_mean, doc_non_energy_per_ask_long_range_dropin_fuel, doc_non_energy_per_ask_long_range_electric, doc_non_energy_per_ask_long_range_hydrogen, doc_non_energy_per_ask_long_range_mean, doc_non_energy_per_ask_mean, doc_non_energy_per_ask_medium_range_dropin_fuel, doc_non_energy_per_ask_medium_range_electric, doc_non_energy_per_ask_medium_range_hydrogen, doc_non_energy_per_ask_medium_range_mean, doc_non_energy_per_ask_short_range_dropin_fuel, doc_non_energy_per_ask_short_range_electric, doc_non_energy_per_ask_short_range_hydrogen, doc_non_energy_per_ask_short_range_mean, dropin_mean_mfsp, dropin_mfsp_carbon_tax_supplement, electricity_consumption_end_year, electricity_direct_use_carbon_tax_kWh, electricity_direct_use_total_cost, electrofuel_mfsp_carbon_tax_supplement, electrofuel_total_cost, energy_consumption, energy_consumption_biofuel, energy_consumption_biofuel_without_operations, energy_consumption_electric, energy_consumption_electric_without_operations, energy_consumption_electrofuel, energy_consumption_electrofuel_without_operations, energy_consumption_freight_biofuel, energy_consumption_freight_biofuel_without_operations, energy_consumption_freight_electric, energy_consumption_freight_electric_without_operations, energy_consumption_freight_electrofuel, energy_consumption_freight_electrofuel_without_operations, energy_consumption_freight_hydrogen, energy_consumption_freight_hydrogen_without_operations, energy_consumption_freight_kerosene, energy_consumption_freight_kerosene_without_operations, energy_consumption_hydrogen, energy_consumption_hydrogen_without_operations, energy_consumption_kerosene, energy_consumption_kerosene_without_operations, energy_consumption_long_range_biofuel, energy_consumption_long_range_biofuel_without_operations, energy_consumption_long_range_electric, energy_consumption_long_range_electric_without_operations, energy_consumption_long_range_electrofuel, energy_consumption_long_range_electrofuel_without_operations, energy_consumption_long_range_hydrogen, energy_consumption_long_range_hydrogen_without_operations, energy_consumption_long_range_kerosene, energy_consumption_long_range_kerosene_without_operations, energy_consumption_medium_range_biofuel, energy_consumption_medium_range_biofuel_without_operations, energy_consumption_medium_range_electric, energy_consumption_medium_range_electric_without_operations, energy_consumption_medium_range_electrofuel, energy_consumption_medium_range_electrofuel_without_operations, energy_consumption_medium_range_hydrogen, energy_consumption_medium_range_hydrogen_without_operations, energy_consumption_medium_range_kerosene, energy_consumption_medium_range_kerosene_without_operations, energy_consumption_passenger_biofuel, energy_consumption_passenger_biofuel_without_operations, energy_consumption_passenger_electric, energy_consumption_passenger_electric_without_operations, energy_consumption_passenger_electrofuel, energy_consumption_passenger_electrofuel_without_operations, energy_consumption_passenger_hydrogen, energy_consumption_passenger_hydrogen_without_operations, energy_consumption_passenger_kerosene, energy_consumption_passenger_kerosene_without_operations, energy_consumption_short_range_biofuel, energy_consumption_short_range_biofuel_without_operations, energy_consumption_short_range_electric, energy_consumption_short_range_electric_without_operations, energy_consumption_short_range_electrofuel, energy_consumption_short_range_electrofuel_without_operations, energy_consumption_short_range_hydrogen, energy_consumption_short_range_hydrogen_without_operations, energy_consumption_short_range_kerosene, energy_consumption_short_range_kerosene_without_operations, energy_per_ask_long_range_dropin_fuel, energy_per_ask_long_range_electric, energy_per_ask_long_range_hydrogen, energy_per_ask_mean, energy_per_ask_mean_without_operations, energy_per_ask_medium_range_dropin_fuel, energy_per_ask_medium_range_electric, energy_per_ask_medium_range_hydrogen, energy_per_ask_short_range_dropin_fuel, energy_per_ask_short_range_electric, energy_per_ask_short_range_hydrogen, energy_per_ask_without_operations_long_range_dropin_fuel, energy_per_ask_without_operations_long_range_electric, energy_per_ask_without_operations_long_range_hydrogen, energy_per_ask_without_operations_medium_range_dropin_fuel, energy_per_ask_without_operations_medium_range_electric, energy_per_ask_without_operations_medium_range_hydrogen, energy_per_ask_without_operations_short_range_dropin_fuel, energy_per_ask_without_operations_short_range_electric, energy_per_ask_without_operations_short_range_hydrogen, energy_per_rtk_freight_dropin_fuel, energy_per_rtk_freight_electric, energy_per_rtk_freight_hydrogen, energy_per_rtk_mean, energy_per_rtk_mean_without_operations, energy_per_rtk_without_operations_freight_dropin_fuel, energy_per_rtk_without_operations_freight_electric, energy_per_rtk_without_operations_freight_hydrogen, fuel_effect_correction_contrails, h2o_emissions, h2o_erf, kerosene_cost, kerosene_price_supplement_carbon_tax, level_carbon_offset, load_factor, load_factor_cost_non_energy_per_ask, noc_carbon_offset_per_ask, non_discounted_BAU_energy_expenses, non_discounted_full_kero_energy_expenses, nox_emissions, nox_erf, operational_profit_per_ask, reference_annual_growth_rate_aviation, residual_carbon_offset, rpk, rpk_long_range, rpk_medium_range, rpk_no_elasticity, rpk_reference, rpk_short_range, rtk_dropin_fuel, rtk_dropin_fuel_share, rtk_electric, rtk_electric_share, rtk_hydrogen, rtk_hydrogen_share, rtk_reference, soot_emissions, soot_erf, sulfur_emissions, sulfur_erf, total_aircraft_distance, total_cost_per_rpk_without_extra_tax, total_erf, total_extra_tax_per_rpk, total_hydrogen_supply_cost, for the following disciplines ASK, BiofuelCostSimple, BiomassConsumption, CO2Emissions, CarbonBudgetConsumedShare, CarbonOffset, CumulativeCO2Emissions, CumulativeCarbonOffset, DetailedCo2Emissions, DetailedCumulativeCO2Emissions, DicountedEnergyCost, DropInFuelConsumption, DropInMeanMfsp, DropinFuelConsumptionLiterPerPax100km, DropinFuelPathwayConsumptionAndGrowth, ERFDetailed, ERFOthers, ERFTotal, ElectricConsumption, ElectricPathwayConsumptionAndGrowth, ElectricityConsumption, ElectricityDirectUse, ElectrofuelCostSimple, EmissionsPerRPK, EmissionsPerRTK, EnergyConsumption, EnergyIntensity, EquivalentCarbonBudgetConsumedShare, FreightAircraftEfficiency, HydrogenConsumption, HydrogenCostSimple, HydrogenPathwayConsumptionAndGrowth, KayaFactors, KeroseneBAUCost, KeroseneCost, LevelCarbonOffset, LoadFactor, LoadFactorEfficiencyCost, NonCO2Emissions, NonDiscountedEnergyCost, PassengerAircraftDocCarbonTax, PassengerAircraftDocEnergy, PassengerAircraftDocNonEnergySimple, PassengerAircraftEfficiencySimple, PassengerAircraftMarginalCost, PassengerAircraftNocCarbonOffset, PassengerAircraftOperationalProfit, PassengerAircraftTotalCost, PassengerAircraftTotalCostAirfare, PassengerAircraftTotalDoc, PriceElasticityAndSurplus, RPKReference, RTKReference, ResidualCarbonOffset, ResourcesConsumedShare, SimplifiedERFCo2, SimplifiedERFNox, TemperatureSimpleGWPStar, TotalAircraftDistance, WithoutFuelEffectCorrectionContrails.",
     "output_type": "error",
     "traceback": [
      "\u001b[1;31m---------------------------------------------------------------------------\u001b[0m",
      "\u001b[1;31mValueError\u001b[0m                                Traceback (most recent call last)",
      "Cell \u001b[1;32mIn[13], line 2\u001b[0m\n\u001b[0;32m      1\u001b[0m process\u001b[38;5;241m.\u001b[39msetup()\n\u001b[1;32m----> 2\u001b[0m \u001b[43mprocess\u001b[49m\u001b[38;5;241;43m.\u001b[39;49m\u001b[43mcompute\u001b[49m\u001b[43m(\u001b[49m\u001b[43m)\u001b[49m\n",
      "File \u001b[1;32m~\\PycharmProjects\\AeroMAPS\\aeromaps\\core\\process.py:157\u001b[0m, in \u001b[0;36mAeroMAPSProcess.compute\u001b[1;34m(self)\u001b[0m\n\u001b[0;32m    155\u001b[0m         \u001b[38;5;28mself\u001b[39m\u001b[38;5;241m.\u001b[39mscenario\u001b[38;5;241m.\u001b[39mexecute(input_data\u001b[38;5;241m=\u001b[39m\u001b[38;5;28mself\u001b[39m\u001b[38;5;241m.\u001b[39mscenario\u001b[38;5;241m.\u001b[39moptions)\n\u001b[0;32m    156\u001b[0m \u001b[38;5;28;01melse\u001b[39;00m:\n\u001b[1;32m--> 157\u001b[0m     \u001b[38;5;28;43mself\u001b[39;49m\u001b[38;5;241;43m.\u001b[39;49m\u001b[43mmda_chain\u001b[49m\u001b[38;5;241;43m.\u001b[39;49m\u001b[43mexecute\u001b[49m\u001b[43m(\u001b[49m\u001b[43minput_data\u001b[49m\u001b[38;5;241;43m=\u001b[39;49m\u001b[38;5;28;43mself\u001b[39;49m\u001b[38;5;241;43m.\u001b[39;49m\u001b[43minput_data\u001b[49m\u001b[43m)\u001b[49m\n\u001b[0;32m    159\u001b[0m \u001b[38;5;66;03m# Time for compute\u001b[39;00m\n\u001b[0;32m    160\u001b[0m compute_time   \u001b[38;5;241m=\u001b[39m time\u001b[38;5;241m.\u001b[39mtime()\n",
      "File \u001b[1;32m~\\AppData\\Local\\miniconda3\\envs\\AeroMAPS_2024_2\\lib\\site-packages\\gemseo\\mda\\mda_chain.py:472\u001b[0m, in \u001b[0;36mMDAChain.execute\u001b[1;34m(self, input_data)\u001b[0m\n\u001b[0;32m    463\u001b[0m \u001b[38;5;28;01mdef\u001b[39;00m \u001b[38;5;21mexecute\u001b[39m(  \u001b[38;5;66;03m# noqa:D102\u001b[39;00m\n\u001b[0;32m    464\u001b[0m     \u001b[38;5;28mself\u001b[39m, input_data: StrKeyMapping \u001b[38;5;241m|\u001b[39m \u001b[38;5;28;01mNone\u001b[39;00m \u001b[38;5;241m=\u001b[39m \u001b[38;5;28;01mNone\u001b[39;00m\n\u001b[0;32m    465\u001b[0m ) \u001b[38;5;241m-\u001b[39m\u001b[38;5;241m>\u001b[39m DisciplineData:\n\u001b[0;32m    466\u001b[0m     \u001b[38;5;66;03m# The initialization is needed for MDA loops.\u001b[39;00m\n\u001b[0;32m    467\u001b[0m     \u001b[38;5;28;01mif\u001b[39;00m (\n\u001b[0;32m    468\u001b[0m         \u001b[38;5;28mself\u001b[39m\u001b[38;5;241m.\u001b[39m__initialize_defaults\n\u001b[0;32m    469\u001b[0m         \u001b[38;5;129;01mand\u001b[39;00m \u001b[38;5;28mlen\u001b[39m(\u001b[38;5;28mself\u001b[39m\u001b[38;5;241m.\u001b[39mdisciplines) \u001b[38;5;241m>\u001b[39m \u001b[38;5;241m1\u001b[39m\n\u001b[0;32m    470\u001b[0m         \u001b[38;5;129;01mand\u001b[39;00m \u001b[38;5;28mlen\u001b[39m(\u001b[38;5;28mself\u001b[39m\u001b[38;5;241m.\u001b[39mstrong_couplings) \u001b[38;5;241m>\u001b[39m \u001b[38;5;241m0\u001b[39m\n\u001b[0;32m    471\u001b[0m     ):\n\u001b[1;32m--> 472\u001b[0m         init_chain \u001b[38;5;241m=\u001b[39m \u001b[43mMDOInitializationChain\u001b[49m\u001b[43m(\u001b[49m\n\u001b[0;32m    473\u001b[0m \u001b[43m            \u001b[49m\u001b[38;5;28;43mself\u001b[39;49m\u001b[38;5;241;43m.\u001b[39;49m\u001b[43mdisciplines\u001b[49m\u001b[43m,\u001b[49m\n\u001b[0;32m    474\u001b[0m \u001b[43m            \u001b[49m\u001b[43mavailable_data_names\u001b[49m\u001b[38;5;241;43m=\u001b[39;49m\u001b[43minput_data\u001b[49m\u001b[43m \u001b[49m\u001b[38;5;129;43;01mor\u001b[39;49;00m\u001b[43m \u001b[49m\u001b[43m(\u001b[49m\u001b[43m)\u001b[49m\u001b[43m,\u001b[49m\n\u001b[0;32m    475\u001b[0m \u001b[43m            \u001b[49m\u001b[43mgrammar_type\u001b[49m\u001b[38;5;241;43m=\u001b[39;49m\u001b[38;5;28;43mself\u001b[39;49m\u001b[38;5;241;43m.\u001b[39;49m\u001b[43mgrammar_type\u001b[49m\u001b[43m,\u001b[49m\n\u001b[0;32m    476\u001b[0m \u001b[43m        \u001b[49m\u001b[43m)\u001b[49m\n\u001b[0;32m    478\u001b[0m         \u001b[38;5;28mself\u001b[39m\u001b[38;5;241m.\u001b[39mdefault_inputs\u001b[38;5;241m.\u001b[39mupdate({\n\u001b[0;32m    479\u001b[0m             key: value\n\u001b[0;32m    480\u001b[0m             \u001b[38;5;28;01mfor\u001b[39;00m key, value \u001b[38;5;129;01min\u001b[39;00m init_chain\u001b[38;5;241m.\u001b[39mexecute(input_data)\u001b[38;5;241m.\u001b[39mitems()\n\u001b[0;32m    481\u001b[0m             \u001b[38;5;28;01mif\u001b[39;00m key \u001b[38;5;129;01min\u001b[39;00m \u001b[38;5;28mself\u001b[39m\u001b[38;5;241m.\u001b[39minput_grammar\u001b[38;5;241m.\u001b[39mnames\n\u001b[0;32m    482\u001b[0m         })\n\u001b[0;32m    483\u001b[0m         \u001b[38;5;28mself\u001b[39m\u001b[38;5;241m.\u001b[39m__initialize_defaults \u001b[38;5;241m=\u001b[39m \u001b[38;5;28;01mFalse\u001b[39;00m\n",
      "File \u001b[1;32m~\\AppData\\Local\\miniconda3\\envs\\AeroMAPS_2024_2\\lib\\site-packages\\gemseo\\mda\\initialization_chain.py:128\u001b[0m, in \u001b[0;36mMDOInitializationChain.__init__\u001b[1;34m(self, disciplines, name, grammar_type, available_data_names)\u001b[0m\n\u001b[0;32m    116\u001b[0m \u001b[38;5;28;01mdef\u001b[39;00m \u001b[38;5;21m__init__\u001b[39m(  \u001b[38;5;66;03m# noqa:D107\u001b[39;00m\n\u001b[0;32m    117\u001b[0m     \u001b[38;5;28mself\u001b[39m,\n\u001b[0;32m    118\u001b[0m     disciplines: Sequence[MDODiscipline],\n\u001b[1;32m   (...)\u001b[0m\n\u001b[0;32m    121\u001b[0m     available_data_names: Iterable[\u001b[38;5;28mstr\u001b[39m] \u001b[38;5;241m=\u001b[39m (),\n\u001b[0;32m    122\u001b[0m ) \u001b[38;5;241m-\u001b[39m\u001b[38;5;241m>\u001b[39m \u001b[38;5;28;01mNone\u001b[39;00m:\n\u001b[0;32m    123\u001b[0m \u001b[38;5;250m    \u001b[39m\u001b[38;5;124;03m\"\"\"\u001b[39;00m\n\u001b[0;32m    124\u001b[0m \u001b[38;5;124;03m    Args:\u001b[39;00m\n\u001b[0;32m    125\u001b[0m \u001b[38;5;124;03m        available_data_names: The data names that are assumed to be available\u001b[39;00m\n\u001b[0;32m    126\u001b[0m \u001b[38;5;124;03m            at runtime, in addition to the default_inputs.\u001b[39;00m\n\u001b[0;32m    127\u001b[0m \u001b[38;5;124;03m    \"\"\"\u001b[39;00m  \u001b[38;5;66;03m# noqa:D205 D212 D415\u001b[39;00m\n\u001b[1;32m--> 128\u001b[0m     disc_ordered \u001b[38;5;241m=\u001b[39m \u001b[43morder_disciplines_from_default_inputs\u001b[49m\u001b[43m(\u001b[49m\n\u001b[0;32m    129\u001b[0m \u001b[43m        \u001b[49m\u001b[43mdisciplines\u001b[49m\u001b[43m,\u001b[49m\u001b[43m \u001b[49m\u001b[43mavailable_data_names\u001b[49m\u001b[38;5;241;43m=\u001b[39;49m\u001b[43mavailable_data_names\u001b[49m\n\u001b[0;32m    130\u001b[0m \u001b[43m    \u001b[49m\u001b[43m)\u001b[49m\n\u001b[0;32m    131\u001b[0m     \u001b[38;5;28msuper\u001b[39m()\u001b[38;5;241m.\u001b[39m\u001b[38;5;21m__init__\u001b[39m(disciplines\u001b[38;5;241m=\u001b[39mdisc_ordered, name\u001b[38;5;241m=\u001b[39mname, grammar_type\u001b[38;5;241m=\u001b[39mgrammar_type)\n",
      "File \u001b[1;32m~\\AppData\\Local\\miniconda3\\envs\\AeroMAPS_2024_2\\lib\\site-packages\\gemseo\\mda\\initialization_chain.py:91\u001b[0m, in \u001b[0;36morder_disciplines_from_default_inputs\u001b[1;34m(disciplines, raise_error, available_data_names)\u001b[0m\n\u001b[0;32m     84\u001b[0m     \u001b[38;5;28;01mif\u001b[39;00m raise_error:\n\u001b[0;32m     85\u001b[0m         msg \u001b[38;5;241m=\u001b[39m (\n\u001b[0;32m     86\u001b[0m             \u001b[38;5;124m\"\u001b[39m\u001b[38;5;124mCannot compute the inputs \u001b[39m\u001b[38;5;124m\"\u001b[39m\n\u001b[0;32m     87\u001b[0m             \u001b[38;5;124mf\u001b[39m\u001b[38;5;124m\"\u001b[39m\u001b[38;5;132;01m{\u001b[39;00mpretty_str(missing_inputs,\u001b[38;5;250m \u001b[39msort\u001b[38;5;241m=\u001b[39m\u001b[38;5;28;01mFalse\u001b[39;00m)\u001b[38;5;132;01m}\u001b[39;00m\u001b[38;5;124m, \u001b[39m\u001b[38;5;124m\"\u001b[39m\n\u001b[0;32m     88\u001b[0m             \u001b[38;5;124m\"\u001b[39m\u001b[38;5;124mfor the following disciplines \u001b[39m\u001b[38;5;124m\"\u001b[39m\n\u001b[0;32m     89\u001b[0m             \u001b[38;5;124mf\u001b[39m\u001b[38;5;124m\"\u001b[39m\u001b[38;5;132;01m{\u001b[39;00mpretty_str(disc_names,\u001b[38;5;250m \u001b[39msort\u001b[38;5;241m=\u001b[39m\u001b[38;5;28;01mFalse\u001b[39;00m)\u001b[38;5;132;01m}\u001b[39;00m\u001b[38;5;124m.\u001b[39m\u001b[38;5;124m\"\u001b[39m\n\u001b[0;32m     90\u001b[0m         )\n\u001b[1;32m---> 91\u001b[0m         \u001b[38;5;28;01mraise\u001b[39;00m \u001b[38;5;167;01mValueError\u001b[39;00m(msg)\n\u001b[0;32m     93\u001b[0m     \u001b[38;5;28;01mreturn\u001b[39;00m missing_inputs\n\u001b[0;32m     95\u001b[0m ordered_discs\u001b[38;5;241m.\u001b[39mextend(removed_discs)\n",
      "\u001b[1;31mValueError\u001b[0m: Cannot compute the inputs airfare_per_rpk, ask, ask_dropin_fuel, ask_electric, ask_hydrogen, ask_long_range, ask_long_range_dropin_fuel, ask_long_range_dropin_fuel_share, ask_long_range_electric, ask_long_range_electric_share, ask_long_range_hydrogen, ask_long_range_hydrogen_share, ask_medium_range, ask_medium_range_dropin_fuel, ask_medium_range_dropin_fuel_share, ask_medium_range_electric, ask_medium_range_electric_share, ask_medium_range_hydrogen, ask_medium_range_hydrogen_share, ask_short_range, ask_short_range_dropin_fuel, ask_short_range_dropin_fuel_share, ask_short_range_electric, ask_short_range_electric_share, ask_short_range_hydrogen, ask_short_range_hydrogen_share, average_hydrogen_mean_carbon_tax_kg, average_hydrogen_mean_mfsp_kg, biofuel_cost_atj, biofuel_cost_ft_msw, biofuel_cost_ft_others, biofuel_cost_hefa_fog, biofuel_cost_hefa_others, biofuel_mean_carbon_tax_per_l, biomass_consumption_end_year, carbon_offset, co2_emissions, co2_emissions_2019technology, co2_emissions_2019technology_baseline3, co2_emissions_freight, co2_emissions_including_energy, co2_emissions_including_load_factor, co2_emissions_passenger, co2_erf, co2_per_energy_mean, contrails_erf, cumulative_co2_emissions, cumulative_total_equivalent_emissions, doc_carbon_tax_lowering_offset_per_ask_long_range_mean, doc_carbon_tax_lowering_offset_per_ask_mean, doc_carbon_tax_lowering_offset_per_ask_medium_range_mean, doc_carbon_tax_lowering_offset_per_ask_short_range_mean, doc_carbon_tax_per_ask_long_range_dropin_fuel, doc_carbon_tax_per_ask_long_range_electric, doc_carbon_tax_per_ask_long_range_hydrogen, doc_carbon_tax_per_ask_long_range_mean, doc_carbon_tax_per_ask_mean, doc_carbon_tax_per_ask_medium_range_dropin_fuel, doc_carbon_tax_per_ask_medium_range_electric, doc_carbon_tax_per_ask_medium_range_hydrogen, doc_carbon_tax_per_ask_medium_range_mean, doc_carbon_tax_per_ask_short_range_dropin_fuel, doc_carbon_tax_per_ask_short_range_electric, doc_carbon_tax_per_ask_short_range_hydrogen, doc_carbon_tax_per_ask_short_range_mean, doc_energy_per_ask_long_range_dropin_fuel, doc_energy_per_ask_long_range_electric, doc_energy_per_ask_long_range_hydrogen, doc_energy_per_ask_long_range_mean, doc_energy_per_ask_mean, doc_energy_per_ask_medium_range_dropin_fuel, doc_energy_per_ask_medium_range_electric, doc_energy_per_ask_medium_range_hydrogen, doc_energy_per_ask_medium_range_mean, doc_energy_per_ask_short_range_dropin_fuel, doc_energy_per_ask_short_range_electric, doc_energy_per_ask_short_range_hydrogen, doc_energy_per_ask_short_range_mean, doc_non_energy_per_ask_long_range_dropin_fuel, doc_non_energy_per_ask_long_range_electric, doc_non_energy_per_ask_long_range_hydrogen, doc_non_energy_per_ask_long_range_mean, doc_non_energy_per_ask_mean, doc_non_energy_per_ask_medium_range_dropin_fuel, doc_non_energy_per_ask_medium_range_electric, doc_non_energy_per_ask_medium_range_hydrogen, doc_non_energy_per_ask_medium_range_mean, doc_non_energy_per_ask_short_range_dropin_fuel, doc_non_energy_per_ask_short_range_electric, doc_non_energy_per_ask_short_range_hydrogen, doc_non_energy_per_ask_short_range_mean, dropin_mean_mfsp, dropin_mfsp_carbon_tax_supplement, electricity_consumption_end_year, electricity_direct_use_carbon_tax_kWh, electricity_direct_use_total_cost, electrofuel_mfsp_carbon_tax_supplement, electrofuel_total_cost, energy_consumption, energy_consumption_biofuel, energy_consumption_biofuel_without_operations, energy_consumption_electric, energy_consumption_electric_without_operations, energy_consumption_electrofuel, energy_consumption_electrofuel_without_operations, energy_consumption_freight_biofuel, energy_consumption_freight_biofuel_without_operations, energy_consumption_freight_electric, energy_consumption_freight_electric_without_operations, energy_consumption_freight_electrofuel, energy_consumption_freight_electrofuel_without_operations, energy_consumption_freight_hydrogen, energy_consumption_freight_hydrogen_without_operations, energy_consumption_freight_kerosene, energy_consumption_freight_kerosene_without_operations, energy_consumption_hydrogen, energy_consumption_hydrogen_without_operations, energy_consumption_kerosene, energy_consumption_kerosene_without_operations, energy_consumption_long_range_biofuel, energy_consumption_long_range_biofuel_without_operations, energy_consumption_long_range_electric, energy_consumption_long_range_electric_without_operations, energy_consumption_long_range_electrofuel, energy_consumption_long_range_electrofuel_without_operations, energy_consumption_long_range_hydrogen, energy_consumption_long_range_hydrogen_without_operations, energy_consumption_long_range_kerosene, energy_consumption_long_range_kerosene_without_operations, energy_consumption_medium_range_biofuel, energy_consumption_medium_range_biofuel_without_operations, energy_consumption_medium_range_electric, energy_consumption_medium_range_electric_without_operations, energy_consumption_medium_range_electrofuel, energy_consumption_medium_range_electrofuel_without_operations, energy_consumption_medium_range_hydrogen, energy_consumption_medium_range_hydrogen_without_operations, energy_consumption_medium_range_kerosene, energy_consumption_medium_range_kerosene_without_operations, energy_consumption_passenger_biofuel, energy_consumption_passenger_biofuel_without_operations, energy_consumption_passenger_electric, energy_consumption_passenger_electric_without_operations, energy_consumption_passenger_electrofuel, energy_consumption_passenger_electrofuel_without_operations, energy_consumption_passenger_hydrogen, energy_consumption_passenger_hydrogen_without_operations, energy_consumption_passenger_kerosene, energy_consumption_passenger_kerosene_without_operations, energy_consumption_short_range_biofuel, energy_consumption_short_range_biofuel_without_operations, energy_consumption_short_range_electric, energy_consumption_short_range_electric_without_operations, energy_consumption_short_range_electrofuel, energy_consumption_short_range_electrofuel_without_operations, energy_consumption_short_range_hydrogen, energy_consumption_short_range_hydrogen_without_operations, energy_consumption_short_range_kerosene, energy_consumption_short_range_kerosene_without_operations, energy_per_ask_long_range_dropin_fuel, energy_per_ask_long_range_electric, energy_per_ask_long_range_hydrogen, energy_per_ask_mean, energy_per_ask_mean_without_operations, energy_per_ask_medium_range_dropin_fuel, energy_per_ask_medium_range_electric, energy_per_ask_medium_range_hydrogen, energy_per_ask_short_range_dropin_fuel, energy_per_ask_short_range_electric, energy_per_ask_short_range_hydrogen, energy_per_ask_without_operations_long_range_dropin_fuel, energy_per_ask_without_operations_long_range_electric, energy_per_ask_without_operations_long_range_hydrogen, energy_per_ask_without_operations_medium_range_dropin_fuel, energy_per_ask_without_operations_medium_range_electric, energy_per_ask_without_operations_medium_range_hydrogen, energy_per_ask_without_operations_short_range_dropin_fuel, energy_per_ask_without_operations_short_range_electric, energy_per_ask_without_operations_short_range_hydrogen, energy_per_rtk_freight_dropin_fuel, energy_per_rtk_freight_electric, energy_per_rtk_freight_hydrogen, energy_per_rtk_mean, energy_per_rtk_mean_without_operations, energy_per_rtk_without_operations_freight_dropin_fuel, energy_per_rtk_without_operations_freight_electric, energy_per_rtk_without_operations_freight_hydrogen, fuel_effect_correction_contrails, h2o_emissions, h2o_erf, kerosene_cost, kerosene_price_supplement_carbon_tax, level_carbon_offset, load_factor, load_factor_cost_non_energy_per_ask, noc_carbon_offset_per_ask, non_discounted_BAU_energy_expenses, non_discounted_full_kero_energy_expenses, nox_emissions, nox_erf, operational_profit_per_ask, reference_annual_growth_rate_aviation, residual_carbon_offset, rpk, rpk_long_range, rpk_medium_range, rpk_no_elasticity, rpk_reference, rpk_short_range, rtk_dropin_fuel, rtk_dropin_fuel_share, rtk_electric, rtk_electric_share, rtk_hydrogen, rtk_hydrogen_share, rtk_reference, soot_emissions, soot_erf, sulfur_emissions, sulfur_erf, total_aircraft_distance, total_cost_per_rpk_without_extra_tax, total_erf, total_extra_tax_per_rpk, total_hydrogen_supply_cost, for the following disciplines ASK, BiofuelCostSimple, BiomassConsumption, CO2Emissions, CarbonBudgetConsumedShare, CarbonOffset, CumulativeCO2Emissions, CumulativeCarbonOffset, DetailedCo2Emissions, DetailedCumulativeCO2Emissions, DicountedEnergyCost, DropInFuelConsumption, DropInMeanMfsp, DropinFuelConsumptionLiterPerPax100km, DropinFuelPathwayConsumptionAndGrowth, ERFDetailed, ERFOthers, ERFTotal, ElectricConsumption, ElectricPathwayConsumptionAndGrowth, ElectricityConsumption, ElectricityDirectUse, ElectrofuelCostSimple, EmissionsPerRPK, EmissionsPerRTK, EnergyConsumption, EnergyIntensity, EquivalentCarbonBudgetConsumedShare, FreightAircraftEfficiency, HydrogenConsumption, HydrogenCostSimple, HydrogenPathwayConsumptionAndGrowth, KayaFactors, KeroseneBAUCost, KeroseneCost, LevelCarbonOffset, LoadFactor, LoadFactorEfficiencyCost, NonCO2Emissions, NonDiscountedEnergyCost, PassengerAircraftDocCarbonTax, PassengerAircraftDocEnergy, PassengerAircraftDocNonEnergySimple, PassengerAircraftEfficiencySimple, PassengerAircraftMarginalCost, PassengerAircraftNocCarbonOffset, PassengerAircraftOperationalProfit, PassengerAircraftTotalCost, PassengerAircraftTotalCostAirfare, PassengerAircraftTotalDoc, PriceElasticityAndSurplus, RPKReference, RTKReference, ResidualCarbonOffset, ResourcesConsumedShare, SimplifiedERFCo2, SimplifiedERFNox, TemperatureSimpleGWPStar, TotalAircraftDistance, WithoutFuelEffectCorrectionContrails."
     ]
    }
   ],
   "source": [
    "process.setup()\n",
    "process.compute()"
   ]
  },
  {
   "cell_type": "code",
   "execution_count": null,
   "metadata": {
    "tags": []
   },
   "outputs": [],
   "source": [
    "rpk_with_elast = process.vector_outputs_df[\"rpk_long_range\"]\n",
    "rpk_no_elast = process.vector_outputs_df[\"rpk_long_range_no_elasticity\"]"
   ]
  },
  {
   "cell_type": "code",
   "execution_count": null,
   "metadata": {
    "tags": []
   },
   "outputs": [],
   "source": [
    "process.plot('air_transport_co2_emissions')"
   ]
  },
  {
   "cell_type": "code",
   "execution_count": null,
   "metadata": {},
   "outputs": [],
   "source": []
  }
 ],
 "metadata": {
  "celltoolbar": "Diaporama",
  "kernelspec": {
   "display_name": "Python 3 (ipykernel)",
   "language": "python",
   "name": "python3"
  },
  "language_info": {
   "codemirror_mode": {
    "name": "ipython",
    "version": 3
   },
   "file_extension": ".py",
   "mimetype": "text/x-python",
   "name": "python",
   "nbconvert_exporter": "python",
   "pygments_lexer": "ipython3",
   "version": "3.9.20"
  }
 },
 "nbformat": 4,
 "nbformat_minor": 4
}
