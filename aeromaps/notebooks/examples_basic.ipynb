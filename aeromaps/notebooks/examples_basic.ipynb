{
 "cells": [
  {
   "cell_type": "markdown",
   "metadata": {},
   "source": [
    "# Basic example for using AeroMAPS with Jupyter Notebook\n",
    "\n",
    "This document represents both an example and a tutorial for using the basic functions of AeroMAPS to simulate and evaluate a transition scenario for the aviation sector.  It is written in the form of a Jupyter Notebook to facilitate its use. The user will be able to adapt this notebook and couple it with other notebooks proposed in the documentation."
   ]
  },
  {
   "cell_type": "markdown",
   "metadata": {
    "slideshow": {
     "slide_type": "slide"
    }
   },
   "source": [
    "## Load and process\n",
    "\n",
    "First, the user has to load the framework and generate a process."
   ]
  },
  {
   "cell_type": "code",
   "execution_count": 1,
   "metadata": {
    "jupyter": {
     "is_executing": true
    },
    "slideshow": {
     "slide_type": "subslide"
    },
    "tags": []
   },
   "outputs": [],
   "source": [
    "%matplotlib widget\n",
    "from aeromaps import create_process\n",
    "from aeromaps.core.models import (\n",
    "    models_traffic,\n",
    "    models_efficiency_top_down,\n",
    "    models_energy_without_fuel_effect,\n",
    "    models_offset,\n",
    "    models_climate_simple_gwpstar,\n",
    "    models_sustainability,\n",
    "    models_energy_cost_simple,\n",
    "    models_operation_cost_top_down,\n",
    ")"
   ]
  },
  {
   "cell_type": "code",
   "execution_count": 2,
   "metadata": {
    "tags": []
   },
   "outputs": [],
   "source": [
    "models = {\n",
    "    \"models_traffic\": models_traffic,\n",
    "    \"models_efficiency_top_down\": models_efficiency_top_down,\n",
    "    \"models_energy_without_fuel_effect\": models_energy_without_fuel_effect,\n",
    "    \"models_offset\": models_offset,\n",
    "    \"models_climate_simple_gwpstar\": models_climate_simple_gwpstar,\n",
    "    \"models_sustainability\": models_sustainability,\n",
    "    \"models_energy_cost_simple\": models_energy_cost_simple,\n",
    "    \"models_operation_cost_top_down\": models_operation_cost_top_down,\n",
    "}"
   ]
  },
  {
   "cell_type": "code",
   "execution_count": 3,
   "metadata": {
    "slideshow": {
     "slide_type": "subslide"
    },
    "tags": []
   },
   "outputs": [],
   "source": [
    "process = create_process(models=models)"
   ]
  },
  {
   "cell_type": "markdown",
   "metadata": {
    "slideshow": {
     "slide_type": "slide"
    }
   },
   "source": [
    "## Set up variables\n",
    "\n",
    "The user can then set the different parameters of the model to generate its scenario. The list of the float inputs can be displayed using this command."
   ]
  },
  {
   "cell_type": "code",
   "execution_count": 4,
   "metadata": {
    "tags": []
   },
   "outputs": [],
   "source": [
    "# process.list_float_inputs()"
   ]
  },
  {
   "cell_type": "markdown",
   "metadata": {},
   "source": [
    " In the following, some main parameters are for instance set up."
   ]
  },
  {
   "cell_type": "code",
   "execution_count": 5,
   "metadata": {
    "slideshow": {
     "slide_type": "subslide"
    },
    "tags": []
   },
   "outputs": [],
   "source": [
    "# Air traffic evolution\n",
    "\n",
    "## Growth rate by category [%]\n",
    "process.parameters.cagr_passenger_short_range_reference_periods = [2020, 2030, 2040, 2050]\n",
    "process.parameters.cagr_passenger_short_range_reference_periods_values = [3.0, 2.0, 1.0]\n",
    "process.parameters.cagr_passenger_medium_range_reference_periods = []\n",
    "process.parameters.cagr_passenger_medium_range_reference_periods_values = [3.0]\n",
    "process.parameters.cagr_passenger_long_range_reference_periods = []\n",
    "process.parameters.cagr_passenger_long_range_reference_periods_values = [3.0]\n",
    "process.parameters.cagr_freight_reference_periods = []\n",
    "process.parameters.cagr_freight_reference_periods_values = [3.0]"
   ]
  },
  {
   "cell_type": "code",
   "execution_count": 6,
   "metadata": {
    "slideshow": {
     "slide_type": "subslide"
    },
    "tags": []
   },
   "outputs": [],
   "source": [
    "# Aircraft fleet and operation evolution - Aircraft load factor\n",
    "\n",
    "## Aircraft load factor in 2050 [%]\n",
    "process.parameters.load_factor_end_year = 85.0  # 2019 value: 82.399312"
   ]
  },
  {
   "cell_type": "code",
   "execution_count": 7,
   "metadata": {
    "slideshow": {
     "slide_type": "subslide"
    },
    "tags": []
   },
   "outputs": [],
   "source": [
    "# Aircraft fleet and operation evolution - Aircraft efficiency using the top-down approach\n",
    "\n",
    "## Drop-in aircraft\n",
    "### Mean annual efficiency gains by category [%]\n",
    "process.parameters.energy_per_ask_short_range_dropin_fuel_gain_reference_years = []\n",
    "process.parameters.energy_per_ask_short_range_dropin_fuel_gain_reference_years_values = [1.5]\n",
    "process.parameters.energy_per_ask_medium_range_dropin_fuel_gain_reference_years = []\n",
    "process.parameters.energy_per_ask_medium_range_dropin_fuel_gain_reference_years_values = [1.5]\n",
    "process.parameters.energy_per_ask_long_range_dropin_fuel_gain_reference_years = []\n",
    "process.parameters.energy_per_ask_long_range_dropin_fuel_gain_reference_years_values = [1.5]\n",
    "\n",
    "## Hydrogen aircraft\n",
    "### Values for setting logistic functions by category\n",
    "process.parameters.hydrogen_final_market_share_short_range = 50.0  # [%]\n",
    "process.parameters.hydrogen_introduction_year_short_range = 2035\n",
    "process.parameters.fleet_renewal_duration = 20.0\n",
    "### Relative energy consumption for hydrogen aircraft with respect to drop-in aircraft [%]\n",
    "process.parameters.relative_energy_per_ask_hydrogen_wrt_dropin_short_range_reference_years = []\n",
    "process.parameters.relative_energy_per_ask_hydrogen_wrt_dropin_short_range_reference_years_values = [\n",
    "    1.0\n",
    "]"
   ]
  },
  {
   "cell_type": "code",
   "execution_count": 8,
   "metadata": {
    "slideshow": {
     "slide_type": "subslide"
    },
    "tags": []
   },
   "outputs": [],
   "source": [
    "# Aircraft fleet and operation evolution - Operations\n",
    "\n",
    "## Values for setting the logistic function\n",
    "process.parameters.operations_final_gain = 8.0  # [%]\n",
    "process.parameters.operations_start_year = 2025\n",
    "process.parameters.operations_duration = 25.0"
   ]
  },
  {
   "cell_type": "code",
   "execution_count": 9,
   "metadata": {
    "slideshow": {
     "slide_type": "subslide"
    },
    "tags": []
   },
   "outputs": [],
   "source": [
    "# Aircraft energy - Introduction of alternative drop-in fuels\n",
    "\n",
    "## Share of alternative fuels in the drop-in fuel mix (the rest being supplemented by kerosene) [%]\n",
    "process.parameters.biofuel_share_reference_years = [2020, 2030, 2040, 2050]\n",
    "process.parameters.biofuel_share_reference_years_values = [0.0, 4.8, 24.0, 35.0]\n",
    "process.parameters.electrofuel_share_reference_years = [2020, 2030, 2040, 2050]\n",
    "process.parameters.electrofuel_share_reference_years_values = [0.0, 1.2, 10.0, 35.0]"
   ]
  },
  {
   "cell_type": "code",
   "execution_count": 10,
   "metadata": {
    "tags": []
   },
   "outputs": [],
   "source": [
    "# Carbon offset\n",
    "process.parameters.carbon_offset_baseline_level_vs_2019_reference_periods = [2020, 2024, 2050]\n",
    "process.parameters.carbon_offset_baseline_level_vs_2019_reference_periods_values = [100.0, 85.0]\n",
    "process.parameters.residual_carbon_offset_share_reference_years = [2020, 2030, 2040, 2050]\n",
    "process.parameters.residual_carbon_offset_share_reference_years_values = [0.0, 0.0, 20.0, 50.0]"
   ]
  },
  {
   "cell_type": "code",
   "execution_count": 11,
   "metadata": {
    "slideshow": {
     "slide_type": "subslide"
    },
    "tags": []
   },
   "outputs": [],
   "source": [
    "# Environmental limits\n",
    "\n",
    "## Carbon budgets and Carbon Dioxide Removal [GtCO2]\n",
    "process.parameters.net_carbon_budget = 850.0\n",
    "process.parameters.carbon_dioxyde_removal_2100 = 280.0\n",
    "\n",
    "## Available energy resources in 2050 [EJ]\n",
    "process.parameters.waste_biomass = 12.0\n",
    "process.parameters.crops_biomass = 63.0\n",
    "process.parameters.forest_residues_biomass = 17.0\n",
    "process.parameters.agricultural_residues_biomass = 57.0\n",
    "process.parameters.algae_biomass = 15.0\n",
    "process.parameters.available_electricity = 250.0"
   ]
  },
  {
   "cell_type": "code",
   "execution_count": 12,
   "metadata": {
    "slideshow": {
     "slide_type": "subslide"
    },
    "tags": []
   },
   "outputs": [],
   "source": [
    "# Allocation settings\n",
    "\n",
    "## Aviation share of the global (equivalent) carbon budget [%]\n",
    "process.parameters.aviation_carbon_budget_allocated_share = 2.6\n",
    "process.parameters.aviation_equivalentcarbonbudget_allocated_share = 5.1\n",
    "\n",
    "## Aviation share of the global energy resources (biomass and electricity) [%]\n",
    "process.parameters.aviation_biomass_allocated_share = 5.0\n",
    "process.parameters.aviation_electricity_allocated_share = 5.0"
   ]
  },
  {
   "cell_type": "code",
   "execution_count": 13,
   "metadata": {
    "slideshow": {
     "slide_type": "subslide"
    },
    "tags": []
   },
   "outputs": [],
   "source": [
    "# Various environmental settings\n",
    "\n",
    "## Share of biofuel production pathways (the rest being completed by AtJ processes) [%]\n",
    "process.parameters.biofuel_hefa_fog_share_reference_years = [2020, 2030, 2040, 2050]\n",
    "process.parameters.biofuel_hefa_fog_share_reference_years_values = [100, 100, 0.7, 0.7]\n",
    "process.parameters.biofuel_hefa_others_share_reference_years = [2020, 2030, 2040, 2050]\n",
    "process.parameters.biofuel_hefa_others_share_reference_years_values = [0.0, 0.0, 3.8, 3.8]\n",
    "process.parameters.biofuel_ft_others_share_reference_years = [2020, 2030, 2040, 2050]\n",
    "process.parameters.biofuel_ft_others_share_reference_years_values = [0.0, 0.0, 76.3, 76.3]\n",
    "process.parameters.biofuel_ft_msw_share_reference_years = [2020, 2030, 2040, 2050]\n",
    "process.parameters.biofuel_ft_msw_share_reference_years_values = [0.0, 0.0, 7.4, 7.4]\n",
    "\n",
    "## Emission factors for electricity (2019 value: 429 gCO2/kWh)\n",
    "process.parameters.electricity_emission_factor_reference_years = [2020, 2030, 2040, 2050]\n",
    "process.parameters.electricity_emission_factor_reference_years_values = [429.0, 200.0, 100.0, 30.0]\n",
    "\n",
    "## Share of hydrogen production pathways (the rest being completed by production via coal without CCS) [%]\n",
    "## Distribution in 2019: Gas without CCS (71%), Coal without CCS (27%), Electrolysis (2%), Others with CCS (0%), Co-products not taken into account\n",
    "process.parameters.hydrogen_electrolysis_share_reference_years = [2020, 2030, 2040, 2050]\n",
    "process.parameters.hydrogen_electrolysis_share_reference_years_values = [2, 100, 100, 100]\n",
    "process.parameters.hydrogen_gas_ccs_share_reference_years = [2020, 2030, 2040, 2050]\n",
    "process.parameters.hydrogen_gas_ccs_share_reference_years_values = [0, 0, 0, 0]\n",
    "process.parameters.hydrogen_coal_ccs_share_reference_years = [2020, 2030, 2040, 2050]\n",
    "process.parameters.hydrogen_coal_ccs_share_reference_years_values = [0, 0, 0, 0]\n",
    "process.parameters.hydrogen_gas_share_reference_years = [2020, 2030, 2040, 2050]\n",
    "process.parameters.hydrogen_gas_share_reference_years_values = [71, 0, 0, 0]"
   ]
  },
  {
   "cell_type": "markdown",
   "metadata": {
    "slideshow": {
     "slide_type": "slide"
    }
   },
   "source": [
    "## Compute\n",
    "\n",
    "Once all the parameters have been set up, the user can compute."
   ]
  },
  {
   "cell_type": "code",
   "execution_count": 14,
   "metadata": {
    "slideshow": {
     "slide_type": "subslide"
    },
    "tags": []
   },
   "outputs": [
    {
     "name": "stdout",
     "output_type": "stream",
     "text": [
      "Running MDA\n",
      "{'climate_historic_start_year': 1940, 'historic_start_year': 2000, 'prospection_start_year': 2020, 'end_year': 2050, 'rpk_init': 2000    3.037530e+12\n",
      "2001    2.949550e+12\n",
      "2002    3.025560e+12\n",
      "2003    3.130480e+12\n",
      "2004    3.608710e+12\n",
      "2005    3.913610e+12\n",
      "2006    4.164800e+12\n",
      "2007    4.513100e+12\n",
      "2008    4.608470e+12\n",
      "2009    4.561410e+12\n",
      "2010    4.930250e+12\n",
      "2011    5.254560e+12\n",
      "2012    5.535640e+12\n",
      "2013    5.839700e+12\n",
      "2014    6.188740e+12\n",
      "2015    6.652790e+12\n",
      "2016    7.144500e+12\n",
      "2017    7.716540e+12\n",
      "2018    8.278780e+12\n",
      "2019    8.685670e+12\n",
      "dtype: float64, 'ask_init': 2000    4.286200e+12\n",
      "2001    4.271860e+12\n",
      "2002    4.246510e+12\n",
      "2003    4.378990e+12\n",
      "2004    4.917090e+12\n",
      "2005    5.222140e+12\n",
      "2006    5.493370e+12\n",
      "2007    5.876070e+12\n",
      "2008    6.062670e+12\n",
      "2009    5.948500e+12\n",
      "2010    6.307070e+12\n",
      "2011    6.736040e+12\n",
      "2012    7.019380e+12\n",
      "2013    7.347190e+12\n",
      "2014    7.763240e+12\n",
      "2015    8.291260e+12\n",
      "2016    8.898860e+12\n",
      "2017    9.470760e+12\n",
      "2018    1.012450e+13\n",
      "2019    1.054090e+13\n",
      "dtype: float64, 'rtk_init': 2000    1.180800e+11\n",
      "2001    1.108000e+11\n",
      "2002    1.266950e+11\n",
      "2003    1.343790e+11\n",
      "2004    1.504820e+11\n",
      "2005    1.536980e+11\n",
      "2006    1.643880e+11\n",
      "2007    1.728440e+11\n",
      "2008    1.711590e+11\n",
      "2009    1.558190e+11\n",
      "2010    1.884480e+11\n",
      "2011    1.890130e+11\n",
      "2012    1.870420e+11\n",
      "2013    1.877860e+11\n",
      "2014    1.965280e+11\n",
      "2015    1.990510e+11\n",
      "2016    2.061750e+11\n",
      "2017    2.251670e+11\n",
      "2018    2.317500e+11\n",
      "2019    2.250010e+11\n",
      "dtype: float64, 'pax_init': [1672000000.0, 1640000000.0, 1665000000.0, 1764000000.0, 1979000000.0, 2139000000.0, 2257000000.0, 2462000000.0, 2500000000.0, 2488000000.0, 2708000000.0, 2873000000.0, 3007000000.0, 3141000000.0, 3320000000.0, 3560000000.0, 3798000000.0, 4066000000.0, 4331000000.0, 4486000000.0], 'freight_init': [30400000.0, 28800000.0, 32800000.0, 33600000.0, 36200000.0, 36500000.0, 38800000.0, 41400000.0, 39900000.0, 40000000.0, 48000000.0, 49000000.0, 48400000.0, 49500000.0, 51100000.0, 51300000.0, 53200000.0, 57000000.0, 58800000.0, 57600000.0], 'energy_consumption_init': 2000    8.326710e+12\n",
      "2001    8.142490e+12\n",
      "2002    8.216180e+12\n",
      "2003    8.142490e+12\n",
      "2004    8.695150e+12\n",
      "2005    9.026740e+12\n",
      "2006    9.137270e+12\n",
      "2007    9.395180e+12\n",
      "2008    9.284650e+12\n",
      "2009    8.768830e+12\n",
      "2010    9.247800e+12\n",
      "2011    9.505710e+12\n",
      "2012    9.616240e+12\n",
      "2013    9.874150e+12\n",
      "2014    1.016890e+13\n",
      "2015    1.072160e+13\n",
      "2016    1.127420e+13\n",
      "2017    1.201110e+13\n",
      "2018    1.256370e+13\n",
      "2019    1.271110e+13\n",
      "dtype: float64, 'total_aircraft_distance_init': 2000    25982000000\n",
      "2001    26157000000\n",
      "2002    25507000000\n",
      "2003    26560000000\n",
      "2004    30122000000\n",
      "2005    31857000000\n",
      "2006    33179000000\n",
      "2007    34935000000\n",
      "2008    35769000000\n",
      "2009    34868000000\n",
      "2010    38366000000\n",
      "2011    40441000000\n",
      "2012    41454000000\n",
      "2013    42740000000\n",
      "2014    44460000000\n",
      "2015    46704000000\n",
      "2016    49204000000\n",
      "2017    51588000000\n",
      "2018    54279000000\n",
      "2019    56199000000\n",
      "dtype: int64, 'commercial_aviation_coefficient': 0.88, 'aviation_carbon_budget_objective': 2.4, 'load_factor_end_year': 85.0, 'energy_per_ask_short_range_dropin_fuel_gain_reference_years': [], 'energy_per_ask_short_range_dropin_fuel_gain_reference_years_values': [1.5], 'energy_per_ask_medium_range_dropin_fuel_gain_reference_years': [], 'energy_per_ask_medium_range_dropin_fuel_gain_reference_years_values': [1.5], 'energy_per_ask_long_range_dropin_fuel_gain_reference_years': [], 'energy_per_ask_long_range_dropin_fuel_gain_reference_years_values': [1.5], 'relative_energy_per_ask_hydrogen_wrt_dropin_short_range_reference_years': [], 'relative_energy_per_ask_hydrogen_wrt_dropin_short_range_reference_years_values': [1.0], 'relative_energy_per_ask_hydrogen_wrt_dropin_medium_range_reference_years': [], 'relative_energy_per_ask_hydrogen_wrt_dropin_medium_range_reference_years_values': [1.0], 'relative_energy_per_ask_hydrogen_wrt_dropin_long_range_reference_years': [], 'relative_energy_per_ask_hydrogen_wrt_dropin_long_range_reference_years_values': [1.0], 'relative_energy_per_ask_electric_wrt_dropin_short_range_reference_years': [], 'relative_energy_per_ask_electric_wrt_dropin_short_range_reference_years_values': [1.0], 'relative_energy_per_ask_electric_wrt_dropin_medium_range_reference_years': [], 'relative_energy_per_ask_electric_wrt_dropin_medium_range_reference_years_values': [1.0], 'relative_energy_per_ask_electric_wrt_dropin_long_range_reference_years': [], 'relative_energy_per_ask_electric_wrt_dropin_long_range_reference_years_values': [1.0], 'emission_index_nox_dropin_fuel_evolution': 0.0, 'emission_index_nox_hydrogen_evolution': 0.0, 'emission_index_soot_dropin_fuel_evolution': 0.0, 'short_range_energy_share_2019': 26.01, 'medium_range_energy_share_2019': 26.18, 'long_range_energy_share_2019': 32.81, 'freight_energy_share_2019': 15.0, 'short_range_rpk_share_2019': 27.2, 'medium_range_rpk_share_2019': 35.1, 'long_range_rpk_share_2019': 37.7, 'covid_start_year': 2020, 'covid_rpk_drop_start_year': 66.0, 'covid_end_year_passenger': 2024, 'covid_end_year_reference_rpk_ratio': 100.0, 'covid_load_factor_2020': 65.2, 'covid_energy_intensity_per_ask_increase_2020': 30.5, 'covid_rtk_drop_start_year': 66.0, 'covid_end_year_freight': 2024, 'covid_end_year_reference_rtk_ratio': 100.0, 'cagr_passenger_short_range_reference_periods': [2020, 2030, 2040, 2050], 'cagr_passenger_short_range_reference_periods_values': [3.0, 2.0, 1.0], 'cagr_passenger_medium_range_reference_periods': [], 'cagr_passenger_medium_range_reference_periods_values': [3.0], 'cagr_passenger_long_range_reference_periods': [], 'cagr_passenger_long_range_reference_periods_values': [3.0], 'cagr_freight_reference_periods': [], 'cagr_freight_reference_periods_values': [3.0], 'reference_cagr_passenger_reference_periods': [], 'reference_cagr_passenger_reference_periods_values': [3.0], 'reference_cagr_freight_reference_periods': [], 'reference_cagr_freight_reference_periods_values': [3.0], 'operations_final_gain': 8.0, 'operations_start_year': 2025, 'operations_duration': 25.0, 'operations_gain_reference_years': [2020, 2050], 'operations_gain_reference_years_values': [0, 6], 'hydrogen_final_market_share_short_range': 50.0, 'hydrogen_introduction_year_short_range': 2035, 'hydrogen_final_market_share_medium_range': 0.0, 'hydrogen_introduction_year_medium_range': 2051, 'hydrogen_final_market_share_long_range': 0.0, 'hydrogen_introduction_year_long_range': 2051, 'electric_final_market_share_short_range': 0.0, 'electric_introduction_year_short_range': 2051, 'electric_final_market_share_medium_range': 0.0, 'electric_introduction_year_medium_range': 2051, 'electric_final_market_share_long_range': 0.0, 'electric_introduction_year_long_range': 2051, 'fleet_renewal_duration': 20.0, 'biofuel_share_reference_years': [2020, 2030, 2040, 2050], 'biofuel_share_reference_years_values': [0.0, 4.8, 24.0, 35.0], 'electrofuel_share_reference_years': [2020, 2030, 2040, 2050], 'electrofuel_share_reference_years_values': [0.0, 1.2, 10.0, 35.0], 'kerosene_emission_factor_reference_years': [], 'kerosene_emission_factor_reference_years_values': [88.7], 'emission_index_nox_biofuel_2019': 0.01514, 'emission_index_nox_electrofuel_2019': 0.01514, 'emission_index_nox_kerosene_2019': 0.01514, 'emission_index_nox_hydrogen_2019': 0.007, 'emission_index_soot_biofuel_2019': 6e-06, 'emission_index_soot_electrofuel_2019': 6e-06, 'emission_index_soot_kerosene_2019': 3e-05, 'emission_index_soot_hydrogen_2019': 0.0, 'emission_index_number_particles_biofuel': 80000000000000.0, 'emission_index_number_particles_electrofuel': 80000000000000.0, 'emission_index_number_particles_kerosene': 200000000000000.0, 'emission_index_number_particles_hydrogen': 0.0, 'emission_index_h2o_biofuel': 1.231, 'emission_index_h2o_electrofuel': 1.231, 'emission_index_h2o_kerosene': 1.231, 'emission_index_h2o_hydrogen': 9.0, 'emission_index_sulfur_biofuel': 0.0, 'emission_index_sulfur_electrofuel': 0.0, 'emission_index_sulfur_kerosene': 0.0012, 'emission_index_sulfur_hydrogen': 0.0, 'lhv_kerosene': 44.0, 'density_kerosene': 0.8, 'lhv_biofuel': 44.0, 'density_biofuel': 0.8, 'lhv_electrofuel': 44.0, 'density_electrofuel': 0.8, 'lhv_hydrogen': 120.0, 'erf_coefficient_contrails': 1.058e-09, 'erf_coefficient_h2o': 0.0052, 'erf_coefficient_nox': 11.55, 'erf_coefficient_nox_short_term_o3_increase': 40.9, 'erf_coefficient_nox_long_term_o3_decrease': -8.7, 'erf_coefficient_nox_ch4_decrease': -17.6, 'erf_coefficient_nox_stratospheric_water_vapor_decrease': -2.6, 'erf_coefficient_soot': 100.7, 'erf_coefficient_sulfur': -19.9, 'contrails_gwpstar_variation_duration': 6.0, 'contrails_gwpstar_s_coefficient': 0.0, 'nox_short_term_o3_increase_gwpstar_variation_duration': 6.0, 'nox_short_term_o3_increase_gwpstar_s_coefficient': 0.0, 'nox_long_term_o3_decrease_gwpstar_variation_duration': 20.0, 'nox_long_term_o3_decrease_gwpstar_s_coefficient': 0.25, 'nox_ch4_decrease_gwpstar_variation_duration': 20.0, 'nox_ch4_decrease_gwpstar_s_coefficient': 0.25, 'nox_stratospheric_water_vapor_decrease_gwpstar_variation_duration': 20.0, 'nox_stratospheric_water_vapor_decrease_gwpstar_s_coefficient': 0.25, 'soot_gwpstar_variation_duration': 6.0, 'soot_gwpstar_s_coefficient': 0.0, 'h2o_gwpstar_variation_duration': 6.0, 'h2o_gwpstar_s_coefficient': 0.0, 'sulfur_gwpstar_variation_duration': 6.0, 'sulfur_gwpstar_s_coefficient': 0.0, 'tcre_coefficient': 0.00045, 'net_carbon_budget': 850.0, 'T_nonCO2': 0.2, 'carbon_dioxyde_removal_2100': 280.0, 'world_co2_emissions_2019': 43.05, 'world_ghg_emissions_2019': 59.0, 'aviation_carbon_budget_allocated_share': 2.6, 'aviation_equivalentcarbonbudget_allocated_share': 5.1, 'waste_biomass': 12.0, 'crops_biomass': 63.0, 'forest_residues_biomass': 17.0, 'agricultural_residues_biomass': 57.0, 'algae_biomass': 15.0, 'fog_waste_biomass': 1.0, 'oil_crops_biomass_share': 9.0, 'sugarystarchy_crops_biomass_share': 28.0, 'lignocellulosic_crops_biomass_share': 63.0, 'aviation_biomass_allocated_share': 5.0, 'available_electricity': 250.0, 'aviation_electricity_allocated_share': 5.0, 'biofuel_ft_efficiency_reference_years': [], 'biofuel_ft_efficiency_reference_years_values': [0.46], 'biofuel_atj_efficiency_reference_years': [], 'biofuel_atj_efficiency_reference_years_values': [0.48], 'biofuel_hefa_oil_efficiency_reference_years': [], 'biofuel_hefa_oil_efficiency_reference_years_values': [0.66], 'biofuel_hefa_fuel_efficiency_reference_years': [], 'biofuel_hefa_fuel_efficiency_reference_years_values': [0.88], 'hydrogen_oil_hefa': 0.09, 'biofuel_hefa_fog_emission_factor_reference_years': [], 'biofuel_hefa_fog_emission_factor_reference_years_values': [20.7], 'biofuel_hefa_others_emission_factor_reference_years': [], 'biofuel_hefa_others_emission_factor_reference_years_values': [61.0], 'biofuel_ft_others_emission_factor_reference_years': [], 'biofuel_ft_others_emission_factor_reference_years_values': [7.7], 'biofuel_ft_msw_emission_factor_reference_years': [], 'biofuel_ft_msw_emission_factor_reference_years_values': [27.6], 'biofuel_atj_emission_factor_reference_years': [], 'biofuel_atj_emission_factor_reference_years_values': [52.2], 'biofuel_hefa_fog_share_reference_years': [2020, 2030, 2040, 2050], 'biofuel_hefa_fog_share_reference_years_values': [100, 100, 0.7, 0.7], 'biofuel_hefa_others_share_reference_years': [2020, 2030, 2040, 2050], 'biofuel_hefa_others_share_reference_years_values': [0.0, 0.0, 3.8, 3.8], 'biofuel_ft_others_share_reference_years': [2020, 2030, 2040, 2050], 'biofuel_ft_others_share_reference_years_values': [0.0, 0.0, 76.3, 76.3], 'biofuel_ft_msw_share_reference_years': [2020, 2030, 2040, 2050], 'biofuel_ft_msw_share_reference_years_values': [0.0, 0.0, 7.4, 7.4], 'electricity_emission_factor_reference_years': [2020, 2030, 2040, 2050], 'electricity_emission_factor_reference_years_values': [429.0, 200.0, 100.0, 30.0], 'electrolysis_efficiency_reference_years': [], 'electrolysis_efficiency_reference_years_values': [0.59], 'liquefaction_efficiency_reference_years': [], 'liquefaction_efficiency_reference_years_values': [0.8], 'gaseous_hydrogen_gas_ccs_emission_factor': 30.833333333333336, 'gaseous_hydrogen_coal_ccs_emission_factor': 40.83333333333334, 'gaseous_hydrogen_gas_emission_factor': 100.0, 'gaseous_hydrogen_coal_emission_factor': 191.66666666666669, 'hydrogen_electrolysis_share_reference_years': [2020, 2030, 2040, 2050], 'hydrogen_electrolysis_share_reference_years_values': [2, 100, 100, 100], 'hydrogen_gas_ccs_share_reference_years': [2020, 2030, 2040, 2050], 'hydrogen_gas_ccs_share_reference_years_values': [0, 0, 0, 0], 'hydrogen_coal_ccs_share_reference_years': [2020, 2030, 2040, 2050], 'hydrogen_coal_ccs_share_reference_years_values': [0, 0, 0, 0], 'hydrogen_gas_share_reference_years': [2020, 2030, 2040, 2050], 'hydrogen_gas_share_reference_years_values': [71, 0, 0, 0], 'electrofuel_hydrogen_efficiency_reference_years': [], 'electrofuel_hydrogen_efficiency_reference_years_values': [0.74], 'hydrogen_replacement_ratio': 1.0, 'electrolyser_capex_reference_years': [2020, 2030, 2040, 2050], 'electrolyser_capex_reference_years_values': [588.0, 459.0, 433.0, 419.0], 'electrolyser_fixed_opex_reference_years': [2020, 2030, 2040, 2050], 'electrolyser_fixed_opex_reference_years_values': [21.3, 20.57, 20.25, 20.04], 'electrolyser_var_opex_reference_years': [2020, 2030, 2040, 2050], 'electrolyser_var_opex_reference_years_values': [0.26, 0.152, 0.144, 0.144], 'gas_ccs_load_factor': 0.95, 'gas_load_factor': 0.95, 'coal_ccs_load_factor': 0.9, 'coal_load_factor': 0.9, 'gas_ccs_eis_capex_reference_years': [], 'gas_ccs_eis_capex_reference_years_values': [1728.0], 'gas_ccs_eis_fixed_opex_reference_years': [], 'gas_ccs_eis_fixed_opex_reference_years_values': [69.12], 'gas_ccs_efficiency_reference_years': [], 'gas_ccs_efficiency_reference_years_values': [0.69], 'gas_eis_capex_reference_years': [], 'gas_eis_capex_reference_years_values': [917.0], 'gas_eis_fixed_opex_reference_years': [], 'gas_eis_fixed_opex_reference_years_values': [43.1], 'gas_efficiency_reference_years': [], 'gas_efficiency_reference_years_values': [0.76], 'coal_ccs_eis_capex_reference_years': [], 'coal_ccs_eis_capex_reference_years_values': [2399.0], 'coal_ccs_eis_fixed_opex_reference_years': [], 'coal_ccs_eis_fixed_opex_reference_years_values': [119.95], 'coal_ccs_efficiency_reference_years': [], 'coal_ccs_efficiency_reference_years_values': [0.58], 'coal_eis_capex_reference_years': [], 'coal_eis_capex_reference_years_values': [2304.0], 'coal_eis_fixed_opex_reference_years': [], 'coal_eis_fixed_opex_reference_years_values': [115.2], 'coal_efficiency_reference_years': [], 'coal_efficiency_reference_years_values': [0.6], 'ccs_cost_reference_years': [], 'ccs_cost_reference_years_values': [0.02], 'liquefier_capex_reference_years': [], 'liquefier_capex_reference_years_values': [1457.33], 'transport_cost_ratio': 0.1, 'electrofuel_capex_reference_years': [], 'electrofuel_capex_reference_years_values': [2311.0], 'electrofuel_fixed_opex_reference_years': [], 'electrofuel_fixed_opex_reference_years_values': [0.0], 'electrofuel_var_opex_reference_years': [], 'electrofuel_var_opex_reference_years_values': [0.38], 'electrofuel_specific_co2_reference_years': [], 'electrofuel_specific_co2_reference_years_values': [3.576], 'electricity_load_factor_reference_years': [], 'electricity_load_factor_reference_years_values': [1], 'electricity_cost_reference_years': [], 'electricity_cost_reference_years_values': [0.08], 'coal_cost_reference_years': [2020, 2030, 2040, 2050], 'coal_cost_reference_years_values': [0.006, 0.0057, 0.0054, 0.0052], 'gas_cost_reference_years': [2020, 2030, 2040, 2050], 'gas_cost_reference_years_values': [0.005, 0.011, 0.01, 0.009], 'co2_cost_reference_years': [], 'co2_cost_reference_years_values': [0.225], 'carbon_tax_reference_years': [], 'carbon_tax_reference_years_values': [5.0], 'kerosene_price_reference_years': [], 'kerosene_price_reference_years_values': [0.41], 'biofuel_hefa_fog_capex_reference_years': [], 'biofuel_hefa_fog_capex_reference_years_values': [490.6], 'biofuel_hefa_others_capex_reference_years': [], 'biofuel_hefa_others_capex_reference_years_values': [654.1], 'biofuel_ft_others_capex_reference_years': [], 'biofuel_ft_others_capex_reference_years_values': [2042.6], 'biofuel_ft_msw_capex_reference_years': [], 'biofuel_ft_msw_capex_reference_years_values': [3041.7], 'biofuel_atj_capex_reference_years': [], 'biofuel_atj_capex_reference_years_values': [1547.5], 'biofuel_hefa_fog_var_opex_reference_years': [], 'biofuel_hefa_fog_var_opex_reference_years_values': [0.17], 'biofuel_hefa_others_var_opex_reference_years': [], 'biofuel_hefa_others_var_opex_reference_years_values': [0.13], 'biofuel_ft_others_var_opex_reference_years': [], 'biofuel_ft_others_var_opex_reference_years_values': [0.27], 'biofuel_ft_msw_var_opex_reference_years': [], 'biofuel_ft_msw_var_opex_reference_years_values': [0.29], 'biofuel_atj_var_opex_reference_years': [], 'biofuel_atj_var_opex_reference_years_values': [0.205], 'biofuel_hefa_fog_feedstock_cost_reference_years': [], 'biofuel_hefa_fog_feedstock_cost_reference_years_values': [0.0127], 'biofuel_hefa_others_feedstock_cost_reference_years': [], 'biofuel_hefa_others_feedstock_cost_reference_years_values': [0.0122], 'biofuel_ft_others_feedstock_cost_reference_years': [], 'biofuel_ft_others_feedstock_cost_reference_years_values': [0.007], 'biofuel_ft_msw_feedstock_cost_reference_years': [], 'biofuel_ft_msw_feedstock_cost_reference_years_values': [0.0], 'biofuel_atj_feedstock_cost_reference_years': [], 'biofuel_atj_feedstock_cost_reference_years_values': [0.0102], 'plant_lifespan': 25.0, 'private_discount_rate': 0.1, 'social_discount_rate': 0.03, 'doc_non_energy_per_ask_short_range_dropin_fuel_init': 0.048375, 'doc_non_energy_per_ask_medium_range_dropin_fuel_init': 0.0301, 'doc_non_energy_per_ask_long_range_dropin_fuel_init': 0.024725, 'doc_non_energy_per_ask_short_range_dropin_fuel_gain': 0.0, 'doc_non_energy_per_ask_medium_range_dropin_fuel_gain': 0.0, 'doc_non_energy_per_ask_long_range_dropin_fuel_gain': 0.0, 'relative_doc_non_energy_per_ask_hydrogen_wrt_dropin_short_range': 1.1, 'relative_doc_non_energy_per_ask_hydrogen_wrt_dropin_medium_range': 1.1, 'relative_doc_non_energy_per_ask_hydrogen_wrt_dropin_long_range': 1.1, 'relative_doc_non_energy_per_ask_electric_wrt_dropin_short_range': 1.0, 'relative_doc_non_energy_per_ask_electric_wrt_dropin_medium_range': 1.0, 'relative_doc_non_energy_per_ask_electric_wrt_dropin_long_range': 1.0, 'carbon_offset_baseline_level_vs_2019_reference_periods': [2020, 2024, 2050], 'carbon_offset_baseline_level_vs_2019_reference_periods_values': [100.0, 85.0], 'residual_carbon_offset_share_reference_years': [2020, 2030, 2040, 2050], 'residual_carbon_offset_share_reference_years_values': [0.0, 0.0, 20.0, 50.0], 'carbon_offset_price_reference_years': [], 'carbon_offset_price_reference_years_values': [5.0], 'operations_contrails_duration': 15.0, 'operations_contrails_final_gain': 59.4, 'operations_contrails_final_overconsumption': 0.014, 'operations_contrails_start_year': 2101, 'rpk_long_range_measures_duration': 5.0, 'rpk_long_range_measures_final_impact': 0.0, 'rpk_long_range_measures_start_year': 2051, 'rpk_medium_range_measures_duration': 5.0, 'rpk_medium_range_measures_final_impact': 0.0, 'rpk_medium_range_measures_start_year': 2051, 'rpk_short_range_measures_duration': 5.0, 'rpk_short_range_measures_final_impact': 0.0, 'rpk_short_range_measures_start_year': 2051, 'noc_reference_years': [], 'noc_reference_years_values': [0.0], 'ioc_reference_years': [], 'ioc_reference_years_values': [0.028], 'operational_profit_reference_years': [], 'operational_profit_reference_years_values': [0.00314], 'passenger_tax_reference_years': [], 'passenger_tax_reference_years_values': [0.0], 'operational_efficiency_cost_non_energy_per_ask_final_value': 0.0, 'load_factor_cost_non_energy_per_ask_final_value': 0.0, 'contrails_relative_effect_hydrogen_wrt_kerosene': 1.0, 'exogenous_carbon_price_reference_years': [2020, 2030, 2040, 2050], 'exogenous_carbon_price_reference_years_values': [54.0, 250.0, 500.0, 775.0], 'biofuel_hefa_fog_mfsp_simple_reference_years': [], 'biofuel_hefa_fog_mfsp_simple_reference_years_values': [0.815488], 'biofuel_hefa_others_mfsp_simple_reference_years': [], 'biofuel_hefa_others_mfsp_simple_reference_years_values': [1.052703], 'biofuel_ft_others_mfsp_simple_reference_years': [], 'biofuel_ft_others_mfsp_simple_reference_years_values': [1.378082], 'biofuel_ft_msw_mfsp_simple_reference_years': [], 'biofuel_ft_msw_mfsp_simple_reference_years_values': [1.142423], 'biofuel_atj_mfsp_simple_reference_years': [], 'biofuel_atj_mfsp_simple_reference_years_values': [1.38668], 'gh2_electrolysis_mfsp_simple_reference_years': [2020, 2030, 2040, 2050], 'gh2_electrolysis_mfsp_simple_reference_years_values': [5.04714, 4.994914, 4.949078, 4.924813], 'gh2_gas_ccs_mfsp_simple_reference_years': [2020, 2030, 2040, 2050], 'gh2_gas_ccs_mfsp_simple_reference_years_values': [1.046076, 1.335932, 1.287622, 1.239313], 'gh2_gas_mfsp_simple_reference_years': [2020, 2030, 2040, 2050], 'gh2_gas_mfsp_simple_reference_years_values': [0.664742, 0.9279, 0.88404, 0.84018], 'gh2_coal_ccs_mfsp_simple_reference_years': [2020, 2030, 2040, 2050], 'gh2_coal_ccs_mfsp_simple_reference_years_values': [1.596797, 1.579555, 1.562314, 1.55082], 'gh2_coal_mfsp_simple_reference_years': [2020, 2030, 2040, 2050], 'gh2_coal_mfsp_simple_reference_years_values': [1.535725, 1.519058, 1.502391, 1.49128], 'liquefaction_mfsp_simple_reference_years': [2020, 2030, 2040, 2050], 'liquefaction_mfsp_simple_reference_years_values': [1.378511, 1.378511, 1.378511, 1.378511], 'electrofuel_mfsp_simple_reference_years': [], 'electrofuel_mfsp_simple_reference_years_values': [3.504428], 'energy_replacement_ratio': 1.0, 'initial_price_per_rpk': 0.082949239, 'biomass_availability_constraint_trajectory_reference_years': [2020, 2030, 2040, 2050], 'biomass_availability_constraint_trajectory_reference_years_values': [62.8, 72.1, 97.8, 101.8], 'electricity_availability_constraint_trajectory_reference_years': [2020, 2030, 2040, 2050], 'electricity_availability_constraint_trajectory_reference_years_values': [102.0456, 137.5452, 212.7996, 276.6168], 'volume_ramp_up_constraint_biofuel': 0.15, 'rate_ramp_up_constraint_biofuel': 0.2, 'volume_ramp_up_constraint_electrofuel': 0.15, 'rate_ramp_up_constraint_electrofuel': 0.2, 'Unnamed: 0': 2000    2000\n",
      "2001    2001\n",
      "2002    2002\n",
      "2003    2003\n",
      "2004    2004\n",
      "2005    2005\n",
      "2006    2006\n",
      "2007    2007\n",
      "2008    2008\n",
      "2009    2009\n",
      "2010    2010\n",
      "2011    2011\n",
      "2012    2012\n",
      "2013    2013\n",
      "2014    2014\n",
      "2015    2015\n",
      "2016    2016\n",
      "2017    2017\n",
      "2018    2018\n",
      "2019    2019\n",
      "dtype: int64}\n"
     ]
    },
    {
     "ename": "AttributeError",
     "evalue": "'LoadFactor' object has no attribute 'other_data_start_year'",
     "output_type": "error",
     "traceback": [
      "\u001b[1;31m---------------------------------------------------------------------------\u001b[0m",
      "\u001b[1;31mAttributeError\u001b[0m                            Traceback (most recent call last)",
      "Cell \u001b[1;32mIn[14], line 2\u001b[0m\n\u001b[0;32m      1\u001b[0m process\u001b[38;5;241m.\u001b[39msetup()\n\u001b[1;32m----> 2\u001b[0m \u001b[43mprocess\u001b[49m\u001b[38;5;241;43m.\u001b[39;49m\u001b[43mcompute\u001b[49m\u001b[43m(\u001b[49m\u001b[43m)\u001b[49m\n",
      "File \u001b[1;32m~\\PycharmProjects\\AeroMAPS\\aeromaps\\core\\process.py:173\u001b[0m, in \u001b[0;36mAeroMAPSProcess.compute\u001b[1;34m(self)\u001b[0m\n\u001b[0;32m    171\u001b[0m     \u001b[38;5;28mprint\u001b[39m(\u001b[38;5;124m\"\u001b[39m\u001b[38;5;124mRunning MDA\u001b[39m\u001b[38;5;124m\"\u001b[39m)\n\u001b[0;32m    172\u001b[0m     \u001b[38;5;28mprint\u001b[39m(\u001b[38;5;28mself\u001b[39m\u001b[38;5;241m.\u001b[39minput_data)\n\u001b[1;32m--> 173\u001b[0m     \u001b[38;5;28;43mself\u001b[39;49m\u001b[38;5;241;43m.\u001b[39;49m\u001b[43mmda_chain\u001b[49m\u001b[38;5;241;43m.\u001b[39;49m\u001b[43mexecute\u001b[49m\u001b[43m(\u001b[49m\u001b[43minput_data\u001b[49m\u001b[38;5;241;43m=\u001b[39;49m\u001b[38;5;28;43mself\u001b[39;49m\u001b[38;5;241;43m.\u001b[39;49m\u001b[43minput_data\u001b[49m\u001b[43m)\u001b[49m\n\u001b[0;32m    175\u001b[0m \u001b[38;5;66;03m# # Time for compute\u001b[39;00m\n\u001b[0;32m    176\u001b[0m \u001b[38;5;66;03m# compute_time = time.time()\u001b[39;00m\n\u001b[0;32m    177\u001b[0m \u001b[38;5;66;03m# print(f\"Compute time: {compute_time - pre_compute_time} seconds\")\u001b[39;00m\n\u001b[0;32m    179\u001b[0m \u001b[38;5;28mself\u001b[39m\u001b[38;5;241m.\u001b[39m_post_compute()\n",
      "File \u001b[1;32m~\\AppData\\Local\\miniconda3\\envs\\AeroMAPS_2024_3\\lib\\site-packages\\gemseo\\mda\\mda_chain.py:287\u001b[0m, in \u001b[0;36mMDAChain.execute\u001b[1;34m(self, input_data)\u001b[0m\n\u001b[0;32m    281\u001b[0m     \u001b[38;5;28mself\u001b[39m\u001b[38;5;241m.\u001b[39mdefault_input_data\u001b[38;5;241m.\u001b[39mupdate({\n\u001b[0;32m    282\u001b[0m         key: value\n\u001b[0;32m    283\u001b[0m         \u001b[38;5;28;01mfor\u001b[39;00m key, value \u001b[38;5;129;01min\u001b[39;00m init_chain\u001b[38;5;241m.\u001b[39mexecute(input_data)\u001b[38;5;241m.\u001b[39mitems()\n\u001b[0;32m    284\u001b[0m         \u001b[38;5;28;01mif\u001b[39;00m key \u001b[38;5;129;01min\u001b[39;00m \u001b[38;5;28mself\u001b[39m\u001b[38;5;241m.\u001b[39minput_grammar\u001b[38;5;241m.\u001b[39mnames\n\u001b[0;32m    285\u001b[0m     })\n\u001b[0;32m    286\u001b[0m     \u001b[38;5;28mself\u001b[39m\u001b[38;5;241m.\u001b[39msettings\u001b[38;5;241m.\u001b[39minitialize_defaults \u001b[38;5;241m=\u001b[39m \u001b[38;5;28;01mFalse\u001b[39;00m\n\u001b[1;32m--> 287\u001b[0m \u001b[38;5;28;01mreturn\u001b[39;00m \u001b[38;5;28;43msuper\u001b[39;49m\u001b[43m(\u001b[49m\u001b[43m)\u001b[49m\u001b[38;5;241;43m.\u001b[39;49m\u001b[43mexecute\u001b[49m\u001b[43m(\u001b[49m\u001b[43minput_data\u001b[49m\u001b[38;5;241;43m=\u001b[39;49m\u001b[43minput_data\u001b[49m\u001b[43m)\u001b[49m\n",
      "File \u001b[1;32m~\\AppData\\Local\\miniconda3\\envs\\AeroMAPS_2024_3\\lib\\site-packages\\gemseo\\mda\\base_mda.py:507\u001b[0m, in \u001b[0;36mBaseMDA.execute\u001b[1;34m(self, input_data)\u001b[0m\n\u001b[0;32m    502\u001b[0m \u001b[38;5;28;01mdef\u001b[39;00m \u001b[38;5;21mexecute\u001b[39m(  \u001b[38;5;66;03m# noqa:D102\u001b[39;00m\n\u001b[0;32m    503\u001b[0m     \u001b[38;5;28mself\u001b[39m,\n\u001b[0;32m    504\u001b[0m     input_data: StrKeyMapping \u001b[38;5;241m=\u001b[39m READ_ONLY_EMPTY_DICT,\n\u001b[0;32m    505\u001b[0m ) \u001b[38;5;241m-\u001b[39m\u001b[38;5;241m>\u001b[39m DisciplineData:\n\u001b[0;32m    506\u001b[0m     \u001b[38;5;28mself\u001b[39m\u001b[38;5;241m.\u001b[39m_current_iter \u001b[38;5;241m=\u001b[39m \u001b[38;5;241m0\u001b[39m\n\u001b[1;32m--> 507\u001b[0m     \u001b[38;5;28;01mreturn\u001b[39;00m \u001b[38;5;28;43msuper\u001b[39;49m\u001b[43m(\u001b[49m\u001b[43m)\u001b[49m\u001b[38;5;241;43m.\u001b[39;49m\u001b[43mexecute\u001b[49m\u001b[43m(\u001b[49m\u001b[43minput_data\u001b[49m\u001b[38;5;241;43m=\u001b[39;49m\u001b[43minput_data\u001b[49m\u001b[43m)\u001b[49m\n",
      "File \u001b[1;32m~\\AppData\\Local\\miniconda3\\envs\\AeroMAPS_2024_3\\lib\\site-packages\\gemseo\\core\\discipline\\discipline.py:774\u001b[0m, in \u001b[0;36mDiscipline.execute\u001b[1;34m(self, input_data)\u001b[0m\n\u001b[0;32m    767\u001b[0m \u001b[38;5;28;01mdef\u001b[39;00m \u001b[38;5;21mexecute\u001b[39m(  \u001b[38;5;66;03m# noqa: D102\u001b[39;00m\n\u001b[0;32m    768\u001b[0m     \u001b[38;5;28mself\u001b[39m,\n\u001b[0;32m    769\u001b[0m     input_data: StrKeyMapping \u001b[38;5;241m=\u001b[39m READ_ONLY_EMPTY_DICT,\n\u001b[0;32m    770\u001b[0m ) \u001b[38;5;241m-\u001b[39m\u001b[38;5;241m>\u001b[39m DisciplineData:\n\u001b[0;32m    771\u001b[0m     \u001b[38;5;66;03m# TODO: investigate the side effects in linearize that prevents clearing jac.\u001b[39;00m\n\u001b[0;32m    772\u001b[0m     \u001b[38;5;66;03m# self.jac.clear()\u001b[39;00m\n\u001b[0;32m    773\u001b[0m     \u001b[38;5;28mself\u001b[39m\u001b[38;5;241m.\u001b[39m_has_jacobian \u001b[38;5;241m=\u001b[39m \u001b[38;5;28;01mFalse\u001b[39;00m\n\u001b[1;32m--> 774\u001b[0m     \u001b[38;5;28;01mreturn\u001b[39;00m \u001b[38;5;28;43msuper\u001b[39;49m\u001b[43m(\u001b[49m\u001b[43m)\u001b[49m\u001b[38;5;241;43m.\u001b[39;49m\u001b[43mexecute\u001b[49m\u001b[43m(\u001b[49m\u001b[43minput_data\u001b[49m\u001b[43m)\u001b[49m\n",
      "File \u001b[1;32m~\\AppData\\Local\\miniconda3\\envs\\AeroMAPS_2024_3\\lib\\site-packages\\gemseo\\core\\discipline\\base_discipline.py:370\u001b[0m, in \u001b[0;36mBaseDiscipline.execute\u001b[1;34m(self, input_data)\u001b[0m\n\u001b[0;32m    368\u001b[0m     \u001b[38;5;28mself\u001b[39m\u001b[38;5;241m.\u001b[39mio\u001b[38;5;241m.\u001b[39mupdate_output_data(\u001b[38;5;28mself\u001b[39m\u001b[38;5;241m.\u001b[39mio\u001b[38;5;241m.\u001b[39moutput_grammar\u001b[38;5;241m.\u001b[39mdefaults)\n\u001b[0;32m    369\u001b[0m \u001b[38;5;28;01melse\u001b[39;00m:\n\u001b[1;32m--> 370\u001b[0m     \u001b[38;5;28;43mself\u001b[39;49m\u001b[38;5;241;43m.\u001b[39;49m\u001b[43m_execute_monitored\u001b[49m\u001b[43m(\u001b[49m\u001b[43m)\u001b[49m\n\u001b[0;32m    372\u001b[0m \u001b[38;5;28mself\u001b[39m\u001b[38;5;241m.\u001b[39mio\u001b[38;5;241m.\u001b[39mfinalize(\u001b[38;5;28mself\u001b[39m\u001b[38;5;241m.\u001b[39mvalidate_output_data)\n\u001b[0;32m    374\u001b[0m \u001b[38;5;28;01mif\u001b[39;00m \u001b[38;5;28mself\u001b[39m\u001b[38;5;241m.\u001b[39mcache \u001b[38;5;129;01mis\u001b[39;00m \u001b[38;5;129;01mnot\u001b[39;00m \u001b[38;5;28;01mNone\u001b[39;00m:\n",
      "File \u001b[1;32m~\\AppData\\Local\\miniconda3\\envs\\AeroMAPS_2024_3\\lib\\site-packages\\gemseo\\core\\_base_monitored_process.py:98\u001b[0m, in \u001b[0;36mBaseMonitoredProcess._execute_monitored\u001b[1;34m(self)\u001b[0m\n\u001b[0;32m     93\u001b[0m \u001b[38;5;66;03m# TODO: why not handling over the full execute() instead of _execute?\u001b[39;00m\n\u001b[0;32m     94\u001b[0m \u001b[38;5;28;01mwith\u001b[39;00m (\n\u001b[0;32m     95\u001b[0m     \u001b[38;5;28mself\u001b[39m\u001b[38;5;241m.\u001b[39mexecution_statistics\u001b[38;5;241m.\u001b[39mrecord(),\n\u001b[0;32m     96\u001b[0m     \u001b[38;5;28mself\u001b[39m\u001b[38;5;241m.\u001b[39mexecution_status\u001b[38;5;241m.\u001b[39mrun(),\n\u001b[0;32m     97\u001b[0m ):\n\u001b[1;32m---> 98\u001b[0m     \u001b[38;5;28;43mself\u001b[39;49m\u001b[38;5;241;43m.\u001b[39;49m\u001b[43m_execute\u001b[49m\u001b[43m(\u001b[49m\u001b[43m)\u001b[49m\n",
      "File \u001b[1;32m~\\AppData\\Local\\miniconda3\\envs\\AeroMAPS_2024_3\\lib\\site-packages\\gemseo\\mda\\mda_chain.py:292\u001b[0m, in \u001b[0;36mMDAChain._execute\u001b[1;34m(self)\u001b[0m\n\u001b[0;32m    289\u001b[0m \u001b[38;5;28;01mdef\u001b[39;00m \u001b[38;5;21m_execute\u001b[39m(\u001b[38;5;28mself\u001b[39m) \u001b[38;5;241m-\u001b[39m\u001b[38;5;241m>\u001b[39m \u001b[38;5;28;01mNone\u001b[39;00m:\n\u001b[0;32m    290\u001b[0m     \u001b[38;5;28msuper\u001b[39m()\u001b[38;5;241m.\u001b[39m_execute()\n\u001b[1;32m--> 292\u001b[0m     \u001b[38;5;28mself\u001b[39m\u001b[38;5;241m.\u001b[39mio\u001b[38;5;241m.\u001b[39mdata \u001b[38;5;241m=\u001b[39m \u001b[38;5;28;43mself\u001b[39;49m\u001b[38;5;241;43m.\u001b[39;49m\u001b[43mmdo_chain\u001b[49m\u001b[38;5;241;43m.\u001b[39;49m\u001b[43mexecute\u001b[49m\u001b[43m(\u001b[49m\u001b[38;5;28;43mself\u001b[39;49m\u001b[38;5;241;43m.\u001b[39;49m\u001b[43mio\u001b[49m\u001b[38;5;241;43m.\u001b[39;49m\u001b[43mdata\u001b[49m\u001b[43m)\u001b[49m\n\u001b[0;32m    294\u001b[0m     res_sum \u001b[38;5;241m=\u001b[39m \u001b[38;5;241m0.0\u001b[39m\n\u001b[0;32m    295\u001b[0m     \u001b[38;5;28;01mfor\u001b[39;00m mda \u001b[38;5;129;01min\u001b[39;00m \u001b[38;5;28mself\u001b[39m\u001b[38;5;241m.\u001b[39minner_mdas:\n",
      "File \u001b[1;32m~\\AppData\\Local\\miniconda3\\envs\\AeroMAPS_2024_3\\lib\\site-packages\\gemseo\\core\\discipline\\discipline.py:774\u001b[0m, in \u001b[0;36mDiscipline.execute\u001b[1;34m(self, input_data)\u001b[0m\n\u001b[0;32m    767\u001b[0m \u001b[38;5;28;01mdef\u001b[39;00m \u001b[38;5;21mexecute\u001b[39m(  \u001b[38;5;66;03m# noqa: D102\u001b[39;00m\n\u001b[0;32m    768\u001b[0m     \u001b[38;5;28mself\u001b[39m,\n\u001b[0;32m    769\u001b[0m     input_data: StrKeyMapping \u001b[38;5;241m=\u001b[39m READ_ONLY_EMPTY_DICT,\n\u001b[0;32m    770\u001b[0m ) \u001b[38;5;241m-\u001b[39m\u001b[38;5;241m>\u001b[39m DisciplineData:\n\u001b[0;32m    771\u001b[0m     \u001b[38;5;66;03m# TODO: investigate the side effects in linearize that prevents clearing jac.\u001b[39;00m\n\u001b[0;32m    772\u001b[0m     \u001b[38;5;66;03m# self.jac.clear()\u001b[39;00m\n\u001b[0;32m    773\u001b[0m     \u001b[38;5;28mself\u001b[39m\u001b[38;5;241m.\u001b[39m_has_jacobian \u001b[38;5;241m=\u001b[39m \u001b[38;5;28;01mFalse\u001b[39;00m\n\u001b[1;32m--> 774\u001b[0m     \u001b[38;5;28;01mreturn\u001b[39;00m \u001b[38;5;28;43msuper\u001b[39;49m\u001b[43m(\u001b[49m\u001b[43m)\u001b[49m\u001b[38;5;241;43m.\u001b[39;49m\u001b[43mexecute\u001b[49m\u001b[43m(\u001b[49m\u001b[43minput_data\u001b[49m\u001b[43m)\u001b[49m\n",
      "File \u001b[1;32m~\\AppData\\Local\\miniconda3\\envs\\AeroMAPS_2024_3\\lib\\site-packages\\gemseo\\core\\discipline\\base_discipline.py:370\u001b[0m, in \u001b[0;36mBaseDiscipline.execute\u001b[1;34m(self, input_data)\u001b[0m\n\u001b[0;32m    368\u001b[0m     \u001b[38;5;28mself\u001b[39m\u001b[38;5;241m.\u001b[39mio\u001b[38;5;241m.\u001b[39mupdate_output_data(\u001b[38;5;28mself\u001b[39m\u001b[38;5;241m.\u001b[39mio\u001b[38;5;241m.\u001b[39moutput_grammar\u001b[38;5;241m.\u001b[39mdefaults)\n\u001b[0;32m    369\u001b[0m \u001b[38;5;28;01melse\u001b[39;00m:\n\u001b[1;32m--> 370\u001b[0m     \u001b[38;5;28;43mself\u001b[39;49m\u001b[38;5;241;43m.\u001b[39;49m\u001b[43m_execute_monitored\u001b[49m\u001b[43m(\u001b[49m\u001b[43m)\u001b[49m\n\u001b[0;32m    372\u001b[0m \u001b[38;5;28mself\u001b[39m\u001b[38;5;241m.\u001b[39mio\u001b[38;5;241m.\u001b[39mfinalize(\u001b[38;5;28mself\u001b[39m\u001b[38;5;241m.\u001b[39mvalidate_output_data)\n\u001b[0;32m    374\u001b[0m \u001b[38;5;28;01mif\u001b[39;00m \u001b[38;5;28mself\u001b[39m\u001b[38;5;241m.\u001b[39mcache \u001b[38;5;129;01mis\u001b[39;00m \u001b[38;5;129;01mnot\u001b[39;00m \u001b[38;5;28;01mNone\u001b[39;00m:\n",
      "File \u001b[1;32m~\\AppData\\Local\\miniconda3\\envs\\AeroMAPS_2024_3\\lib\\site-packages\\gemseo\\core\\_base_monitored_process.py:98\u001b[0m, in \u001b[0;36mBaseMonitoredProcess._execute_monitored\u001b[1;34m(self)\u001b[0m\n\u001b[0;32m     93\u001b[0m \u001b[38;5;66;03m# TODO: why not handling over the full execute() instead of _execute?\u001b[39;00m\n\u001b[0;32m     94\u001b[0m \u001b[38;5;28;01mwith\u001b[39;00m (\n\u001b[0;32m     95\u001b[0m     \u001b[38;5;28mself\u001b[39m\u001b[38;5;241m.\u001b[39mexecution_statistics\u001b[38;5;241m.\u001b[39mrecord(),\n\u001b[0;32m     96\u001b[0m     \u001b[38;5;28mself\u001b[39m\u001b[38;5;241m.\u001b[39mexecution_status\u001b[38;5;241m.\u001b[39mrun(),\n\u001b[0;32m     97\u001b[0m ):\n\u001b[1;32m---> 98\u001b[0m     \u001b[38;5;28;43mself\u001b[39;49m\u001b[38;5;241;43m.\u001b[39;49m\u001b[43m_execute\u001b[49m\u001b[43m(\u001b[49m\u001b[43m)\u001b[49m\n",
      "File \u001b[1;32m~\\AppData\\Local\\miniconda3\\envs\\AeroMAPS_2024_3\\lib\\site-packages\\gemseo\\core\\chains\\chain.py:114\u001b[0m, in \u001b[0;36mMDOChain._execute\u001b[1;34m(self)\u001b[0m\n\u001b[0;32m    112\u001b[0m \u001b[38;5;28;01mdef\u001b[39;00m \u001b[38;5;21m_execute\u001b[39m(\u001b[38;5;28mself\u001b[39m) \u001b[38;5;241m-\u001b[39m\u001b[38;5;241m>\u001b[39m \u001b[38;5;28;01mNone\u001b[39;00m:\n\u001b[0;32m    113\u001b[0m     \u001b[38;5;28;01mfor\u001b[39;00m discipline \u001b[38;5;129;01min\u001b[39;00m \u001b[38;5;28mself\u001b[39m\u001b[38;5;241m.\u001b[39mdisciplines:\n\u001b[1;32m--> 114\u001b[0m         \u001b[38;5;28mself\u001b[39m\u001b[38;5;241m.\u001b[39mio\u001b[38;5;241m.\u001b[39mdata\u001b[38;5;241m.\u001b[39mupdate(\u001b[43mdiscipline\u001b[49m\u001b[38;5;241;43m.\u001b[39;49m\u001b[43mexecute\u001b[49m\u001b[43m(\u001b[49m\u001b[38;5;28;43mself\u001b[39;49m\u001b[38;5;241;43m.\u001b[39;49m\u001b[43mio\u001b[49m\u001b[38;5;241;43m.\u001b[39;49m\u001b[43mdata\u001b[49m\u001b[43m)\u001b[49m)\n",
      "File \u001b[1;32m~\\AppData\\Local\\miniconda3\\envs\\AeroMAPS_2024_3\\lib\\site-packages\\gemseo\\core\\discipline\\discipline.py:774\u001b[0m, in \u001b[0;36mDiscipline.execute\u001b[1;34m(self, input_data)\u001b[0m\n\u001b[0;32m    767\u001b[0m \u001b[38;5;28;01mdef\u001b[39;00m \u001b[38;5;21mexecute\u001b[39m(  \u001b[38;5;66;03m# noqa: D102\u001b[39;00m\n\u001b[0;32m    768\u001b[0m     \u001b[38;5;28mself\u001b[39m,\n\u001b[0;32m    769\u001b[0m     input_data: StrKeyMapping \u001b[38;5;241m=\u001b[39m READ_ONLY_EMPTY_DICT,\n\u001b[0;32m    770\u001b[0m ) \u001b[38;5;241m-\u001b[39m\u001b[38;5;241m>\u001b[39m DisciplineData:\n\u001b[0;32m    771\u001b[0m     \u001b[38;5;66;03m# TODO: investigate the side effects in linearize that prevents clearing jac.\u001b[39;00m\n\u001b[0;32m    772\u001b[0m     \u001b[38;5;66;03m# self.jac.clear()\u001b[39;00m\n\u001b[0;32m    773\u001b[0m     \u001b[38;5;28mself\u001b[39m\u001b[38;5;241m.\u001b[39m_has_jacobian \u001b[38;5;241m=\u001b[39m \u001b[38;5;28;01mFalse\u001b[39;00m\n\u001b[1;32m--> 774\u001b[0m     \u001b[38;5;28;01mreturn\u001b[39;00m \u001b[38;5;28;43msuper\u001b[39;49m\u001b[43m(\u001b[49m\u001b[43m)\u001b[49m\u001b[38;5;241;43m.\u001b[39;49m\u001b[43mexecute\u001b[49m\u001b[43m(\u001b[49m\u001b[43minput_data\u001b[49m\u001b[43m)\u001b[49m\n",
      "File \u001b[1;32m~\\AppData\\Local\\miniconda3\\envs\\AeroMAPS_2024_3\\lib\\site-packages\\gemseo\\core\\discipline\\base_discipline.py:370\u001b[0m, in \u001b[0;36mBaseDiscipline.execute\u001b[1;34m(self, input_data)\u001b[0m\n\u001b[0;32m    368\u001b[0m     \u001b[38;5;28mself\u001b[39m\u001b[38;5;241m.\u001b[39mio\u001b[38;5;241m.\u001b[39mupdate_output_data(\u001b[38;5;28mself\u001b[39m\u001b[38;5;241m.\u001b[39mio\u001b[38;5;241m.\u001b[39moutput_grammar\u001b[38;5;241m.\u001b[39mdefaults)\n\u001b[0;32m    369\u001b[0m \u001b[38;5;28;01melse\u001b[39;00m:\n\u001b[1;32m--> 370\u001b[0m     \u001b[38;5;28;43mself\u001b[39;49m\u001b[38;5;241;43m.\u001b[39;49m\u001b[43m_execute_monitored\u001b[49m\u001b[43m(\u001b[49m\u001b[43m)\u001b[49m\n\u001b[0;32m    372\u001b[0m \u001b[38;5;28mself\u001b[39m\u001b[38;5;241m.\u001b[39mio\u001b[38;5;241m.\u001b[39mfinalize(\u001b[38;5;28mself\u001b[39m\u001b[38;5;241m.\u001b[39mvalidate_output_data)\n\u001b[0;32m    374\u001b[0m \u001b[38;5;28;01mif\u001b[39;00m \u001b[38;5;28mself\u001b[39m\u001b[38;5;241m.\u001b[39mcache \u001b[38;5;129;01mis\u001b[39;00m \u001b[38;5;129;01mnot\u001b[39;00m \u001b[38;5;28;01mNone\u001b[39;00m:\n",
      "File \u001b[1;32m~\\AppData\\Local\\miniconda3\\envs\\AeroMAPS_2024_3\\lib\\site-packages\\gemseo\\core\\_base_monitored_process.py:98\u001b[0m, in \u001b[0;36mBaseMonitoredProcess._execute_monitored\u001b[1;34m(self)\u001b[0m\n\u001b[0;32m     93\u001b[0m \u001b[38;5;66;03m# TODO: why not handling over the full execute() instead of _execute?\u001b[39;00m\n\u001b[0;32m     94\u001b[0m \u001b[38;5;28;01mwith\u001b[39;00m (\n\u001b[0;32m     95\u001b[0m     \u001b[38;5;28mself\u001b[39m\u001b[38;5;241m.\u001b[39mexecution_statistics\u001b[38;5;241m.\u001b[39mrecord(),\n\u001b[0;32m     96\u001b[0m     \u001b[38;5;28mself\u001b[39m\u001b[38;5;241m.\u001b[39mexecution_status\u001b[38;5;241m.\u001b[39mrun(),\n\u001b[0;32m     97\u001b[0m ):\n\u001b[1;32m---> 98\u001b[0m     \u001b[38;5;28;43mself\u001b[39;49m\u001b[38;5;241;43m.\u001b[39;49m\u001b[43m_execute\u001b[49m\u001b[43m(\u001b[49m\u001b[43m)\u001b[49m\n",
      "File \u001b[1;32m~\\AppData\\Local\\miniconda3\\envs\\AeroMAPS_2024_3\\lib\\site-packages\\gemseo\\core\\discipline\\base_discipline.py:385\u001b[0m, in \u001b[0;36mBaseDiscipline._execute\u001b[1;34m(self)\u001b[0m\n\u001b[0;32m    382\u001b[0m \u001b[38;5;28;01melse\u001b[39;00m:\n\u001b[0;32m    383\u001b[0m     \u001b[38;5;66;03m# No namespaces, avoid useless processing.\u001b[39;00m\n\u001b[0;32m    384\u001b[0m     input_data \u001b[38;5;241m=\u001b[39m \u001b[38;5;28mself\u001b[39m\u001b[38;5;241m.\u001b[39mio\u001b[38;5;241m.\u001b[39mdata\n\u001b[1;32m--> 385\u001b[0m output_data \u001b[38;5;241m=\u001b[39m \u001b[38;5;28;43mself\u001b[39;49m\u001b[38;5;241;43m.\u001b[39;49m\u001b[43m_run\u001b[49m\u001b[43m(\u001b[49m\u001b[43minput_data\u001b[49m\u001b[38;5;241;43m=\u001b[39;49m\u001b[43minput_data\u001b[49m\u001b[43m)\u001b[49m\n\u001b[0;32m    386\u001b[0m \u001b[38;5;28;01mif\u001b[39;00m output_data \u001b[38;5;129;01mis\u001b[39;00m \u001b[38;5;129;01mnot\u001b[39;00m \u001b[38;5;28;01mNone\u001b[39;00m:\n\u001b[0;32m    387\u001b[0m     \u001b[38;5;28mself\u001b[39m\u001b[38;5;241m.\u001b[39mio\u001b[38;5;241m.\u001b[39mupdate_output_data(output_data)\n",
      "File \u001b[1;32m~\\AppData\\Local\\miniconda3\\envs\\AeroMAPS_2024_3\\lib\\site-packages\\gemseo\\disciplines\\auto_py.py:245\u001b[0m, in \u001b[0;36mAutoPyDiscipline._run\u001b[1;34m(self, input_data)\u001b[0m\n\u001b[0;32m    244\u001b[0m \u001b[38;5;28;01mdef\u001b[39;00m \u001b[38;5;21m_run\u001b[39m(\u001b[38;5;28mself\u001b[39m, input_data: StrKeyMapping) \u001b[38;5;241m-\u001b[39m\u001b[38;5;241m>\u001b[39m StrKeyMapping \u001b[38;5;241m|\u001b[39m \u001b[38;5;28;01mNone\u001b[39;00m:\n\u001b[1;32m--> 245\u001b[0m     output_values \u001b[38;5;241m=\u001b[39m \u001b[38;5;28mself\u001b[39m\u001b[38;5;241m.\u001b[39mpy_func(\u001b[38;5;241m*\u001b[39m\u001b[38;5;241m*\u001b[39minput_data)\n\u001b[0;32m    246\u001b[0m     \u001b[38;5;28;01mif\u001b[39;00m \u001b[38;5;28mlen\u001b[39m(\u001b[38;5;28mself\u001b[39m\u001b[38;5;241m.\u001b[39moutput_names) \u001b[38;5;241m==\u001b[39m \u001b[38;5;241m1\u001b[39m:\n\u001b[0;32m    247\u001b[0m         output_values \u001b[38;5;241m=\u001b[39m {\u001b[38;5;28mself\u001b[39m\u001b[38;5;241m.\u001b[39moutput_names[\u001b[38;5;241m0\u001b[39m]: output_values}\n",
      "File \u001b[1;32m~\\PycharmProjects\\AeroMAPS\\aeromaps\\models\\air_transport\\aircraft_fleet_and_operations\\load_factor\\load_factor.py:18\u001b[0m, in \u001b[0;36mLoadFactor.compute\u001b[1;34m(self, load_factor_end_year, covid_load_factor_2020, rpk, ask_init)\u001b[0m\n\u001b[0;32m     10\u001b[0m \u001b[38;5;28;01mdef\u001b[39;00m \u001b[38;5;21mcompute\u001b[39m(\n\u001b[0;32m     11\u001b[0m     \u001b[38;5;28mself\u001b[39m,\n\u001b[0;32m     12\u001b[0m     load_factor_end_year: \u001b[38;5;28mfloat\u001b[39m,\n\u001b[1;32m   (...)\u001b[0m\n\u001b[0;32m     15\u001b[0m     ask_init: pd\u001b[38;5;241m.\u001b[39mSeries,\n\u001b[0;32m     16\u001b[0m ) \u001b[38;5;241m-\u001b[39m\u001b[38;5;241m>\u001b[39m pd\u001b[38;5;241m.\u001b[39mSeries:\n\u001b[0;32m     17\u001b[0m \u001b[38;5;250m    \u001b[39m\u001b[38;5;124;03m\"\"\"Load factor calculation.\"\"\"\u001b[39;00m\n\u001b[1;32m---> 18\u001b[0m     \u001b[38;5;28;01mfor\u001b[39;00m k \u001b[38;5;129;01min\u001b[39;00m \u001b[38;5;28mrange\u001b[39m(\u001b[38;5;28;43mself\u001b[39;49m\u001b[38;5;241;43m.\u001b[39;49m\u001b[43mother_data_start_year\u001b[49m, \u001b[38;5;28mself\u001b[39m\u001b[38;5;241m.\u001b[39mprospection_start_year):\n\u001b[0;32m     19\u001b[0m         \u001b[38;5;28mself\u001b[39m\u001b[38;5;241m.\u001b[39mdf\u001b[38;5;241m.\u001b[39mloc[k, \u001b[38;5;124m\"\u001b[39m\u001b[38;5;124mload_factor\u001b[39m\u001b[38;5;124m\"\u001b[39m] \u001b[38;5;241m=\u001b[39m rpk\u001b[38;5;241m.\u001b[39mloc[k] \u001b[38;5;241m/\u001b[39m ask_init\u001b[38;5;241m.\u001b[39mloc[k] \u001b[38;5;241m*\u001b[39m \u001b[38;5;241m100\u001b[39m\n\u001b[0;32m     21\u001b[0m     \u001b[38;5;66;03m# Initialization for load factor\u001b[39;00m\n",
      "\u001b[1;31mAttributeError\u001b[0m: 'LoadFactor' object has no attribute 'other_data_start_year'"
     ]
    }
   ],
   "source": [
    "process.setup()\n",
    "process.compute()"
   ]
  },
  {
   "cell_type": "markdown",
   "metadata": {},
   "source": [
    "## Results\n",
    "\n",
    "The user can then display the results. The user has access to float outputs but also to annual data outputs, with the possibility of choosing the output."
   ]
  },
  {
   "cell_type": "code",
   "execution_count": null,
   "metadata": {
    "tags": []
   },
   "outputs": [],
   "source": [
    "process.data[\"float_outputs\"]"
   ]
  },
  {
   "cell_type": "code",
   "execution_count": null,
   "metadata": {
    "tags": []
   },
   "outputs": [],
   "source": [
    "process.data[\"vector_outputs\"]"
   ]
  },
  {
   "cell_type": "code",
   "execution_count": null,
   "metadata": {
    "tags": []
   },
   "outputs": [],
   "source": [
    "process.data[\"climate_outputs\"][[\"co2_emissions\"]]"
   ]
  },
  {
   "cell_type": "markdown",
   "metadata": {},
   "source": [
    "The user can write the results to an Excel file with the following command."
   ]
  },
  {
   "cell_type": "code",
   "execution_count": null,
   "metadata": {
    "tags": []
   },
   "outputs": [],
   "source": [
    "process.write_excel(file_name=\"aeromaps_data.xlsx\")"
   ]
  },
  {
   "cell_type": "markdown",
   "metadata": {
    "slideshow": {
     "slide_type": "slide"
    }
   },
   "source": [
    "## Plots\n",
    "\n",
    "Lastly, the user can also plot different parameters based on a database of plots. The list of the available plots can be displayed using the following command."
   ]
  },
  {
   "cell_type": "code",
   "execution_count": null,
   "metadata": {
    "tags": []
   },
   "outputs": [],
   "source": [
    "process.list_available_plots()"
   ]
  },
  {
   "cell_type": "markdown",
   "metadata": {},
   "source": [
    "The user can thus display a figure of this list, for instance the CO<sub>2</sub> emissions of the simulated scenario."
   ]
  },
  {
   "cell_type": "code",
   "execution_count": null,
   "metadata": {
    "slideshow": {
     "slide_type": "subslide"
    },
    "tags": []
   },
   "outputs": [],
   "source": [
    "process.plot(\"air_transport_co2_emissions\", save=False)"
   ]
  },
  {
   "cell_type": "code",
   "execution_count": null,
   "metadata": {},
   "outputs": [],
   "source": [
    "process.data[\"vector_outputs\"][[\"electricity_emission_factor\"]]"
   ]
  },
  {
   "cell_type": "code",
   "execution_count": null,
   "metadata": {},
   "outputs": [],
   "source": []
  }
 ],
 "metadata": {
  "celltoolbar": "Diaporama",
  "kernelspec": {
   "display_name": "Python 3 (ipykernel)",
   "language": "python",
   "name": "python3"
  },
  "language_info": {
   "codemirror_mode": {
    "name": "ipython",
    "version": 3
   },
   "file_extension": ".py",
   "mimetype": "text/x-python",
   "name": "python",
   "nbconvert_exporter": "python",
   "pygments_lexer": "ipython3",
   "version": "3.9.20"
  }
 },
 "nbformat": 4,
 "nbformat_minor": 4
}
