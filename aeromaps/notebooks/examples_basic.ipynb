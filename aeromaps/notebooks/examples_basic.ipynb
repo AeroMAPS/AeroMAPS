{
 "cells": [
  {
   "cell_type": "markdown",
   "metadata": {},
   "source": [
    "# Basic example for using AeroMAPS with Jupyter Notebook\n",
    "\n",
    "This document represents both an example and a tutorial for using the basic functions of AeroMAPS to simulate and evaluate a transition scenario for the aviation sector.  It is written in the form of a Jupyter Notebook to facilitate its use. The user will be able to adapt this notebook and couple it with other notebooks proposed in the documentation."
   ]
  },
  {
   "cell_type": "markdown",
   "metadata": {
    "slideshow": {
     "slide_type": "slide"
    }
   },
   "source": [
    "## Load and process\n",
    "\n",
    "First, the user has to load the framework and generate a process."
   ]
  },
  {
   "cell_type": "code",
   "execution_count": 1,
   "metadata": {
    "slideshow": {
     "slide_type": "subslide"
    },
    "tags": []
   },
   "outputs": [],
   "source": [
    "%matplotlib widget\n",
    "from aeromaps.core.process import AeromapsProcess\n",
    "from aeromaps.core.models import models_simple"
   ]
  },
  {
   "cell_type": "code",
   "execution_count": 2,
   "metadata": {
    "slideshow": {
     "slide_type": "subslide"
    },
    "tags": []
   },
   "outputs": [
    {
     "name": "stdout",
     "output_type": "stream",
     "text": [
      "biofuel_share_reference_years_values [0.0, 50.0] <class 'list'>\n",
      "biofuel_share_reference_years_values [0.0, 50.0] <class 'list'>\n"
     ]
    }
   ],
   "source": [
    "process = AeromapsProcess(models=models_simple)"
   ]
  },
  {
   "cell_type": "markdown",
   "metadata": {
    "slideshow": {
     "slide_type": "slide"
    }
   },
   "source": [
    "## Set up variables\n",
    "\n",
    "The user can then set the different parameters of the model to generate its scenario. The list of the float inputs can be displayed using this command."
   ]
  },
  {
   "cell_type": "code",
   "execution_count": 3,
   "metadata": {
    "tags": []
   },
   "outputs": [
    {
     "data": {
      "text/plain": [
       "{'short_range_rpk_share_2019': 27.2,\n",
       " 'medium_range_rpk_share_2019': 35.1,\n",
       " 'long_range_rpk_share_2019': 37.7,\n",
       " 'covid_start_year': 2020,\n",
       " 'covid_rpk_drop_start_year': 66.0,\n",
       " 'covid_end_year': 2024,\n",
       " 'covid_end_year_reference_rpk_ratio': 100.0,\n",
       " 'growth_rate_2020_2030_short_range': 3.0,\n",
       " 'growth_rate_2030_2040_short_range': 3.0,\n",
       " 'growth_rate_2040_2050_short_range': 3.0,\n",
       " 'growth_rate_2020_2030_medium_range': 3.0,\n",
       " 'growth_rate_2030_2040_medium_range': 3.0,\n",
       " 'growth_rate_2040_2050_medium_range': 3.0,\n",
       " 'growth_rate_2020_2030_long_range': 3.0,\n",
       " 'growth_rate_2030_2040_long_range': 3.0,\n",
       " 'growth_rate_2040_2050_long_range': 3.0,\n",
       " 'load_factor_end_year': 85.0,\n",
       " 'covid_load_factor_2020': 65.2,\n",
       " 'short_range_energy_share_2019': 26.01,\n",
       " 'medium_range_energy_share_2019': 26.18,\n",
       " 'long_range_energy_share_2019': 32.81,\n",
       " 'energy_per_ask_short_range_dropin_fuel_gain': 2,\n",
       " 'energy_per_ask_medium_range_dropin_fuel_gain': 2,\n",
       " 'energy_per_ask_long_range_dropin_fuel_gain': 2,\n",
       " 'relative_energy_per_ask_hydrogen_wrt_dropin_short_range': 1.0,\n",
       " 'relative_energy_per_ask_hydrogen_wrt_dropin_medium_range': 1.0,\n",
       " 'relative_energy_per_ask_hydrogen_wrt_dropin_long_range': 1.0,\n",
       " 'hydrogen_final_market_share_short_range': 0.0,\n",
       " 'hydrogen_introduction_year_short_range': 2051,\n",
       " 'hydrogen_final_market_share_medium_range': 0.0,\n",
       " 'hydrogen_introduction_year_medium_range': 2051,\n",
       " 'hydrogen_final_market_share_long_range': 0.0,\n",
       " 'hydrogen_introduction_year_long_range': 2051,\n",
       " 'fleet_renewal_duration': 25.0,\n",
       " 'covid_energy_intensity_per_ask_increase_2020': 30.5,\n",
       " 'growth_rate_2020_2030_freight': 3.0,\n",
       " 'growth_rate_2030_2040_freight': 3.0,\n",
       " 'growth_rate_2040_2050_freight': 3.0,\n",
       " 'freight_energy_share_2019': 15,\n",
       " 'operations_final_gain': 7.0,\n",
       " 'operations_start_year': 2020,\n",
       " 'operations_duration': 40.0,\n",
       " 'biofuel_share_reference_years': [2020, 2050],\n",
       " 'biofuel_share_reference_years_values': [0.0, 50.0],\n",
       " 'electrofuel_share_2020': 0.0,\n",
       " 'electrofuel_share_2030': 0.0,\n",
       " 'electrofuel_share_2040': 0.0,\n",
       " 'electrofuel_share_2050': 50.0,\n",
       " 'electrolysis_efficiency_2020': 0.59,\n",
       " 'electrolysis_efficiency_2050': 0.59,\n",
       " 'liquefaction_efficiency_2020': 0.8,\n",
       " 'liquefaction_efficiency_2050': 0.8,\n",
       " 'electrofuel_hydrogen_efficiency_2020': 0.67,\n",
       " 'electrofuel_hydrogen_efficiency_2050': 0.67,\n",
       " 'electricity_emission_factor_2020': 429,\n",
       " 'electricity_emission_factor_2030': 200,\n",
       " 'electricity_emission_factor_2040': 200,\n",
       " 'electricity_emission_factor_2050': 200,\n",
       " 'biofuel_hefa_fog_share_2020': 100.0,\n",
       " 'biofuel_hefa_fog_share_2030': 100.0,\n",
       " 'biofuel_hefa_fog_share_2040': 100.0,\n",
       " 'biofuel_hefa_fog_share_2050': 100.0,\n",
       " 'biofuel_hefa_others_share_2020': 0.0,\n",
       " 'biofuel_hefa_others_share_2030': 0.0,\n",
       " 'biofuel_hefa_others_share_2040': 0.0,\n",
       " 'biofuel_hefa_others_share_2050': 0.0,\n",
       " 'biofuel_ft_others_share_2020': 0.0,\n",
       " 'biofuel_ft_others_share_2030': 0.0,\n",
       " 'biofuel_ft_others_share_2040': 0.0,\n",
       " 'biofuel_ft_others_share_2050': 0.0,\n",
       " 'biofuel_ft_msw_share_2020': 0.0,\n",
       " 'biofuel_ft_msw_share_2030': 0.0,\n",
       " 'biofuel_ft_msw_share_2040': 0.0,\n",
       " 'biofuel_ft_msw_share_2050': 0.0,\n",
       " 'hydrogen_electrolysis_share_2020': 2.0,\n",
       " 'hydrogen_electrolysis_share_2030': 2.0,\n",
       " 'hydrogen_electrolysis_share_2040': 2.0,\n",
       " 'hydrogen_electrolysis_share_2050': 2.0,\n",
       " 'hydrogen_gas_ccs_share_2020': 0.0,\n",
       " 'hydrogen_gas_ccs_share_2030': 0.0,\n",
       " 'hydrogen_gas_ccs_share_2040': 0.0,\n",
       " 'hydrogen_gas_ccs_share_2050': 0.0,\n",
       " 'hydrogen_coal_ccs_share_2020': 0.0,\n",
       " 'hydrogen_coal_ccs_share_2030': 0.0,\n",
       " 'hydrogen_coal_ccs_share_2040': 0.0,\n",
       " 'hydrogen_coal_ccs_share_2050': 0.0,\n",
       " 'hydrogen_gas_share_2020': 71.0,\n",
       " 'hydrogen_gas_share_2030': 71.0,\n",
       " 'hydrogen_gas_share_2040': 71.0,\n",
       " 'hydrogen_gas_share_2050': 71.0,\n",
       " 'hydrogen_gas_ccs_emission_factor': 30.833333333333336,\n",
       " 'hydrogen_coal_ccs_emission_factor': 40.83333333333334,\n",
       " 'hydrogen_gas_emission_factor': 100.0,\n",
       " 'hydrogen_coal_emission_factor': 191.66666666666669,\n",
       " 'biofuel_hefa_fog_emission_factor_2020': 20.7,\n",
       " 'biofuel_hefa_fog_emission_factor_2050': 20.7,\n",
       " 'biofuel_hefa_others_emission_factor_2020': 61,\n",
       " 'biofuel_hefa_others_emission_factor_2050': 61,\n",
       " 'biofuel_ft_others_emission_factor_2020': 7.7,\n",
       " 'biofuel_ft_others_emission_factor_2050': 7.7,\n",
       " 'biofuel_ft_msw_emission_factor_2020': 27.6,\n",
       " 'biofuel_ft_msw_emission_factor_2050': 27.6,\n",
       " 'biofuel_atj_emission_factor_2020': 52.2,\n",
       " 'biofuel_atj_emission_factor_2050': 52.2,\n",
       " 'kerosene_emission_factor_2019': 87.5,\n",
       " 'kerosene_emission_factor_2030': 87.5,\n",
       " 'kerosene_emission_factor_2040': 87.5,\n",
       " 'kerosene_emission_factor_2050': 87.5,\n",
       " 'carbon_offset_baseline_level_vs_2019': 850000.0,\n",
       " 'biofuel_hefa_fog_mfsp_2020': 0.89,\n",
       " 'biofuel_hefa_fog_mfsp_2050': 0.89,\n",
       " 'biofuel_hefa_others_mfsp_2020': 1.08,\n",
       " 'biofuel_hefa_others_mfsp_2050': 1.08,\n",
       " 'biofuel_ft_others_mfsp_2020': 1.14,\n",
       " 'biofuel_ft_others_mfsp_2050': 1.14,\n",
       " 'biofuel_ft_msw_mfsp_2020': 1.02,\n",
       " 'biofuel_ft_msw_mfsp_2050': 1.02,\n",
       " 'biofuel_atj_mfsp_2020': 1.42,\n",
       " 'biofuel_atj_mfsp_2050': 1.42,\n",
       " 'biofuel_hefa_fog_capex_2020': 307.0,\n",
       " 'biofuel_hefa_fog_capex_2050': 307.0,\n",
       " 'biofuel_hefa_others_capex_2020': 276.0,\n",
       " 'biofuel_hefa_others_capex_2050': 276.0,\n",
       " 'biofuel_ft_others_capex_2020': 1872,\n",
       " 'biofuel_ft_others_capex_2050': 1872,\n",
       " 'biofuel_ft_msw_capex_2020': 2056.0,\n",
       " 'biofuel_ft_msw_capex_2050': 2056.0,\n",
       " 'biofuel_atj_capex_2020': 1211.0,\n",
       " 'biofuel_atj_capex_2050': 1212.0,\n",
       " 'emission_index_nox_biofuel_2019': 0.01514,\n",
       " 'emission_index_nox_electrofuel_2019': 0.01514,\n",
       " 'emission_index_nox_kerosene_2019': 0.01514,\n",
       " 'emission_index_nox_hydrogen_2019': 0.007,\n",
       " 'emission_index_nox_dropin_fuel_evolution': 0.0,\n",
       " 'emission_index_nox_hydrogen_evolution': 0.0,\n",
       " 'emission_index_soot_biofuel_2019': 6e-06,\n",
       " 'emission_index_soot_electrofuel_2019': 6e-06,\n",
       " 'emission_index_soot_kerosene_2019': 3e-05,\n",
       " 'emission_index_soot_hydrogen_2019': 0.0,\n",
       " 'emission_index_soot_dropin_fuel_evolution': 0.0,\n",
       " 'kerosene_price_2020': 0.41,\n",
       " 'kerosene_price_2030': 0.41,\n",
       " 'kerosene_price_2040': 0.41,\n",
       " 'kerosene_price_2050': 0.41,\n",
       " 'co2_cost_2020': 0.225,\n",
       " 'co2_cost_2030': 0.225,\n",
       " 'co2_cost_2040': 0.225,\n",
       " 'co2_cost_2050': 0.225,\n",
       " 'co2_tax_2020': 50,\n",
       " 'co2_tax_2030': 100,\n",
       " 'co2_tax_2040': 200,\n",
       " 'co2_tax_2050': 300,\n",
       " 'electricity_cost_2020': 0.08,\n",
       " 'electricity_cost_2030': 0.08,\n",
       " 'electricity_cost_2040': 0.08,\n",
       " 'electricity_cost_2050': 0.08,\n",
       " 'electrofuel_capex_2020': 2311,\n",
       " 'electrofuel_capex_2030': 2311,\n",
       " 'electrofuel_capex_2040': 2311,\n",
       " 'electrofuel_capex_2050': 2311,\n",
       " 'electrofuel_fixed_opex_2020': 0.0,\n",
       " 'electrofuel_fixed_opex_2030': 0.0,\n",
       " 'electrofuel_fixed_opex_2040': 0.0,\n",
       " 'electrofuel_fixed_opex_2050': 0.0,\n",
       " 'electrofuel_var_opex_2020': 0.38,\n",
       " 'electrofuel_var_opex_2030': 0.38,\n",
       " 'electrofuel_var_opex_2040': 0.38,\n",
       " 'electrofuel_var_opex_2050': 0.38,\n",
       " 'electrofuel_specific_co2_2020': 4.47,\n",
       " 'electrofuel_specific_co2_2030': 4.47,\n",
       " 'electrofuel_specific_co2_2040': 4.47,\n",
       " 'electrofuel_specific_co2_2050': 4.47,\n",
       " 'residual_carbon_offset_share_2020': 0.0,\n",
       " 'residual_carbon_offset_share_2030': 0.0,\n",
       " 'residual_carbon_offset_share_2040': 0.0,\n",
       " 'residual_carbon_offset_share_2050': 0.0,\n",
       " 'emission_index_h2o_biofuel': 1.231,\n",
       " 'emission_index_h2o_electrofuel': 1.231,\n",
       " 'emission_index_h2o_kerosene': 1.231,\n",
       " 'emission_index_h2o_hydrogen': 9.0,\n",
       " 'emission_index_sulfur_biofuel': 0.0,\n",
       " 'emission_index_sulfur_electrofuel': 0.0,\n",
       " 'emission_index_sulfur_kerosene': 0.0012,\n",
       " 'emission_index_sulfur_hydrogen': 0.0,\n",
       " 'lhv_kerosene': 44,\n",
       " 'lhv_biofuel': 44,\n",
       " 'lhv_electrofuel': 44,\n",
       " 'lhv_hydrogen': 120,\n",
       " 'electricity_load_factor': 0.95,\n",
       " 'electrolyser_capex_2020': 588.0,\n",
       " 'electrolyser_capex_2030': 459.0,\n",
       " 'electrolyser_capex_2040': 433.0,\n",
       " 'electrolyser_capex_2050': 419.0,\n",
       " 'electrolyser_fixed_opex_2020': 21.3,\n",
       " 'electrolyser_fixed_opex_2030': 20.57,\n",
       " 'electrolyser_fixed_opex_2040': 20.25,\n",
       " 'electrolyser_fixed_opex_2050': 20.04,\n",
       " 'electrolyser_var_opex_2020': 0.2,\n",
       " 'electrolyser_var_opex_2030': 0.19,\n",
       " 'electrolyser_var_opex_2040': 0.18,\n",
       " 'electrolyser_var_opex_2050': 0.18,\n",
       " 'gas_ccs_eis_capex_2020': 1728,\n",
       " 'gas_ccs_eis_capex_2030': 1728,\n",
       " 'gas_ccs_eis_capex_2040': 1728,\n",
       " 'gas_ccs_eis_capex_2050': 1728,\n",
       " 'gas_ccs_eis_fixed_opex_2020': 69.12,\n",
       " 'gas_ccs_eis_fixed_opex_2030': 69.12,\n",
       " 'gas_ccs_eis_fixed_opex_2040': 69.12,\n",
       " 'gas_ccs_eis_fixed_opex_2050': 69.12,\n",
       " 'gas_ccs_efficiency_2020': 0.69,\n",
       " 'gas_ccs_efficiency_2030': 0.69,\n",
       " 'gas_ccs_efficiency_2040': 0.69,\n",
       " 'gas_ccs_efficiency_2050': 0.69,\n",
       " 'gas_eis_capex_2020': 917,\n",
       " 'gas_eis_capex_2030': 917,\n",
       " 'gas_eis_capex_2040': 917,\n",
       " 'gas_eis_capex_2050': 917,\n",
       " 'gas_eis_fixed_opex_2020': 43.1,\n",
       " 'gas_eis_fixed_opex_2030': 43.1,\n",
       " 'gas_eis_fixed_opex_2040': 43.1,\n",
       " 'gas_eis_fixed_opex_2050': 43.1,\n",
       " 'gas_efficiency_2020': 0.76,\n",
       " 'gas_efficiency_2030': 0.76,\n",
       " 'gas_efficiency_2040': 0.76,\n",
       " 'gas_efficiency_2050': 0.76,\n",
       " 'coal_ccs_eis_capex_2020': 2399,\n",
       " 'coal_ccs_eis_capex_2030': 2399,\n",
       " 'coal_ccs_eis_capex_2040': 2399,\n",
       " 'coal_ccs_eis_capex_2050': 2399,\n",
       " 'coal_ccs_eis_fixed_opex_2020': 119.95,\n",
       " 'coal_ccs_eis_fixed_opex_2030': 119.95,\n",
       " 'coal_ccs_eis_fixed_opex_2040': 119.95,\n",
       " 'coal_ccs_eis_fixed_opex_2050': 119.95,\n",
       " 'coal_ccs_efficiency_2020': 0.58,\n",
       " 'coal_ccs_efficiency_2030': 0.58,\n",
       " 'coal_ccs_efficiency_2040': 0.58,\n",
       " 'coal_ccs_efficiency_2050': 0.58,\n",
       " 'coal_eis_capex_2020': 2304,\n",
       " 'coal_eis_capex_2030': 2304,\n",
       " 'coal_eis_capex_2040': 2304,\n",
       " 'coal_eis_capex_2050': 2304,\n",
       " 'coal_eis_fixed_opex_2020': 115.2,\n",
       " 'coal_eis_fixed_opex_2030': 115.2,\n",
       " 'coal_eis_fixed_opex_2040': 115.2,\n",
       " 'coal_eis_fixed_opex_2050': 115.2,\n",
       " 'coal_efficiency_2020': 0.6,\n",
       " 'coal_efficiency_2030': 0.6,\n",
       " 'coal_efficiency_2040': 0.6,\n",
       " 'coal_efficiency_2050': 0.6,\n",
       " 'ccs_cost_2020': 0.02,\n",
       " 'ccs_cost_2030': 0.02,\n",
       " 'ccs_cost_2040': 0.02,\n",
       " 'ccs_cost_2050': 0.02,\n",
       " 'liquefier_capex_2020': 1457.33,\n",
       " 'liquefier_capex_2030': 1457.33,\n",
       " 'liquefier_capex_2040': 1457.33,\n",
       " 'liquefier_capex_2050': 1457.33,\n",
       " 'growth_rate_2020_2030_reference': 3.0,\n",
       " 'growth_rate_2030_2040_reference': 3.0,\n",
       " 'growth_rate_2040_2050_reference': 3.0,\n",
       " 'direct_co2_erf_2018_reference': 30.184,\n",
       " 'erf_coefficient_soot': 100.7,\n",
       " 'erf_coefficient_co2': 0.88,\n",
       " 'erf_coefficient_contrails': 1.058e-09,\n",
       " 'erf_coefficient_h2o': 0.0052,\n",
       " 'erf_coefficient_nox': 3.5152194000000003,\n",
       " 'erf_coefficient_sulfur': -19.9,\n",
       " 'gas_ccs_load_factor': 0.95,\n",
       " 'gas_ccs_ccs_efficiency': 0.95,\n",
       " 'gas_load_factor': 0.95,\n",
       " 'coal_ccs_load_factor': 0.9,\n",
       " 'coal_ccs_ccs_efficiency': 0.95,\n",
       " 'coal_load_factor': 0.9,\n",
       " 'transport_cost_ratio': 0.1,\n",
       " 'net_carbon_budget': 900,\n",
       " 'carbon_dioxyde_removal_2100': 100,\n",
       " 'world_co2_emissions_2019': 43.05,\n",
       " 'aviation_carbon_budget_allocated_share': 2.6,\n",
       " 'biofuel_ft_efficiency_2020': 0.46,\n",
       " 'biofuel_ft_efficiency_2050': 0.46,\n",
       " 'biofuel_atj_efficiency_2020': 0.48,\n",
       " 'biofuel_atj_efficiency_2050': 0.48,\n",
       " 'biofuel_hefa_oil_efficiency_2020': 0.66,\n",
       " 'biofuel_hefa_oil_efficiency_2050': 0.66,\n",
       " 'biofuel_hefa_fuel_efficiency_2020': 0.88,\n",
       " 'biofuel_hefa_fuel_efficiency_2050': 0.88,\n",
       " 'doc_non_energy_per_ask_short_range_dropin_fuel_init': 0.045,\n",
       " 'doc_non_energy_per_ask_medium_range_dropin_fuel_init': 0.028,\n",
       " 'doc_non_energy_per_ask_long_range_dropin_fuel_init': 0.023,\n",
       " 'doc_non_energy_per_ask_short_range_dropin_fuel_gain': 0.0,\n",
       " 'doc_non_energy_per_ask_medium_range_dropin_fuel_gain': 0.0,\n",
       " 'doc_non_energy_per_ask_long_range_dropin_fuel_gain': 0.0,\n",
       " 'relative_doc_non_energy_per_ask_hydrogen_wrt_dropin_short_range': 1.1,\n",
       " 'relative_doc_non_energy_per_ask_hydrogen_wrt_dropin_medium_range': 1.1,\n",
       " 'relative_doc_non_energy_per_ask_hydrogen_wrt_dropin_long_range': 1.1,\n",
       " 'T_nonCO2': 0.2,\n",
       " 'TCRE': 0.00045,\n",
       " 'world_ghg_emissions_2019': 59,\n",
       " 'aviation_equivalentcarbonbudget_allocated_share': 5.1,\n",
       " 'waste_biomass': 12,\n",
       " 'crops_biomass': 63,\n",
       " 'forest_residues_biomass': 17,\n",
       " 'agricultural_residues_biomass': 57,\n",
       " 'algae_biomass': 15,\n",
       " 'fog_waste_biomass': 1,\n",
       " 'oil_crops_biomass_share': 9,\n",
       " 'sugarystarchy_crops_biomass_share': 28,\n",
       " 'lignocellulosic_crops_biomass_share': 63,\n",
       " 'aviation_biomass_allocated_share': 10,\n",
       " 'available_electricity': 300,\n",
       " 'aviation_electricity_allocated_share': 3,\n",
       " 'carbon_offset_price_2020': 5.0,\n",
       " 'carbon_offset_price_2030': 5.0,\n",
       " 'carbon_offset_price_2040': 5.0,\n",
       " 'carbon_offset_price_2050': 5.0,\n",
       " 'social_discount_rate': 0.03}"
      ]
     },
     "execution_count": 3,
     "metadata": {},
     "output_type": "execute_result"
    }
   ],
   "source": [
    "process.list_float_inputs()"
   ]
  },
  {
   "cell_type": "markdown",
   "metadata": {},
   "source": [
    " In the following, some main parameters are for instance set up."
   ]
  },
  {
   "cell_type": "code",
   "execution_count": 4,
   "metadata": {
    "slideshow": {
     "slide_type": "subslide"
    },
    "tags": []
   },
   "outputs": [],
   "source": [
    "# Air traffic evolution\n",
    "\n",
    "## Growth rate by category and decade [%]\n",
    "process.parameters.growth_rate_2020_2030_short_range = 3\n",
    "process.parameters.growth_rate_2030_2040_short_range = 3\n",
    "process.parameters.growth_rate_2040_2050_short_range = 3\n",
    "process.parameters.growth_rate_2020_2030_medium_range = 3\n",
    "process.parameters.growth_rate_2030_2040_medium_range = 3\n",
    "process.parameters.growth_rate_2040_2050_medium_range = 3\n",
    "process.parameters.growth_rate_2020_2030_long_range = 3\n",
    "process.parameters.growth_rate_2030_2040_long_range = 3\n",
    "process.parameters.growth_rate_2040_2050_long_range = 3\n",
    "process.parameters.growth_rate_2020_2030_freight = 3\n",
    "process.parameters.growth_rate_2030_2040_freight = 3\n",
    "process.parameters.growth_rate_2040_2050_freight = 3"
   ]
  },
  {
   "cell_type": "code",
   "execution_count": 5,
   "metadata": {
    "slideshow": {
     "slide_type": "subslide"
    },
    "tags": []
   },
   "outputs": [],
   "source": [
    "# Aircraft fleet and operation evolution - Aircraft load factor\n",
    "\n",
    "## Aircraft load factor in 2050 [%]\n",
    "process.parameters.load_factor_end_year = 85  # 2019 value: 82.399312"
   ]
  },
  {
   "cell_type": "code",
   "execution_count": 6,
   "metadata": {
    "slideshow": {
     "slide_type": "subslide"
    },
    "tags": []
   },
   "outputs": [],
   "source": [
    "# Aircraft fleet and operation evolution - Aircraft efficiency using the top-down approach\n",
    "\n",
    "## Drop-in aircraft\n",
    "### Mean annual efficiency gains by category [%]\n",
    "process.parameters.energy_per_ask_short_range_dropin_fuel_gain = 1.5\n",
    "process.parameters.energy_per_ask_medium_range_dropin_fuel_gain = 1.5\n",
    "process.parameters.energy_per_ask_long_range_dropin_fuel_gain = 1.5\n",
    "\n",
    "## Hydrogen aircraft\n",
    "### Values for setting logistic functions by category\n",
    "process.parameters.hydrogen_final_market_share_short_range = 50.0  # [%]\n",
    "process.parameters.hydrogen_introduction_year_short_range = 2035\n",
    "process.parameters.fleet_renewal_duration = 20.0\n",
    "### Relative energy consumption for hydrogen aircraft with respect to drop-in aircraft [%]\n",
    "process.parameters.relative_energy_per_ask_hydrogen_wrt_dropin_short_range = 1.0"
   ]
  },
  {
   "cell_type": "code",
   "execution_count": 7,
   "metadata": {
    "slideshow": {
     "slide_type": "subslide"
    },
    "tags": []
   },
   "outputs": [],
   "source": [
    "# Aircraft fleet and operation evolution - Operations\n",
    "\n",
    "## Values for setting the logistic function\n",
    "process.parameters.operations_final_gain = 8.0  # [%]\n",
    "process.parameters.operations_start_year = 2025\n",
    "process.parameters.operations_duration = 25.0"
   ]
  },
  {
   "cell_type": "code",
   "execution_count": 8,
   "metadata": {
    "slideshow": {
     "slide_type": "subslide"
    },
    "tags": []
   },
   "outputs": [],
   "source": [
    "# Aircraft energy - Introduction of alternative drop-in fuels\n",
    "\n",
    "## Share of alternative fuels in the drop-in fuel mix by decade (the rest being supplemented by kerosene) [%]\n",
    "process.parameters.biofuel_share_2030 = 4.8\n",
    "process.parameters.biofuel_share_2040 = 24.0\n",
    "process.parameters.biofuel_share_2050 = 35.0\n",
    "process.parameters.electrofuel_share_2030 = 1.2\n",
    "process.parameters.electrofuel_share_2040 = 10.0\n",
    "process.parameters.electrofuel_share_2050 = 35.0"
   ]
  },
  {
   "cell_type": "code",
   "execution_count": 9,
   "metadata": {
    "slideshow": {
     "slide_type": "subslide"
    },
    "tags": []
   },
   "outputs": [],
   "source": [
    "# Environmental limits\n",
    "\n",
    "## Carbon budgets and Carbon Dioxide Removal [GtCO2]\n",
    "process.parameters.net_carbon_budget = 850.0\n",
    "process.parameters.carbon_dioxyde_removal_2100 = 280.0\n",
    "\n",
    "## Available energy resources in 2050 [EJ]\n",
    "process.parameters.waste_biomass = 12\n",
    "process.parameters.crops_biomass = 63\n",
    "process.parameters.forest_residues_biomass = 17\n",
    "process.parameters.agricultural_residues_biomass = 57\n",
    "process.parameters.algae_biomass = 15\n",
    "process.parameters.available_electricity = 250.0"
   ]
  },
  {
   "cell_type": "code",
   "execution_count": 10,
   "metadata": {
    "slideshow": {
     "slide_type": "subslide"
    },
    "tags": []
   },
   "outputs": [],
   "source": [
    "# Allocation settings\n",
    "\n",
    "## Aviation share of the global (equivalent) carbon budget [%]\n",
    "process.parameters.aviation_carbon_budget_allocated_share = 2.6\n",
    "process.parameters.aviation_equivalentcarbonbudget_allocated_share = 5.1\n",
    "\n",
    "## Aviation share of the global energy resources (biomass and electricity) [%]\n",
    "process.parameters.aviation_biomass_allocated_share = 5.0\n",
    "process.parameters.aviation_electricity_allocated_share = 5.0"
   ]
  },
  {
   "cell_type": "code",
   "execution_count": 11,
   "metadata": {
    "slideshow": {
     "slide_type": "subslide"
    },
    "tags": []
   },
   "outputs": [],
   "source": [
    "# Various environmental settings\n",
    "\n",
    "## Share of biofuel production pathways by decade (the rest being completed by AtJ processes) [%]\n",
    "process.parameters.biofuel_hefa_fog_share_2030 = 100.0\n",
    "process.parameters.biofuel_hefa_fog_share_2040 = 0.7\n",
    "process.parameters.biofuel_hefa_fog_share_2050 = 0.7\n",
    "process.parameters.biofuel_hefa_others_share_2030 = 0.0\n",
    "process.parameters.biofuel_hefa_others_share_2040 = 3.8\n",
    "process.parameters.biofuel_hefa_others_share_2050 = 3.8\n",
    "process.parameters.biofuel_ft_others_share_2030 = 0\n",
    "process.parameters.biofuel_ft_others_share_2040 = 76.3\n",
    "process.parameters.biofuel_ft_others_share_2050 = 76.3\n",
    "process.parameters.biofuel_ft_msw_share_2030 = 0.0\n",
    "process.parameters.biofuel_ft_msw_share_2040 = 7.4\n",
    "process.parameters.biofuel_ft_msw_share_2050 = 7.4\n",
    "\n",
    "## Emission factors for electricity by decade (2019 value: 429 gCO2/kWh)\n",
    "process.parameters.electricity_emission_factor_2020 = 429\n",
    "process.parameters.electricity_emission_factor_2030 = 200\n",
    "process.parameters.electricity_emission_factor_2040 = 100\n",
    "process.parameters.electricity_emission_factor_2050 = 30\n",
    "\n",
    "## Share of hydrogen production pathways by decade (the rest being completed by production via coal without CCS) [%]\n",
    "## Distribution in 2019: Gas without CCS (71%), Coal without CCS (27%), Electrolysis (2%), Others with CCS (0%), Co-products not taken into account\n",
    "process.parameters.hydrogen_electrolysis_share_2030 = 100\n",
    "process.parameters.hydrogen_electrolysis_share_2040 = 100\n",
    "process.parameters.hydrogen_electrolysis_share_2050 = 100\n",
    "process.parameters.hydrogen_gas_ccs_share_2030 = 0\n",
    "process.parameters.hydrogen_gas_ccs_share_2040 = 0\n",
    "process.parameters.hydrogen_gas_ccs_share_2050 = 0\n",
    "process.parameters.hydrogen_coal_ccs_share_2030 = 0\n",
    "process.parameters.hydrogen_coal_ccs_share_2040 = 0\n",
    "process.parameters.hydrogen_coal_ccs_share_2050 = 0\n",
    "process.parameters.hydrogen_gas_share_2030 = 0\n",
    "process.parameters.hydrogen_gas_share_2040 = 0\n",
    "process.parameters.hydrogen_gas_share_2050 = 0"
   ]
  },
  {
   "cell_type": "markdown",
   "metadata": {
    "slideshow": {
     "slide_type": "slide"
    }
   },
   "source": [
    "## Compute\n",
    "\n",
    "Once all the parameters have been set up, the user can compute."
   ]
  },
  {
   "cell_type": "code",
   "execution_count": 12,
   "metadata": {
    "slideshow": {
     "slide_type": "subslide"
    },
    "tags": []
   },
   "outputs": [
    {
     "ename": "TypeError",
     "evalue": "must be called with a dataclass type or instance",
     "output_type": "error",
     "traceback": [
      "\u001b[0;31m---------------------------------------------------------------------------\u001b[0m",
      "\u001b[0;31mAttributeError\u001b[0m                            Traceback (most recent call last)",
      "File \u001b[0;32m/opt/homebrew/Caskroom/miniforge/base/envs/AeroMAPS/lib/python3.8/dataclasses.py:1031\u001b[0m, in \u001b[0;36mfields\u001b[0;34m(class_or_instance)\u001b[0m\n\u001b[1;32m   1030\u001b[0m \u001b[38;5;28;01mtry\u001b[39;00m:\n\u001b[0;32m-> 1031\u001b[0m     fields \u001b[38;5;241m=\u001b[39m \u001b[38;5;28;43mgetattr\u001b[39;49m\u001b[43m(\u001b[49m\u001b[43mclass_or_instance\u001b[49m\u001b[43m,\u001b[49m\u001b[43m \u001b[49m\u001b[43m_FIELDS\u001b[49m\u001b[43m)\u001b[49m\n\u001b[1;32m   1032\u001b[0m \u001b[38;5;28;01mexcept\u001b[39;00m \u001b[38;5;167;01mAttributeError\u001b[39;00m:\n",
      "\u001b[0;31mAttributeError\u001b[0m: 'Parameters' object has no attribute '__dataclass_fields__'",
      "\nDuring handling of the above exception, another exception occurred:\n",
      "\u001b[0;31mTypeError\u001b[0m                                 Traceback (most recent call last)",
      "Cell \u001b[0;32mIn[12], line 1\u001b[0m\n\u001b[0;32m----> 1\u001b[0m \u001b[43mprocess\u001b[49m\u001b[38;5;241;43m.\u001b[39;49m\u001b[43mcompute\u001b[49m\u001b[43m(\u001b[49m\u001b[43m)\u001b[49m\n",
      "File \u001b[0;32m~/PycharmProjects/AeroMAPS/aeromaps/core/process.py:129\u001b[0m, in \u001b[0;36mAeromapsProcess.compute\u001b[0;34m(self)\u001b[0m\n\u001b[1;32m    126\u001b[0m     \u001b[38;5;28mself\u001b[39m\u001b[38;5;241m.\u001b[39mmodels[\u001b[38;5;124m\"\u001b[39m\u001b[38;5;124mnox_emission_index_complex\u001b[39m\u001b[38;5;124m\"\u001b[39m]\u001b[38;5;241m.\u001b[39mfleet_model \u001b[38;5;241m=\u001b[39m \u001b[38;5;28mself\u001b[39m\u001b[38;5;241m.\u001b[39mfleet_model\n\u001b[1;32m    127\u001b[0m     \u001b[38;5;28mself\u001b[39m\u001b[38;5;241m.\u001b[39mmodels[\u001b[38;5;124m\"\u001b[39m\u001b[38;5;124msoot_emission_index_complex\u001b[39m\u001b[38;5;124m\"\u001b[39m]\u001b[38;5;241m.\u001b[39mfleet_model \u001b[38;5;241m=\u001b[39m \u001b[38;5;28mself\u001b[39m\u001b[38;5;241m.\u001b[39mfleet_model\n\u001b[0;32m--> 129\u001b[0m input_data \u001b[38;5;241m=\u001b[39m \u001b[38;5;28;43mself\u001b[39;49m\u001b[38;5;241;43m.\u001b[39;49m\u001b[43m_set_inputs\u001b[49m\u001b[43m(\u001b[49m\u001b[43m)\u001b[49m\n\u001b[1;32m    131\u001b[0m \u001b[38;5;28;01mif\u001b[39;00m \u001b[38;5;28mself\u001b[39m\u001b[38;5;241m.\u001b[39mfleet \u001b[38;5;129;01mis\u001b[39;00m \u001b[38;5;129;01mnot\u001b[39;00m \u001b[38;5;28;01mNone\u001b[39;00m:\n\u001b[1;32m    132\u001b[0m     \u001b[38;5;66;03m# This is needed since fleet model is particular discipline\u001b[39;00m\n\u001b[1;32m    133\u001b[0m     input_data[\u001b[38;5;124m\"\u001b[39m\u001b[38;5;124mdummy_fleet_model_output\u001b[39m\u001b[38;5;124m\"\u001b[39m] \u001b[38;5;241m=\u001b[39m np\u001b[38;5;241m.\u001b[39mrandom\u001b[38;5;241m.\u001b[39mrand(\u001b[38;5;241m1\u001b[39m, \u001b[38;5;241m1\u001b[39m)\n",
      "File \u001b[0;32m~/PycharmProjects/AeroMAPS/aeromaps/core/process.py:182\u001b[0m, in \u001b[0;36mAeromapsProcess._set_inputs\u001b[0;34m(self)\u001b[0m\n\u001b[1;32m    179\u001b[0m \u001b[38;5;28;01mdef\u001b[39;00m \u001b[38;5;21m_set_inputs\u001b[39m(\u001b[38;5;28mself\u001b[39m):\n\u001b[1;32m    181\u001b[0m     all_inputs \u001b[38;5;241m=\u001b[39m {}\n\u001b[0;32m--> 182\u001b[0m     \u001b[38;5;28;43mself\u001b[39;49m\u001b[38;5;241;43m.\u001b[39;49m\u001b[43m_format_input_vectors\u001b[49m\u001b[43m(\u001b[49m\u001b[43m)\u001b[49m\n\u001b[1;32m    183\u001b[0m     \u001b[38;5;66;03m# TODO: make this more efficient\u001b[39;00m\n\u001b[1;32m    184\u001b[0m     \u001b[38;5;28;01mfor\u001b[39;00m disc \u001b[38;5;129;01min\u001b[39;00m \u001b[38;5;28mself\u001b[39m\u001b[38;5;241m.\u001b[39mdisciplines:\n",
      "File \u001b[0;32m~/PycharmProjects/AeroMAPS/aeromaps/core/process.py:193\u001b[0m, in \u001b[0;36mAeromapsProcess._format_input_vectors\u001b[0;34m(self)\u001b[0m\n\u001b[1;32m    192\u001b[0m \u001b[38;5;28;01mdef\u001b[39;00m \u001b[38;5;21m_format_input_vectors\u001b[39m(\u001b[38;5;28mself\u001b[39m):\n\u001b[0;32m--> 193\u001b[0m     \u001b[38;5;28;01mfor\u001b[39;00m field \u001b[38;5;129;01min\u001b[39;00m \u001b[43mfields\u001b[49m\u001b[43m(\u001b[49m\u001b[38;5;28;43mself\u001b[39;49m\u001b[38;5;241;43m.\u001b[39;49m\u001b[43mparameters\u001b[49m\u001b[43m)\u001b[49m:\n\u001b[1;32m    194\u001b[0m         field_name \u001b[38;5;241m=\u001b[39m field\u001b[38;5;241m.\u001b[39mname\n\u001b[1;32m    195\u001b[0m         field_value \u001b[38;5;241m=\u001b[39m \u001b[38;5;28mgetattr\u001b[39m(\u001b[38;5;28mself\u001b[39m\u001b[38;5;241m.\u001b[39mparameters, field_name)\n",
      "File \u001b[0;32m/opt/homebrew/Caskroom/miniforge/base/envs/AeroMAPS/lib/python3.8/dataclasses.py:1033\u001b[0m, in \u001b[0;36mfields\u001b[0;34m(class_or_instance)\u001b[0m\n\u001b[1;32m   1031\u001b[0m     fields \u001b[38;5;241m=\u001b[39m \u001b[38;5;28mgetattr\u001b[39m(class_or_instance, _FIELDS)\n\u001b[1;32m   1032\u001b[0m \u001b[38;5;28;01mexcept\u001b[39;00m \u001b[38;5;167;01mAttributeError\u001b[39;00m:\n\u001b[0;32m-> 1033\u001b[0m     \u001b[38;5;28;01mraise\u001b[39;00m \u001b[38;5;167;01mTypeError\u001b[39;00m(\u001b[38;5;124m'\u001b[39m\u001b[38;5;124mmust be called with a dataclass type or instance\u001b[39m\u001b[38;5;124m'\u001b[39m)\n\u001b[1;32m   1035\u001b[0m \u001b[38;5;66;03m# Exclude pseudo-fields.  Note that fields is sorted by insertion\u001b[39;00m\n\u001b[1;32m   1036\u001b[0m \u001b[38;5;66;03m# order, so the order of the tuple is as the fields were defined.\u001b[39;00m\n\u001b[1;32m   1037\u001b[0m \u001b[38;5;28;01mreturn\u001b[39;00m \u001b[38;5;28mtuple\u001b[39m(f \u001b[38;5;28;01mfor\u001b[39;00m f \u001b[38;5;129;01min\u001b[39;00m fields\u001b[38;5;241m.\u001b[39mvalues() \u001b[38;5;28;01mif\u001b[39;00m f\u001b[38;5;241m.\u001b[39m_field_type \u001b[38;5;129;01mis\u001b[39;00m _FIELD)\n",
      "\u001b[0;31mTypeError\u001b[0m: must be called with a dataclass type or instance"
     ]
    }
   ],
   "source": [
    "process.compute()"
   ]
  },
  {
   "cell_type": "markdown",
   "metadata": {},
   "source": [
    "## Results\n",
    "\n",
    "The user can then display the results. The user has access to float outputs but also to annual data outputs, with the possibility of choosing the output."
   ]
  },
  {
   "cell_type": "code",
   "execution_count": null,
   "metadata": {
    "tags": []
   },
   "outputs": [],
   "source": [
    "process.data[\"float_outputs\"]"
   ]
  },
  {
   "cell_type": "code",
   "execution_count": null,
   "metadata": {
    "tags": []
   },
   "outputs": [],
   "source": [
    "process.data[\"vector_outputs\"]"
   ]
  },
  {
   "cell_type": "code",
   "execution_count": null,
   "metadata": {
    "tags": []
   },
   "outputs": [],
   "source": [
    "process.data[\"vector_outputs\"][\"co2_emissions\"]"
   ]
  },
  {
   "cell_type": "markdown",
   "metadata": {},
   "source": [
    "The user can write the results to an Excel file with the following command."
   ]
  },
  {
   "cell_type": "code",
   "execution_count": null,
   "metadata": {
    "tags": []
   },
   "outputs": [],
   "source": [
    "process.write_excel(file_name=\"aeromaps_data.xlsx\")"
   ]
  },
  {
   "cell_type": "markdown",
   "metadata": {
    "slideshow": {
     "slide_type": "slide"
    }
   },
   "source": [
    "## Plots\n",
    "\n",
    "Lastly, the user can also plot different parameters based on a database of plots. The list of the available plots can be displayed using the following command."
   ]
  },
  {
   "cell_type": "code",
   "execution_count": null,
   "metadata": {
    "tags": []
   },
   "outputs": [],
   "source": [
    "process.list_available_plots()"
   ]
  },
  {
   "cell_type": "markdown",
   "metadata": {},
   "source": [
    "The user can thus display a figure of this list, for instance the CO<sub>2</sub> emissions of the simulated scenario."
   ]
  },
  {
   "cell_type": "code",
   "execution_count": null,
   "metadata": {
    "slideshow": {
     "slide_type": "subslide"
    },
    "tags": []
   },
   "outputs": [],
   "source": [
    "process.plot(\"air_transport_co2_emissions\", save=False)"
   ]
  },
  {
   "cell_type": "code",
   "execution_count": null,
   "metadata": {},
   "outputs": [],
   "source": []
  }
 ],
 "metadata": {
  "celltoolbar": "Diaporama",
  "kernelspec": {
   "display_name": "Python 3 (ipykernel)",
   "language": "python",
   "name": "python3"
  },
  "language_info": {
   "codemirror_mode": {
    "name": "ipython",
    "version": 3
   },
   "file_extension": ".py",
   "mimetype": "text/x-python",
   "name": "python",
   "nbconvert_exporter": "python",
   "pygments_lexer": "ipython3",
   "version": "3.8.16"
  }
 },
 "nbformat": 4,
 "nbformat_minor": 4
}
