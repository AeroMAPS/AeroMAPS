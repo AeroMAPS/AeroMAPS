{
 "cells": [
  {
   "cell_type": "markdown",
   "metadata": {},
   "source": [
    "# Basic example for using AeroMAPS with Jupyter Notebook\n",
    "\n",
    "This document represents both an example and a tutorial for using the basic functions of AeroMAPS to simulate and evaluate a transition scenario for the aviation sector.  It is written in the form of a Jupyter Notebook to facilitate its use. The user will be able to adapt this notebook and couple it with other notebooks proposed in the documentation."
   ]
  },
  {
   "cell_type": "markdown",
   "metadata": {
    "slideshow": {
     "slide_type": "slide"
    }
   },
   "source": [
    "## Load and process\n",
    "\n",
    "First, the user has to load the framework and generate a process."
   ]
  },
  {
   "cell_type": "code",
   "execution_count": 1,
   "metadata": {
    "slideshow": {
     "slide_type": "subslide"
    },
    "tags": []
   },
   "outputs": [],
   "source": [
    "%matplotlib widget\n",
    "from aeromaps.core.process import AeromapsProcess\n",
    "from aeromaps.core.models import models_simple"
   ]
  },
  {
   "cell_type": "code",
   "execution_count": 2,
   "metadata": {
    "slideshow": {
     "slide_type": "subslide"
    },
    "tags": []
   },
   "outputs": [],
   "source": [
    "process = AeromapsProcess(read_json=True, models=models_simple, fleet=False)"
   ]
  },
  {
   "cell_type": "markdown",
   "metadata": {
    "slideshow": {
     "slide_type": "slide"
    }
   },
   "source": [
    "## Set up variables\n",
    "\n",
    "The user can then set the different parameters of the model to generate its scenario. The list of the float inputs can be displayed using this command."
   ]
  },
  {
   "cell_type": "code",
   "execution_count": 3,
   "metadata": {
    "tags": []
   },
   "outputs": [],
   "source": [
    "# process.list_float_inputs()"
   ]
  },
  {
   "cell_type": "markdown",
   "metadata": {},
   "source": [
    " In the following, some main parameters are for instance set up."
   ]
  },
  {
   "cell_type": "code",
   "execution_count": 4,
   "metadata": {
    "slideshow": {
     "slide_type": "subslide"
    },
    "tags": []
   },
   "outputs": [],
   "source": [
    "# Air traffic evolution\n",
    "\n",
    "## Growth rate by category and decade [%]\n",
    "process.parameters.growth_rate_2020_2030_short_range = 3\n",
    "process.parameters.growth_rate_2030_2040_short_range = 3\n",
    "process.parameters.growth_rate_2040_2050_short_range = 3\n",
    "process.parameters.growth_rate_2020_2030_medium_range = 3\n",
    "process.parameters.growth_rate_2030_2040_medium_range = 3\n",
    "process.parameters.growth_rate_2040_2050_medium_range = 3\n",
    "process.parameters.growth_rate_2020_2030_long_range = 3\n",
    "process.parameters.growth_rate_2030_2040_long_range = 3\n",
    "process.parameters.growth_rate_2040_2050_long_range = 3\n",
    "process.parameters.growth_rate_2020_2030_freight = 3\n",
    "process.parameters.growth_rate_2030_2040_freight = 3\n",
    "process.parameters.growth_rate_2040_2050_freight = 3"
   ]
  },
  {
   "cell_type": "code",
   "execution_count": 5,
   "metadata": {
    "slideshow": {
     "slide_type": "subslide"
    },
    "tags": []
   },
   "outputs": [],
   "source": [
    "# Aircraft fleet and operation evolution - Aircraft load factor\n",
    "\n",
    "## Aircraft load factor in 2050 [%]\n",
    "process.parameters.load_factor_end_year = 89  # 2019 value: 82.399312"
   ]
  },
  {
   "cell_type": "code",
   "execution_count": 6,
   "metadata": {
    "slideshow": {
     "slide_type": "subslide"
    },
    "tags": []
   },
   "outputs": [],
   "source": [
    "# Aircraft fleet and operation evolution - Aircraft efficiency using the top-down approach\n",
    "\n",
    "## Drop-in aircraft\n",
    "### Mean annual efficiency gains by category [%]\n",
    "process.parameters.energy_per_ask_short_range_dropin_fuel_gain = 1.3\n",
    "process.parameters.energy_per_ask_medium_range_dropin_fuel_gain = 1.3\n",
    "process.parameters.energy_per_ask_long_range_dropin_fuel_gain = 1.3\n",
    "\n"
   ]
  },
  {
   "cell_type": "code",
   "execution_count": 7,
   "metadata": {
    "slideshow": {
     "slide_type": "subslide"
    },
    "tags": []
   },
   "outputs": [],
   "source": [
    "# Aircraft fleet and operation evolution - Operations\n",
    "\n",
    "## Values for setting the logistic function\n",
    "process.parameters.operations_final_gain = 8.0  # [%]\n",
    "process.parameters.operations_start_year = 2025\n",
    "process.parameters.operations_duration = 25.0"
   ]
  },
  {
   "cell_type": "code",
   "execution_count": 8,
   "metadata": {
    "slideshow": {
     "slide_type": "subslide"
    },
    "tags": []
   },
   "outputs": [],
   "source": [
    "# Environmental limits\n",
    "\n",
    "## Carbon budgets and Carbon Dioxide Removal [GtCO2]\n",
    "process.parameters.net_carbon_budget = 850.0\n",
    "process.parameters.carbon_dioxyde_removal_2100 = 280.0\n",
    "\n",
    "## Available energy resources in 2050 [EJ]\n",
    "process.parameters.waste_biomass = 12\n",
    "process.parameters.crops_biomass = 63\n",
    "process.parameters.forest_residues_biomass = 17\n",
    "process.parameters.agricultural_residues_biomass = 57\n",
    "process.parameters.algae_biomass = 15\n",
    "process.parameters.available_electricity = 250.0"
   ]
  },
  {
   "cell_type": "code",
   "execution_count": 9,
   "metadata": {
    "slideshow": {
     "slide_type": "subslide"
    },
    "tags": []
   },
   "outputs": [],
   "source": [
    "# Allocation settings\n",
    "\n",
    "## Aviation share of the global (equivalent) carbon budget [%]\n",
    "process.parameters.aviation_carbon_budget_allocated_share = 2.6\n",
    "process.parameters.aviation_equivalentcarbonbudget_allocated_share = 5.1\n",
    "\n"
   ]
  },
  {
   "cell_type": "code",
   "execution_count": 10,
   "metadata": {
    "tags": []
   },
   "outputs": [],
   "source": [
    "# CO2 prices\n",
    "\n",
    "process.parameters.co2_tax_2020=54\n",
    "process.parameters.co2_tax_2030=250\n",
    "process.parameters.co2_tax_2040=500\n",
    "process.parameters.co2_tax_2050=700"
   ]
  },
  {
   "cell_type": "markdown",
   "metadata": {},
   "source": [
    "## Energy business as usual"
   ]
  },
  {
   "cell_type": "code",
   "execution_count": 11,
   "metadata": {
    "tags": []
   },
   "outputs": [],
   "source": [
    "process.parameters.biofuel_share_2030 = 0\n",
    "process.parameters.biofuel_share_2040 = 0\n",
    "process.parameters.biofuel_share_2050 = 0\n",
    "process.parameters.electrofuel_share_2030 = 0\n",
    "process.parameters.electrofuel_share_2040 = 0\n",
    "process.parameters.electrofuel_share_2050 = 0"
   ]
  },
  {
   "cell_type": "code",
   "execution_count": 12,
   "metadata": {
    "tags": []
   },
   "outputs": [],
   "source": [
    "# process.compute()"
   ]
  },
  {
   "cell_type": "code",
   "execution_count": 13,
   "metadata": {
    "tags": []
   },
   "outputs": [],
   "source": [
    "# undiscounted_BAU=process.data['vector_outputs'].non_discounted_energy_expenses\n",
    "# dicounted_BAU=process.data['vector_outputs'].discounted_energy_expenses"
   ]
  },
  {
   "cell_type": "code",
   "execution_count": 14,
   "metadata": {
    "tags": []
   },
   "outputs": [],
   "source": [
    "# process.plot('energy_mfsp')"
   ]
  },
  {
   "cell_type": "markdown",
   "metadata": {},
   "source": [
    "## Refuel EU like"
   ]
  },
  {
   "cell_type": "code",
   "execution_count": 15,
   "metadata": {
    "tags": []
   },
   "outputs": [],
   "source": [
    "## Hydrogen aircraft\n",
    "### Values for setting logistic functions by category\n",
    "process.parameters.hydrogen_final_market_share_short_range = 50.0  # [%]\n",
    "process.parameters.hydrogen_introduction_year_short_range = 2035\n",
    "process.parameters.fleet_renewal_duration = 20.0\n",
    "### Relative energy consumption for hydrogen aircraft with respect to drop-in aircraft [%]\n",
    "process.parameters.relative_energy_per_ask_hydrogen_wrt_dropin_short_range = 1.0"
   ]
  },
  {
   "cell_type": "code",
   "execution_count": 16,
   "metadata": {
    "slideshow": {
     "slide_type": "subslide"
    },
    "tags": []
   },
   "outputs": [],
   "source": [
    "# Aircraft energy - Introduction of alternative drop-in fuels\n",
    "\n",
    "## Share of alternative fuels in the drop-in fuel mix by decade (the rest being supplemented by kerosene) [%]\n",
    "\n",
    "# REFUELEU LIKE\n",
    "\n",
    "process.parameters.biofuel_share_2030 = 4.8\n",
    "process.parameters.biofuel_share_2040 = 24.0\n",
    "process.parameters.biofuel_share_2050 = 35.0\n",
    "process.parameters.electrofuel_share_2030 = 1.2\n",
    "process.parameters.electrofuel_share_2040 = 10.0\n",
    "process.parameters.electrofuel_share_2050 = 35.0\n",
    "\n"
   ]
  },
  {
   "cell_type": "code",
   "execution_count": 17,
   "metadata": {
    "slideshow": {
     "slide_type": "subslide"
    },
    "tags": []
   },
   "outputs": [],
   "source": [
    "# Various environmental settings\n",
    "\n",
    "## Share of biofuel production pathways by decade (the rest being completed by AtJ processes) [%]\n",
    "# REFUELEU LIKE\n",
    "process.parameters.biofuel_hefa_fog_share_2030 = 0.7\n",
    "process.parameters.biofuel_hefa_fog_share_2040 = 0.7\n",
    "process.parameters.biofuel_hefa_fog_share_2050 = 0.7\n",
    "process.parameters.biofuel_hefa_others_share_2030 = 3.8\n",
    "process.parameters.biofuel_hefa_others_share_2040 = 3.8\n",
    "process.parameters.biofuel_hefa_others_share_2050 = 3.8\n",
    "process.parameters.biofuel_ft_others_share_2030 = 76.3\n",
    "process.parameters.biofuel_ft_others_share_2040 = 76.3\n",
    "process.parameters.biofuel_ft_others_share_2050 = 76.3\n",
    "process.parameters.biofuel_ft_msw_share_2030 = 7.4\n",
    "process.parameters.biofuel_ft_msw_share_2040 = 7.4\n",
    "process.parameters.biofuel_ft_msw_share_2050 = 7.4\n",
    "\n",
    "\n",
    "## Emission factors for electricity by decade (2019 value: 429 gCO2/kWh)\n",
    "process.parameters.electricity_emission_factor_2020 = 429\n",
    "process.parameters.electricity_emission_factor_2030 = 200\n",
    "process.parameters.electricity_emission_factor_2040 = 100\n",
    "process.parameters.electricity_emission_factor_2050 = 30\n",
    "\n",
    "## Share of hydrogen production pathways by decade (the rest being completed by production via coal without CCS) [%]\n",
    "## Distribution in 2019: Gas without CCS (71%), Coal without CCS (27%), Electrolysis (2%), Others with CCS (0%), Co-products not taken into account\n",
    "process.parameters.hydrogen_electrolysis_share_2030 = 0\n",
    "process.parameters.hydrogen_electrolysis_share_2040 = 0\n",
    "process.parameters.hydrogen_electrolysis_share_2050 = 100\n",
    "process.parameters.hydrogen_gas_ccs_share_2030 = 20\n",
    "process.parameters.hydrogen_gas_ccs_share_2040 = 80\n",
    "process.parameters.hydrogen_gas_ccs_share_2050 = 0\n",
    "process.parameters.hydrogen_coal_ccs_share_2030 = 10\n",
    "process.parameters.hydrogen_coal_ccs_share_2040 = 10\n",
    "process.parameters.hydrogen_coal_ccs_share_2050 = 0\n",
    "process.parameters.hydrogen_gas_share_2030 = 70\n",
    "process.parameters.hydrogen_gas_share_2040 = 10\n",
    "process.parameters.hydrogen_gas_share_2050 = 0"
   ]
  },
  {
   "cell_type": "code",
   "execution_count": 18,
   "metadata": {
    "tags": []
   },
   "outputs": [],
   "source": [
    "#specific setup to 16% for mACC curve\n",
    "\n",
    "process.parameters.aviation_biomass_allocated_share = 10\n",
    "process.parameters.aviation_electricity_allocated_share = 10"
   ]
  },
  {
   "cell_type": "code",
   "execution_count": 19,
   "metadata": {
    "tags": []
   },
   "outputs": [
    {
     "name": "stdout",
     "output_type": "stream",
     "text": [
      "wtf\n"
     ]
    }
   ],
   "source": [
    "process.compute()\n",
    "undiscounted_refueleu=process.data['vector_outputs'].non_discounted_energy_expenses\n",
    "dicounted_refueleu=process.data['vector_outputs'].discounted_energy_expenses"
   ]
  },
  {
   "cell_type": "code",
   "execution_count": 20,
   "metadata": {
    "tags": []
   },
   "outputs": [
    {
     "data": {
      "text/plain": [
       "2000              NaN\n",
       "2001              NaN\n",
       "2002              NaN\n",
       "2003              NaN\n",
       "2004              NaN\n",
       "2005              NaN\n",
       "2006              NaN\n",
       "2007              NaN\n",
       "2008              NaN\n",
       "2009              NaN\n",
       "2010              NaN\n",
       "2011              NaN\n",
       "2012              NaN\n",
       "2013              NaN\n",
       "2014              NaN\n",
       "2015              NaN\n",
       "2016              NaN\n",
       "2017              NaN\n",
       "2018              NaN\n",
       "2019              NaN\n",
       "2020     80194.301574\n",
       "2021     72019.199551\n",
       "2022     93933.383912\n",
       "2023    115103.718621\n",
       "2024    135559.211570\n",
       "2025    137374.201375\n",
       "2026    140361.964676\n",
       "2027    145814.879766\n",
       "2028    152760.897785\n",
       "2029    161089.409136\n",
       "2030    170881.654467\n",
       "2031    181604.573640\n",
       "2032    193601.006231\n",
       "2033    206876.456940\n",
       "2034    221436.174981\n",
       "2035    238354.196211\n",
       "2036    256178.966451\n",
       "2037    275951.990877\n",
       "2038    297820.365995\n",
       "2039    321961.598757\n",
       "2040    348560.221370\n",
       "2041    378802.949912\n",
       "2042    412521.769353\n",
       "2043    449977.552538\n",
       "2044    491274.538076\n",
       "2045    536315.469635\n",
       "2046    584826.702485\n",
       "2047    636459.466484\n",
       "2048    690918.844391\n",
       "2049    748053.154440\n",
       "2050    807872.681015\n",
       "Name: non_discounted_energy_expenses, dtype: float64"
      ]
     },
     "execution_count": 20,
     "metadata": {},
     "output_type": "execute_result"
    }
   ],
   "source": [
    "process.data['vector_outputs'].loc[:,'non_discounted_energy_expenses']"
   ]
  },
  {
   "cell_type": "code",
   "execution_count": 21,
   "metadata": {
    "tags": []
   },
   "outputs": [
    {
     "ename": "ValueError",
     "evalue": "Invalid color 00BBE0",
     "output_type": "error",
     "traceback": [
      "\u001b[1;31m---------------------------------------------------------------------------\u001b[0m",
      "\u001b[1;31mValueError\u001b[0m                                Traceback (most recent call last)",
      "Cell \u001b[1;32mIn[21], line 1\u001b[0m\n\u001b[1;32m----> 1\u001b[0m \u001b[43mprocess\u001b[49m\u001b[38;5;241;43m.\u001b[39;49m\u001b[43mplot\u001b[49m\u001b[43m(\u001b[49m\u001b[38;5;124;43m'\u001b[39;49m\u001b[38;5;124;43menergy_capex\u001b[39;49m\u001b[38;5;124;43m'\u001b[39;49m\u001b[43m)\u001b[49m\n",
      "File \u001b[1;32m~\\PycharmProjects\\AeroMAPS\\aeromaps\\core\\process.py:139\u001b[0m, in \u001b[0;36mAeromapsProcess.plot\u001b[1;34m(self, name)\u001b[0m\n\u001b[0;32m    136\u001b[0m \u001b[38;5;28;01mdef\u001b[39;00m \u001b[38;5;21mplot\u001b[39m(\u001b[38;5;28mself\u001b[39m, name):\n\u001b[0;32m    138\u001b[0m     \u001b[38;5;28;01mif\u001b[39;00m name \u001b[38;5;129;01min\u001b[39;00m available_plots:\n\u001b[1;32m--> 139\u001b[0m         fig \u001b[38;5;241m=\u001b[39m \u001b[43mavailable_plots\u001b[49m\u001b[43m[\u001b[49m\u001b[43mname\u001b[49m\u001b[43m]\u001b[49m\u001b[43m(\u001b[49m\u001b[38;5;28;43mself\u001b[39;49m\u001b[38;5;241;43m.\u001b[39;49m\u001b[43mdata\u001b[49m\u001b[43m)\u001b[49m\n\u001b[0;32m    140\u001b[0m     \u001b[38;5;28;01melse\u001b[39;00m:\n\u001b[0;32m    141\u001b[0m         \u001b[38;5;28;01mraise\u001b[39;00m \u001b[38;5;167;01mNameError\u001b[39;00m(\n\u001b[0;32m    142\u001b[0m             \u001b[38;5;124mf\u001b[39m\u001b[38;5;124m\"\u001b[39m\u001b[38;5;124mPlot \u001b[39m\u001b[38;5;132;01m{\u001b[39;00mname\u001b[38;5;132;01m}\u001b[39;00m\u001b[38;5;124m is not available. List of available plots: \u001b[39m\u001b[38;5;132;01m{\u001b[39;00m\u001b[38;5;28mlist\u001b[39m(available_plots\u001b[38;5;241m.\u001b[39mkeys())\u001b[38;5;132;01m}\u001b[39;00m\u001b[38;5;124m\"\u001b[39m\n\u001b[0;32m    143\u001b[0m         )\n",
      "File \u001b[1;32m~\\PycharmProjects\\AeroMAPS\\aeromaps\\plots\\costs.py:23\u001b[0m, in \u001b[0;36mScenarioEnergyCapitalPlot.__init__\u001b[1;34m(self, data)\u001b[0m\n\u001b[0;32m     18\u001b[0m \u001b[38;5;28mself\u001b[39m\u001b[38;5;241m.\u001b[39mprospective_years \u001b[38;5;241m=\u001b[39m data[\u001b[38;5;124m\"\u001b[39m\u001b[38;5;124myears\u001b[39m\u001b[38;5;124m\"\u001b[39m][\u001b[38;5;124m\"\u001b[39m\u001b[38;5;124mprospective_years\u001b[39m\u001b[38;5;124m\"\u001b[39m]\n\u001b[0;32m     20\u001b[0m \u001b[38;5;28mself\u001b[39m\u001b[38;5;241m.\u001b[39mfig, \u001b[38;5;28mself\u001b[39m\u001b[38;5;241m.\u001b[39max \u001b[38;5;241m=\u001b[39m plt\u001b[38;5;241m.\u001b[39msubplots(\n\u001b[0;32m     21\u001b[0m     figsize\u001b[38;5;241m=\u001b[39m(plot_3_x, plot_3_y),\n\u001b[0;32m     22\u001b[0m )\n\u001b[1;32m---> 23\u001b[0m \u001b[38;5;28;43mself\u001b[39;49m\u001b[38;5;241;43m.\u001b[39;49m\u001b[43mcreate_plot\u001b[49m\u001b[43m(\u001b[49m\u001b[43m)\u001b[49m\n",
      "File \u001b[1;32m~\\PycharmProjects\\AeroMAPS\\aeromaps\\plots\\costs.py:47\u001b[0m, in \u001b[0;36mScenarioEnergyCapitalPlot.create_plot\u001b[1;34m(self)\u001b[0m\n\u001b[0;32m     27\u001b[0m colors \u001b[38;5;241m=\u001b[39m [\u001b[38;5;124m'\u001b[39m\u001b[38;5;124m#ee9b00\u001b[39m\u001b[38;5;124m'\u001b[39m, \u001b[38;5;124m'\u001b[39m\u001b[38;5;124m#ffbf47\u001b[39m\u001b[38;5;124m'\u001b[39m,\n\u001b[0;32m     28\u001b[0m           \u001b[38;5;124m'\u001b[39m\u001b[38;5;124m#bb3e03\u001b[39m\u001b[38;5;124m'\u001b[39m, \u001b[38;5;124m'\u001b[39m\u001b[38;5;124m#0c9e30\u001b[39m\u001b[38;5;124m'\u001b[39m, \u001b[38;5;124m'\u001b[39m\u001b[38;5;124m#097223\u001b[39m\u001b[38;5;124m'\u001b[39m,\n\u001b[0;32m     29\u001b[0m           \u001b[38;5;124m'\u001b[39m\u001b[38;5;124m#828782\u001b[39m\u001b[38;5;124m'\u001b[39m,  \u001b[38;5;124m'\u001b[39m\u001b[38;5;124m#52F752\u001b[39m\u001b[38;5;124m'\u001b[39m,  \u001b[38;5;124m'\u001b[39m\u001b[38;5;124m#0ABAFF\u001b[39m\u001b[38;5;124m'\u001b[39m,\n\u001b[0;32m     30\u001b[0m           \u001b[38;5;124m'\u001b[39m\u001b[38;5;124m#8CAAB6\u001b[39m\u001b[38;5;124m'\u001b[39m, \u001b[38;5;124m'\u001b[39m\u001b[38;5;124m#0ABAFF\u001b[39m\u001b[38;5;124m'\u001b[39m, \u001b[38;5;124m'\u001b[39m\u001b[38;5;124m#8CAAB6\u001b[39m\u001b[38;5;124m'\u001b[39m, \u001b[38;5;124m'\u001b[39m\u001b[38;5;124m00BBE0\u001b[39m\u001b[38;5;124m'\u001b[39m\n\u001b[0;32m     31\u001b[0m           ]\n\u001b[0;32m     33\u001b[0m columns \u001b[38;5;241m=\u001b[39m [\u001b[38;5;124m'\u001b[39m\u001b[38;5;124mplant_building_cost_hefa_fog\u001b[39m\u001b[38;5;124m'\u001b[39m,\n\u001b[0;32m     34\u001b[0m            \u001b[38;5;124m'\u001b[39m\u001b[38;5;124mplant_building_cost_hefa_others\u001b[39m\u001b[38;5;124m'\u001b[39m,\n\u001b[0;32m     35\u001b[0m            \u001b[38;5;124m'\u001b[39m\u001b[38;5;124mplant_building_cost_atj\u001b[39m\u001b[38;5;124m'\u001b[39m,\n\u001b[1;32m   (...)\u001b[0m\n\u001b[0;32m     44\u001b[0m            \u001b[38;5;124m'\u001b[39m\u001b[38;5;124mliquefaction_plant_building_cost\u001b[39m\u001b[38;5;124m'\u001b[39m,\n\u001b[0;32m     45\u001b[0m            ]\n\u001b[1;32m---> 47\u001b[0m \u001b[38;5;28mself\u001b[39m\u001b[38;5;241m.\u001b[39mbar_annual_investment \u001b[38;5;241m=\u001b[39m (\u001b[38;5;28;43mself\u001b[39;49m\u001b[38;5;241;43m.\u001b[39;49m\u001b[43mdf\u001b[49m\u001b[38;5;241;43m.\u001b[39;49m\u001b[43mloc\u001b[49m\u001b[43m[\u001b[49m\u001b[38;5;28;43mself\u001b[39;49m\u001b[38;5;241;43m.\u001b[39;49m\u001b[43mprospective_years\u001b[49m\u001b[43m,\u001b[49m\u001b[43m \u001b[49m\u001b[43mcolumns\u001b[49m\u001b[43m]\u001b[49m\u001b[38;5;241;43m.\u001b[39;49m\u001b[43mplot\u001b[49m\u001b[38;5;241;43m.\u001b[39;49m\u001b[43mbar\u001b[49m\u001b[43m(\u001b[49m\n\u001b[0;32m     48\u001b[0m \u001b[43m    \u001b[49m\u001b[43mstacked\u001b[49m\u001b[38;5;241;43m=\u001b[39;49m\u001b[38;5;28;43;01mTrue\u001b[39;49;00m\u001b[43m,\u001b[49m\n\u001b[0;32m     49\u001b[0m \u001b[43m    \u001b[49m\u001b[43mwidth\u001b[49m\u001b[38;5;241;43m=\u001b[39;49m\u001b[38;5;241;43m0.8\u001b[39;49m\u001b[43m,\u001b[49m\n\u001b[0;32m     50\u001b[0m \u001b[43m    \u001b[49m\u001b[43max\u001b[49m\u001b[38;5;241;43m=\u001b[39;49m\u001b[38;5;28;43mself\u001b[39;49m\u001b[38;5;241;43m.\u001b[39;49m\u001b[43max\u001b[49m\u001b[43m,\u001b[49m\n\u001b[0;32m     51\u001b[0m \u001b[43m    \u001b[49m\u001b[43mcolor\u001b[49m\u001b[38;5;241;43m=\u001b[39;49m\u001b[43mcolors\u001b[49m\u001b[43m)\u001b[49m)\n\u001b[0;32m     53\u001b[0m \u001b[38;5;28mself\u001b[39m\u001b[38;5;241m.\u001b[39max\u001b[38;5;241m.\u001b[39mgrid(axis\u001b[38;5;241m=\u001b[39m\u001b[38;5;124m'\u001b[39m\u001b[38;5;124my\u001b[39m\u001b[38;5;124m'\u001b[39m)\n\u001b[0;32m     54\u001b[0m \u001b[38;5;28mself\u001b[39m\u001b[38;5;241m.\u001b[39max\u001b[38;5;241m.\u001b[39mset_title(\u001b[38;5;124m\"\u001b[39m\u001b[38;5;124mAnnual investment per pathway (w/o fossil)\u001b[39m\u001b[38;5;124m\"\u001b[39m)\n",
      "File \u001b[1;32m~\\AppData\\Local\\miniconda3\\envs\\AeroMAPS_prod_env\\lib\\site-packages\\pandas\\plotting\\_core.py:1159\u001b[0m, in \u001b[0;36mPlotAccessor.bar\u001b[1;34m(self, x, y, **kwargs)\u001b[0m\n\u001b[0;32m   1071\u001b[0m \u001b[38;5;129m@Appender\u001b[39m(\n\u001b[0;32m   1072\u001b[0m \u001b[38;5;250m    \u001b[39m\u001b[38;5;124;03m\"\"\"\u001b[39;00m\n\u001b[0;32m   1073\u001b[0m \u001b[38;5;124;03m    See Also\u001b[39;00m\n\u001b[1;32m   (...)\u001b[0m\n\u001b[0;32m   1148\u001b[0m \u001b[38;5;129m@Appender\u001b[39m(_bar_or_line_doc)\n\u001b[0;32m   1149\u001b[0m \u001b[38;5;28;01mdef\u001b[39;00m \u001b[38;5;21mbar\u001b[39m(\u001b[38;5;28mself\u001b[39m, x\u001b[38;5;241m=\u001b[39m\u001b[38;5;28;01mNone\u001b[39;00m, y\u001b[38;5;241m=\u001b[39m\u001b[38;5;28;01mNone\u001b[39;00m, \u001b[38;5;241m*\u001b[39m\u001b[38;5;241m*\u001b[39mkwargs) \u001b[38;5;241m-\u001b[39m\u001b[38;5;241m>\u001b[39m PlotAccessor:\n\u001b[0;32m   1150\u001b[0m \u001b[38;5;250m    \u001b[39m\u001b[38;5;124;03m\"\"\"\u001b[39;00m\n\u001b[0;32m   1151\u001b[0m \u001b[38;5;124;03m    Vertical bar plot.\u001b[39;00m\n\u001b[0;32m   1152\u001b[0m \n\u001b[1;32m   (...)\u001b[0m\n\u001b[0;32m   1157\u001b[0m \u001b[38;5;124;03m    other axis represents a measured value.\u001b[39;00m\n\u001b[0;32m   1158\u001b[0m \u001b[38;5;124;03m    \"\"\"\u001b[39;00m\n\u001b[1;32m-> 1159\u001b[0m     \u001b[38;5;28;01mreturn\u001b[39;00m \u001b[38;5;28;43mself\u001b[39;49m\u001b[43m(\u001b[49m\u001b[43mkind\u001b[49m\u001b[38;5;241;43m=\u001b[39;49m\u001b[38;5;124;43m\"\u001b[39;49m\u001b[38;5;124;43mbar\u001b[39;49m\u001b[38;5;124;43m\"\u001b[39;49m\u001b[43m,\u001b[49m\u001b[43m \u001b[49m\u001b[43mx\u001b[49m\u001b[38;5;241;43m=\u001b[39;49m\u001b[43mx\u001b[49m\u001b[43m,\u001b[49m\u001b[43m \u001b[49m\u001b[43my\u001b[49m\u001b[38;5;241;43m=\u001b[39;49m\u001b[43my\u001b[49m\u001b[43m,\u001b[49m\u001b[43m \u001b[49m\u001b[38;5;241;43m*\u001b[39;49m\u001b[38;5;241;43m*\u001b[39;49m\u001b[43mkwargs\u001b[49m\u001b[43m)\u001b[49m\n",
      "File \u001b[1;32m~\\AppData\\Local\\miniconda3\\envs\\AeroMAPS_prod_env\\lib\\site-packages\\pandas\\plotting\\_core.py:1000\u001b[0m, in \u001b[0;36mPlotAccessor.__call__\u001b[1;34m(self, *args, **kwargs)\u001b[0m\n\u001b[0;32m    997\u001b[0m             label_name \u001b[38;5;241m=\u001b[39m label_kw \u001b[38;5;129;01mor\u001b[39;00m data\u001b[38;5;241m.\u001b[39mcolumns\n\u001b[0;32m    998\u001b[0m             data\u001b[38;5;241m.\u001b[39mcolumns \u001b[38;5;241m=\u001b[39m label_name\n\u001b[1;32m-> 1000\u001b[0m \u001b[38;5;28;01mreturn\u001b[39;00m \u001b[43mplot_backend\u001b[49m\u001b[38;5;241;43m.\u001b[39;49m\u001b[43mplot\u001b[49m\u001b[43m(\u001b[49m\u001b[43mdata\u001b[49m\u001b[43m,\u001b[49m\u001b[43m \u001b[49m\u001b[43mkind\u001b[49m\u001b[38;5;241;43m=\u001b[39;49m\u001b[43mkind\u001b[49m\u001b[43m,\u001b[49m\u001b[43m \u001b[49m\u001b[38;5;241;43m*\u001b[39;49m\u001b[38;5;241;43m*\u001b[39;49m\u001b[43mkwargs\u001b[49m\u001b[43m)\u001b[49m\n",
      "File \u001b[1;32m~\\AppData\\Local\\miniconda3\\envs\\AeroMAPS_prod_env\\lib\\site-packages\\pandas\\plotting\\_matplotlib\\__init__.py:71\u001b[0m, in \u001b[0;36mplot\u001b[1;34m(data, kind, **kwargs)\u001b[0m\n\u001b[0;32m     69\u001b[0m         kwargs[\u001b[38;5;124m\"\u001b[39m\u001b[38;5;124max\u001b[39m\u001b[38;5;124m\"\u001b[39m] \u001b[38;5;241m=\u001b[39m \u001b[38;5;28mgetattr\u001b[39m(ax, \u001b[38;5;124m\"\u001b[39m\u001b[38;5;124mleft_ax\u001b[39m\u001b[38;5;124m\"\u001b[39m, ax)\n\u001b[0;32m     70\u001b[0m plot_obj \u001b[38;5;241m=\u001b[39m PLOT_CLASSES[kind](data, \u001b[38;5;241m*\u001b[39m\u001b[38;5;241m*\u001b[39mkwargs)\n\u001b[1;32m---> 71\u001b[0m \u001b[43mplot_obj\u001b[49m\u001b[38;5;241;43m.\u001b[39;49m\u001b[43mgenerate\u001b[49m\u001b[43m(\u001b[49m\u001b[43m)\u001b[49m\n\u001b[0;32m     72\u001b[0m plot_obj\u001b[38;5;241m.\u001b[39mdraw()\n\u001b[0;32m     73\u001b[0m \u001b[38;5;28;01mreturn\u001b[39;00m plot_obj\u001b[38;5;241m.\u001b[39mresult\n",
      "File \u001b[1;32m~\\AppData\\Local\\miniconda3\\envs\\AeroMAPS_prod_env\\lib\\site-packages\\pandas\\plotting\\_matplotlib\\core.py:452\u001b[0m, in \u001b[0;36mMPLPlot.generate\u001b[1;34m(self)\u001b[0m\n\u001b[0;32m    450\u001b[0m \u001b[38;5;28mself\u001b[39m\u001b[38;5;241m.\u001b[39m_compute_plot_data()\n\u001b[0;32m    451\u001b[0m \u001b[38;5;28mself\u001b[39m\u001b[38;5;241m.\u001b[39m_setup_subplots()\n\u001b[1;32m--> 452\u001b[0m \u001b[38;5;28;43mself\u001b[39;49m\u001b[38;5;241;43m.\u001b[39;49m\u001b[43m_make_plot\u001b[49m\u001b[43m(\u001b[49m\u001b[43m)\u001b[49m\n\u001b[0;32m    453\u001b[0m \u001b[38;5;28mself\u001b[39m\u001b[38;5;241m.\u001b[39m_add_table()\n\u001b[0;32m    454\u001b[0m \u001b[38;5;28mself\u001b[39m\u001b[38;5;241m.\u001b[39m_make_legend()\n",
      "File \u001b[1;32m~\\AppData\\Local\\miniconda3\\envs\\AeroMAPS_prod_env\\lib\\site-packages\\pandas\\plotting\\_matplotlib\\core.py:1660\u001b[0m, in \u001b[0;36mBarPlot._make_plot\u001b[1;34m(self)\u001b[0m\n\u001b[0;32m   1657\u001b[0m \u001b[38;5;28;01mdef\u001b[39;00m \u001b[38;5;21m_make_plot\u001b[39m(\u001b[38;5;28mself\u001b[39m):\n\u001b[0;32m   1658\u001b[0m     \u001b[38;5;28;01mimport\u001b[39;00m \u001b[38;5;21;01mmatplotlib\u001b[39;00m \u001b[38;5;28;01mas\u001b[39;00m \u001b[38;5;21;01mmpl\u001b[39;00m\n\u001b[1;32m-> 1660\u001b[0m     colors \u001b[38;5;241m=\u001b[39m \u001b[38;5;28;43mself\u001b[39;49m\u001b[38;5;241;43m.\u001b[39;49m\u001b[43m_get_colors\u001b[49m\u001b[43m(\u001b[49m\u001b[43m)\u001b[49m\n\u001b[0;32m   1661\u001b[0m     ncolors \u001b[38;5;241m=\u001b[39m \u001b[38;5;28mlen\u001b[39m(colors)\n\u001b[0;32m   1663\u001b[0m     pos_prior \u001b[38;5;241m=\u001b[39m neg_prior \u001b[38;5;241m=\u001b[39m np\u001b[38;5;241m.\u001b[39mzeros(\u001b[38;5;28mlen\u001b[39m(\u001b[38;5;28mself\u001b[39m\u001b[38;5;241m.\u001b[39mdata))\n",
      "File \u001b[1;32m~\\AppData\\Local\\miniconda3\\envs\\AeroMAPS_prod_env\\lib\\site-packages\\pandas\\plotting\\_matplotlib\\core.py:993\u001b[0m, in \u001b[0;36mMPLPlot._get_colors\u001b[1;34m(self, num_colors, color_kwds)\u001b[0m\n\u001b[0;32m    990\u001b[0m \u001b[38;5;28;01mif\u001b[39;00m num_colors \u001b[38;5;129;01mis\u001b[39;00m \u001b[38;5;28;01mNone\u001b[39;00m:\n\u001b[0;32m    991\u001b[0m     num_colors \u001b[38;5;241m=\u001b[39m \u001b[38;5;28mself\u001b[39m\u001b[38;5;241m.\u001b[39mnseries\n\u001b[1;32m--> 993\u001b[0m \u001b[38;5;28;01mreturn\u001b[39;00m \u001b[43mget_standard_colors\u001b[49m\u001b[43m(\u001b[49m\n\u001b[0;32m    994\u001b[0m \u001b[43m    \u001b[49m\u001b[43mnum_colors\u001b[49m\u001b[38;5;241;43m=\u001b[39;49m\u001b[43mnum_colors\u001b[49m\u001b[43m,\u001b[49m\n\u001b[0;32m    995\u001b[0m \u001b[43m    \u001b[49m\u001b[43mcolormap\u001b[49m\u001b[38;5;241;43m=\u001b[39;49m\u001b[38;5;28;43mself\u001b[39;49m\u001b[38;5;241;43m.\u001b[39;49m\u001b[43mcolormap\u001b[49m\u001b[43m,\u001b[49m\n\u001b[0;32m    996\u001b[0m \u001b[43m    \u001b[49m\u001b[43mcolor\u001b[49m\u001b[38;5;241;43m=\u001b[39;49m\u001b[38;5;28;43mself\u001b[39;49m\u001b[38;5;241;43m.\u001b[39;49m\u001b[43mkwds\u001b[49m\u001b[38;5;241;43m.\u001b[39;49m\u001b[43mget\u001b[49m\u001b[43m(\u001b[49m\u001b[43mcolor_kwds\u001b[49m\u001b[43m)\u001b[49m\u001b[43m,\u001b[49m\n\u001b[0;32m    997\u001b[0m \u001b[43m\u001b[49m\u001b[43m)\u001b[49m\n",
      "File \u001b[1;32m~\\AppData\\Local\\miniconda3\\envs\\AeroMAPS_prod_env\\lib\\site-packages\\pandas\\plotting\\_matplotlib\\style.py:75\u001b[0m, in \u001b[0;36mget_standard_colors\u001b[1;34m(num_colors, colormap, color_type, color)\u001b[0m\n\u001b[0;32m     72\u001b[0m \u001b[38;5;28;01mif\u001b[39;00m \u001b[38;5;28misinstance\u001b[39m(color, \u001b[38;5;28mdict\u001b[39m):\n\u001b[0;32m     73\u001b[0m     \u001b[38;5;28;01mreturn\u001b[39;00m color\n\u001b[1;32m---> 75\u001b[0m colors \u001b[38;5;241m=\u001b[39m \u001b[43m_derive_colors\u001b[49m\u001b[43m(\u001b[49m\n\u001b[0;32m     76\u001b[0m \u001b[43m    \u001b[49m\u001b[43mcolor\u001b[49m\u001b[38;5;241;43m=\u001b[39;49m\u001b[43mcolor\u001b[49m\u001b[43m,\u001b[49m\n\u001b[0;32m     77\u001b[0m \u001b[43m    \u001b[49m\u001b[43mcolormap\u001b[49m\u001b[38;5;241;43m=\u001b[39;49m\u001b[43mcolormap\u001b[49m\u001b[43m,\u001b[49m\n\u001b[0;32m     78\u001b[0m \u001b[43m    \u001b[49m\u001b[43mcolor_type\u001b[49m\u001b[38;5;241;43m=\u001b[39;49m\u001b[43mcolor_type\u001b[49m\u001b[43m,\u001b[49m\n\u001b[0;32m     79\u001b[0m \u001b[43m    \u001b[49m\u001b[43mnum_colors\u001b[49m\u001b[38;5;241;43m=\u001b[39;49m\u001b[43mnum_colors\u001b[49m\u001b[43m,\u001b[49m\n\u001b[0;32m     80\u001b[0m \u001b[43m\u001b[49m\u001b[43m)\u001b[49m\n\u001b[0;32m     82\u001b[0m \u001b[38;5;28;01mreturn\u001b[39;00m \u001b[38;5;28mlist\u001b[39m(_cycle_colors(colors, num_colors\u001b[38;5;241m=\u001b[39mnum_colors))\n",
      "File \u001b[1;32m~\\AppData\\Local\\miniconda3\\envs\\AeroMAPS_prod_env\\lib\\site-packages\\pandas\\plotting\\_matplotlib\\style.py:132\u001b[0m, in \u001b[0;36m_derive_colors\u001b[1;34m(color, colormap, color_type, num_colors)\u001b[0m\n\u001b[0;32m    127\u001b[0m     \u001b[38;5;28;01mif\u001b[39;00m colormap \u001b[38;5;129;01mis\u001b[39;00m \u001b[38;5;129;01mnot\u001b[39;00m \u001b[38;5;28;01mNone\u001b[39;00m:\n\u001b[0;32m    128\u001b[0m         warnings\u001b[38;5;241m.\u001b[39mwarn(\n\u001b[0;32m    129\u001b[0m             \u001b[38;5;124m\"\u001b[39m\u001b[38;5;124m'\u001b[39m\u001b[38;5;124mcolor\u001b[39m\u001b[38;5;124m'\u001b[39m\u001b[38;5;124m and \u001b[39m\u001b[38;5;124m'\u001b[39m\u001b[38;5;124mcolormap\u001b[39m\u001b[38;5;124m'\u001b[39m\u001b[38;5;124m cannot be used simultaneously. Using \u001b[39m\u001b[38;5;124m'\u001b[39m\u001b[38;5;124mcolor\u001b[39m\u001b[38;5;124m'\u001b[39m\u001b[38;5;124m\"\u001b[39m,\n\u001b[0;32m    130\u001b[0m             stacklevel\u001b[38;5;241m=\u001b[39mfind_stack_level(),\n\u001b[0;32m    131\u001b[0m         )\n\u001b[1;32m--> 132\u001b[0m     \u001b[38;5;28;01mreturn\u001b[39;00m \u001b[43m_get_colors_from_color\u001b[49m\u001b[43m(\u001b[49m\u001b[43mcolor\u001b[49m\u001b[43m)\u001b[49m\n\u001b[0;32m    133\u001b[0m \u001b[38;5;28;01melse\u001b[39;00m:\n\u001b[0;32m    134\u001b[0m     \u001b[38;5;28;01mreturn\u001b[39;00m _get_colors_from_color_type(color_type, num_colors\u001b[38;5;241m=\u001b[39mnum_colors)\n",
      "File \u001b[1;32m~\\AppData\\Local\\miniconda3\\envs\\AeroMAPS_prod_env\\lib\\site-packages\\pandas\\plotting\\_matplotlib\\style.py:181\u001b[0m, in \u001b[0;36m_get_colors_from_color\u001b[1;34m(color)\u001b[0m\n\u001b[0;32m    178\u001b[0m     \u001b[38;5;28;01mreturn\u001b[39;00m [color]\n\u001b[0;32m    180\u001b[0m color \u001b[38;5;241m=\u001b[39m cast(Collection[Color], color)\n\u001b[1;32m--> 181\u001b[0m \u001b[38;5;28;01mreturn\u001b[39;00m \u001b[38;5;28;43mlist\u001b[39;49m\u001b[43m(\u001b[49m\u001b[43m_gen_list_of_colors_from_iterable\u001b[49m\u001b[43m(\u001b[49m\u001b[43mcolor\u001b[49m\u001b[43m)\u001b[49m\u001b[43m)\u001b[49m\n",
      "File \u001b[1;32m~\\AppData\\Local\\miniconda3\\envs\\AeroMAPS_prod_env\\lib\\site-packages\\pandas\\plotting\\_matplotlib\\style.py:214\u001b[0m, in \u001b[0;36m_gen_list_of_colors_from_iterable\u001b[1;34m(color)\u001b[0m\n\u001b[0;32m    212\u001b[0m     \u001b[38;5;28;01myield\u001b[39;00m x\n\u001b[0;32m    213\u001b[0m \u001b[38;5;28;01melse\u001b[39;00m:\n\u001b[1;32m--> 214\u001b[0m     \u001b[38;5;28;01mraise\u001b[39;00m \u001b[38;5;167;01mValueError\u001b[39;00m(\u001b[38;5;124mf\u001b[39m\u001b[38;5;124m\"\u001b[39m\u001b[38;5;124mInvalid color \u001b[39m\u001b[38;5;132;01m{\u001b[39;00mx\u001b[38;5;132;01m}\u001b[39;00m\u001b[38;5;124m\"\u001b[39m)\n",
      "\u001b[1;31mValueError\u001b[0m: Invalid color 00BBE0"
     ]
    },
    {
     "data": {
      "application/vnd.jupyter.widget-view+json": {
       "model_id": "8f80158c491746728f001ab5186bb2dd",
       "version_major": 2,
       "version_minor": 0
      },
      "image/png": "[encoded data removed]",
      "text/html": [
       "\n",
       "            <div style=\"display: inline-block;\">\n",
       "                <div class=\"jupyter-widgets widget-label\" style=\"text-align: center;\">\n",
       "                    Figure\n",
       "                </div>\n",
       "                <img src='data:image/png;base64,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' width=400.0/>\n",
       "            </div>\n",
       "        "
      ],
      "text/plain": [
       "Canvas(toolbar=Toolbar(toolitems=[('Home', 'Reset original view', 'home', 'home'), ('Back', 'Back to previous …"
      ]
     },
     "metadata": {},
     "output_type": "display_data"
    }
   ],
   "source": [
    "process.plot('energy_capex')"
   ]
  },
  {
   "cell_type": "code",
   "execution_count": null,
   "metadata": {
    "tags": []
   },
   "outputs": [],
   "source": [
    "co2_abated_refueleu=process.data['vector_outputs'].co2_emissions_including_load_factor-process.data['vector_outputs'].co2_emissions_including_energy"
   ]
  },
  {
   "cell_type": "code",
   "execution_count": null,
   "metadata": {
    "tags": []
   },
   "outputs": [],
   "source": [
    "co2_target=process.data['vector_outputs'].co2_emissions_including_energy"
   ]
  },
  {
   "cell_type": "code",
   "execution_count": null,
   "metadata": {
    "tags": []
   },
   "outputs": [],
   "source": [
    "process.data['vector_outputs']['cumulative_co2_emissions'][2050]"
   ]
  },
  {
   "cell_type": "code",
   "execution_count": null,
   "metadata": {
    "tags": []
   },
   "outputs": [],
   "source": [
    "process.list_available_plots()"
   ]
  },
  {
   "cell_type": "code",
   "execution_count": null,
   "metadata": {
    "tags": []
   },
   "outputs": [],
   "source": [
    "process.plot('biomass_resource_budget_assessment')"
   ]
  },
  {
   "cell_type": "code",
   "execution_count": null,
   "metadata": {
    "tags": []
   },
   "outputs": [],
   "source": [
    "process.plot('electricity_resource_budget_assessment')"
   ]
  },
  {
   "cell_type": "code",
   "execution_count": null,
   "metadata": {},
   "outputs": [],
   "source": [
    "process"
   ]
  },
  {
   "cell_type": "markdown",
   "metadata": {},
   "source": [
    "#### "
   ]
  },
  {
   "cell_type": "markdown",
   "metadata": {},
   "source": [
    "## Low-CAC first"
   ]
  },
  {
   "cell_type": "code",
   "execution_count": null,
   "metadata": {
    "slideshow": {
     "slide_type": "subslide"
    },
    "tags": []
   },
   "outputs": [],
   "source": [
    "# Aircraft energy - Introduction of alternative drop-in fuels\n",
    "\n",
    "## Share of alternative fuels in the drop-in fuel mix by decade (the rest being supplemented by kerosene) [%]\n",
    "# # lowcost\n",
    "\n",
    "process.parameters.biofuel_share_2030 = 4.92\n",
    "process.parameters.biofuel_share_2040 = 27.87\n",
    "process.parameters.biofuel_share_2050 = 57.37\n",
    "process.parameters.electrofuel_share_2030 = 1.08\n",
    "process.parameters.electrofuel_share_2040 = 6.13\n",
    "process.parameters.electrofuel_share_2050 = 12.63\n"
   ]
  },
  {
   "cell_type": "code",
   "execution_count": null,
   "metadata": {
    "slideshow": {
     "slide_type": "subslide"
    },
    "tags": []
   },
   "outputs": [],
   "source": [
    "# Various environmental settings\n",
    "\n",
    "## Share of biofuel production pathways by decade (the rest being completed by AtJ processes) [%]\n",
    "\n",
    "\n",
    "# LOWCOST\n",
    "process.parameters.biofuel_hefa_fog_share_2030 = 1.12\n",
    "process.parameters.biofuel_hefa_fog_share_2040 = 1.12\n",
    "process.parameters.biofuel_hefa_fog_share_2050 = 1.12\n",
    "process.parameters.biofuel_hefa_others_share_2030 = 15.27\n",
    "process.parameters.biofuel_hefa_others_share_2040 = 15.27\n",
    "process.parameters.biofuel_hefa_others_share_2050 = 15.27\n",
    "process.parameters.biofuel_ft_others_share_2030 = 66.53\n",
    "process.parameters.biofuel_ft_others_share_2040 = 66.53\n",
    "process.parameters.biofuel_ft_others_share_2050 = 66.53\n",
    "process.parameters.biofuel_ft_msw_share_2030 = 6.44\n",
    "process.parameters.biofuel_ft_msw_share_2040 = 6.44\n",
    "process.parameters.biofuel_ft_msw_share_2050 = 6.44\n",
    "\n",
    "\n",
    "## Emission factors for electricity by decade (2019 value: 429 gCO2/kWh)\n",
    "process.parameters.electricity_emission_factor_2020 = 429\n",
    "process.parameters.electricity_emission_factor_2030 = 200\n",
    "process.parameters.electricity_emission_factor_2040 = 100\n",
    "process.parameters.electricity_emission_factor_2050 = 30\n",
    "\n",
    "## Share of hydrogen production pathways by decade (the rest being completed by production via coal without CCS) [%]\n",
    "## Distribution in 2019: Gas without CCS (71%), Coal without CCS (27%), Electrolysis (2%), Others with CCS (0%), Co-products not taken into account\n",
    "process.parameters.hydrogen_electrolysis_share_2030 = 100\n",
    "process.parameters.hydrogen_electrolysis_share_2040 = 100\n",
    "process.parameters.hydrogen_electrolysis_share_2050 = 100\n",
    "process.parameters.hydrogen_gas_ccs_share_2030 = 0\n",
    "process.parameters.hydrogen_gas_ccs_share_2040 = 0\n",
    "process.parameters.hydrogen_gas_ccs_share_2050 = 0\n",
    "process.parameters.hydrogen_coal_ccs_share_2030 = 0\n",
    "process.parameters.hydrogen_coal_ccs_share_2040 = 0\n",
    "process.parameters.hydrogen_coal_ccs_share_2050 = 0\n",
    "process.parameters.hydrogen_gas_share_2030 = 0\n",
    "process.parameters.hydrogen_gas_share_2040 = 0\n",
    "process.parameters.hydrogen_gas_share_2050 = 0"
   ]
  },
  {
   "cell_type": "code",
   "execution_count": null,
   "metadata": {
    "tags": []
   },
   "outputs": [],
   "source": [
    "#specific setup to 16% for mACC curve\n",
    "\n",
    "process.parameters.aviation_biomass_allocated_share = 10\n",
    "process.parameters.aviation_electricity_allocated_share = 10"
   ]
  },
  {
   "cell_type": "code",
   "execution_count": null,
   "metadata": {
    "tags": []
   },
   "outputs": [],
   "source": [
    "process.compute()\n",
    "undiscounted_lowcost=process.data['vector_outputs'].non_discounted_energy_expenses\n",
    "dicounted_lowcost=process.data['vector_outputs'].discounted_energy_expenses"
   ]
  },
  {
   "cell_type": "code",
   "execution_count": null,
   "metadata": {
    "tags": []
   },
   "outputs": [],
   "source": [
    "process.plot('energy_expenses_with_carbon_tax')"
   ]
  },
  {
   "cell_type": "code",
   "execution_count": null,
   "metadata": {
    "tags": []
   },
   "outputs": [],
   "source": [
    "process.plot('energy_mfsp')"
   ]
  },
  {
   "cell_type": "code",
   "execution_count": null,
   "metadata": {
    "tags": []
   },
   "outputs": [],
   "source": [
    "co2_abated_lowcost=process.data['vector_outputs'].co2_emissions_including_load_factor-process.data['vector_outputs'].co2_emissions_including_energy"
   ]
  },
  {
   "cell_type": "markdown",
   "metadata": {},
   "source": [
    "## Low Carbon first"
   ]
  },
  {
   "cell_type": "code",
   "execution_count": null,
   "metadata": {
    "slideshow": {
     "slide_type": "subslide"
    },
    "tags": []
   },
   "outputs": [],
   "source": [
    "# Aircraft energy - Introduction of alternative drop-in fuels\n",
    "\n",
    "## Share of alternative fuels in the drop-in fuel mix by decade (the rest being supplemented by kerosene) [%]\n",
    "# # lowcost\n",
    "\n",
    "process.parameters.biofuel_share_2030 = 3.33\n",
    "process.parameters.biofuel_share_2040 = 18.86\n",
    "process.parameters.biofuel_share_2050 = 38.82\n",
    "process.parameters.electrofuel_share_2030 = 2.67\n",
    "process.parameters.electrofuel_share_2040 = 15.14\n",
    "process.parameters.electrofuel_share_2050 = 31.18\n"
   ]
  },
  {
   "cell_type": "code",
   "execution_count": null,
   "metadata": {
    "slideshow": {
     "slide_type": "subslide"
    },
    "tags": []
   },
   "outputs": [],
   "source": [
    "# Various environmental settings\n",
    "\n",
    "## Share of biofuel production pathways by decade (the rest being completed by AtJ processes) [%]\n",
    "# # LOWCARB\n",
    "process.parameters.biofuel_hefa_fog_share_2030 = 1.66\n",
    "process.parameters.biofuel_hefa_fog_share_2040 = 1.66\n",
    "process.parameters.biofuel_hefa_fog_share_2050 = 1.66\n",
    "process.parameters.biofuel_hefa_others_share_2030 = 0.0\n",
    "process.parameters.biofuel_hefa_others_share_2040 = 0.0\n",
    "process.parameters.biofuel_hefa_others_share_2050 = 0.0\n",
    "process.parameters.biofuel_ft_others_share_2030 = 98.34\n",
    "process.parameters.biofuel_ft_others_share_2040 = 98.34\n",
    "process.parameters.biofuel_ft_others_share_2050 = 98.34\n",
    "process.parameters.biofuel_ft_msw_share_2030 = 0.0\n",
    "process.parameters.biofuel_ft_msw_share_2040 = 0.0\n",
    "process.parameters.biofuel_ft_msw_share_2050 = 0.0\n",
    "\n",
    "\n",
    "## Emission factors for electricity by decade (2019 value: 429 gCO2/kWh)\n",
    "process.parameters.electricity_emission_factor_2020 = 429\n",
    "process.parameters.electricity_emission_factor_2030 = 200\n",
    "process.parameters.electricity_emission_factor_2040 = 100\n",
    "process.parameters.electricity_emission_factor_2050 = 30\n",
    "\n",
    "## Share of hydrogen production pathways by decade (the rest being completed by production via coal without CCS) [%]\n",
    "## Distribution in 2019: Gas without CCS (71%), Coal without CCS (27%), Electrolysis (2%), Others with CCS (0%), Co-products not taken into account\n",
    "process.parameters.hydrogen_electrolysis_share_2030 = 100\n",
    "process.parameters.hydrogen_electrolysis_share_2040 = 100\n",
    "process.parameters.hydrogen_electrolysis_share_2050 = 100\n",
    "process.parameters.hydrogen_gas_ccs_share_2030 = 0\n",
    "process.parameters.hydrogen_gas_ccs_share_2040 = 0\n",
    "process.parameters.hydrogen_gas_ccs_share_2050 = 0\n",
    "process.parameters.hydrogen_coal_ccs_share_2030 = 0\n",
    "process.parameters.hydrogen_coal_ccs_share_2040 = 0\n",
    "process.parameters.hydrogen_coal_ccs_share_2050 = 0\n",
    "process.parameters.hydrogen_gas_share_2030 = 0\n",
    "process.parameters.hydrogen_gas_share_2040 = 0\n",
    "process.parameters.hydrogen_gas_share_2050 = 0"
   ]
  },
  {
   "cell_type": "code",
   "execution_count": null,
   "metadata": {
    "tags": []
   },
   "outputs": [],
   "source": [
    "#specific setup to 16% for mACC curve\n",
    "\n",
    "process.parameters.aviation_biomass_allocated_share = 10\n",
    "process.parameters.aviation_electricity_allocated_share = 10"
   ]
  },
  {
   "cell_type": "code",
   "execution_count": null,
   "metadata": {
    "tags": []
   },
   "outputs": [],
   "source": [
    "process.compute()\n",
    "undiscounted_lowcarb=process.data['vector_outputs'].non_discounted_energy_expenses\n",
    "dicounted_lowcarb=process.data['vector_outputs'].discounted_energy_expenses"
   ]
  },
  {
   "cell_type": "code",
   "execution_count": null,
   "metadata": {
    "tags": []
   },
   "outputs": [],
   "source": [
    "process.plot('energy_expenses')"
   ]
  },
  {
   "cell_type": "code",
   "execution_count": null,
   "metadata": {
    "tags": []
   },
   "outputs": [],
   "source": [
    "co2_abated_lowcarb=process.data['vector_outputs'].co2_emissions_including_load_factor-process.data['vector_outputs'].co2_emissions_including_energy"
   ]
  },
  {
   "cell_type": "code",
   "execution_count": null,
   "metadata": {
    "tags": []
   },
   "outputs": [],
   "source": [
    "process.plot('electricity_resource_budget_assessment')"
   ]
  },
  {
   "cell_type": "markdown",
   "metadata": {},
   "source": [
    "## Comparision of teh different blends"
   ]
  },
  {
   "cell_type": "code",
   "execution_count": null,
   "metadata": {
    "tags": []
   },
   "outputs": [],
   "source": [
    "dict1={'Homogeneous':undiscounted_refueleu/1000,'Low Carbon Abatement Cost': undiscounted_lowcost/1000, 'Low Carbon':undiscounted_lowcarb/1000, 'Business as usual':undiscounted_BAU/1000}"
   ]
  },
  {
   "cell_type": "code",
   "execution_count": null,
   "metadata": {
    "tags": []
   },
   "outputs": [],
   "source": [
    "import pandas as pd\n",
    "import matplotlib.pyplot as plt\n",
    "pd.DataFrame(dict1).plot()\n",
    "plt.grid()\n",
    "plt.ylabel('Annual energy expenses (B€)')"
   ]
  },
  {
   "cell_type": "code",
   "execution_count": null,
   "metadata": {
    "tags": []
   },
   "outputs": [],
   "source": [
    "print('BAU, R=3%', dicounted_BAU.sum())\n",
    "print('Homogeneous, R=3%', dicounted_refueleu.sum())\n",
    "print('Low CAC, R=3%', dicounted_lowcost.sum())\n",
    "print('Low carbon, R=3%', dicounted_lowcarb.sum())"
   ]
  },
  {
   "cell_type": "code",
   "execution_count": null,
   "metadata": {
    "tags": []
   },
   "outputs": [],
   "source": [
    "fig, ax = plt.subplots()\n",
    "names = ['Homogeneous', 'Low Carbon Abatement Cost', 'Low Carbon', 'Business as usual',]\n",
    "discounted_vals = [dicounted_refueleu.sum(),dicounted_lowcost.sum(), dicounted_lowcarb.sum(), dicounted_BAU.sum(),]\n",
    "ax.bar(names,discounted_vals)\n",
    "ax.set_ylabel('Total discounted energy cost (M€)')\n",
    "ax.grid(axis='y', linestyle='dashed')\n",
    "ax.set_axisbelow(True)\n",
    "for i, v in enumerate(discounted_vals):\n",
    "    ax.text(i-0.25, v+50000, '{} Bn €'.format(str(int(v/1000))), color='dimgrey', fontweight='bold')\n",
    "\n",
    "    \n",
    "\n"
   ]
  },
  {
   "cell_type": "code",
   "execution_count": null,
   "metadata": {
    "tags": []
   },
   "outputs": [],
   "source": [
    "print(undiscounted_lowcarb.sum()/co2_abated_lowcarb.sum())\n",
    "print(undiscounted_lowcost.sum()/co2_abated_lowcost.sum())\n",
    "print(undiscounted_refueleu.sum()/co2_abated_refueleu.sum())"
   ]
  },
  {
   "cell_type": "code",
   "execution_count": null,
   "metadata": {
    "tags": []
   },
   "outputs": [],
   "source": [
    "dict={'Homogeneous':co2_abated_refueleu,'Low Carbon Abatement Cost': co2_abated_lowcost, 'Low Carbon':co2_abated_lowcarb}"
   ]
  },
  {
   "cell_type": "code",
   "execution_count": null,
   "metadata": {
    "tags": []
   },
   "outputs": [],
   "source": [
    "fig, ax=plt.subplots(1,2)\n",
    "\n",
    "pd.DataFrame(dict).plot(ax=ax[0])\n",
    "ax[0].grid()\n",
    "ax[0].set_ylabel('Annual $CO_2$ abatement by energy (Mt)')\n",
    "\n",
    "pd.DataFrame(dict1).plot(ax=ax[1])\n",
    "ax[1].grid()\n",
    "ax[1].set_ylabel('Annual energy expenses (B€)')"
   ]
  },
  {
   "cell_type": "markdown",
   "metadata": {},
   "source": [
    "## MACC region"
   ]
  },
  {
   "cell_type": "code",
   "execution_count": null,
   "metadata": {},
   "outputs": [],
   "source": []
  },
  {
   "cell_type": "code",
   "execution_count": null,
   "metadata": {},
   "outputs": [],
   "source": []
  },
  {
   "cell_type": "code",
   "execution_count": null,
   "metadata": {},
   "outputs": [],
   "source": []
  },
  {
   "cell_type": "code",
   "execution_count": null,
   "metadata": {},
   "outputs": [],
   "source": [
    "import matplotlib.pyplot as plt\n",
    "import pandas as pd\n",
    "import numpy as np\n",
    "plt.rcParams[\"figure.figsize\"] = (10,5)\n",
    "\n",
    "fig, ax = plt.subplots()\n",
    "\n",
    "year=2030\n",
    "\n",
    "\n",
    "# create a dataframe for the patways (use: sort the values by cincreasing carbon abatement cost)\n",
    "\n",
    "\n",
    "pathways=[\"Bio - HEFA FOG\",\n",
    "\"Bio - HEFA Others\",\n",
    "\"Bio - Alcohol to Jet\",\n",
    "\"Bio - FT MSW\",\n",
    "\"Bio - FT Others\",\n",
    "# \"Liquid Hydrogen\",\n",
    "\"Electrofuel\"]\n",
    "    \n",
    "abatement_potential=[elt/1000000 for elt in [process.data['vector_outputs'].abatement_potential_hefa_fog[year],\n",
    "process.data['vector_outputs'].abatement_potential_hefa_others[year],\n",
    "process.data['vector_outputs'].abatement_potential_atj[year],\n",
    "process.data['vector_outputs'].abatement_potential_ft_msw[year],\n",
    "process.data['vector_outputs'].abatement_potential_ft_others[year],\n",
    "# process.data['vector_outputs'].abatement_potential_hydrogen_electrolysis[year],\n",
    "process.data['vector_outputs'].abatement_potential_electrofuel[year]]]\n",
    "\n",
    "\n",
    "energy_avail=[elt/1000000000000 for elt in [process.data['vector_outputs'].energy_avail_hefa_fog[year],\n",
    "process.data['vector_outputs'].energy_avail_hefa_others[year],\n",
    "process.data['vector_outputs'].energy_avail_atj[year],\n",
    "process.data['vector_outputs'].energy_avail_ft_msw[year],\n",
    "process.data['vector_outputs'].energy_avail_ft_others[year],\n",
    "# process.data['vector_outputs'].energy_avail_hydrogen_electrolysis[year],\n",
    "process.data['vector_outputs'].energy_avail_electrofuel[year]]]\n",
    "\n",
    "    \n",
    "\n",
    "abatement_effective=[elt/1000000 for elt in [process.data['vector_outputs'].abatement_effective_hefa_fog[year],\n",
    "process.data['vector_outputs'].abatement_effective_hefa_others[year],\n",
    "process.data['vector_outputs'].abatement_effective_atj[year],\n",
    "process.data['vector_outputs'].abatement_effective_ft_msw[year],\n",
    "process.data['vector_outputs'].abatement_effective_ft_others[year],\n",
    "# process.data['vector_outputs'].abatement_effective_hydrogen_electrolysis[year],\n",
    "process.data['vector_outputs'].abatement_effective_electrofuel[year]]]\n",
    "\n",
    "    \n",
    "carbon_abatement_cost=[process.data['vector_outputs'].carbon_abatement_cost_hefa_fog[year],\n",
    "process.data['vector_outputs'].carbon_abatement_cost_hefa_others[year],\n",
    "process.data['vector_outputs'].carbon_abatement_cost_atj[year],\n",
    "process.data['vector_outputs'].carbon_abatement_cost_ft_msw[year],\n",
    "process.data['vector_outputs'].carbon_abatement_cost_ft_others[year],\n",
    "# process.data['vector_outputs'].carbon_abatement_cost_h2_electrolysis[year],\n",
    "process.data['vector_outputs'].electrofuel_abatement_cost[year]\n",
    "]\n",
    "\n",
    "\n",
    "macc_df=pd.DataFrame(data=[abatement_potential,energy_avail, abatement_effective, carbon_abatement_cost], columns=pathways, index=['abatement_potential', 'energy_avail', 'abatement_effective', 'carbon_abatement_cost'])\n",
    "macc_df=macc_df.transpose().sort_values(by='carbon_abatement_cost')\n",
    "\n",
    "\n",
    "heights=macc_df['carbon_abatement_cost'].to_list()\n",
    "names=macc_df.index.to_list()\n",
    "heights.insert(0,0)\n",
    "heights.append(heights[-1])\n",
    "\n",
    "# MAx potential MACC\n",
    "widths_potential= macc_df['abatement_potential'].to_list()\n",
    "widths_potential.insert(0,0)\n",
    "widths_potential.append(widths_potential[-1])\n",
    "\n",
    "ax.step(np.cumsum(widths_potential)-widths_potential, heights, 'g', where='post', color=\"#335C67\", label= \"Marginal abatement cost\" , linewidth=1.5)\n",
    "\n",
    "\n",
    "#Effective scenario MACC\n",
    "\n",
    "# widths_effective= macc_df['abatement_effective'].to_list()\n",
    "# widths_effective.insert(0,0)\n",
    "# widths_effective.append(widths_effective[-1])\n",
    "\n",
    "# ax.step(np.cumsum(widths_effective)-widths_effective, heights, 'g', where='post', color=\"#335C67\", label= \"Scenario abatement cost\" , linewidth=1.5)\n",
    "\n",
    "fuel= macc_df.energy_avail.to_list()\n",
    "fuel.insert(0,0)\n",
    "widths_potential.pop()\n",
    "ax2=ax.twinx()\n",
    "ax2.plot(np.cumsum(widths_potential), np.cumsum(fuel), color=\"#9E2A2B\", linestyle=':', label= \"Energy potential\", marker='x')\n",
    "\n",
    "# ax.set_yscale('log')\n",
    "\n",
    "ax2.axhline(y=process.data['vector_outputs'].energy_consumption_dropin_fuel[year]/1e12-process.data['vector_outputs'].energy_consumption_kerosene[year]/1e12, color='black', linewidth=1, linestyle='-.')\n",
    "ax2.text(0, 3.75e2, 'Air transport alternative drop-in fuels use, 2050')\n",
    "\n",
    "ax.grid(True, which=\"both\", ls=':')\n",
    "ax.set_ylabel('Carbon Abatement Cost (€/t$\\mathregular{CO_2}$)')\n",
    "ax2.set_ylabel('Energy potential (EJ)')\n",
    "ax.set_xlabel('$\\mathregular{CO_2}$ abatted (Mt)')\n",
    "# ax.set_xlim(-0.02,0.84)\n",
    "# ax.set_ylim(0,1000) \n",
    "# ax2.set_ylim(0,450)\n",
    "\n",
    "ax.grid(True, which=\"both\", ls=':')\n",
    "ax.set_ylabel('Carbon Abatement Cost (€/t$\\mathregular{CO_2}$)')\n",
    "\n",
    "ax.set_xlabel('$\\mathregular{CO_2}$ abatted (Mt)')\n",
    "# ax.set_xlim(-0.02,0.84)\n",
    "# ax.set_ylim(0,1000) \n",
    "# ax2.set_ylim(0,450)\n",
    "\n",
    "# print(heights, np.cumsum(widths), names)\n",
    "\n",
    "\n",
    "\n",
    "# overshoot_allocation=macc_df['abatement_effective']/macc_df['abatement_potential']*100\n",
    "\n",
    "\n",
    "ax.text(np.cumsum(widths_potential)[0]+10, heights[1]-50, names[0])\n",
    "ax.text(np.cumsum(widths_potential)[1]+10, heights[2]+18, names[1])\n",
    "ax.text(np.cumsum(widths_potential)[2]+10, heights[3]-50, names[2])\n",
    "ax.text(np.cumsum(widths_potential)[3]+10, heights[4]-50, names[3])\n",
    "ax.text(np.cumsum(widths_potential)[4]+10, heights[5]-50, names[4])\n",
    "ax.text(np.cumsum(widths_potential)[5]+10, heights[6]-50, names[5])\n",
    "# ax.text(np.cumsum(widths_potential)[6]+0.005, heights[7]+18, names[6])\n",
    "\n",
    "# # plt.ylim([1,2.8*10**3]) \n",
    "\n",
    "# # ax.get_yaxis().get_major_formatter().labelOnlyBase = False\n",
    "fig.legend(fancybox=True, shadow=True,  bbox_to_anchor=(0.38, 0.85))\n",
    "\n",
    "\n",
    "\n",
    "\n",
    "macc_df\n"
   ]
  },
  {
   "cell_type": "code",
   "execution_count": null,
   "metadata": {
    "tags": []
   },
   "outputs": [],
   "source": [
    "fig, ax = plt.subplots()\n",
    "\n",
    "\n",
    "macc_df['abatement_intensity']=macc_df['abatement_potential']/macc_df['energy_avail']\n",
    "macc_df=macc_df.sort_values(by='abatement_intensity', ascending=False)\n",
    "\n",
    "\n",
    "heights=macc_df['carbon_abatement_cost'].to_list()\n",
    "names=macc_df.index.to_list()\n",
    "heights.insert(0,0)\n",
    "heights.append(heights[-1])\n",
    "\n",
    "# MAx potential MACC\n",
    "widths_potential= macc_df['abatement_potential'].to_list()\n",
    "widths_potential.insert(0,0)\n",
    "widths_potential.append(widths_potential[-1])\n",
    "\n",
    "ax.step(np.cumsum(widths_potential)-widths_potential, heights, 'g', where='post', color=\"#335C67\", label= \"Marginal Abatement Cost\" , linewidth=1.5)\n",
    "\n",
    "\n",
    "# Effective scenario MACC\n",
    "\n",
    "# # MAx potential MACC\n",
    "# widths_effective= macc_df['abatement_effective'].to_list()\n",
    "# widths_effective.insert(0,0)\n",
    "# widths_effective.append(widths_effective[-1])\n",
    "\n",
    "# ax.step(np.cumsum(widths_effective)-widths_effective, heights, 'g', where='post', color=\"#335C67\", label= \"Scenario abatement cost and potential\" , linewidth=1.5)\n",
    "\n",
    "fuel= macc_df.energy_avail.to_list()\n",
    "fuel.insert(0,0)\n",
    "widths_potential.pop()\n",
    "ax2=ax.twinx()\n",
    "ax2.plot(np.cumsum(widths_potential), np.cumsum(fuel), color=\"#9E2A2B\", linestyle=':', label= \"Energy potential\", marker='x')\n",
    "\n",
    "# ax.set_yscale('log')\n",
    "\n",
    "ax2.axhline(y=process.data['vector_outputs'].energy_consumption_dropin_fuel[year]/1e12-process.data['vector_outputs'].energy_consumption_kerosene[year]/1e12, color='black', linewidth=1, linestyle='-.')\n",
    "ax2.text(0, 3.75e2, 'Air transport drop-in fuels use, 2050')\n",
    "\n",
    "\n",
    "ax.grid(True, which=\"both\", ls=':')\n",
    "ax.set_ylabel('Carbon Abatement Cost (€/t$\\mathregular{CO_2}$)')\n",
    "ax2.set_ylabel('Energy potential (EJ)')\n",
    "ax.set_xlabel('$\\mathregular{CO_2}$ abatted (Mt)')\n",
    "# ax.set_xlim(-0.02,0.84)\n",
    "# ax.set_ylim(0,1000) \n",
    "# ax2.set_ylim(0,450)\n",
    "\n",
    "ax.grid(True, which=\"both\", ls=':')\n",
    "ax.set_ylabel('Carbon Abatement Cost (€/t$\\mathregular{CO_2}$)')\n",
    "\n",
    "ax.set_xlabel('$\\mathregular{CO_2}$ abatted (Mt)')\n",
    "# ax.set_xlim(-0.02,0.84)\n",
    "ax.set_xlim(0,2200) \n",
    "# ax2.set_ylim(0,450)\n",
    "\n",
    "# print(heights, np.cumsum(widths), names)\n",
    "\n",
    "\n",
    "\n",
    "# overshoot_allocation=macc_df['abatement_effective']/macc_df['abatement_potential']*100\n",
    "\n",
    "\n",
    "ax.text(np.cumsum(widths_potential)[0]+10, heights[1]-50, names[0])\n",
    "ax.text(np.cumsum(widths_potential)[1]+10, heights[2]-50, names[1])\n",
    "ax.text(np.cumsum(widths_potential)[2]+10, heights[3]-50, names[2])\n",
    "ax.text(np.cumsum(widths_potential)[3]+10, heights[4]-50, names[3])\n",
    "ax.text(np.cumsum(widths_potential)[4]+10, heights[5]-50, names[4])\n",
    "ax.text(np.cumsum(widths_potential)[5]+10, heights[6]-50, names[5])\n",
    "# ax.text(np.cumsum(widths_potential)[6]+0.005, heights[7]+18, names[6])\n",
    "\n",
    "# # plt.ylim([1,2.8*10**3]) \n",
    "\n",
    "# # ax.get_yaxis().get_major_formatter().labelOnlyBase = False\n",
    "fig.legend(fancybox=True, shadow=True,  bbox_to_anchor=(0.38, 0.85))"
   ]
  },
  {
   "cell_type": "code",
   "execution_count": null,
   "metadata": {
    "tags": []
   },
   "outputs": [],
   "source": [
    "macc_df"
   ]
  },
  {
   "cell_type": "code",
   "execution_count": null,
   "metadata": {},
   "outputs": [],
   "source": []
  },
  {
   "cell_type": "code",
   "execution_count": null,
   "metadata": {},
   "outputs": [],
   "source": []
  }
 ],
 "metadata": {
  "celltoolbar": "Diaporama",
  "kernelspec": {
   "display_name": "Python 3 (ipykernel)",
   "language": "python",
   "name": "python3"
  },
  "language_info": {
   "codemirror_mode": {
    "name": "ipython",
    "version": 3
   },
   "file_extension": ".py",
   "mimetype": "text/x-python",
   "name": "python",
   "nbconvert_exporter": "python",
   "pygments_lexer": "ipython3",
   "version": "3.8.16"
  }
 },
 "nbformat": 4,
 "nbformat_minor": 4
}
