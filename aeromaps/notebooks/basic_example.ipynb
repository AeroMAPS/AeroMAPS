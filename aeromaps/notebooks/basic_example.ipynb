{
 "cells": [
  {
   "cell_type": "markdown",
   "metadata": {},
   "source": [
    "# Basic example for using AeroMAPS with Jupyter Notebook\n",
    "\n",
    "This document represents both an example and a tutorial for using the basic functions of AeroMAPS to simulate and evaluate a transition scenario for the aviation sector.  It is written in the form of a Jupyter Notebook to facilitate its use. The user will be able to adapt this notebook and couple it with other notebooks proposed in the documentation."
   ]
  },
  {
   "cell_type": "markdown",
   "metadata": {
    "slideshow": {
     "slide_type": "slide"
    }
   },
   "source": [
    "## Load and process\n",
    "\n",
    "First, the user has to load the framework and generate a process."
   ]
  },
  {
   "cell_type": "code",
   "execution_count": 1,
   "metadata": {
    "slideshow": {
     "slide_type": "subslide"
    },
    "tags": []
   },
   "outputs": [],
   "source": [
    "%matplotlib widget\n",
    "from aeromaps.core.process import AeromapsProcess\n",
    "from aeromaps.core.models import models_simple"
   ]
  },
  {
   "cell_type": "code",
   "execution_count": 2,
   "metadata": {
    "slideshow": {
     "slide_type": "subslide"
    },
    "tags": []
   },
   "outputs": [],
   "source": [
    "process = AeromapsProcess(read_json=True, models=models_simple, fleet=False)"
   ]
  },
  {
   "cell_type": "markdown",
   "metadata": {
    "slideshow": {
     "slide_type": "slide"
    }
   },
   "source": [
    "## Set up variables\n",
    "\n",
    "The user can then set the different parameters of the model to generate its scenario. The list of the float inputs can be displayed using this command."
   ]
  },
  {
   "cell_type": "code",
   "execution_count": 3,
   "metadata": {
    "tags": []
   },
   "outputs": [],
   "source": [
    "# process.list_float_inputs()"
   ]
  },
  {
   "cell_type": "markdown",
   "metadata": {},
   "source": [
    " In the following, some main parameters are for instance set up."
   ]
  },
  {
   "cell_type": "code",
   "execution_count": 4,
   "metadata": {
    "slideshow": {
     "slide_type": "subslide"
    },
    "tags": []
   },
   "outputs": [],
   "source": [
    "# Air traffic evolution\n",
    "\n",
    "## Growth rate by category and decade [%]\n",
    "process.parameters.growth_rate_2020_2030_short_range = 3\n",
    "process.parameters.growth_rate_2030_2040_short_range = 3\n",
    "process.parameters.growth_rate_2040_2050_short_range = 3\n",
    "process.parameters.growth_rate_2020_2030_medium_range = 3\n",
    "process.parameters.growth_rate_2030_2040_medium_range = 3\n",
    "process.parameters.growth_rate_2040_2050_medium_range = 3\n",
    "process.parameters.growth_rate_2020_2030_long_range = 3\n",
    "process.parameters.growth_rate_2030_2040_long_range = 3\n",
    "process.parameters.growth_rate_2040_2050_long_range = 3\n",
    "process.parameters.growth_rate_2020_2030_freight = 3\n",
    "process.parameters.growth_rate_2030_2040_freight = 3\n",
    "process.parameters.growth_rate_2040_2050_freight = 3"
   ]
  },
  {
   "cell_type": "code",
   "execution_count": 5,
   "metadata": {
    "slideshow": {
     "slide_type": "subslide"
    },
    "tags": []
   },
   "outputs": [],
   "source": [
    "# Aircraft fleet and operation evolution - Aircraft load factor\n",
    "\n",
    "## Aircraft load factor in 2050 [%]\n",
    "process.parameters.load_factor_end_year = 89  # 2019 value: 82.399312"
   ]
  },
  {
   "cell_type": "code",
   "execution_count": 6,
   "metadata": {
    "slideshow": {
     "slide_type": "subslide"
    },
    "tags": []
   },
   "outputs": [],
   "source": [
    "# Aircraft fleet and operation evolution - Aircraft efficiency using the top-down approach\n",
    "\n",
    "## Drop-in aircraft\n",
    "### Mean annual efficiency gains by category [%]\n",
    "process.parameters.energy_per_ask_short_range_dropin_fuel_gain = 1.3\n",
    "process.parameters.energy_per_ask_medium_range_dropin_fuel_gain = 1.3\n",
    "process.parameters.energy_per_ask_long_range_dropin_fuel_gain = 1.3\n",
    "\n"
   ]
  },
  {
   "cell_type": "code",
   "execution_count": 7,
   "metadata": {
    "slideshow": {
     "slide_type": "subslide"
    },
    "tags": []
   },
   "outputs": [],
   "source": [
    "# Aircraft fleet and operation evolution - Operations\n",
    "\n",
    "## Values for setting the logistic function\n",
    "process.parameters.operations_final_gain = 8.0  # [%]\n",
    "process.parameters.operations_start_year = 2025\n",
    "process.parameters.operations_duration = 25.0"
   ]
  },
  {
   "cell_type": "code",
   "execution_count": 8,
   "metadata": {
    "slideshow": {
     "slide_type": "subslide"
    },
    "tags": []
   },
   "outputs": [],
   "source": [
    "# Environmental limits\n",
    "\n",
    "## Carbon budgets and Carbon Dioxide Removal [GtCO2]\n",
    "process.parameters.net_carbon_budget = 850.0\n",
    "process.parameters.carbon_dioxyde_removal_2100 = 280.0\n",
    "\n",
    "## Available energy resources in 2050 [EJ]\n",
    "process.parameters.waste_biomass = 12\n",
    "process.parameters.crops_biomass = 63\n",
    "process.parameters.forest_residues_biomass = 17\n",
    "process.parameters.agricultural_residues_biomass = 57\n",
    "process.parameters.algae_biomass = 15\n",
    "process.parameters.available_electricity = 250.0"
   ]
  },
  {
   "cell_type": "code",
   "execution_count": 9,
   "metadata": {
    "slideshow": {
     "slide_type": "subslide"
    },
    "tags": []
   },
   "outputs": [],
   "source": [
    "# Allocation settings\n",
    "\n",
    "## Aviation share of the global (equivalent) carbon budget [%]\n",
    "process.parameters.aviation_carbon_budget_allocated_share = 2.6\n",
    "process.parameters.aviation_equivalentcarbonbudget_allocated_share = 5.1\n",
    "\n"
   ]
  },
  {
   "cell_type": "code",
   "execution_count": 10,
   "metadata": {
    "tags": []
   },
   "outputs": [],
   "source": [
    "# CO2 prices\n",
    "\n",
    "process.parameters.co2_tax_2020=54\n",
    "process.parameters.co2_tax_2030=250\n",
    "process.parameters.co2_tax_2040=500\n",
    "process.parameters.co2_tax_2050=700"
   ]
  },
  {
   "cell_type": "markdown",
   "metadata": {},
   "source": [
    "## Energy business as usual"
   ]
  },
  {
   "cell_type": "code",
   "execution_count": 11,
   "metadata": {
    "tags": []
   },
   "outputs": [],
   "source": [
    "process.parameters.biofuel_share_2030 = 0\n",
    "process.parameters.biofuel_share_2040 = 0\n",
    "process.parameters.biofuel_share_2050 = 0\n",
    "process.parameters.electrofuel_share_2030 = 0\n",
    "process.parameters.electrofuel_share_2040 = 0\n",
    "process.parameters.electrofuel_share_2050 = 0"
   ]
  },
  {
   "cell_type": "code",
   "execution_count": 12,
   "metadata": {
    "tags": []
   },
   "outputs": [
    {
     "name": "stdout",
     "output_type": "stream",
     "text": [
      "wtf\n"
     ]
    }
   ],
   "source": [
    "process.compute()"
   ]
  },
  {
   "cell_type": "code",
   "execution_count": 13,
   "metadata": {
    "tags": []
   },
   "outputs": [],
   "source": [
    "undiscounted_BAU=process.data['vector_outputs'].non_discounted_energy_expenses\n",
    "dicounted_BAU=process.data['vector_outputs'].discounted_energy_expenses"
   ]
  },
  {
   "cell_type": "code",
   "execution_count": 14,
   "metadata": {
    "tags": []
   },
   "outputs": [
    {
     "data": {
      "text/plain": [
       "<aeromaps.plots.costs.ScenarioEnergyUnitCostPlot at 0x2156713bd90>"
      ]
     },
     "execution_count": 14,
     "metadata": {},
     "output_type": "execute_result"
    },
    {
     "data": {
      "application/vnd.jupyter.widget-view+json": {
       "model_id": "bd82974dd21f4b2eb2d74c2090591bcc",
       "version_major": 2,
       "version_minor": 0
      },
      "image/png": "[encoded data removed]",
      "text/html": [
       "\n",
       "            <div style=\"display: inline-block;\">\n",
       "                <div class=\"jupyter-widgets widget-label\" style=\"text-align: center;\">\n",
       "                    Figure\n",
       "                </div>\n",
       "                <img src='data:image/png;base64,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' width=400.0/>\n",
       "            </div>\n",
       "        "
      ],
      "text/plain": [
       "Canvas(header_visible=False, toolbar=Toolbar(toolitems=[('Home', 'Reset original view', 'home', 'home'), ('Bac…"
      ]
     },
     "metadata": {},
     "output_type": "display_data"
    }
   ],
   "source": [
    "process.plot('energy_mfsp')"
   ]
  },
  {
   "cell_type": "markdown",
   "metadata": {},
   "source": [
    "## Refuel EU like"
   ]
  },
  {
   "cell_type": "code",
   "execution_count": 15,
   "metadata": {
    "tags": []
   },
   "outputs": [],
   "source": [
    "## Hydrogen aircraft\n",
    "### Values for setting logistic functions by category\n",
    "process.parameters.hydrogen_final_market_share_short_range = 50.0  # [%]\n",
    "process.parameters.hydrogen_introduction_year_short_range = 2035\n",
    "process.parameters.fleet_renewal_duration = 20.0\n",
    "### Relative energy consumption for hydrogen aircraft with respect to drop-in aircraft [%]\n",
    "process.parameters.relative_energy_per_ask_hydrogen_wrt_dropin_short_range = 1.0"
   ]
  },
  {
   "cell_type": "code",
   "execution_count": 16,
   "metadata": {
    "slideshow": {
     "slide_type": "subslide"
    },
    "tags": []
   },
   "outputs": [],
   "source": [
    "# Aircraft energy - Introduction of alternative drop-in fuels\n",
    "\n",
    "## Share of alternative fuels in the drop-in fuel mix by decade (the rest being supplemented by kerosene) [%]\n",
    "\n",
    "# REFUELEU LIKE\n",
    "\n",
    "process.parameters.biofuel_share_2030 = 4.8\n",
    "process.parameters.biofuel_share_2040 = 24.0\n",
    "process.parameters.biofuel_share_2050 = 35.0\n",
    "process.parameters.electrofuel_share_2030 = 1.2\n",
    "process.parameters.electrofuel_share_2040 = 10.0\n",
    "process.parameters.electrofuel_share_2050 = 35.0\n",
    "\n"
   ]
  },
  {
   "cell_type": "code",
   "execution_count": 17,
   "metadata": {
    "slideshow": {
     "slide_type": "subslide"
    },
    "tags": []
   },
   "outputs": [],
   "source": [
    "# Various environmental settings\n",
    "\n",
    "## Share of biofuel production pathways by decade (the rest being completed by AtJ processes) [%]\n",
    "# REFUELEU LIKE\n",
    "process.parameters.biofuel_hefa_fog_share_2030 = 0.7\n",
    "process.parameters.biofuel_hefa_fog_share_2040 = 0.7\n",
    "process.parameters.biofuel_hefa_fog_share_2050 = 0.7\n",
    "process.parameters.biofuel_hefa_others_share_2030 = 3.8\n",
    "process.parameters.biofuel_hefa_others_share_2040 = 3.8\n",
    "process.parameters.biofuel_hefa_others_share_2050 = 3.8\n",
    "process.parameters.biofuel_ft_others_share_2030 = 76.3\n",
    "process.parameters.biofuel_ft_others_share_2040 = 76.3\n",
    "process.parameters.biofuel_ft_others_share_2050 = 76.3\n",
    "process.parameters.biofuel_ft_msw_share_2030 = 7.4\n",
    "process.parameters.biofuel_ft_msw_share_2040 = 7.4\n",
    "process.parameters.biofuel_ft_msw_share_2050 = 7.4\n",
    "\n",
    "\n",
    "## Emission factors for electricity by decade (2019 value: 429 gCO2/kWh)\n",
    "process.parameters.electricity_emission_factor_2020 = 429\n",
    "process.parameters.electricity_emission_factor_2030 = 200\n",
    "process.parameters.electricity_emission_factor_2040 = 100\n",
    "process.parameters.electricity_emission_factor_2050 = 30\n",
    "\n",
    "## Share of hydrogen production pathways by decade (the rest being completed by production via coal without CCS) [%]\n",
    "## Distribution in 2019: Gas without CCS (71%), Coal without CCS (27%), Electrolysis (2%), Others with CCS (0%), Co-products not taken into account\n",
    "process.parameters.hydrogen_electrolysis_share_2030 = 10\n",
    "process.parameters.hydrogen_electrolysis_share_2040 = 50\n",
    "process.parameters.hydrogen_electrolysis_share_2050 = 100\n",
    "process.parameters.hydrogen_gas_ccs_share_2030 = 10\n",
    "process.parameters.hydrogen_gas_ccs_share_2040 = 30\n",
    "process.parameters.hydrogen_gas_ccs_share_2050 = 0\n",
    "process.parameters.hydrogen_coal_ccs_share_2030 = 10\n",
    "process.parameters.hydrogen_coal_ccs_share_2040 = 10\n",
    "process.parameters.hydrogen_coal_ccs_share_2050 = 0\n",
    "process.parameters.hydrogen_gas_share_2030 = 70\n",
    "process.parameters.hydrogen_gas_share_2040 = 10\n",
    "process.parameters.hydrogen_gas_share_2050 = 0"
   ]
  },
  {
   "cell_type": "code",
   "execution_count": 18,
   "metadata": {
    "tags": []
   },
   "outputs": [],
   "source": [
    "#specific setup to 16% for mACC curve\n",
    "\n",
    "process.parameters.aviation_biomass_allocated_share = 10\n",
    "process.parameters.aviation_electricity_allocated_share = 10"
   ]
  },
  {
   "cell_type": "code",
   "execution_count": 19,
   "metadata": {
    "tags": []
   },
   "outputs": [],
   "source": [
    "process.compute()\n",
    "undiscounted_refueleu=process.data['vector_outputs'].non_discounted_energy_expenses\n",
    "dicounted_refueleu=process.data['vector_outputs'].discounted_energy_expenses"
   ]
  },
  {
   "cell_type": "code",
   "execution_count": 20,
   "metadata": {
    "tags": []
   },
   "outputs": [],
   "source": [
    "# process.data['vector_outputs']"
   ]
  },
  {
   "cell_type": "code",
   "execution_count": 21,
   "metadata": {
    "tags": []
   },
   "outputs": [
    {
     "ename": "KeyError",
     "evalue": "'kerosene_market_price'",
     "output_type": "error",
     "traceback": [
      "\u001b[1;31m---------------------------------------------------------------------------\u001b[0m",
      "\u001b[1;31mKeyError\u001b[0m                                  Traceback (most recent call last)",
      "File \u001b[1;32m~\\AppData\\Local\\miniconda3\\envs\\AeroMAPS_prod_env\\lib\\site-packages\\pandas\\core\\indexes\\base.py:3802\u001b[0m, in \u001b[0;36mIndex.get_loc\u001b[1;34m(self, key, method, tolerance)\u001b[0m\n\u001b[0;32m   3801\u001b[0m \u001b[38;5;28;01mtry\u001b[39;00m:\n\u001b[1;32m-> 3802\u001b[0m     \u001b[38;5;28;01mreturn\u001b[39;00m \u001b[38;5;28;43mself\u001b[39;49m\u001b[38;5;241;43m.\u001b[39;49m\u001b[43m_engine\u001b[49m\u001b[38;5;241;43m.\u001b[39;49m\u001b[43mget_loc\u001b[49m\u001b[43m(\u001b[49m\u001b[43mcasted_key\u001b[49m\u001b[43m)\u001b[49m\n\u001b[0;32m   3803\u001b[0m \u001b[38;5;28;01mexcept\u001b[39;00m \u001b[38;5;167;01mKeyError\u001b[39;00m \u001b[38;5;28;01mas\u001b[39;00m err:\n",
      "File \u001b[1;32m~\\AppData\\Local\\miniconda3\\envs\\AeroMAPS_prod_env\\lib\\site-packages\\pandas\\_libs\\index.pyx:138\u001b[0m, in \u001b[0;36mpandas._libs.index.IndexEngine.get_loc\u001b[1;34m()\u001b[0m\n",
      "File \u001b[1;32m~\\AppData\\Local\\miniconda3\\envs\\AeroMAPS_prod_env\\lib\\site-packages\\pandas\\_libs\\index.pyx:165\u001b[0m, in \u001b[0;36mpandas._libs.index.IndexEngine.get_loc\u001b[1;34m()\u001b[0m\n",
      "File \u001b[1;32mpandas\\_libs\\hashtable_class_helper.pxi:5745\u001b[0m, in \u001b[0;36mpandas._libs.hashtable.PyObjectHashTable.get_item\u001b[1;34m()\u001b[0m\n",
      "File \u001b[1;32mpandas\\_libs\\hashtable_class_helper.pxi:5753\u001b[0m, in \u001b[0;36mpandas._libs.hashtable.PyObjectHashTable.get_item\u001b[1;34m()\u001b[0m\n",
      "\u001b[1;31mKeyError\u001b[0m: 'kerosene_market_price'",
      "\nThe above exception was the direct cause of the following exception:\n",
      "\u001b[1;31mKeyError\u001b[0m                                  Traceback (most recent call last)",
      "Cell \u001b[1;32mIn[21], line 1\u001b[0m\n\u001b[1;32m----> 1\u001b[0m \u001b[43mprocess\u001b[49m\u001b[38;5;241;43m.\u001b[39;49m\u001b[43mplot\u001b[49m\u001b[43m(\u001b[49m\u001b[38;5;124;43m'\u001b[39;49m\u001b[38;5;124;43menergy_mfsp\u001b[39;49m\u001b[38;5;124;43m'\u001b[39;49m\u001b[43m)\u001b[49m\n",
      "File \u001b[1;32m~\\PycharmProjects\\AeroMAPS\\aeromaps\\core\\process.py:139\u001b[0m, in \u001b[0;36mAeromapsProcess.plot\u001b[1;34m(self, name)\u001b[0m\n\u001b[0;32m    136\u001b[0m \u001b[38;5;28;01mdef\u001b[39;00m \u001b[38;5;21mplot\u001b[39m(\u001b[38;5;28mself\u001b[39m, name):\n\u001b[0;32m    138\u001b[0m     \u001b[38;5;28;01mif\u001b[39;00m name \u001b[38;5;129;01min\u001b[39;00m available_plots:\n\u001b[1;32m--> 139\u001b[0m         fig \u001b[38;5;241m=\u001b[39m \u001b[43mavailable_plots\u001b[49m\u001b[43m[\u001b[49m\u001b[43mname\u001b[49m\u001b[43m]\u001b[49m\u001b[43m(\u001b[49m\u001b[38;5;28;43mself\u001b[39;49m\u001b[38;5;241;43m.\u001b[39;49m\u001b[43mdata\u001b[49m\u001b[43m)\u001b[49m\n\u001b[0;32m    140\u001b[0m     \u001b[38;5;28;01melse\u001b[39;00m:\n\u001b[0;32m    141\u001b[0m         \u001b[38;5;28;01mraise\u001b[39;00m \u001b[38;5;167;01mNameError\u001b[39;00m(\n\u001b[0;32m    142\u001b[0m             \u001b[38;5;124mf\u001b[39m\u001b[38;5;124m\"\u001b[39m\u001b[38;5;124mPlot \u001b[39m\u001b[38;5;132;01m{\u001b[39;00mname\u001b[38;5;132;01m}\u001b[39;00m\u001b[38;5;124m is not available. List of available plots: \u001b[39m\u001b[38;5;132;01m{\u001b[39;00m\u001b[38;5;28mlist\u001b[39m(available_plots\u001b[38;5;241m.\u001b[39mkeys())\u001b[38;5;132;01m}\u001b[39;00m\u001b[38;5;124m\"\u001b[39m\n\u001b[0;32m    143\u001b[0m         )\n",
      "File \u001b[1;32m~\\PycharmProjects\\AeroMAPS\\aeromaps\\plots\\costs.py:352\u001b[0m, in \u001b[0;36mScenarioEnergyUnitCostPlot.__init__\u001b[1;34m(self, data)\u001b[0m\n\u001b[0;32m    347\u001b[0m \u001b[38;5;28mself\u001b[39m\u001b[38;5;241m.\u001b[39mprospective_years \u001b[38;5;241m=\u001b[39m data[\u001b[38;5;124m\"\u001b[39m\u001b[38;5;124myears\u001b[39m\u001b[38;5;124m\"\u001b[39m][\u001b[38;5;124m\"\u001b[39m\u001b[38;5;124mprospective_years\u001b[39m\u001b[38;5;124m\"\u001b[39m]\n\u001b[0;32m    349\u001b[0m \u001b[38;5;28mself\u001b[39m\u001b[38;5;241m.\u001b[39mfig, \u001b[38;5;28mself\u001b[39m\u001b[38;5;241m.\u001b[39max \u001b[38;5;241m=\u001b[39m plt\u001b[38;5;241m.\u001b[39msubplots(\n\u001b[0;32m    350\u001b[0m     figsize\u001b[38;5;241m=\u001b[39m(plot_3_x, plot_3_y),\n\u001b[0;32m    351\u001b[0m )\n\u001b[1;32m--> 352\u001b[0m \u001b[38;5;28;43mself\u001b[39;49m\u001b[38;5;241;43m.\u001b[39;49m\u001b[43mcreate_plot\u001b[49m\u001b[43m(\u001b[49m\u001b[43m)\u001b[49m\n",
      "File \u001b[1;32m~\\PycharmProjects\\AeroMAPS\\aeromaps\\plots\\costs.py:357\u001b[0m, in \u001b[0;36mScenarioEnergyUnitCostPlot.create_plot\u001b[1;34m(self)\u001b[0m\n\u001b[0;32m    354\u001b[0m \u001b[38;5;28;01mdef\u001b[39;00m \u001b[38;5;21mcreate_plot\u001b[39m(\u001b[38;5;28mself\u001b[39m):\n\u001b[0;32m    355\u001b[0m     (\u001b[38;5;28mself\u001b[39m\u001b[38;5;241m.\u001b[39mline_kerosene_price,) \u001b[38;5;241m=\u001b[39m \u001b[38;5;28mself\u001b[39m\u001b[38;5;241m.\u001b[39max\u001b[38;5;241m.\u001b[39mplot(\n\u001b[0;32m    356\u001b[0m         \u001b[38;5;28mself\u001b[39m\u001b[38;5;241m.\u001b[39mprospective_years,\n\u001b[1;32m--> 357\u001b[0m         \u001b[38;5;28;43mself\u001b[39;49m\u001b[38;5;241;43m.\u001b[39;49m\u001b[43mdf\u001b[49m\u001b[38;5;241;43m.\u001b[39;49m\u001b[43mloc\u001b[49m\u001b[43m[\u001b[49m\u001b[38;5;28;43mself\u001b[39;49m\u001b[38;5;241;43m.\u001b[39;49m\u001b[43mprospective_years\u001b[49m\u001b[43m,\u001b[49m\u001b[43m \u001b[49m\u001b[38;5;124;43m\"\u001b[39;49m\u001b[38;5;124;43mkerosene_market_price\u001b[39;49m\u001b[38;5;124;43m\"\u001b[39;49m\u001b[43m]\u001b[49m \u001b[38;5;241m/\u001b[39m \u001b[38;5;241m35.3\u001b[39m,\n\u001b[0;32m    358\u001b[0m         color\u001b[38;5;241m=\u001b[39m\u001b[38;5;124m\"\u001b[39m\u001b[38;5;124m#2A3438\u001b[39m\u001b[38;5;124m\"\u001b[39m,\n\u001b[0;32m    359\u001b[0m         linestyle\u001b[38;5;241m=\u001b[39m\u001b[38;5;124m\"\u001b[39m\u001b[38;5;124m-\u001b[39m\u001b[38;5;124m\"\u001b[39m,\n\u001b[0;32m    360\u001b[0m         label\u001b[38;5;241m=\u001b[39m\u001b[38;5;124m\"\u001b[39m\u001b[38;5;124mFossil Kerosene\u001b[39m\u001b[38;5;124m\"\u001b[39m,\n\u001b[0;32m    361\u001b[0m         linewidth\u001b[38;5;241m=\u001b[39m\u001b[38;5;241m2\u001b[39m,\n\u001b[0;32m    362\u001b[0m     )\n\u001b[0;32m    364\u001b[0m     (\u001b[38;5;28mself\u001b[39m\u001b[38;5;241m.\u001b[39mline_biofuel_hefa_fog_mfsp,) \u001b[38;5;241m=\u001b[39m \u001b[38;5;28mself\u001b[39m\u001b[38;5;241m.\u001b[39max\u001b[38;5;241m.\u001b[39mplot(\n\u001b[0;32m    365\u001b[0m         \u001b[38;5;28mself\u001b[39m\u001b[38;5;241m.\u001b[39mprospective_years,\n\u001b[0;32m    366\u001b[0m         \u001b[38;5;28mself\u001b[39m\u001b[38;5;241m.\u001b[39mdf\u001b[38;5;241m.\u001b[39mloc[\u001b[38;5;28mself\u001b[39m\u001b[38;5;241m.\u001b[39mprospective_years, \u001b[38;5;124m\"\u001b[39m\u001b[38;5;124mbiofuel_hefa_fog_mfsp\u001b[39m\u001b[38;5;124m\"\u001b[39m] \u001b[38;5;241m/\u001b[39m \u001b[38;5;241m35.3\u001b[39m,\n\u001b[1;32m   (...)\u001b[0m\n\u001b[0;32m    370\u001b[0m         linewidth\u001b[38;5;241m=\u001b[39m\u001b[38;5;241m2\u001b[39m,\n\u001b[0;32m    371\u001b[0m     )\n\u001b[0;32m    373\u001b[0m     (\u001b[38;5;28mself\u001b[39m\u001b[38;5;241m.\u001b[39mline_biofuel_hefa_others_mfsp,) \u001b[38;5;241m=\u001b[39m \u001b[38;5;28mself\u001b[39m\u001b[38;5;241m.\u001b[39max\u001b[38;5;241m.\u001b[39mplot(\n\u001b[0;32m    374\u001b[0m         \u001b[38;5;28mself\u001b[39m\u001b[38;5;241m.\u001b[39mprospective_years,\n\u001b[0;32m    375\u001b[0m         \u001b[38;5;28mself\u001b[39m\u001b[38;5;241m.\u001b[39mdf\u001b[38;5;241m.\u001b[39mloc[\u001b[38;5;28mself\u001b[39m\u001b[38;5;241m.\u001b[39mprospective_years, \u001b[38;5;124m\"\u001b[39m\u001b[38;5;124mbiofuel_hefa_others_mfsp\u001b[39m\u001b[38;5;124m\"\u001b[39m] \u001b[38;5;241m/\u001b[39m \u001b[38;5;241m35.3\u001b[39m,\n\u001b[1;32m   (...)\u001b[0m\n\u001b[0;32m    379\u001b[0m         linewidth\u001b[38;5;241m=\u001b[39m\u001b[38;5;241m2\u001b[39m,\n\u001b[0;32m    380\u001b[0m     )\n",
      "File \u001b[1;32m~\\AppData\\Local\\miniconda3\\envs\\AeroMAPS_prod_env\\lib\\site-packages\\pandas\\core\\indexing.py:1067\u001b[0m, in \u001b[0;36m_LocationIndexer.__getitem__\u001b[1;34m(self, key)\u001b[0m\n\u001b[0;32m   1065\u001b[0m     \u001b[38;5;28;01mif\u001b[39;00m \u001b[38;5;28mself\u001b[39m\u001b[38;5;241m.\u001b[39m_is_scalar_access(key):\n\u001b[0;32m   1066\u001b[0m         \u001b[38;5;28;01mreturn\u001b[39;00m \u001b[38;5;28mself\u001b[39m\u001b[38;5;241m.\u001b[39mobj\u001b[38;5;241m.\u001b[39m_get_value(\u001b[38;5;241m*\u001b[39mkey, takeable\u001b[38;5;241m=\u001b[39m\u001b[38;5;28mself\u001b[39m\u001b[38;5;241m.\u001b[39m_takeable)\n\u001b[1;32m-> 1067\u001b[0m     \u001b[38;5;28;01mreturn\u001b[39;00m \u001b[38;5;28;43mself\u001b[39;49m\u001b[38;5;241;43m.\u001b[39;49m\u001b[43m_getitem_tuple\u001b[49m\u001b[43m(\u001b[49m\u001b[43mkey\u001b[49m\u001b[43m)\u001b[49m\n\u001b[0;32m   1068\u001b[0m \u001b[38;5;28;01melse\u001b[39;00m:\n\u001b[0;32m   1069\u001b[0m     \u001b[38;5;66;03m# we by definition only have the 0th axis\u001b[39;00m\n\u001b[0;32m   1070\u001b[0m     axis \u001b[38;5;241m=\u001b[39m \u001b[38;5;28mself\u001b[39m\u001b[38;5;241m.\u001b[39maxis \u001b[38;5;129;01mor\u001b[39;00m \u001b[38;5;241m0\u001b[39m\n",
      "File \u001b[1;32m~\\AppData\\Local\\miniconda3\\envs\\AeroMAPS_prod_env\\lib\\site-packages\\pandas\\core\\indexing.py:1247\u001b[0m, in \u001b[0;36m_LocIndexer._getitem_tuple\u001b[1;34m(self, tup)\u001b[0m\n\u001b[0;32m   1245\u001b[0m \u001b[38;5;28;01mwith\u001b[39;00m suppress(IndexingError):\n\u001b[0;32m   1246\u001b[0m     tup \u001b[38;5;241m=\u001b[39m \u001b[38;5;28mself\u001b[39m\u001b[38;5;241m.\u001b[39m_expand_ellipsis(tup)\n\u001b[1;32m-> 1247\u001b[0m     \u001b[38;5;28;01mreturn\u001b[39;00m \u001b[38;5;28;43mself\u001b[39;49m\u001b[38;5;241;43m.\u001b[39;49m\u001b[43m_getitem_lowerdim\u001b[49m\u001b[43m(\u001b[49m\u001b[43mtup\u001b[49m\u001b[43m)\u001b[49m\n\u001b[0;32m   1249\u001b[0m \u001b[38;5;66;03m# no multi-index, so validate all of the indexers\u001b[39;00m\n\u001b[0;32m   1250\u001b[0m tup \u001b[38;5;241m=\u001b[39m \u001b[38;5;28mself\u001b[39m\u001b[38;5;241m.\u001b[39m_validate_tuple_indexer(tup)\n",
      "File \u001b[1;32m~\\AppData\\Local\\miniconda3\\envs\\AeroMAPS_prod_env\\lib\\site-packages\\pandas\\core\\indexing.py:967\u001b[0m, in \u001b[0;36m_LocationIndexer._getitem_lowerdim\u001b[1;34m(self, tup)\u001b[0m\n\u001b[0;32m    963\u001b[0m \u001b[38;5;28;01mfor\u001b[39;00m i, key \u001b[38;5;129;01min\u001b[39;00m \u001b[38;5;28menumerate\u001b[39m(tup):\n\u001b[0;32m    964\u001b[0m     \u001b[38;5;28;01mif\u001b[39;00m is_label_like(key):\n\u001b[0;32m    965\u001b[0m         \u001b[38;5;66;03m# We don't need to check for tuples here because those are\u001b[39;00m\n\u001b[0;32m    966\u001b[0m         \u001b[38;5;66;03m#  caught by the _is_nested_tuple_indexer check above.\u001b[39;00m\n\u001b[1;32m--> 967\u001b[0m         section \u001b[38;5;241m=\u001b[39m \u001b[38;5;28;43mself\u001b[39;49m\u001b[38;5;241;43m.\u001b[39;49m\u001b[43m_getitem_axis\u001b[49m\u001b[43m(\u001b[49m\u001b[43mkey\u001b[49m\u001b[43m,\u001b[49m\u001b[43m \u001b[49m\u001b[43maxis\u001b[49m\u001b[38;5;241;43m=\u001b[39;49m\u001b[43mi\u001b[49m\u001b[43m)\u001b[49m\n\u001b[0;32m    969\u001b[0m         \u001b[38;5;66;03m# We should never have a scalar section here, because\u001b[39;00m\n\u001b[0;32m    970\u001b[0m         \u001b[38;5;66;03m#  _getitem_lowerdim is only called after a check for\u001b[39;00m\n\u001b[0;32m    971\u001b[0m         \u001b[38;5;66;03m#  is_scalar_access, which that would be.\u001b[39;00m\n\u001b[0;32m    972\u001b[0m         \u001b[38;5;28;01mif\u001b[39;00m section\u001b[38;5;241m.\u001b[39mndim \u001b[38;5;241m==\u001b[39m \u001b[38;5;28mself\u001b[39m\u001b[38;5;241m.\u001b[39mndim:\n\u001b[0;32m    973\u001b[0m             \u001b[38;5;66;03m# we're in the middle of slicing through a MultiIndex\u001b[39;00m\n\u001b[0;32m    974\u001b[0m             \u001b[38;5;66;03m# revise the key wrt to `section` by inserting an _NS\u001b[39;00m\n",
      "File \u001b[1;32m~\\AppData\\Local\\miniconda3\\envs\\AeroMAPS_prod_env\\lib\\site-packages\\pandas\\core\\indexing.py:1312\u001b[0m, in \u001b[0;36m_LocIndexer._getitem_axis\u001b[1;34m(self, key, axis)\u001b[0m\n\u001b[0;32m   1310\u001b[0m \u001b[38;5;66;03m# fall thru to straight lookup\u001b[39;00m\n\u001b[0;32m   1311\u001b[0m \u001b[38;5;28mself\u001b[39m\u001b[38;5;241m.\u001b[39m_validate_key(key, axis)\n\u001b[1;32m-> 1312\u001b[0m \u001b[38;5;28;01mreturn\u001b[39;00m \u001b[38;5;28;43mself\u001b[39;49m\u001b[38;5;241;43m.\u001b[39;49m\u001b[43m_get_label\u001b[49m\u001b[43m(\u001b[49m\u001b[43mkey\u001b[49m\u001b[43m,\u001b[49m\u001b[43m \u001b[49m\u001b[43maxis\u001b[49m\u001b[38;5;241;43m=\u001b[39;49m\u001b[43maxis\u001b[49m\u001b[43m)\u001b[49m\n",
      "File \u001b[1;32m~\\AppData\\Local\\miniconda3\\envs\\AeroMAPS_prod_env\\lib\\site-packages\\pandas\\core\\indexing.py:1260\u001b[0m, in \u001b[0;36m_LocIndexer._get_label\u001b[1;34m(self, label, axis)\u001b[0m\n\u001b[0;32m   1258\u001b[0m \u001b[38;5;28;01mdef\u001b[39;00m \u001b[38;5;21m_get_label\u001b[39m(\u001b[38;5;28mself\u001b[39m, label, axis: \u001b[38;5;28mint\u001b[39m):\n\u001b[0;32m   1259\u001b[0m     \u001b[38;5;66;03m# GH#5567 this will fail if the label is not present in the axis.\u001b[39;00m\n\u001b[1;32m-> 1260\u001b[0m     \u001b[38;5;28;01mreturn\u001b[39;00m \u001b[38;5;28;43mself\u001b[39;49m\u001b[38;5;241;43m.\u001b[39;49m\u001b[43mobj\u001b[49m\u001b[38;5;241;43m.\u001b[39;49m\u001b[43mxs\u001b[49m\u001b[43m(\u001b[49m\u001b[43mlabel\u001b[49m\u001b[43m,\u001b[49m\u001b[43m \u001b[49m\u001b[43maxis\u001b[49m\u001b[38;5;241;43m=\u001b[39;49m\u001b[43maxis\u001b[49m\u001b[43m)\u001b[49m\n",
      "File \u001b[1;32m~\\AppData\\Local\\miniconda3\\envs\\AeroMAPS_prod_env\\lib\\site-packages\\pandas\\core\\generic.py:4041\u001b[0m, in \u001b[0;36mNDFrame.xs\u001b[1;34m(self, key, axis, level, drop_level)\u001b[0m\n\u001b[0;32m   4039\u001b[0m \u001b[38;5;28;01mif\u001b[39;00m axis \u001b[38;5;241m==\u001b[39m \u001b[38;5;241m1\u001b[39m:\n\u001b[0;32m   4040\u001b[0m     \u001b[38;5;28;01mif\u001b[39;00m drop_level:\n\u001b[1;32m-> 4041\u001b[0m         \u001b[38;5;28;01mreturn\u001b[39;00m \u001b[38;5;28;43mself\u001b[39;49m\u001b[43m[\u001b[49m\u001b[43mkey\u001b[49m\u001b[43m]\u001b[49m\n\u001b[0;32m   4042\u001b[0m     index \u001b[38;5;241m=\u001b[39m \u001b[38;5;28mself\u001b[39m\u001b[38;5;241m.\u001b[39mcolumns\n\u001b[0;32m   4043\u001b[0m \u001b[38;5;28;01melse\u001b[39;00m:\n",
      "File \u001b[1;32m~\\AppData\\Local\\miniconda3\\envs\\AeroMAPS_prod_env\\lib\\site-packages\\pandas\\core\\frame.py:3807\u001b[0m, in \u001b[0;36mDataFrame.__getitem__\u001b[1;34m(self, key)\u001b[0m\n\u001b[0;32m   3805\u001b[0m \u001b[38;5;28;01mif\u001b[39;00m \u001b[38;5;28mself\u001b[39m\u001b[38;5;241m.\u001b[39mcolumns\u001b[38;5;241m.\u001b[39mnlevels \u001b[38;5;241m>\u001b[39m \u001b[38;5;241m1\u001b[39m:\n\u001b[0;32m   3806\u001b[0m     \u001b[38;5;28;01mreturn\u001b[39;00m \u001b[38;5;28mself\u001b[39m\u001b[38;5;241m.\u001b[39m_getitem_multilevel(key)\n\u001b[1;32m-> 3807\u001b[0m indexer \u001b[38;5;241m=\u001b[39m \u001b[38;5;28;43mself\u001b[39;49m\u001b[38;5;241;43m.\u001b[39;49m\u001b[43mcolumns\u001b[49m\u001b[38;5;241;43m.\u001b[39;49m\u001b[43mget_loc\u001b[49m\u001b[43m(\u001b[49m\u001b[43mkey\u001b[49m\u001b[43m)\u001b[49m\n\u001b[0;32m   3808\u001b[0m \u001b[38;5;28;01mif\u001b[39;00m is_integer(indexer):\n\u001b[0;32m   3809\u001b[0m     indexer \u001b[38;5;241m=\u001b[39m [indexer]\n",
      "File \u001b[1;32m~\\AppData\\Local\\miniconda3\\envs\\AeroMAPS_prod_env\\lib\\site-packages\\pandas\\core\\indexes\\base.py:3804\u001b[0m, in \u001b[0;36mIndex.get_loc\u001b[1;34m(self, key, method, tolerance)\u001b[0m\n\u001b[0;32m   3802\u001b[0m     \u001b[38;5;28;01mreturn\u001b[39;00m \u001b[38;5;28mself\u001b[39m\u001b[38;5;241m.\u001b[39m_engine\u001b[38;5;241m.\u001b[39mget_loc(casted_key)\n\u001b[0;32m   3803\u001b[0m \u001b[38;5;28;01mexcept\u001b[39;00m \u001b[38;5;167;01mKeyError\u001b[39;00m \u001b[38;5;28;01mas\u001b[39;00m err:\n\u001b[1;32m-> 3804\u001b[0m     \u001b[38;5;28;01mraise\u001b[39;00m \u001b[38;5;167;01mKeyError\u001b[39;00m(key) \u001b[38;5;28;01mfrom\u001b[39;00m \u001b[38;5;21;01merr\u001b[39;00m\n\u001b[0;32m   3805\u001b[0m \u001b[38;5;28;01mexcept\u001b[39;00m \u001b[38;5;167;01mTypeError\u001b[39;00m:\n\u001b[0;32m   3806\u001b[0m     \u001b[38;5;66;03m# If we have a listlike key, _check_indexing_error will raise\u001b[39;00m\n\u001b[0;32m   3807\u001b[0m     \u001b[38;5;66;03m#  InvalidIndexError. Otherwise we fall through and re-raise\u001b[39;00m\n\u001b[0;32m   3808\u001b[0m     \u001b[38;5;66;03m#  the TypeError.\u001b[39;00m\n\u001b[0;32m   3809\u001b[0m     \u001b[38;5;28mself\u001b[39m\u001b[38;5;241m.\u001b[39m_check_indexing_error(key)\n",
      "\u001b[1;31mKeyError\u001b[0m: 'kerosene_market_price'"
     ]
    },
    {
     "data": {
      "application/vnd.jupyter.widget-view+json": {
       "model_id": "0d0ae1ecda354f0f809c0c4655c142a8",
       "version_major": 2,
       "version_minor": 0
      },
      "image/png": "[encoded data removed]",
      "text/html": [
       "\n",
       "            <div style=\"display: inline-block;\">\n",
       "                <div class=\"jupyter-widgets widget-label\" style=\"text-align: center;\">\n",
       "                    Figure\n",
       "                </div>\n",
       "                <img src='data:image/png;base64,iVBORw0KGgoAAAANSUhEUgAAAZAAAAGQCAYAAACAvzbMAAAAOXRFWHRTb2Z0d2FyZQBNYXRwbG90bGliIHZlcnNpb24zLjYuMywgaHR0cHM6Ly9tYXRwbG90bGliLm9yZy/P9b71AAAACXBIWXMAAA9hAAAPYQGoP6dpAAAaZElEQVR4nO3df2zU9R3H8Vdb6BUiPXCsR+lOO3D4C6XYSi1IjMvNJppu/LHYiaFd44+p1SiXTahgq6KU+YN0kSIRdZpMVhwRZ6Sp005i1C7EQhOdgMGiZcYrdI4eFm2h99kfhnO1LaNvvu21+nwk90c/+37v3h9w9/R7dz2TnHNOAAAMUXKiBwAAjE0EBABgQkAAACYEBABgQkAAACYEBABgQkAAACYEBABgQkAAACYEBABgQkAAACYEBABgQkAAACYEBABgQkAAACYEBABgQkAAACYEBABgQkAAACYEBABgQkAAACYEBABgQkAAACYEBABgQkAAACYEBABgQkAAACYEBABgQkAAACYEBABgQkAAACYEBABgQkAAACYEBABgQkAAACYEBABgQkAAACYEBABgQkAAACYEBABgQkAAACYEBABgQkAAACaeB+TNN99UUVGRpk+frqSkJL300kv/95zt27frkksukc/n0znnnKNnn33W67EAAB7zPCBdXV2aM2eOamtrT+n4/fv365prrtGVV16plpYW3XXXXbrxxhv16quvej0aAMBDSc45N2x3npSkrVu3atGiRYMes2zZMm3btk3vv/9+fO1Xv/qVDh8+rIaGhuEaDQBwmsYleoCmpiaFQqE+a4WFhbrrrrsGPae7u1vd3d3xn2OxmD7//HP94Ac/UFJS0nCNCgAjxjmnI0eOaPr06UpOHp1vVyc8IJFIRIFAoM9aIBBQNBrVl19+qQkTJvQ7p7q6Wvfff/9IjQgACXPgwAH96Ec/SvQYA0p4QCwqKioUDofjP3d2duqss87SgQMHlJ6ensDJAMAb0WhUwWBQkyZNSvQog0p4QKZNm6b29vY+a+3t7UpPTx/w6kOSfD6ffD5fv/X09HQCAuA7ZTS/LJ/wF9YKCgrU2NjYZ+21115TQUFBgiYCAJwKzwPyxRdfqKWlRS0tLZK+/phuS0uL2traJH398lNJSUn8+FtuuUWtra26++67tWfPHq1fv14vvPCCli5d6vVoAAAPeR6Qd999V3PnztXcuXMlSeFwWHPnzlVlZaUk6bPPPovHRJJ+/OMfa9u2bXrttdc0Z84cPfbYY3rqqadUWFjo9WgAAA8N6++BjJRoNCq/36/Ozk7eAwHwnTAWntcS/h4IAGBsIiAAABMCAgAwISAAABMCAgAwISAAABMCAgAwISAAABMCAgAwISAAABMCAgAwISAAABMCAgAwISAAABMCAgAwISAAABMCAgAwISAAABMCAgAwISAAABMCAgAwISAAABMCAgAwISAAABMCAgAwISAAABMCAgAwISAAABMCAgAwISAAABMCAgAwISAAABMCAgAwISAAABMCAgAwISAAABMCAgAwISAAABMCAgAwISAAABMCAgAwISAAABMCAgAwISAAABMCAgAwISAAABMCAgAwISAAABMCAgAwISAAAJNhCUhtba2ys7OVlpam/Px87dix46TH19TU6Nxzz9WECRMUDAa1dOlSffXVV8MxGgDAI54HZPPmzQqHw6qqqtLOnTs1Z84cFRYW6uDBgwMev2nTJi1fvlxVVVXavXu3nn76aW3evFn33HOP16MBADzkeUDWrl2rm266SWVlZbrgggu0YcMGTZw4Uc8888yAx7/zzjtasGCBFi9erOzsbF111VW67rrr/u9VCwAgsTwNSE9Pj5qbmxUKhb55gORkhUIhNTU1DXjO/Pnz1dzcHA9Ga2ur6uvrdfXVV3s5GgDAY+O8vLOOjg719vYqEAj0WQ8EAtqzZ8+A5yxevFgdHR26/PLL5ZzT8ePHdcstt5z0Jazu7m51d3fHf45Go95sAABwyhL+Kazt27dr9erVWr9+vXbu3KkXX3xR27Zt06pVqwY9p7q6Wn6/P34LBoMjODEAQJKSnHPOqzvr6enRxIkTtWXLFi1atCi+XlpaqsOHD+uvf/1rv3MWLlyoyy67TI888kh87U9/+pNuvvlmffHFF0pO7t+4ga5AgsGgOjs7lZ6e7tV2ACBhotGo/H7/qH5e8/QKJDU1Vbm5uWpsbIyvxWIxNTY2qqCgYMBzjh492i8SKSkpkqTB2ubz+ZSent7nBgAYWZ6+ByJJ4XBYpaWlysvL07x581RTU6Ouri6VlZVJkkpKSpSVlaXq6mpJUlFRkdauXau5c+cqPz9f+/bt07333quioqJ4SAAAo4/nASkuLtahQ4dUWVmpSCSinJwcNTQ0xN9Yb2tr63PFsXLlSiUlJWnlypX69NNP9cMf/lBFRUV66KGHvB4NAOAhT98DSZSx8FohAAzFWHheS/insAAAYxMBAQCYEBAAgAkBAQCYEBAAgAkBAQCYEBAAgAkBAQCYEBAAgAkBAQCYEBAAgAkBAQCYEBAAgAkBAQCYEBAAgAkBAQCYEBAAgAkBAQCYEBAAgAkBAQCYEBAAgAkBAQCYEBAAgAkBAQCYEBAAgAkBAQCYEBAAgAkBAQCYEBAAgAkBAQCYEBAAgAkBAQCYEBAAgAkBAQCYEBAAgAkBAQCYEBAAgAkBAQCYEBAAgAkBAQCYEBAAgAkBAQCYEBAAgAkBAQCYEBAAgAkBAQCYEBAAgAkBAQCYEBAAgAkBAQCYEBAAgMmwBKS2tlbZ2dlKS0tTfn6+duzYcdLjDx8+rPLycmVmZsrn82nWrFmqr68fjtEAAB4Z5/Udbt68WeFwWBs2bFB+fr5qampUWFiovXv3KiMjo9/xPT09+tnPfqaMjAxt2bJFWVlZ+uSTTzR58mSvRwMAeCjJOee8vMP8/HxdeumlWrdunSQpFospGAzqjjvu0PLly/sdv2HDBj3yyCPas2ePxo8fb3rMaDQqv9+vzs5Opaenn9b8ADAajIXnNU9fwurp6VFzc7NCodA3D5CcrFAopKampgHPefnll1VQUKDy8nIFAgHNnj1bq1evVm9v76CP093drWg02ucGABhZngako6NDvb29CgQCfdYDgYAikciA57S2tmrLli3q7e1VfX297r33Xj322GN68MEHB32c6upq+f3++C0YDHq5DQDAKUj4p7BisZgyMjL05JNPKjc3V8XFxVqxYoU2bNgw6DkVFRXq7OyM3w4cODCCEwMAJI/fRJ86dapSUlLU3t7eZ729vV3Tpk0b8JzMzEyNHz9eKSkp8bXzzz9fkUhEPT09Sk1N7XeOz+eTz+fzcnQAwBB5egWSmpqq3NxcNTY2xtdisZgaGxtVUFAw4DkLFizQvn37FIvF4msffvihMjMzB4wHAGB08PwlrHA4rI0bN+q5557T7t27deutt6qrq0tlZWWSpJKSElVUVMSPv/XWW/X555/rzjvv1Icffqht27Zp9erVKi8v93o0AICHPP89kOLiYh06dEiVlZWKRCLKyclRQ0ND/I31trY2JSd/061gMKhXX31VS5cu1cUXX6ysrCzdeeedWrZsmdejAQA85PnvgSTCWPi8NAAMxVh4Xkv4p7AAAGMTAQEAmBAQAIAJAQEAmBAQAIAJAQEAmBAQAIAJAQEAmBAQAIAJAQEAmBAQAIAJAQEAmBAQAIAJAQEAmBAQAIAJAQEAmBAQAIAJAQEAmBAQAIAJAQEAmBAQAIAJAQEAmBAQAIAJAQEAmBAQAIAJAQEAmBAQAIAJAQEAmBAQAIAJAQEAmBAQAIAJAQEAmBAQAIAJAQEAmBAQAIAJAQEAmBAQAIAJAQEAmBAQAIAJAQEAmBAQAIAJAQEAmBAQAIAJAQEAmBAQAIAJAQEAmBAQAIAJAQEAmBAQAIAJAQEAmAxLQGpra5Wdna20tDTl5+drx44dp3ReXV2dkpKStGjRouEYCwDgIc8DsnnzZoXDYVVVVWnnzp2aM2eOCgsLdfDgwZOe9/HHH+u3v/2tFi5c6PVIAIBh4HlA1q5dq5tuukllZWW64IILtGHDBk2cOFHPPPPMoOf09vbq+uuv1/33368ZM2Z4PRIAYBh4GpCenh41NzcrFAp98wDJyQqFQmpqahr0vAceeEAZGRm64YYbvBwHADCMxnl5Zx0dHert7VUgEOizHggEtGfPngHPeeutt/T000+rpaXllB+nu7tb3d3d8Z+j0ahpXgCAXUI/hXXkyBEtWbJEGzdu1NSpU0/5vOrqavn9/vgtGAwO45QAgIF4egUydepUpaSkqL29vc96e3u7pk2b1u/4jz76SB9//LGKioria7FY7OvBxo3T3r17NXPmzH7nVVRUKBwOx3+ORqNEBABGmKcBSU1NVW5urhobG+MfxY3FYmpsbNTtt9/e7/jzzjtP7733Xp+1lStX6siRI/rDH/4waBR8Pp98Pp+XowMAhsjTgEhSOBxWaWmp8vLyNG/ePNXU1Kirq0tlZWWSpJKSEmVlZam6ulppaWmaPXt2n/MnT54sSf3WAQCji+cBKS4u1qFDh1RZWalIJKKcnBw1NDTE31hva2tTcjK/AA8AY12Sc84leojTFY1G5ff71dnZqfT09ESPAwCnbSw8r3EpAAAwISAAABMCAgAwISAAABMCAgAwISAAABMCAgAwISAAABMCAgAwISAAABMCAgAwISAAABMCAgAwISAAABMCAgAwISAAABMCAgAwISAAABMCAgAwISAAABMCAgAwISAAABMCAgAwISAAABMCAgAwISAAABMCAgAwISAAABMCAgAwISAAABMCAgAwISAAABMCAgAwISAAABMCAgAwISAAABMCAgAwISAAABMCAgAwISAAABMCAgAwISAAABMCAgAwISAAABMCAgAwISAAABMCAgAwISAAABMCAgAwISAAABMCAgAwGZaA1NbWKjs7W2lpacrPz9eOHTsGPXbjxo1auHChpkyZoilTpigUCp30eADA6OB5QDZv3qxwOKyqqirt3LlTc+bMUWFhoQ4ePDjg8du3b9d1112nN954Q01NTQoGg7rqqqv06aefej0aAMBDSc455+Ud5ufn69JLL9W6deskSbFYTMFgUHfccYeWL1/+f8/v7e3VlClTtG7dOpWUlJzSY0ajUfn9fnV2dio9Pf205geA0WAsPK95egXS09Oj5uZmhUKhbx4gOVmhUEhNTU2ndB9Hjx7VsWPHdOaZZw56THd3t6LRaJ8bAGBkeRqQjo4O9fb2KhAI9FkPBAKKRCKndB/Lli3T9OnT+0To26qrq+X3++O3YDB4WnMDAIZuVH0Ka82aNaqrq9PWrVuVlpY26HEVFRXq7OyM3w4cODCCUwIAJGmcl3c2depUpaSkqL29vc96e3u7pk2bdtJzH330Ua1Zs0avv/66Lr744pMe6/P55PP5TnteAICdp1cgqampys3NVWNjY3wtFoupsbFRBQUFg5738MMPa9WqVWpoaFBeXp6XIwEAhomnVyCSFA6HVVpaqry8PM2bN081NTXq6upSWVmZJKmkpERZWVmqrq6WJP3+979XZWWlNm3apOzs7Ph7JWeccYbOOOMMr8cDAHjE84AUFxfr0KFDqqysVCQSUU5OjhoaGuJvrLe1tSk5+ZsLnyeeeEI9PT365S9/2ed+qqqqdN9993k9HgDAI57/HkgijIXPSwPAUIyF57VR9SksAMDYQUAAACYEBABgQkAAACYEBABgQkAAACYEBABgQkAAACYEBABgQkAAACYEBABgQkAAACYEBABgQkAAACYEBABgQkAAACYEBABgQkAAACYEBABgQkAAACYEBABgQkAAACYEBABgQkAAACYEBABgQkAAACYEBABgQkAAACYEBABgQkAAACYEBABgQkAAACYEBABgQkAAACYEBABgQkAAACYEBABgQkAAACYEBABgQkAAACYEBABgQkAAACYEBABgQkAAACYEBABgQkAAACYEBABgQkAAACYEBABgQkAAACYEBABgMiwBqa2tVXZ2ttLS0pSfn68dO3ac9Pi//OUvOu+885SWlqaLLrpI9fX1wzEWAMBDngdk8+bNCofDqqqq0s6dOzVnzhwVFhbq4MGDAx7/zjvv6LrrrtMNN9ygXbt2adGiRVq0aJHef/99r0cDAHgoyTnnvLzD/Px8XXrppVq3bp0kKRaLKRgM6o477tDy5cv7HV9cXKyuri698sor8bXLLrtMOTk52rBhwyk9ZjQald/vV2dnp9LT073ZCAAk0Fh4Xhvn5Z319PSoublZFRUV8bXk5GSFQiE1NTUNeE5TU5PC4XCftcLCQr300kuDPk53d7e6u7vjP3d2dkr6+g8cAL4LTjyfefzv+J7yNCAdHR3q7e1VIBDosx4IBLRnz54Bz4lEIgMeH4lEBn2c6upq3X///f3Wg8GgYWoAGL3+/e9/y+/3J3qMAXkakJFSUVHR56rl8OHDOvvss9XW1jZq/6CHQzQaVTAY1IEDB0btJe5wYN/s+/ugs7NTZ511ls4888xEjzIoTwMydepUpaSkqL29vc96e3u7pk2bNuA506ZNG9LxkuTz+eTz+fqt+/3+79U/YCekp6ez7+8R9v39kpw8en/bwtPJUlNTlZubq8bGxvhaLBZTY2OjCgoKBjynoKCgz/GS9Nprrw16PABgdPD8JaxwOKzS0lLl5eVp3rx5qqmpUVdXl8rKyiRJJSUlysrKUnV1tSTpzjvv1BVXXKHHHntM11xzjerq6vTuu+/qySef9Ho0AICHPA9IcXGxDh06pMrKSkUiEeXk5KihoSH+RnlbW1ufS7L58+dr06ZNWrlype655x795Cc/0UsvvaTZs2ef8mP6fD5VVVUN+LLWdxn7Zt/fB+x79O7b898DAQB8P4zed2cAAKMaAQEAmBAQAIAJAQEAmIyZgHxfvyJ+KPveuHGjFi5cqClTpmjKlCkKhUL/989ptBrq3/cJdXV1SkpK0qJFi4Z3wGEy1H0fPnxY5eXlyszMlM/n06xZs8bkP+tD3XdNTY3OPfdcTZgwQcFgUEuXLtVXX301QtN6480331RRUZGmT5+upKSkk37/3wnbt2/XJZdcIp/Pp3POOUfPPvvssM95Um4MqKurc6mpqe6ZZ55x//znP91NN93kJk+e7Nrb2wc8/u2333YpKSnu4Ycfdh988IFbuXKlGz9+vHvvvfdGePLTM9R9L1682NXW1rpdu3a53bt3u1//+tfO7/e7f/3rXyM8+ekZ6r5P2L9/v8vKynILFy50v/jFL0ZmWA8Ndd/d3d0uLy/PXX311e6tt95y+/fvd9u3b3ctLS0jPPnpGeq+n3/+eefz+dzzzz/v9u/f71599VWXmZnpli5dOsKTn576+nq3YsUK9+KLLzpJbuvWrSc9vrW11U2cONGFw2H3wQcfuMcff9ylpKS4hoaGkRl4AGMiIPPmzXPl5eXxn3t7e9306dNddXX1gMdfe+217pprrumzlp+f737zm98M65xeG+q+v+348eNu0qRJ7rnnnhuuEYeFZd/Hjx938+fPd0899ZQrLS0dkwEZ6r6feOIJN2PGDNfT0zNSIw6Loe67vLzc/fSnP+2zFg6H3YIFC4Z1zuF0KgG5++673YUXXthnrbi42BUWFg7jZCc36l/COvEV8aFQKL52Kl8R/7/HS19/Rfxgx49Gln1/29GjR3Xs2LFR/WVs32bd9wMPPKCMjAzdcMMNIzGm5yz7fvnll1VQUKDy8nIFAgHNnj1bq1evVm9v70iNfdos+54/f76am5vjL3O1traqvr5eV1999YjMnCij8Xlt1H8b70h9RfxoY9n3ty1btkzTp0/v9w/daGbZ91tvvaWnn35aLS0tIzDh8LDsu7W1VX//+991/fXXq76+Xvv27dNtt92mY8eOqaqqaiTGPm2WfS9evFgdHR26/PLL5ZzT8ePHdcstt+iee+4ZiZETZrDntWg0qi+//FITJkwY8ZlG/RUIbNasWaO6ujpt3bpVaWlpiR5n2Bw5ckRLlizRxo0bNXXq1ESPM6JisZgyMjL05JNPKjc3V8XFxVqxYsUp/5c8x6rt27dr9erVWr9+vXbu3KkXX3xR27Zt06pVqxI92vfOqL8CGamviB9tLPs+4dFHH9WaNWv0+uuv6+KLLx7OMT031H1/9NFH+vjjj1VUVBRfi8VikqRx48Zp7969mjlz5vAO7QHL33dmZqbGjx+vlJSU+Nr555+vSCSinp4epaamDuvMXrDs+95779WSJUt04403SpIuuugidXV16eabb9aKFStG9defn47BntfS09MTcvUhjYErkO/rV8Rb9i1JDz/8sFatWqWGhgbl5eWNxKieGuq+zzvvPL333ntqaWmJ337+85/ryiuvVEtLy5j5r1Ra/r4XLFigffv2xYMpSR9++KEyMzPHRDwk276PHj3aLxInIuq+w1/tNyqf1xL29v0Q1NXVOZ/P55599ln3wQcfuJtvvtlNnjzZRSIR55xzS5YsccuXL48f//bbb7tx48a5Rx991O3evdtVVVWN2Y/xDmXfa9ascampqW7Lli3us88+i9+OHDmSqC2YDHXf3zZWP4U11H23tbW5SZMmudtvv93t3bvXvfLKKy4jI8M9+OCDidqCyVD3XVVV5SZNmuT+/Oc/u9bWVve3v/3NzZw501177bWJ2oLJkSNH3K5du9yuXbucJLd27Vq3a9cu98knnzjnnFu+fLlbsmRJ/PgTH+P93e9+53bv3u1qa2v5GO+pevzxx91ZZ53lUlNT3bx589w//vGP+P92xRVXuNLS0j7Hv/DCC27WrFkuNTXVXXjhhW7btm0jPLE3hrLvs88+20nqd6uqqhr5wU/TUP++/9dYDYhzQ9/3O++84/Lz853P53MzZsxwDz30kDt+/PgIT336hrLvY8eOufvuu8/NnDnTpaWluWAw6G677Tb3n//8Z+QHPw1vvPHGgP9/PbHX0tJSd8UVV/Q7Jycnx6WmproZM2a4P/7xjyM+9//i69wBACaj/j0QAMDoREAAACYEBABgQkAAACYEBABgQkAAACYEBABgQkAAACYEBABgQkAAACYEBABgQkAAACYEBABgQkAAACYEBABgQkAAACYEBABgQkAAACYEBABgQkAAACYEBABgQkAAACb/BaEI13JWW2SaAAAAAElFTkSuQmCC' width=400.0/>\n",
       "            </div>\n",
       "        "
      ],
      "text/plain": [
       "Canvas(toolbar=Toolbar(toolitems=[('Home', 'Reset original view', 'home', 'home'), ('Back', 'Back to previous …"
      ]
     },
     "metadata": {},
     "output_type": "display_data"
    }
   ],
   "source": [
    "process.plot('energy_mfsp')"
   ]
  },
  {
   "cell_type": "code",
   "execution_count": null,
   "metadata": {
    "tags": []
   },
   "outputs": [],
   "source": [
    "co2_abated_refueleu=process.data['vector_outputs'].co2_emissions_including_load_factor-process.data['vector_outputs'].co2_emissions_including_energy"
   ]
  },
  {
   "cell_type": "code",
   "execution_count": null,
   "metadata": {
    "tags": []
   },
   "outputs": [],
   "source": [
    "co2_target=process.data['vector_outputs'].co2_emissions_including_energy"
   ]
  },
  {
   "cell_type": "code",
   "execution_count": null,
   "metadata": {
    "tags": []
   },
   "outputs": [],
   "source": [
    "process.data['vector_outputs']['cumulative_co2_emissions'][2050]"
   ]
  },
  {
   "cell_type": "code",
   "execution_count": null,
   "metadata": {
    "tags": []
   },
   "outputs": [],
   "source": [
    "process.list_available_plots()"
   ]
  },
  {
   "cell_type": "code",
   "execution_count": null,
   "metadata": {
    "tags": []
   },
   "outputs": [],
   "source": [
    "process.plot('biomass_resource_budget_assessment')"
   ]
  },
  {
   "cell_type": "code",
   "execution_count": null,
   "metadata": {
    "tags": []
   },
   "outputs": [],
   "source": [
    "process.plot('electricity_resource_budget_assessment')"
   ]
  },
  {
   "cell_type": "code",
   "execution_count": null,
   "metadata": {},
   "outputs": [],
   "source": [
    "process"
   ]
  },
  {
   "cell_type": "markdown",
   "metadata": {},
   "source": [
    "#### "
   ]
  },
  {
   "cell_type": "markdown",
   "metadata": {},
   "source": [
    "## Low-CAC first"
   ]
  },
  {
   "cell_type": "code",
   "execution_count": null,
   "metadata": {
    "slideshow": {
     "slide_type": "subslide"
    },
    "tags": []
   },
   "outputs": [],
   "source": [
    "# Aircraft energy - Introduction of alternative drop-in fuels\n",
    "\n",
    "## Share of alternative fuels in the drop-in fuel mix by decade (the rest being supplemented by kerosene) [%]\n",
    "# # lowcost\n",
    "\n",
    "process.parameters.biofuel_share_2030 = 4.92\n",
    "process.parameters.biofuel_share_2040 = 27.87\n",
    "process.parameters.biofuel_share_2050 = 57.37\n",
    "process.parameters.electrofuel_share_2030 = 1.08\n",
    "process.parameters.electrofuel_share_2040 = 6.13\n",
    "process.parameters.electrofuel_share_2050 = 12.63\n"
   ]
  },
  {
   "cell_type": "code",
   "execution_count": null,
   "metadata": {
    "slideshow": {
     "slide_type": "subslide"
    },
    "tags": []
   },
   "outputs": [],
   "source": [
    "# Various environmental settings\n",
    "\n",
    "## Share of biofuel production pathways by decade (the rest being completed by AtJ processes) [%]\n",
    "\n",
    "\n",
    "# LOWCOST\n",
    "process.parameters.biofuel_hefa_fog_share_2030 = 1.12\n",
    "process.parameters.biofuel_hefa_fog_share_2040 = 1.12\n",
    "process.parameters.biofuel_hefa_fog_share_2050 = 1.12\n",
    "process.parameters.biofuel_hefa_others_share_2030 = 15.27\n",
    "process.parameters.biofuel_hefa_others_share_2040 = 15.27\n",
    "process.parameters.biofuel_hefa_others_share_2050 = 15.27\n",
    "process.parameters.biofuel_ft_others_share_2030 = 66.53\n",
    "process.parameters.biofuel_ft_others_share_2040 = 66.53\n",
    "process.parameters.biofuel_ft_others_share_2050 = 66.53\n",
    "process.parameters.biofuel_ft_msw_share_2030 = 6.44\n",
    "process.parameters.biofuel_ft_msw_share_2040 = 6.44\n",
    "process.parameters.biofuel_ft_msw_share_2050 = 6.44\n",
    "\n",
    "\n",
    "## Emission factors for electricity by decade (2019 value: 429 gCO2/kWh)\n",
    "process.parameters.electricity_emission_factor_2020 = 429\n",
    "process.parameters.electricity_emission_factor_2030 = 200\n",
    "process.parameters.electricity_emission_factor_2040 = 100\n",
    "process.parameters.electricity_emission_factor_2050 = 30\n",
    "\n",
    "## Share of hydrogen production pathways by decade (the rest being completed by production via coal without CCS) [%]\n",
    "## Distribution in 2019: Gas without CCS (71%), Coal without CCS (27%), Electrolysis (2%), Others with CCS (0%), Co-products not taken into account\n",
    "process.parameters.hydrogen_electrolysis_share_2030 = 100\n",
    "process.parameters.hydrogen_electrolysis_share_2040 = 100\n",
    "process.parameters.hydrogen_electrolysis_share_2050 = 100\n",
    "process.parameters.hydrogen_gas_ccs_share_2030 = 0\n",
    "process.parameters.hydrogen_gas_ccs_share_2040 = 0\n",
    "process.parameters.hydrogen_gas_ccs_share_2050 = 0\n",
    "process.parameters.hydrogen_coal_ccs_share_2030 = 0\n",
    "process.parameters.hydrogen_coal_ccs_share_2040 = 0\n",
    "process.parameters.hydrogen_coal_ccs_share_2050 = 0\n",
    "process.parameters.hydrogen_gas_share_2030 = 0\n",
    "process.parameters.hydrogen_gas_share_2040 = 0\n",
    "process.parameters.hydrogen_gas_share_2050 = 0"
   ]
  },
  {
   "cell_type": "code",
   "execution_count": null,
   "metadata": {
    "tags": []
   },
   "outputs": [],
   "source": [
    "#specific setup to 16% for mACC curve\n",
    "\n",
    "process.parameters.aviation_biomass_allocated_share = 10\n",
    "process.parameters.aviation_electricity_allocated_share = 10"
   ]
  },
  {
   "cell_type": "code",
   "execution_count": null,
   "metadata": {
    "tags": []
   },
   "outputs": [],
   "source": [
    "process.compute()\n",
    "undiscounted_lowcost=process.data['vector_outputs'].non_discounted_energy_expenses\n",
    "dicounted_lowcost=process.data['vector_outputs'].discounted_energy_expenses"
   ]
  },
  {
   "cell_type": "code",
   "execution_count": null,
   "metadata": {
    "tags": []
   },
   "outputs": [],
   "source": [
    "process.plot('energy_carbon_tax_effect')"
   ]
  },
  {
   "cell_type": "code",
   "execution_count": null,
   "metadata": {
    "tags": []
   },
   "outputs": [],
   "source": [
    "process.plot('energy_mfsp')"
   ]
  },
  {
   "cell_type": "code",
   "execution_count": null,
   "metadata": {
    "tags": []
   },
   "outputs": [],
   "source": [
    "co2_abated_lowcost=process.data['vector_outputs'].co2_emissions_including_load_factor-process.data['vector_outputs'].co2_emissions_including_energy"
   ]
  },
  {
   "cell_type": "markdown",
   "metadata": {},
   "source": [
    "## Low Carbon first"
   ]
  },
  {
   "cell_type": "code",
   "execution_count": null,
   "metadata": {
    "slideshow": {
     "slide_type": "subslide"
    },
    "tags": []
   },
   "outputs": [],
   "source": [
    "# Aircraft energy - Introduction of alternative drop-in fuels\n",
    "\n",
    "## Share of alternative fuels in the drop-in fuel mix by decade (the rest being supplemented by kerosene) [%]\n",
    "# # lowcost\n",
    "\n",
    "process.parameters.biofuel_share_2030 = 3.33\n",
    "process.parameters.biofuel_share_2040 = 18.86\n",
    "process.parameters.biofuel_share_2050 = 38.82\n",
    "process.parameters.electrofuel_share_2030 = 2.67\n",
    "process.parameters.electrofuel_share_2040 = 15.14\n",
    "process.parameters.electrofuel_share_2050 = 31.18\n"
   ]
  },
  {
   "cell_type": "code",
   "execution_count": null,
   "metadata": {
    "slideshow": {
     "slide_type": "subslide"
    },
    "tags": []
   },
   "outputs": [],
   "source": [
    "# Various environmental settings\n",
    "\n",
    "## Share of biofuel production pathways by decade (the rest being completed by AtJ processes) [%]\n",
    "# # LOWCARB\n",
    "process.parameters.biofuel_hefa_fog_share_2030 = 1.66\n",
    "process.parameters.biofuel_hefa_fog_share_2040 = 1.66\n",
    "process.parameters.biofuel_hefa_fog_share_2050 = 1.66\n",
    "process.parameters.biofuel_hefa_others_share_2030 = 0.0\n",
    "process.parameters.biofuel_hefa_others_share_2040 = 0.0\n",
    "process.parameters.biofuel_hefa_others_share_2050 = 0.0\n",
    "process.parameters.biofuel_ft_others_share_2030 = 98.34\n",
    "process.parameters.biofuel_ft_others_share_2040 = 98.34\n",
    "process.parameters.biofuel_ft_others_share_2050 = 98.34\n",
    "process.parameters.biofuel_ft_msw_share_2030 = 0.0\n",
    "process.parameters.biofuel_ft_msw_share_2040 = 0.0\n",
    "process.parameters.biofuel_ft_msw_share_2050 = 0.0\n",
    "\n",
    "\n",
    "## Emission factors for electricity by decade (2019 value: 429 gCO2/kWh)\n",
    "process.parameters.electricity_emission_factor_2020 = 429\n",
    "process.parameters.electricity_emission_factor_2030 = 200\n",
    "process.parameters.electricity_emission_factor_2040 = 100\n",
    "process.parameters.electricity_emission_factor_2050 = 30\n",
    "\n",
    "## Share of hydrogen production pathways by decade (the rest being completed by production via coal without CCS) [%]\n",
    "## Distribution in 2019: Gas without CCS (71%), Coal without CCS (27%), Electrolysis (2%), Others with CCS (0%), Co-products not taken into account\n",
    "process.parameters.hydrogen_electrolysis_share_2030 = 100\n",
    "process.parameters.hydrogen_electrolysis_share_2040 = 100\n",
    "process.parameters.hydrogen_electrolysis_share_2050 = 100\n",
    "process.parameters.hydrogen_gas_ccs_share_2030 = 0\n",
    "process.parameters.hydrogen_gas_ccs_share_2040 = 0\n",
    "process.parameters.hydrogen_gas_ccs_share_2050 = 0\n",
    "process.parameters.hydrogen_coal_ccs_share_2030 = 0\n",
    "process.parameters.hydrogen_coal_ccs_share_2040 = 0\n",
    "process.parameters.hydrogen_coal_ccs_share_2050 = 0\n",
    "process.parameters.hydrogen_gas_share_2030 = 0\n",
    "process.parameters.hydrogen_gas_share_2040 = 0\n",
    "process.parameters.hydrogen_gas_share_2050 = 0"
   ]
  },
  {
   "cell_type": "code",
   "execution_count": null,
   "metadata": {
    "tags": []
   },
   "outputs": [],
   "source": [
    "#specific setup to 16% for mACC curve\n",
    "\n",
    "process.parameters.aviation_biomass_allocated_share = 10\n",
    "process.parameters.aviation_electricity_allocated_share = 10"
   ]
  },
  {
   "cell_type": "code",
   "execution_count": null,
   "metadata": {
    "tags": []
   },
   "outputs": [],
   "source": [
    "process.compute()\n",
    "undiscounted_lowcarb=process.data['vector_outputs'].non_discounted_energy_expenses\n",
    "dicounted_lowcarb=process.data['vector_outputs'].discounted_energy_expenses"
   ]
  },
  {
   "cell_type": "code",
   "execution_count": null,
   "metadata": {
    "tags": []
   },
   "outputs": [],
   "source": [
    "process.plot('energy_mfsp')"
   ]
  },
  {
   "cell_type": "code",
   "execution_count": null,
   "metadata": {
    "tags": []
   },
   "outputs": [],
   "source": [
    "co2_abated_lowcarb=process.data['vector_outputs'].co2_emissions_including_load_factor-process.data['vector_outputs'].co2_emissions_including_energy"
   ]
  },
  {
   "cell_type": "code",
   "execution_count": null,
   "metadata": {
    "tags": []
   },
   "outputs": [],
   "source": [
    "process.plot('electricity_resource_budget_assessment')"
   ]
  },
  {
   "cell_type": "markdown",
   "metadata": {},
   "source": [
    "## Comparision of teh different blends"
   ]
  },
  {
   "cell_type": "code",
   "execution_count": null,
   "metadata": {
    "tags": []
   },
   "outputs": [],
   "source": [
    "dict1={'Homogeneous':undiscounted_refueleu/1000,'Low Carbon Abatement Cost': undiscounted_lowcost/1000, 'Low Carbon':undiscounted_lowcarb/1000, 'Business as usual':undiscounted_BAU/1000}"
   ]
  },
  {
   "cell_type": "code",
   "execution_count": null,
   "metadata": {
    "tags": []
   },
   "outputs": [],
   "source": [
    "import pandas as pd\n",
    "import matplotlib.pyplot as plt\n",
    "pd.DataFrame(dict1).plot()\n",
    "plt.grid()\n",
    "plt.ylabel('Annual energy expenses (B€)')"
   ]
  },
  {
   "cell_type": "code",
   "execution_count": null,
   "metadata": {
    "tags": []
   },
   "outputs": [],
   "source": [
    "print('BAU, R=3%', dicounted_BAU.sum())\n",
    "print('Homogeneous, R=3%', dicounted_refueleu.sum())\n",
    "print('Low CAC, R=3%', dicounted_lowcost.sum())\n",
    "print('Low carbon, R=3%', dicounted_lowcarb.sum())"
   ]
  },
  {
   "cell_type": "code",
   "execution_count": null,
   "metadata": {
    "tags": []
   },
   "outputs": [],
   "source": [
    "fig, ax = plt.subplots()\n",
    "names = ['Homogeneous', 'Low Carbon Abatement Cost', 'Low Carbon', 'Business as usual',]\n",
    "discounted_vals = [dicounted_refueleu.sum(),dicounted_lowcost.sum(), dicounted_lowcarb.sum(), dicounted_BAU.sum(),]\n",
    "ax.bar(names,discounted_vals)\n",
    "ax.set_ylabel('Total discounted energy cost (M€)')\n",
    "ax.grid(axis='y', linestyle='dashed')\n",
    "ax.set_axisbelow(True)\n",
    "for i, v in enumerate(discounted_vals):\n",
    "    ax.text(i-0.25, v+50000, '{} Bn €'.format(str(int(v/1000))), color='dimgrey', fontweight='bold')\n",
    "\n",
    "    \n",
    "\n"
   ]
  },
  {
   "cell_type": "code",
   "execution_count": null,
   "metadata": {
    "tags": []
   },
   "outputs": [],
   "source": [
    "print(undiscounted_lowcarb.sum()/co2_abated_lowcarb.sum())\n",
    "print(undiscounted_lowcost.sum()/co2_abated_lowcost.sum())\n",
    "print(undiscounted_refueleu.sum()/co2_abated_refueleu.sum())"
   ]
  },
  {
   "cell_type": "code",
   "execution_count": null,
   "metadata": {
    "tags": []
   },
   "outputs": [],
   "source": [
    "dict={'Homogeneous':co2_abated_refueleu,'Low Carbon Abatement Cost': co2_abated_lowcost, 'Low Carbon':co2_abated_lowcarb}"
   ]
  },
  {
   "cell_type": "code",
   "execution_count": null,
   "metadata": {
    "tags": []
   },
   "outputs": [],
   "source": [
    "fig, ax=plt.subplots(1,2)\n",
    "\n",
    "pd.DataFrame(dict).plot(ax=ax[0])\n",
    "ax[0].grid()\n",
    "ax[0].set_ylabel('Annual $CO_2$ abatement by energy (Mt)')\n",
    "\n",
    "pd.DataFrame(dict1).plot(ax=ax[1])\n",
    "ax[1].grid()\n",
    "ax[1].set_ylabel('Annual energy expenses (B€)')"
   ]
  },
  {
   "cell_type": "markdown",
   "metadata": {},
   "source": [
    "## MACC region"
   ]
  },
  {
   "cell_type": "code",
   "execution_count": null,
   "metadata": {},
   "outputs": [],
   "source": []
  },
  {
   "cell_type": "code",
   "execution_count": null,
   "metadata": {},
   "outputs": [],
   "source": []
  },
  {
   "cell_type": "code",
   "execution_count": null,
   "metadata": {},
   "outputs": [],
   "source": []
  },
  {
   "cell_type": "code",
   "execution_count": null,
   "metadata": {},
   "outputs": [],
   "source": [
    "import matplotlib.pyplot as plt\n",
    "import pandas as pd\n",
    "import numpy as np\n",
    "plt.rcParams[\"figure.figsize\"] = (10,5)\n",
    "\n",
    "fig, ax = plt.subplots()\n",
    "\n",
    "year=2030\n",
    "\n",
    "\n",
    "# create a dataframe for the patways (use: sort the values by cincreasing carbon abatement cost)\n",
    "\n",
    "\n",
    "pathways=[\"Bio - HEFA FOG\",\n",
    "\"Bio - HEFA Others\",\n",
    "\"Bio - Alcohol to Jet\",\n",
    "\"Bio - FT MSW\",\n",
    "\"Bio - FT Others\",\n",
    "# \"Liquid Hydrogen\",\n",
    "\"Electrofuel\"]\n",
    "    \n",
    "abatement_potential=[elt/1000000 for elt in [process.data['vector_outputs'].abatement_potential_hefa_fog[year],\n",
    "process.data['vector_outputs'].abatement_potential_hefa_others[year],\n",
    "process.data['vector_outputs'].abatement_potential_atj[year],\n",
    "process.data['vector_outputs'].abatement_potential_ft_msw[year],\n",
    "process.data['vector_outputs'].abatement_potential_ft_others[year],\n",
    "# process.data['vector_outputs'].abatement_potential_hydrogen_electrolysis[year],\n",
    "process.data['vector_outputs'].abatement_potential_electrofuel[year]]]\n",
    "\n",
    "\n",
    "energy_avail=[elt/1000000000000 for elt in [process.data['vector_outputs'].energy_avail_hefa_fog[year],\n",
    "process.data['vector_outputs'].energy_avail_hefa_others[year],\n",
    "process.data['vector_outputs'].energy_avail_atj[year],\n",
    "process.data['vector_outputs'].energy_avail_ft_msw[year],\n",
    "process.data['vector_outputs'].energy_avail_ft_others[year],\n",
    "# process.data['vector_outputs'].energy_avail_hydrogen_electrolysis[year],\n",
    "process.data['vector_outputs'].energy_avail_electrofuel[year]]]\n",
    "\n",
    "    \n",
    "\n",
    "abatement_effective=[elt/1000000 for elt in [process.data['vector_outputs'].abatement_effective_hefa_fog[year],\n",
    "process.data['vector_outputs'].abatement_effective_hefa_others[year],\n",
    "process.data['vector_outputs'].abatement_effective_atj[year],\n",
    "process.data['vector_outputs'].abatement_effective_ft_msw[year],\n",
    "process.data['vector_outputs'].abatement_effective_ft_others[year],\n",
    "# process.data['vector_outputs'].abatement_effective_hydrogen_electrolysis[year],\n",
    "process.data['vector_outputs'].abatement_effective_electrofuel[year]]]\n",
    "\n",
    "    \n",
    "carbon_abatement_cost=[process.data['vector_outputs'].carbon_abatement_cost_hefa_fog[year],\n",
    "process.data['vector_outputs'].carbon_abatement_cost_hefa_others[year],\n",
    "process.data['vector_outputs'].carbon_abatement_cost_atj[year],\n",
    "process.data['vector_outputs'].carbon_abatement_cost_ft_msw[year],\n",
    "process.data['vector_outputs'].carbon_abatement_cost_ft_others[year],\n",
    "# process.data['vector_outputs'].carbon_abatement_cost_h2_electrolysis[year],\n",
    "process.data['vector_outputs'].electrofuel_abatement_cost[year]\n",
    "]\n",
    "\n",
    "\n",
    "macc_df=pd.DataFrame(data=[abatement_potential,energy_avail, abatement_effective, carbon_abatement_cost], columns=pathways, index=['abatement_potential', 'energy_avail', 'abatement_effective', 'carbon_abatement_cost'])\n",
    "macc_df=macc_df.transpose().sort_values(by='carbon_abatement_cost')\n",
    "\n",
    "\n",
    "heights=macc_df['carbon_abatement_cost'].to_list()\n",
    "names=macc_df.index.to_list()\n",
    "heights.insert(0,0)\n",
    "heights.append(heights[-1])\n",
    "\n",
    "# MAx potential MACC\n",
    "widths_potential= macc_df['abatement_potential'].to_list()\n",
    "widths_potential.insert(0,0)\n",
    "widths_potential.append(widths_potential[-1])\n",
    "\n",
    "ax.step(np.cumsum(widths_potential)-widths_potential, heights, 'g', where='post', color=\"#335C67\", label= \"Marginal abatement cost\" , linewidth=1.5)\n",
    "\n",
    "\n",
    "#Effective scenario MACC\n",
    "\n",
    "# widths_effective= macc_df['abatement_effective'].to_list()\n",
    "# widths_effective.insert(0,0)\n",
    "# widths_effective.append(widths_effective[-1])\n",
    "\n",
    "# ax.step(np.cumsum(widths_effective)-widths_effective, heights, 'g', where='post', color=\"#335C67\", label= \"Scenario abatement cost\" , linewidth=1.5)\n",
    "\n",
    "fuel= macc_df.energy_avail.to_list()\n",
    "fuel.insert(0,0)\n",
    "widths_potential.pop()\n",
    "ax2=ax.twinx()\n",
    "ax2.plot(np.cumsum(widths_potential), np.cumsum(fuel), color=\"#9E2A2B\", linestyle=':', label= \"Energy potential\", marker='x')\n",
    "\n",
    "# ax.set_yscale('log')\n",
    "\n",
    "ax2.axhline(y=process.data['vector_outputs'].energy_consumption_dropin_fuel[year]/1e12-process.data['vector_outputs'].energy_consumption_kerosene[year]/1e12, color='black', linewidth=1, linestyle='-.')\n",
    "ax2.text(0, 3.75e2, 'Air transport alternative drop-in fuels use, 2050')\n",
    "\n",
    "ax.grid(True, which=\"both\", ls=':')\n",
    "ax.set_ylabel('Carbon Abatement Cost (€/t$\\mathregular{CO_2}$)')\n",
    "ax2.set_ylabel('Energy potential (EJ)')\n",
    "ax.set_xlabel('$\\mathregular{CO_2}$ abatted (Mt)')\n",
    "# ax.set_xlim(-0.02,0.84)\n",
    "# ax.set_ylim(0,1000) \n",
    "# ax2.set_ylim(0,450)\n",
    "\n",
    "ax.grid(True, which=\"both\", ls=':')\n",
    "ax.set_ylabel('Carbon Abatement Cost (€/t$\\mathregular{CO_2}$)')\n",
    "\n",
    "ax.set_xlabel('$\\mathregular{CO_2}$ abatted (Mt)')\n",
    "# ax.set_xlim(-0.02,0.84)\n",
    "# ax.set_ylim(0,1000) \n",
    "# ax2.set_ylim(0,450)\n",
    "\n",
    "# print(heights, np.cumsum(widths), names)\n",
    "\n",
    "\n",
    "\n",
    "# overshoot_allocation=macc_df['abatement_effective']/macc_df['abatement_potential']*100\n",
    "\n",
    "\n",
    "ax.text(np.cumsum(widths_potential)[0]+10, heights[1]-50, names[0])\n",
    "ax.text(np.cumsum(widths_potential)[1]+10, heights[2]+18, names[1])\n",
    "ax.text(np.cumsum(widths_potential)[2]+10, heights[3]-50, names[2])\n",
    "ax.text(np.cumsum(widths_potential)[3]+10, heights[4]-50, names[3])\n",
    "ax.text(np.cumsum(widths_potential)[4]+10, heights[5]-50, names[4])\n",
    "ax.text(np.cumsum(widths_potential)[5]+10, heights[6]-50, names[5])\n",
    "# ax.text(np.cumsum(widths_potential)[6]+0.005, heights[7]+18, names[6])\n",
    "\n",
    "# # plt.ylim([1,2.8*10**3]) \n",
    "\n",
    "# # ax.get_yaxis().get_major_formatter().labelOnlyBase = False\n",
    "fig.legend(fancybox=True, shadow=True,  bbox_to_anchor=(0.38, 0.85))\n",
    "\n",
    "\n",
    "\n",
    "\n",
    "macc_df\n"
   ]
  },
  {
   "cell_type": "code",
   "execution_count": null,
   "metadata": {
    "tags": []
   },
   "outputs": [],
   "source": [
    "fig, ax = plt.subplots()\n",
    "\n",
    "\n",
    "macc_df['abatement_intensity']=macc_df['abatement_potential']/macc_df['energy_avail']\n",
    "macc_df=macc_df.sort_values(by='abatement_intensity', ascending=False)\n",
    "\n",
    "\n",
    "heights=macc_df['carbon_abatement_cost'].to_list()\n",
    "names=macc_df.index.to_list()\n",
    "heights.insert(0,0)\n",
    "heights.append(heights[-1])\n",
    "\n",
    "# MAx potential MACC\n",
    "widths_potential= macc_df['abatement_potential'].to_list()\n",
    "widths_potential.insert(0,0)\n",
    "widths_potential.append(widths_potential[-1])\n",
    "\n",
    "ax.step(np.cumsum(widths_potential)-widths_potential, heights, 'g', where='post', color=\"#335C67\", label= \"Marginal Abatement Cost\" , linewidth=1.5)\n",
    "\n",
    "\n",
    "# Effective scenario MACC\n",
    "\n",
    "# # MAx potential MACC\n",
    "# widths_effective= macc_df['abatement_effective'].to_list()\n",
    "# widths_effective.insert(0,0)\n",
    "# widths_effective.append(widths_effective[-1])\n",
    "\n",
    "# ax.step(np.cumsum(widths_effective)-widths_effective, heights, 'g', where='post', color=\"#335C67\", label= \"Scenario abatement cost and potential\" , linewidth=1.5)\n",
    "\n",
    "fuel= macc_df.energy_avail.to_list()\n",
    "fuel.insert(0,0)\n",
    "widths_potential.pop()\n",
    "ax2=ax.twinx()\n",
    "ax2.plot(np.cumsum(widths_potential), np.cumsum(fuel), color=\"#9E2A2B\", linestyle=':', label= \"Energy potential\", marker='x')\n",
    "\n",
    "# ax.set_yscale('log')\n",
    "\n",
    "ax2.axhline(y=process.data['vector_outputs'].energy_consumption_dropin_fuel[year]/1e12-process.data['vector_outputs'].energy_consumption_kerosene[year]/1e12, color='black', linewidth=1, linestyle='-.')\n",
    "ax2.text(0, 3.75e2, 'Air transport drop-in fuels use, 2050')\n",
    "\n",
    "\n",
    "ax.grid(True, which=\"both\", ls=':')\n",
    "ax.set_ylabel('Carbon Abatement Cost (€/t$\\mathregular{CO_2}$)')\n",
    "ax2.set_ylabel('Energy potential (EJ)')\n",
    "ax.set_xlabel('$\\mathregular{CO_2}$ abatted (Mt)')\n",
    "# ax.set_xlim(-0.02,0.84)\n",
    "# ax.set_ylim(0,1000) \n",
    "# ax2.set_ylim(0,450)\n",
    "\n",
    "ax.grid(True, which=\"both\", ls=':')\n",
    "ax.set_ylabel('Carbon Abatement Cost (€/t$\\mathregular{CO_2}$)')\n",
    "\n",
    "ax.set_xlabel('$\\mathregular{CO_2}$ abatted (Mt)')\n",
    "# ax.set_xlim(-0.02,0.84)\n",
    "ax.set_xlim(0,2200) \n",
    "# ax2.set_ylim(0,450)\n",
    "\n",
    "# print(heights, np.cumsum(widths), names)\n",
    "\n",
    "\n",
    "\n",
    "# overshoot_allocation=macc_df['abatement_effective']/macc_df['abatement_potential']*100\n",
    "\n",
    "\n",
    "ax.text(np.cumsum(widths_potential)[0]+10, heights[1]-50, names[0])\n",
    "ax.text(np.cumsum(widths_potential)[1]+10, heights[2]-50, names[1])\n",
    "ax.text(np.cumsum(widths_potential)[2]+10, heights[3]-50, names[2])\n",
    "ax.text(np.cumsum(widths_potential)[3]+10, heights[4]-50, names[3])\n",
    "ax.text(np.cumsum(widths_potential)[4]+10, heights[5]-50, names[4])\n",
    "ax.text(np.cumsum(widths_potential)[5]+10, heights[6]-50, names[5])\n",
    "# ax.text(np.cumsum(widths_potential)[6]+0.005, heights[7]+18, names[6])\n",
    "\n",
    "# # plt.ylim([1,2.8*10**3]) \n",
    "\n",
    "# # ax.get_yaxis().get_major_formatter().labelOnlyBase = False\n",
    "fig.legend(fancybox=True, shadow=True,  bbox_to_anchor=(0.38, 0.85))"
   ]
  },
  {
   "cell_type": "code",
   "execution_count": null,
   "metadata": {
    "tags": []
   },
   "outputs": [],
   "source": [
    "macc_df"
   ]
  },
  {
   "cell_type": "code",
   "execution_count": null,
   "metadata": {},
   "outputs": [],
   "source": []
  },
  {
   "cell_type": "code",
   "execution_count": null,
   "metadata": {},
   "outputs": [],
   "source": []
  }
 ],
 "metadata": {
  "celltoolbar": "Diaporama",
  "kernelspec": {
   "display_name": "Python 3 (ipykernel)",
   "language": "python",
   "name": "python3"
  },
  "language_info": {
   "codemirror_mode": {
    "name": "ipython",
    "version": 3
   },
   "file_extension": ".py",
   "mimetype": "text/x-python",
   "name": "python",
   "nbconvert_exporter": "python",
   "pygments_lexer": "ipython3",
   "version": "3.8.16"
  }
 },
 "nbformat": 4,
 "nbformat_minor": 4
}
