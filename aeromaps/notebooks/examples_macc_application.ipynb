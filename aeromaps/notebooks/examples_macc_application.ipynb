{
 "cells": [
  {
   "cell_type": "markdown",
   "id": "23c89ead-e80d-4557-bc08-3ce5465005f9",
   "metadata": {},
   "source": [
    "Notebook for MACC application. Notebook for supplementary material of a submitted publication. \n",
    "\n",
    "### Imports and settings"
   ]
  },
  {
   "cell_type": "code",
   "execution_count": null,
   "id": "f479de1f-5757-45d7-b718-03ea76b4851f",
   "metadata": {
    "tags": []
   },
   "outputs": [],
   "source": [
    "import matplotlib.pyplot as plt\n",
    "import pandas as pd\n",
    "import numpy as np\n",
    "\n",
    "%matplotlib widget\n",
    "from aeromaps import create_process\n",
    "from aeromaps.core.models import (\n",
    "    default_models_bottom_up,\n",
    "    models_abatements_cost,\n",
    "    models_production_cost,\n",
    ")\n",
    "\n",
    "\n",
    "from aeromaps.models.air_transport.aircraft_fleet_and_operations.fleet.fleet_model import (\n",
    "    AircraftParameters,\n",
    "    Aircraft,\n",
    ")\n",
    "\n",
    "# plt.rcParams['axes.spines.top'] = False\n",
    "# plt.rcParams['axes.spines.right'] = False\n",
    "\n",
    "plt.rc(\"hatch\", linewidth=1)"
   ]
  },
  {
   "cell_type": "markdown",
   "id": "2dac14b0-9ca2-4568-ad3c-c686ca1852c8",
   "metadata": {
    "tags": []
   },
   "source": [
    "# 0- Introduction\n",
    "\n",
    "Code to draw a simple MACC "
   ]
  },
  {
   "cell_type": "code",
   "execution_count": null,
   "id": "7e7d1058-6f3a-44cf-a9d5-8fb4ab7e88bf",
   "metadata": {
    "tags": []
   },
   "outputs": [],
   "source": [
    "# Generate random data for simple MACC\n",
    "np.random.seed(0)\n",
    "data = {\n",
    "    \"names\": [\"A\", \"B\", \"E\", \"C\", \"D\"],\n",
    "    \"abatement_effective\": [5, 1, 2, 3, 4],\n",
    "    \"carbon_abatement_cost\": [-20, 20, 100, 28, 50],\n",
    "}\n",
    "\n",
    "df = pd.DataFrame(data).set_index(\"names\")\n",
    "\n",
    "maccpos_df = df.sort_values(by=\"carbon_abatement_cost\")"
   ]
  },
  {
   "cell_type": "code",
   "execution_count": null,
   "id": "5ac16a91-4913-4df9-8466-2d578200994a",
   "metadata": {
    "tags": []
   },
   "outputs": [],
   "source": [
    "fig, ax = plt.subplots(figsize=(5, 3))\n",
    "\n",
    "##### POS ######\n",
    "\n",
    "heights_pos = maccpos_df[\"carbon_abatement_cost\"].to_list()\n",
    "names_pos = maccpos_df.index.to_list()\n",
    "heights_pos.insert(0, 0)\n",
    "heights_pos.append(heights_pos[-1])\n",
    "\n",
    "# # MAx effective maccpos\n",
    "widths_effective_pos = maccpos_df[\"abatement_effective\"].to_list()\n",
    "widths_effective_pos.insert(0, 0)\n",
    "widths_effective_pos.append(widths_effective_pos[-1])\n",
    "\n",
    "\n",
    "maccpos_curve = ax.step(\n",
    "    np.cumsum(widths_effective_pos) - widths_effective_pos,\n",
    "    heights_pos,\n",
    "    where=\"post\",\n",
    "    color=\"#335C67\",\n",
    "    label=\"Marginal abatement cost\",\n",
    "    linewidth=1,\n",
    ")\n",
    "\n",
    "for i in range(len(widths_effective_pos) - 2):\n",
    "    x_position = (np.cumsum(widths_effective_pos)[i] + np.cumsum(widths_effective_pos)[i + 1]) / 2\n",
    "    y_position = min(2000 - 10, heights_pos[i + 1] + 5)\n",
    "    ax.text(\n",
    "        x_position,\n",
    "        y_position,\n",
    "        f\"{names_pos[i]}\",\n",
    "        rotation=0,\n",
    "        size=8,\n",
    "        ha=\"center\",\n",
    "        va=\"center\",\n",
    "    )\n",
    "\n",
    "\n",
    "for i in range(0, (len(widths_effective_pos) - 2)):\n",
    "    # Create a polygon for each step\n",
    "    polygon = plt.Polygon(\n",
    "        [\n",
    "            (np.cumsum(widths_effective_pos)[i], 0),\n",
    "            (np.cumsum(widths_effective_pos)[i], heights_pos[i + 1]),\n",
    "            (np.cumsum(widths_effective_pos)[i + 1], heights_pos[i + 1]),\n",
    "            (np.cumsum(widths_effective_pos)[i + 1], 0),\n",
    "        ],\n",
    "        closed=True,\n",
    "        alpha=0.3,\n",
    "        facecolor=\"#335C67\",\n",
    "        edgecolor=\"#335C67\",\n",
    "        linewidth=1,\n",
    "        linestyle=\"--\",\n",
    "    )\n",
    "    ax.add_patch(polygon)\n",
    "\n",
    "\n",
    "ax.set_ylabel(\"Carbon Abatement Cost (€/t$\\mathregular{CO_2}$)\")\n",
    "ax.set_xlabel(\"$\\mathregular{CO_2}$ abatted (Mt)\")\n",
    "\n",
    "ax.axhline(0, color=\"black\", linestyle=\"--\", linewidth=1)\n",
    "\n",
    "ax.axvline(0, color=\"black\", linestyle=\"--\", linewidth=1)\n",
    "\n",
    "fig.tight_layout()"
   ]
  },
  {
   "cell_type": "markdown",
   "id": "927e248c-3b8e-4850-91f3-88f57d09f94e",
   "metadata": {},
   "source": [
    "# 1- Scenario initialisation and settings\n",
    "\n",
    "The first phase corresponds to running a first, central scenario with AeroMAPS. Other runs ar performed afterwards."
   ]
  },
  {
   "cell_type": "code",
   "execution_count": null,
   "id": "37cc3f6c-6ffb-4a02-88dd-5dfd4da7c366",
   "metadata": {
    "tags": []
   },
   "outputs": [],
   "source": [
    "models = {\n",
    "    \"default_models_bottom_up\": default_models_bottom_up,\n",
    "    \"models_abatements_cost\": models_abatements_cost,\n",
    "    \"models_production_cost\": models_production_cost,\n",
    "}"
   ]
  },
  {
   "cell_type": "code",
   "execution_count": null,
   "id": "7b6fc11c-d808-4527-b5dc-5913e047af83",
   "metadata": {},
   "outputs": [],
   "source": [
    "process = create_process(\n",
    "    configuration_file=\"./data_cost/config_base_scenario.json\",\n",
    "    models=models,\n",
    "    use_fleet_model=True,\n",
    "    add_examples_aircraft_and_subcategory=False,\n",
    ")"
   ]
  },
  {
   "cell_type": "markdown",
   "id": "0ef8e51e-dd99-4707-b2ae-86fc8d9a8e5e",
   "metadata": {
    "tags": []
   },
   "source": [
    "## 1-a) Air traffic evolution\n",
    "\n",
    "As of April 2024, AeroMAPS is considering an exgenous growth rate.\n",
    "For the purposes of this article, an uniform growth rate of 3% is set. This is significantly lower from industry prospects such as [Airbus GMF: 3.6%](https://www.airbus.com/en/products-services/commercial-aircraft/market/global-market-forecast) or [Boeing CMO: 3.8%](https://www.boeing.com/content/dam/boeing/boeingdotcom/market/assets/downloads/CMO_2022_Report_FINAL_v02.pdf), but higher than [IEA Net Zero: 2.1% (2019 as base year)](https://www.iea.org/reports/net-zero-roadmap-a-global-pathway-to-keep-the-15-0c-goal-in-reach).\n"
   ]
  },
  {
   "cell_type": "code",
   "execution_count": null,
   "id": "a5f79996-e6ef-4434-8844-11a93122c3f2",
   "metadata": {
    "tags": []
   },
   "outputs": [],
   "source": [
    "## Growth rate by category [%]\n",
    "process.parameters.cagr_passenger_short_range_reference_periods = []\n",
    "process.parameters.cagr_passenger_short_range_reference_periods_values = [3.0]\n",
    "process.parameters.cagr_passenger_medium_range_reference_periods = []\n",
    "process.parameters.cagr_passenger_medium_range_reference_periods_values = [3.0]\n",
    "process.parameters.cagr_passenger_long_range_reference_periods = []\n",
    "process.parameters.cagr_passenger_long_range_reference_periods_values = [3.0]\n",
    "process.parameters.cagr_freight_reference_periods = []\n",
    "process.parameters.cagr_freight_reference_periods_values = [3.0]"
   ]
  },
  {
   "cell_type": "markdown",
   "id": "99ad83c8-eb43-46a2-968b-e495905b9cd2",
   "metadata": {},
   "source": [
    "## 1-b) Aircraft fleet\n",
    "\n",
    "**Hypotheses considered for aircraft DOC and new aircraft introduction:**\n",
    "The previously defined air traffic is flown by the default AeroMAPS fleet, and new aircraft. \n",
    "\n",
    "- A default fleet: an \"old\" and a \"recent\" aircraft for three markets: Short (<1500 km), Medium (1500-4000 km) and Long Range (>4000 km). \n",
    "- New aircraft are introduced\n",
    "    - <u>Short Range:</u>\n",
    "        - Hydrogen aircraft in 2035\n",
    "    - <u>Medium Range:</u>\n",
    "        - Drop-in aircraft in 2030\n",
    "        - Hydrogen aircraft in 2045  \n",
    "    - <u>Long Range:</u>\n",
    "        - Drop-in aircraft in 2030\n",
    "        - Drop-in aircraft in 2045\n",
    "        \n",
    "    - Efficiency assumptions: drop in aircraft introduced in 2030 use 20% less energy than the current (\"recent\"), the second long-range dropin aircraft introduced in 2045 uses 30% less energy than the \"recent. Hydrogen aircraft uses the same ammount of energy than the recent aircraft.\n",
    "    - Aircraft RC and NRC cost assumption are based on [this article](https://www.eucass.eu/doi/EUCASS2023-593.pdf), but these parameter are not used in this article. There is currently <u>no automated link between RC+NRC and DOC on AeroMAPS </u>. Consistent values are filed nevertheless. Same for ASK per year per A/C.\n",
    "    \n",
    "    \n",
    "    - Aircraft DOC are obtained using the same article and regrouped in two categories\n",
    "        - DOC-ENERGY is computed using the energy consumption of the aircraft and the MFSP of the corresponding energy (see below). \n",
    "        - DOC-NON-ENERGY encompass all other direct operating Costs (Navigation, FA/Pilots, MRO,...). AeroMAPS requires the evolution of this parameter compared to the reference. For  information, the capital part represent around 16% of the total DOC-NE and other costs 84%. A composite evolution can therefore be computed. The capital part is obtained (outside of AeroMAPS) by computing an equivalent annual cost (**EAC**), using an annuity factor of 0.07 (computed for 25 years, under a 5% Interest rate). It can be modified to represent a increase in aircraft cost or lifespan. ($\\text{EAC} = \\frac{CAP_{t0} \\times i}{1 - (1 + i)^{-n}} $). For the time being, the DOC-NE of drop-,n aircraft is left unchanged, and the DOC NE of both hydrogen aircraft is  set at 106% and 110% of the basis according to [Hoelzen et al.](https://www.sciencedirect.com/science/article/pii/S0360319921043184#fig2)\n",
    "        \n",
    "    \n",
    "    \n",
    "\n",
    "    \n",
    "        \n",
    "- Aircraft fleet renewal rates are set to 25 years. It corresponds to both the aircraft life and the duration necessary to renew the whole fleet with current fleet renewal models of AeroMAPS.\n",
    "\n",
    "\n",
    "\n",
    "\n"
   ]
  },
  {
   "cell_type": "code",
   "execution_count": null,
   "id": "c0b27cee-c1b2-4891-ade5-4ddf88c0c34f",
   "metadata": {
    "tags": []
   },
   "outputs": [],
   "source": [
    "# Aircraft fleet\n",
    "\n",
    "## Initialization\n",
    "fleet = process.fleet\n",
    "\n",
    "## Short Range aircraft\n",
    "short_range_aircraft_params = AircraftParameters(\n",
    "    entry_into_service_year=2035,\n",
    "    consumption_evolution=0.0,\n",
    "    nox_evolution=-75.0,\n",
    "    soot_evolution=-100.0,\n",
    "    doc_non_energy_evolution=10.0,\n",
    "    cruise_altitude=12000.0,\n",
    "    ask_year=280000000,\n",
    "    rc_cost=50000000,\n",
    "    nrc_cost=10000000000.0,\n",
    ")\n",
    "short_range_aircraft = Aircraft(\n",
    "    \"New SR-H2\", parameters=short_range_aircraft_params, energy_type=\"HYDROGEN\"\n",
    ")\n",
    "fleet.categories[\"Short Range\"].subcategories[0].add_aircraft(aircraft=short_range_aircraft)\n",
    "\n",
    "## Medium Range\n",
    "medium_range_aircraft_params = AircraftParameters(\n",
    "    entry_into_service_year=2030,\n",
    "    consumption_evolution=-20.0,\n",
    "    nox_evolution=0.0,\n",
    "    soot_evolution=0.0,\n",
    "    doc_non_energy_evolution=0.0,\n",
    "    cruise_altitude=12000.0,\n",
    "    ask_year=352000000.0,\n",
    "    rc_cost=60000000.0,\n",
    "    nrc_cost=10000000000.0,\n",
    ")\n",
    "medium_range_aircraft = Aircraft(\n",
    "    \"New MR-DI\", parameters=medium_range_aircraft_params, energy_type=\"DROP_IN_FUEL\"\n",
    ")\n",
    "fleet.categories[\"Medium Range\"].subcategories[0].add_aircraft(aircraft=medium_range_aircraft)\n",
    "\n",
    "## Medium Range\n",
    "medium_range_aircraft_params = AircraftParameters(\n",
    "    entry_into_service_year=2045,\n",
    "    consumption_evolution=0.0,\n",
    "    nox_evolution=-75.0,\n",
    "    soot_evolution=-100,\n",
    "    doc_non_energy_evolution=10.0,\n",
    "    cruise_altitude=12000.0,\n",
    "    ask_year=352000000.0,\n",
    "    rc_cost=6600000.0,\n",
    "    nrc_cost=15000000000.0,\n",
    ")\n",
    "medium_range_aircraft = Aircraft(\n",
    "    \"New MR-H2\", parameters=medium_range_aircraft_params, energy_type=\"HYDROGEN\"\n",
    ")\n",
    "fleet.categories[\"Medium Range\"].subcategories[0].add_aircraft(aircraft=medium_range_aircraft)\n",
    "\n",
    "## Long Range\n",
    "long_range_aircraft_params = AircraftParameters(\n",
    "    entry_into_service_year=2030,\n",
    "    consumption_evolution=-20.0,\n",
    "    nox_evolution=0.0,\n",
    "    soot_evolution=0.0,\n",
    "    doc_non_energy_evolution=0.0,\n",
    "    cruise_altitude=12000.0,\n",
    "    ask_year=912000000.0,\n",
    "    rc_cost=150000000.0,\n",
    "    nrc_cost=25000000000.0,\n",
    ")\n",
    "long_range_aircraft = Aircraft(\n",
    "    \"New LR-DI\", parameters=long_range_aircraft_params, energy_type=\"DROP_IN_FUEL\"\n",
    ")\n",
    "fleet.categories[\"Long Range\"].subcategories[0].add_aircraft(aircraft=long_range_aircraft)\n",
    "\n",
    "\n",
    "## Long Range\n",
    "long_range_aircraft_params = AircraftParameters(\n",
    "    entry_into_service_year=2045,\n",
    "    consumption_evolution=-30.0,\n",
    "    nox_evolution=0.0,\n",
    "    soot_evolution=0.0,\n",
    "    doc_non_energy_evolution=0.0,\n",
    "    cruise_altitude=12000.0,\n",
    "    ask_year=912000000.0,\n",
    "    rc_cost=150000000.0,\n",
    "    nrc_cost=25000000000.0,\n",
    ")\n",
    "long_range_aircraft = Aircraft(\n",
    "    \"New LR-DI2\", parameters=long_range_aircraft_params, energy_type=\"DROP_IN_FUEL\"\n",
    ")\n",
    "fleet.categories[\"Long Range\"].subcategories[0].add_aircraft(aircraft=long_range_aircraft)\n",
    "\n",
    "\n",
    "## Fleet renewal\n",
    "fleet.categories[\"Short Range\"].parameters.life = 25\n",
    "fleet.categories[\"Medium Range\"].parameters.life = 25\n",
    "fleet.categories[\"Long Range\"].parameters.life = 25"
   ]
  },
  {
   "cell_type": "markdown",
   "id": "b78b5e6f-689a-4bb9-8be3-87b8dbe0669d",
   "metadata": {},
   "source": [
    "It is possible to visualize the resuting compostion of the fleet on the three segments defined."
   ]
  },
  {
   "cell_type": "code",
   "execution_count": null,
   "id": "118fe016-9846-4a2a-918e-5e8f300dea99",
   "metadata": {
    "tags": []
   },
   "outputs": [],
   "source": [
    "# process.fleet_model.compute()\n",
    "# process.fleet_model.plot()"
   ]
  },
  {
   "cell_type": "markdown",
   "id": "deb4792a-411b-45d9-9fd2-b97bb85a9d7c",
   "metadata": {},
   "source": [
    "### 1-c) Operational improvements\n",
    "\n",
    "Operational improvements are considered via two opportunities. \n",
    "- Load factor improvement: improvement to 89% at the end of the scenario.\n",
    "- Operational efficiency (better ATM, aircrfat MRO and operational optimisation): improvement of 8% in 25y. \n",
    "\n",
    "Cost savings incur through the fuel savings. However, it could come at an extra cost (non-energy). This parameter is modelled, but not considered in this article due to lack of specific informations to the best of our knowldege.\n"
   ]
  },
  {
   "cell_type": "code",
   "execution_count": null,
   "id": "ab476bc9-f507-4bd4-9335-1002d2977a90",
   "metadata": {
    "tags": []
   },
   "outputs": [],
   "source": [
    "process.parameters.load_factor_end_year = 89.0  # 2019 value: 82.399312"
   ]
  },
  {
   "cell_type": "code",
   "execution_count": null,
   "id": "4349dc55-808c-4ebe-a493-7210032b3fb8",
   "metadata": {
    "tags": []
   },
   "outputs": [],
   "source": [
    "# Aircraft fleet and operation evolution - Operations\n",
    "\n",
    "## Values for setting the logistic function\n",
    "process.parameters.operations_final_gain = 8.0  # [%]\n",
    "process.parameters.operations_start_year = 2025\n",
    "process.parameters.operations_duration = 25.0"
   ]
  },
  {
   "cell_type": "markdown",
   "id": "4e060f89-e3c6-43a8-bc64-61399941760a",
   "metadata": {},
   "source": [
    "## 1-d) Energy\n",
    "\n",
    "***Pathway choices:***\n",
    "An energy mix is defined, relatively arbitraily, but inspired from [ReFuel-EU](https://eur-lex.europa.eu/legal-content/EN/TXT/HTML/?uri=OJ:L_202302405#d1e35-29-1) blending mandates. Sythetic fuels are defined as fuels of non-biological origin, either hydrogen or e-fuels, produced with DAC.\n",
    "\n",
    "| Year | SAF (%) | incl. Synthetic Fuels (%) |\n",
    "|---|---|---|\n",
    "| 2025 | 2 | 0 |\n",
    "| 2030 | 6 | 1.2 |\n",
    "| 2035 | 20 | 5 |\n",
    "| 2040 | 34 | 10 |\n",
    "| 2045 | 42 | 15 |\n",
    "| 2050 | 70 | 35 |\n",
    "\n",
    "It is easy to define blending shares for drop-in fuels. However, hydrogen consumption is more dependant on how many hydrogen aircraft are used.\n",
    "We therefore consider that the Refuel-EU blending mandates are applied directly to the dropin fuels (more ambitious than refuel-EU).\n",
    "\n",
    "Within biofuel pathways, shares are defined according to their biomass availability.\n",
    "\n",
    "Hydrogen production starts from the current [share](https://iea.blob.core.windows.net/assets/c5bc75b1-9e4d-460d-9056-6e8e626a11c4/GlobalHydrogenReview2022.pdf) (p71) follows repartition of [NZE](https://www.iea.org/reports/hydrogen-2156) until 2050. Note that these are industry wide productions, and aviation might larger share of electrolysis hydrogen.\n",
    "\n",
    "| Year | Coal (%) | Coal + CCS (%) | Gas (%) | Gas+CCS (%) | Electrolysis (%) |\n",
    "|---|---|---|---|---|---|\n",
    "| 2022 | 25 | 0.25 | 75 | 0.75 | 0 |\n",
    "| 2030 | 13.4 | 3 | 40 | 9  | 34.6 |\n",
    "| 2035 | 7.6 | 3.9 | 22.6 | 11.9 | 54 |\n",
    "| 2050 | 1 | 5 | 3 | 15 | 76 |\n",
    "\n",
    "\n",
    "***Emission factors & availabilities:*** All emissions factors/energy availabilities are default AeroMAPS median emission factors (see documentation).\n",
    "\n",
    "\n",
    "***Cost process.parameters:***\n",
    "\n",
    "- **Biofuels:** All values for biofuels are derived from a litterature review (refer to resources/cost_data/Biomass_Data.xlsx); Values are set to the median value and no evolution (such as learning rates) is assumed. Municipal solid waste feedstock is considered as free by the sources reviewed, although it could be diffrent once there is a demand for it.\n",
    "\n",
    "| Pathway | Capex (€/(kg/day)) | Opex (€/L) | Feedstock Cost (cts €/MJ biomass) |\n",
    "|---|---|---|---|\n",
    "| HEFA-FOG | 491 | 0.17 | 1.27 |\n",
    "| HEFA-Others | 654 | 0.13 | 1.22 |\n",
    "| FT-MSW | 3042 | 0.29 | 0 |\n",
    "| FT-Others | 2043 | 0.27 | 0.7 |\n",
    "| AtJ | 1547 | 0.21 | 1.02 |\n",
    "\n",
    "- **Hydrogen - Electrolysis:** (refer to resources/cost_data/Hydrogen_based_process.xlsx). \n",
    "    - Values for OPEX base on a litterature review, mostly relying on an institutional report from the [UK department of Energy](https://www.gov.uk/government/publications/hydrogen-production-costs-2021). Time dynamics represented by a transition from pessimistic in 2020 to median in 2030 to optimistic in 2050 and beyond. \n",
    "    - Values  and time Dynamic for CAPEX and efficiency using data from an [external litterature review](https://h2.pik-potsdam.de/H2Dash/)\n",
    "    - Both dedicated renewable and grid electricity are used in this work.\n",
    "\n",
    "| Year | Capex (€/(kg $H_2$/day)) | Variable Opex (€/kg $H_2$) | Fixed Opex (€/(kg $H_2$/day)/year)  | Efficiency (%) |\n",
    "|:---:|:---:|:---:|:---:|:---:|\n",
    "| 2020 | 533 | 0.3 | 25 | 0.64 |\n",
    "| 2030 | 355 | 0.19 | 21 | 0.66 |\n",
    "| 2040 | 261 |  |  |  |\n",
    "| 2050 | 210 | 0.12 | 20 | 0.72 |\n",
    "\n",
    "- **Hydrogen - Other pathways:** Based on literature review (see supplementary material). Fixed cost references based on [IEA Global Hydrogen Review 2021](https://iea.blob.core.windows.net/assets/2ceb17b8-474f-4154-aab5-4d898f735c17/IEAGHRassumptions_final.pdf). CCS is assumed to cost 22.5€/t$CO_2$\n",
    "\n",
    "| Pathway | Capex (€/(kg/day)) | Fixed Opex (€/(kg/day)/year)  | Efficiency (%) | \n",
    "|:---:|:---:|:---:|:---:|\n",
    "| Gas reforming | 917 | 43.1 | 76 |\n",
    "| Gas reforming + CCS | 1728 | 69.1 | 69 | \n",
    "| Coal gasification | 2304 | 115.2 | 60 | \n",
    "| Coal gasification + CCS | 2399 | 119.95 | 58 |\n",
    "\n",
    "\n",
    "\n",
    "- **Hydrogen - Liquefaction and transport:**\n",
    "    Hydrogen production and transportation is considered similarly for all the production pathways. Based on literature review (see supplementary material) presented in [hoelzen et al.](https://www.sciencedirect.com/science/article/pii/S0360319921043184). Prices swicth from pessimistic to median to optimistic values in 2020-2035-2050, as well as efficiencies, which are defined by the ratio of the hydrogen energy with this value plus the energy necessary to liquefy the hydrogen. Opex are taken as 4% of Capex annually. Transport is weakly modelled and assumed to represent 10% of the total hydrogen production cost.\n",
    "| Year | Capex (€/(kg $H_2$/day)) | Efficiency (%) |\n",
    "|---|---|---|\n",
    "| 2020 | 2248 | 0.75 |\n",
    "| 2030 | 1457 | 0.82 |\n",
    "| 2050 | 899 | 0.83 |\n",
    "\n",
    "\n",
    "- **Efuels:** Based on literature review (refer to resources/cost_data/Hydrogen_based_process.xlsx). Time dynamics represented by a transition from pessimistic in 2020 to median in 2035 to optimistic in 2050 and beyond. Both dedicated renewable and grid electricity are used in this work.\n",
    "    - Values for CO2 DAC taken from a litterature review.  2020 and 2030 value based on the trajcetory taken by [Ueckerdt](https://www.nature.com/articles/s41558-021-01032-7), but 2050 value is capped at 100 USD for consistency with other sources reviewed. \n",
    "| Year | Capex (€/(kg $H_2$/day)) | Opex (€/L) | $H_2$-> PtL efficiency (%) | Specific $CO_2$ (kg/L) | CO2 DAC Cost (€/t) |\n",
    "|---|---|---|---|---|---|\n",
    "| 2020 | 2496 | 0.34 | 74 | 4.3 | 460 |\n",
    "| 2030 | 1528 | 0.30 | 74 | 3.58 | 150 |\n",
    "| 2050 | 510 | 0.20 | 74 | 2.55 | 90 |\n",
    "\n",
    "**Hypotheses considered for energy inputs:**\n",
    "\n",
    "- **Electricity:** Electricity is considered via two options. \n",
    "    - *Grid*: Grid electricity input is assumed to cost 70€ per MWh in 2019, as a coarse mean between [europe](https://ec.europa.eu/eurostat/databrowser/view/nrg_pc_205/default/table?lang=en) and [usa](https://www.statista.com/statistics/190680/us-industrial-consumer-price-estimates-for-retail-electricity-since-1970/). If considering grid electricity alows for high load factors, it requires the full consideration of backups and tranportation systems (infrastructure), meaning that considering per technology LCOE can be a major shortcomming. Grid electricity prices in 2050 are not widely available, but a value of 100€/Mwh seems to be adequate with respect to total system costs estimated by French network administrator [RTE](https://assets.rte-france.com/prod/2022-06/Futurs%20%C3%A9nerg%C3%A9tiques%202050%20_%20rapport%20complet.zip). Baseline emission factor for the grid is [450 g$CO_2$/KWh](https://ourworldindata.org/grapher/carbon-intensity-electricity?time=2019) and are arbitrarily set at 20 g$CO_2$/KWh in 2050, in line with total low-carbon system emissions of [RTE](https://assets.rte-france.com/prod/2022-06/). Intermediate points are set at 160g in 2030 and 40g in 2040.\n",
    "    \n",
    "    - *Dedicated renewables*: (refer to resources/cost_data/Hydrogen_based_process.xlsx)\n",
    "        - Wind:\n",
    "        \n",
    "        | Year | LCOE (€/MWh) | EF (gCO2/kWh) | Load Factor (%) | \n",
    "        |---|---|---|---|\n",
    "        | 2020 | 61 | 15 | 40 | \n",
    "        | 2030 | 58 | 13.5 | 43 | \n",
    "        | 2040 | 52 | 12.5 | N/A | \n",
    "        | 2050 | 46 | 11.5 | 45 | \n",
    "            \n",
    "        - PV:\n",
    "        \n",
    "        | Year | LCOE (€/MWh) | EF (gCO2/kWh) | Load Factor (%) | \n",
    "        |---|---|---|---|\n",
    "        | 2020 | 58 | 43 | 13 | \n",
    "        | 2030 | 37 | 36 | 14 | \n",
    "        | 2040 | 33 | 30 | N/A | \n",
    "        | 2050 | 26 | 21 | 14 | \n",
    "\n",
    "\n",
    "- **Fossil fuels**\n",
    "    - Fossil based hydrogen (gas/coal) prices from [IEA Global Hydrogen Review 2021](https://iea.blob.core.windows.net/assets/2ceb17b8-474f-4154-aab5-4d898f735c17/IEAGHRassumptions_final.pdf), default values of AeroMAPS.\n",
    "    \n",
    "    - **Kerosene**: median of 2015-2019 Weekly U.S. Gulf Coast Kerosene-Type Jet Fuel Spot Price (refer to resources/cost_data/Biomass_data.xlsx); default aeromaps value.\n",
    "\n",
    "    \n"
   ]
  },
  {
   "cell_type": "code",
   "execution_count": null,
   "id": "3d71b69d-b5c6-4607-b760-7930973671b9",
   "metadata": {
    "slideshow": {
     "slide_type": "subslide"
    },
    "tags": []
   },
   "outputs": [],
   "source": [
    "# Energy settings: production choices\n",
    "\n",
    "# Aircraft energy - Introduction of alternative drop-in fuels\n",
    "\n",
    "## Share of alternative fuels in the drop-in fuel mix (the rest being supplemented by kerosene) [%]\n",
    "process.parameters.biofuel_share_reference_years = [2020, 2025, 2030, 2035, 2040, 2045, 2050]\n",
    "process.parameters.biofuel_share_reference_years_values = [0, 2, 4.8, 15, 24, 27, 35]\n",
    "process.parameters.electrofuel_share_reference_years = [2020, 2025, 2030, 2035, 2040, 2045, 2050]\n",
    "process.parameters.electrofuel_share_reference_years_values = [0, 0, 1.2, 5, 10, 15, 35]\n",
    "\n",
    "\n",
    "## Share of biofuel production pathways (the rest being completed by AtJ processes) [%]\n",
    "process.parameters.biofuel_hefa_fog_share_reference_years = []\n",
    "process.parameters.biofuel_hefa_fog_share_reference_years_values = [0.6]\n",
    "process.parameters.biofuel_hefa_others_share_reference_years = []\n",
    "process.parameters.biofuel_hefa_others_share_reference_years_values = [12.5]\n",
    "process.parameters.biofuel_ft_others_share_reference_years = []\n",
    "process.parameters.biofuel_ft_others_share_reference_years_values = [68.9]\n",
    "process.parameters.biofuel_ft_msw_share_reference_years = []\n",
    "process.parameters.biofuel_ft_msw_share_reference_years_values = [6.6]\n",
    "\n",
    "\n",
    "## Share of hydrogen production pathways (the rest being completed by production via coal without CCS) [%]\n",
    "## Distribution in 2019: Gas without CCS (71%), Coal without CCS (27%), Electrolysis (2%), Others with CCS (0%), Co-products not taken into account\n",
    "process.parameters.hydrogen_electrolysis_share_reference_years = [2020, 2030, 2035, 2050]\n",
    "process.parameters.hydrogen_electrolysis_share_reference_years_values = [0, 34.6, 54, 76]\n",
    "\n",
    "process.parameters.hydrogen_gas_ccs_share_reference_years = [2020, 2030, 2035, 2050]\n",
    "process.parameters.hydrogen_gas_ccs_share_reference_years_values = [0.75, 9, 11.9, 15]\n",
    "\n",
    "process.parameters.hydrogen_coal_ccs_share_reference_years = [2020, 2030, 2035, 2050]\n",
    "process.parameters.hydrogen_coal_ccs_share_reference_years_values = [0.25, 3, 3.9, 5]\n",
    "\n",
    "process.parameters.hydrogen_gas_share_reference_years = [2020, 2030, 2035, 2050]\n",
    "process.parameters.hydrogen_gas_share_reference_years_values = [75, 40, 22.6, 3]"
   ]
  },
  {
   "cell_type": "code",
   "execution_count": null,
   "id": "bf9baeef-47b6-4af0-9bf2-833e39ec3477",
   "metadata": {
    "slideshow": {
     "slide_type": "subslide"
    },
    "tags": []
   },
   "outputs": [],
   "source": [
    "# Energy settings: cost\n",
    "\n",
    "# BIOFUELS\n",
    "# ==> Default AeroMAPS values (see table above)\n",
    "\n",
    "# HYDROGEN\n",
    "\n",
    "## Electrolysis\n",
    "### Efficicency\n",
    "process.parameters.electrolysis_efficiency_reference_years = [2020, 2030, 2050]\n",
    "process.parameters.electrolysis_efficiency_reference_years_values = [0.64, 0.66, 0.72]\n",
    "### CAPEX\n",
    "process.parameters.electrolyser_capex_reference_years = [2020, 2030, 2040, 2050]\n",
    "process.parameters.electrolyser_capex_reference_years_values = [533, 355, 261, 210]\n",
    "### Fixed OPEX\n",
    "process.parameters.electrolyser_fixed_opex_reference_years = [2020, 2030, 2050]\n",
    "process.parameters.electrolyser_fixed_opex_reference_years_values = [25.05, 20.57, 19.62]\n",
    "### Variable OPEX\n",
    "process.parameters.electrolyser_variable_opex_reference_years = [2020, 2030, 2050]\n",
    "process.parameters.electrolyser_variable_opex_reference_years_values = [0.3, 0.19, 0.12]\n",
    "\n",
    "## Fossil (Gas or Coal with or without CCS)\n",
    "# ==> Default AeroMAPS values (see table above)\n",
    "\n",
    "## Liquefaction\n",
    "### CAPEX\n",
    "process.parameters.liquefier_capex_reference_years = [2020, 2030, 2050]\n",
    "process.parameters.liquefier_capex_reference_years_values = [2248, 1457, 899]\n",
    "### Efficicency\n",
    "process.parameters.liquefaction_efficiency_reference_years = [2020, 2030, 2050]\n",
    "process.parameters.liquefaction_efficiency_reference_years_values = [0.75, 0.82, 0.83]\n",
    "\n",
    "\n",
    "# ELECTROFUEL\n",
    "### Efficicency\n",
    "process.parameters.electrofuel_hydrogen_efficiency_reference_years = [2020, 2030, 2050]\n",
    "process.parameters.electrofuel_hydrogen_efficiency_reference_years_values = [0.74, 0.74, 0.74]\n",
    "### CAPEX\n",
    "process.parameters.electrofuel_capex_reference_years = [2020, 2030, 2050]\n",
    "process.parameters.electrofuel_capex_reference_years_values = [2496, 1528, 510]\n",
    "\n",
    "process.parameters.electrofuel_var_opex_reference_years = [2020, 2030, 2050]\n",
    "process.parameters.electrofuel_var_opex_reference_years_values = [0.336, 0.296, 0.2]\n",
    "\n",
    "process.parameters.electrofuel_specific_co2_reference_years = [2020, 2030, 2050]\n",
    "process.parameters.electrofuel_specific_co2_reference_years_values = [4.30, 3.58, 2.552]\n",
    "\n",
    "process.parameters.co2_cost_reference_years = [2020, 2030, 2050]\n",
    "process.parameters.co2_cost_reference_years_values = [0.460, 0.150, 0.09]\n",
    "\n",
    "\n",
    "# ENERGY INPUT PRICES\n",
    "## Grid Electricity\n",
    "# => LF=1\n",
    "\n",
    "process.parameters.electricity_emission_factor_reference_years = [2020, 2030, 2040, 2050]\n",
    "process.parameters.electricity_emission_factor_reference_years_values = [429, 160, 40, 20]\n",
    "\n",
    "process.parameters.electricity_cost_reference_years = [2020, 2050]\n",
    "process.parameters.electricity_cost_reference_years_values = [0.08, 0.1]\n",
    "\n",
    "# # ## PV\n",
    "# process.parameters.electricity_emission_factor_reference_years = [2020,2030,2040,2050]\n",
    "# process.parameters.electricity_emission_factor_reference_years_values = [43,36,30,21]\n",
    "\n",
    "# process.parameters.electricity_cost_reference_years = [2020,2030,2040,2050]\n",
    "# process.parameters.electricity_cost_reference_years_values = [0.058, 0.037, 0.033, 0.026]\n",
    "\n",
    "# process.parameters.electricity_load_factor_reference_years = [2020,2030,2050]\n",
    "# process.parameters.electricity_load_factor_reference_years_values = [0.13,0.14,0.14]\n",
    "\n",
    "# ## Wind\n",
    "# process.parameters.electricity_emission_factor_reference_years = [2020,2030,2040,2050]\n",
    "# process.parameters.electricity_emission_factor_reference_years_values = [15,13.5,12.5,11.5]\n",
    "\n",
    "# process.parameters.electricity_cost_reference_years = [2020,2030,2040,2050]\n",
    "# process.parameters.electricity_cost_reference_years_values = [0.061, 0.058, 0.052, 0.046]\n",
    "\n",
    "# process.parameters.electricity_load_factor_reference_years = [2020,2030,2050]\n",
    "# process.parameters.electricity_load_factor_reference_years_values = [0.4,0.43,0.45]\n",
    "\n",
    "\n",
    "# Kerosene, Coal, Gas => Default values (see table)"
   ]
  },
  {
   "cell_type": "markdown",
   "id": "58589dd8-11d2-435a-bf7c-9d3cc70676b4",
   "metadata": {},
   "source": [
    "## 1-e) Other process.parameters "
   ]
  },
  {
   "cell_type": "code",
   "execution_count": null,
   "id": "31db5646-e45b-4428-bf28-259e7ddfd109",
   "metadata": {
    "tags": []
   },
   "outputs": [],
   "source": [
    "# Cost process.parameters\n",
    "\n",
    "## Carbon tax => Set at zero for MACC curves\n",
    "process.parameters.carbon_tax_reference_years = [2020, 2030, 2040, 2050]\n",
    "process.parameters.carbon_tax_reference_years_values = [\n",
    "    0,\n",
    "    0,\n",
    "    0,\n",
    "    0,\n",
    "]\n",
    "\n",
    "\n",
    "# SDR\n",
    "# process.parameters.social_discount_rate = .05\n",
    "\n",
    "# #Quinet SCC\n",
    "process.parameters.social_discount_rate = 0.045\n",
    "process.parameters.exogenous_carbon_price_reference_years = [2020, 2030, 2040, 2050]\n",
    "process.parameters.exogenous_carbon_price_reference_years_values = [54, 250, 500, 775]\n",
    "\n",
    "# Barrage+Nordhaus SCC\n",
    "\n",
    "# process.parameters.social_discount_rate = .043\n",
    "# process.parameters.exogenous_carbon_price_reference_years = [2020, 2025, 2050]\n",
    "# process.parameters.exogenous_carbon_price_reference_years_values = [43.3, 51, 108]"
   ]
  },
  {
   "cell_type": "code",
   "execution_count": null,
   "id": "a4148162-d43f-4053-ab13-aece0381b050",
   "metadata": {
    "slideshow": {
     "slide_type": "subslide"
    },
    "tags": []
   },
   "outputs": [],
   "source": [
    "# Environmental limits\n",
    "\n",
    "## Carbon budgets and Carbon Dioxide Removal [GtCO2]\n",
    "process.parameters.net_carbon_budget = 850.0\n",
    "process.parameters.carbon_dioxyde_removal_2100 = 285.0"
   ]
  },
  {
   "cell_type": "code",
   "execution_count": null,
   "id": "8e8bcda3-8aad-4f27-b1ae-6277fbc7f63a",
   "metadata": {
    "slideshow": {
     "slide_type": "subslide"
    },
    "tags": []
   },
   "outputs": [],
   "source": [
    "# Allocation settings\n",
    "\n",
    "## Aviation share of the global (equivalent) carbon budget [%]\n",
    "process.parameters.aviation_carbon_budget_allocated_share = 2.6\n",
    "process.parameters.aviation_equivalentcarbonbudget_allocated_share = 5.1\n",
    "\n",
    "## Aviation share of the global energy resources (biomass and electricity) [%]\n",
    "process.parameters.aviation_biomass_allocated_share = 5.0\n",
    "process.parameters.aviation_electricity_allocated_share = 5.0"
   ]
  },
  {
   "cell_type": "markdown",
   "id": "15ee89f3-6718-4e51-89b3-eb261801f411",
   "metadata": {
    "slideshow": {
     "slide_type": "slide"
    },
    "tags": []
   },
   "source": [
    "# 2- Compute\n",
    "\n",
    "Run AeroMAPS process"
   ]
  },
  {
   "cell_type": "code",
   "execution_count": null,
   "id": "8896dc5f-ead6-4a45-b88c-53f94de24d6e",
   "metadata": {
    "slideshow": {
     "slide_type": "subslide"
    },
    "tags": []
   },
   "outputs": [],
   "source": [
    "process.compute()"
   ]
  },
  {
   "cell_type": "markdown",
   "id": "1abb910c-15a4-41fa-8589-f8517f062e2a",
   "metadata": {
    "tags": []
   },
   "source": [
    "# 3- Analyses"
   ]
  },
  {
   "cell_type": "markdown",
   "id": "4132a751-efdb-4611-a964-c49f50ba1b4b",
   "metadata": {
    "tags": []
   },
   "source": [
    "## 3-a) Scenario sustainability \n",
    "\n",
    "Lets begin by exploring the sustainability of the scenario:\n",
    "- $CO_2$ emissions trajectory\n",
    "- Fuels emission factors\n",
    "- Ressources consumption"
   ]
  },
  {
   "cell_type": "code",
   "execution_count": null,
   "id": "8de3b6cb-8e84-48a4-acb9-1277973f321d",
   "metadata": {
    "tags": []
   },
   "outputs": [],
   "source": [
    "process.plot(\"air_transport_co2_emissions\")"
   ]
  },
  {
   "cell_type": "code",
   "execution_count": null,
   "id": "1dedbb80-9cf6-4e67-9627-0c5482c1ab32",
   "metadata": {},
   "outputs": [],
   "source": [
    "plt.rc(\"hatch\", linewidth=1)"
   ]
  },
  {
   "cell_type": "markdown",
   "id": "a1fd6432-eb90-4737-9f1d-9cea0ecdacef",
   "metadata": {},
   "source": [
    "The first graph represents the annual CO2 emission of the air transport as well as the relative contribution of the mitigation levers used.\n",
    "There are no 'demand management' lever here as the default growth rate of 3% p.a. was kept. As a reminer, this is .6/.8 % below Airbus and Boeing forecast. The effect of cost increase on demand is not modeled.   \n",
    "Aircraft efficiency plays a large role in the decarbonisation, but it is reminded taht this lever is considered first: considereing operations efficiency first would reduce the gap in their relative contribution.  \n",
    "Fossil kerosene substitution is efficeint in this scenario: the emissions factors associated with the varios pathways are lower than the kerosene emission factor when they are used, as decribed by the following plot."
   ]
  },
  {
   "cell_type": "code",
   "execution_count": null,
   "id": "7a14fcce-c49a-427f-be2f-0920166d0597",
   "metadata": {
    "tags": []
   },
   "outputs": [],
   "source": [
    "process.plot(\"emission_factor_per_fuel\")"
   ]
  },
  {
   "cell_type": "markdown",
   "id": "f6bd3d81-2d41-4597-9438-c45461fc370d",
   "metadata": {},
   "source": [
    "Indeed, considering grid electricity makes electrofuels not climate efficient compared to fossil kerosene before 2030 with teh settings considered. The drop-in fuels blending mandate specified uses only 1.2% electrofuel in 2030, meaning it has a marginal impact on drop-in mean emission factor. This small inneficiency in the period 2025-2030 could be necessary for a faster ramp-up of the production.  \n",
    "Similarily, hydrogen is efficient only after 2032, because its production is dominated by unabated fossil pathways. But no hydrogen aircraft is introduced until 2035."
   ]
  },
  {
   "cell_type": "code",
   "execution_count": null,
   "id": "045e109c-cf42-49c5-98c5-33a67b3527cf",
   "metadata": {
    "tags": []
   },
   "outputs": [],
   "source": [
    "process.plot(\"multidisciplinary_assessment\")"
   ]
  },
  {
   "cell_type": "markdown",
   "id": "f3c8c146-8311-40c7-97f8-51008fe02734",
   "metadata": {},
   "source": [
    "This plots embodies a sectoral budget concept of AeroMAPS: $CO_2$ budgets are defined by Bodies such as IPCC to repsect a given temparature target. In this scenario, it was defined at 850GT (+1.8°C GW at 63% chance) TO CHECK. Similarily, a global budget can be defined in terms of equivalen carbon budgets (accounting for non-CO2 effects), of biomass available for bioenergy, and Electricity (altough the notion of ressource is less direct in this case).  \n",
    "Then the budgets are scaled down at the sectoral level using allocation rules. In this case, $CO_2$ budget is allocated using a grandfathering approach, giving to aviation a similar share to its annual contribution to annual emissions (2.6%). A similar approach is used for total warming budget. Biomass and electricity budgets are arbitraily set at 5%.  \n",
    "The secenario respects the energy budgets, but slightly exceeds $CO_2$ budget  vs (3.4 vs 2.6%) and largely exceeds total warming budget. Non-CO2 mitigation measures are not activated neither investigated in this work as it is not the main topic. They are however crucial to mitigate aviation related warming. Some CO2 mitigation measures have also an impact on non-CO2 (positive or negative).\n",
    "\n",
    "The budget in itself is not a definitive metric: aviation could be allocated a larger budget than its historic contribution, but it means other sectors should decarbonize faster to respect a gloabl temperature target. "
   ]
  },
  {
   "cell_type": "markdown",
   "id": "dce34fc8-e731-4801-b4cb-1e1ba251e058",
   "metadata": {
    "tags": []
   },
   "source": [
    "## 3-b) Costs\n",
    "\n",
    "Then two cost parameters are presented here:\n",
    "- Energy Cost \n",
    "- Aircraft DOC"
   ]
  },
  {
   "cell_type": "code",
   "execution_count": null,
   "id": "b9af6026-447f-45d9-a6db-d11a1c70174b",
   "metadata": {
    "tags": []
   },
   "outputs": [],
   "source": [
    "process.plot(\"mfsp_detailled_year\")"
   ]
  },
  {
   "cell_type": "markdown",
   "id": "2a234332-58da-4693-bafb-075981e00779",
   "metadata": {},
   "source": [
    "This dynamic plot evaluates the minimal fuel selling price (selling price that ensure a null NPV of production plant) of all the pathways considered in AeroMAPS. A common unit €/MJ is sued to compare drop-in and non-drop in fuels on a same graph (*caution: eventual energy efficiency modification of non-dropin fuels is not taken into account here*).  \n",
    "Kerosene is taken a reference at 0.41 €/L.\n",
    "\n",
    " * The cost of each biofuel pathways is fixed during the scenario and between 2 and 4 times the price of fossil fuel. \n",
    "\n",
    " * Hydrogen and e-fuel prices evolves with time. \n",
    "    E-fuel is 7 times more expensive than kerosene in 2040 and 6.3 more expensive in 2050. Two remaks: the MFSP is a mean MFSP, inherent to a secnario: a plant with 2040 technology is still \n",
    "    delevering fuel in 2050 meaning the MFSP of 2050 is higher than best-technology MFSP in 2050.\n",
    "\n",
    " * Price of E-fuel is highly dominated by expenses in electricity procurement. Grid electricity, around 100€/Mwh is considered here. Some of the litterature uses dedicated renewables, cheaper but with a lower load factor. This is discussed later. As seen below, electrofuel MFSp evolution benefits from a decreasing CAPEX/OPEX hypothesis, despite the increase (80->100€/MWh) for electricity prices.   \n",
    "\n",
    " * The same remarks apply for hydrogen produced via water electrolysis, for wich lower capex doesn't balance electricity price increase. Fossil based hydrogen is priced around 2 to 3 time the kerosene cost, and carbon capture increses the MFSP by 21% (SMR) and 13% (CG). \n",
    "\n"
   ]
  },
  {
   "cell_type": "code",
   "execution_count": null,
   "id": "a2e741e3-5cfb-4698-9c3f-31810e613db6",
   "metadata": {
    "tags": []
   },
   "outputs": [],
   "source": [
    "process.plot(\"energy_mfsp\")"
   ]
  },
  {
   "cell_type": "code",
   "execution_count": null,
   "id": "f22a6617-8941-42c0-ae21-32bb4d38f9b5",
   "metadata": {
    "tags": []
   },
   "outputs": [],
   "source": [
    "process.plot(\"energy_expenses_carbon_tax_effect\")"
   ]
  },
  {
   "cell_type": "markdown",
   "id": "bb39e247-fcdb-4d40-a2ae-bc32bffdcd63",
   "metadata": {},
   "source": [
    "The impact of increased energy prices combined to the higher energy prices results in an incread total energy expenses chronology, as illustrated above.\n",
    "\n",
    "The energy efficiecy alows for significant saving compared to a frozen 2019 technology scenario. However, using alternative fuels cancels these saving by 2032 due o teh significant ramp up to alternative fuels in the specified blending mandate. Two segments can be observed. \n",
    "Between 2030 and 2042, and between 2042 and 2050. This correspond to the significant ramp up of moderately expensive biofuels first, and to the one of the e-fuels for the second segement.\n",
    "\n",
    "\n",
    "This increase in energy expenses (they double, per ASK) might seem important. Although fuel is the [largest expense item](https://www.iata.org/en/iata-repository/publications/economic-reports/covid-19-cash-burn-analysis/) of airlines, both efficiency improvements and dillution by other costs (assumed to remain constant), limits the DOC inrease by 40% and the airfare increase by 25%. (see the plot below)."
   ]
  },
  {
   "cell_type": "code",
   "execution_count": null,
   "id": "194d219f-25c0-466a-851e-1f10c391adc2",
   "metadata": {
    "tags": []
   },
   "outputs": [],
   "source": [
    "process.plot(\"airfare_breakdown\")"
   ]
  },
  {
   "cell_type": "markdown",
   "id": "7e5e4267-76ee-4768-8e82-cc5a1c740579",
   "metadata": {
    "tags": []
   },
   "source": [
    "## 3-c) Marginal Abatement Cost Curves\n",
    "\n",
    "This part of the notebook is dedicated to the central part of the article. Indeed, MACC curves, for which the methodology was presented in the paper are obtained here and commented."
   ]
  },
  {
   "cell_type": "code",
   "execution_count": null,
   "id": "0fe93dbd-8cd5-46c2-b199-07bb4385e820",
   "metadata": {
    "tags": []
   },
   "outputs": [],
   "source": [
    "process.plot(\"annual_MACC\")"
   ]
  },
  {
   "cell_type": "markdown",
   "id": "e8ae1e1e-3e4b-40ab-9adc-9087e296fd4e",
   "metadata": {
    "jp-MarkdownHeadingCollapsed": true,
    "tags": []
   },
   "source": [
    "This first MACC curve can be seen a different points in time using the interactive widget (slider).  \n",
    "The selection widget can be used to select the three different carbon abatement cost metrics defined in the paper. \n",
    "\n",
    "<u>Preliminary remark</u>:  \n",
    "Two zones can be identified:\n",
    "- *positive abatements* (blue background). These measures actually reduce air transport $CO_2$ emission compared to the reference considered. Negative abatements costs are linked to cost savings (on the perimeter considered), and positive abatement costs to extra costs. \n",
    "- *negative abatements* (red background) are extra emissions compared to the reference considered. For instance, for aircraft efficiency levers, the reference is the average energy intensity of 2019. Therefore, aircraft that uses more energy than the average (old reference aircraft) are in the red zone. as carbon abatement costs are defined considereing emission reduction as positive and cost reduction as negative, Therefore, this red zone is counter intuitive: negative abatement cost are options that are both more expensive to operate and more emissive than the reference. Besides, GSCAC and SCAC are computed through the whole life of the plant, meaning they could have overall negative emissions, while it is not yet the case in the scenario; then , they are in the red zone, whith positive abatement cost, and should be treated equally as other blue zone options. Overall, comparing options in this zone is not recommended. \n",
    "\n",
    "### 3-c.1/ Instantaneous carbon abatement cost (*ICAC*)\n",
    "\n",
    "Please refer to the article for the in depth definition of the instantaneous carbon abatement cost.  \n",
    "To summarize, it is an easy to compute carbon abatement cost to compare, at a given point in time, the relative efficiency of different abatement options. However, it should not be used to decide when a project should be launched based on the comparison to a reference carbon value or to chose a project over another (or at least this value must be constant to do so).\n",
    "\n",
    "A few comments on several points in time: \n",
    "- 2020 is heavyliy impacted by covid, which degrades both load factor and aircraft efficiency (empty flights?). This particular case is not what the curves are meant for. \n",
    "- In 2025 most of the abatement comes from efficiency abatement options, which, in this case are also less expensive. Although energy options are much more expensive, they are marginally utilized at this point in the blending mandate that was defined above.\n",
    "- For 2030; comments are similar, exception being e-fuel, whith a massive negative CAC/neative abatement. As seens in part 3-a) of the notebook, this is linked to the evolution of the electricity emission factor, which results in electrofuel evolving progressively from a worse to a better fuel than kerosene. Since emissio factors are at the denominator of the carbon abatement cost, it creates a vertical asymptote when emission factors are equal. The effect can be seen in the following years, with electrofuel switching to the blue zone, and with a rapidly decreasing CAC, despite a moderately decreasing MFSP. The metric is thus not particularly relevant to compare options whith very similar emissions factors. \n",
    "- 2035 is characterized by the EIS of the first hydrogen aircraft in the scenario. The effect of the aircraft itself can be seen in the blue zone: with the parameters set, the aicrfat uses less energy than the 2019 average. However, the extra non-fuel doc specified (+10%) results in a positive CAC. The hydrogen is considered to be produced as sepecified in the settings: unabated fossil-based hydrogen is in the red zone. Their carbon-capture counterparts are relatively cost efficient when compared to biofuels, and to electrolysis hydrogen.\n",
    "- No other major changes occur until teh end of the scenario; however, e-fuel and electrolysis-hydrogen become more cost competitive. \n",
    "\n",
    "\n",
    "### 3-c.2/ Specific carbon abatement cost (*SCAC*)\n",
    "\n",
    "The comments drawn before are still valid. However, the specific abatement cost is much more relevant to evaluate projects, by evalauting their economic relevance at their launch date. Refer to the article for a discussion on this specific point. Since the costs of the projects are discounted throughout their lifespan, and that the evalution takes into account the future evolution of prices and emissions, the SCAC is lower than the ICAC at the same date.  \n",
    "They can be compared to a carbon value that grows with the discout rate (see next section).\n",
    "\n",
    "### 3-c.3/ Generic - Specific carbon abatement cost (*G-SCAC*)\n",
    "\n",
    "This is a variant of the previous metric, made to be compared to a generic carbon value.\n"
   ]
  },
  {
   "cell_type": "markdown",
   "id": "760b07ae-f0ff-4362-9d24-33de746828ae",
   "metadata": {},
   "source": [
    "## 3-d) Scenerio Marginal Abatement Cost Curves\n",
    "\n",
    "Like in 3-c), the plot below can be tuned for each metric using the widget. \n",
    "\n",
    "This curve is similar to the previous annual curve, but concatenates the various years in a single graph; Abatements costs are reprented using a colorscale, while each year is a different bar on the x-axis. The y-axis represents the abatement volume. \n",
    "\n",
    "- for the instantenous carbon abatement cost, the observations are similar than in the previous section.\n",
    "- for the specific carbon abatement cost, however, it is possible to visualize on a single graph, which measures are economically interesting considering a hotelling carbon value, and when they become attractive, making their usage desirable. Another widget alows, in this case, to chose a starting value for the carbon price. The dotted zone represents measures whose specific abatement cost is higher than the reference value at this point in time. As a reminer, the interest in this case is that the abatement cost is independant from the carbon price trajectory.\n",
    "\n",
    "- the generic abatement cost allows for a reference carbon price that is not growing with the discount rate. It is indeed the case with approaches in which other factors ake taken ito account to justify a time-evolving value of a given ton of carbon, which is the case with most trajectories found in the litterature. "
   ]
  },
  {
   "cell_type": "code",
   "execution_count": null,
   "id": "af68017a-fac9-4a31-a4ac-4e5d1f0f1588",
   "metadata": {
    "tags": []
   },
   "outputs": [],
   "source": [
    "process.plot(\"scenario_MACC\")"
   ]
  },
  {
   "cell_type": "markdown",
   "id": "b66f6e1a-b8d2-4047-890c-d8a8bcb08679",
   "metadata": {},
   "source": [
    "As a purpose of illustration, cost-efficiency set values from a litterature review of IPCC, reported in [this article](https://www.insee.fr/en/statistiques/4253150?sommaire=4253180) are used.\n",
    "\n",
    "Two 2050 carbon prices are used as end-point hotteling growth rate trajectories\n",
    "- for a carbon budget corresponding to between 50 and 67% chance of exceeding 1.5°C; 518 €2020 in 2050, wich translates into a 120 €2020 reference starting point in 2020 with a 5% discount rate\n",
    "    - No positive abatement cost option is socially interesting before 2030. After which biofuel pathways below 300€ CAC are used as well. Hydrogen produced via electrolysis is below SCC after 2043 and e-fuel after 2047. refer to the article for more discussions.\n",
    "- for a carbon budget corresponding to between 34 and 50% chance of exceeding 2°C;149 €2020 in 2050, wich translates into a 35 €2020 reference starting point in 2020 with a 5% discount rate\n",
    "    - No positive abatement cost measure is socially interesting in this scenario until 2037. Besides, it reveals one very important aspect of this curve: between 2035 and 2050, hydrogen aircraft are considered interesting, because they provide energy savings. However, none of hydrogen production pathways are interesting before 2048 (Gas CCS). In this case, computing a composite carbon abatement cost of those two options, to determine when the aircraft system should start being used, seems a relevant recommandation. \n",
    "\n",
    "Considering either a 1.5 or a 2 degree (economy-wide) target seems to have large implications for aviation, as is is a tipping point between a \"business as usual\" (whit larger push for efficiency), and a larger decarbonising scenario in which alernative energies are used. Indded, only 53% of the planned decarbonisation is achieved in 2050 instead of 100% (NB: these values are share of *scenario* decarbonisation: even at 100%, emissions are still way above zero, as metionned in the emissions graph earlier.\n",
    "\n",
    "\n",
    "Then, as most papers do consider more complex models for constructing their reference value trajectories for carbon, two generic trajectories are tested:\n",
    "-  [Quinet 2019](https://www.insee.fr/en/statistiques/4253150?sommaire=4253180), implementing french value for climate action. The options activated are relatively similar to the trajectory defined for the 1.5 degrees target. However, they are activated much ssoner. The discount rate used is 4.5%\n",
    "- [Barrage/Nordhaus 2023](https://doi.org/10.1073/pnas.2312030121), implementing their central carbon price trajectory (4.3% discout rate). The options activated are similar to those of the 2 degrees target, but the hydrogen aircraft is not interesting at any point. \n",
    "    \n",
    "Scenarios are redisgned to fit these trajectories in section 4.\n",
    "\n",
    "The same work can be done "
   ]
  },
  {
   "cell_type": "code",
   "execution_count": null,
   "id": "92a5aee3-6458-4f74-b68b-8e5f55f52d95",
   "metadata": {},
   "outputs": [],
   "source": [
    "process.plot(\"shadow_carbon_pricing\")"
   ]
  },
  {
   "cell_type": "markdown",
   "id": "8d68aacc-2589-4a14-ba49-451fb202a91c",
   "metadata": {},
   "source": [
    "## 3-e) Scenerio Marginal Abatement Cost Curves\n",
    "\n",
    "Finally, it is possible to adopt the formalism of the annual MAC Curve but for the whole scenario. See the article for comments on this plot.\n"
   ]
  },
  {
   "cell_type": "code",
   "execution_count": null,
   "id": "bd87e990-07be-4463-bb19-c6874011dfaa",
   "metadata": {
    "tags": []
   },
   "outputs": [],
   "source": [
    "process.plot(\"cumulative_MACC\")"
   ]
  },
  {
   "cell_type": "markdown",
   "id": "f9744900-a97f-4772-9104-e741ad32402c",
   "metadata": {
    "tags": []
   },
   "source": [
    "# 4) Designing a scenario\n",
    "\n",
    "This last section consits in redefining a few scenarios. \n",
    "\n",
    "## 4-a) Low carbon price scenario\n",
    "\n",
    "First, we consider the lowest of the two exogenous carbon value trajectories. As it can be seen with the senario plot, no positive abatement cots option is activated. (Hydrogen aircraft is, but not its enrgy)\n",
    "The relative parameters are modified directly in the input file of the scenario. Hydrogen aircraft are replaced by two more efficient drop-in counterparts. "
   ]
  },
  {
   "cell_type": "code",
   "execution_count": null,
   "id": "1d7e3ca4-73e5-4d84-885e-103148ae0327",
   "metadata": {
    "tags": []
   },
   "outputs": [],
   "source": [
    "alternate_low_process = create_process(\n",
    "    configuration_file=\"./data_cost/config_alternate_low_scenario.json\",\n",
    "    models=models,\n",
    "    use_fleet_model=True,\n",
    "    add_examples_aircraft_and_subcategory=False,\n",
    ")"
   ]
  },
  {
   "cell_type": "code",
   "execution_count": null,
   "id": "5d35586f-e6ad-4865-bdea-c0de4d74d549",
   "metadata": {
    "tags": []
   },
   "outputs": [],
   "source": [
    "# Aircraft fleet\n",
    "\n",
    "## Initialization\n",
    "alternate_low_fleet = alternate_low_process.fleet\n",
    "\n",
    "## Short Range aircraft\n",
    "short_range_aircraft_params = AircraftParameters(\n",
    "    entry_into_service_year=2035,\n",
    "    consumption_evolution=-20.0,\n",
    "    nox_evolution=-75.0,\n",
    "    soot_evolution=-100.0,\n",
    "    doc_non_energy_evolution=0.0,\n",
    "    cruise_altitude=12000.0,\n",
    "    ask_year=280000000,\n",
    "    rc_cost=50000000,\n",
    "    nrc_cost=10000000000.0,\n",
    ")\n",
    "short_range_aircraft = Aircraft(\n",
    "    \"New SR-H2\", parameters=short_range_aircraft_params, energy_type=\"DROP_IN_FUEL\"\n",
    ")\n",
    "alternate_low_fleet.categories[\"Short Range\"].subcategories[0].add_aircraft(\n",
    "    aircraft=short_range_aircraft\n",
    ")\n",
    "\n",
    "## Medium Range\n",
    "medium_range_aircraft_params = AircraftParameters(\n",
    "    entry_into_service_year=2030,\n",
    "    consumption_evolution=-20.0,\n",
    "    nox_evolution=0.0,\n",
    "    soot_evolution=0.0,\n",
    "    doc_non_energy_evolution=0.0,\n",
    "    cruise_altitude=12000.0,\n",
    "    ask_year=352000000.0,\n",
    "    rc_cost=60000000.0,\n",
    "    nrc_cost=10000000000.0,\n",
    ")\n",
    "medium_range_aircraft = Aircraft(\n",
    "    \"New MR-DI\", parameters=medium_range_aircraft_params, energy_type=\"DROP_IN_FUEL\"\n",
    ")\n",
    "alternate_low_fleet.categories[\"Medium Range\"].subcategories[0].add_aircraft(\n",
    "    aircraft=medium_range_aircraft\n",
    ")\n",
    "\n",
    "## Medium Range\n",
    "medium_range_aircraft_params = AircraftParameters(\n",
    "    entry_into_service_year=2045,\n",
    "    consumption_evolution=-30.0,\n",
    "    nox_evolution=-75.0,\n",
    "    soot_evolution=-100,\n",
    "    doc_non_energy_evolution=0.0,\n",
    "    cruise_altitude=12000.0,\n",
    "    ask_year=352000000.0,\n",
    "    rc_cost=6600000.0,\n",
    "    nrc_cost=15000000000.0,\n",
    ")\n",
    "medium_range_aircraft = Aircraft(\n",
    "    \"New MR-H2\", parameters=medium_range_aircraft_params, energy_type=\"DROP_IN_FUEL\"\n",
    ")\n",
    "alternate_low_fleet.categories[\"Medium Range\"].subcategories[0].add_aircraft(\n",
    "    aircraft=medium_range_aircraft\n",
    ")\n",
    "\n",
    "## Long Range\n",
    "long_range_aircraft_params = AircraftParameters(\n",
    "    entry_into_service_year=2030,\n",
    "    consumption_evolution=-20.0,\n",
    "    nox_evolution=0.0,\n",
    "    soot_evolution=0.0,\n",
    "    doc_non_energy_evolution=0.0,\n",
    "    cruise_altitude=12000.0,\n",
    "    ask_year=912000000.0,\n",
    "    rc_cost=150000000.0,\n",
    "    nrc_cost=25000000000.0,\n",
    ")\n",
    "long_range_aircraft = Aircraft(\n",
    "    \"New LR-DI\", parameters=long_range_aircraft_params, energy_type=\"DROP_IN_FUEL\"\n",
    ")\n",
    "alternate_low_fleet.categories[\"Long Range\"].subcategories[0].add_aircraft(\n",
    "    aircraft=long_range_aircraft\n",
    ")\n",
    "\n",
    "\n",
    "## Long Range\n",
    "long_range_aircraft_params = AircraftParameters(\n",
    "    entry_into_service_year=2045,\n",
    "    consumption_evolution=-30.0,\n",
    "    nox_evolution=0.0,\n",
    "    soot_evolution=0.0,\n",
    "    doc_non_energy_evolution=0.0,\n",
    "    cruise_altitude=12000.0,\n",
    "    ask_year=912000000.0,\n",
    "    rc_cost=150000000.0,\n",
    "    nrc_cost=25000000000.0,\n",
    ")\n",
    "long_range_aircraft = Aircraft(\n",
    "    \"New LR-DI2\", parameters=long_range_aircraft_params, energy_type=\"DROP_IN_FUEL\"\n",
    ")\n",
    "alternate_low_fleet.categories[\"Long Range\"].subcategories[0].add_aircraft(\n",
    "    aircraft=long_range_aircraft\n",
    ")\n",
    "\n",
    "\n",
    "## Fleet renewal\n",
    "alternate_low_fleet.categories[\"Short Range\"].parameters.life = 25\n",
    "alternate_low_fleet.categories[\"Medium Range\"].parameters.life = 25\n",
    "alternate_low_fleet.categories[\"Long Range\"].parameters.life = 25"
   ]
  },
  {
   "cell_type": "code",
   "execution_count": null,
   "id": "d6ab9cc5-d20f-4662-8523-bf9378bef245",
   "metadata": {
    "tags": []
   },
   "outputs": [],
   "source": [
    "alternate_low_process.compute()"
   ]
  },
  {
   "cell_type": "code",
   "execution_count": null,
   "id": "4e7923ce-d790-499e-b18c-1cbc45f0272a",
   "metadata": {
    "tags": []
   },
   "outputs": [],
   "source": [
    "alternate_low_process.plot(\"scenario_MACC\")"
   ]
  },
  {
   "cell_type": "code",
   "execution_count": null,
   "id": "8ac4d342-79ad-4481-834f-5e92529d8f68",
   "metadata": {
    "tags": []
   },
   "outputs": [],
   "source": [
    "alternate_low_process.plot(\"shadow_carbon_pricing\")"
   ]
  },
  {
   "cell_type": "code",
   "execution_count": null,
   "id": "0fce51cd-ad79-44de-a8ae-b40a524dd301",
   "metadata": {
    "tags": []
   },
   "outputs": [],
   "source": [
    "alternate_low_process.plot(\n",
    "    \"multidisciplinary_assessment\", save=True, size_inches=(4, 4), remove_title=True\n",
    ")"
   ]
  },
  {
   "cell_type": "code",
   "execution_count": null,
   "id": "7a1e56d3-4296-40f0-956b-7c6f6b5f213a",
   "metadata": {
    "tags": []
   },
   "outputs": [],
   "source": [
    "alternate_low_process.plot(\"airfare_breakdown\")"
   ]
  },
  {
   "cell_type": "code",
   "execution_count": null,
   "id": "ff1c6c4d-8e84-4f28-a568-61d3fe3747b2",
   "metadata": {},
   "outputs": [],
   "source": []
  },
  {
   "cell_type": "code",
   "execution_count": null,
   "id": "5c302080-c583-4669-9161-a5ebba7f04ff",
   "metadata": {
    "tags": []
   },
   "outputs": [],
   "source": [
    "alternate_high_process = create_process(\n",
    "    configuration_file=\"./data_cost/config_alternate_high_scenario.json\",\n",
    "    models=models,\n",
    "    use_fleet_model=True,\n",
    "    add_examples_aircraft_and_subcategory=False,\n",
    ")"
   ]
  },
  {
   "cell_type": "markdown",
   "id": "b15f2d3e-59f0-4351-81e3-3e612a30ff37",
   "metadata": {},
   "source": [
    "## 4-b) High carbon price scenario\n",
    "\n",
    "Shares all biofuel before 2040, refuel eur for 2045 and 2050\n",
    "\n",
    " - HEFA - FOG => 100% 2020-2023 => Caped at 2023 value then \n",
    " - otehr pathways split the raminging share based on their avalabilities. \n",
    " \n",
    "Hydrogen blend unchanged. \n",
    "\n",
    "All parameters are modified directly in the input file of the scenario. "
   ]
  },
  {
   "cell_type": "code",
   "execution_count": null,
   "id": "5077241b-4268-4b42-8f63-3b7db90743c6",
   "metadata": {
    "tags": []
   },
   "outputs": [],
   "source": [
    "# Aircraft alternate_high_fleet\n",
    "\n",
    "## Initialization\n",
    "alternate_high_fleet = alternate_high_process.fleet\n",
    "\n",
    "## Short Range aircraft\n",
    "short_range_aircraft_params = AircraftParameters(\n",
    "    entry_into_service_year=2035,\n",
    "    consumption_evolution=0.0,\n",
    "    nox_evolution=-75.0,\n",
    "    soot_evolution=-100.0,\n",
    "    doc_non_energy_evolution=10.0,\n",
    "    cruise_altitude=12000.0,\n",
    "    ask_year=280000000,\n",
    "    rc_cost=50000000,\n",
    "    nrc_cost=10000000000.0,\n",
    ")\n",
    "short_range_aircraft = Aircraft(\n",
    "    \"New SR-H2\", parameters=short_range_aircraft_params, energy_type=\"HYDROGEN\"\n",
    ")\n",
    "alternate_high_fleet.categories[\"Short Range\"].subcategories[0].add_aircraft(\n",
    "    aircraft=short_range_aircraft\n",
    ")\n",
    "\n",
    "## Medium Range\n",
    "medium_range_aircraft_params = AircraftParameters(\n",
    "    entry_into_service_year=2030,\n",
    "    consumption_evolution=-20.0,\n",
    "    nox_evolution=0.0,\n",
    "    soot_evolution=0.0,\n",
    "    doc_non_energy_evolution=0.0,\n",
    "    cruise_altitude=12000.0,\n",
    "    ask_year=352000000.0,\n",
    "    rc_cost=60000000.0,\n",
    "    nrc_cost=10000000000.0,\n",
    ")\n",
    "medium_range_aircraft = Aircraft(\n",
    "    \"New MR-DI\", parameters=medium_range_aircraft_params, energy_type=\"DROP_IN_FUEL\"\n",
    ")\n",
    "alternate_high_fleet.categories[\"Medium Range\"].subcategories[0].add_aircraft(\n",
    "    aircraft=medium_range_aircraft\n",
    ")\n",
    "\n",
    "## Medium Range\n",
    "medium_range_aircraft_params = AircraftParameters(\n",
    "    entry_into_service_year=2045,\n",
    "    consumption_evolution=0.0,\n",
    "    nox_evolution=-75.0,\n",
    "    soot_evolution=-100,\n",
    "    doc_non_energy_evolution=10.0,\n",
    "    cruise_altitude=12000.0,\n",
    "    ask_year=352000000.0,\n",
    "    rc_cost=6600000.0,\n",
    "    nrc_cost=15000000000.0,\n",
    ")\n",
    "medium_range_aircraft = Aircraft(\n",
    "    \"New MR-H2\", parameters=medium_range_aircraft_params, energy_type=\"HYDROGEN\"\n",
    ")\n",
    "alternate_high_fleet.categories[\"Medium Range\"].subcategories[0].add_aircraft(\n",
    "    aircraft=medium_range_aircraft\n",
    ")\n",
    "\n",
    "## Long Range\n",
    "long_range_aircraft_params = AircraftParameters(\n",
    "    entry_into_service_year=2030,\n",
    "    consumption_evolution=-20.0,\n",
    "    nox_evolution=0.0,\n",
    "    soot_evolution=0.0,\n",
    "    doc_non_energy_evolution=0.0,\n",
    "    cruise_altitude=12000.0,\n",
    "    ask_year=912000000.0,\n",
    "    rc_cost=150000000.0,\n",
    "    nrc_cost=25000000000.0,\n",
    ")\n",
    "long_range_aircraft = Aircraft(\n",
    "    \"New LR-DI\", parameters=long_range_aircraft_params, energy_type=\"DROP_IN_FUEL\"\n",
    ")\n",
    "alternate_high_fleet.categories[\"Long Range\"].subcategories[0].add_aircraft(\n",
    "    aircraft=long_range_aircraft\n",
    ")\n",
    "\n",
    "\n",
    "## Long Range\n",
    "long_range_aircraft_params = AircraftParameters(\n",
    "    entry_into_service_year=2045,\n",
    "    consumption_evolution=-30.0,\n",
    "    nox_evolution=0.0,\n",
    "    soot_evolution=0.0,\n",
    "    doc_non_energy_evolution=0.0,\n",
    "    cruise_altitude=12000.0,\n",
    "    ask_year=912000000.0,\n",
    "    rc_cost=150000000.0,\n",
    "    nrc_cost=25000000000.0,\n",
    ")\n",
    "long_range_aircraft = Aircraft(\n",
    "    \"New LR-DI2\", parameters=long_range_aircraft_params, energy_type=\"DROP_IN_FUEL\"\n",
    ")\n",
    "alternate_high_fleet.categories[\"Long Range\"].subcategories[0].add_aircraft(\n",
    "    aircraft=long_range_aircraft\n",
    ")\n",
    "\n",
    "\n",
    "## alternate_high_fleet renewal\n",
    "alternate_high_fleet.categories[\"Short Range\"].parameters.life = 25\n",
    "alternate_high_fleet.categories[\"Medium Range\"].parameters.life = 25\n",
    "alternate_high_fleet.categories[\"Long Range\"].parameters.life = 25"
   ]
  },
  {
   "cell_type": "code",
   "execution_count": null,
   "id": "ada87fab-371f-4b87-8a05-7bda1edd0457",
   "metadata": {
    "tags": []
   },
   "outputs": [],
   "source": [
    "alternate_high_process.compute()"
   ]
  },
  {
   "cell_type": "code",
   "execution_count": null,
   "id": "b8ade05a-6859-475d-bb96-c8f1969fcd00",
   "metadata": {
    "tags": []
   },
   "outputs": [],
   "source": [
    "alternate_high_process.plot(\"annual_MACC\")"
   ]
  },
  {
   "cell_type": "code",
   "execution_count": null,
   "id": "0d648849-68b2-44f8-a0f2-f9d97565942b",
   "metadata": {
    "tags": []
   },
   "outputs": [],
   "source": [
    "alternate_high_process.plot(\"shadow_carbon_pricing\")"
   ]
  },
  {
   "cell_type": "code",
   "execution_count": null,
   "id": "67a91826-75aa-4ac9-8065-da823104e878",
   "metadata": {
    "tags": []
   },
   "outputs": [],
   "source": [
    "alternate_high_process.plot(\"multidisciplinary_assessment\")"
   ]
  },
  {
   "cell_type": "code",
   "execution_count": null,
   "id": "2e180a76-116f-4f71-8714-74fd9d03fcaf",
   "metadata": {
    "tags": []
   },
   "outputs": [],
   "source": [
    "alternate_high_process.plot(\"airfare_breakdown\")"
   ]
  },
  {
   "cell_type": "markdown",
   "id": "3f441889-0f6c-4635-a2ed-1cba62046d3e",
   "metadata": {},
   "source": [
    "## 4-c) Renewables sensitivity analysis \n",
    "\n",
    "Based on high carbon price scenario and renewables elecricity assumptions of 1-d)\n",
    "\n",
    "For ease of reading, teh folowing code is ran several time to have the necessary data for the sensitivity analysis the following figure.\n",
    "\n",
    "Analyses are conducted regarding:\n",
    "- Electricity sources\n",
    "- Private interest rate (affecting the MFSP)\n",
    "- Social discount rate (affecting the specific abatement cost)\n"
   ]
  },
  {
   "cell_type": "code",
   "execution_count": null,
   "id": "4cf54151-f95f-4ea2-94c7-484c9dba9e6a",
   "metadata": {},
   "outputs": [],
   "source": [
    "alternate_ded_ref_process = create_process(\n",
    "    configuration_file=\"./data_cost/config_dedi_ren_scenario.json\",\n",
    "    models=models,\n",
    "    use_fleet_model=True,\n",
    "    add_examples_aircraft_and_subcategory=False,\n",
    ")\n",
    "\n",
    "# Effect of private SDR\n",
    "# alternate_ded_ref_process.parameters.private_discount_rate = 0.045\n",
    "\n",
    "# alternate_ded_ref_process.parameters.social_discount_rate = 0.00\n",
    "# alternate_ded_ref_process.parameters.social_discount_rate = 0.1"
   ]
  },
  {
   "cell_type": "code",
   "execution_count": null,
   "id": "1e7d7177-70c8-4439-8d8f-c03e8df4afee",
   "metadata": {
    "tags": []
   },
   "outputs": [],
   "source": [
    "# Aircraft alternate_ded_ref_fleet\n",
    "\n",
    "## Initialization\n",
    "alternate_ded_ref_fleet = alternate_ded_ref_process.fleet\n",
    "\n",
    "## Short Range aircraft\n",
    "short_range_aircraft_params = AircraftParameters(\n",
    "    entry_into_service_year=2035,\n",
    "    consumption_evolution=0.0,\n",
    "    nox_evolution=-75.0,\n",
    "    soot_evolution=-100.0,\n",
    "    doc_non_energy_evolution=10.0,\n",
    "    cruise_altitude=12000.0,\n",
    "    ask_year=280000000,\n",
    "    rc_cost=50000000,\n",
    "    nrc_cost=10000000000.0,\n",
    ")\n",
    "short_range_aircraft = Aircraft(\n",
    "    \"New SR-H2\", parameters=short_range_aircraft_params, energy_type=\"HYDROGEN\"\n",
    ")\n",
    "alternate_ded_ref_fleet.categories[\"Short Range\"].subcategories[0].add_aircraft(\n",
    "    aircraft=short_range_aircraft\n",
    ")\n",
    "\n",
    "## Medium Range\n",
    "medium_range_aircraft_params = AircraftParameters(\n",
    "    entry_into_service_year=2030,\n",
    "    consumption_evolution=-20.0,\n",
    "    nox_evolution=0.0,\n",
    "    soot_evolution=0.0,\n",
    "    doc_non_energy_evolution=0.0,\n",
    "    cruise_altitude=12000.0,\n",
    "    ask_year=352000000.0,\n",
    "    rc_cost=60000000.0,\n",
    "    nrc_cost=10000000000.0,\n",
    ")\n",
    "medium_range_aircraft = Aircraft(\n",
    "    \"New MR-DI\", parameters=medium_range_aircraft_params, energy_type=\"DROP_IN_FUEL\"\n",
    ")\n",
    "alternate_ded_ref_fleet.categories[\"Medium Range\"].subcategories[0].add_aircraft(\n",
    "    aircraft=medium_range_aircraft\n",
    ")\n",
    "\n",
    "## Medium Range\n",
    "medium_range_aircraft_params = AircraftParameters(\n",
    "    entry_into_service_year=2045,\n",
    "    consumption_evolution=0.0,\n",
    "    nox_evolution=-75.0,\n",
    "    soot_evolution=-100,\n",
    "    doc_non_energy_evolution=10.0,\n",
    "    cruise_altitude=12000.0,\n",
    "    ask_year=352000000.0,\n",
    "    rc_cost=6600000.0,\n",
    "    nrc_cost=15000000000.0,\n",
    ")\n",
    "medium_range_aircraft = Aircraft(\n",
    "    \"New MR-H2\", parameters=medium_range_aircraft_params, energy_type=\"HYDROGEN\"\n",
    ")\n",
    "alternate_ded_ref_fleet.categories[\"Medium Range\"].subcategories[0].add_aircraft(\n",
    "    aircraft=medium_range_aircraft\n",
    ")\n",
    "\n",
    "## Long Range\n",
    "long_range_aircraft_params = AircraftParameters(\n",
    "    entry_into_service_year=2030,\n",
    "    consumption_evolution=-20.0,\n",
    "    nox_evolution=0.0,\n",
    "    soot_evolution=0.0,\n",
    "    doc_non_energy_evolution=0.0,\n",
    "    cruise_altitude=12000.0,\n",
    "    ask_year=912000000.0,\n",
    "    rc_cost=150000000.0,\n",
    "    nrc_cost=25000000000.0,\n",
    ")\n",
    "long_range_aircraft = Aircraft(\n",
    "    \"New LR-DI\", parameters=long_range_aircraft_params, energy_type=\"DROP_IN_FUEL\"\n",
    ")\n",
    "alternate_ded_ref_fleet.categories[\"Long Range\"].subcategories[0].add_aircraft(\n",
    "    aircraft=long_range_aircraft\n",
    ")\n",
    "\n",
    "\n",
    "## Long Range\n",
    "long_range_aircraft_params = AircraftParameters(\n",
    "    entry_into_service_year=2045,\n",
    "    consumption_evolution=-30.0,\n",
    "    nox_evolution=0.0,\n",
    "    soot_evolution=0.0,\n",
    "    doc_non_energy_evolution=0.0,\n",
    "    cruise_altitude=12000.0,\n",
    "    ask_year=912000000.0,\n",
    "    rc_cost=150000000.0,\n",
    "    nrc_cost=25000000000.0,\n",
    ")\n",
    "long_range_aircraft = Aircraft(\n",
    "    \"New LR-DI2\", parameters=long_range_aircraft_params, energy_type=\"DROP_IN_FUEL\"\n",
    ")\n",
    "alternate_ded_ref_fleet.categories[\"Long Range\"].subcategories[0].add_aircraft(\n",
    "    aircraft=long_range_aircraft\n",
    ")\n",
    "\n",
    "\n",
    "## alternate_ded_ref_fleet renewal\n",
    "alternate_ded_ref_fleet.categories[\"Short Range\"].parameters.life = 25\n",
    "alternate_ded_ref_fleet.categories[\"Medium Range\"].parameters.life = 25\n",
    "alternate_ded_ref_fleet.categories[\"Long Range\"].parameters.life = 25"
   ]
  },
  {
   "cell_type": "code",
   "execution_count": null,
   "id": "14f2daf1-7002-4c1b-8eac-6c2a045ef9ef",
   "metadata": {},
   "outputs": [],
   "source": [
    "alternate_ded_ref_process.compute()"
   ]
  },
  {
   "cell_type": "code",
   "execution_count": null,
   "id": "4ae4dd85-bdde-44ff-a6a1-676b566a18c1",
   "metadata": {},
   "outputs": [],
   "source": [
    "alternate_ded_PV_process = create_process(\n",
    "    configuration_file=\"./data_cost/config_dedi_ren_scenario.json\",\n",
    "    models=models,\n",
    "    use_fleet_model=True,\n",
    "    add_examples_aircraft_and_subcategory=False,\n",
    ")"
   ]
  },
  {
   "cell_type": "code",
   "execution_count": null,
   "id": "3058c8eb-bd55-4b73-8c3e-1076565200f3",
   "metadata": {
    "tags": []
   },
   "outputs": [],
   "source": [
    "# # ## PV\n",
    "alternate_ded_PV_process.parameters.electricity_emission_factor_reference_years = [\n",
    "    2020,\n",
    "    2030,\n",
    "    2040,\n",
    "    2050,\n",
    "]\n",
    "alternate_ded_PV_process.parameters.electricity_emission_factor_reference_years_values = [\n",
    "    43,\n",
    "    36,\n",
    "    30,\n",
    "    21,\n",
    "]\n",
    "\n",
    "alternate_ded_PV_process.parameters.electricity_cost_reference_years = [2020, 2030, 2040, 2050]\n",
    "alternate_ded_PV_process.parameters.electricity_cost_reference_years_values = [\n",
    "    0.058,\n",
    "    0.037,\n",
    "    0.033,\n",
    "    0.026,\n",
    "]\n",
    "\n",
    "alternate_ded_PV_process.parameters.electricity_load_factor_reference_years = [2020, 2030, 2050]\n",
    "alternate_ded_PV_process.parameters.electricity_load_factor_reference_years_values = [\n",
    "    0.13,\n",
    "    0.14,\n",
    "    0.14,\n",
    "]\n",
    "\n",
    "# Effect of private SDR\n",
    "# alternate_ded_PV_process.parameters.private_discount_rate = 0.045\n",
    "# alternate_ded_PV_process.parameters.social_discount_rate = 0.00\n",
    "# alternate_ded_PV_process.parameters.social_discount_rate = 0.1"
   ]
  },
  {
   "cell_type": "code",
   "execution_count": null,
   "id": "7487d228-b67a-4c88-b783-8c198921e26e",
   "metadata": {
    "tags": []
   },
   "outputs": [],
   "source": [
    "# Aircraft alternate_ded_PV_fleet\n",
    "\n",
    "## Initialization\n",
    "alternate_ded_PV_fleet = alternate_ded_PV_process.fleet\n",
    "\n",
    "## Short Range aircraft\n",
    "short_range_aircraft_params = AircraftParameters(\n",
    "    entry_into_service_year=2035,\n",
    "    consumption_evolution=0.0,\n",
    "    nox_evolution=-75.0,\n",
    "    soot_evolution=-100.0,\n",
    "    doc_non_energy_evolution=10.0,\n",
    "    cruise_altitude=12000.0,\n",
    "    ask_year=280000000,\n",
    "    rc_cost=50000000,\n",
    "    nrc_cost=10000000000.0,\n",
    ")\n",
    "short_range_aircraft = Aircraft(\n",
    "    \"New SR-H2\", parameters=short_range_aircraft_params, energy_type=\"HYDROGEN\"\n",
    ")\n",
    "alternate_ded_PV_fleet.categories[\"Short Range\"].subcategories[0].add_aircraft(\n",
    "    aircraft=short_range_aircraft\n",
    ")\n",
    "\n",
    "## Medium Range\n",
    "medium_range_aircraft_params = AircraftParameters(\n",
    "    entry_into_service_year=2030,\n",
    "    consumption_evolution=-20.0,\n",
    "    nox_evolution=0.0,\n",
    "    soot_evolution=0.0,\n",
    "    doc_non_energy_evolution=0.0,\n",
    "    cruise_altitude=12000.0,\n",
    "    ask_year=352000000.0,\n",
    "    rc_cost=60000000.0,\n",
    "    nrc_cost=10000000000.0,\n",
    ")\n",
    "medium_range_aircraft = Aircraft(\n",
    "    \"New MR-DI\", parameters=medium_range_aircraft_params, energy_type=\"DROP_IN_FUEL\"\n",
    ")\n",
    "alternate_ded_PV_fleet.categories[\"Medium Range\"].subcategories[0].add_aircraft(\n",
    "    aircraft=medium_range_aircraft\n",
    ")\n",
    "\n",
    "## Medium Range\n",
    "medium_range_aircraft_params = AircraftParameters(\n",
    "    entry_into_service_year=2045,\n",
    "    consumption_evolution=0.0,\n",
    "    nox_evolution=-75.0,\n",
    "    soot_evolution=-100,\n",
    "    doc_non_energy_evolution=10.0,\n",
    "    cruise_altitude=12000.0,\n",
    "    ask_year=352000000.0,\n",
    "    rc_cost=6600000.0,\n",
    "    nrc_cost=15000000000.0,\n",
    ")\n",
    "medium_range_aircraft = Aircraft(\n",
    "    \"New MR-H2\", parameters=medium_range_aircraft_params, energy_type=\"HYDROGEN\"\n",
    ")\n",
    "alternate_ded_PV_fleet.categories[\"Medium Range\"].subcategories[0].add_aircraft(\n",
    "    aircraft=medium_range_aircraft\n",
    ")\n",
    "\n",
    "## Long Range\n",
    "long_range_aircraft_params = AircraftParameters(\n",
    "    entry_into_service_year=2030,\n",
    "    consumption_evolution=-20.0,\n",
    "    nox_evolution=0.0,\n",
    "    soot_evolution=0.0,\n",
    "    doc_non_energy_evolution=0.0,\n",
    "    cruise_altitude=12000.0,\n",
    "    ask_year=912000000.0,\n",
    "    rc_cost=150000000.0,\n",
    "    nrc_cost=25000000000.0,\n",
    ")\n",
    "long_range_aircraft = Aircraft(\n",
    "    \"New LR-DI\", parameters=long_range_aircraft_params, energy_type=\"DROP_IN_FUEL\"\n",
    ")\n",
    "alternate_ded_PV_fleet.categories[\"Long Range\"].subcategories[0].add_aircraft(\n",
    "    aircraft=long_range_aircraft\n",
    ")\n",
    "\n",
    "\n",
    "## Long Range\n",
    "long_range_aircraft_params = AircraftParameters(\n",
    "    entry_into_service_year=2045,\n",
    "    consumption_evolution=-30.0,\n",
    "    nox_evolution=0.0,\n",
    "    soot_evolution=0.0,\n",
    "    doc_non_energy_evolution=0.0,\n",
    "    cruise_altitude=12000.0,\n",
    "    ask_year=912000000.0,\n",
    "    rc_cost=150000000.0,\n",
    "    nrc_cost=25000000000.0,\n",
    ")\n",
    "long_range_aircraft = Aircraft(\n",
    "    \"New LR-DI2\", parameters=long_range_aircraft_params, energy_type=\"DROP_IN_FUEL\"\n",
    ")\n",
    "alternate_ded_PV_fleet.categories[\"Long Range\"].subcategories[0].add_aircraft(\n",
    "    aircraft=long_range_aircraft\n",
    ")\n",
    "\n",
    "\n",
    "## alternate_ded_PV_fleet renewal\n",
    "alternate_ded_PV_fleet.categories[\"Short Range\"].parameters.life = 25\n",
    "alternate_ded_PV_fleet.categories[\"Medium Range\"].parameters.life = 25\n",
    "alternate_ded_PV_fleet.categories[\"Long Range\"].parameters.life = 25"
   ]
  },
  {
   "cell_type": "code",
   "execution_count": null,
   "id": "99e89d22-c6aa-4122-be78-ae40d63ebaa7",
   "metadata": {},
   "outputs": [],
   "source": [
    "alternate_ded_PV_process.compute()"
   ]
  },
  {
   "cell_type": "code",
   "execution_count": null,
   "id": "f57b49d5-285d-49e3-a4e7-1adbe2cf6066",
   "metadata": {
    "tags": []
   },
   "outputs": [],
   "source": [
    "alternate_ded_W_process = create_process(\n",
    "    configuration_file=\"./data_cost/config_dedi_ren_scenario.json\",\n",
    "    models=models,\n",
    "    use_fleet_model=True,\n",
    "    add_examples_aircraft_and_subcategory=False,\n",
    ")"
   ]
  },
  {
   "cell_type": "code",
   "execution_count": null,
   "id": "b2d0c1aa-f073-464f-8dde-747b2f96a3e7",
   "metadata": {},
   "outputs": [],
   "source": [
    "# ## Wind\n",
    "alternate_ded_W_process.parameters.electricity_emission_factor_reference_years = [\n",
    "    2020,\n",
    "    2030,\n",
    "    2040,\n",
    "    2050,\n",
    "]\n",
    "alternate_ded_W_process.parameters.electricity_emission_factor_reference_years_values = [\n",
    "    15,\n",
    "    13.5,\n",
    "    12.5,\n",
    "    11.5,\n",
    "]\n",
    "\n",
    "alternate_ded_W_process.parameters.electricity_cost_reference_years = [2020, 2030, 2040, 2050]\n",
    "alternate_ded_W_process.parameters.electricity_cost_reference_years_values = [\n",
    "    0.061,\n",
    "    0.058,\n",
    "    0.052,\n",
    "    0.046,\n",
    "]\n",
    "\n",
    "alternate_ded_W_process.parameters.electricity_load_factor_reference_years = [2020, 2030, 2050]\n",
    "alternate_ded_W_process.parameters.electricity_load_factor_reference_years_values = [\n",
    "    0.4,\n",
    "    0.43,\n",
    "    0.45,\n",
    "]\n",
    "\n",
    "# Effect of private SDR\n",
    "# alternate_ded_W_process.parameters.private_discount_rate = 0.045\n",
    "\n",
    "# alternate_ded_W_process.parameters.social_discount_rate = 0.00\n",
    "# alternate_ded_W_process.parameters.social_discount_rate = 0.1"
   ]
  },
  {
   "cell_type": "code",
   "execution_count": null,
   "id": "cda44aea-474d-4453-8ce4-ddfd27b82677",
   "metadata": {
    "tags": []
   },
   "outputs": [],
   "source": [
    "# Aircraft alternate_ded_W_fleet\n",
    "\n",
    "## Initialization\n",
    "alternate_ded_W_fleet = alternate_ded_W_process.fleet\n",
    "\n",
    "## Short Range aircraft\n",
    "short_range_aircraft_params = AircraftParameters(\n",
    "    entry_into_service_year=2035,\n",
    "    consumption_evolution=0.0,\n",
    "    nox_evolution=-75.0,\n",
    "    soot_evolution=-100.0,\n",
    "    doc_non_energy_evolution=10.0,\n",
    "    cruise_altitude=12000.0,\n",
    "    ask_year=280000000,\n",
    "    rc_cost=50000000,\n",
    "    nrc_cost=10000000000.0,\n",
    ")\n",
    "short_range_aircraft = Aircraft(\n",
    "    \"New SR-H2\", parameters=short_range_aircraft_params, energy_type=\"HYDROGEN\"\n",
    ")\n",
    "alternate_ded_W_fleet.categories[\"Short Range\"].subcategories[0].add_aircraft(\n",
    "    aircraft=short_range_aircraft\n",
    ")\n",
    "\n",
    "## Medium Range\n",
    "medium_range_aircraft_params = AircraftParameters(\n",
    "    entry_into_service_year=2030,\n",
    "    consumption_evolution=-20.0,\n",
    "    nox_evolution=0.0,\n",
    "    soot_evolution=0.0,\n",
    "    doc_non_energy_evolution=0.0,\n",
    "    cruise_altitude=12000.0,\n",
    "    ask_year=352000000.0,\n",
    "    rc_cost=60000000.0,\n",
    "    nrc_cost=10000000000.0,\n",
    ")\n",
    "medium_range_aircraft = Aircraft(\n",
    "    \"New MR-DI\", parameters=medium_range_aircraft_params, energy_type=\"DROP_IN_FUEL\"\n",
    ")\n",
    "alternate_ded_W_fleet.categories[\"Medium Range\"].subcategories[0].add_aircraft(\n",
    "    aircraft=medium_range_aircraft\n",
    ")\n",
    "\n",
    "## Medium Range\n",
    "medium_range_aircraft_params = AircraftParameters(\n",
    "    entry_into_service_year=2045,\n",
    "    consumption_evolution=0.0,\n",
    "    nox_evolution=-75.0,\n",
    "    soot_evolution=-100,\n",
    "    doc_non_energy_evolution=10.0,\n",
    "    cruise_altitude=12000.0,\n",
    "    ask_year=352000000.0,\n",
    "    rc_cost=6600000.0,\n",
    "    nrc_cost=15000000000.0,\n",
    ")\n",
    "medium_range_aircraft = Aircraft(\n",
    "    \"New MR-H2\", parameters=medium_range_aircraft_params, energy_type=\"HYDROGEN\"\n",
    ")\n",
    "alternate_ded_W_fleet.categories[\"Medium Range\"].subcategories[0].add_aircraft(\n",
    "    aircraft=medium_range_aircraft\n",
    ")\n",
    "\n",
    "## Long Range\n",
    "long_range_aircraft_params = AircraftParameters(\n",
    "    entry_into_service_year=2030,\n",
    "    consumption_evolution=-20.0,\n",
    "    nox_evolution=0.0,\n",
    "    soot_evolution=0.0,\n",
    "    doc_non_energy_evolution=0.0,\n",
    "    cruise_altitude=12000.0,\n",
    "    ask_year=912000000.0,\n",
    "    rc_cost=150000000.0,\n",
    "    nrc_cost=25000000000.0,\n",
    ")\n",
    "long_range_aircraft = Aircraft(\n",
    "    \"New LR-DI\", parameters=long_range_aircraft_params, energy_type=\"DROP_IN_FUEL\"\n",
    ")\n",
    "alternate_ded_W_fleet.categories[\"Long Range\"].subcategories[0].add_aircraft(\n",
    "    aircraft=long_range_aircraft\n",
    ")\n",
    "\n",
    "\n",
    "## Long Range\n",
    "long_range_aircraft_params = AircraftParameters(\n",
    "    entry_into_service_year=2045,\n",
    "    consumption_evolution=-30.0,\n",
    "    nox_evolution=0.0,\n",
    "    soot_evolution=0.0,\n",
    "    doc_non_energy_evolution=0.0,\n",
    "    cruise_altitude=12000.0,\n",
    "    ask_year=912000000.0,\n",
    "    rc_cost=150000000.0,\n",
    "    nrc_cost=25000000000.0,\n",
    ")\n",
    "long_range_aircraft = Aircraft(\n",
    "    \"New LR-DI2\", parameters=long_range_aircraft_params, energy_type=\"DROP_IN_FUEL\"\n",
    ")\n",
    "alternate_ded_W_fleet.categories[\"Long Range\"].subcategories[0].add_aircraft(\n",
    "    aircraft=long_range_aircraft\n",
    ")\n",
    "\n",
    "\n",
    "## alternate_ded_W_fleet renewal\n",
    "alternate_ded_W_fleet.categories[\"Short Range\"].parameters.life = 25\n",
    "alternate_ded_W_fleet.categories[\"Medium Range\"].parameters.life = 25\n",
    "alternate_ded_W_fleet.categories[\"Long Range\"].parameters.life = 25"
   ]
  },
  {
   "cell_type": "code",
   "execution_count": null,
   "id": "5dc446ed-3e93-4baa-96f5-7a448061a7f2",
   "metadata": {
    "tags": []
   },
   "outputs": [],
   "source": [
    "alternate_ded_W_process.compute()"
   ]
  },
  {
   "cell_type": "code",
   "execution_count": null,
   "id": "a1241d2c-c3bf-4ce2-b715-181948a85642",
   "metadata": {
    "tags": []
   },
   "outputs": [],
   "source": [
    "data_W = alternate_ded_W_process.vector_outputs_df[\"specific_carbon_abatement_cost_electrofuel\"]\n",
    "data_PV = alternate_ded_PV_process.vector_outputs_df[\"specific_carbon_abatement_cost_electrofuel\"]\n",
    "data_ref = alternate_ded_ref_process.vector_outputs_df[\"specific_carbon_abatement_cost_electrofuel\"]\n",
    "\n",
    "# data_W_0 = alternate_ded_W_process.vector_outputs_df[\"specific_carbon_abatement_cost_electrofuel\"]\n",
    "# data_PV_0 = alternate_ded_PV_process.vector_outputs_df[\"specific_carbon_abatement_cost_electrofuel\"]\n",
    "# data_ref_0 = alternate_ded_ref_process.vector_outputs_df[\"specific_carbon_abatement_cost_electrofuel\"]\n",
    "\n",
    "# data_W_10 = alternate_ded_W_process.vector_outputs_df[\"specific_carbon_abatement_cost_electrofuel\"]\n",
    "# data_PV_10 = alternate_ded_PV_process.vector_outputs_df[\"specific_carbon_abatement_cost_electrofuel\"]\n",
    "# data_ref_10 = alternate_ded_ref_process.vector_outputs_df[\"specific_carbon_abatement_cost_electrofuel\"]"
   ]
  },
  {
   "cell_type": "code",
   "execution_count": null,
   "id": "8ad33f2d-0c5b-4990-a746-661730e78311",
   "metadata": {
    "tags": []
   },
   "outputs": [],
   "source": [
    "# data_W_SDR = alternate_ded_W_process.vector_outputs_df[\"specific_carbon_abatement_cost_electrofuel\"]\n",
    "# data_PV_SDR = alternate_ded_PV_process.vector_outputs_df[\"specific_carbon_abatement_cost_electrofuel\"]\n",
    "# data_ref_SDR = alternate_ded_ref_process.vector_outputs_df[\"specific_carbon_abatement_cost_electrofuel\"]"
   ]
  },
  {
   "cell_type": "code",
   "execution_count": null,
   "id": "d22f6235-9de0-469f-a2cc-71ed5f126305",
   "metadata": {
    "tags": []
   },
   "outputs": [],
   "source": [
    "# import matplotlib.pyplot as plt\n",
    "# import pandas as pd\n",
    "\n",
    "# plt.figure(figsize=(10, 6))\n",
    "\n",
    "# plt.plot(data_ref, label='Grid', color='black')\n",
    "# plt.plot(data_W, label='Dedicated Wind', color='royalblue')\n",
    "# plt.plot(data_PV, label='Dedicated Solar', color='darkorange')\n",
    "\n",
    "# plt.fill_between(data_ref_0.index, data_ref_0, data_ref_10, color='black', alpha=0.1)\n",
    "# plt.fill_between(data_W_0.index, data_W_0, data_W_10, color='royalblue', alpha=0.1)\n",
    "# plt.fill_between(data_PV_0.index, data_PV_0, data_PV_10, color='orange', alpha=0.2)\n",
    "\n",
    "# plt.plot(data_ref_SDR, label='Grid - Low interest rate', ls='--', color='black')\n",
    "# plt.plot(data_W_SDR, label='Dedicated Wind - Low interest rate', ls='--', color='royalblue')\n",
    "# plt.plot(data_PV_SDR, label='Dedicated Solar - Low interest rate', ls='--', color='darkorange')\n",
    "\n",
    "\n",
    "# plt.xlabel('Year', fontsize=12)\n",
    "# plt.ylabel('Specific Carbon Abatement Cost (€/t$\\mathregular{CO_2}$',  fontsize=12)\n",
    "# plt.legend(fontsize=12)\n",
    "# plt.grid(True)\n",
    "# plt.tight_layout()\n",
    "\n",
    "# plt.savefig('sensitivity_efuel.pdf')"
   ]
  }
 ],
 "metadata": {
  "kernelspec": {
   "display_name": "Python 3 (ipykernel)",
   "language": "python",
   "name": "python3"
  },
  "language_info": {
   "codemirror_mode": {
    "name": "ipython",
    "version": 3
   },
   "file_extension": ".py",
   "mimetype": "text/x-python",
   "name": "python",
   "nbconvert_exporter": "python",
   "pygments_lexer": "ipython3",
   "version": "3.9.19"
  }
 },
 "nbformat": 4,
 "nbformat_minor": 5
}
