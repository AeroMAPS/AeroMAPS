{
 "cells": [
  {
   "cell_type": "markdown",
   "metadata": {},
   "source": [
    "# Application for the Journal of Open Aviation Science\n",
    "\n",
    "This document has been published for reproducing the application presented in a software paper dedicated to AeroMAPS, published in [Journal of Open Aviation Science](https://journals.open.tudelft.nl/joas/index). The different assumptions of this prospective scenario are given in the following. \n",
    "\n",
    "An illustrative 2% annual air traffic growth is assumed for the different aviation markets, i.e. lower than trend estimates of around 3%. The impact of COVID-19 is modelled assuming that air traffic returns to 2019 levels in 2024. Concerning the aircraft fleet, an accelerated fleet renewal is assumed with the introduction of 20% more efficient aircraft architectures in 2035. A hydrogen-powered aircraft is more specifically considered for short-range. Operational improvements are also included for reducing fuel consumption, but operational strategies for contrail avoidance are not considered here, even though it is a promising approach. Regarding the replacement of kerosene by drop-in fuels (biofuel and electrofuel here), ReFuelEU targets are considered as blending mandates. Different pathways are considered for the production of biofuel and hydrogen. Electricity production is expected to decarbonise rapidly and strongly, so that CO<sub>2</sub> emissions from electricity-based fuels will be lower than those from kerosene by 2035. On the economic side, several assumptions are made such as median fuel costs or a constant electricity price of 80 €/MWh. Moreover, a carbon price trajectory, based on *Alain Quinet, What Value Do We Attach to Climate Action?, 2019*, is implemented in the form of a tax on the emissions of fossil and alternative fuels.\n",
    "\n",
    "Moreover, in order to carry out a sustainability assessment, some assumptions are required for setting targets for aviation. A climate target of +1.8°C with a 67% chance of success is chosen as well as a moderate use of Carbon Dioxide Removal (CDR) worldwide. Median estimations are considered for biomass and electricity availability. Finally, concerning allocation rules, a grandfathering approach is assumed for climate issues, which means that 2.6% (i.e. aviation's current share of CO<sub>2</sub> emissions) of the world carbon budget is allocated for aviation. For energy resources, an illustrative and arbitrary allocation of 5% is assumed.\n",
    "\n",
    "> **⚠ This notebook has been developed with the AeroMAPS version v0.4.2-beta for obtaining the paper results. However, this notebook has been or could be modified in order to be executable with the latest versions of AeroMAPS, which sometimes leads to different results compared to the ones from the paper, due to some models' modifications. In order to retrieve the results of the paper, one can use the v0.4.2-beta version associated with the original notebook.**"
   ]
  },
  {
   "cell_type": "markdown",
   "metadata": {
    "slideshow": {
     "slide_type": "slide"
    }
   },
   "source": [
    "## Load and process"
   ]
  },
  {
   "cell_type": "code",
   "execution_count": null,
   "metadata": {
    "slideshow": {
     "slide_type": "subslide"
    },
    "tags": []
   },
   "outputs": [],
   "source": [
    "%matplotlib widget\n",
    "import time\n",
    "import numpy as np\n",
    "from aeromaps import create_process\n",
    "from aeromaps.core.models import (\n",
    "    models_traffic,\n",
    "    models_efficiency_bottom_up,\n",
    "    models_energy_without_fuel_effect,\n",
    "    models_offset,\n",
    "    models_climate_simple_gwpstar,\n",
    "    models_sustainability,\n",
    "    models_energy_cost_complex,\n",
    "    models_operation_cost_bottom_up,\n",
    "    models_production_cost,\n",
    "    models_abatements_cost,\n",
    ")\n",
    "from aeromaps.models.air_transport.aircraft_fleet_and_operations.fleet.fleet_model import (\n",
    "    AircraftParameters,\n",
    "    Aircraft,\n",
    ")"
   ]
  },
  {
   "cell_type": "code",
   "execution_count": null,
   "metadata": {},
   "outputs": [],
   "source": [
    "models = {\n",
    "    \"models_traffic\": models_traffic,\n",
    "    \"models_efficiency_bottom_up\": models_efficiency_bottom_up,\n",
    "    \"models_energy_without_fuel_effect\": models_energy_without_fuel_effect,\n",
    "    \"models_offset\": models_offset,\n",
    "    \"models_climate_simple_gwpstar\": models_climate_simple_gwpstar,\n",
    "    \"models_sustainability\": models_sustainability,\n",
    "    \"models_energy_cost_complex\": models_energy_cost_complex,\n",
    "    \"models_operation_cost_bottom_up\": models_operation_cost_bottom_up,\n",
    "    \"models_production_cost\": models_production_cost,\n",
    "    \"models_abatements_cost\": models_abatements_cost,\n",
    "}"
   ]
  },
  {
   "cell_type": "code",
   "execution_count": null,
   "metadata": {
    "slideshow": {
     "slide_type": "subslide"
    },
    "tags": []
   },
   "outputs": [],
   "source": [
    "process = create_process(\n",
    "    models=models,\n",
    "    use_fleet_model=True,\n",
    "    add_examples_aircraft_and_subcategory=False,\n",
    ")"
   ]
  },
  {
   "cell_type": "markdown",
   "metadata": {
    "slideshow": {
     "slide_type": "slide"
    }
   },
   "source": [
    "## Set up variables\n",
    "\n",
    "### Aviation scenario"
   ]
  },
  {
   "cell_type": "code",
   "execution_count": null,
   "metadata": {
    "slideshow": {
     "slide_type": "subslide"
    },
    "tags": []
   },
   "outputs": [],
   "source": [
    "# Air traffic evolution\n",
    "\n",
    "## Growth rate by category [%]\n",
    "process.parameters.cagr_passenger_short_range_reference_periods = []\n",
    "process.parameters.cagr_passenger_short_range_reference_periods_values = [2.0]\n",
    "process.parameters.cagr_passenger_medium_range_reference_periods = []\n",
    "process.parameters.cagr_passenger_medium_range_reference_periods_values = [2.0]\n",
    "process.parameters.cagr_passenger_long_range_reference_periods = []\n",
    "process.parameters.cagr_passenger_long_range_reference_periods_values = [2.0]\n",
    "process.parameters.cagr_freight_reference_periods = []\n",
    "process.parameters.cagr_freight_reference_periods_values = [2.0]"
   ]
  },
  {
   "cell_type": "code",
   "execution_count": null,
   "metadata": {
    "tags": []
   },
   "outputs": [],
   "source": [
    "# Aircraft fleet\n",
    "\n",
    "## Initialization\n",
    "fleet = process.fleet\n",
    "\n",
    "## Short Range\n",
    "short_range_aircraft_params = AircraftParameters(\n",
    "    entry_into_service_year=2035,\n",
    "    consumption_evolution=-20.0,\n",
    "    nox_evolution=-75.0,\n",
    "    soot_evolution=-100.0,\n",
    "    doc_non_energy_evolution=10.0,\n",
    "    cruise_altitude=12000.0,\n",
    "    ask_year=280000000,\n",
    "    rc_cost=50000000,\n",
    "    nrc_cost=10000000000.0,\n",
    ")\n",
    "short_range_aircraft = Aircraft(\n",
    "    \"New Short-range Aircraft\", parameters=short_range_aircraft_params, energy_type=\"HYDROGEN\"\n",
    ")\n",
    "fleet.categories[\"Short Range\"].subcategories[0].add_aircraft(aircraft=short_range_aircraft)\n",
    "\n",
    "## Medium Range\n",
    "medium_range_aircraft_params = AircraftParameters(\n",
    "    entry_into_service_year=2035,\n",
    "    consumption_evolution=-20.0,\n",
    "    nox_evolution=0.0,\n",
    "    soot_evolution=0.0,\n",
    "    doc_non_energy_evolution=0.0,\n",
    "    cruise_altitude=12000.0,\n",
    "    ask_year=352000000.0,\n",
    "    rc_cost=60000000.0,\n",
    "    nrc_cost=10000000000.0,\n",
    ")\n",
    "medium_range_aircraft = Aircraft(\n",
    "    \"New Medium-range Aircraft\", parameters=medium_range_aircraft_params, energy_type=\"DROP_IN_FUEL\"\n",
    ")\n",
    "fleet.categories[\"Medium Range\"].subcategories[0].add_aircraft(aircraft=medium_range_aircraft)\n",
    "\n",
    "## Long Range\n",
    "long_range_aircraft_params = AircraftParameters(\n",
    "    entry_into_service_year=2035,\n",
    "    consumption_evolution=-20.0,\n",
    "    nox_evolution=0.0,\n",
    "    soot_evolution=0.0,\n",
    "    doc_non_energy_evolution=0.0,\n",
    "    cruise_altitude=12000.0,\n",
    "    ask_year=912000000.0,\n",
    "    rc_cost=150000000.0,\n",
    "    nrc_cost=25000000000.0,\n",
    ")\n",
    "long_range_aircraft = Aircraft(\n",
    "    \"New Long-range Aircraft\", parameters=long_range_aircraft_params, energy_type=\"DROP_IN_FUEL\"\n",
    ")\n",
    "fleet.categories[\"Long Range\"].subcategories[0].add_aircraft(aircraft=long_range_aircraft)\n",
    "\n",
    "## Fleet renewal\n",
    "fleet.categories[\"Short Range\"].parameters.life = 20\n",
    "fleet.categories[\"Medium Range\"].parameters.life = 20\n",
    "fleet.categories[\"Long Range\"].parameters.life = 20"
   ]
  },
  {
   "cell_type": "code",
   "execution_count": null,
   "metadata": {
    "slideshow": {
     "slide_type": "subslide"
    },
    "tags": []
   },
   "outputs": [],
   "source": [
    "# Aircraft fleet and operation evolution - Aircraft load factor\n",
    "\n",
    "## Aircraft load factor in 2050 [%]\n",
    "process.parameters.load_factor_end_year = 89.0  # 2019 value: 82.399312"
   ]
  },
  {
   "cell_type": "code",
   "execution_count": null,
   "metadata": {
    "slideshow": {
     "slide_type": "subslide"
    },
    "tags": []
   },
   "outputs": [],
   "source": [
    "# Aircraft fleet and operation evolution - Operations\n",
    "\n",
    "## Values for setting the logistic function\n",
    "process.parameters.operations_final_gain = 8.0  # [%]\n",
    "process.parameters.operations_start_year = 2025\n",
    "process.parameters.operations_duration = 25.0"
   ]
  },
  {
   "cell_type": "code",
   "execution_count": null,
   "metadata": {
    "slideshow": {
     "slide_type": "subslide"
    },
    "tags": []
   },
   "outputs": [],
   "source": [
    "# Aircraft energy - Introduction of alternative drop-in fuels\n",
    "\n",
    "## Share of alternative fuels in the drop-in fuel mix (the rest being supplemented by kerosene) [%]\n",
    "process.parameters.biofuel_share_reference_years = [2020, 2030, 2040, 2050]\n",
    "process.parameters.biofuel_share_reference_years_values = [0.0, 4.8, 24.0, 35.0]\n",
    "process.parameters.electrofuel_share_reference_years = [2020, 2030, 2040, 2050]\n",
    "process.parameters.electrofuel_share_reference_years_values = [0.0, 1.2, 10.0, 35.0]"
   ]
  },
  {
   "cell_type": "code",
   "execution_count": null,
   "metadata": {
    "slideshow": {
     "slide_type": "subslide"
    },
    "tags": []
   },
   "outputs": [],
   "source": [
    "# Various environmental settings\n",
    "\n",
    "## Share of biofuel production pathways (the rest being completed by AtJ processes) [%]\n",
    "process.parameters.biofuel_hefa_fog_share_reference_years = [2020, 2030, 2040, 2050]\n",
    "process.parameters.biofuel_hefa_fog_share_reference_years_values = [100, 0.7, 0.7, 0.7]\n",
    "process.parameters.biofuel_hefa_others_share_reference_years = [2020, 2030, 2040, 2050]\n",
    "process.parameters.biofuel_hefa_others_share_reference_years_values = [0.0, 3.8, 3.8, 3.8]\n",
    "process.parameters.biofuel_ft_others_share_reference_years = [2020, 2030, 2040, 2050]\n",
    "process.parameters.biofuel_ft_others_share_reference_years_values = [0.0, 76.3, 76.3, 76.3]\n",
    "process.parameters.biofuel_ft_msw_share_reference_years = [2020, 2030, 2040, 2050]\n",
    "process.parameters.biofuel_ft_msw_share_reference_years_values = [0.0, 7.4, 7.4, 7.4]\n",
    "\n",
    "## Emission factors for electricity (2019 value: 429 gCO2/kWh)\n",
    "process.parameters.electricity_emission_factor_reference_years = [2020, 2030, 2040, 2050]\n",
    "process.parameters.electricity_emission_factor_reference_years_values = [429.0, 180.0, 75.0, 30.0]\n",
    "\n",
    "## Share of hydrogen production pathways (the rest being completed by production via coal without CCS) [%]\n",
    "## Distribution in 2019: Gas without CCS (71%), Coal without CCS (27%), Electrolysis (2%), Others with CCS (0%), Co-products not taken into account\n",
    "process.parameters.hydrogen_electrolysis_share_reference_years = [2020, 2030, 2040, 2050]\n",
    "process.parameters.hydrogen_electrolysis_share_reference_years_values = [2, 50, 100, 100]\n",
    "process.parameters.hydrogen_gas_ccs_share_reference_years = [2020, 2030, 2040, 2050]\n",
    "process.parameters.hydrogen_gas_ccs_share_reference_years_values = [0, 0, 0, 0]\n",
    "process.parameters.hydrogen_coal_ccs_share_reference_years = [2020, 2030, 2040, 2050]\n",
    "process.parameters.hydrogen_coal_ccs_share_reference_years_values = [0, 0, 0, 0]\n",
    "process.parameters.hydrogen_gas_share_reference_years = [2020, 2030, 2040, 2050]\n",
    "process.parameters.hydrogen_gas_share_reference_years_values = [71, 50, 0, 0]"
   ]
  },
  {
   "cell_type": "code",
   "execution_count": null,
   "metadata": {
    "tags": []
   },
   "outputs": [],
   "source": [
    "# Cost parameters\n",
    "\n",
    "## Carbon tax\n",
    "process.parameters.carbon_tax_reference_years = [2020, 2030, 2040, 2050]\n",
    "process.parameters.carbon_tax_reference_years_values = [\n",
    "    5,\n",
    "    250,\n",
    "    500,\n",
    "    775,\n",
    "]  # 2020 value differs from the value of Quinet (54 €/tCO2)"
   ]
  },
  {
   "cell_type": "markdown",
   "metadata": {},
   "source": [
    "### Sustainability assessment"
   ]
  },
  {
   "cell_type": "code",
   "execution_count": null,
   "metadata": {
    "slideshow": {
     "slide_type": "subslide"
    },
    "tags": []
   },
   "outputs": [],
   "source": [
    "# Environmental limits\n",
    "\n",
    "## Carbon budgets and Carbon Dioxide Removal [GtCO2]\n",
    "process.parameters.net_carbon_budget = 850.0\n",
    "process.parameters.carbon_dioxyde_removal_2100 = 285.0\n",
    "\n",
    "## Available energy resources in 2050 [EJ]\n",
    "process.parameters.waste_biomass = 12.0\n",
    "process.parameters.crops_biomass = 63.0\n",
    "process.parameters.forest_residues_biomass = 17.0\n",
    "process.parameters.agricultural_residues_biomass = 57.0\n",
    "process.parameters.algae_biomass = 15.0\n",
    "process.parameters.available_electricity = 200.0"
   ]
  },
  {
   "cell_type": "code",
   "execution_count": null,
   "metadata": {
    "slideshow": {
     "slide_type": "subslide"
    },
    "tags": []
   },
   "outputs": [],
   "source": [
    "# Allocation settings\n",
    "\n",
    "## Aviation share of the global (equivalent) carbon budget [%]\n",
    "process.parameters.aviation_carbon_budget_allocated_share = 2.6\n",
    "process.parameters.aviation_equivalentcarbonbudget_allocated_share = 5.1\n",
    "\n",
    "## Aviation share of the global energy resources (biomass and electricity) [%]\n",
    "process.parameters.aviation_biomass_allocated_share = 5.0\n",
    "process.parameters.aviation_electricity_allocated_share = 5.0"
   ]
  },
  {
   "cell_type": "markdown",
   "metadata": {
    "slideshow": {
     "slide_type": "slide"
    }
   },
   "source": [
    "## Compute"
   ]
  },
  {
   "cell_type": "code",
   "execution_count": null,
   "metadata": {
    "slideshow": {
     "slide_type": "subslide"
    },
    "tags": []
   },
   "outputs": [],
   "source": [
    "t1 = time.time()\n",
    "process.compute()\n",
    "t2 = time.time()\n",
    "print(\"Computation time:\", np.round(t2 - t1, 2), \"s\")"
   ]
  },
  {
   "cell_type": "markdown",
   "metadata": {},
   "source": [
    "## Results"
   ]
  },
  {
   "cell_type": "markdown",
   "metadata": {},
   "source": [
    "### Excel data"
   ]
  },
  {
   "cell_type": "code",
   "execution_count": null,
   "metadata": {},
   "outputs": [],
   "source": [
    "process.write_excel(file_name=\"aeromaps_data.xlsx\")"
   ]
  },
  {
   "cell_type": "markdown",
   "metadata": {},
   "source": [
    "### Main results"
   ]
  },
  {
   "cell_type": "code",
   "execution_count": null,
   "metadata": {
    "tags": []
   },
   "outputs": [],
   "source": [
    "print(\n",
    "    \"CO2 emissions in 2050:\",\n",
    "    round(process.data[\"climate_outputs\"][\"co2_emissions\"][2050], 0),\n",
    "    \"MtCO2, i.e. an evolution of:\",\n",
    "    round(\n",
    "        (\n",
    "            (\n",
    "                process.data[\"climate_outputs\"][\"co2_emissions\"][2050]\n",
    "                / process.data[\"climate_outputs\"][\"co2_emissions\"][2019]\n",
    "            )\n",
    "            - 1\n",
    "        )\n",
    "        * 100,\n",
    "        0,\n",
    "    ),\n",
    "    \"% compared to 2019\",\n",
    ")\n",
    "print(\n",
    "    \"CO2 emissions per RPK in 2050:\",\n",
    "    round(process.data[\"vector_outputs\"][\"co2_emissions_per_rpk\"][2050], 0),\n",
    "    \"gCO2/RPK, i.e. an evolution of:\",\n",
    "    round(\n",
    "        (\n",
    "            (\n",
    "                process.data[\"vector_outputs\"][\"co2_emissions_per_rpk\"][2050]\n",
    "                / process.data[\"vector_outputs\"][\"co2_emissions_per_rpk\"][2019]\n",
    "            )\n",
    "            - 1\n",
    "        )\n",
    "        * 100,\n",
    "        0,\n",
    "    ),\n",
    "    \"% compared to 2019\",\n",
    ")\n",
    "print(\n",
    "    \"Temperature increase due to aviation in 2050:\",\n",
    "    round(process.data[\"climate_outputs\"][\"temperature_increase_from_aviation\"][2050], 3),\n",
    "    \"°C, i.e. an evolution of:\",\n",
    "    round(\n",
    "        (\n",
    "            (\n",
    "                process.data[\"climate_outputs\"][\"temperature_increase_from_aviation\"][2050]\n",
    "                / process.data[\"climate_outputs\"][\"temperature_increase_from_aviation\"][2019]\n",
    "            )\n",
    "            - 1\n",
    "        )\n",
    "        * 100,\n",
    "        0,\n",
    "    ),\n",
    "    \"% compared to 2019\",\n",
    ")\n",
    "print(\n",
    "    \"Total Direct Operating Cost, including carbon tax in 2050:\",\n",
    "    round(process.data[\"vector_outputs\"][\"doc_total_per_ask_mean\"][2050], 3),\n",
    "    \"€/ASK, i.e. an evolution of:\",\n",
    "    round(\n",
    "        (\n",
    "            (\n",
    "                process.data[\"vector_outputs\"][\"doc_total_per_ask_mean\"][2050]\n",
    "                / process.data[\"vector_outputs\"][\"doc_total_per_ask_mean\"][2019]\n",
    "            )\n",
    "            - 1\n",
    "        )\n",
    "        * 100,\n",
    "        0,\n",
    "    ),\n",
    "    \"% compared to 2019\",\n",
    ")"
   ]
  },
  {
   "cell_type": "markdown",
   "metadata": {
    "slideshow": {
     "slide_type": "slide"
    }
   },
   "source": [
    "### Plots"
   ]
  },
  {
   "cell_type": "code",
   "execution_count": null,
   "metadata": {
    "slideshow": {
     "slide_type": "subslide"
    },
    "tags": []
   },
   "outputs": [],
   "source": [
    "process.plot(\"air_transport_co2_emissions\")"
   ]
  },
  {
   "cell_type": "code",
   "execution_count": null,
   "metadata": {
    "tags": []
   },
   "outputs": [],
   "source": [
    "process.plot(\"multidisciplinary_assessment\")"
   ]
  },
  {
   "cell_type": "code",
   "execution_count": null,
   "metadata": {
    "tags": []
   },
   "outputs": [],
   "source": [
    "process.plot(\"drop_in_macc_curve\")"
   ]
  },
  {
   "cell_type": "code",
   "execution_count": null,
   "metadata": {},
   "outputs": [],
   "source": []
  }
 ],
 "metadata": {
  "celltoolbar": "Diaporama",
  "kernelspec": {
   "display_name": "Python 3 (ipykernel)",
   "language": "python",
   "name": "python3"
  },
  "language_info": {
   "codemirror_mode": {
    "name": "ipython",
    "version": 3
   },
   "file_extension": ".py",
   "mimetype": "text/x-python",
   "name": "python",
   "nbconvert_exporter": "python",
   "pygments_lexer": "ipython3",
   "version": "3.10.16"
  }
 },
 "nbformat": 4,
 "nbformat_minor": 4
}
