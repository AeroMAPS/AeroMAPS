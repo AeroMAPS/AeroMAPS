{
 "cells": [
  {
   "cell_type": "markdown",
   "metadata": {},
   "source": [
    "# Callibration of simple energy cost models with original MFSP calculations"
   ]
  },
  {
   "cell_type": "markdown",
   "metadata": {
    "slideshow": {
     "slide_type": "slide"
    }
   },
   "source": [
    "## Load and process complex models"
   ]
  },
  {
   "cell_type": "code",
   "execution_count": null,
   "metadata": {
    "slideshow": {
     "slide_type": "subslide"
    },
    "tags": []
   },
   "outputs": [],
   "source": [
    "%matplotlib widget\n",
    "from aeromaps import create_process\n",
    "from aeromaps.core.models import (\n",
    "    models_traffic,\n",
    "    models_efficiency_bottom_up,\n",
    "    models_energy_without_fuel_effect,\n",
    "    models_offset,\n",
    "    models_climate_simple_gwpstar,\n",
    "    models_sustainability,\n",
    "    models_energy_cost_complex,\n",
    "    # models_energy_cost_simple,\n",
    ")"
   ]
  },
  {
   "cell_type": "code",
   "execution_count": null,
   "metadata": {
    "tags": []
   },
   "outputs": [],
   "source": [
    "from aeromaps.models.air_transport.aircraft_fleet_and_operations.fleet.fleet_model import (\n",
    "    AircraftParameters,\n",
    "    Aircraft,\n",
    ")\n",
    "\n",
    "models = {\n",
    "    \"models_traffic\": models_traffic,\n",
    "    \"models_efficiency_bottom_up\": models_efficiency_bottom_up,\n",
    "    \"models_energy_without_fuel_effect\": models_energy_without_fuel_effect,\n",
    "    \"models_offset\": models_offset,\n",
    "    \"models_climate_simple_gwpstar\": models_climate_simple_gwpstar,\n",
    "    \"models_sustainability\": models_sustainability,\n",
    "    \"models_energy_cost_complex\": models_energy_cost_complex,\n",
    "}"
   ]
  },
  {
   "cell_type": "code",
   "execution_count": null,
   "metadata": {
    "slideshow": {
     "slide_type": "subslide"
    },
    "tags": []
   },
   "outputs": [],
   "source": [
    "process = create_process(\n",
    "    models=models,\n",
    "    use_fleet_model=True,\n",
    "    add_examples_aircraft_and_subcategory=False,\n",
    ")"
   ]
  },
  {
   "cell_type": "markdown",
   "metadata": {
    "slideshow": {
     "slide_type": "slide"
    }
   },
   "source": [
    "## Set up variables\n",
    "\n",
    "A scenario is defined with MFSP energy models using default aeromaps assumptions.\n",
    "\n",
    "***Non-representative share ensuring permanent production (and thus calculus of MFSP) of each fuel are taken below.***"
   ]
  },
  {
   "cell_type": "markdown",
   "metadata": {},
   "source": [
    " In the following, some main parameters are for instance set up."
   ]
  },
  {
   "cell_type": "code",
   "execution_count": null,
   "metadata": {
    "tags": []
   },
   "outputs": [],
   "source": [
    "## Growth rate by category [%]\n",
    "process.parameters.cagr_passenger_short_range_reference_periods = []\n",
    "process.parameters.cagr_passenger_short_range_reference_periods_values = [3.0]\n",
    "process.parameters.cagr_passenger_medium_range_reference_periods = []\n",
    "process.parameters.cagr_passenger_medium_range_reference_periods_values = [3.0]\n",
    "process.parameters.cagr_passenger_long_range_reference_periods = []\n",
    "process.parameters.cagr_passenger_long_range_reference_periods_values = [3.0]\n",
    "process.parameters.cagr_freight_reference_periods = []\n",
    "process.parameters.cagr_freight_reference_periods_values = [3.0]"
   ]
  },
  {
   "cell_type": "code",
   "execution_count": null,
   "metadata": {
    "tags": []
   },
   "outputs": [],
   "source": [
    "# Aircraft fleet and operation evolution - Operations\n",
    "\n",
    "## Values for setting the logistic function\n",
    "process.parameters.operations_final_gain = 8.0  # [%]\n",
    "process.parameters.operations_start_year = 2025\n",
    "process.parameters.operations_duration = 25.0"
   ]
  },
  {
   "cell_type": "code",
   "execution_count": null,
   "metadata": {
    "tags": []
   },
   "outputs": [],
   "source": [
    "process.parameters.load_factor_end_year = 89.0  # 2019 value: 82.399312"
   ]
  },
  {
   "cell_type": "code",
   "execution_count": null,
   "metadata": {
    "slideshow": {
     "slide_type": "subslide"
    },
    "tags": []
   },
   "outputs": [],
   "source": [
    "# Energy settings: production choices\n",
    "\n",
    "# Aircraft energy - Introduction of alternative drop-in fuels\n",
    "\n",
    "## Share of alternative fuels in the drop-in fuel mix (the rest being supplemented by kerosene) [%]\n",
    "process.parameters.biofuel_share_reference_years = [2020, 2025, 2030, 2035, 2040, 2045, 2050]\n",
    "process.parameters.biofuel_share_reference_years_values = [0, 2, 4.8, 15, 24, 27, 35]\n",
    "process.parameters.electrofuel_share_reference_years = [2020, 2025, 2030, 2035, 2040, 2045, 2050]\n",
    "process.parameters.electrofuel_share_reference_years_values = [0, 0, 1.2, 5, 10, 15, 35]\n",
    "\n",
    "\n",
    "## Share of biofuel production pathways (the rest being completed by AtJ processes) [%]\n",
    "process.parameters.biofuel_hefa_fog_share_reference_years = []\n",
    "process.parameters.biofuel_hefa_fog_share_reference_years_values = [0.6]\n",
    "process.parameters.biofuel_hefa_others_share_reference_years = []\n",
    "process.parameters.biofuel_hefa_others_share_reference_years_values = [12.5]\n",
    "process.parameters.biofuel_ft_others_share_reference_years = []\n",
    "process.parameters.biofuel_ft_others_share_reference_years_values = [68.9]\n",
    "process.parameters.biofuel_ft_msw_share_reference_years = []\n",
    "process.parameters.biofuel_ft_msw_share_reference_years_values = [6.6]\n",
    "\n",
    "\n",
    "## Share of hydrogen production pathways (the rest being completed by production via coal without CCS) [%]\n",
    "## Distribution in 2019: Gas without CCS (71%), Coal without CCS (27%), Electrolysis (2%), Others with CCS (0%), Co-products not taken into account\n",
    "process.parameters.hydrogen_electrolysis_share_reference_years = [2020, 2030, 2035, 2050]\n",
    "process.parameters.hydrogen_electrolysis_share_reference_years_values = [0, 34.6, 54, 76]\n",
    "\n",
    "process.parameters.hydrogen_gas_ccs_share_reference_years = [2020, 2030, 2035, 2050]\n",
    "process.parameters.hydrogen_gas_ccs_share_reference_years_values = [0.75, 9, 11.9, 15]\n",
    "\n",
    "process.parameters.hydrogen_coal_ccs_share_reference_years = [2020, 2030, 2035, 2050]\n",
    "process.parameters.hydrogen_coal_ccs_share_reference_years_values = [0.25, 3, 3.9, 5]\n",
    "\n",
    "process.parameters.hydrogen_gas_share_reference_years = [2020, 2030, 2035, 2050]\n",
    "process.parameters.hydrogen_gas_share_reference_years_values = [75, 40, 22.6, 3]"
   ]
  },
  {
   "cell_type": "code",
   "execution_count": null,
   "metadata": {
    "slideshow": {
     "slide_type": "subslide"
    },
    "tags": []
   },
   "outputs": [],
   "source": [
    "# Energy settings: cost\n",
    "\n",
    "# BIOFUELS\n",
    "# ==> Default AeroMAPS values (see table above)\n",
    "\n",
    "# HYDROGEN\n",
    "\n",
    "## Electrolysis\n",
    "### Efficicency\n",
    "process.parameters.electrolysis_efficiency_reference_years = [2020, 2030, 2050]\n",
    "process.parameters.electrolysis_efficiency_reference_years_values = [0.64, 0.66, 0.72]\n",
    "### CAPEX\n",
    "process.parameters.electrolyser_capex_reference_years = [2020, 2030, 2040, 2050]\n",
    "process.parameters.electrolyser_capex_reference_years_values = [533, 355, 261, 210]\n",
    "### Fixed OPEX\n",
    "process.parameters.electrolyser_fixed_opex_reference_years = [2020, 2030, 2050]\n",
    "process.parameters.electrolyser_fixed_opex_reference_years_values = [25.05, 20.57, 19.62]\n",
    "### Variable OPEX\n",
    "process.parameters.electrolyser_variable_opex_reference_years = [2020, 2030, 2050]\n",
    "process.parameters.electrolyser_variable_opex_reference_years_values = [0.3, 0.19, 0.12]\n",
    "\n",
    "## Fossil (Gas or Coal with or without CCS)\n",
    "# ==> Default AeroMAPS values (see table above)\n",
    "\n",
    "## Liquefaction\n",
    "### CAPEX\n",
    "process.parameters.liquefier_capex_reference_years = [2020, 2030, 2050]\n",
    "process.parameters.liquefier_capex_reference_years_values = [2248, 1457, 899]\n",
    "### Efficicency\n",
    "process.parameters.liquefaction_efficiency_reference_years = [2020, 2030, 2050]\n",
    "process.parameters.liquefaction_efficiency_reference_years_values = [0.75, 0.82, 0.83]\n",
    "\n",
    "\n",
    "# ELECTROFUEL\n",
    "### Efficicency\n",
    "process.parameters.electrofuel_hydrogen_efficiency_reference_years = [2020, 2030, 2050]\n",
    "process.parameters.electrofuel_hydrogen_efficiency_reference_years_values = [0.74, 0.74, 0.74]\n",
    "### CAPEX\n",
    "process.parameters.electrofuel_capex_reference_years = [2020, 2030, 2050]\n",
    "process.parameters.electrofuel_capex_reference_years_values = [2496, 1528, 510]\n",
    "\n",
    "process.parameters.electrofuel_var_opex_reference_years = [2020, 2030, 2050]\n",
    "process.parameters.electrofuel_var_opex_reference_years_values = [0.336, 0.296, 0.2]\n",
    "\n",
    "process.parameters.electrofuel_specific_co2_reference_years = [2020, 2030, 2050]\n",
    "process.parameters.electrofuel_specific_co2_reference_years_values = [4.30, 3.58, 2.552]\n",
    "\n",
    "process.parameters.co2_cost_reference_years = [2020, 2030, 2050]\n",
    "process.parameters.co2_cost_reference_years_values = [0.460, 0.150, 0.09]\n",
    "\n",
    "\n",
    "# ENERGY INPUT PRICES\n",
    "## Grid Electricity\n",
    "# => LF=1\n",
    "\n",
    "process.parameters.electricity_emission_factor_reference_years = [2020, 2030, 2040, 2050]\n",
    "process.parameters.electricity_emission_factor_reference_years_values = [429, 160, 40, 20]\n",
    "\n",
    "process.parameters.electricity_cost_reference_years = [2020, 2050]\n",
    "process.parameters.electricity_cost_reference_years_values = [0.08, 0.1]\n",
    "\n",
    "# # ## PV\n",
    "# process.parameters.electricity_emission_factor_reference_years = [2020,2030,2040,2050]\n",
    "# process.parameters.electricity_emission_factor_reference_years_values = [43,36,30,21]\n",
    "\n",
    "# process.parameters.electricity_cost_reference_years = [2020,2030,2040,2050]\n",
    "# process.parameters.electricity_cost_reference_years_values = [0.058, 0.037, 0.033, 0.026]\n",
    "\n",
    "# process.parameters.electricity_load_factor_reference_years = [2020,2030,2050]\n",
    "# process.parameters.electricity_load_factor_reference_years_values = [0.13,0.14,0.14]\n",
    "\n",
    "# ## Wind\n",
    "# process.parameters.electricity_emission_factor_reference_years = [2020,2030,2040,2050]\n",
    "# process.parameters.electricity_emission_factor_reference_years_values = [15,13.5,12.5,11.5]\n",
    "\n",
    "# process.parameters.electricity_cost_reference_years = [2020,2030,2040,2050]\n",
    "# process.parameters.electricity_cost_reference_years_values = [0.061, 0.058, 0.052, 0.046]\n",
    "\n",
    "# process.parameters.electricity_load_factor_reference_years = [2020,2030,2050]\n",
    "# process.parameters.electricity_load_factor_reference_years_values = [0.4,0.43,0.45]\n",
    "\n",
    "\n",
    "# Kerosene, Coal, Gas => Default values (see table)"
   ]
  },
  {
   "cell_type": "code",
   "execution_count": null,
   "metadata": {
    "tags": []
   },
   "outputs": [],
   "source": [
    "# Aircraft fleet\n",
    "\n",
    "## Initialization\n",
    "fleet = process.fleet\n",
    "\n",
    "## Short Range aircraft\n",
    "short_range_aircraft_params = AircraftParameters(\n",
    "    entry_into_service_year=2035,\n",
    "    consumption_evolution=-25.0,\n",
    "    nox_evolution=-75.0,\n",
    "    soot_evolution=-100.0,\n",
    "    doc_non_energy_evolution=10.0,\n",
    "    cruise_altitude=12000.0,\n",
    "    ask_year=280000000,\n",
    "    rc_cost=50000000,\n",
    "    nrc_cost=10000000000.0,\n",
    ")\n",
    "short_range_aircraft = Aircraft(\n",
    "    \"New SR-H2\", parameters=short_range_aircraft_params, energy_type=\"DROP_IN_FUEL\"\n",
    ")\n",
    "fleet.categories[\"Short Range\"].subcategories[0].add_aircraft(aircraft=short_range_aircraft)\n",
    "\n",
    "## Medium Range\n",
    "medium_range_aircraft_params = AircraftParameters(\n",
    "    entry_into_service_year=2030,\n",
    "    consumption_evolution=-20.0,\n",
    "    nox_evolution=0.0,\n",
    "    soot_evolution=0.0,\n",
    "    doc_non_energy_evolution=0.0,\n",
    "    cruise_altitude=12000.0,\n",
    "    ask_year=352000000.0,\n",
    "    rc_cost=60000000.0,\n",
    "    nrc_cost=10000000000.0,\n",
    ")\n",
    "medium_range_aircraft = Aircraft(\n",
    "    \"New MR-DI\", parameters=medium_range_aircraft_params, energy_type=\"DROP_IN_FUEL\"\n",
    ")\n",
    "fleet.categories[\"Medium Range\"].subcategories[0].add_aircraft(aircraft=medium_range_aircraft)\n",
    "\n",
    "## Medium Range\n",
    "medium_range_aircraft_params = AircraftParameters(\n",
    "    entry_into_service_year=2045,\n",
    "    consumption_evolution=-30.0,\n",
    "    nox_evolution=-75.0,\n",
    "    soot_evolution=-100,\n",
    "    doc_non_energy_evolution=10.0,\n",
    "    cruise_altitude=12000.0,\n",
    "    ask_year=352000000.0,\n",
    "    rc_cost=6600000.0,\n",
    "    nrc_cost=15000000000.0,\n",
    ")\n",
    "medium_range_aircraft = Aircraft(\n",
    "    \"New MR-H2\", parameters=medium_range_aircraft_params, energy_type=\"DROP_IN_FUEL\"\n",
    ")\n",
    "fleet.categories[\"Medium Range\"].subcategories[0].add_aircraft(aircraft=medium_range_aircraft)\n",
    "\n",
    "## Long Range\n",
    "long_range_aircraft_params = AircraftParameters(\n",
    "    entry_into_service_year=2030,\n",
    "    consumption_evolution=-20.0,\n",
    "    nox_evolution=0.0,\n",
    "    soot_evolution=0.0,\n",
    "    doc_non_energy_evolution=0.0,\n",
    "    cruise_altitude=12000.0,\n",
    "    ask_year=912000000.0,\n",
    "    rc_cost=150000000.0,\n",
    "    nrc_cost=25000000000.0,\n",
    ")\n",
    "long_range_aircraft = Aircraft(\n",
    "    \"New LR-DI\", parameters=long_range_aircraft_params, energy_type=\"DROP_IN_FUEL\"\n",
    ")\n",
    "fleet.categories[\"Long Range\"].subcategories[0].add_aircraft(aircraft=long_range_aircraft)\n",
    "\n",
    "\n",
    "## Long Range\n",
    "long_range_aircraft_params = AircraftParameters(\n",
    "    entry_into_service_year=2045,\n",
    "    consumption_evolution=-30.0,\n",
    "    nox_evolution=0.0,\n",
    "    soot_evolution=0.0,\n",
    "    doc_non_energy_evolution=0.0,\n",
    "    cruise_altitude=12000.0,\n",
    "    ask_year=912000000.0,\n",
    "    rc_cost=150000000.0,\n",
    "    nrc_cost=25000000000.0,\n",
    ")\n",
    "long_range_aircraft = Aircraft(\n",
    "    \"New LR-DI2\", parameters=long_range_aircraft_params, energy_type=\"DROP_IN_FUEL\"\n",
    ")\n",
    "fleet.categories[\"Long Range\"].subcategories[0].add_aircraft(aircraft=long_range_aircraft)\n",
    "\n",
    "\n",
    "## Fleet renewal\n",
    "fleet.categories[\"Short Range\"].parameters.life = 25\n",
    "fleet.categories[\"Medium Range\"].parameters.life = 25\n",
    "fleet.categories[\"Long Range\"].parameters.life = 25"
   ]
  },
  {
   "cell_type": "markdown",
   "metadata": {
    "slideshow": {
     "slide_type": "slide"
    }
   },
   "source": [
    "## Compute\n",
    "\n",
    "Once all the parameters have been set up, the user can compute."
   ]
  },
  {
   "cell_type": "code",
   "execution_count": null,
   "metadata": {
    "slideshow": {
     "slide_type": "subslide"
    },
    "tags": []
   },
   "outputs": [],
   "source": [
    "process.compute()"
   ]
  },
  {
   "cell_type": "code",
   "execution_count": null,
   "metadata": {
    "tags": []
   },
   "outputs": [],
   "source": [
    "print(process.data[\"vector_outputs\"][\"energy_per_ask_mean_without_operations\"][2019])\n",
    "print(process.data[\"vector_outputs\"][\"energy_per_ask_mean_without_operations\"][2050])"
   ]
  },
  {
   "cell_type": "markdown",
   "metadata": {},
   "source": [
    "CAGR=-1.4%"
   ]
  },
  {
   "cell_type": "code",
   "execution_count": null,
   "metadata": {
    "tags": []
   },
   "outputs": [],
   "source": [
    "process.plot(\"energy_mfsp\")"
   ]
  },
  {
   "cell_type": "code",
   "execution_count": null,
   "metadata": {
    "slideshow": {
     "slide_type": "subslide"
    },
    "tags": []
   },
   "outputs": [],
   "source": [
    "h2_reference = process.data[\"vector_outputs\"][\n",
    "    [\n",
    "        \"gas_ccs_h2_mean_mfsp_kg\",\n",
    "        \"gas_h2_mean_mfsp_kg\",\n",
    "        \"coal_ccs_h2_mean_mfsp_kg\",\n",
    "        \"coal_h2_mean_mfsp_kg\",\n",
    "        \"electrolysis_h2_mean_mfsp_kg\",\n",
    "        \"liquefaction_h2_mean_mfsp_kg\",\n",
    "    ]\n",
    "].loc[[2021, 2030, 2040, 2050]]\n",
    "h2_reference"
   ]
  },
  {
   "cell_type": "code",
   "execution_count": null,
   "metadata": {},
   "outputs": [],
   "source": [
    "biofuel_reference = process.data[\"vector_outputs\"][\n",
    "    [\n",
    "        \"biofuel_atj_mfsp\",\n",
    "        \"biofuel_hefa_fog_mfsp\",\n",
    "        \"biofuel_hefa_others_mfsp\",\n",
    "        \"biofuel_ft_others_mfsp\",\n",
    "        \"biofuel_ft_msw_mfsp\",\n",
    "    ]\n",
    "].loc[[2021, 2030, 2040, 2050]]\n",
    "biofuel_reference"
   ]
  },
  {
   "cell_type": "code",
   "execution_count": null,
   "metadata": {
    "tags": []
   },
   "outputs": [],
   "source": [
    "efuel_reference = process.data[\"vector_outputs\"][[\"electrofuel_mean_mfsp_litre\"]]\n",
    "efuel_reference"
   ]
  }
 ],
 "metadata": {
  "celltoolbar": "Diaporama",
  "kernelspec": {
   "display_name": "Python 3 (ipykernel)",
   "language": "python",
   "name": "python3"
  },
  "language_info": {
   "codemirror_mode": {
    "name": "ipython",
    "version": 3
   },
   "file_extension": ".py",
   "mimetype": "text/x-python",
   "name": "python",
   "nbconvert_exporter": "python",
   "pygments_lexer": "ipython3",
   "version": "3.10.18"
  }
 },
 "nbformat": 4,
 "nbformat_minor": 4
}
