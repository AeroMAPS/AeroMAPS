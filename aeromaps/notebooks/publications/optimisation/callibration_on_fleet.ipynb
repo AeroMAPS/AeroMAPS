{
 "cells": [
  {
   "cell_type": "markdown",
   "id": "25bdfc94-6b59-41e4-a467-fc3aee2cf8db",
   "metadata": {},
   "source": [
    "# Average efficiency gains callibration"
   ]
  },
  {
   "cell_type": "markdown",
   "id": "6087d039-50f3-45d8-addf-20d3570e22a5",
   "metadata": {
    "tags": []
   },
   "source": [
    "### Imports and settings"
   ]
  },
  {
   "cell_type": "code",
   "execution_count": null,
   "id": "f479de1f-5757-45d7-b718-03ea76b4851f",
   "metadata": {
    "tags": []
   },
   "outputs": [],
   "source": [
    "import matplotlib.pyplot as plt\n",
    "# import pandas as pd\n",
    "# import numpy as np\n",
    "\n",
    "%matplotlib widget\n",
    "from aeromaps import create_process\n",
    "from aeromaps.core.models import (\n",
    "    default_models_bottom_up,\n",
    ")\n",
    "\n",
    "from aeromaps.models.air_transport.aircraft_fleet_and_operations.fleet.fleet_model import (\n",
    "    AircraftParameters,\n",
    "    Aircraft,\n",
    ")\n",
    "\n",
    "\n",
    "plt.rc(\"hatch\", linewidth=1)"
   ]
  },
  {
   "cell_type": "markdown",
   "id": "927e248c-3b8e-4850-91f3-88f57d09f94e",
   "metadata": {},
   "source": [
    "# 1 - Scenario initialisation and settings"
   ]
  },
  {
   "cell_type": "code",
   "execution_count": null,
   "id": "37cc3f6c-6ffb-4a02-88dd-5dfd4da7c366",
   "metadata": {
    "tags": []
   },
   "outputs": [],
   "source": [
    "from copy import deepcopy\n",
    "\n",
    "models = {\n",
    "    \"default_models_bottom_up\": default_models_bottom_up,\n",
    "}"
   ]
  },
  {
   "cell_type": "code",
   "execution_count": null,
   "id": "7b6fc11c-d808-4527-b5dc-5913e047af83",
   "metadata": {},
   "outputs": [],
   "source": [
    "process = create_process(\n",
    "    models=deepcopy(models),\n",
    "    use_fleet_model=True,\n",
    "    add_examples_aircraft_and_subcategory=False,\n",
    ")"
   ]
  },
  {
   "cell_type": "markdown",
   "id": "99ad83c8-eb43-46a2-968b-e495905b9cd2",
   "metadata": {},
   "source": [
    "## 1-b) Aircraft fleet\n",
    "\n",
    "**Hypotheses considered for aircraft DOC and new aircraft introduction:**\n",
    "The previously defined air traffic is flown by the default AeroMAPS fleet, and new aircraft. \n",
    "\n",
    "- A default fleet: an \"old\" and a \"recent\" aircraft for three markets: Short (<1500 km), Medium (1500-4000 km) and Long Range (>4000 km). \n",
    "- New aircraft are introduced\n",
    "    - <u>Short Range:</u>\n",
    "        - Drop-in aircraft in 2035\n",
    "    - <u>Medium Range:</u>\n",
    "        - Drop-in aircraft in 2035\n",
    "    - <u>Long Range:</u>\n",
    "        - Drop-in aircraft in 2040\n",
    "        \n",
    "    - Efficiency assumptions: drop in aircraft introduced in 2035 use 20% less energy than the current (\"recent\"), the long-range dropin aircraft introduced in 2040 uses 30% less energy than the \"recent. \n",
    "    - Aircraft RC and NRC cost assumption are based on [this article](https://www.eucass.eu/doi/EUCASS2023-593.pdf), but these parameter are not used in this article. There is currently <u>no automated link between RC+NRC and DOC on AeroMAPS </u>. Consistent values are filed nevertheless. Same for ASK per year per A/C.\n",
    "    \n",
    "    \n",
    "    - Aircraft DOC are obtained using the same article and regrouped in two categories\n",
    "        - DOC-ENERGY is computed using the energy consumption of the aircraft and the MFSP of the corresponding energy (see below). \n",
    "        - DOC-NON-ENERGY encompass all other direct operating Costs (Navigation, FA/Pilots, MRO,...). The DOC-NE of drop-in aircraft is left unchanged.\n",
    "        \n",
    "    \n",
    "    \n",
    "- Aircraft fleet renewal rates are set to 25 years. It corresponds to both the aircraft life and the duration necessary to renew the whole fleet with current fleet renewal models of AeroMAPS.\n",
    "\n"
   ]
  },
  {
   "cell_type": "code",
   "execution_count": null,
   "id": "c0b27cee-c1b2-4891-ade5-4ddf88c0c34f",
   "metadata": {
    "tags": []
   },
   "outputs": [],
   "source": [
    "# Aircraft fleet\n",
    "\n",
    "## Initialization\n",
    "fleet = process.fleet\n",
    "\n",
    "## Short Range aircraft\n",
    "short_range_aircraft_params_di = AircraftParameters(\n",
    "    entry_into_service_year=2035,\n",
    "    consumption_evolution=-20.0,\n",
    "    nox_evolution=0.0,\n",
    "    soot_evolution=0.0,\n",
    "    doc_non_energy_evolution=0.0,\n",
    "    cruise_altitude=12000.0,\n",
    "    ask_year=352000000.0,\n",
    "    rc_cost=60000000.0,\n",
    "    nrc_cost=10000000000.0,\n",
    ")\n",
    "short_range_aircraft_di = Aircraft(\n",
    "    \"New SR-DI\", parameters=short_range_aircraft_params_di, energy_type=\"DROP_IN_FUEL\"\n",
    ")\n",
    "fleet.categories[\"Short Range\"].subcategories[0].add_aircraft(aircraft=short_range_aircraft_di)\n",
    "\n",
    "## Medium Range\n",
    "medium_range_aircraft_params_di = AircraftParameters(\n",
    "    entry_into_service_year=2035,\n",
    "    consumption_evolution=-20.0,\n",
    "    nox_evolution=0.0,\n",
    "    soot_evolution=0.0,\n",
    "    doc_non_energy_evolution=0.0,\n",
    "    cruise_altitude=12000.0,\n",
    "    ask_year=352000000.0,\n",
    "    rc_cost=60000000.0,\n",
    "    nrc_cost=10000000000.0,\n",
    ")\n",
    "medium_range_aircraft_di = Aircraft(\n",
    "    \"New MR-DI\", parameters=medium_range_aircraft_params_di, energy_type=\"DROP_IN_FUEL\"\n",
    ")\n",
    "fleet.categories[\"Medium Range\"].subcategories[0].add_aircraft(aircraft=medium_range_aircraft_di)\n",
    "\n",
    "\n",
    "## Long Range\n",
    "long_range_aircraft_params_di1 = AircraftParameters(\n",
    "    entry_into_service_year=2040,\n",
    "    consumption_evolution=-30.0,\n",
    "    nox_evolution=0.0,\n",
    "    soot_evolution=0.0,\n",
    "    doc_non_energy_evolution=0.0,\n",
    "    cruise_altitude=12000.0,\n",
    "    ask_year=912000000.0,\n",
    "    rc_cost=150000000.0,\n",
    "    nrc_cost=25000000000.0,\n",
    ")\n",
    "long_range_aircraft_di1 = Aircraft(\n",
    "    \"New LR-DI\", parameters=long_range_aircraft_params_di1, energy_type=\"DROP_IN_FUEL\"\n",
    ")\n",
    "fleet.categories[\"Long Range\"].subcategories[0].add_aircraft(aircraft=long_range_aircraft_di1)\n",
    "\n",
    "\n",
    "## Fleet renewal\n",
    "fleet.categories[\"Short Range\"].parameters.life = 25\n",
    "fleet.categories[\"Medium Range\"].parameters.life = 25\n",
    "fleet.categories[\"Long Range\"].parameters.life = 25"
   ]
  },
  {
   "cell_type": "code",
   "execution_count": null,
   "id": "8896dc5f-ead6-4a45-b88c-53f94de24d6e",
   "metadata": {
    "slideshow": {
     "slide_type": "subslide"
    },
    "tags": []
   },
   "outputs": [],
   "source": [
    "process.compute()\n",
    "process.write_json()"
   ]
  },
  {
   "cell_type": "code",
   "execution_count": null,
   "id": "eca0ee2d-63d1-476f-b284-1d34a47b7f31",
   "metadata": {
    "tags": []
   },
   "outputs": [],
   "source": [
    "process.fleet_model.plot()"
   ]
  },
  {
   "cell_type": "markdown",
   "id": "b93c5d33-cc09-44d6-b82b-fb309b10680e",
   "metadata": {},
   "source": [
    "## 1-b) Computation of average efficiency gains"
   ]
  },
  {
   "cell_type": "code",
   "execution_count": null,
   "id": "3afcc21f-9190-4a12-94b7-e4140d226caf",
   "metadata": {
    "tags": []
   },
   "outputs": [],
   "source": [
    "(\n",
    "    process.data[\"vector_outputs\"][\"energy_per_ask_mean\"][2050]\n",
    "    / process.data[\"vector_outputs\"][\"energy_per_ask_mean\"][2021]\n",
    ") ** (1 / (2050 - 2021)) - 1"
   ]
  },
  {
   "cell_type": "code",
   "execution_count": null,
   "id": "04b931d9-7006-4acd-ace5-5237a41eaea8",
   "metadata": {
    "tags": []
   },
   "outputs": [],
   "source": [
    "import matplotlib.pyplot as plt\n",
    "import pandas as pd\n",
    "import numpy as np\n",
    "\n",
    "# Extract the data series\n",
    "energy_per_ask = pd.Series(process.data[\"vector_outputs\"][\"energy_per_ask_mean\"])\n",
    "\n",
    "# Set time range and CAGR calculation\n",
    "start_year = 2021\n",
    "end_year = 2050\n",
    "years = np.arange(start_year, end_year + 1)\n",
    "\n",
    "# Actual values for those years (in case the series is longer or missing some)\n",
    "actual = energy_per_ask.loc[years]\n",
    "\n",
    "# Calculate CAGR\n",
    "cagr = (actual[end_year] / actual[start_year]) ** (1 / (end_year - start_year)) - 1\n",
    "\n",
    "# Generate the CAGR curve\n",
    "cagr_curve = actual[start_year] * (1 + cagr) ** (years - start_year)\n",
    "\n",
    "# Plot\n",
    "plt.figure(figsize=(6, 4))\n",
    "plt.plot(energy_per_ask.index, energy_per_ask.values, linestyle=\"-\", label=\"E/ASK fleet model\")\n",
    "plt.plot(years, cagr_curve, linestyle=\"--\", color=\"orange\", label=f\"CAGR ({cagr*100:.2f}%/yr)\")\n",
    "\n",
    "# Annotate CAGR\n",
    "plt.text(\n",
    "    end_year,\n",
    "    cagr_curve[-1] + 0.15,\n",
    "    f\"CAGR: {cagr*100:.2f}%\",\n",
    "    verticalalignment=\"bottom\",\n",
    "    horizontalalignment=\"right\",\n",
    "    fontsize=10,\n",
    "    color=\"darkorange\",\n",
    ")\n",
    "\n",
    "# Formatting\n",
    "plt.title(\"Energy per ASK with fleet model vs simple CAGR\", fontsize=14)\n",
    "plt.xlabel(\"Year\")\n",
    "plt.ylabel(\"Energy per ASK (MJ/ASK)\")\n",
    "plt.grid(True, linestyle=\"--\", linewidth=0.5)\n",
    "plt.legend()\n",
    "plt.tight_layout()\n",
    "plt.show()"
   ]
  },
  {
   "cell_type": "markdown",
   "id": "e0be7ede-0712-4be4-99f4-ad6c8e0ddc49",
   "metadata": {},
   "source": [
    "## 1-c) Computation of a pessimistic scenario in which no new aircraft is introduced"
   ]
  },
  {
   "cell_type": "code",
   "execution_count": null,
   "id": "94ce7b86-fcb0-4a0c-9a29-7701485a4316",
   "metadata": {},
   "outputs": [],
   "source": [
    "process_pess = create_process(\n",
    "    models=models,\n",
    "    use_fleet_model=True,\n",
    "    add_examples_aircraft_and_subcategory=False,\n",
    ")\n",
    "\n",
    "process_pess.compute()"
   ]
  },
  {
   "cell_type": "code",
   "execution_count": null,
   "id": "c6429b0c-4226-40a3-a609-16ff4b1aef24",
   "metadata": {
    "tags": []
   },
   "outputs": [],
   "source": [
    "process_pess.fleet_model.plot()"
   ]
  },
  {
   "cell_type": "code",
   "execution_count": null,
   "id": "1a4d686a-f94d-408c-aa56-6c6d027a236f",
   "metadata": {
    "tags": []
   },
   "outputs": [],
   "source": [
    "(\n",
    "    process_pess.data[\"vector_outputs\"][\"energy_per_ask_mean\"][2050]\n",
    "    / process_pess.data[\"vector_outputs\"][\"energy_per_ask_mean\"][2021]\n",
    ") ** (1 / (2050 - 2021)) - 1"
   ]
  },
  {
   "cell_type": "code",
   "execution_count": null,
   "id": "8269601b-6016-4ec6-a720-a80120fbaa6c",
   "metadata": {},
   "outputs": [],
   "source": []
  }
 ],
 "metadata": {
  "kernelspec": {
   "display_name": "Python 3 (ipykernel)",
   "language": "python",
   "name": "python3"
  },
  "language_info": {
   "codemirror_mode": {
    "name": "ipython",
    "version": 3
   },
   "file_extension": ".py",
   "mimetype": "text/x-python",
   "name": "python",
   "nbconvert_exporter": "python",
   "pygments_lexer": "ipython3",
   "version": "3.12.11"
  }
 },
 "nbformat": 4,
 "nbformat_minor": 5
}
