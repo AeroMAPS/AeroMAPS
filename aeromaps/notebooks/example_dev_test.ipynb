{
 "cells": [
  {
   "cell_type": "code",
   "execution_count": null,
   "metadata": {},
   "outputs": [],
   "source": []
  },
  {
   "cell_type": "markdown",
   "metadata": {},
   "source": [
    "# Application for the Journal of Open Aviation Science\n",
    "\n",
    "This document has been published for reproducing the application presented in a software paper dedicated to AeroMAPS, published in [Journal of Open Aviation Science](https://journals.open.tudelft.nl/joas/index). The different assumptions of this prospective scenario are given in the following. \n",
    "\n",
    "An illustrative 2% annual air traffic growth is assumed for the different aviation markets, i.e. lower than trend estimates of around 3%. The impact of COVID-19 is modelled assuming that air traffic returns to 2019 levels in 2024. Concerning the aircraft fleet, an accelerated fleet renewal is assumed with the introduction of 20% more efficient aircraft architectures in 2035. A hydrogen-powered aircraft is more specifically considered for short-range. Operational improvements are also included for reducing fuel consumption, but operational strategies for contrail avoidance are not considered here, even though it is a promising approach. Regarding the replacement of kerosene by drop-in fuels (biofuel and electrofuel here), ReFuelEU targets are considered as blending mandates. Different pathways are considered for the production of biofuel and hydrogen. Electricity production is expected to decarbonise rapidly and strongly, so that CO<sub>2</sub> emissions from electricity-based fuels will be lower than those from kerosene by 2035. On the economic side, several assumptions are made such as median fuel costs or a constant electricity price of 80 €/MWh. Moreover, a carbon price trajectory, based on *Alain Quinet, What Value Do We Attach to Climate Action?, 2019*, is implemented in the form of a tax on the emissions of fossil and alternative fuels.\n",
    "\n",
    "Moreover, in order to carry out a sustainability assessment, some assumptions are required for setting targets for aviation. A climate target of +1.8°C with a 67% chance of success is chosen as well as a moderate use of Carbon Dioxide Removal (CDR) worldwide. Median estimations are considered for biomass and electricity availability. Finally, concerning allocation rules, a grandfathering approach is assumed for climate issues, which means that 2.6% (i.e. aviation's current share of CO<sub>2</sub> emissions) of the world carbon budget is allocated for aviation. For energy resources, an illustrative and arbitrary allocation of 5% is assumed."
   ]
  },
  {
   "cell_type": "markdown",
   "metadata": {
    "slideshow": {
     "slide_type": "slide"
    }
   },
   "source": [
    "## Load and process"
   ]
  },
  {
   "cell_type": "code",
   "execution_count": 1,
   "metadata": {
    "slideshow": {
     "slide_type": "subslide"
    },
    "tags": []
   },
   "outputs": [],
   "source": [
    "%matplotlib widget\n",
    "import time\n",
    "import numpy as np\n",
    "from aeromaps.core.process import create_process\n",
    "from aeromaps.core.models import models_complex\n",
    "from aeromaps.models.air_transport.aircraft_fleet_and_operations.fleet.fleet_model import (\n",
    "    Fleet,\n",
    "    AircraftParameters,\n",
    "    Aircraft,\n",
    ")"
   ]
  },
  {
   "cell_type": "code",
   "execution_count": 2,
   "metadata": {
    "slideshow": {
     "slide_type": "subslide"
    },
    "tags": []
   },
   "outputs": [],
   "source": [
    "process = create_process(\n",
    "    models=models_complex,\n",
    "    use_fleet_model=True,\n",
    "    add_examples_aircraft_and_subcategory=False,\n",
    ")"
   ]
  },
  {
   "cell_type": "markdown",
   "metadata": {
    "slideshow": {
     "slide_type": "slide"
    }
   },
   "source": [
    "## Set up variables\n",
    "\n",
    "### Aviation scenario"
   ]
  },
  {
   "cell_type": "code",
   "execution_count": 3,
   "metadata": {
    "slideshow": {
     "slide_type": "subslide"
    },
    "tags": []
   },
   "outputs": [],
   "source": [
    "# Air traffic evolution\n",
    "\n",
    "## Growth rate by category [%]\n",
    "process.parameters.cagr_passenger_short_range_reference_periods = []\n",
    "process.parameters.cagr_passenger_short_range_reference_periods_values = [4.0]\n",
    "process.parameters.cagr_passenger_medium_range_reference_periods = []\n",
    "process.parameters.cagr_passenger_medium_range_reference_periods_values = [4.0]\n",
    "process.parameters.cagr_passenger_long_range_reference_periods = []\n",
    "process.parameters.cagr_passenger_long_range_reference_periods_values = [4.0]\n",
    "process.parameters.cagr_freight_reference_periods = []\n",
    "process.parameters.cagr_freight_reference_periods_values = [4.0]"
   ]
  },
  {
   "cell_type": "code",
   "execution_count": 4,
   "metadata": {
    "tags": []
   },
   "outputs": [],
   "source": [
    "# Aircraft fleet\n",
    "\n",
    "## Initialization\n",
    "fleet = process.fleet\n",
    "\n",
    "## Short Range\n",
    "short_range_aircraft_params = AircraftParameters(\n",
    "    entry_into_service_year=2035,\n",
    "    consumption_evolution=-20.0,\n",
    "    nox_evolution=-75.0,\n",
    "    soot_evolution=-100.0,\n",
    "    doc_non_energy_evolution=20.0,\n",
    "    cruise_altitude=12000.0,\n",
    "    ask_year=406000000,\n",
    "    rc_cost=60000000,\n",
    "    nrc_cost=10000000000.0,\n",
    ")\n",
    "short_range_aircraft = Aircraft(\n",
    "    \"New Short-range Aircraft\", parameters=short_range_aircraft_params, energy_type=\"HYDROGEN\"\n",
    ")\n",
    "fleet.categories[\"Short Range\"].subcategories[0].add_aircraft(aircraft=short_range_aircraft)\n",
    "\n",
    "## Medium Range\n",
    "medium_range_aircraft_params = AircraftParameters(\n",
    "    entry_into_service_year=2035,\n",
    "    consumption_evolution=-20.0,\n",
    "    nox_evolution=0.0,\n",
    "    soot_evolution=0.0,\n",
    "    doc_non_energy_evolution=-5.0,\n",
    "    cruise_altitude=12000.0,\n",
    "    ask_year=406000000.0,\n",
    "    rc_cost=80000000.0,\n",
    "    nrc_cost=10000000000.0,\n",
    ")\n",
    "medium_range_aircraft = Aircraft(\n",
    "    \"New Medium-range Aircraft\", parameters=medium_range_aircraft_params, energy_type=\"DROP_IN_FUEL\"\n",
    ")\n",
    "fleet.categories[\"Medium Range\"].subcategories[0].add_aircraft(aircraft=medium_range_aircraft)\n",
    "\n",
    "## Long Range\n",
    "long_range_aircraft_params = AircraftParameters(\n",
    "    entry_into_service_year=2022,\n",
    "    consumption_evolution=-20.0,\n",
    "    nox_evolution=0.0,\n",
    "    soot_evolution=0.0,\n",
    "    doc_non_energy_evolution=-10.0,\n",
    "    cruise_altitude=12000.0,\n",
    "    ask_year=406000000.0,\n",
    "    rc_cost=150000000.0,\n",
    "    nrc_cost=25000000000.0,\n",
    ")\n",
    "long_range_aircraft = Aircraft(\n",
    "    \"New Long-range Aircraft\", parameters=long_range_aircraft_params, energy_type=\"DROP_IN_FUEL\"\n",
    ")\n",
    "fleet.categories[\"Long Range\"].subcategories[0].add_aircraft(aircraft=long_range_aircraft)\n",
    "\n",
    "## Fleet renewal\n",
    "fleet.categories[\"Short Range\"].parameters.life = 25\n",
    "fleet.categories[\"Medium Range\"].parameters.life = 25\n",
    "fleet.categories[\"Long Range\"].parameters.life = 25"
   ]
  },
  {
   "cell_type": "code",
   "execution_count": 5,
   "metadata": {
    "slideshow": {
     "slide_type": "subslide"
    },
    "tags": []
   },
   "outputs": [],
   "source": [
    "# Aircraft fleet and operation evolution - Aircraft load factor\n",
    "\n",
    "## Aircraft load factor in 2050 [%]\n",
    "process.parameters.load_factor_end_year = 89  # 2019 value: 82.399312"
   ]
  },
  {
   "cell_type": "code",
   "execution_count": 6,
   "metadata": {
    "slideshow": {
     "slide_type": "subslide"
    },
    "tags": []
   },
   "outputs": [],
   "source": [
    "# Aircraft fleet and operation evolution - Operations\n",
    "\n",
    "## Values for setting the logistic function\n",
    "process.parameters.operations_final_gain = 8.0  # [%]\n",
    "process.parameters.operations_start_year = 2025\n",
    "process.parameters.operations_duration = 25.0"
   ]
  },
  {
   "cell_type": "code",
   "execution_count": 7,
   "metadata": {
    "slideshow": {
     "slide_type": "subslide"
    },
    "tags": []
   },
   "outputs": [],
   "source": [
    "# Aircraft energy - Introduction of alternative drop-in fuels\n",
    "\n",
    "## Share of alternative fuels in the drop-in fuel mix (the rest being supplemented by kerosene) [%]\n",
    "process.parameters.biofuel_share_reference_years = [2020, 2030, 2040, 2050]\n",
    "process.parameters.biofuel_share_reference_years_values = [0.0, 4.8, 24.0, 35.0]\n",
    "process.parameters.electrofuel_share_reference_years = [2020, 2030, 2040, 2050]\n",
    "process.parameters.electrofuel_share_reference_years_values = [0.0, 1.2, 10.0, 35.0]"
   ]
  },
  {
   "cell_type": "code",
   "execution_count": 8,
   "metadata": {
    "slideshow": {
     "slide_type": "subslide"
    },
    "tags": []
   },
   "outputs": [],
   "source": [
    "# Various environmental settings\n",
    "\n",
    "## Share of biofuel production pathways (the rest being completed by AtJ processes) [%]\n",
    "process.parameters.biofuel_hefa_fog_share_reference_years = [2020, 2030, 2040, 2050]\n",
    "process.parameters.biofuel_hefa_fog_share_reference_years_values = [100, 0.7, 0.7, 0.7]\n",
    "process.parameters.biofuel_hefa_others_share_reference_years = [2020, 2030, 2040, 2050]\n",
    "process.parameters.biofuel_hefa_others_share_reference_years_values = [0.0, 3.8, 3.8, 3.8]\n",
    "process.parameters.biofuel_ft_others_share_reference_years = [2020, 2030, 2040, 2050]\n",
    "process.parameters.biofuel_ft_others_share_reference_years_values = [0.0, 76.3, 76.3, 76.3]\n",
    "process.parameters.biofuel_ft_msw_share_reference_years = [2020, 2030, 2040, 2050]\n",
    "process.parameters.biofuel_ft_msw_share_reference_years_values = [0.0, 7.4, 7.4, 7.4]\n",
    "\n",
    "## Emission factors for electricity (2019 value: 429 gCO2/kWh)\n",
    "process.parameters.electricity_emission_factor_reference_years = [2020, 2030, 2040, 2050]\n",
    "process.parameters.electricity_emission_factor_reference_years_values = [429.0, 180.0, 75.0, 30.0]\n",
    "\n",
    "## Share of hydrogen production pathways (the rest being completed by production via coal without CCS) [%]\n",
    "## Distribution in 2019: Gas without CCS (71%), Coal without CCS (27%), Electrolysis (2%), Others with CCS (0%), Co-products not taken into account\n",
    "process.parameters.hydrogen_electrolysis_share_reference_years = [2020, 2030, 2040, 2050]\n",
    "process.parameters.hydrogen_electrolysis_share_reference_years_values = [2, 50, 100, 100]\n",
    "process.parameters.hydrogen_gas_ccs_share_reference_years = [2020, 2030, 2040, 2050]\n",
    "process.parameters.hydrogen_gas_ccs_share_reference_years_values = [3, 10, 0, 0]\n",
    "process.parameters.hydrogen_coal_ccs_share_reference_years = [2020, 2030, 2040, 2050]\n",
    "process.parameters.hydrogen_coal_ccs_share_reference_years_values = [5, 10, 0, 0]\n",
    "process.parameters.hydrogen_gas_share_reference_years = [2020, 2030, 2040, 2050]\n",
    "process.parameters.hydrogen_gas_share_reference_years_values = [30, 20, 0, 0]"
   ]
  },
  {
   "cell_type": "code",
   "execution_count": 9,
   "metadata": {
    "tags": []
   },
   "outputs": [],
   "source": [
    "# Cost parameters\n",
    "\n",
    "## Carbon tax\n",
    "process.parameters.carbon_tax_reference_years = [2020, 2030, 2040, 2050]\n",
    "process.parameters.carbon_tax_reference_years_values = [\n",
    "    5,\n",
    "    250,\n",
    "    500,\n",
    "    775,\n",
    "]  # 2020 value differs from the value of Quinet (54 €/tCO2)"
   ]
  },
  {
   "cell_type": "markdown",
   "metadata": {},
   "source": [
    "### Sustainability assessment"
   ]
  },
  {
   "cell_type": "code",
   "execution_count": 10,
   "metadata": {
    "slideshow": {
     "slide_type": "subslide"
    },
    "tags": []
   },
   "outputs": [],
   "source": [
    "# Environmental limits\n",
    "\n",
    "## Carbon budgets and Carbon Dioxide Removal [GtCO2]\n",
    "process.parameters.net_carbon_budget = 850.0\n",
    "process.parameters.carbon_dioxyde_removal_2100 = 285.0\n",
    "\n",
    "## Available energy resources in 2050 [EJ]\n",
    "process.parameters.waste_biomass = 12\n",
    "process.parameters.crops_biomass = 63\n",
    "process.parameters.forest_residues_biomass = 17\n",
    "process.parameters.agricultural_residues_biomass = 57\n",
    "process.parameters.algae_biomass = 15\n",
    "process.parameters.available_electricity = 200.0"
   ]
  },
  {
   "cell_type": "code",
   "execution_count": 11,
   "metadata": {
    "slideshow": {
     "slide_type": "subslide"
    },
    "tags": []
   },
   "outputs": [],
   "source": [
    "# Allocation settings\n",
    "\n",
    "## Aviation share of the global (equivalent) carbon budget [%]\n",
    "process.parameters.aviation_carbon_budget_allocated_share = 2.6\n",
    "process.parameters.aviation_equivalentcarbonbudget_allocated_share = 5.1\n",
    "\n",
    "## Aviation share of the global energy resources (biomass and electricity) [%]\n",
    "process.parameters.aviation_biomass_allocated_share = 5.0\n",
    "process.parameters.aviation_electricity_allocated_share = 5.0"
   ]
  },
  {
   "cell_type": "markdown",
   "metadata": {
    "slideshow": {
     "slide_type": "slide"
    }
   },
   "source": [
    "## Compute"
   ]
  },
  {
   "cell_type": "code",
   "execution_count": 12,
   "metadata": {
    "slideshow": {
     "slide_type": "subslide"
    },
    "tags": []
   },
   "outputs": [],
   "source": [
    "process.compute()"
   ]
  },
  {
   "cell_type": "markdown",
   "metadata": {},
   "source": [
    "## Results"
   ]
  },
  {
   "cell_type": "code",
   "execution_count": 13,
   "metadata": {
    "tags": []
   },
   "outputs": [],
   "source": [
    "# process.fleet_model.plot()"
   ]
  },
  {
   "cell_type": "code",
   "execution_count": 14,
   "metadata": {
    "tags": []
   },
   "outputs": [],
   "source": [
    "# process.fleet_model.df.loc[2019:2050,['Short Range:SR conventional narrow-body:old_reference:aircraft_ask',\n",
    "#                         'Short Range:SR conventional narrow-body:recent_reference:aircraft_ask',\n",
    "#                         'Short Range:SR conventional narrow-body:New Short-range Aircraft:aircraft_ask',\n",
    "# #                         'Medium Range:MR conventional narrow-body:old_reference:aircraft_ask',\n",
    "# #                         'Medium Range:MR conventional narrow-body:recent_reference:aircraft_ask',\n",
    "# #                         'Medium Range:MR conventional narrow-body:New Medium-range Aircraft:aircraft_ask',\n",
    "# #                         'Long Range:LR conventional wide-body:old_reference:aircraft_ask',\n",
    "# #                         'Long Range:LR conventional wide-body:recent_reference:aircraft_ask',\n",
    "# #                         'Long Range:LR conventional wide-body:New Long-range Aircraft:aircraft_ask',\n",
    "#                         ]].plot(stacked=True, kind='area')"
   ]
  },
  {
   "cell_type": "code",
   "execution_count": 15,
   "metadata": {
    "tags": []
   },
   "outputs": [],
   "source": [
    "# process.fleet_model.df.loc[2019:2050,['Short Range:SR conventional narrow-body:old_reference:aircraft_in_fleet',\n",
    "#                         'Short Range:SR conventional narrow-body:recent_reference:aircraft_in_fleet',\n",
    "#                         'Short Range:SR conventional narrow-body:New Short-range Aircraft:aircraft_in_fleet',\n",
    "#                         'Medium Range:MR conventional narrow-body:old_reference:aircraft_in_fleet',\n",
    "#                         'Medium Range:MR conventional narrow-body:recent_reference:aircraft_in_fleet',\n",
    "#                         'Medium Range:MR conventional narrow-body:New Medium-range Aircraft:aircraft_in_fleet',\n",
    "#                         'Long Range:LR conventional wide-body:old_reference:aircraft_in_fleet',\n",
    "#                         'Long Range:LR conventional wide-body:recent_reference:aircraft_in_fleet',\n",
    "#                         'Long Range:LR conventional wide-body:New Long-range Aircraft:aircraft_in_fleet',]].plot(stacked=True, kind='area')"
   ]
  },
  {
   "cell_type": "code",
   "execution_count": 16,
   "metadata": {
    "tags": []
   },
   "outputs": [],
   "source": [
    "# process.fleet_model.df.loc[2000:2050,['Short Range:SR conventional narrow-body:old_reference:aircraft_non_recurring_costs',\n",
    "#                         'Short Range:SR conventional narrow-body:recent_reference:aircraft_non_recurring_costs',\n",
    "#                         'Short Range:SR conventional narrow-body:New Short-range Aircraft:aircraft_non_recurring_costs',\n",
    "#                         'Medium Range:MR conventional narrow-body:old_reference:aircraft_non_recurring_costs',\n",
    "#                         'Medium Range:MR conventional narrow-body:recent_reference:aircraft_non_recurring_costs',\n",
    "#                         'Medium Range:MR conventional narrow-body:New Medium-range Aircraft:aircraft_non_recurring_costs',\n",
    "#                         'Long Range:LR conventional wide-body:old_reference:aircraft_non_recurring_costs',\n",
    "#                         'Long Range:LR conventional wide-body:recent_reference:aircraft_non_recurring_costs',\n",
    "#                         'Long Range:LR conventional wide-body:New Long-range Aircraft:aircraft_non_recurring_costs',]].plot(stacked=True, kind='area')"
   ]
  },
  {
   "cell_type": "code",
   "execution_count": 17,
   "metadata": {},
   "outputs": [
    {
     "data": {
      "text/html": [
       "<div>\n",
       "<style scoped>\n",
       "    .dataframe tbody tr th:only-of-type {\n",
       "        vertical-align: middle;\n",
       "    }\n",
       "\n",
       "    .dataframe tbody tr th {\n",
       "        vertical-align: top;\n",
       "    }\n",
       "\n",
       "    .dataframe thead th {\n",
       "        text-align: right;\n",
       "    }\n",
       "</style>\n",
       "<table border=\"1\" class=\"dataframe\">\n",
       "  <thead>\n",
       "    <tr style=\"text-align: right;\">\n",
       "      <th></th>\n",
       "      <th>abatement_effective</th>\n",
       "      <th>carbon_abatement_cost</th>\n",
       "    </tr>\n",
       "  </thead>\n",
       "  <tbody>\n",
       "    <tr>\n",
       "      <th>Long Range:LR conventional wide-body:New Long-range Aircraft</th>\n",
       "      <td>333.938879</td>\n",
       "      <td>-197.771241</td>\n",
       "    </tr>\n",
       "    <tr>\n",
       "      <th>Medium Range:MR conventional narrow-body:New Medium-range Aircraft</th>\n",
       "      <td>169.835436</td>\n",
       "      <td>-177.217770</td>\n",
       "    </tr>\n",
       "    <tr>\n",
       "      <th>Short Range:SR conventional narrow-body:recent_reference</th>\n",
       "      <td>49.643502</td>\n",
       "      <td>-130.943978</td>\n",
       "    </tr>\n",
       "    <tr>\n",
       "      <th>Long Range:LR conventional wide-body:recent_reference</th>\n",
       "      <td>2.056636</td>\n",
       "      <td>-130.943978</td>\n",
       "    </tr>\n",
       "    <tr>\n",
       "      <th>Medium Range:MR conventional narrow-body:recent_reference</th>\n",
       "      <td>62.848415</td>\n",
       "      <td>-130.943978</td>\n",
       "    </tr>\n",
       "    <tr>\n",
       "      <th>Short Range:SR conventional narrow-body:New Short-range Aircraft</th>\n",
       "      <td>152.358852</td>\n",
       "      <td>126.019831</td>\n",
       "    </tr>\n",
       "    <tr>\n",
       "      <th>Bio - HEFA FOG</th>\n",
       "      <td>2.652293</td>\n",
       "      <td>199.966672</td>\n",
       "    </tr>\n",
       "    <tr>\n",
       "      <th>Bio - FT Others</th>\n",
       "      <td>344.369100</td>\n",
       "      <td>255.307243</td>\n",
       "    </tr>\n",
       "    <tr>\n",
       "      <th>Bio - FT MSW</th>\n",
       "      <td>25.193444</td>\n",
       "      <td>282.822476</td>\n",
       "    </tr>\n",
       "    <tr>\n",
       "      <th>OPS</th>\n",
       "      <td>535.570345</td>\n",
       "      <td>354.863479</td>\n",
       "    </tr>\n",
       "    <tr>\n",
       "      <th>Bio - HEFA Others</th>\n",
       "      <td>5.865135</td>\n",
       "      <td>685.204692</td>\n",
       "    </tr>\n",
       "    <tr>\n",
       "      <th>Bio - Alcohol to Jet</th>\n",
       "      <td>23.998798</td>\n",
       "      <td>783.887617</td>\n",
       "    </tr>\n",
       "    <tr>\n",
       "      <th>H2E</th>\n",
       "      <td>237.048597</td>\n",
       "      <td>1044.772467</td>\n",
       "    </tr>\n",
       "    <tr>\n",
       "      <th>Electrofuel</th>\n",
       "      <td>330.664444</td>\n",
       "      <td>1491.542724</td>\n",
       "    </tr>\n",
       "  </tbody>\n",
       "</table>\n",
       "</div>"
      ],
      "text/plain": [
       "                                                                    abatement_effective  \\\n",
       "Long Range:LR conventional wide-body:New Long-range Aircraft                 333.938879   \n",
       "Medium Range:MR conventional narrow-body:New Medium-range Aircraft           169.835436   \n",
       "Short Range:SR conventional narrow-body:recent_reference                      49.643502   \n",
       "Long Range:LR conventional wide-body:recent_reference                          2.056636   \n",
       "Medium Range:MR conventional narrow-body:recent_reference                     62.848415   \n",
       "Short Range:SR conventional narrow-body:New Short-range Aircraft             152.358852   \n",
       "Bio - HEFA FOG                                                                 2.652293   \n",
       "Bio - FT Others                                                              344.369100   \n",
       "Bio - FT MSW                                                                  25.193444   \n",
       "OPS                                                                          535.570345   \n",
       "Bio - HEFA Others                                                              5.865135   \n",
       "Bio - Alcohol to Jet                                                          23.998798   \n",
       "H2E                                                                          237.048597   \n",
       "Electrofuel                                                                  330.664444   \n",
       "\n",
       "                                                                    carbon_abatement_cost  \n",
       "Long Range:LR conventional wide-body:New Long-range Aircraft                  -197.771241  \n",
       "Medium Range:MR conventional narrow-body:New Medium-range Aircraft            -177.217770  \n",
       "Short Range:SR conventional narrow-body:recent_reference                      -130.943978  \n",
       "Long Range:LR conventional wide-body:recent_reference                         -130.943978  \n",
       "Medium Range:MR conventional narrow-body:recent_reference                     -130.943978  \n",
       "Short Range:SR conventional narrow-body:New Short-range Aircraft               126.019831  \n",
       "Bio - HEFA FOG                                                                 199.966672  \n",
       "Bio - FT Others                                                                255.307243  \n",
       "Bio - FT MSW                                                                   282.822476  \n",
       "OPS                                                                            354.863479  \n",
       "Bio - HEFA Others                                                              685.204692  \n",
       "Bio - Alcohol to Jet                                                           783.887617  \n",
       "H2E                                                                           1044.772467  \n",
       "Electrofuel                                                                   1491.542724  "
      ]
     },
     "execution_count": 17,
     "metadata": {},
     "output_type": "execute_result"
    },
    {
     "data": {
      "application/vnd.jupyter.widget-view+json": {
       "model_id": "1453cb17be5d410f9709042e8a85edcd",
       "version_major": 2,
       "version_minor": 0
      },
      "image/png": "[encoded data removed]",
      "text/html": [
       "\n",
       "            <div style=\"display: inline-block;\">\n",
       "                <div class=\"jupyter-widgets widget-label\" style=\"text-align: center;\">\n",
       "                    Figure\n",
       "                </div>\n",
       "                <img src='data:image/png;base64,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' width=640.0/>\n",
       "            </div>\n",
       "        "
      ],
      "text/plain": [
       "Canvas(toolbar=Toolbar(toolitems=[('Home', 'Reset original view', 'home', 'home'), ('Back', 'Back to previous …"
      ]
     },
     "metadata": {},
     "output_type": "display_data"
    }
   ],
   "source": [
    "import matplotlib.pyplot as plt\n",
    "import pandas as pd\n",
    "\n",
    "fig, ax= plt.subplots()\n",
    "\n",
    "name=[]\n",
    "vol=[]\n",
    "cost=[]\n",
    "year=2049\n",
    "for category, sets in process.fleet_model.all_aircraft_elements.items():\n",
    "        for aircraft_var in sets:\n",
    "            if hasattr(aircraft_var, \"parameters\"):\n",
    "                aircraft_var_name = aircraft_var.parameters.full_name\n",
    "            else:\n",
    "                aircraft_var_name = aircraft_var.full_name\n",
    "\n",
    "            name.append(aircraft_var_name) \n",
    "            vol.append(process.fleet_model.df.loc[year, aircraft_var_name+':aircraft_carbon_abatement_volume']/1000000)\n",
    "            cost.append(process.fleet_model.df.loc[year, aircraft_var_name+':aircraft_carbon_abatement_cost'])\n",
    "        \n",
    "        \n",
    "\n",
    "        \n",
    "name.extend([el for el in[\n",
    "    \"Bio - HEFA FOG\",\n",
    "    \"Bio - HEFA Others\",\n",
    "    \"Bio - Alcohol to Jet\",\n",
    "    \"Bio - FT MSW\",\n",
    "    \"Bio - FT Others\",\n",
    "    \"H2C\",\n",
    "    \"H2CCCS\",\n",
    "    \"H2G\",\n",
    "    \"H2GCCS\",\n",
    "    \"H2E\",\n",
    "    \"Electrofuel\",\n",
    "    \"OPS\"\n",
    "]])\n",
    "\n",
    "# Abatement effective in MtCO2e\n",
    "vol.extend([\n",
    "    elt / 1000000\n",
    "    for elt in [\n",
    "        process.vector_outputs_df.abatement_effective_hefa_fog[year],\n",
    "        process.vector_outputs_df.abatement_effective_hefa_others[year],\n",
    "        process.vector_outputs_df.abatement_effective_atj[year],\n",
    "        process.vector_outputs_df.abatement_effective_ft_msw[year],\n",
    "        process.vector_outputs_df.abatement_effective_ft_others[year],\n",
    "        process.vector_outputs_df.abatement_effective_hydrogen_coal[year],\n",
    "        process.vector_outputs_df.abatement_effective_hydrogen_coal_ccs[year],\n",
    "        process.vector_outputs_df.abatement_effective_hydrogen_gas[year],\n",
    "        process.vector_outputs_df.abatement_effective_hydrogen_gas_ccs[year],\n",
    "        process.vector_outputs_df.abatement_effective_hydrogen_electrolysis[year],\n",
    "        process.vector_outputs_df.abatement_effective_electrofuel[year],\n",
    "        process.vector_outputs_df.operations_abatement_potential[year]\n",
    "    ]\n",
    "])\n",
    "\n",
    "# carbon abatement cost in (€/tCO2e)\n",
    "cost.extend([el for el in [\n",
    "    process.vector_outputs_df.carbon_abatement_cost_hefa_fog[year],\n",
    "    process.vector_outputs_df.carbon_abatement_cost_hefa_others[year],\n",
    "    process.vector_outputs_df.carbon_abatement_cost_atj[year],\n",
    "    process.vector_outputs_df.carbon_abatement_cost_ft_msw[year],\n",
    "    process.vector_outputs_df.carbon_abatement_cost_ft_others[year],\n",
    "    process.vector_outputs_df.carbon_abatement_cost_h2_coal[year],\n",
    "    process.vector_outputs_df.carbon_abatement_cost_h2_coal_ccs[year],\n",
    "    process.vector_outputs_df.carbon_abatement_cost_h2_gas[year],\n",
    "    process.vector_outputs_df.carbon_abatement_cost_h2_gas_ccs[year],\n",
    "    process.vector_outputs_df.carbon_abatement_cost_h2_electrolysis[year],\n",
    "    process.vector_outputs_df.carbon_abatement_cost_electrofuel[year],\n",
    "    process.vector_outputs_df.operations_abatement_cost[year]\n",
    "]\n",
    "            ])\n",
    "\n",
    "\n",
    "macc_df = pd.DataFrame(\n",
    "    data=[vol, cost],\n",
    "    columns=name,\n",
    "    index=[\"abatement_effective\", \"carbon_abatement_cost\"],\n",
    ")\n",
    "\n",
    "macc_df = macc_df.transpose().sort_values(by=\"carbon_abatement_cost\")\n",
    "\n",
    "macc_df = macc_df[macc_df[\"abatement_effective\"] > 0]\n",
    "\n",
    "heights = macc_df[\"carbon_abatement_cost\"].to_list()\n",
    "names = macc_df.index.to_list()\n",
    "# heights.insert(0, 0)\n",
    "# heights.append(heights[-1])\n",
    "\n",
    "# # MAx effective MACC\n",
    "widths_effective = macc_df[\"abatement_effective\"].to_list()\n",
    "# widths_effective.insert(0, 0)\n",
    "# widths_effective.append(widths_effective[-1])\n",
    "\n",
    "\n",
    "macc_curve = ax.step(\n",
    "    np.cumsum(widths_effective) - widths_effective,\n",
    "    heights,\n",
    "    where=\"post\",\n",
    "    color=\"#335C67\",\n",
    "    label=\"Marginal abatement cost\",\n",
    "    linewidth=1.5,\n",
    ")\n",
    "\n",
    "# Fill under the step plot with different colors for each step\n",
    "for i in range(0, (len(widths_effective) - 2)):\n",
    "    # Create a polygon for each step\n",
    "    polygon = plt.Polygon(\n",
    "        [\n",
    "            (np.cumsum(widths_effective)[i], 0),\n",
    "            (np.cumsum(widths_effective)[i], heights[i + 1]),\n",
    "            (np.cumsum(widths_effective)[i + 1], heights[i + 1]),\n",
    "            (np.cumsum(widths_effective)[i + 1], 0),\n",
    "        ],\n",
    "        closed=True,\n",
    "        alpha=0.5,\n",
    "    )\n",
    "    ax.add_patch(polygon)\n",
    "\n",
    "\n",
    "ax.set_ylabel(\"Carbon Abatement Cost (€/t$\\mathregular{CO_2}$)\")\n",
    "ax.set_xlabel(\"$\\mathregular{CO_2}$ abatted (Mt)\")\n",
    "\n",
    "# for i in range(len(widths_effective) - 1):\n",
    "#     ax.text(np.cumsum(widths_effective)[i] + 10, heights[i + 1] - 50, name[i])\n",
    "\n",
    "ax.legend(\n",
    "    fancybox=True,\n",
    "    shadow=True,\n",
    "    loc=\"lower left\",\n",
    "    bbox_to_anchor=[0.00, -0.2],\n",
    "    prop={\"size\": 8},\n",
    ")\n",
    "\n",
    "\n",
    "macc_df"
   ]
  },
  {
   "cell_type": "code",
   "execution_count": null,
   "metadata": {},
   "outputs": [],
   "source": []
  }
 ],
 "metadata": {
  "celltoolbar": "Diaporama",
  "kernelspec": {
   "display_name": "Python 3 (ipykernel)",
   "language": "python",
   "name": "python3"
  },
  "language_info": {
   "codemirror_mode": {
    "name": "ipython",
    "version": 3
   },
   "file_extension": ".py",
   "mimetype": "text/x-python",
   "name": "python",
   "nbconvert_exporter": "python",
   "pygments_lexer": "ipython3",
   "version": "3.8.16"
  }
 },
 "nbformat": 4,
 "nbformat_minor": 4
}
