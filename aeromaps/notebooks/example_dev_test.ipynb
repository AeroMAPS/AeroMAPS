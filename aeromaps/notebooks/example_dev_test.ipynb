{
 "cells": [
  {
   "cell_type": "markdown",
   "metadata": {},
   "source": [
    "# Dev notebook - AS\n"
   ]
  },
  {
   "cell_type": "markdown",
   "metadata": {
    "slideshow": {
     "slide_type": "slide"
    }
   },
   "source": [
    "## Load and process"
   ]
  },
  {
   "cell_type": "code",
   "execution_count": 1,
   "metadata": {
    "slideshow": {
     "slide_type": "subslide"
    },
    "tags": []
   },
   "outputs": [
    {
     "ename": "ImportError",
     "evalue": "cannot import name 'models_complex' from 'aeromaps.core.models' (C:\\Users\\a.salgas.ISAE-SUPAERO\\PycharmProjects\\AeroMAPS\\aeromaps\\core\\models.py)",
     "output_type": "error",
     "traceback": [
      "\u001b[1;31m---------------------------------------------------------------------------\u001b[0m",
      "\u001b[1;31mImportError\u001b[0m                               Traceback (most recent call last)",
      "Cell \u001b[1;32mIn[1], line 5\u001b[0m\n\u001b[0;32m      3\u001b[0m \u001b[38;5;28;01mimport\u001b[39;00m \u001b[38;5;21;01mnumpy\u001b[39;00m \u001b[38;5;28;01mas\u001b[39;00m \u001b[38;5;21;01mnp\u001b[39;00m\n\u001b[0;32m      4\u001b[0m \u001b[38;5;28;01mfrom\u001b[39;00m \u001b[38;5;21;01maeromaps\u001b[39;00m\u001b[38;5;21;01m.\u001b[39;00m\u001b[38;5;21;01mcore\u001b[39;00m\u001b[38;5;21;01m.\u001b[39;00m\u001b[38;5;21;01mprocess\u001b[39;00m \u001b[38;5;28;01mimport\u001b[39;00m create_process\n\u001b[1;32m----> 5\u001b[0m \u001b[38;5;28;01mfrom\u001b[39;00m \u001b[38;5;21;01maeromaps\u001b[39;00m\u001b[38;5;21;01m.\u001b[39;00m\u001b[38;5;21;01mcore\u001b[39;00m\u001b[38;5;21;01m.\u001b[39;00m\u001b[38;5;21;01mmodels\u001b[39;00m \u001b[38;5;28;01mimport\u001b[39;00m models_complex\n\u001b[0;32m      6\u001b[0m \u001b[38;5;28;01mfrom\u001b[39;00m \u001b[38;5;21;01maeromaps\u001b[39;00m\u001b[38;5;21;01m.\u001b[39;00m\u001b[38;5;21;01mmodels\u001b[39;00m\u001b[38;5;21;01m.\u001b[39;00m\u001b[38;5;21;01mair_transport\u001b[39;00m\u001b[38;5;21;01m.\u001b[39;00m\u001b[38;5;21;01maircraft_fleet_and_operations\u001b[39;00m\u001b[38;5;21;01m.\u001b[39;00m\u001b[38;5;21;01mfleet\u001b[39;00m\u001b[38;5;21;01m.\u001b[39;00m\u001b[38;5;21;01mfleet_model\u001b[39;00m \u001b[38;5;28;01mimport\u001b[39;00m (\n\u001b[0;32m      7\u001b[0m     Fleet,\n\u001b[0;32m      8\u001b[0m     AircraftParameters,\n\u001b[0;32m      9\u001b[0m     Aircraft,\n\u001b[0;32m     10\u001b[0m )\n",
      "\u001b[1;31mImportError\u001b[0m: cannot import name 'models_complex' from 'aeromaps.core.models' (C:\\Users\\a.salgas.ISAE-SUPAERO\\PycharmProjects\\AeroMAPS\\aeromaps\\core\\models.py)"
     ]
    }
   ],
   "source": [
    "%matplotlib widget\n",
    "import time\n",
    "import numpy as np\n",
    "from aeromaps.core.process import create_process\n",
    "from aeromaps.core.models import models_complex\n",
    "from aeromaps.models.air_transport.aircraft_fleet_and_operations.fleet.fleet_model import (\n",
    "    Fleet,\n",
    "    AircraftParameters,\n",
    "    Aircraft,\n",
    ")"
   ]
  },
  {
   "cell_type": "code",
   "execution_count": null,
   "metadata": {
    "slideshow": {
     "slide_type": "subslide"
    },
    "tags": []
   },
   "outputs": [],
   "source": [
    "process = create_process(\n",
    "    models=models_complex,\n",
    "    use_fleet_model=True,\n",
    "    add_examples_aircraft_and_subcategory=False,\n",
    ")"
   ]
  },
  {
   "cell_type": "markdown",
   "metadata": {
    "slideshow": {
     "slide_type": "slide"
    }
   },
   "source": [
    "## Set up variables\n",
    "\n",
    "### Aviation scenario"
   ]
  },
  {
   "cell_type": "code",
   "execution_count": null,
   "metadata": {
    "slideshow": {
     "slide_type": "subslide"
    },
    "tags": []
   },
   "outputs": [],
   "source": [
    "# Air traffic evolution\n",
    "\n",
    "## Growth rate by category [%]\n",
    "process.parameters.cagr_passenger_short_range_reference_periods = []\n",
    "process.parameters.cagr_passenger_short_range_reference_periods_values = [4.0]\n",
    "process.parameters.cagr_passenger_medium_range_reference_periods = []\n",
    "process.parameters.cagr_passenger_medium_range_reference_periods_values = [4.0]\n",
    "process.parameters.cagr_passenger_long_range_reference_periods = []\n",
    "process.parameters.cagr_passenger_long_range_reference_periods_values = [4.0]\n",
    "process.parameters.cagr_freight_reference_periods = []\n",
    "process.parameters.cagr_freight_reference_periods_values = [4.0]"
   ]
  },
  {
   "cell_type": "code",
   "execution_count": null,
   "metadata": {
    "tags": []
   },
   "outputs": [],
   "source": [
    "# Aircraft fleet\n",
    "\n",
    "## Initialization\n",
    "fleet = process.fleet\n",
    "\n",
    "## Short Range\n",
    "short_range_aircraft_params = AircraftParameters(\n",
    "    entry_into_service_year=2035,\n",
    "    consumption_evolution=50.0,\n",
    "    nox_evolution=-75.0,\n",
    "    soot_evolution=-100.0,\n",
    "    doc_non_energy_evolution=20.0,\n",
    "    cruise_altitude=12000.0,\n",
    "    ask_year=406000000,\n",
    "    rc_cost=60000000,\n",
    "    nrc_cost=10000000000.0,\n",
    ")\n",
    "short_range_aircraft = Aircraft(\n",
    "    \"New Short-range Aircraft\", parameters=short_range_aircraft_params, energy_type=\"HYDROGEN\"\n",
    ")\n",
    "fleet.categories[\"Short Range\"].subcategories[0].add_aircraft(aircraft=short_range_aircraft)\n",
    "\n",
    "## Medium Range\n",
    "medium_range_aircraft_params = AircraftParameters(\n",
    "    entry_into_service_year=2035,\n",
    "    consumption_evolution=-20.0,\n",
    "    nox_evolution=0.0,\n",
    "    soot_evolution=0.0,\n",
    "    doc_non_energy_evolution=-5.0,\n",
    "    cruise_altitude=12000.0,\n",
    "    ask_year=406000000.0,\n",
    "    rc_cost=80000000.0,\n",
    "    nrc_cost=10000000000.0,\n",
    ")\n",
    "medium_range_aircraft = Aircraft(\n",
    "    \"New Medium-range Aircraft\", parameters=medium_range_aircraft_params, energy_type=\"DROP_IN_FUEL\"\n",
    ")\n",
    "fleet.categories[\"Medium Range\"].subcategories[0].add_aircraft(aircraft=medium_range_aircraft)\n",
    "\n",
    "## Long Range\n",
    "long_range_aircraft_params = AircraftParameters(\n",
    "    entry_into_service_year=2022,\n",
    "    consumption_evolution=-10.0,\n",
    "    nox_evolution=0.0,\n",
    "    soot_evolution=0.0,\n",
    "    doc_non_energy_evolution=-10.0,\n",
    "    cruise_altitude=12000.0,\n",
    "    ask_year=406000000.0,\n",
    "    rc_cost=150000000.0,\n",
    "    nrc_cost=25000000000.0,\n",
    ")\n",
    "long_range_aircraft = Aircraft(\n",
    "    \"New Long-range Aircraft\", parameters=long_range_aircraft_params, energy_type=\"DROP_IN_FUEL\"\n",
    ")\n",
    "fleet.categories[\"Long Range\"].subcategories[0].add_aircraft(aircraft=long_range_aircraft)\n",
    "\n",
    "\n",
    "## Long Range\n",
    "long_range_aircraft_params = AircraftParameters(\n",
    "    entry_into_service_year=2024,\n",
    "    consumption_evolution=-20.0,\n",
    "    nox_evolution=0.0,\n",
    "    soot_evolution=0.0,\n",
    "    doc_non_energy_evolution=-30.0,\n",
    "    cruise_altitude=12000.0,\n",
    "    ask_year=406000000.0,\n",
    "    rc_cost=150000000.0,\n",
    "    nrc_cost=25000000000.0,\n",
    ")\n",
    "long_range_aircraft = Aircraft(\n",
    "    \"New Long-range Aircraft 2\", parameters=long_range_aircraft_params, energy_type=\"DROP_IN_FUEL\"\n",
    ")\n",
    "fleet.categories[\"Long Range\"].subcategories[0].add_aircraft(aircraft=long_range_aircraft)\n",
    "\n",
    "\n",
    "## Long Range\n",
    "long_range_aircraft_params = AircraftParameters(\n",
    "    entry_into_service_year=2029,\n",
    "    consumption_evolution=-25.0,\n",
    "    nox_evolution=0.0,\n",
    "    soot_evolution=0.0,\n",
    "    doc_non_energy_evolution=+10.0,\n",
    "    cruise_altitude=12000.0,\n",
    "    ask_year=406000000.0,\n",
    "    rc_cost=150000000.0,\n",
    "    nrc_cost=25000000000.0,\n",
    ")\n",
    "long_range_aircraft = Aircraft(\n",
    "    \"New Long-range Aircraft 3\", parameters=long_range_aircraft_params, energy_type=\"DROP_IN_FUEL\"\n",
    ")\n",
    "fleet.categories[\"Long Range\"].subcategories[0].add_aircraft(aircraft=long_range_aircraft)\n",
    "\n",
    "\n",
    "## Fleet renewal\n",
    "fleet.categories[\"Short Range\"].parameters.life = 25\n",
    "fleet.categories[\"Medium Range\"].parameters.life = 25\n",
    "fleet.categories[\"Long Range\"].parameters.life = 25"
   ]
  },
  {
   "cell_type": "code",
   "execution_count": null,
   "metadata": {
    "slideshow": {
     "slide_type": "subslide"
    },
    "tags": []
   },
   "outputs": [],
   "source": [
    "# Aircraft fleet and operation evolution - Aircraft load factor\n",
    "\n",
    "## Aircraft load factor in 2050 [%]\n",
    "process.parameters.load_factor_end_year = 89  # 2019 value: 82.399312"
   ]
  },
  {
   "cell_type": "code",
   "execution_count": null,
   "metadata": {
    "slideshow": {
     "slide_type": "subslide"
    },
    "tags": []
   },
   "outputs": [],
   "source": [
    "# Aircraft fleet and operation evolution - Operations\n",
    "\n",
    "## Values for setting the logistic function\n",
    "process.parameters.operations_final_gain = 8.0  # [%]\n",
    "process.parameters.operations_start_year = 2025\n",
    "process.parameters.operations_duration = 25.0"
   ]
  },
  {
   "cell_type": "code",
   "execution_count": null,
   "metadata": {
    "slideshow": {
     "slide_type": "subslide"
    },
    "tags": []
   },
   "outputs": [],
   "source": [
    "# Aircraft energy - Introduction of alternative drop-in fuels\n",
    "\n",
    "## Share of alternative fuels in the drop-in fuel mix (the rest being supplemented by kerosene) [%]\n",
    "process.parameters.biofuel_share_reference_years = [2020, 2030, 2040, 2050]\n",
    "process.parameters.biofuel_share_reference_years_values = [10, 20, 20.0, 50.0]\n",
    "process.parameters.electrofuel_share_reference_years = [2020, 2030, 2040, 2050]\n",
    "process.parameters.electrofuel_share_reference_years_values = [0.0, 1.2, 2.0, 5.0]"
   ]
  },
  {
   "cell_type": "code",
   "execution_count": null,
   "metadata": {
    "slideshow": {
     "slide_type": "subslide"
    },
    "tags": []
   },
   "outputs": [],
   "source": [
    "# Various environmental settings\n",
    "\n",
    "## Share of biofuel production pathways (the rest being completed by AtJ processes) [%]\n",
    "process.parameters.biofuel_hefa_fog_share_reference_years = [2020, 2030, 2040, 2050]\n",
    "process.parameters.biofuel_hefa_fog_share_reference_years_values = [100, 0.7, 0.7, 0.7]\n",
    "process.parameters.biofuel_hefa_others_share_reference_years = [2020, 2030, 2040, 2050]\n",
    "process.parameters.biofuel_hefa_others_share_reference_years_values = [0.0, 3.8, 3.8, 3.8]\n",
    "process.parameters.biofuel_ft_others_share_reference_years = [2020, 2030, 2040, 2050]\n",
    "process.parameters.biofuel_ft_others_share_reference_years_values = [0.0, 76.3, 76.3, 76.3]\n",
    "process.parameters.biofuel_ft_msw_share_reference_years = [2020, 2030, 2040, 2050]\n",
    "process.parameters.biofuel_ft_msw_share_reference_years_values = [0.0, 7.4, 7.4, 7.4]\n",
    "\n",
    "## Emission factors for electricity (2019 value: 429 gCO2/kWh)\n",
    "process.parameters.electricity_emission_factor_reference_years = [2020, 2030, 2040, 2050]\n",
    "process.parameters.electricity_emission_factor_reference_years_values = [429.0, 180.0, 75.0, 30.0]\n",
    "\n",
    "## Share of hydrogen production pathways (the rest being completed by production via coal without CCS) [%]\n",
    "## Distribution in 2019: Gas without CCS (71%), Coal without CCS (27%), Electrolysis (2%), Others with CCS (0%), Co-products not taken into account\n",
    "process.parameters.hydrogen_electrolysis_share_reference_years = [2020, 2030, 2040, 2050]\n",
    "process.parameters.hydrogen_electrolysis_share_reference_years_values = [2, 50, 100, 100]\n",
    "process.parameters.hydrogen_gas_ccs_share_reference_years = [2020, 2030, 2040, 2050]\n",
    "process.parameters.hydrogen_gas_ccs_share_reference_years_values = [3, 10, 0, 0]\n",
    "process.parameters.hydrogen_coal_ccs_share_reference_years = [2020, 2030, 2040, 2050]\n",
    "process.parameters.hydrogen_coal_ccs_share_reference_years_values = [5, 10, 0, 0]\n",
    "process.parameters.hydrogen_gas_share_reference_years = [2020, 2030, 2040, 2050]\n",
    "process.parameters.hydrogen_gas_share_reference_years_values = [30, 20, 0, 0]"
   ]
  },
  {
   "cell_type": "code",
   "execution_count": null,
   "metadata": {
    "tags": []
   },
   "outputs": [],
   "source": [
    "# Cost parameters\n",
    "\n",
    "## Carbon tax\n",
    "process.parameters.carbon_tax_reference_years = [2020, 2030, 2040, 2050]\n",
    "process.parameters.carbon_tax_reference_years_values = [\n",
    "    5,\n",
    "    250,\n",
    "    500,\n",
    "    775,\n",
    "]  # 2020 value differs from the value of Quinet (54 €/tCO2)"
   ]
  },
  {
   "cell_type": "markdown",
   "metadata": {},
   "source": [
    "### Sustainability assessment"
   ]
  },
  {
   "cell_type": "code",
   "execution_count": null,
   "metadata": {
    "slideshow": {
     "slide_type": "subslide"
    },
    "tags": []
   },
   "outputs": [],
   "source": [
    "# Environmental limits\n",
    "\n",
    "## Carbon budgets and Carbon Dioxide Removal [GtCO2]\n",
    "process.parameters.net_carbon_budget = 850.0\n",
    "process.parameters.carbon_dioxyde_removal_2100 = 285.0\n",
    "\n",
    "## Available energy resources in 2050 [EJ]\n",
    "process.parameters.waste_biomass = 12\n",
    "process.parameters.crops_biomass = 63\n",
    "process.parameters.forest_residues_biomass = 17\n",
    "process.parameters.agricultural_residues_biomass = 57\n",
    "process.parameters.algae_biomass = 15\n",
    "process.parameters.available_electricity = 200.0"
   ]
  },
  {
   "cell_type": "code",
   "execution_count": null,
   "metadata": {
    "slideshow": {
     "slide_type": "subslide"
    },
    "tags": []
   },
   "outputs": [],
   "source": [
    "# Allocation settings\n",
    "\n",
    "## Aviation share of the global (equivalent) carbon budget [%]\n",
    "process.parameters.aviation_carbon_budget_allocated_share = 2.6\n",
    "process.parameters.aviation_equivalentcarbonbudget_allocated_share = 5.1\n",
    "\n",
    "## Aviation share of the global energy resources (biomass and electricity) [%]\n",
    "process.parameters.aviation_biomass_allocated_share = 5.0\n",
    "process.parameters.aviation_electricity_allocated_share = 5.0"
   ]
  },
  {
   "cell_type": "markdown",
   "metadata": {
    "slideshow": {
     "slide_type": "slide"
    },
    "tags": []
   },
   "source": [
    "## Compute"
   ]
  },
  {
   "cell_type": "code",
   "execution_count": null,
   "metadata": {
    "slideshow": {
     "slide_type": "subslide"
    },
    "tags": []
   },
   "outputs": [],
   "source": [
    "process.compute()"
   ]
  },
  {
   "cell_type": "code",
   "execution_count": null,
   "metadata": {
    "tags": []
   },
   "outputs": [],
   "source": [
    "process.vector_outputs_df[\"cumulative_co2_emissions\"]"
   ]
  },
  {
   "cell_type": "markdown",
   "metadata": {},
   "source": [
    "## Results"
   ]
  },
  {
   "cell_type": "code",
   "execution_count": null,
   "metadata": {
    "tags": []
   },
   "outputs": [],
   "source": [
    "# process.fleet_model.plot()"
   ]
  },
  {
   "cell_type": "code",
   "execution_count": null,
   "metadata": {
    "tags": []
   },
   "outputs": [],
   "source": [
    "# process.fleet_model.df.loc[2019:2050,['Short Range:SR conventional narrow-body:old_reference:aircraft_ask',\n",
    "#                         'Short Range:SR conventional narrow-body:recent_reference:aircraft_ask',\n",
    "#                         'Short Range:SR conventional narrow-body:New Short-range Aircraft:aircraft_ask',\n",
    "# #                         'Medium Range:MR conventional narrow-body:old_reference:aircraft_ask',\n",
    "# #                         'Medium Range:MR conventional narrow-body:recent_reference:aircraft_ask',\n",
    "# #                         'Medium Range:MR conventional narrow-body:New Medium-range Aircraft:aircraft_ask',\n",
    "# #                         'Long Range:LR conventional wide-body:old_reference:aircraft_ask',\n",
    "# #                         'Long Range:LR conventional wide-body:recent_reference:aircraft_ask',\n",
    "# #                         'Long Range:LR conventional wide-body:New Long-range Aircraft:aircraft_ask',\n",
    "#                         ]].plot(stacked=True, kind='area')"
   ]
  },
  {
   "cell_type": "code",
   "execution_count": null,
   "metadata": {
    "tags": []
   },
   "outputs": [],
   "source": [
    "# process.fleet_model.df.loc[2019:2050,['Short Range:SR conventional narrow-body:old_reference:aircraft_in_fleet',\n",
    "#                         'Short Range:SR conventional narrow-body:recent_reference:aircraft_in_fleet',\n",
    "#                         'Short Range:SR conventional narrow-body:New Short-range Aircraft:aircraft_in_fleet',\n",
    "#                         'Medium Range:MR conventional narrow-body:old_reference:aircraft_in_fleet',\n",
    "#                         'Medium Range:MR conventional narrow-body:recent_reference:aircraft_in_fleet',\n",
    "#                         'Medium Range:MR conventional narrow-body:New Medium-range Aircraft:aircraft_in_fleet',\n",
    "#                         'Long Range:LR conventional wide-body:old_reference:aircraft_in_fleet',\n",
    "#                         'Long Range:LR conventional wide-body:recent_reference:aircraft_in_fleet',\n",
    "#                         'Long Range:LR conventional wide-body:New Long-range Aircraft:aircraft_in_fleet',]].plot(stacked=True, kind='area')"
   ]
  },
  {
   "cell_type": "code",
   "execution_count": null,
   "metadata": {
    "tags": []
   },
   "outputs": [],
   "source": [
    "# process.fleet_model.df.loc[2000:2050,['Short Range:SR conventional narrow-body:old_reference:aircraft_non_recurring_costs',\n",
    "#                         'Short Range:SR conventional narrow-body:recent_reference:aircraft_non_recurring_costs',\n",
    "#                         'Short Range:SR conventional narrow-body:New Short-range Aircraft:aircraft_non_recurring_costs',\n",
    "#                         'Medium Range:MR conventional narrow-body:old_reference:aircraft_non_recurring_costs',\n",
    "#                         'Medium Range:MR conventional narrow-body:recent_reference:aircraft_non_recurring_costs',\n",
    "#                         'Medium Range:MR conventional narrow-body:New Medium-range Aircraft:aircraft_non_recurring_costs',\n",
    "#                         'Long Range:LR conventional wide-body:old_reference:aircraft_non_recurring_costs',\n",
    "#                         'Long Range:LR conventional wide-body:recent_reference:aircraft_non_recurring_costs',\n",
    "#                         'Long Range:LR conventional wide-body:New Long-range Aircraft:aircraft_non_recurring_costs',]].plot(stacked=True, kind='area')"
   ]
  },
  {
   "cell_type": "code",
   "execution_count": null,
   "metadata": {
    "tags": []
   },
   "outputs": [],
   "source": [
    "import matplotlib.pyplot as plt\n",
    "import pandas as pd\n",
    "import matplotlib.patches as mpatches\n",
    "\n",
    "\n",
    "macc_dict = {}\n",
    "\n",
    "for year in range(2020, 2050 + 1):\n",
    "    name = []\n",
    "    vol = []\n",
    "    cost = []\n",
    "    scost = []\n",
    "    colors = []\n",
    "    for category, sets in process.fleet_model.all_aircraft_elements.items():\n",
    "        for aircraft_var in sets:\n",
    "            if hasattr(aircraft_var, \"parameters\"):\n",
    "                aircraft_var_name = aircraft_var.parameters.full_name\n",
    "            else:\n",
    "                aircraft_var_name = aircraft_var.full_name\n",
    "\n",
    "            vol.append(\n",
    "                process.fleet_model.df.loc[\n",
    "                    year, aircraft_var_name + \":aircraft_carbon_abatement_volume\"\n",
    "                ]\n",
    "                / 1000000\n",
    "            )\n",
    "            cost.append(\n",
    "                process.fleet_model.df.loc[\n",
    "                    year, aircraft_var_name + \":aircraft_carbon_abatement_cost\"\n",
    "                ]\n",
    "            )\n",
    "            scost.append(\n",
    "                process.fleet_model.df.loc[\n",
    "                    year, aircraft_var_name + \":aircraft_specific_carbon_abatement_cost\"\n",
    "                ]\n",
    "            )\n",
    "            if category == \"Short Range\":\n",
    "                colors.append(\"gold\")\n",
    "            elif category == \"Medium Range\":\n",
    "                colors.append(\"goldenrod\")\n",
    "            else:\n",
    "                colors.append(\"darkgoldenrod\")\n",
    "            name.append(aircraft_var_name.split(\":\")[-1])\n",
    "\n",
    "    name.extend(\n",
    "        [\n",
    "            el\n",
    "            for el in [\n",
    "                \"Bio - HEFA FOG\",\n",
    "                \"Bio - HEFA Others\",\n",
    "                \"Bio - Alcohol to Jet\",\n",
    "                \"Bio - FT MSW\",\n",
    "                \"Bio - FT Others\",\n",
    "                \"H2C\",\n",
    "                \"H2CCCS\",\n",
    "                \"H2G\",\n",
    "                \"H2GCCS\",\n",
    "                \"H2E\",\n",
    "                \"Electrofuel\",\n",
    "                \"OPS\",\n",
    "                \"LF\",\n",
    "            ]\n",
    "        ]\n",
    "    )\n",
    "\n",
    "    # Abatement effective in MtCO2e\n",
    "    vol.extend(\n",
    "        [\n",
    "            elt / 1000000\n",
    "            for elt in [\n",
    "                process.vector_outputs_df.abatement_effective_hefa_fog[year],\n",
    "                process.vector_outputs_df.abatement_effective_hefa_others[year],\n",
    "                process.vector_outputs_df.abatement_effective_atj[year],\n",
    "                process.vector_outputs_df.abatement_effective_ft_msw[year],\n",
    "                process.vector_outputs_df.abatement_effective_ft_others[year],\n",
    "                process.vector_outputs_df.abatement_effective_hydrogen_coal[year],\n",
    "                process.vector_outputs_df.abatement_effective_hydrogen_coal_ccs[year],\n",
    "                process.vector_outputs_df.abatement_effective_hydrogen_gas[year],\n",
    "                process.vector_outputs_df.abatement_effective_hydrogen_gas_ccs[year],\n",
    "                process.vector_outputs_df.abatement_effective_hydrogen_electrolysis[year],\n",
    "                process.vector_outputs_df.abatement_effective_electrofuel[year],\n",
    "                process.vector_outputs_df.operations_abatement_effective[year],\n",
    "                process.vector_outputs_df.load_factor_abatement_effective[year],\n",
    "            ]\n",
    "        ]\n",
    "    )\n",
    "\n",
    "    # carbon abatement cost in (€/tCO2e)\n",
    "    cost.extend(\n",
    "        [\n",
    "            el\n",
    "            for el in [\n",
    "                process.vector_outputs_df.carbon_abatement_cost_hefa_fog[year],\n",
    "                process.vector_outputs_df.carbon_abatement_cost_hefa_others[year],\n",
    "                process.vector_outputs_df.carbon_abatement_cost_atj[year],\n",
    "                process.vector_outputs_df.carbon_abatement_cost_ft_msw[year],\n",
    "                process.vector_outputs_df.carbon_abatement_cost_ft_others[year],\n",
    "                process.vector_outputs_df.carbon_abatement_cost_h2_coal[year],\n",
    "                process.vector_outputs_df.carbon_abatement_cost_h2_coal_ccs[year],\n",
    "                process.vector_outputs_df.carbon_abatement_cost_h2_gas[year],\n",
    "                process.vector_outputs_df.carbon_abatement_cost_h2_gas_ccs[year],\n",
    "                process.vector_outputs_df.carbon_abatement_cost_h2_electrolysis[year],\n",
    "                process.vector_outputs_df.carbon_abatement_cost_electrofuel[year],\n",
    "                process.vector_outputs_df.operations_abatement_cost[year],\n",
    "                process.vector_outputs_df.load_factor_abatement_cost[year],\n",
    "            ]\n",
    "        ]\n",
    "    )\n",
    "\n",
    "    scost.extend(\n",
    "        [\n",
    "            el\n",
    "            for el in [\n",
    "                process.vector_outputs_df.specific_carbon_abatement_cost_hefa_fog[year],\n",
    "                process.vector_outputs_df.specific_carbon_abatement_cost_hefa_others[year],\n",
    "                process.vector_outputs_df.specific_carbon_abatement_cost_atj[year],\n",
    "                process.vector_outputs_df.specific_carbon_abatement_cost_ft_msw[year],\n",
    "                process.vector_outputs_df.specific_carbon_abatement_cost_ft_others[year],\n",
    "                process.vector_outputs_df.coal_h2_specific_abatement_cost[year],\n",
    "                process.vector_outputs_df.coal_ccs_h2_specific_abatement_cost[year],\n",
    "                process.vector_outputs_df.gas_h2_specific_abatement_cost[year],\n",
    "                process.vector_outputs_df.gas_ccs_h2_specific_abatement_cost[year],\n",
    "                process.vector_outputs_df.electrolysis_h2_specific_abatement_cost[year],\n",
    "                process.vector_outputs_df.specific_carbon_abatement_cost_electrofuel[year],\n",
    "                process.vector_outputs_df.operations_specific_abatement_cost[year],\n",
    "                process.vector_outputs_df.load_factor_specific_abatement_cost[year],\n",
    "            ]\n",
    "        ]\n",
    "    )\n",
    "\n",
    "    colors.extend(\n",
    "        [\n",
    "            el\n",
    "            for el in [\n",
    "                \"yellowgreen\",\n",
    "                \"yellowgreen\",\n",
    "                \"yellowgreen\",\n",
    "                \"yellowgreen\",\n",
    "                \"yellowgreen\",\n",
    "                \"yellowgreen\",\n",
    "                \"yellowgreen\",\n",
    "                \"yellowgreen\",\n",
    "                \"yellowgreen\",\n",
    "                \"yellowgreen\",\n",
    "                \"yellowgreen\",\n",
    "                \"orange\",\n",
    "                \"orange\",\n",
    "            ]\n",
    "        ]\n",
    "    )\n",
    "\n",
    "    macc_df = pd.DataFrame(\n",
    "        data=[vol, cost, scost, colors],\n",
    "        columns=name,\n",
    "        index=[\n",
    "            \"abatement_effective\",\n",
    "            \"carbon_abatement_cost\",\n",
    "            \"specific_carbon_abatement_cost\",\n",
    "            \"colors\",\n",
    "        ],\n",
    "    )\n",
    "    macc_df = macc_df.transpose().sort_values(by=\"carbon_abatement_cost\")\n",
    "\n",
    "    macc_dict[year] = macc_df"
   ]
  },
  {
   "cell_type": "code",
   "execution_count": null,
   "metadata": {
    "tags": []
   },
   "outputs": [],
   "source": [
    "macc_df"
   ]
  },
  {
   "cell_type": "markdown",
   "metadata": {},
   "source": [
    "3D steplot => mouais"
   ]
  },
  {
   "cell_type": "code",
   "execution_count": null,
   "metadata": {
    "tags": []
   },
   "outputs": [],
   "source": [
    "%matplotlib ipympl\n",
    "import matplotlib.pyplot as plt\n",
    "import pandas as pd\n",
    "import matplotlib.patches as mpatches\n",
    "\n",
    "\n",
    "import matplotlib.pyplot as plt\n",
    "from mpl_toolkits.mplot3d import Axes3D\n",
    "\n",
    "from matplotlib.colors import LinearSegmentedColormap, Normalize\n",
    "from matplotlib.cm import ScalarMappable, coolwarm\n",
    "\n",
    "\n",
    "def f(x, y):\n",
    "    return 500 / (1.035 ** (2050 - y))\n",
    "\n",
    "\n",
    "def update_plot(years):\n",
    "    plt.clf()\n",
    "    fig = plt.figure(figsize=(15, 10))\n",
    "    ax = fig.add_subplot(111, projection=\"3d\")\n",
    "\n",
    "    # Create a colormap for the legend\n",
    "    cmap = LinearSegmentedColormap.from_list(\"custom_cmap\", plt.cm.viridis(np.linspace(0, 1, 256)))\n",
    "\n",
    "    for year in years:\n",
    "        macc_df = macc_dict[year]\n",
    "\n",
    "        maccneg_df = macc_df[macc_df[\"abatement_effective\"] < 0]\n",
    "        maccpos_df = macc_df[macc_df[\"abatement_effective\"] > 0]\n",
    "\n",
    "        ##### POS ######\n",
    "\n",
    "        heights_pos = maccpos_df[\"carbon_abatement_cost\"].to_numpy()\n",
    "        widths_effective_pos = maccpos_df[\"abatement_effective\"].to_numpy()\n",
    "\n",
    "        hatch_pos = maccpos_df[\"colors\"].to_list()\n",
    "\n",
    "        years_pos = [year] * len(heights_pos)\n",
    "\n",
    "        ax.scatter(\n",
    "            np.cumsum(widths_effective_pos),  # - widths_effective_pos, #incrorrect?\n",
    "            years_pos,\n",
    "            heights_pos,\n",
    "            # c=\"#335C67\",\n",
    "            marker=\"o\",\n",
    "            label=\"Marginal abatement cost\",\n",
    "            c=maccpos_df[\"colors\"].to_list(),\n",
    "        )\n",
    "\n",
    "        ax.step(\n",
    "            np.cumsum(widths_effective_pos),  # - widths_effective_pos,\n",
    "            years_pos,\n",
    "            heights_pos,\n",
    "            # c=\"#335C67\",\n",
    "            # marker='o',\n",
    "            label=\"Marginal abatement cost\",\n",
    "            color=\"blue\",\n",
    "            alpha=0.3,\n",
    "        )\n",
    "\n",
    "        ##### NEG ######\n",
    "\n",
    "    #         heights_neg = maccneg_df[\"carbon_abatement_cost\"].to_list()\n",
    "    #         heights_neg.append(0)\n",
    "    #         heights_neg.insert(0, heights_neg[0])\n",
    "\n",
    "    #         # # Max effective maccneg\n",
    "    #         widths_effective_neg = maccneg_df[\"abatement_effective\"].to_list()\n",
    "\n",
    "    #         widths_effective_neg.insert(0, 0)\n",
    "    #         widths_effective_neg.append(0)\n",
    "\n",
    "    #         colors_neg = maccneg_df[\"colors\"].to_list()\n",
    "\n",
    "    #         years_neg = [year] * len(heights_neg)\n",
    "\n",
    "    #         ax.step(\n",
    "    #             np.cumsum(widths_effective_neg)[-1] - np.cumsum(widths_effective_neg) + widths_effective_neg,\n",
    "    #             years_neg,\n",
    "    #             heights_neg,\n",
    "    #             where=\"post\",\n",
    "    #             color=\"#335C67\",\n",
    "    #             label=\"Marginal emission cost\",\n",
    "    #             linewidth=1,\n",
    "    #         )\n",
    "\n",
    "    X = np.linspace(0, 2000, 10)\n",
    "    Y = np.linspace(2020, 2050, 10)\n",
    "    X, Y = np.meshgrid(X, Y)\n",
    "\n",
    "    Z = f(X, Y)\n",
    "\n",
    "    ax.plot_surface(X, Y, Z, cmap=\"coolwarm\", alpha=0.4)\n",
    "\n",
    "    ax.set_zlim(-1000, 2000)\n",
    "    ax.set_ylim(2020, 2050)\n",
    "\n",
    "    ax.set_xlabel(\"Abatement Effective\")\n",
    "    ax.set_ylabel(\"Year\")\n",
    "    ax.set_zlabel(\"MAC\")\n",
    "    ax.set_title(\"Carbon Abatement Cost for Positive Effective Abatement\")\n",
    "\n",
    "    plt.show()"
   ]
  },
  {
   "cell_type": "code",
   "execution_count": null,
   "metadata": {
    "tags": []
   },
   "outputs": [],
   "source": [
    "update_plot(range(2020, 2051))"
   ]
  },
  {
   "cell_type": "markdown",
   "metadata": {},
   "source": [
    "#### Barplot == > Best "
   ]
  },
  {
   "cell_type": "code",
   "execution_count": null,
   "metadata": {
    "tags": []
   },
   "outputs": [],
   "source": [
    "%matplotlib ipympl\n",
    "import matplotlib.pyplot as plt\n",
    "import pandas as pd\n",
    "import matplotlib.patches as mpatches\n",
    "import matplotlib.colors as mcolors\n",
    "\n",
    "offset = mcolors.TwoSlopeNorm(vmin=-4000.0, vcenter=0.0, vmax=10000)\n",
    "\n",
    "\n",
    "import matplotlib.pyplot as plt\n",
    "from mpl_toolkits.mplot3d import Axes3D\n",
    "\n",
    "from matplotlib.colors import LinearSegmentedColormap, Normalize\n",
    "from matplotlib.cm import ScalarMappable\n",
    "\n",
    "\n",
    "def update_plot(years):\n",
    "    plt.clf()\n",
    "    fig = plt.figure(figsize=(15, 10))\n",
    "    ax = fig.add_subplot(111)\n",
    "\n",
    "    for year in years:\n",
    "\n",
    "        scc_year = 500 / (1.035 ** (2050 - year))\n",
    "\n",
    "        macc_df = macc_dict[year]\n",
    "\n",
    "        maccneg_df = macc_df[macc_df[\"abatement_effective\"] < 0]\n",
    "        maccpos_df = macc_df[macc_df[\"abatement_effective\"] > 0]\n",
    "\n",
    "        ##### POS ######\n",
    "\n",
    "        heights_pos = maccpos_df[\"carbon_abatement_cost\"].to_numpy()\n",
    "        widths_effective_pos = maccpos_df[\"abatement_effective\"].to_numpy()\n",
    "\n",
    "        # List to store hatch codes\n",
    "        hatch_list = []\n",
    "\n",
    "        # Iterate over the initial list\n",
    "        for value in heights_pos:\n",
    "            # Check if the value is above the threshold\n",
    "            if value > scc_year:\n",
    "                hatch_list.append(\"oo\")\n",
    "            else:\n",
    "                hatch_list.append(\"\")\n",
    "\n",
    "        years_pos = [year] * len(heights_pos)\n",
    "\n",
    "        bottom = 0\n",
    "\n",
    "        norm = Normalize(vmin=-500, vmax=2000)\n",
    "\n",
    "        for i in range(len(heights_pos)):\n",
    "            ax.bar(\n",
    "                year,\n",
    "                widths_effective_pos[i],\n",
    "                color=plt.cm.RdBu_r(norm(heights_pos[i])),\n",
    "                bottom=np.cumsum(widths_effective_pos)[i] - widths_effective_pos[i],\n",
    "                edgecolor=\"black\",\n",
    "                hatch=hatch_list[i],\n",
    "                width=1,\n",
    "            )\n",
    "    # Create a ScalarMappable to display the colormap as a legend\n",
    "\n",
    "    sm = ScalarMappable(cmap=plt.cm.RdBu_r, norm=norm)\n",
    "    sm.set_array([])  # Set an empty array since we don't have specific data values\n",
    "\n",
    "    # Add colorbar legend\n",
    "    cbar = plt.colorbar(sm, ax=ax, label=\"Carbon Abatement Cost\", norm=norm)\n",
    "\n",
    "    # Hatch legedn\n",
    "\n",
    "    plt.legend(\n",
    "        handles=[\n",
    "            mpatches.Patch(facecolor=\"none\", edgecolor=\"black\", hatch=\"//\"),\n",
    "            mpatches.Patch(facecolor=\"none\", edgecolor=\"black\"),\n",
    "        ],\n",
    "        labels=[\"Above SCC\", \"Below or Equal to SCC\"],\n",
    "    )\n",
    "\n",
    "    ##### NEG ######\n",
    "\n",
    "    #         heights_neg = maccneg_df[\"carbon_abatement_cost\"].to_list()\n",
    "    #         heights_neg.append(0)\n",
    "    #         heights_neg.insert(0, heights_neg[0])\n",
    "\n",
    "    #         # # Max effective maccneg\n",
    "    #         widths_effective_neg = maccneg_df[\"abatement_effective\"].to_list()\n",
    "\n",
    "    #         widths_effective_neg.insert(0, 0)\n",
    "    #         widths_effective_neg.append(0)\n",
    "\n",
    "    #         colors_neg = maccneg_df[\"colors\"].to_list()\n",
    "\n",
    "    #         years_neg = [year] * len(heights_neg)\n",
    "\n",
    "    #         ax.step(\n",
    "    #             np.cumsum(widths_effective_neg)[-1] - np.cumsum(widths_effective_neg) + widths_effective_neg,\n",
    "    #             years_neg,\n",
    "    #             heights_neg,\n",
    "    #             where=\"post\",\n",
    "    #             color=\"#335C67\",\n",
    "    #             label=\"Marginal emission cost\",\n",
    "    #             linewidth=1,\n",
    "    #         )\n",
    "\n",
    "    # ax.set_zlim(-1000,2000)\n",
    "    # ax.set_ylim(2020,2050)\n",
    "\n",
    "    ax.set_xlabel(\"Year\")\n",
    "    ax.set_ylabel(\"Abatement Effective\")\n",
    "    ax.set_title(\"Carbon Abatement Cost for Positive Effective Abatement\")\n",
    "\n",
    "    plt.show()"
   ]
  },
  {
   "cell_type": "code",
   "execution_count": null,
   "metadata": {
    "tags": []
   },
   "outputs": [],
   "source": [
    "update_plot(range(2020, 2051))"
   ]
  },
  {
   "cell_type": "markdown",
   "metadata": {},
   "source": [
    "# Shadow Carbon Pricing"
   ]
  },
  {
   "cell_type": "code",
   "execution_count": null,
   "metadata": {
    "tags": []
   },
   "outputs": [],
   "source": [
    "fig = plt.figure(figsize=(15, 10))\n",
    "ax = fig.add_subplot(111)\n",
    "\n",
    "# Create a colormap for the legend\n",
    "cmap = LinearSegmentedColormap.from_list(\"custom_cmap\", plt.cm.viridis(np.linspace(0, 1, 256)))\n",
    "\n",
    "marginal_cac = []\n",
    "marginal_cac09 = []\n",
    "marginal_cac08 = []\n",
    "marginal_cac05 = []\n",
    "scc = []\n",
    "\n",
    "\n",
    "years = range(2021, 2051)\n",
    "for year in years:\n",
    "    macc_df = macc_dict[year]\n",
    "\n",
    "    maccneg_df = macc_df[macc_df[\"abatement_effective\"] < 0]\n",
    "    maccpos_df = macc_df[macc_df[\"abatement_effective\"] > 0]\n",
    "\n",
    "    ##### POS ######\n",
    "\n",
    "    heights_pos = maccpos_df[\"carbon_abatement_cost\"].to_numpy()\n",
    "    widths_effective_pos = maccpos_df[\"abatement_effective\"].to_numpy()\n",
    "\n",
    "    cumwidths_pos = np.cumsum(widths_effective_pos)\n",
    "\n",
    "    target_value = 0.9 * cumwidths_pos[-1]\n",
    "    index_val = np.searchsorted(cumwidths_pos, target_value, side=\"right\")\n",
    "\n",
    "    marginal_cac09.append(heights_pos[min(index_val, len(heights_pos))])\n",
    "\n",
    "    target_value = 0.8 * cumwidths_pos[-1]\n",
    "    index_val = np.searchsorted(cumwidths_pos, target_value, side=\"right\")\n",
    "    marginal_cac08.append(heights_pos[min(index_val, len(heights_pos))])\n",
    "\n",
    "    target_value = 0.5 * cumwidths_pos[-1]\n",
    "    index_val = np.searchsorted(cumwidths_pos, target_value, side=\"right\")\n",
    "    marginal_cac05.append(heights_pos[min(index_val, len(heights_pos))])\n",
    "\n",
    "    marginal_cac.append(max(heights_pos))\n",
    "\n",
    "    scc.append(500 / (1.035 ** (2050 - year)))\n",
    "\n",
    "\n",
    "ax.plot(years, marginal_cac, color=\"black\", label=\"Marginal Abatement Cost €/tCO2\")\n",
    "ax.plot(years, marginal_cac09, color=\"navy\", label=\"9th decile Abatement Cost €/tCO2\")\n",
    "ax.plot(years, marginal_cac08, color=\"red\", label=\"8th decile Abatement Cost €/tCO2\")\n",
    "ax.plot(years, marginal_cac05, color=\"deeppink\", label=\"Median Abatement Cost €/tCO2\")\n",
    "ax.plot(\n",
    "    years,\n",
    "    scc,\n",
    "    color=\"orange\",\n",
    "    linestyle=\"--\",\n",
    "    label=\"SCC following hotelling rule, @ 500€/tCO2 in 2050, r=3.5%\",\n",
    ")\n",
    "\n",
    "ax.set_ylim(-500, 2200)\n",
    "ax.set_ylabel(\"CAC of the most expensive lever activated\")\n",
    "ax.set_xlabel(\"Year\")\n",
    "\n",
    "ax.grid()\n",
    "ax.legend()"
   ]
  },
  {
   "cell_type": "code",
   "execution_count": null,
   "metadata": {},
   "outputs": [],
   "source": [
    "import matplotlib.pyplot as plt\n",
    "import pandas as pd\n",
    "import matplotlib.patches as mpatches\n",
    "\n",
    "\n",
    "def update_plot(year):\n",
    "\n",
    "    plt.clf()\n",
    "    fig, ax = plt.subplots(figsize=(15, 10))\n",
    "\n",
    "    macc_df = macc_dict[year]\n",
    "\n",
    "    maccneg_df = macc_df[macc_df[\"abatement_effective\"] < 0]\n",
    "    maccpos_df = macc_df[macc_df[\"abatement_effective\"] > 0]\n",
    "\n",
    "    ##### POS ######\n",
    "\n",
    "    heights_pos = maccpos_df[\"carbon_abatement_cost\"].to_list()\n",
    "    names_pos = maccpos_df.index.to_list()\n",
    "    heights_pos.insert(0, 0)\n",
    "    heights_pos.append(heights_pos[-1])\n",
    "\n",
    "    # # MAx effective maccpos\n",
    "    widths_effective_pos = maccpos_df[\"abatement_effective\"].to_list()\n",
    "    widths_effective_pos.insert(0, 0)\n",
    "    widths_effective_pos.append(widths_effective_pos[-1])\n",
    "\n",
    "    colors_pos = maccpos_df[\"colors\"].to_list()\n",
    "\n",
    "    maccpos_curve = ax.step(\n",
    "        np.cumsum(widths_effective_pos) - widths_effective_pos,\n",
    "        heights_pos,\n",
    "        where=\"post\",\n",
    "        color=\"#335C67\",\n",
    "        label=\"Marginal abatement cost\",\n",
    "        linewidth=1,\n",
    "    )\n",
    "\n",
    "    for i in range(len(widths_effective_pos) - 2):\n",
    "        x_position = (\n",
    "            np.cumsum(widths_effective_pos)[i] + np.cumsum(widths_effective_pos)[i + 1]\n",
    "        ) / 2\n",
    "        y_position = min(2000 - 10, heights_pos[i + 1] + 5)\n",
    "        ax.text(\n",
    "            x_position,\n",
    "            y_position,\n",
    "            f\"{names_pos[i]}\\n {int(heights_pos[i + 1])}\",\n",
    "            rotation=0,\n",
    "            size=8,\n",
    "            ha=\"center\",\n",
    "            va=\"center\",\n",
    "        )\n",
    "\n",
    "    # Fill under the step plot with different colors for each step\n",
    "    for i in range(0, (len(widths_effective_pos) - 2)):\n",
    "        # Create a polygon for each step\n",
    "        polygon = plt.Polygon(\n",
    "            [\n",
    "                (np.cumsum(widths_effective_pos)[i], 0),\n",
    "                (np.cumsum(widths_effective_pos)[i], heights_pos[i + 1]),\n",
    "                (np.cumsum(widths_effective_pos)[i + 1], heights_pos[i + 1]),\n",
    "                (np.cumsum(widths_effective_pos)[i + 1], 0),\n",
    "            ],\n",
    "            closed=True,\n",
    "            alpha=1,\n",
    "            facecolor=colors_pos[i],\n",
    "            edgecolor=\"#335C67\",\n",
    "            linewidth=1,\n",
    "            linestyle=\"--\",\n",
    "        )\n",
    "        ax.add_patch(polygon)\n",
    "\n",
    "    ##### NEG #####\n",
    "\n",
    "    heights_neg = maccneg_df[\"carbon_abatement_cost\"].to_list()\n",
    "    names_neg = maccneg_df.index.to_list()\n",
    "\n",
    "    heights_neg.append(0)\n",
    "    heights_neg.insert(0, heights_neg[0])\n",
    "\n",
    "    # # MAx effective maccneg\n",
    "    widths_effective_neg = maccneg_df[\"abatement_effective\"].to_list()\n",
    "\n",
    "    widths_effective_neg.insert(0, 0)\n",
    "    widths_effective_neg.append(0)\n",
    "\n",
    "    colors_neg = maccneg_df[\"colors\"].to_list()\n",
    "\n",
    "    maccneg_curve = ax.step(\n",
    "        np.cumsum(widths_effective_neg)[-1]\n",
    "        - np.cumsum(widths_effective_neg)\n",
    "        + widths_effective_neg,\n",
    "        heights_neg,\n",
    "        where=\"post\",\n",
    "        color=\"#335C67\",\n",
    "        label=\"Marginal emission cost\",\n",
    "        linewidth=1,\n",
    "    )\n",
    "\n",
    "    for i in range(len(widths_effective_neg) - 2):\n",
    "        x_position = (\n",
    "            np.cumsum(widths_effective_neg)[-1]\n",
    "            - (np.cumsum(widths_effective_neg)[i] + np.cumsum(widths_effective_neg)[i + 1]) / 2\n",
    "        )\n",
    "        y_position = max(-2000 + 10, heights_neg[i + 1] + 5)\n",
    "        ax.text(\n",
    "            x_position,\n",
    "            y_position,\n",
    "            f\"{names_neg[i]}\\n {int(heights_neg[i + 1])}\",\n",
    "            rotation=0,\n",
    "            size=8,\n",
    "            ha=\"center\",\n",
    "            va=\"center\",\n",
    "        )\n",
    "\n",
    "    # Fill under the step plot with different colors for each step\n",
    "    for i in range(0, (len(widths_effective_neg) - 2)):\n",
    "        # Create a polygon for each step\n",
    "        polygon = plt.Polygon(\n",
    "            [\n",
    "                (np.cumsum(widths_effective_neg)[-1] - np.cumsum(widths_effective_neg)[i], 0),\n",
    "                (\n",
    "                    np.cumsum(widths_effective_neg)[-1] - np.cumsum(widths_effective_neg)[i],\n",
    "                    heights_neg[i + 1],\n",
    "                ),\n",
    "                (\n",
    "                    np.cumsum(widths_effective_neg)[-1] - np.cumsum(widths_effective_neg)[i + 1],\n",
    "                    heights_neg[i + 1],\n",
    "                ),\n",
    "                (np.cumsum(widths_effective_neg)[-1] - np.cumsum(widths_effective_neg)[i + 1], 0),\n",
    "            ],\n",
    "            closed=True,\n",
    "            alpha=1,\n",
    "            facecolor=colors_neg[i],\n",
    "            edgecolor=\"#335C67\",\n",
    "            linewidth=1,\n",
    "            linestyle=\"--\",\n",
    "        )\n",
    "        ax.add_patch(polygon)\n",
    "\n",
    "    ax.set_ylabel(\"Carbon Abatement Cost (€/t$\\mathregular{CO_2}$)\")\n",
    "    ax.set_xlabel(\"$\\mathregular{CO_2}$ abatted (Mt)\")\n",
    "\n",
    "    ax.axhline(0, color=\"black\", linestyle=\"--\", linewidth=2)\n",
    "\n",
    "    ax.axvline(0, color=\"black\", linestyle=\"--\", linewidth=2)\n",
    "\n",
    "    legend_patches_1 = [\n",
    "        mpatches.Patch(color=\"gold\", alpha=1, label=\"Short-Range Efficiency\"),\n",
    "        mpatches.Patch(color=\"goldenrod\", alpha=1, label=\"Medium-Range Efficiency\"),\n",
    "        mpatches.Patch(color=\"darkgoldenrod\", alpha=1, label=\"Long-Range Efficiecny\"),\n",
    "        mpatches.Patch(color=\"yellowgreen\", alpha=1, label=\"Energy\"),\n",
    "        mpatches.Patch(color=\"orange\", alpha=1, label=\"Operations\"),\n",
    "    ]\n",
    "\n",
    "    ax.add_artist(ax.legend(handles=legend_patches_1, title=\"Type of lever\", loc=\"upper right\"))\n",
    "\n",
    "    ax.set_xlim(\n",
    "        np.cumsum(widths_effective_neg)[-1] - 50,\n",
    "        np.cumsum(widths_effective_pos)[len(widths_effective_pos) - 2] + 50,\n",
    "    )\n",
    "\n",
    "    ax.axvspan(xmin=ax.get_xlim()[0], xmax=0, facecolor=\"red\", alpha=0.1, clip_on=True)\n",
    "    ax.axvspan(xmin=0, xmax=ax.get_xlim()[1], facecolor=\"blue\", alpha=0.1, clip_on=True)\n",
    "\n",
    "    legend_patches = [\n",
    "        mpatches.Patch(\n",
    "            color=\"red\",\n",
    "            alpha=0.1,\n",
    "            label=\"Extra emissions zone\\nnegative abatement costs are\\nassociated with extra costs\",\n",
    "        ),\n",
    "        mpatches.Patch(color=\"blue\", alpha=0.1, label=\"Carbon abatement zone\"),\n",
    "    ]\n",
    "    ax.set_ylim(\n",
    "        max(-2000, min(min(heights_pos), min(heights_neg)) - 50),\n",
    "        min(2000, max(max(heights_neg), max(heights_pos)) + 50),\n",
    "    )\n",
    "\n",
    "    ax.legend(handles=legend_patches, loc=\"upper left\")\n",
    "\n",
    "    ax.grid()\n",
    "    plt.show()\n",
    "    return macc_df"
   ]
  },
  {
   "cell_type": "code",
   "execution_count": null,
   "metadata": {},
   "outputs": [],
   "source": [
    "from ipywidgets import interact\n",
    "\n",
    "# Use interactive to create the slider widget\n",
    "a = interact(update_plot, year=(2020, 2050, 1))"
   ]
  },
  {
   "cell_type": "code",
   "execution_count": null,
   "metadata": {
    "tags": []
   },
   "outputs": [],
   "source": [
    "vol = pd.DataFrame()\n",
    "vol2 = pd.DataFrame()\n",
    "vol1 = pd.DataFrame()\n",
    "for category, sets in process.fleet_model.all_aircraft_elements.items():\n",
    "\n",
    "    category_recent_reference = process.fleet_model.all_aircraft_elements[category][1]\n",
    "    category_old_reference = process.fleet_model.all_aircraft_elements[category][0]\n",
    "\n",
    "    for aircraft_var in sets:\n",
    "        if hasattr(aircraft_var, \"parameters\"):\n",
    "            aircraft_var_name = aircraft_var.parameters.full_name\n",
    "            aircraft_ask = (\n",
    "                process.fleet_model.df.loc[:, aircraft_var_name + \":aircraft_rpk\"]\n",
    "                / process.vector_outputs_df.load_factor[2019]\n",
    "                * 100\n",
    "            )\n",
    "            aircraft_energy = (\n",
    "                1 + float(aircraft_var.parameters.consumption_evolution) / 100\n",
    "            ) * category_recent_reference.energy_per_ask\n",
    "            aircraft_abate = process.fleet_model.df.loc[\n",
    "                :, aircraft_var_name + \":aircraft_carbon_abatement_volume\"\n",
    "            ]\n",
    "            aircraft_share = process.fleet_model.df.loc[:, aircraft_var_name + \":aircraft_share\"]\n",
    "\n",
    "        else:\n",
    "            aircraft_var_name = aircraft_var.full_name\n",
    "            aircraft_energy = aircraft_var.energy_per_ask\n",
    "            aircraft_ask = (\n",
    "                process.fleet_model.df.loc[:, aircraft_var_name + \":aircraft_rpk\"]\n",
    "                / process.vector_outputs_df.load_factor[2019]\n",
    "                * 100\n",
    "            )\n",
    "            aircraft_abate = process.fleet_model.df.loc[\n",
    "                :, aircraft_var_name + \":aircraft_carbon_abatement_volume\"\n",
    "            ]\n",
    "            aircraft_share = process.fleet_model.df.loc[:, aircraft_var_name + \":aircraft_share\"]\n",
    "\n",
    "        vol = pd.concat([vol, aircraft_energy * aircraft_ask], axis=1)\n",
    "        vol1 = pd.concat([vol1, aircraft_abate], axis=1)\n",
    "        vol2 = pd.concat([vol2, aircraft_share * aircraft_energy], axis=1)"
   ]
  },
  {
   "cell_type": "code",
   "execution_count": null,
   "metadata": {
    "tags": []
   },
   "outputs": [],
   "source": [
    "vol1.sum(axis=1)"
   ]
  },
  {
   "cell_type": "code",
   "execution_count": null,
   "metadata": {
    "tags": []
   },
   "outputs": [],
   "source": [
    "process.vector_outputs_df.energy_per_ask_without_operations_short_range_dropin_fuel[2019]"
   ]
  },
  {
   "cell_type": "code",
   "execution_count": null,
   "metadata": {
    "tags": []
   },
   "outputs": [],
   "source": [
    "vol1.sum(axis=1) / 1e6"
   ]
  },
  {
   "cell_type": "code",
   "execution_count": null,
   "metadata": {
    "tags": []
   },
   "outputs": [],
   "source": [
    "(\n",
    "    (\n",
    "        process.vector_outputs_df[\"co2_emissions_2019technology\"]\n",
    "        - process.vector_outputs_df[\n",
    "            \"co2_emissions_including_aircraft_efficiency\"\n",
    "            # \"co2_emissions_including_operations\"\n",
    "            # \"co2_emissions_including_load_factor\"\n",
    "            # \"co2_emissions_including_energy\"\n",
    "        ]\n",
    "    )\n",
    ")"
   ]
  },
  {
   "cell_type": "code",
   "execution_count": null,
   "metadata": {
    "tags": []
   },
   "outputs": [],
   "source": [
    "# emissions référence ==> OK!!!\n",
    "(\n",
    "    process.vector_outputs_df[\"co2_emissions_2019technology\"] * 1e12\n",
    "    - (\n",
    "        process.vector_outputs_df.kerosene_emission_factor\n",
    "        * process.vector_outputs_df.energy_per_ask_without_operations_short_range_dropin_fuel[2019]\n",
    "        * process.vector_outputs_df.rpk_short_range\n",
    "        / process.vector_outputs_df.load_factor[2019]\n",
    "        * 100\n",
    "    )\n",
    "    - (\n",
    "        process.vector_outputs_df.kerosene_emission_factor\n",
    "        * process.vector_outputs_df.energy_per_ask_without_operations_medium_range_dropin_fuel[2019]\n",
    "        * process.vector_outputs_df.rpk_medium_range\n",
    "        / process.vector_outputs_df.load_factor[2019]\n",
    "        * 100\n",
    "    )\n",
    "    - (\n",
    "        process.vector_outputs_df.kerosene_emission_factor\n",
    "        * process.vector_outputs_df.energy_per_ask_without_operations_long_range_dropin_fuel[2019]\n",
    "        * process.vector_outputs_df.rpk_long_range\n",
    "        / process.vector_outputs_df.load_factor[2019]\n",
    "        * 100\n",
    "    )\n",
    ")"
   ]
  },
  {
   "cell_type": "code",
   "execution_count": null,
   "metadata": {
    "tags": []
   },
   "outputs": [],
   "source": [
    "## MARCHE PAR CALCUL DETOURNé!\n",
    "\n",
    "\n",
    "(\n",
    "    (\n",
    "        process.vector_outputs_df[\"co2_emissions_2019technology\"]\n",
    "        - process.vector_outputs_df[\n",
    "            \"co2_emissions_including_aircraft_efficiency\"\n",
    "            # \"co2_emissions_including_operations\"\n",
    "            # \"co2_emissions_including_load_factor\"\n",
    "            # \"co2_emissions_including_energy\"\n",
    "        ]\n",
    "    )\n",
    ") * 1e12 - (\n",
    "    (\n",
    "        process.vector_outputs_df.kerosene_emission_factor\n",
    "        * process.vector_outputs_df.energy_per_ask_without_operations_short_range_dropin_fuel[2019]\n",
    "        * process.vector_outputs_df.rpk_short_range\n",
    "        / process.vector_outputs_df.load_factor[2019]\n",
    "        * 100\n",
    "    )\n",
    "    + (\n",
    "        process.vector_outputs_df.kerosene_emission_factor\n",
    "        * process.vector_outputs_df.energy_per_ask_without_operations_medium_range_dropin_fuel[2019]\n",
    "        * process.vector_outputs_df.rpk_medium_range\n",
    "        / process.vector_outputs_df.load_factor[2019]\n",
    "        * 100\n",
    "    )\n",
    "    + (\n",
    "        process.vector_outputs_df.kerosene_emission_factor\n",
    "        * process.vector_outputs_df.energy_per_ask_without_operations_long_range_dropin_fuel[2019]\n",
    "        * process.vector_outputs_df.rpk_long_range\n",
    "        / process.vector_outputs_df.load_factor[2019]\n",
    "        * 100\n",
    "    )\n",
    "    - (vol.sum(axis=1) * process.vector_outputs_df.kerosene_emission_factor)\n",
    ")"
   ]
  },
  {
   "cell_type": "code",
   "execution_count": null,
   "metadata": {
    "tags": []
   },
   "outputs": [],
   "source": [
    "# emissions totales => OK!!!\n",
    "process.vector_outputs_df[\"co2_emissions_including_aircraft_efficiency\"] * 1e12 - (\n",
    "    vol.sum(axis=1) * process.vector_outputs_df.kerosene_emission_factor\n",
    ")"
   ]
  },
  {
   "cell_type": "code",
   "execution_count": null,
   "metadata": {
    "tags": []
   },
   "outputs": [],
   "source": [
    "diff = (\n",
    "    vol.sum(axis=1)\n",
    "    / (process.vector_outputs_df.rpk / (process.vector_outputs_df.load_factor[2019] / 100))\n",
    ") - process.vector_outputs_df.energy_per_ask_mean_without_operations"
   ]
  },
  {
   "cell_type": "code",
   "execution_count": null,
   "metadata": {
    "tags": []
   },
   "outputs": [],
   "source": [
    "diff"
   ]
  },
  {
   "cell_type": "code",
   "execution_count": null,
   "metadata": {
    "tags": []
   },
   "outputs": [],
   "source": [
    "diff * process.vector_outputs_df.rpk / (\n",
    "    process.vector_outputs_df.load_factor[2019] / 100\n",
    ") * process.vector_outputs_df.kerosene_emission_factor"
   ]
  },
  {
   "cell_type": "code",
   "execution_count": null,
   "metadata": {
    "tags": []
   },
   "outputs": [],
   "source": [
    "process.fleet_model.df"
   ]
  },
  {
   "cell_type": "code",
   "execution_count": null,
   "metadata": {
    "tags": []
   },
   "outputs": [],
   "source": [
    "process.vector_outputs_df.energy_per_ask_mean.loc[\n",
    "    2020 - 1\n",
    "] / process.vector_outputs_df.energy_per_ask_mean_without_operations.loc[2020 - 1]"
   ]
  },
  {
   "cell_type": "code",
   "execution_count": null,
   "metadata": {
    "tags": []
   },
   "outputs": [],
   "source": [
    "process.plot(\"air_transport_co2_emissions\", save=False)"
   ]
  },
  {
   "cell_type": "code",
   "execution_count": null,
   "metadata": {},
   "outputs": [],
   "source": []
  }
 ],
 "metadata": {
  "celltoolbar": "Diaporama",
  "kernelspec": {
   "display_name": "Python 3 (ipykernel)",
   "language": "python",
   "name": "python3"
  },
  "language_info": {
   "codemirror_mode": {
    "name": "ipython",
    "version": 3
   },
   "file_extension": ".py",
   "mimetype": "text/x-python",
   "name": "python",
   "nbconvert_exporter": "python",
   "pygments_lexer": "ipython3",
   "version": "3.9.18"
  }
 },
 "nbformat": 4,
 "nbformat_minor": 4
}
