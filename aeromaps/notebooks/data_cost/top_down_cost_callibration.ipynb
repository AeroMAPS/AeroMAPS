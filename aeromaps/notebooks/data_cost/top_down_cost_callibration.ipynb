{
 "cells": [
  {
   "cell_type": "markdown",
   "metadata": {},
   "source": [
    "# Callibration of simple energy cost models with original MFSP calculations"
   ]
  },
  {
   "cell_type": "markdown",
   "metadata": {
    "slideshow": {
     "slide_type": "slide"
    }
   },
   "source": [
    "## Load and process complex models"
   ]
  },
  {
   "cell_type": "code",
   "execution_count": null,
   "metadata": {
    "slideshow": {
     "slide_type": "subslide"
    },
    "tags": []
   },
   "outputs": [],
   "source": [
    "%matplotlib widget\n",
    "from aeromaps import create_process\n",
    "from aeromaps.core.models import (\n",
    "    models_traffic,\n",
    "    models_efficiency_top_down,\n",
    "    models_energy_without_fuel_effect,\n",
    "    models_offset,\n",
    "    models_climate_simple_gwpstar,\n",
    "    models_sustainability,\n",
    "    models_energy_cost_complex,\n",
    "    models_energy_cost_simple,\n",
    ")"
   ]
  },
  {
   "cell_type": "code",
   "execution_count": null,
   "metadata": {
    "tags": []
   },
   "outputs": [],
   "source": [
    "models = {\n",
    "    \"models_traffic\": models_traffic,\n",
    "    \"models_efficiency_top_down\": models_efficiency_top_down,\n",
    "    \"models_energy_without_fuel_effect\": models_energy_without_fuel_effect,\n",
    "    \"models_offset\": models_offset,\n",
    "    \"models_climate_simple_gwpstar\": models_climate_simple_gwpstar,\n",
    "    \"models_sustainability\": models_sustainability,\n",
    "    \"models_energy_cost_complex\": models_energy_cost_complex,\n",
    "}"
   ]
  },
  {
   "cell_type": "code",
   "execution_count": null,
   "metadata": {
    "slideshow": {
     "slide_type": "subslide"
    },
    "tags": []
   },
   "outputs": [],
   "source": [
    "process = create_process(models=models)"
   ]
  },
  {
   "cell_type": "markdown",
   "metadata": {
    "slideshow": {
     "slide_type": "slide"
    }
   },
   "source": [
    "## Set up variables\n",
    "\n",
    "A scenario is defined with MFSP energy models using default aeromaps assumptions.\n",
    "\n",
    "***Non-representative share ensuring permanent production (and thus calculus of MFSP) of each fuel are taken below.***"
   ]
  },
  {
   "cell_type": "markdown",
   "metadata": {},
   "source": [
    " In the following, some main parameters are for instance set up."
   ]
  },
  {
   "cell_type": "code",
   "execution_count": null,
   "metadata": {
    "slideshow": {
     "slide_type": "subslide"
    },
    "tags": []
   },
   "outputs": [],
   "source": [
    "# Aircraft energy - Introduction of alternative drop-in fuels\n",
    "\n",
    "## Share of alternative fuels in the drop-in fuel mix (the rest being supplemented by kerosene) [%]\n",
    "process.parameters.biofuel_share_reference_years = []\n",
    "process.parameters.biofuel_share_reference_years_values = [30.0]\n",
    "process.parameters.electrofuel_share_reference_years = []\n",
    "process.parameters.electrofuel_share_reference_years_values = [30.0]\n",
    "\n",
    "process.parameters.hydrogen_final_market_share_short_range = 50.0  # [%]\n",
    "process.parameters.hydrogen_introduction_year_short_range = 2020\n",
    "process.parameters.fleet_renewal_duration = 20.0"
   ]
  },
  {
   "cell_type": "code",
   "execution_count": null,
   "metadata": {
    "slideshow": {
     "slide_type": "subslide"
    },
    "tags": []
   },
   "outputs": [],
   "source": [
    "# Various environmental settings\n",
    "\n",
    "## Share of biofuel production pathways (the rest being completed by AtJ processes) [%]\n",
    "process.parameters.biofuel_hefa_fog_share_reference_years = []\n",
    "process.parameters.biofuel_hefa_fog_share_reference_years_values = [20]\n",
    "process.parameters.biofuel_hefa_others_share_reference_years = []\n",
    "process.parameters.biofuel_hefa_others_share_reference_years_values = [20]\n",
    "process.parameters.biofuel_ft_others_share_reference_years = []\n",
    "process.parameters.biofuel_ft_others_share_reference_years_values = [20]\n",
    "process.parameters.biofuel_ft_msw_share_reference_years = []\n",
    "process.parameters.biofuel_ft_msw_share_reference_years_values = [20]\n",
    "\n",
    "\n",
    "process.parameters.hydrogen_electrolysis_share_reference_years = []\n",
    "process.parameters.hydrogen_electrolysis_share_reference_years_values = [20]\n",
    "process.parameters.hydrogen_gas_ccs_share_reference_years = []\n",
    "process.parameters.hydrogen_gas_ccs_share_reference_years_values = [20]\n",
    "process.parameters.hydrogen_coal_ccs_share_reference_years = []\n",
    "process.parameters.hydrogen_coal_ccs_share_reference_years_values = [20]\n",
    "process.parameters.hydrogen_gas_share_reference_years = []\n",
    "process.parameters.hydrogen_gas_share_reference_years_values = [20]\n",
    "\n",
    "\n",
    "process.parameters.carbon_tax_reference_years = [2020, 2040]\n",
    "process.parameters.carbon_tax_reference_years_values = [100, 200]"
   ]
  },
  {
   "cell_type": "markdown",
   "metadata": {
    "slideshow": {
     "slide_type": "slide"
    }
   },
   "source": [
    "## Compute\n",
    "\n",
    "Once all the parameters have been set up, the user can compute."
   ]
  },
  {
   "cell_type": "code",
   "execution_count": null,
   "metadata": {
    "slideshow": {
     "slide_type": "subslide"
    },
    "tags": []
   },
   "outputs": [],
   "source": [
    "process.compute()"
   ]
  },
  {
   "cell_type": "code",
   "execution_count": null,
   "metadata": {
    "tags": []
   },
   "outputs": [],
   "source": [
    "process.plot(\"energy_mfsp\")"
   ]
  },
  {
   "cell_type": "code",
   "execution_count": null,
   "metadata": {
    "slideshow": {
     "slide_type": "subslide"
    },
    "tags": []
   },
   "outputs": [],
   "source": [
    "h2_reference = process.data[\"vector_outputs\"][\n",
    "    [\n",
    "        \"gas_ccs_h2_mean_mfsp_kg\",\n",
    "        \"gas_h2_mean_mfsp_kg\",\n",
    "        \"coal_ccs_h2_mean_mfsp_kg\",\n",
    "        \"coal_h2_mean_mfsp_kg\",\n",
    "        \"electrolysis_h2_mean_mfsp_kg\",\n",
    "        \"liquefaction_h2_mean_mfsp_kg\",\n",
    "    ]\n",
    "].loc[[2020, 2030, 2040, 2050]]\n",
    "h2_reference"
   ]
  },
  {
   "cell_type": "code",
   "execution_count": null,
   "metadata": {},
   "outputs": [],
   "source": [
    "biofuel_reference = process.data[\"vector_outputs\"][\n",
    "    [\n",
    "        \"biofuel_atj_mfsp\",\n",
    "        \"biofuel_hefa_fog_mfsp\",\n",
    "        \"biofuel_hefa_others_mfsp\",\n",
    "        \"biofuel_ft_others_mfsp\",\n",
    "        \"biofuel_ft_msw_mfsp\",\n",
    "    ]\n",
    "].loc[[2020, 2030, 2040, 2050]]\n",
    "biofuel_reference"
   ]
  },
  {
   "cell_type": "code",
   "execution_count": null,
   "metadata": {
    "tags": []
   },
   "outputs": [],
   "source": [
    "efuel_reference = process.data[\"vector_outputs\"][[\"electrofuel_mean_mfsp_litre\"]].loc[\n",
    "    [2020, 2030, 2040, 2050]\n",
    "]\n",
    "efuel_reference"
   ]
  },
  {
   "cell_type": "markdown",
   "metadata": {
    "tags": []
   },
   "source": [
    "The values above are used as default inputs for AeroMAPS simple cost models.   \n",
    "An example of simple model is ran below."
   ]
  },
  {
   "cell_type": "code",
   "execution_count": null,
   "metadata": {
    "tags": []
   },
   "outputs": [],
   "source": [
    "models_simple = {\n",
    "    \"models_traffic\": models_traffic,\n",
    "    \"models_efficiency_top_down\": models_efficiency_top_down,\n",
    "    \"models_energy_without_fuel_effect\": models_energy_without_fuel_effect,\n",
    "    \"models_offset\": models_offset,\n",
    "    \"models_climate_simple_gwpstar\": models_climate_simple_gwpstar,\n",
    "    \"models_sustainability\": models_sustainability,\n",
    "    \"models_energy_cost_complex\": models_energy_cost_simple,\n",
    "}\n",
    "\n",
    "process_simple = create_process(models=models_simple)\n",
    "\n",
    "### SAme input parameters as above:\n",
    "\n",
    "## Share of alternative fuels in the drop-in fuel mix (the rest being supplemented by kerosene) [%]\n",
    "process_simple.parameters.biofuel_share_reference_years = []\n",
    "process_simple.parameters.biofuel_share_reference_years_values = [30.0]\n",
    "process_simple.parameters.electrofuel_share_reference_years = []\n",
    "process_simple.parameters.electrofuel_share_reference_years_values = [30.0]\n",
    "\n",
    "process_simple.parameters.hydrogen_final_market_share_short_range = 50.0  # [%]\n",
    "process_simple.parameters.hydrogen_introduction_year_short_range = 2020\n",
    "process_simple.parameters.fleet_renewal_duration = 20.0\n",
    "\n",
    "# Various environmental settings\n",
    "\n",
    "## Share of biofuel production pathways (the rest being completed by AtJ processes) [%]\n",
    "process_simple.parameters.biofuel_hefa_fog_share_reference_years = []\n",
    "process_simple.parameters.biofuel_hefa_fog_share_reference_years_values = [20]\n",
    "process_simple.parameters.biofuel_hefa_others_share_reference_years = []\n",
    "process_simple.parameters.biofuel_hefa_others_share_reference_years_values = [20]\n",
    "process_simple.parameters.biofuel_ft_others_share_reference_years = []\n",
    "process_simple.parameters.biofuel_ft_others_share_reference_years_values = [20]\n",
    "process_simple.parameters.biofuel_ft_msw_share_reference_years = []\n",
    "process_simple.parameters.biofuel_ft_msw_share_reference_years_values = [20]\n",
    "\n",
    "\n",
    "process_simple.parameters.hydrogen_electrolysis_share_reference_years = []\n",
    "process_simple.parameters.hydrogen_electrolysis_share_reference_years_values = [20]\n",
    "process_simple.parameters.hydrogen_gas_ccs_share_reference_years = []\n",
    "process_simple.parameters.hydrogen_gas_ccs_share_reference_years_values = [20]\n",
    "process_simple.parameters.hydrogen_coal_ccs_share_reference_years = []\n",
    "process_simple.parameters.hydrogen_coal_ccs_share_reference_years_values = [20]\n",
    "process_simple.parameters.hydrogen_gas_share_reference_years = []\n",
    "process_simple.parameters.hydrogen_gas_share_reference_years_values = [20]\n",
    "\n",
    "process_simple.parameters.carbon_tax_reference_years = [2020, 2040]\n",
    "process_simple.parameters.carbon_tax_reference_years_values = [100, 200]\n",
    "\n",
    "\n",
    "### default simple callibration parameters (in parameters.json), rewritten here as an example\n",
    "\n",
    "process_simple.parameters.biofuel_hefa_fog_mfsp_simple_reference_years = []\n",
    "process_simple.parameters.biofuel_hefa_fog_mfsp_simple_reference_years_values = [0.815488]\n",
    "process_simple.parameters.biofuel_hefa_others_mfsp_simple_reference_years = []\n",
    "process_simple.parameters.biofuel_hefa_others_mfsp_simple_reference_years_values = [1.052703]\n",
    "process_simple.parameters.biofuel_ft_others_mfsp_simple_reference_years = []\n",
    "process_simple.parameters.biofuel_ft_others_mfsp_simple_reference_years_values = [1.378082]\n",
    "process_simple.parameters.biofuel_ft_msw_mfsp_simple_reference_years = []\n",
    "process_simple.parameters.biofuel_ft_msw_mfsp_simple_reference_years_values = [1.142423]\n",
    "process_simple.parameters.biofuel_atj_mfsp_simple_reference_years = []\n",
    "process_simple.parameters.biofuel_atj_mfsp_simple_reference_years_values = [1.38668]\n",
    "process_simple.parameters.gh2_electrolysis_mfsp_simple_reference_years = [2020, 2030, 2040, 2050]\n",
    "process_simple.parameters.gh2_electrolysis_mfsp_simple_reference_years_values = [\n",
    "    5.047140,\n",
    "    4.994914,\n",
    "    4.949078,\n",
    "    4.924813,\n",
    "]\n",
    "process_simple.parameters.gh2_gas_ccs_mfsp_simple_reference_years = [2020, 2030, 2040, 2050]\n",
    "process_simple.parameters.gh2_gas_ccs_mfsp_simple_reference_years_values = [\n",
    "    1.046076,\n",
    "    1.335932,\n",
    "    1.287622,\n",
    "    1.239313,\n",
    "]\n",
    "process_simple.parameters.gh2_gas_mfsp_simple_reference_years = [2020, 2030, 2040, 2050]\n",
    "process_simple.parameters.gh2_gas_mfsp_simple_reference_years_values = [\n",
    "    0.664742,\n",
    "    0.927900,\n",
    "    0.884040,\n",
    "    0.840180,\n",
    "]\n",
    "process_simple.parameters.gh2_coal_ccs_mfsp_simple_reference_years = [2020, 2030, 2040, 2050]\n",
    "process_simple.parameters.gh2_coal_ccs_mfsp_simple_reference_years_values = [\n",
    "    1.596797,\n",
    "    1.579555,\n",
    "    1.562314,\n",
    "    1.550820,\n",
    "]\n",
    "process_simple.parameters.gh2_coal_mfsp_simple_reference_years = [2020, 2030, 2040, 2050]\n",
    "process_simple.parameters.gh2_coal_mfsp_simple_reference_years_values = [\n",
    "    1.535725,\n",
    "    1.519058,\n",
    "    1.502391,\n",
    "    1.491280,\n",
    "]\n",
    "process_simple.parameters.liquefaction_mfsp_simple_reference_years = [2020, 2030, 2040, 2050]\n",
    "process_simple.parameters.liquefaction_mfsp_simple_reference_years_values = [\n",
    "    1.378511,\n",
    "    1.378511,\n",
    "    1.378511,\n",
    "    1.378511,\n",
    "]\n",
    "process_simple.parameters.electrofuel_mfsp_simple_reference_years = []\n",
    "process_simple.parameters.electrofuel_mfsp_simple_reference_years_values = [3.504428]"
   ]
  },
  {
   "cell_type": "code",
   "execution_count": null,
   "metadata": {
    "tags": []
   },
   "outputs": [],
   "source": [
    "process_simple.compute()"
   ]
  },
  {
   "cell_type": "code",
   "execution_count": null,
   "metadata": {
    "tags": []
   },
   "outputs": [],
   "source": [
    "h2_simple = process_simple.data[\"vector_outputs\"][\n",
    "    [\n",
    "        \"gas_ccs_h2_mean_mfsp_kg\",\n",
    "        \"gas_h2_mean_mfsp_kg\",\n",
    "        \"coal_ccs_h2_mean_mfsp_kg\",\n",
    "        \"coal_h2_mean_mfsp_kg\",\n",
    "        \"electrolysis_h2_mean_mfsp_kg\",\n",
    "        \"liquefaction_h2_mean_mfsp_kg\",\n",
    "    ]\n",
    "].loc[[2020, 2030, 2040, 2050]]"
   ]
  },
  {
   "cell_type": "code",
   "execution_count": null,
   "metadata": {},
   "outputs": [],
   "source": [
    "biofuel_simple = process_simple.data[\"vector_outputs\"][\n",
    "    [\n",
    "        \"biofuel_atj_mfsp\",\n",
    "        \"biofuel_hefa_fog_mfsp\",\n",
    "        \"biofuel_hefa_others_mfsp\",\n",
    "        \"biofuel_ft_others_mfsp\",\n",
    "        \"biofuel_ft_msw_mfsp\",\n",
    "    ]\n",
    "].loc[[2020, 2030, 2040, 2050]]"
   ]
  },
  {
   "cell_type": "code",
   "execution_count": null,
   "metadata": {
    "tags": []
   },
   "outputs": [],
   "source": [
    "efuel_simple = process_simple.data[\"vector_outputs\"][[\"electrofuel_mean_mfsp_litre\"]].loc[\n",
    "    [2020, 2030, 2040, 2050]\n",
    "]"
   ]
  },
  {
   "cell_type": "markdown",
   "metadata": {},
   "source": [
    "# Evaluation on plots"
   ]
  },
  {
   "cell_type": "code",
   "execution_count": null,
   "metadata": {
    "tags": []
   },
   "outputs": [],
   "source": [
    "process.plot(\"energy_mfsp\")\n",
    "process_simple.plot(\"energy_mfsp\")"
   ]
  },
  {
   "cell_type": "code",
   "execution_count": null,
   "metadata": {
    "tags": []
   },
   "outputs": [],
   "source": [
    "process_simple.plot(\"energy_expenses_with_carbon_tax\")\n",
    "process.plot(\"energy_expenses_with_carbon_tax\")"
   ]
  },
  {
   "cell_type": "code",
   "execution_count": null,
   "metadata": {
    "tags": []
   },
   "outputs": [],
   "source": [
    "process_simple.plot(\"energy_mfsp_with_carbon_tax\")\n",
    "process.plot(\"energy_mfsp_with_carbon_tax\")"
   ]
  },
  {
   "cell_type": "code",
   "execution_count": null,
   "metadata": {},
   "outputs": [],
   "source": []
  }
 ],
 "metadata": {
  "celltoolbar": "Diaporama",
  "kernelspec": {
   "display_name": "Python 3 (ipykernel)",
   "language": "python",
   "name": "python3"
  },
  "language_info": {
   "codemirror_mode": {
    "name": "ipython",
    "version": 3
   },
   "file_extension": ".py",
   "mimetype": "text/x-python",
   "name": "python",
   "nbconvert_exporter": "python",
   "pygments_lexer": "ipython3",
   "version": "3.9.18"
  }
 },
 "nbformat": 4,
 "nbformat_minor": 4
}
