{
 "cells": [
  {
   "cell_type": "markdown",
   "id": "23c89ead-e80d-4557-bc08-3ce5465005f9",
   "metadata": {},
   "source": [
    "Notebook for Optim application. Notebook for supplementary material of a submitted publication. \n",
    "\n",
    "### Imports and settings"
   ]
  },
  {
   "cell_type": "code",
   "execution_count": null,
   "id": "f479de1f-5757-45d7-b718-03ea76b4851f",
   "metadata": {
    "tags": []
   },
   "outputs": [],
   "source": [
    "import matplotlib.pyplot as plt\n",
    "import pandas as pd\n",
    "import numpy as np\n",
    "import json\n",
    "\n",
    "\n",
    "%matplotlib widget\n",
    "import time\n",
    "import numpy as np\n",
    "from aeromaps import create_process\n",
    "from aeromaps.core.models import (\n",
    "    models_optim_complex,\n",
    ")\n",
    "\n",
    "\n",
    "import gemseo as gm\n",
    "\n",
    "gm.configure_logger()"
   ]
  },
  {
   "cell_type": "markdown",
   "id": "927e248c-3b8e-4850-91f3-88f57d09f94e",
   "metadata": {},
   "source": [
    "# 1- Scenario initialisation and settings\n",
    "\n",
    "The first phase corresponds to running a first, central scenario with AeroMAPS. Other runs ar performed afterwards."
   ]
  },
  {
   "cell_type": "code",
   "execution_count": null,
   "id": "95709522-84bd-44a0-a63a-7374c6aeea65",
   "metadata": {
    "tags": []
   },
   "outputs": [],
   "source": [
    "from aeromaps.utils.functions import create_partitioning"
   ]
  },
  {
   "cell_type": "code",
   "execution_count": null,
   "id": "46971271-e2f4-442a-ba03-11c4398a9058",
   "metadata": {
    "tags": []
   },
   "outputs": [],
   "source": [
    "create_partitioning(file=\"data_optim/aeroscope_europe_data.csv\", path=\"data_optim\")"
   ]
  },
  {
   "cell_type": "markdown",
   "id": "221c45a8-b4b1-4650-a767-b32210de8098",
   "metadata": {},
   "source": [
    "## 2. Run AeroMAPS on this studied scope"
   ]
  },
  {
   "cell_type": "code",
   "execution_count": null,
   "id": "60e7a4d4-bd84-44d9-b649-aa0e8c86b1a1",
   "metadata": {
    "tags": []
   },
   "outputs": [],
   "source": [
    "%matplotlib widget\n",
    "from aeromaps import create_process\n",
    "from aeromaps.core.models import default_models_top_down"
   ]
  },
  {
   "cell_type": "code",
   "execution_count": null,
   "id": "2cc981cb-d0b9-41e8-99a8-912fec7d7d58",
   "metadata": {
    "tags": []
   },
   "outputs": [],
   "source": [
    "models = {\n",
    "    \"models_optim_complex\": models_optim_complex,\n",
    "}\n",
    "models[\"models_optim_complex\"][\"default_models_top_down\"][\"models_traffic\"].pop(\"rpk\")\n",
    "models[\"models_optim_complex\"][\"default_models_top_down\"][\"models_operation_cost_top_down\"].pop(\n",
    "    \"passenger_aircraft_simple_airfare\"\n",
    ")"
   ]
  },
  {
   "cell_type": "markdown",
   "id": "b397a078-2985-406d-bee8-55afd2568261",
   "metadata": {},
   "source": [
    "Create process as usual, the partitionning is recuperated as specified in the config file."
   ]
  },
  {
   "cell_type": "code",
   "execution_count": null,
   "id": "1f086770-d53a-44f3-97d0-336fd7a40cac",
   "metadata": {
    "tags": []
   },
   "outputs": [],
   "source": [
    "process = create_process(\n",
    "    configuration_file=\"data_optim/config.json\", models=models, use_fleet_model=False\n",
    ")"
   ]
  },
  {
   "cell_type": "markdown",
   "id": "0ef8e51e-dd99-4707-b2ae-86fc8d9a8e5e",
   "metadata": {
    "tags": []
   },
   "source": [
    "## 1-a) Air traffic evolution\n",
    "\n",
    "As of April 2024, AeroMAPS is considering an exgenous growth rate.\n",
    "For the purposes of this article, an uniform growth rate of 3% is set. This is significantly lower from industry prospects such as [Airbus GMF: 3.6%](https://www.airbus.com/en/products-services/commercial-aircraft/market/global-market-forecast) or [Boeing CMO: 3.8%](https://www.boeing.com/content/dam/boeing/boeingdotcom/market/assets/downloads/CMO_2022_Report_FINAL_v02.pdf), but higher than [IEA Net Zero: 2.1% (2019 as base year)](https://www.iea.org/reports/net-zero-roadmap-a-global-pathway-to-keep-the-15-0c-goal-in-reach).\n"
   ]
  },
  {
   "cell_type": "code",
   "execution_count": null,
   "id": "a5f79996-e6ef-4434-8844-11a93122c3f2",
   "metadata": {
    "tags": []
   },
   "outputs": [],
   "source": [
    "## Growth rate by category [%]\n",
    "process.parameters.cagr_passenger_short_range_reference_periods = []\n",
    "process.parameters.cagr_passenger_short_range_reference_periods_values = [1.0]\n",
    "process.parameters.cagr_passenger_medium_range_reference_periods = []\n",
    "process.parameters.cagr_passenger_medium_range_reference_periods_values = [1.0]\n",
    "process.parameters.cagr_passenger_long_range_reference_periods = []\n",
    "process.parameters.cagr_passenger_long_range_reference_periods_values = [1.0]\n",
    "process.parameters.cagr_freight_reference_periods = []\n",
    "process.parameters.cagr_freight_reference_periods_values = [1.0]\n",
    "process.parameters.reference_cagr_aviation_reference_periods = []\n",
    "process.parameters.reference_cagr_aviation_reference_periods_values = [1.0]"
   ]
  },
  {
   "cell_type": "markdown",
   "id": "99ad83c8-eb43-46a2-968b-e495905b9cd2",
   "metadata": {
    "tags": []
   },
   "source": [
    "## 1-b) Aircraft fleet\n",
    "\n",
    "Top-down fleet, without hydrogen aircraft, callibrated on the fleet of the MACC applciation, with drop-in instead of h2  \n",
    "http://localhost:8888/lab/tree/aeromaps/notebooks/data_cost/top_down_cost_callibration_phd.ipynb\n",
    "\n",
    "Mean annual efficiency improvement: 1.4% --> applied to all catgeories"
   ]
  },
  {
   "cell_type": "code",
   "execution_count": null,
   "id": "118fe016-9846-4a2a-918e-5e8f300dea99",
   "metadata": {
    "tags": []
   },
   "outputs": [],
   "source": [
    "process.parameters.energy_per_ask_short_range_dropin_fuel_gain_reference_years = []\n",
    "process.parameters.energy_per_ask_short_range_dropin_fuel_gain_reference_years_values = [1.4]\n",
    "process.parameters.energy_per_ask_medium_range_dropin_fuel_gain_reference_years = []\n",
    "process.parameters.energy_per_ask_medium_range_dropin_fuel_gain_reference_years_values = [1.4]\n",
    "process.parameters.energy_per_ask_long_range_dropin_fuel_gain_reference_years = []\n",
    "process.parameters.energy_per_ask_long_range_dropin_fuel_gain_reference_years_values = [1.4]\n",
    "\n",
    "## Hydrogen aircraft\n",
    "# NONE"
   ]
  },
  {
   "cell_type": "markdown",
   "id": "deb4792a-411b-45d9-9fd2-b97bb85a9d7c",
   "metadata": {},
   "source": [
    "### 1-c) Operational improvements\n",
    "\n",
    "Operational improvements are considered via two opportunities. \n",
    "- Load factor improvement: improvement to 89% at the end of the scenario.\n",
    "- Operational efficiency (better ATM, aircrfat MRO and operational optimisation): improvement of 8% in 25y. \n",
    "\n",
    "Cost savings incur through the fuel savings. However, it could come at an extra cost (non-energy). This parameter is modelled, but not considered in this article due to lack of specific informations to the best of our knowldege.\n"
   ]
  },
  {
   "cell_type": "code",
   "execution_count": null,
   "id": "ab476bc9-f507-4bd4-9335-1002d2977a90",
   "metadata": {
    "tags": []
   },
   "outputs": [],
   "source": [
    "process.parameters.load_factor_end_year = 89.0  # 2019 value: 82.399312"
   ]
  },
  {
   "cell_type": "code",
   "execution_count": null,
   "id": "4349dc55-808c-4ebe-a493-7210032b3fb8",
   "metadata": {
    "tags": []
   },
   "outputs": [],
   "source": [
    "# Aircraft fleet and operation evolution - Operations\n",
    "\n",
    "## Values for setting the logistic function\n",
    "process.parameters.operations_final_gain = 8.0  # [%]\n",
    "process.parameters.operations_start_year = 2025\n",
    "process.parameters.operations_duration = 25.0"
   ]
  },
  {
   "cell_type": "markdown",
   "id": "4e060f89-e3c6-43a8-bc64-61399941760a",
   "metadata": {},
   "source": [
    "## 1-d) Energy\n",
    "\n",
    "Top-down callibrated on the values of teh MACC apllication.\n",
    "Faster optim but caution as MFSP full computation is more detailled: larges use of e-fuel in the begining influence late mFSp (no-decomissioning)"
   ]
  },
  {
   "cell_type": "code",
   "execution_count": null,
   "id": "3d71b69d-b5c6-4607-b760-7930973671b9",
   "metadata": {
    "slideshow": {
     "slide_type": "subslide"
    },
    "tags": []
   },
   "outputs": [],
   "source": [
    "# # Energy settings: production choices\n",
    "\n",
    "# # Aircraft energy - Introduction of alternative drop-in fuels\n",
    "\n",
    "# ## Share of alternative fuels in the drop-in fuel mix (the rest being supplemented by kerosene) [%]\n",
    "process.parameters.biofuel_share_reference_years = [2030, 2035, 2040, 2045, 2050]\n",
    "# process.parameters.biofuel_share_reference_years_values = np.array([4.8, 15, 24, 27, 35])\n",
    "process.parameters.electrofuel_share_reference_years = [2030, 2035, 2040, 2045, 2050]\n",
    "# process.parameters.electrofuel_share_reference_years_values = np.array([1.2, 5, 10, 15, 35])\n",
    "\n",
    "\n",
    "## Share of biofuel production pathways (the rest being completed by AtJ processes) [%]\n",
    "process.parameters.biofuel_hefa_fog_share_reference_years = []\n",
    "process.parameters.biofuel_hefa_fog_share_reference_years_values = [0.6]\n",
    "process.parameters.biofuel_hefa_others_share_reference_years = []\n",
    "process.parameters.biofuel_hefa_others_share_reference_years_values = [12.5]\n",
    "process.parameters.biofuel_ft_others_share_reference_years = []\n",
    "process.parameters.biofuel_ft_others_share_reference_years_values = [68.9]\n",
    "process.parameters.biofuel_ft_msw_share_reference_years = []\n",
    "process.parameters.biofuel_ft_msw_share_reference_years_values = [6.6]"
   ]
  },
  {
   "cell_type": "code",
   "execution_count": null,
   "id": "bf9baeef-47b6-4af0-9bf2-833e39ec3477",
   "metadata": {
    "slideshow": {
     "slide_type": "subslide"
    },
    "tags": []
   },
   "outputs": [],
   "source": [
    "process.parameters.biofuel_hefa_fog_mfsp_simple_reference_years = []\n",
    "process.parameters.biofuel_hefa_fog_mfsp_simple_reference_years_values = [0.815488]\n",
    "process.parameters.biofuel_hefa_others_mfsp_simple_reference_years = []\n",
    "process.parameters.biofuel_hefa_others_mfsp_simple_reference_years_values = [1.052703]\n",
    "process.parameters.biofuel_ft_others_mfsp_simple_reference_years = []\n",
    "process.parameters.biofuel_ft_others_mfsp_simple_reference_years_values = [1.378082]\n",
    "process.parameters.biofuel_ft_msw_mfsp_simple_reference_years = []\n",
    "process.parameters.biofuel_ft_msw_mfsp_simple_reference_years_values = [1.142423]\n",
    "process.parameters.biofuel_atj_mfsp_simple_reference_years = []\n",
    "process.parameters.biofuel_atj_mfsp_simple_reference_years_values = [1.38668]\n",
    "\n",
    "process.parameters.electrofuel_mfsp_simple_reference_years = [\n",
    "    2020,\n",
    "    2021,\n",
    "    2022,\n",
    "    2023,\n",
    "    2024,\n",
    "    2025,\n",
    "    2026,\n",
    "    2027,\n",
    "    2028,\n",
    "    2029,\n",
    "    2030,\n",
    "    2031,\n",
    "    2032,\n",
    "    2033,\n",
    "    2034,\n",
    "    2035,\n",
    "    2036,\n",
    "    2037,\n",
    "    2038,\n",
    "    2039,\n",
    "    2040,\n",
    "    2041,\n",
    "    2042,\n",
    "    2043,\n",
    "    2044,\n",
    "    2045,\n",
    "    2046,\n",
    "    2047,\n",
    "    2048,\n",
    "    2049,\n",
    "    2050,\n",
    "]\n",
    "process.parameters.electrofuel_mfsp_simple_reference_years_values = [\n",
    "    3.720546,\n",
    "    3.720546,\n",
    "    3.720546,\n",
    "    3.720546,\n",
    "    3.720546,\n",
    "    3.720546,\n",
    "    3.720546,\n",
    "    3.573659,\n",
    "    3.426978,\n",
    "    3.277308,\n",
    "    3.130003,\n",
    "    3.095717,\n",
    "    3.062247,\n",
    "    3.029682,\n",
    "    2.998903,\n",
    "    2.971869,\n",
    "    2.946851,\n",
    "    2.923276,\n",
    "    2.901135,\n",
    "    2.882374,\n",
    "    2.866464,\n",
    "    2.852876,\n",
    "    2.841350,\n",
    "    2.829845,\n",
    "    2.807006,\n",
    "    2.774737,\n",
    "    2.737160,\n",
    "    2.698305,\n",
    "    2.660365,\n",
    "    2.624329,\n",
    "    2.590476,\n",
    "]\n",
    "\n",
    "# Enerdata scenario europe-specific data (https://eneroutlook.enerdata.net/forecast-world-co2-intensity-of-electricity-generation.html)\n",
    "process.parameters.electricity_emission_factor_reference_years = [\n",
    "    2020,\n",
    "    2025,\n",
    "    2030,\n",
    "    2035,\n",
    "    2040,\n",
    "    2045,\n",
    "    2050,\n",
    "]\n",
    "process.parameters.electricity_emission_factor_reference_years_values = [\n",
    "    205,\n",
    "    175,\n",
    "    92,\n",
    "    47,\n",
    "    31,\n",
    "    19,\n",
    "    12,\n",
    "]\n",
    "\n",
    "# Optimisation parameters\n",
    "europe_ask_share = 15.49 / 100\n",
    "\n",
    "process.parameters.aviation_carbon_budget_objective = 2.6 * europe_ask_share  # --> sensitivity 4.8\n",
    "\n",
    "process.parameters.biomass_availability_constraint_trajectory_reference_years = [\n",
    "    2020,\n",
    "    2030,\n",
    "    2040,\n",
    "    2050,\n",
    "]\n",
    "process.parameters.biomass_availability_constraint_trajectory_reference_years_values = [\n",
    "    62.8 * europe_ask_share,\n",
    "    72.1 * europe_ask_share,\n",
    "    97.8 * europe_ask_share,\n",
    "    101.8 * europe_ask_share,\n",
    "]\n",
    "\n",
    "process.parameters.electricity_availability_constraint_trajectory_reference_years = [\n",
    "    2020,\n",
    "    2030,\n",
    "    2040,\n",
    "    2050,\n",
    "]\n",
    "process.parameters.electricity_availability_constraint_trajectory_reference_years_values = [\n",
    "    102.0456 * europe_ask_share,\n",
    "    137.5452 * europe_ask_share,\n",
    "    212.7996 * europe_ask_share,\n",
    "    276.6168 * europe_ask_share,\n",
    "]\n",
    "\n",
    "process.parameters.volume_ramp_up_constraint_biofuel = 0.2 * europe_ask_share\n",
    "process.parameters.rate_ramp_up_constraint_biofuel = 0.2\n",
    "\n",
    "process.parameters.volume_ramp_up_constraint_electrofuel = 0.2 * europe_ask_share\n",
    "process.parameters.rate_ramp_up_constraint_electrofuel = 0.2"
   ]
  },
  {
   "cell_type": "markdown",
   "id": "58589dd8-11d2-435a-bf7c-9d3cc70676b4",
   "metadata": {},
   "source": [
    "## 1-e) Other process.parameters "
   ]
  },
  {
   "cell_type": "markdown",
   "id": "0fc38e2c-be44-49a1-bbbb-97b53c0e4551",
   "metadata": {
    "tags": []
   },
   "source": [
    "Downscaling not automatic"
   ]
  },
  {
   "cell_type": "code",
   "execution_count": null,
   "id": "a4148162-d43f-4053-ab13-aece0381b050",
   "metadata": {
    "slideshow": {
     "slide_type": "subslide"
    },
    "tags": []
   },
   "outputs": [],
   "source": [
    "# Environmental limits\n",
    "\n",
    "## Carbon budgets and Carbon Dioxide Removal [GtCO2]\n",
    "process.parameters.net_carbon_budget = 850.0\n",
    "process.parameters.carbon_dioxyde_removal_2100 = 285.0"
   ]
  },
  {
   "cell_type": "code",
   "execution_count": null,
   "id": "8e8bcda3-8aad-4f27-b1ae-6277fbc7f63a",
   "metadata": {
    "slideshow": {
     "slide_type": "subslide"
    },
    "tags": []
   },
   "outputs": [],
   "source": [
    "# Allocation settings\n",
    "\n",
    "## Aviation share of the global (equivalent) carbon budget [%]\n",
    "process.parameters.aviation_carbon_budget_allocated_share = 2.6\n",
    "process.parameters.aviation_equivalentcarbonbudget_allocated_share = 5.1\n",
    "\n",
    "## Aviation share of the global energy resources (biomass and electricity) [%]\n",
    "process.parameters.aviation_biomass_allocated_share = 9.90\n",
    "process.parameters.aviation_electricity_allocated_share = 5.0"
   ]
  },
  {
   "cell_type": "code",
   "execution_count": null,
   "id": "2005dd28-609d-447c-b533-07acbc065996",
   "metadata": {},
   "outputs": [],
   "source": [
    "process.parameters.price_elasticity = -0.9"
   ]
  },
  {
   "cell_type": "markdown",
   "id": "13b2e06c-36fb-49bb-8ad6-5ca2aa130638",
   "metadata": {},
   "source": [
    "## 2 - Problem definition"
   ]
  },
  {
   "cell_type": "markdown",
   "id": "f0558667-94cd-4026-89c9-f024807cd129",
   "metadata": {},
   "source": [
    "### Cas 1 \n",
    "\n",
    "min cumulative_total_airline_cost_discounted\n",
    "\n",
    "w.r.t. biofuel_share_reference_years_values, electrofuel_share_reference_years_values, \n",
    "\n",
    "s.t. cumulative_co2_emissions, electricity_consumption, biomass_consumption, max(biofuel_share_prospective + electrofuel_share_prospective)\n",
    "\n"
   ]
  },
  {
   "cell_type": "code",
   "execution_count": null,
   "id": "7b29719b-e67b-496c-a957-5cb7a7dcd013",
   "metadata": {},
   "outputs": [],
   "source": [
    "from gemseo.algos.design_space import DesignSpace\n",
    "from gemseo import generate_n2_plot, create_scenario\n",
    "\n",
    "\n",
    "design_space = DesignSpace()\n",
    "\n",
    "# process.parameters.airfare_per_rpk=pd.Series(0.09244362820138416, index=range(2000,2051))\n",
    "\n",
    "process.setup()\n",
    "\n",
    "\n",
    "max_airfare = 0.11\n",
    "min_airfare = 0.08\n",
    "size_airfare = 6\n",
    "# airfare_init_optim = np.linspace(min_airfare, max_airfare, num=size_airfare)\n",
    "\n",
    "design_space = DesignSpace()\n",
    "design_space.add_variable(\n",
    "    \"airfare_per_rpk\",\n",
    "    size=size_airfare,\n",
    "    lower_bound=np.full(size_airfare, min_airfare),\n",
    "    upper_bound=np.full(size_airfare, max_airfare),\n",
    "    value=[0.089662, 0.089653, 0.090704, 0.093473, 0.094828, 0.095744],\n",
    ")\n",
    "\n",
    "\n",
    "# design_space.add_variable(\"electrofuel_share_reference_years_values\", size=6, lower_bound=[0, 0, 0, 0, 0, 0], upper_bound=[100, 100,100, 100, 100, 100], value=[0, 1.2, 5, 10, 15, 35])\n",
    "# design_space.add_variable(\"biofuel_share_reference_years_values\", size=6, lower_bound=[0, 0, 0, 0, 0, 0], upper_bound=[100, 100,100, 100, 100, 100], value=[2, 4.8, 15, 24, 27, 35])\n",
    "\n",
    "\n",
    "design_space.add_variable(\n",
    "    \"electrofuel_share_reference_years_values\",\n",
    "    size=5,\n",
    "    lower_bound=[1e-17, 1e-17, 1e-17, 1e-17, 1e-17],\n",
    "    upper_bound=[100, 100, 100, 100, 100],\n",
    "    value=[1.53876061e-02, 6.69531291e-02, 1.84765061e00, 8.85047992e00, 1.57302626e01],\n",
    ")\n",
    "design_space.add_variable(\n",
    "    \"biofuel_share_reference_years_values\",\n",
    "    size=5,\n",
    "    lower_bound=[1e-17, 1e-17, 1e-17, 1e-17, 1e-17],\n",
    "    upper_bound=[100, 100, 100, 100, 100],\n",
    "    value=[11.02945021, 22.64991278, 45.09265767, 50.79100536, 53.35073021],\n",
    ")\n",
    "\n",
    "\n",
    "#                   value=[ 2.95630584, 12.01966251, 24.51769195, 45.09794791, 50.85012186,\n",
    "# 53.05347661]\n",
    "\n",
    "objective_name = \"cumulative_total_surplus_loss_discounted_obj\"\n",
    "\n",
    "\n",
    "process.gemseo_settings[\"design_space\"] = design_space\n",
    "\n",
    "process.gemseo_settings[\"objective_name\"] = objective_name\n",
    "\n",
    "# process.gemseo_settings[\"scenario_type\"]=\"DOE\"\n",
    "process.gemseo_settings[\"scenario_type\"] = \"MDO\"\n",
    "\n",
    "# Create a GEMSEO scenario\n",
    "process.create_gemseo_scenario()\n",
    "\n",
    "# Set differention method (only use for gradient based optimizers)\n",
    "process.scenario.set_differentiation_method(\"finite_differences\")\n",
    "\n",
    "# Add constraints\n",
    "all_constraints = [\n",
    "    \"aviation_carbon_budget_constraint\",\n",
    "    \"blend_completeness_constraint\",\n",
    "    \"electricity_trajectory_constraint\",\n",
    "    \"biomass_trajectory_constraint\",\n",
    "    \"electrofuel_use_growth_constraint\",\n",
    "    \"biofuel_use_growth_constraint\",\n",
    "    \"biofuel_use_no_degrowth_constraint\",\n",
    "    \"electrofuel_use_no_degrowth_constraint\",\n",
    "]\n",
    "\n",
    "\n",
    "for constraint in all_constraints:\n",
    "    process.scenario.add_constraint(constraint, constraint_type=\"ineq\")\n",
    "\n",
    "process.scenario.add_constraint(\"airfare_per_rpk_real_constraint_consistency\", constraint_type=\"eq\")\n",
    "\n",
    "\n",
    "process.scenario.formulation.optimization_problem.objective = (\n",
    "    process.scenario.formulation.optimization_problem.objective * 1e-11\n",
    ")\n",
    "\n",
    "##### Base MDO -> in source for DOE [...]\n",
    "\n",
    "# Configure the algorithm used\n",
    "algo_options = {\n",
    "    \"ftol_rel\": 0.0001,\n",
    "    \"ctol_abs\": 0.0001,\n",
    "    \"ftol_abs\": 0.0001,\n",
    "    \"normalize_design_space\": True,\n",
    "    \"init_step\": 0.3,\n",
    "}\n",
    "process.scenario.options = {\"algo\": \"NLOPT_COBYLA\", \"max_iter\": 800, \"algo_options\": algo_options}"
   ]
  },
  {
   "cell_type": "code",
   "execution_count": null,
   "id": "4461ca3c-db5f-47ec-9b5c-24b23b154f77",
   "metadata": {
    "tags": []
   },
   "outputs": [],
   "source": [
    "process.compute()"
   ]
  },
  {
   "cell_type": "code",
   "execution_count": null,
   "id": "5f0b7535-ab54-4d3a-90c0-0aaa72264ddb",
   "metadata": {
    "tags": []
   },
   "outputs": [],
   "source": [
    "(0.089494 - 0.0927017806) / 0.089494"
   ]
  },
  {
   "cell_type": "code",
   "execution_count": null,
   "id": "d0c0b359-bcf2-41bc-afbb-8003f018f9f5",
   "metadata": {
    "tags": []
   },
   "outputs": [],
   "source": [
    "process.vector_outputs_df[\"airfare_per_rpk_true\"].loc[2020:2050]"
   ]
  },
  {
   "cell_type": "code",
   "execution_count": null,
   "id": "d342f6d9-a608-43cb-a8c8-e0dde5a1cf55",
   "metadata": {
    "tags": []
   },
   "outputs": [],
   "source": [
    "process.scenario.get_result().design_variable_names_to_values[\n",
    "    \"biofuel_share_reference_years_values\"\n",
    "]"
   ]
  },
  {
   "cell_type": "code",
   "execution_count": null,
   "id": "d9e2cd37-61cf-4e2b-82ef-c89d1b23c583",
   "metadata": {
    "tags": []
   },
   "outputs": [],
   "source": [
    "# magic_rpk.append(process.vector_outputs_df['rpk_no_elasticity'].loc[2050])\n",
    "\n",
    "\n",
    "# for i in range(10):\n",
    "\n",
    "#     design_space = DesignSpace()\n",
    "\n",
    "\n",
    "#     design_space.add_variable(\"electrofuel_share_reference_years_values\",\n",
    "#                               size=5,\n",
    "#                               lower_bound=[1e-17, 1e-17, 1e-17, 1e-17, 1e-17],\n",
    "#                               upper_bound=[100,100, 100, 100, 100],\n",
    "#                               value=process.scenario.get_result().design_variable_names_to_values['electrofuel_share_reference_years_values']\n",
    "#                              )\n",
    "#     design_space.add_variable(\"biofuel_share_reference_years_values\",\n",
    "#                               size=5, lower_bound=[1e-17, 1e-17, 1e-17, 1e-17, 1e-17],\n",
    "#                               upper_bound=[100,100, 100, 100, 100],\n",
    "#                               value=process.scenario.get_result().design_variable_names_to_values['biofuel_share_reference_years_values']\n",
    "#                              )\n",
    "\n",
    "\n",
    "#     pre=process.vector_outputs_df['airfare_per_rpk_true'].loc[2025:2050]\n",
    "#     process.parameters.airfare_per_rpk.loc[2025:2050]=pre\n",
    "\n",
    "#     magic_method_view.append(process.vector_outputs_df['airfare_per_rpk_true'].loc[2050])\n",
    "#     magic_rpk.append(process.vector_outputs_df['rpk'].loc[2050])\n",
    "\n",
    "\n",
    "#     process.setup()\n",
    "#     process.gemseo_settings[\"design_space\"] = design_space\n",
    "#     process.gemseo_settings[\"objective_name\"] = objective_name\n",
    "#     # process.gemseo_settings[\"scenario_type\"]=\"DOE\"\n",
    "#     process.gemseo_settings[\"scenario_type\"] = \"MDO\"\n",
    "#     # Create a GEMSEO scenario\n",
    "#     process.create_gemseo_scenario()\n",
    "#     # Set differention method (only use for gradient based optimizers)\n",
    "#     process.scenario.set_differentiation_method(\"finite_differences\")\n",
    "#     # Add constraints\n",
    "#     for constraint in all_constraints:\n",
    "#         process.scenario.add_constraint(constraint, constraint_type=\"ineq\")\n",
    "#     process.scenario.formulation.optimization_problem.objective = process.scenario.formulation.optimization_problem.objective * 1e-12\n",
    "\n",
    "#     process.scenario.options = {\n",
    "#         \"algo\": \"NLOPT_COBYLA\",\n",
    "#         \"max_iter\": 200,\n",
    "#         \"algo_options\": algo_options\n",
    "#     }\n",
    "\n",
    "#     process.compute()\n",
    "#     diff= np.linalg.norm(pre - process.vector_outputs_df['airfare_per_rpk_true'].loc[2025:2050])\n",
    "#     print(diff)\n"
   ]
  },
  {
   "cell_type": "markdown",
   "id": "15ee89f3-6718-4e51-89b3-eb261801f411",
   "metadata": {
    "slideshow": {
     "slide_type": "slide"
    },
    "tags": []
   },
   "source": [
    "# 2- Compute\n",
    "\n",
    "Run AeroMAPS process"
   ]
  },
  {
   "cell_type": "code",
   "execution_count": null,
   "id": "8896dc5f-ead6-4a45-b88c-53f94de24d6e",
   "metadata": {
    "slideshow": {
     "slide_type": "subslide"
    },
    "tags": []
   },
   "outputs": [],
   "source": [
    "# process.compute()"
   ]
  },
  {
   "cell_type": "code",
   "execution_count": null,
   "id": "b8d5ab78-1c5b-45d7-8fb6-230bad162ce0",
   "metadata": {
    "tags": []
   },
   "outputs": [],
   "source": [
    "# process.scenario_doe.get_result().optimization_problems_to_results"
   ]
  },
  {
   "cell_type": "code",
   "execution_count": null,
   "id": "83c4b7f3-6c68-42d9-82b7-3f20de63604f",
   "metadata": {
    "tags": []
   },
   "outputs": [],
   "source": [
    "process.scenario.post_process(\"OptHistoryView\", save=False, show=True)"
   ]
  },
  {
   "cell_type": "code",
   "execution_count": null,
   "id": "8de3b6cb-8e84-48a4-acb9-1277973f321d",
   "metadata": {
    "tags": []
   },
   "outputs": [],
   "source": [
    "process.plot(\"air_transport_co2_emissions\")"
   ]
  },
  {
   "cell_type": "code",
   "execution_count": null,
   "id": "1dedbb80-9cf6-4e67-9627-0c5482c1ab32",
   "metadata": {
    "tags": []
   },
   "outputs": [],
   "source": [
    "process.plot(\"biomass_consumption\")"
   ]
  },
  {
   "cell_type": "code",
   "execution_count": null,
   "id": "209d003c-2bbd-4ad9-8587-117f2de0bb7d",
   "metadata": {
    "tags": []
   },
   "outputs": [],
   "source": [
    "fig, [ax1, ax2, ax3] = plt.subplots(1, 3, figsize=(12, 4))\n",
    "\n",
    "ax1.plot(\n",
    "    process.data[\"years\"][\"prospective_years\"],\n",
    "    process.vector_outputs_df.loc[process.data[\"years\"][\"prospective_years\"], \"biofuel_share\"],\n",
    "    color=\"green\",\n",
    "    linestyle=\"-\",\n",
    "    label=\"Biofuel\",\n",
    "    linewidth=2,\n",
    ")\n",
    "\n",
    "ax1.plot(\n",
    "    process.data[\"years\"][\"prospective_years\"],\n",
    "    process.vector_outputs_df.loc[process.data[\"years\"][\"prospective_years\"], \"electrofuel_share\"],\n",
    "    color=\"blue\",\n",
    "    linestyle=\"-\",\n",
    "    label=\"Electrofuel\",\n",
    "    linewidth=2,\n",
    ")\n",
    "\n",
    "ax1.plot(\n",
    "    process.data[\"years\"][\"prospective_years\"],\n",
    "    process.vector_outputs_df.loc[process.data[\"years\"][\"prospective_years\"], \"kerosene_share\"],\n",
    "    color=\"red\",\n",
    "    linestyle=\"-\",\n",
    "    label=\"Fossil\",\n",
    "    linewidth=2,\n",
    ")\n",
    "\n",
    "\n",
    "ax1.plot(\n",
    "    [2020, 2025, 2030, 2035, 2040, 2045, 2050],\n",
    "    [0, 2, 4.8, 15, 24, 27, 35],\n",
    "    color=\"green\",\n",
    "    linestyle=\"--\",\n",
    "    label=\"Biofuel- Ref\",\n",
    "    linewidth=2,\n",
    ")\n",
    "\n",
    "ax1.plot(\n",
    "    [2020, 2025, 2030, 2035, 2040, 2045, 2050],\n",
    "    [0, 0, 1.2, 5, 10, 15, 35],\n",
    "    color=\"blue\",\n",
    "    linestyle=\"--\",\n",
    "    label=\"Electrofuel - Ref\",\n",
    "    linewidth=2,\n",
    ")\n",
    "\n",
    "ax1.plot(\n",
    "    [2020, 2025, 2030, 2035, 2040, 2045, 2050],\n",
    "    [100, 98, 94.0, 80, 66, 58, 30],\n",
    "    color=\"red\",\n",
    "    linestyle=\"--\",\n",
    "    label=\"Fossil - Ref\",\n",
    "    linewidth=2,\n",
    ")\n",
    "\n",
    "\n",
    "ax1.grid()\n",
    "ax1.legend()\n",
    "ax1.set_ylabel(\"Drop-in Fuel Shares\")\n",
    "ax1.set_xlim(2021, 2050)\n",
    "\n",
    "\n",
    "ax2.plot(\n",
    "    process.data[\"years\"][\"prospective_years\"],\n",
    "    process.vector_outputs_df.loc[\n",
    "        process.data[\"years\"][\"prospective_years\"], \"annual_biofuel_growth_constraint_viz\"\n",
    "    ]\n",
    "    / 1e12,\n",
    "    color=\"#F59700\",\n",
    "    linestyle=\"-\",\n",
    "    label=\"Ramp-up constraint\",\n",
    "    linewidth=2,\n",
    ")\n",
    "\n",
    "ax2.fill_between(\n",
    "    process.data[\"years\"][\"prospective_years\"],\n",
    "    process.vector_outputs_df.loc[\n",
    "        process.data[\"years\"][\"prospective_years\"], \"annual_biofuel_growth_constraint_viz\"\n",
    "    ]\n",
    "    / 1e12,\n",
    "    3,\n",
    "    hatch=\"\\\\\\\\\",\n",
    "    edgecolor=\"#F59700\",\n",
    "    facecolor=\"none\",\n",
    "    alpha=0.2,\n",
    ")\n",
    "\n",
    "\n",
    "ax2.plot(\n",
    "    process.data[\"years\"][\"prospective_years\"],\n",
    "    process.vector_outputs_df.loc[\n",
    "        process.data[\"years\"][\"prospective_years\"], \"biofuel_max_availability_viz\"\n",
    "    ]\n",
    "    / 1e12,\n",
    "    color=\"#002157\",\n",
    "    linestyle=\"-\",\n",
    "    label=\"Ressource constraint\",\n",
    "    linewidth=2,\n",
    ")\n",
    "\n",
    "ax2.fill_between(\n",
    "    process.data[\"years\"][\"prospective_years\"],\n",
    "    process.vector_outputs_df.loc[\n",
    "        process.data[\"years\"][\"prospective_years\"], \"biofuel_max_availability_viz\"\n",
    "    ]\n",
    "    / 1e12,\n",
    "    3,\n",
    "    hatch=\"//\",\n",
    "    edgecolor=\"#002157\",\n",
    "    facecolor=\"none\",\n",
    "    linewidth=0,\n",
    "    alpha=0.1,\n",
    ")\n",
    "\n",
    "\n",
    "ax2.plot(\n",
    "    process.data[\"years\"][\"prospective_years\"],\n",
    "    process.vector_outputs_df.loc[\n",
    "        process.data[\"years\"][\"prospective_years\"], \"biofuel_growth_constraint_theoretical_max_viz\"\n",
    "    ]\n",
    "    / 1e12,\n",
    "    color=\"#002157\",\n",
    "    linestyle=\"--\",\n",
    "    label=\"'Max' ramp-up constraint\",\n",
    "    linewidth=2,\n",
    ")\n",
    "\n",
    "\n",
    "ax2.plot(\n",
    "    process.data[\"years\"][\"prospective_years\"],\n",
    "    process.vector_outputs_df.loc[\n",
    "        process.data[\"years\"][\"prospective_years\"], \"energy_consumption_biofuel\"\n",
    "    ]\n",
    "    / 1e12,\n",
    "    color=\"green\",\n",
    "    linestyle=\"-\",\n",
    "    # label=\"Aviation biofuel consumption\",\n",
    "    linewidth=2,\n",
    ")\n",
    "\n",
    "\n",
    "ax2.grid()\n",
    "# ax2.set_xlabel(\"Year\")\n",
    "ax2.set_ylabel(\"Biofuel consumption [EJ]\")\n",
    "ax2.legend(loc=\"upper left\")\n",
    "ax2.set_xlim(2021, 2050)\n",
    "ax2.set_ylim(0, 1.5)\n",
    "\n",
    "\n",
    "ax3.plot(\n",
    "    process.data[\"years\"][\"prospective_years\"],\n",
    "    process.vector_outputs_df.loc[\n",
    "        process.data[\"years\"][\"prospective_years\"], \"annual_electrofuel_growth_constraint_viz\"\n",
    "    ]\n",
    "    / 1e12,\n",
    "    color=\"#F59700\",\n",
    "    linestyle=\"-\",\n",
    "    # label=\"Electrofuel ramp-up constraint\",\n",
    "    linewidth=2,\n",
    ")\n",
    "\n",
    "ax3.fill_between(\n",
    "    process.data[\"years\"][\"prospective_years\"],\n",
    "    process.vector_outputs_df.loc[\n",
    "        process.data[\"years\"][\"prospective_years\"], \"annual_electrofuel_growth_constraint_viz\"\n",
    "    ]\n",
    "    / 1e12,\n",
    "    3,\n",
    "    hatch=\"\\\\\\\\\",\n",
    "    edgecolor=\"#F59700\",\n",
    "    facecolor=\"none\",\n",
    "    alpha=0.2,\n",
    ")\n",
    "\n",
    "\n",
    "ax3.plot(\n",
    "    process.data[\"years\"][\"prospective_years\"],\n",
    "    process.vector_outputs_df.loc[\n",
    "        process.data[\"years\"][\"prospective_years\"], \"electrofuel_max_availability_viz\"\n",
    "    ]\n",
    "    / 1e12,\n",
    "    color=\"#002157\",\n",
    "    linestyle=\"-\",\n",
    "    # label=\"Electricity availability constraint\",\n",
    "    linewidth=2,\n",
    ")\n",
    "\n",
    "ax3.fill_between(\n",
    "    process.data[\"years\"][\"prospective_years\"],\n",
    "    process.vector_outputs_df.loc[\n",
    "        process.data[\"years\"][\"prospective_years\"], \"electrofuel_max_availability_viz\"\n",
    "    ]\n",
    "    / 1e12,\n",
    "    3,\n",
    "    hatch=\"//\",\n",
    "    edgecolor=\"#002157\",\n",
    "    facecolor=\"none\",\n",
    "    linewidth=0,\n",
    "    alpha=0.1,\n",
    ")\n",
    "\n",
    "\n",
    "ax3.plot(\n",
    "    process.data[\"years\"][\"prospective_years\"],\n",
    "    process.vector_outputs_df.loc[\n",
    "        process.data[\"years\"][\"prospective_years\"],\n",
    "        \"electrofuel_growth_constraint_theoretical_max_viz\",\n",
    "    ]\n",
    "    / 1e12,\n",
    "    color=\"#002157\",\n",
    "    linestyle=\"--\",\n",
    "    # label=\"Electrofuel theoretical max ramp-Up constraint\",\n",
    "    linewidth=2,\n",
    ")\n",
    "\n",
    "\n",
    "ax3.plot(\n",
    "    process.data[\"years\"][\"prospective_years\"],\n",
    "    process.vector_outputs_df.loc[\n",
    "        process.data[\"years\"][\"prospective_years\"], \"energy_consumption_electrofuel\"\n",
    "    ]\n",
    "    / 1e12,\n",
    "    color=\"blue\",\n",
    "    linestyle=\"-\",\n",
    "    # label=\"Aviation electrofuel consumption\",\n",
    "    linewidth=2,\n",
    ")\n",
    "\n",
    "\n",
    "ax3.grid()\n",
    "ax3.set_ylabel(\"Electrofuel consumption [EJ]\")\n",
    "ax3.set_xlim(2021, 2050)\n",
    "ax3.set_ylim(0, 1.5)\n",
    "\n",
    "fig.tight_layout()\n",
    "fig.savefig(\"ressource_constraints.png\", dpi=800)"
   ]
  },
  {
   "cell_type": "code",
   "execution_count": null,
   "id": "ebee9491-f970-47ff-bde6-b3677ed9ed7a",
   "metadata": {
    "tags": []
   },
   "outputs": [],
   "source": [
    "process.plot(\"doc_fleet_breakdown\")"
   ]
  },
  {
   "cell_type": "code",
   "execution_count": null,
   "id": "888e07fb-4f07-45fe-9e2a-415a71773ad5",
   "metadata": {
    "tags": []
   },
   "outputs": [],
   "source": [
    "process.vector_outputs_df[\"cumulative_co2_emissions\"][2050]"
   ]
  },
  {
   "cell_type": "code",
   "execution_count": null,
   "id": "1c07556c-d7ae-4efa-8978-d5f781223cb7",
   "metadata": {
    "tags": []
   },
   "outputs": [],
   "source": [
    "process.vector_outputs_df[\"co2_emissions_including_energy\"][2050]"
   ]
  },
  {
   "cell_type": "code",
   "execution_count": null,
   "id": "05f0b61c-28cc-4bca-8714-fbfa822ae946",
   "metadata": {
    "tags": []
   },
   "outputs": [],
   "source": [
    "process.vector_outputs_df[\"cumulative_total_airline_cost_discounted\"][2050]"
   ]
  },
  {
   "cell_type": "code",
   "execution_count": null,
   "id": "71848d90-4d8f-4b6c-84b6-d0f1155f9135",
   "metadata": {
    "tags": []
   },
   "outputs": [],
   "source": [
    "max(process.vector_outputs_df[\"electricity_consumption\"].dropna())"
   ]
  },
  {
   "cell_type": "code",
   "execution_count": null,
   "id": "9909ea24-73aa-4338-99fb-6456572a43ac",
   "metadata": {
    "tags": []
   },
   "outputs": [],
   "source": [
    "sum(process.vector_outputs_df[\"electricity_consumption\"].dropna())"
   ]
  },
  {
   "cell_type": "code",
   "execution_count": null,
   "id": "8b601d64-2339-4823-abd9-498431d7f391",
   "metadata": {
    "tags": []
   },
   "outputs": [],
   "source": [
    "max(process.vector_outputs_df[\"biomass_consumption\"].dropna())"
   ]
  },
  {
   "cell_type": "code",
   "execution_count": null,
   "id": "68ad7937-decc-43a7-acce-e99496adeb9b",
   "metadata": {
    "tags": []
   },
   "outputs": [],
   "source": [
    "sum(process.vector_outputs_df[\"biomass_consumption\"].dropna())"
   ]
  },
  {
   "cell_type": "code",
   "execution_count": null,
   "id": "9dcddbb8-9977-49e8-b2c7-c15219df1b8f",
   "metadata": {},
   "outputs": [],
   "source": [
    "fig = plt.subplots()\n",
    "plt.clf()\n",
    "a = process.vector_outputs_df[\"doc_non_energy_per_ask_mean\"].loc[2019:2050] / (\n",
    "    process.vector_outputs_df[\"load_factor\"].loc[2019:2050] / 100\n",
    ")\n",
    "a.plot()\n",
    "process.vector_outputs_df[\"doc_non_energy_per_ask_mean\"].loc[2019:2050].plot()"
   ]
  },
  {
   "cell_type": "code",
   "execution_count": null,
   "id": "f16ed782-6472-445f-ae14-e02493f0fc32",
   "metadata": {
    "tags": []
   },
   "outputs": [],
   "source": [
    "plt.clf()\n",
    "fig = plt.subplots()\n",
    "process.vector_outputs_df[\"airfare_per_rpk_true\"].loc[2025:2050].plot()"
   ]
  },
  {
   "cell_type": "code",
   "execution_count": null,
   "id": "8961fb46-ee6c-4fbb-a906-c054a7f61fd6",
   "metadata": {
    "tags": []
   },
   "outputs": [],
   "source": [
    "fig = plt.subplots()\n",
    "plt.clf()\n",
    "process.vector_outputs_df[\"rpk\"].loc[2000:2050].plot(label=\"Fixed Demand\", color=\"deeppink\")\n",
    "process.vector_outputs_df[\"rpk_no_elasticity\"].loc[2000:2050].plot(\n",
    "    color=\"purple\", ls=\"--\", label=\"Iso-Elastic Demand\"\n",
    ")\n",
    "plt.ylabel(\"RPK\")\n",
    "plt.ylim(\n",
    "    0,\n",
    ")\n",
    "plt.legend()\n",
    "plt.grid(ls=\"--\")"
   ]
  },
  {
   "cell_type": "code",
   "execution_count": null,
   "id": "571d8835-38f9-4fa2-8ae0-10a1f83a1a4b",
   "metadata": {},
   "outputs": [],
   "source": []
  }
 ],
 "metadata": {
  "kernelspec": {
   "display_name": "Python 3 (ipykernel)",
   "language": "python",
   "name": "python3"
  },
  "language_info": {
   "codemirror_mode": {
    "name": "ipython",
    "version": 3
   },
   "file_extension": ".py",
   "mimetype": "text/x-python",
   "name": "python",
   "nbconvert_exporter": "python",
   "pygments_lexer": "ipython3",
   "version": "3.9.20"
  }
 },
 "nbformat": 4,
 "nbformat_minor": 5
}
