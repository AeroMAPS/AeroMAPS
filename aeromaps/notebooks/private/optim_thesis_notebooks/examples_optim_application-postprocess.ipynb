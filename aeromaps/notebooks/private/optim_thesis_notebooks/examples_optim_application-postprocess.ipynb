{
 "cells": [
  {
   "cell_type": "markdown",
   "id": "23c89ead-e80d-4557-bc08-3ce5465005f9",
   "metadata": {},
   "source": [
    "Notebook for Optim application. Notebook for supplementary material of a submitted publication. \n",
    "\n",
    "### Imports and settings"
   ]
  },
  {
   "cell_type": "code",
   "execution_count": null,
   "id": "f479de1f-5757-45d7-b718-03ea76b4851f",
   "metadata": {
    "tags": []
   },
   "outputs": [],
   "source": [
    "import matplotlib.pyplot as plt\n",
    "import pandas as pd\n",
    "import numpy as np\n",
    "import json\n",
    "\n",
    "\n",
    "%matplotlib widget\n",
    "import time\n",
    "import numpy as np\n",
    "from aeromaps import create_process\n",
    "from aeromaps.core.models import (\n",
    "    models_optim_simple,\n",
    ")\n",
    "\n",
    "import gemseo as gm\n",
    "\n",
    "gm.configure_logger()"
   ]
  },
  {
   "cell_type": "markdown",
   "id": "927e248c-3b8e-4850-91f3-88f57d09f94e",
   "metadata": {},
   "source": [
    "# 1- Scenario initialisation and settings\n",
    "\n",
    "The first phase corresponds to running a first, central scenario with AeroMAPS. Other runs ar performed afterwards."
   ]
  },
  {
   "cell_type": "code",
   "execution_count": null,
   "id": "95709522-84bd-44a0-a63a-7374c6aeea65",
   "metadata": {
    "tags": []
   },
   "outputs": [],
   "source": [
    "from aeromaps.utils.functions import create_partitioning"
   ]
  },
  {
   "cell_type": "code",
   "execution_count": null,
   "id": "46971271-e2f4-442a-ba03-11c4398a9058",
   "metadata": {
    "tags": []
   },
   "outputs": [],
   "source": [
    "create_partitioning(file=\"data_optim/aeroscope_europe_data.csv\", path=\"data_optim\")"
   ]
  },
  {
   "cell_type": "markdown",
   "id": "221c45a8-b4b1-4650-a767-b32210de8098",
   "metadata": {},
   "source": [
    "## 2. Run AeroMAPS on this studied scope"
   ]
  },
  {
   "cell_type": "code",
   "execution_count": null,
   "id": "60e7a4d4-bd84-44d9-b649-aa0e8c86b1a1",
   "metadata": {
    "tags": []
   },
   "outputs": [],
   "source": [
    "%matplotlib widget\n",
    "from aeromaps import create_process\n",
    "from aeromaps.core.models import default_models_top_down"
   ]
  },
  {
   "cell_type": "code",
   "execution_count": null,
   "id": "2cc981cb-d0b9-41e8-99a8-912fec7d7d58",
   "metadata": {
    "tags": []
   },
   "outputs": [],
   "source": [
    "models = {\n",
    "    \"models_optim_simple\": models_optim_simple,\n",
    "}"
   ]
  },
  {
   "cell_type": "markdown",
   "id": "b397a078-2985-406d-bee8-55afd2568261",
   "metadata": {},
   "source": [
    "Create process as usual, the partitionning is recuperated as specified in the config file."
   ]
  },
  {
   "cell_type": "code",
   "execution_count": null,
   "id": "1f086770-d53a-44f3-97d0-336fd7a40cac",
   "metadata": {
    "tags": []
   },
   "outputs": [],
   "source": [
    "process = create_process(\n",
    "    configuration_file=\"data_optim/config.json\", models=models, use_fleet_model=False\n",
    ")"
   ]
  },
  {
   "cell_type": "markdown",
   "id": "0ef8e51e-dd99-4707-b2ae-86fc8d9a8e5e",
   "metadata": {
    "tags": []
   },
   "source": [
    "## 1-a) Air traffic evolution\n",
    "\n",
    "As of April 2024, AeroMAPS is considering an exgenous growth rate.\n",
    "For the purposes of this article, an uniform growth rate of 3% is set. This is significantly lower from industry prospects such as [Airbus GMF: 3.6%](https://www.airbus.com/en/products-services/commercial-aircraft/market/global-market-forecast) or [Boeing CMO: 3.8%](https://www.boeing.com/content/dam/boeing/boeingdotcom/market/assets/downloads/CMO_2022_Report_FINAL_v02.pdf), but higher than [IEA Net Zero: 2.1% (2019 as base year)](https://www.iea.org/reports/net-zero-roadmap-a-global-pathway-to-keep-the-15-0c-goal-in-reach).\n"
   ]
  },
  {
   "cell_type": "code",
   "execution_count": null,
   "id": "a5f79996-e6ef-4434-8844-11a93122c3f2",
   "metadata": {
    "tags": []
   },
   "outputs": [],
   "source": [
    "## Growth rate by category [%]\n",
    "process.parameters.cagr_passenger_short_range_reference_periods = []\n",
    "process.parameters.cagr_passenger_short_range_reference_periods_values = [1.0]\n",
    "process.parameters.cagr_passenger_medium_range_reference_periods = []\n",
    "process.parameters.cagr_passenger_medium_range_reference_periods_values = [1.0]\n",
    "process.parameters.cagr_passenger_long_range_reference_periods = []\n",
    "process.parameters.cagr_passenger_long_range_reference_periods_values = [1.0]\n",
    "process.parameters.cagr_freight_reference_periods = []\n",
    "process.parameters.cagr_freight_reference_periods_values = [1.0]"
   ]
  },
  {
   "cell_type": "markdown",
   "id": "99ad83c8-eb43-46a2-968b-e495905b9cd2",
   "metadata": {
    "tags": []
   },
   "source": [
    "## 1-b) Aircraft fleet\n",
    "\n",
    "Top-down fleet, without hydrogen aircraft, callibrated on the fleet of the MACC applciation, with drop-in instead of h2  \n",
    "http://localhost:8888/lab/tree/aeromaps/notebooks/data_cost/top_down_cost_callibration_phd.ipynb\n",
    "\n",
    "Mean annual efficiency improvement: 1.4% --> applied to all catgeories"
   ]
  },
  {
   "cell_type": "code",
   "execution_count": null,
   "id": "118fe016-9846-4a2a-918e-5e8f300dea99",
   "metadata": {
    "tags": []
   },
   "outputs": [],
   "source": [
    "process.parameters.energy_per_ask_short_range_dropin_fuel_gain_reference_years = []\n",
    "process.parameters.energy_per_ask_short_range_dropin_fuel_gain_reference_years_values = [1.4]\n",
    "process.parameters.energy_per_ask_medium_range_dropin_fuel_gain_reference_years = []\n",
    "process.parameters.energy_per_ask_medium_range_dropin_fuel_gain_reference_years_values = [1.4]\n",
    "process.parameters.energy_per_ask_long_range_dropin_fuel_gain_reference_years = []\n",
    "process.parameters.energy_per_ask_long_range_dropin_fuel_gain_reference_years_values = [1.4]\n",
    "\n",
    "## Hydrogen aircraft\n",
    "# NONE"
   ]
  },
  {
   "cell_type": "markdown",
   "id": "deb4792a-411b-45d9-9fd2-b97bb85a9d7c",
   "metadata": {},
   "source": [
    "### 1-c) Operational improvements\n",
    "\n",
    "Operational improvements are considered via two opportunities. \n",
    "- Load factor improvement: improvement to 89% at the end of the scenario.\n",
    "- Operational efficiency (better ATM, aircrfat MRO and operational optimisation): improvement of 8% in 25y. \n",
    "\n",
    "Cost savings incur through the fuel savings. However, it could come at an extra cost (non-energy). This parameter is modelled, but not considered in this article due to lack of specific informations to the best of our knowldege.\n"
   ]
  },
  {
   "cell_type": "code",
   "execution_count": null,
   "id": "ab476bc9-f507-4bd4-9335-1002d2977a90",
   "metadata": {
    "tags": []
   },
   "outputs": [],
   "source": [
    "process.parameters.load_factor_end_year = 89.0  # 2019 value: 82.399312"
   ]
  },
  {
   "cell_type": "code",
   "execution_count": null,
   "id": "4349dc55-808c-4ebe-a493-7210032b3fb8",
   "metadata": {
    "tags": []
   },
   "outputs": [],
   "source": [
    "# Aircraft fleet and operation evolution - Operations\n",
    "\n",
    "## Values for setting the logistic function\n",
    "process.parameters.operations_final_gain = 8.0  # [%]\n",
    "process.parameters.operations_start_year = 2025\n",
    "process.parameters.operations_duration = 25.0"
   ]
  },
  {
   "cell_type": "markdown",
   "id": "4e060f89-e3c6-43a8-bc64-61399941760a",
   "metadata": {},
   "source": [
    "## 1-d) Energy\n",
    "\n",
    "Top-down callibrated on the values of teh MACC apllication.\n",
    "Faster optim but caution as MFSP full computation is more detailled: larges use of e-fuel in the begining influence late mFSp (no-decomissioning)"
   ]
  },
  {
   "cell_type": "code",
   "execution_count": null,
   "id": "3d71b69d-b5c6-4607-b760-7930973671b9",
   "metadata": {
    "slideshow": {
     "slide_type": "subslide"
    },
    "tags": []
   },
   "outputs": [],
   "source": [
    "# # Energy settings: production choices\n",
    "\n",
    "# # Aircraft energy - Introduction of alternative drop-in fuels\n",
    "\n",
    "# ## Share of alternative fuels in the drop-in fuel mix (the rest being supplemented by kerosene) [%]\n",
    "process.parameters.biofuel_share_reference_years = [2030, 2035, 2040, 2045, 2050]\n",
    "process.parameters.biofuel_share_reference_years_values = np.array(\n",
    "    [11.02945021, 22.64991278, 45.09265767, 50.79100536, 53.35073021]\n",
    ")\n",
    "process.parameters.electrofuel_share_reference_years = [2030, 2035, 2040, 2045, 2050]\n",
    "process.parameters.electrofuel_share_reference_years_values = np.array(\n",
    "    [1.53876061e-02, 6.69531291e-02, 1.84765061e00, 8.85047992e00, 1.57302626e01]\n",
    ")\n",
    "\n",
    "\n",
    "## Share of biofuel production pathways (the rest being completed by AtJ processes) [%]\n",
    "process.parameters.biofuel_hefa_fog_share_reference_years = []\n",
    "process.parameters.biofuel_hefa_fog_share_reference_years_values = [0.6]\n",
    "process.parameters.biofuel_hefa_others_share_reference_years = []\n",
    "process.parameters.biofuel_hefa_others_share_reference_years_values = [12.5]\n",
    "process.parameters.biofuel_ft_others_share_reference_years = []\n",
    "process.parameters.biofuel_ft_others_share_reference_years_values = [68.9]\n",
    "process.parameters.biofuel_ft_msw_share_reference_years = []\n",
    "process.parameters.biofuel_ft_msw_share_reference_years_values = [6.6]"
   ]
  },
  {
   "cell_type": "code",
   "execution_count": null,
   "id": "bf9baeef-47b6-4af0-9bf2-833e39ec3477",
   "metadata": {
    "slideshow": {
     "slide_type": "subslide"
    },
    "tags": []
   },
   "outputs": [],
   "source": [
    "process.parameters.biofuel_hefa_fog_mfsp_simple_reference_years = []\n",
    "process.parameters.biofuel_hefa_fog_mfsp_simple_reference_years_values = [0.815488]\n",
    "process.parameters.biofuel_hefa_others_mfsp_simple_reference_years = []\n",
    "process.parameters.biofuel_hefa_others_mfsp_simple_reference_years_values = [1.052703]\n",
    "process.parameters.biofuel_ft_others_mfsp_simple_reference_years = []\n",
    "process.parameters.biofuel_ft_others_mfsp_simple_reference_years_values = [1.378082]\n",
    "process.parameters.biofuel_ft_msw_mfsp_simple_reference_years = []\n",
    "process.parameters.biofuel_ft_msw_mfsp_simple_reference_years_values = [1.142423]\n",
    "process.parameters.biofuel_atj_mfsp_simple_reference_years = []\n",
    "process.parameters.biofuel_atj_mfsp_simple_reference_years_values = [1.38668]\n",
    "\n",
    "process.parameters.electrofuel_mfsp_simple_reference_years = [\n",
    "    2020,\n",
    "    2021,\n",
    "    2022,\n",
    "    2023,\n",
    "    2024,\n",
    "    2025,\n",
    "    2026,\n",
    "    2027,\n",
    "    2028,\n",
    "    2029,\n",
    "    2030,\n",
    "    2031,\n",
    "    2032,\n",
    "    2033,\n",
    "    2034,\n",
    "    2035,\n",
    "    2036,\n",
    "    2037,\n",
    "    2038,\n",
    "    2039,\n",
    "    2040,\n",
    "    2041,\n",
    "    2042,\n",
    "    2043,\n",
    "    2044,\n",
    "    2045,\n",
    "    2046,\n",
    "    2047,\n",
    "    2048,\n",
    "    2049,\n",
    "    2050,\n",
    "]\n",
    "process.parameters.electrofuel_mfsp_simple_reference_years_values = [\n",
    "    3.720546,\n",
    "    3.720546,\n",
    "    3.720546,\n",
    "    3.720546,\n",
    "    3.720546,\n",
    "    3.720546,\n",
    "    3.720546,\n",
    "    3.573659,\n",
    "    3.426978,\n",
    "    3.277308,\n",
    "    3.130003,\n",
    "    3.095717,\n",
    "    3.062247,\n",
    "    3.029682,\n",
    "    2.998903,\n",
    "    2.971869,\n",
    "    2.946851,\n",
    "    2.923276,\n",
    "    2.901135,\n",
    "    2.882374,\n",
    "    2.866464,\n",
    "    2.852876,\n",
    "    2.841350,\n",
    "    2.829845,\n",
    "    2.807006,\n",
    "    2.774737,\n",
    "    2.737160,\n",
    "    2.698305,\n",
    "    2.660365,\n",
    "    2.624329,\n",
    "    2.590476,\n",
    "]\n",
    "\n",
    "# Enerdata scenario europe-specific data (https://eneroutlook.enerdata.net/forecast-world-co2-intensity-of-electricity-generation.html)\n",
    "process.parameters.electricity_emission_factor_reference_years = [\n",
    "    2020,\n",
    "    2025,\n",
    "    2030,\n",
    "    2035,\n",
    "    2040,\n",
    "    2045,\n",
    "    2050,\n",
    "]\n",
    "process.parameters.electricity_emission_factor_reference_years_values = [\n",
    "    205,\n",
    "    175,\n",
    "    92,\n",
    "    47,\n",
    "    31,\n",
    "    19,\n",
    "    12,\n",
    "]\n",
    "\n",
    "# Optimisation parameters\n",
    "europe_ask_share = 15.49 / 100\n",
    "\n",
    "process.parameters.aviation_carbon_budget_objective = 2.6 * europe_ask_share  # --> sensitivity 4.8\n",
    "\n",
    "process.parameters.biomass_availability_constraint_trajectory_reference_years = [\n",
    "    2020,\n",
    "    2030,\n",
    "    2040,\n",
    "    2050,\n",
    "]\n",
    "process.parameters.biomass_availability_constraint_trajectory_reference_years_values = [\n",
    "    62.8 * europe_ask_share,\n",
    "    72.1 * europe_ask_share,\n",
    "    97.8 * europe_ask_share,\n",
    "    101.8 * europe_ask_share,\n",
    "]\n",
    "\n",
    "process.parameters.electricity_availability_constraint_trajectory_reference_years = [\n",
    "    2020,\n",
    "    2030,\n",
    "    2040,\n",
    "    2050,\n",
    "]\n",
    "process.parameters.electricity_availability_constraint_trajectory_reference_years_values = [\n",
    "    102.0456 * europe_ask_share,\n",
    "    137.5452 * europe_ask_share,\n",
    "    212.7996 * europe_ask_share,\n",
    "    276.6168 * europe_ask_share,\n",
    "]\n",
    "\n",
    "process.parameters.volume_ramp_up_constraint_biofuel = 0.2 * europe_ask_share\n",
    "process.parameters.rate_ramp_up_constraint_biofuel = 0.2\n",
    "\n",
    "process.parameters.volume_ramp_up_constraint_electrofuel = 0.2 * europe_ask_share\n",
    "process.parameters.rate_ramp_up_constraint_electrofuel = 0.2"
   ]
  },
  {
   "cell_type": "markdown",
   "id": "58589dd8-11d2-435a-bf7c-9d3cc70676b4",
   "metadata": {},
   "source": [
    "## 1-e) Other process.parameters "
   ]
  },
  {
   "cell_type": "markdown",
   "id": "0fc38e2c-be44-49a1-bbbb-97b53c0e4551",
   "metadata": {
    "tags": []
   },
   "source": [
    "Downscaling not automatic"
   ]
  },
  {
   "cell_type": "code",
   "execution_count": null,
   "id": "a4148162-d43f-4053-ab13-aece0381b050",
   "metadata": {
    "slideshow": {
     "slide_type": "subslide"
    },
    "tags": []
   },
   "outputs": [],
   "source": [
    "# Environmental limits\n",
    "\n",
    "## Carbon budgets and Carbon Dioxide Removal [GtCO2]\n",
    "process.parameters.net_carbon_budget = 850.0\n",
    "process.parameters.carbon_dioxyde_removal_2100 = 285.0"
   ]
  },
  {
   "cell_type": "code",
   "execution_count": null,
   "id": "8e8bcda3-8aad-4f27-b1ae-6277fbc7f63a",
   "metadata": {
    "slideshow": {
     "slide_type": "subslide"
    },
    "tags": []
   },
   "outputs": [],
   "source": [
    "# Allocation settings\n",
    "\n",
    "## Aviation share of the global (equivalent) carbon budget [%]\n",
    "process.parameters.aviation_carbon_budget_allocated_share = 2.6\n",
    "process.parameters.aviation_equivalentcarbonbudget_allocated_share = 5.1\n",
    "\n",
    "## Aviation share of the global energy resources (biomass and electricity) [%]\n",
    "process.parameters.aviation_biomass_allocated_share = 9.90\n",
    "process.parameters.aviation_electricity_allocated_share = 5.0"
   ]
  },
  {
   "cell_type": "markdown",
   "id": "13b2e06c-36fb-49bb-8ad6-5ca2aa130638",
   "metadata": {},
   "source": [
    "## 2 - Problem definition"
   ]
  },
  {
   "cell_type": "markdown",
   "id": "f0558667-94cd-4026-89c9-f024807cd129",
   "metadata": {},
   "source": [
    "### Cas 1 \n",
    "\n",
    "min cumulative_total_airline_cost_discounted\n",
    "\n",
    "w.r.t. biofuel_share_reference_years_values, electrofuel_share_reference_years_values, \n",
    "\n",
    "s.t. cumulative_co2_emissions, electricity_consumption, biomass_consumption, max(biofuel_share_prospective + electrofuel_share_prospective)\n",
    "\n"
   ]
  },
  {
   "cell_type": "code",
   "execution_count": null,
   "id": "4461ca3c-db5f-47ec-9b5c-24b23b154f77",
   "metadata": {},
   "outputs": [],
   "source": [
    "process.setup()\n",
    "process.compute()"
   ]
  },
  {
   "cell_type": "code",
   "execution_count": null,
   "id": "1cca9dbf-6d6b-4453-ab65-347176108e76",
   "metadata": {
    "tags": []
   },
   "outputs": [],
   "source": [
    "process.vector_outputs_df[\"airfare_per_rpk\"]"
   ]
  },
  {
   "cell_type": "code",
   "execution_count": null,
   "id": "1dedbb80-9cf6-4e67-9627-0c5482c1ab32",
   "metadata": {
    "tags": []
   },
   "outputs": [],
   "source": [
    "process.plot(\"biomass_consumption\")"
   ]
  },
  {
   "cell_type": "code",
   "execution_count": null,
   "id": "209d003c-2bbd-4ad9-8587-117f2de0bb7d",
   "metadata": {
    "tags": []
   },
   "outputs": [],
   "source": [
    "fig, [ax1, ax2, ax3] = plt.subplots(1, 3, figsize=(12, 4))\n",
    "\n",
    "ax1.plot(\n",
    "    process.data[\"years\"][\"prospective_years\"],\n",
    "    process.vector_outputs_df.loc[process.data[\"years\"][\"prospective_years\"], \"biofuel_share\"],\n",
    "    color=\"green\",\n",
    "    linestyle=\"-\",\n",
    "    label=\"Biofuel\",\n",
    "    linewidth=2,\n",
    ")\n",
    "\n",
    "ax1.plot(\n",
    "    process.data[\"years\"][\"prospective_years\"],\n",
    "    process.vector_outputs_df.loc[process.data[\"years\"][\"prospective_years\"], \"electrofuel_share\"],\n",
    "    color=\"blue\",\n",
    "    linestyle=\"-\",\n",
    "    label=\"Electrofuel\",\n",
    "    linewidth=2,\n",
    ")\n",
    "\n",
    "ax1.plot(\n",
    "    process.data[\"years\"][\"prospective_years\"],\n",
    "    process.vector_outputs_df.loc[process.data[\"years\"][\"prospective_years\"], \"kerosene_share\"],\n",
    "    color=\"red\",\n",
    "    linestyle=\"-\",\n",
    "    label=\"Fossil\",\n",
    "    linewidth=2,\n",
    ")\n",
    "\n",
    "\n",
    "ax1.plot(\n",
    "    [2020, 2025, 2030, 2035, 2040, 2045, 2050],\n",
    "    [0, 2, 4.8, 15, 24, 27, 35],\n",
    "    color=\"green\",\n",
    "    linestyle=\"--\",\n",
    "    label=\"Biofuel- Ref\",\n",
    "    linewidth=2,\n",
    ")\n",
    "\n",
    "ax1.plot(\n",
    "    [2020, 2025, 2030, 2035, 2040, 2045, 2050],\n",
    "    [0, 0, 1.2, 5, 10, 15, 35],\n",
    "    color=\"blue\",\n",
    "    linestyle=\"--\",\n",
    "    label=\"Electrofuel - Ref\",\n",
    "    linewidth=2,\n",
    ")\n",
    "\n",
    "ax1.plot(\n",
    "    [2020, 2025, 2030, 2035, 2040, 2045, 2050],\n",
    "    [100, 98, 94.0, 80, 66, 58, 30],\n",
    "    color=\"red\",\n",
    "    linestyle=\"--\",\n",
    "    label=\"Fossil - Ref\",\n",
    "    linewidth=2,\n",
    ")\n",
    "\n",
    "\n",
    "ax1.grid()\n",
    "ax1.legend()\n",
    "ax1.set_ylabel(\"Drop-in Fuel Shares\")\n",
    "ax1.set_xlim(2021, 2050)\n",
    "\n",
    "\n",
    "ax2.plot(\n",
    "    process.data[\"years\"][\"prospective_years\"],\n",
    "    process.vector_outputs_df.loc[\n",
    "        process.data[\"years\"][\"prospective_years\"], \"annual_biofuel_growth_constraint_viz\"\n",
    "    ]\n",
    "    / 1e12,\n",
    "    color=\"#F59700\",\n",
    "    linestyle=\"-\",\n",
    "    label=\"Ramp-up constraint\",\n",
    "    linewidth=2,\n",
    ")\n",
    "\n",
    "ax2.fill_between(\n",
    "    process.data[\"years\"][\"prospective_years\"],\n",
    "    process.vector_outputs_df.loc[\n",
    "        process.data[\"years\"][\"prospective_years\"], \"annual_biofuel_growth_constraint_viz\"\n",
    "    ]\n",
    "    / 1e12,\n",
    "    3,\n",
    "    hatch=\"\\\\\\\\\",\n",
    "    edgecolor=\"#F59700\",\n",
    "    facecolor=\"none\",\n",
    "    alpha=0.2,\n",
    ")\n",
    "\n",
    "\n",
    "ax2.plot(\n",
    "    process.data[\"years\"][\"prospective_years\"],\n",
    "    process.vector_outputs_df.loc[\n",
    "        process.data[\"years\"][\"prospective_years\"], \"biofuel_max_availability_viz\"\n",
    "    ]\n",
    "    / 1e12,\n",
    "    color=\"#002157\",\n",
    "    linestyle=\"-\",\n",
    "    label=\"Ressource constraint\",\n",
    "    linewidth=2,\n",
    ")\n",
    "\n",
    "ax2.fill_between(\n",
    "    process.data[\"years\"][\"prospective_years\"],\n",
    "    process.vector_outputs_df.loc[\n",
    "        process.data[\"years\"][\"prospective_years\"], \"biofuel_max_availability_viz\"\n",
    "    ]\n",
    "    / 1e12,\n",
    "    3,\n",
    "    hatch=\"//\",\n",
    "    edgecolor=\"#002157\",\n",
    "    facecolor=\"none\",\n",
    "    linewidth=0,\n",
    "    alpha=0.1,\n",
    ")\n",
    "\n",
    "\n",
    "ax2.plot(\n",
    "    process.data[\"years\"][\"prospective_years\"],\n",
    "    process.vector_outputs_df.loc[\n",
    "        process.data[\"years\"][\"prospective_years\"], \"biofuel_growth_constraint_theoretical_max_viz\"\n",
    "    ]\n",
    "    / 1e12,\n",
    "    color=\"#002157\",\n",
    "    linestyle=\"--\",\n",
    "    label=\"'Max' ramp-up constraint\",\n",
    "    linewidth=2,\n",
    ")\n",
    "\n",
    "\n",
    "ax2.plot(\n",
    "    process.data[\"years\"][\"prospective_years\"],\n",
    "    process.vector_outputs_df.loc[\n",
    "        process.data[\"years\"][\"prospective_years\"], \"energy_consumption_biofuel\"\n",
    "    ]\n",
    "    / 1e12,\n",
    "    color=\"green\",\n",
    "    linestyle=\"-\",\n",
    "    # label=\"Aviation biofuel consumption\",\n",
    "    linewidth=2,\n",
    ")\n",
    "\n",
    "\n",
    "ax2.grid()\n",
    "# ax2.set_xlabel(\"Year\")\n",
    "ax2.set_ylabel(\"Biofuel consumption [EJ]\")\n",
    "ax2.legend(loc=\"upper left\")\n",
    "ax2.set_xlim(2021, 2050)\n",
    "ax2.set_ylim(0, 1.5)\n",
    "\n",
    "\n",
    "ax3.plot(\n",
    "    process.data[\"years\"][\"prospective_years\"],\n",
    "    process.vector_outputs_df.loc[\n",
    "        process.data[\"years\"][\"prospective_years\"], \"annual_electrofuel_growth_constraint_viz\"\n",
    "    ]\n",
    "    / 1e12,\n",
    "    color=\"#F59700\",\n",
    "    linestyle=\"-\",\n",
    "    # label=\"Electrofuel ramp-up constraint\",\n",
    "    linewidth=2,\n",
    ")\n",
    "\n",
    "ax3.fill_between(\n",
    "    process.data[\"years\"][\"prospective_years\"],\n",
    "    process.vector_outputs_df.loc[\n",
    "        process.data[\"years\"][\"prospective_years\"], \"annual_electrofuel_growth_constraint_viz\"\n",
    "    ]\n",
    "    / 1e12,\n",
    "    3,\n",
    "    hatch=\"\\\\\\\\\",\n",
    "    edgecolor=\"#F59700\",\n",
    "    facecolor=\"none\",\n",
    "    alpha=0.2,\n",
    ")\n",
    "\n",
    "\n",
    "ax3.plot(\n",
    "    process.data[\"years\"][\"prospective_years\"],\n",
    "    process.vector_outputs_df.loc[\n",
    "        process.data[\"years\"][\"prospective_years\"], \"electrofuel_max_availability_viz\"\n",
    "    ]\n",
    "    / 1e12,\n",
    "    color=\"#002157\",\n",
    "    linestyle=\"-\",\n",
    "    # label=\"Electricity availability constraint\",\n",
    "    linewidth=2,\n",
    ")\n",
    "\n",
    "ax3.fill_between(\n",
    "    process.data[\"years\"][\"prospective_years\"],\n",
    "    process.vector_outputs_df.loc[\n",
    "        process.data[\"years\"][\"prospective_years\"], \"electrofuel_max_availability_viz\"\n",
    "    ]\n",
    "    / 1e12,\n",
    "    3,\n",
    "    hatch=\"//\",\n",
    "    edgecolor=\"#002157\",\n",
    "    facecolor=\"none\",\n",
    "    linewidth=0,\n",
    "    alpha=0.1,\n",
    ")\n",
    "\n",
    "\n",
    "ax3.plot(\n",
    "    process.data[\"years\"][\"prospective_years\"],\n",
    "    process.vector_outputs_df.loc[\n",
    "        process.data[\"years\"][\"prospective_years\"],\n",
    "        \"electrofuel_growth_constraint_theoretical_max_viz\",\n",
    "    ]\n",
    "    / 1e12,\n",
    "    color=\"#002157\",\n",
    "    linestyle=\"--\",\n",
    "    # label=\"Electrofuel theoretical max ramp-Up constraint\",\n",
    "    linewidth=2,\n",
    ")\n",
    "\n",
    "\n",
    "ax3.plot(\n",
    "    process.data[\"years\"][\"prospective_years\"],\n",
    "    process.vector_outputs_df.loc[\n",
    "        process.data[\"years\"][\"prospective_years\"], \"energy_consumption_electrofuel\"\n",
    "    ]\n",
    "    / 1e12,\n",
    "    color=\"blue\",\n",
    "    linestyle=\"-\",\n",
    "    # label=\"Aviation electrofuel consumption\",\n",
    "    linewidth=2,\n",
    ")\n",
    "\n",
    "\n",
    "ax3.grid()\n",
    "ax3.set_ylabel(\"Electrofuel consumption [EJ]\")\n",
    "ax3.set_xlim(2021, 2050)\n",
    "ax3.set_ylim(0, 1.5)\n",
    "\n",
    "fig.tight_layout()\n",
    "fig.savefig(\"ressource_constraints.png\", dpi=800)"
   ]
  },
  {
   "cell_type": "code",
   "execution_count": null,
   "id": "ebee9491-f970-47ff-bde6-b3677ed9ed7a",
   "metadata": {
    "tags": []
   },
   "outputs": [],
   "source": [
    "process.plot(\"energy_mfsp\")"
   ]
  },
  {
   "cell_type": "code",
   "execution_count": null,
   "id": "9dcddbb8-9977-49e8-b2c7-c15219df1b8f",
   "metadata": {},
   "outputs": [],
   "source": [
    "simple_cac_e_fuel = (\n",
    "    (\n",
    "        process.vector_outputs_df[\"electrofuel_mean_mfsp_litre\"]\n",
    "        - process.vector_outputs_df[\"kerosene_market_price\"]\n",
    "    )\n",
    "    / (\n",
    "        (\n",
    "            process.vector_outputs_df[\"kerosene_emission_factor\"]\n",
    "            - process.vector_outputs_df[\"electrofuel_emission_factor\"]\n",
    "        )\n",
    "        * 43.5\n",
    "        * 0.8\n",
    "    )\n",
    "    * 1000000\n",
    ")\n",
    "simple_cac_b_fuel = (\n",
    "    (\n",
    "        process.vector_outputs_df[\"biofuel_mean_mfsp\"]\n",
    "        - process.vector_outputs_df[\"kerosene_market_price\"]\n",
    "    )\n",
    "    / (\n",
    "        (\n",
    "            process.vector_outputs_df[\"kerosene_emission_factor\"]\n",
    "            - process.vector_outputs_df[\"biofuel_mean_emission_factor\"]\n",
    "        )\n",
    "        * 43.5\n",
    "        * 0.8\n",
    "    )\n",
    "    * 1000000\n",
    ")"
   ]
  },
  {
   "cell_type": "code",
   "execution_count": null,
   "id": "5f98c800-3acb-4b5a-8531-1234b56fd7c7",
   "metadata": {
    "tags": []
   },
   "outputs": [],
   "source": [
    "years_since_2020 = simple_cac_e_fuel.index - 2020\n",
    "actualization_factors = 1.03**years_since_2020\n",
    "\n",
    "# Divide the series by the actualization factors\n",
    "simple_cac_e_fuel_disc = simple_cac_e_fuel / actualization_factors\n",
    "simple_cac_b_fuel_disc = simple_cac_b_fuel / actualization_factors"
   ]
  },
  {
   "cell_type": "code",
   "execution_count": null,
   "id": "0d154db6-898d-4550-957c-22d6290e1821",
   "metadata": {
    "tags": []
   },
   "outputs": [],
   "source": [
    "simple_cac_e_fuel_disc"
   ]
  },
  {
   "cell_type": "code",
   "execution_count": null,
   "id": "1eb270b8-7ccd-4053-894d-b7326d4c6f3c",
   "metadata": {
    "tags": []
   },
   "outputs": [],
   "source": [
    "simple_cac_b_fuel_disc"
   ]
  },
  {
   "cell_type": "code",
   "execution_count": null,
   "id": "ba91b646-0e74-4a34-a5c0-cceb2d1287d7",
   "metadata": {},
   "outputs": [],
   "source": []
  }
 ],
 "metadata": {
  "kernelspec": {
   "display_name": "Python 3 (ipykernel)",
   "language": "python",
   "name": "python3"
  },
  "language_info": {
   "codemirror_mode": {
    "name": "ipython",
    "version": 3
   },
   "file_extension": ".py",
   "mimetype": "text/x-python",
   "name": "python",
   "nbconvert_exporter": "python",
   "pygments_lexer": "ipython3",
   "version": "3.9.20"
  }
 },
 "nbformat": 4,
 "nbformat_minor": 5
}
