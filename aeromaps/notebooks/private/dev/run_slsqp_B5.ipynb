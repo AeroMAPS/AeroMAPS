{
 "cells": [
  {
   "cell_type": "markdown",
   "id": "207176ce-302b-41c7-ac24-f498be9fafd0",
   "metadata": {},
   "source": [
    "# DRAFT - Ehancing AeroMAPS modelling --> variable demand and fuels introduction comparision"
   ]
  },
  {
   "cell_type": "markdown",
   "id": "2bf1864b-cd78-424c-9fb6-49ec1da435f0",
   "metadata": {},
   "source": [
    "## 2) Present elasticity results from other ipynb"
   ]
  },
  {
   "cell_type": "markdown",
   "id": "02bd726b-1e4f-4f87-a79f-5be9a8bd15b0",
   "metadata": {},
   "source": [
    "## 3) Smart optim process\n",
    "First, no elasticity to get a quick first guess.\n",
    "\n",
    "- start from minim on carbon budget\n",
    "- get the optimized results for evry shar of cb between min cb / 3.5 (MMA?)\n",
    "- Restart from no elast results. Which solver? MMA too slow? \n",
    "\n",
    "TODO 30/07 ==> Config file\n"
   ]
  },
  {
   "cell_type": "markdown",
   "id": "4af694b4-9993-4d4a-a427-ee2ba600bb52",
   "metadata": {},
   "source": [
    "### Imports and settings"
   ]
  },
  {
   "cell_type": "code",
   "execution_count": null,
   "id": "1f545abe-8b4b-4170-92c8-3057ec772853",
   "metadata": {
    "tags": []
   },
   "outputs": [],
   "source": [
    "# Standard library\n",
    "import warnings\n",
    "from gemseo.settings.post import BasicHistory_Settings\n",
    "\n",
    "from typing import Tuple\n",
    "from copy import deepcopy\n",
    "\n",
    "# Third-party libraries\n",
    "import pandas as pd\n",
    "import numpy as np\n",
    "import matplotlib.pyplot as plt\n",
    "from matplotlib.cm import ScalarMappable\n",
    "from matplotlib.colors import Normalize\n",
    "\n",
    "\n",
    "# GEMSEO and optimisation\n",
    "import gemseo as gm\n",
    "from gemseo.algos.design_space import DesignSpace\n",
    "from gemseo.algos.opt.scipy_local.settings.slsqp import SLSQP_Settings\n",
    "\n",
    "# from gemseo.algos.opt.nlopt.settings.nlopt_cobyla_settings import NLOPT_COBYLA_Settings\n",
    "# from gemseo.algos.opt.nlopt.settings.nlopt_mma_settings import NLOPT_MMA_Settings\n",
    "\n",
    "\n",
    "# GEMSEO extensions\n",
    "# from gemseo_pymoo.algos.opt._settings.ga_settings import GASettings\n",
    "\n",
    "# AeroMAPS core\n",
    "from aeromaps import create_process\n",
    "from aeromaps.core.models import models_optim_complex\n",
    "from aeromaps.core.gemseo import CustomDataConverter\n",
    "\n",
    "# AeroMAPS utilities and base model\n",
    "from aeromaps.utils.functions import custom_logger_config, create_partitioning, merge_json_files\n",
    "from aeromaps.models.base import AeroMAPSModel, aeromaps_interpolation_function\n",
    "\n",
    "# Configure logger\n",
    "custom_logger_config(gm.configure_logger())\n",
    "\n",
    "# Optional: enable interactive plotting (Jupyter-specific)\n",
    "%matplotlib widget"
   ]
  },
  {
   "cell_type": "markdown",
   "id": "9a009d63-e168-4158-aa27-df587f2525d1",
   "metadata": {},
   "source": [
    "# 1- Scenario initialisation and settings\n",
    "\n",
    "The first phase corresponds to running a first, central scenario with AeroMAPS. Other runs ar performed afterwards."
   ]
  },
  {
   "cell_type": "code",
   "execution_count": null,
   "id": "42d7c8c5-c5cf-4fbd-8def-ef8394654985",
   "metadata": {
    "tags": []
   },
   "outputs": [],
   "source": [
    "create_partitioning(file=\"data/aeroscope_europe_data.csv\")"
   ]
  },
  {
   "cell_type": "code",
   "execution_count": null,
   "id": "82de0c57-cf74-4ffb-ae8b-c4dfd56fe401",
   "metadata": {},
   "outputs": [],
   "source": [
    "merge_json_files(\n",
    "    \"data/partitioned_inputs.json\",\n",
    "    \"data/inputs.json\",\n",
    "    \"data/partitioned_inputs_merged.json\",\n",
    ")"
   ]
  },
  {
   "cell_type": "code",
   "execution_count": null,
   "id": "becb775a-204d-468d-90f1-44f3b0a1e6e9",
   "metadata": {
    "tags": []
   },
   "outputs": [],
   "source": [
    "models_optim_complex[\"models_energy_without_fuel_effect\"].pop(\"dropin_fuel_distribution\")\n",
    "\n",
    "\n",
    "# Custom dropin fuel distribution model for optimisation\n",
    "class DropinFuelDistribution(AeroMAPSModel):\n",
    "    def __init__(self, name=\"dropin_fuel_distribution\", *args, **kwargs):\n",
    "        super().__init__(name, *args, **kwargs)\n",
    "\n",
    "    def compute(\n",
    "        self,\n",
    "        biofuel_share_optim: list,\n",
    "        electrofuel_share_optim: list,\n",
    "    ) -> Tuple[pd.Series, pd.Series, pd.Series]:\n",
    "        \"\"\"Fuel distribution calculation using interpolation functions\"\"\"\n",
    "\n",
    "        biofuel_share = pd.Series(0.0, index=range(self.historic_start_year, self.end_year + 1))\n",
    "        electrofuel_share = pd.Series(0.0, index=range(self.historic_start_year, self.end_year + 1))\n",
    "\n",
    "        biofuel_share[2024] = 0.5\n",
    "        biofuel_share_reference_years = [2025, 2030, 2035, 2040, 2045, 2050]\n",
    "        biofuel_share_loc = biofuel_share_optim.copy()\n",
    "        biofuel_share_loc.insert(0, 2)\n",
    "\n",
    "        biofuel_share.loc[2025:2050] = aeromaps_interpolation_function(\n",
    "            self,\n",
    "            biofuel_share_reference_years,\n",
    "            biofuel_share_loc,\n",
    "            method=\"linear\",\n",
    "            positive_constraint=True,\n",
    "            model_name=self.name,\n",
    "        )\n",
    "\n",
    "        self.df.loc[:, \"biofuel_share\"] = biofuel_share\n",
    "\n",
    "        electrofuel_share_reference_years = [2025, 2030, 2035, 2040, 2045, 2050]\n",
    "        electrofuel_share_loc = electrofuel_share_optim.copy()\n",
    "        electrofuel_share_loc.insert(0, 0)\n",
    "\n",
    "        # Electrofuel\n",
    "        electrofuel_share.loc[2025:2050] = aeromaps_interpolation_function(\n",
    "            self,\n",
    "            electrofuel_share_reference_years,\n",
    "            electrofuel_share_loc,\n",
    "            method=\"linear\",  # linear for optim\n",
    "            positive_constraint=True,\n",
    "            model_name=self.name,\n",
    "        )\n",
    "\n",
    "        self.df.loc[:, \"electrofuel_share\"] = electrofuel_share\n",
    "\n",
    "        # Kerosene\n",
    "        kerosene_share = 100 - biofuel_share - electrofuel_share\n",
    "        self.df.loc[:, \"kerosene_share\"] = kerosene_share\n",
    "\n",
    "        return biofuel_share, electrofuel_share, kerosene_share\n",
    "\n",
    "\n",
    "models = {\n",
    "    \"models_optim_complex\": models_optim_complex,\n",
    "    \"dropin_fuel_distribution\": DropinFuelDistribution(\"dropin_fuel_distribution\"),\n",
    "}"
   ]
  },
  {
   "cell_type": "markdown",
   "id": "50931786-703a-44a1-98ac-eb7b460b9314",
   "metadata": {},
   "source": [
    "Create process as usual, the partitionning is recuperated as specified in the config file."
   ]
  },
  {
   "cell_type": "code",
   "execution_count": null,
   "id": "48dc2891-505e-402a-9491-0b46a1cdc0fe",
   "metadata": {
    "tags": []
   },
   "outputs": [],
   "source": [
    "process = create_process(\n",
    "    configuration_file=\"data/config.json\", models=models, use_fleet_model=False\n",
    ")"
   ]
  },
  {
   "cell_type": "markdown",
   "id": "36e4e8c1-4dce-48de-99c2-6b14b0f91da2",
   "metadata": {
    "tags": []
   },
   "source": [
    "## 1-a) Parameters configuration / base scenario \n",
    "\n",
    "-- Most Parameters directly set in the inputs.json file\n",
    "\n",
    "- Air traffic evolution   \n",
    "We consider an exogenous growth rate, which is the one that would occur considering a technological/fiscal situation frozen in 2019. \n",
    "For the purposes of this article, an uniform growth rate of 3% is set. This is significantly lower from industry prospects such as [Airbus GMF: 3.6%](https://www.airbus.com/en/products-services/commercial-aircraft/market/global-market-forecast) or [Boeing CMO: 3.8%](https://www.boeing.com/content/dam/boeing/boeingdotcom/market/assets/downloads/CMO_2022_Report_FINAL_v02.pdf), but higher than [IEA Net Zero: 2.1% (2019 as base year)](https://www.iea.org/reports/net-zero-roadmap-a-global-pathway-to-keep-the-15-0c-goal-in-reach).\n",
    "It's relatively hard to pick a value as these encompass both technological improvements and energy substaitution, but to an extend to detailled in some. "
   ]
  },
  {
   "attachments": {
    "cf32fafa-3a9e-4fe4-a0a7-b85e76db4a16.png": {
     "image/png": "[encoded data removed]"
    }
   },
   "cell_type": "markdown",
   "id": "fd1737a2-8996-4584-934b-fc118300fe3d",
   "metadata": {
    "tags": []
   },
   "source": [
    "- Aircraft fleet  -> See calibration_on_fleet.ipynb. A new aicraft is introduced in every category (short-medium-long range).  \n",
    "![Figure 2.png](attachment:cf32fafa-3a9e-4fe4-a0a7-b85e76db4a16.png)  \n",
    "Mean annual efficiency improvement: 1.35% --> using a simple annual gain model to enhance computation time. "
   ]
  },
  {
   "cell_type": "markdown",
   "id": "df135146-6ffc-44a4-ac5a-0a3b53806267",
   "metadata": {},
   "source": [
    "- Operational improvements  \n",
    "    Considered via two opportunities.\n",
    "    - Load factor improvement: improvement to 89% at the end of the scenario. \n",
    "    - Operational efficiency (better ATM, aircrfat MRO and operational optimisation): improvement of 8% in 25y.   \n",
    "    \n",
    "    Cost savings incur through the fuel savings. However, it could come at an extra cost (non-energy). This parameter is modelled in AeroMAPS, but not considered in this article due to lack of specific informations to the best of our knowldege.\n"
   ]
  },
  {
   "cell_type": "markdown",
   "id": "d3e1077c-3662-409f-be53-34124653da27",
   "metadata": {},
   "source": [
    "- Energy  \n",
    "Instead of using bottom up plant MFSP models, we callibarte these based on the values considered in the MACC article (https://doi.org/10.1016/j.trd.2025.104836)\n",
    "It enables reducing the coimputation time (Faster optim) but caution as MFSP full computation is more rigorous: large use of e-fuel in the begining influence late MFSP (no-decomissioning hypothesis)"
   ]
  },
  {
   "cell_type": "markdown",
   "id": "90fb9fbf-1108-4824-b1b0-258085ec2e44",
   "metadata": {},
   "source": [
    "## 1-b) Parameters configuration / specific for optimisation"
   ]
  },
  {
   "cell_type": "code",
   "execution_count": null,
   "id": "c46d66d1-a043-4e90-9795-7c66a45716cc",
   "metadata": {
    "slideshow": {
     "slide_type": "subslide"
    },
    "tags": []
   },
   "outputs": [],
   "source": [
    "### Here as we are operating with a loop, we have to define initial values of an entry point, just as in use_varaible_demand example\n",
    "process.parameters.price_elasticity = -0.9\n",
    "\n",
    "process.parameters.airfare_per_rpk = pd.Series(\n",
    "    0.09251431471704129,\n",
    "    index=range(process.parameters.historic_start_year, process.parameters.end_year + 1),\n",
    ")\n",
    "\n",
    "# Optimisation parameters\n",
    "\n",
    "process.parameters.biomass_availability_constraint_trajectory_reference_years = [\n",
    "    2020,\n",
    "    2030,\n",
    "    2040,\n",
    "    2050,\n",
    "]\n",
    "process.parameters.biomass_availability_constraint_trajectory_reference_years_values = [\n",
    "    62.8,\n",
    "    72.1,\n",
    "    97.8,\n",
    "    101.8,\n",
    "]\n",
    "\n",
    "process.parameters.electricity_availability_constraint_trajectory_reference_years = [\n",
    "    2020,\n",
    "    2030,\n",
    "    2040,\n",
    "    2050,\n",
    "]\n",
    "process.parameters.electricity_availability_constraint_trajectory_reference_years_values = [\n",
    "    102.0456,\n",
    "    137.5452,\n",
    "    212.7996,\n",
    "    276.6168,\n",
    "]\n",
    "\n",
    "\n",
    "europe_ask_share = 15.49 / 100\n",
    "\n",
    "process.parameters.volume_ramp_up_constraint_biofuel = 0.2 * europe_ask_share\n",
    "process.parameters.rate_ramp_up_constraint_biofuel = 0.2  # 20%\n",
    "\n",
    "process.parameters.volume_ramp_up_constraint_electrofuel = 0.2 * europe_ask_share\n",
    "process.parameters.rate_ramp_up_constraint_electrofuel = 0.2  # 20%\n",
    "\n",
    "process.parameters.aviation_biomass_allocated_share = 5.0 * europe_ask_share\n",
    "process.parameters.aviation_electricity_allocated_share = 5.0 * europe_ask_share\n",
    "\n",
    "process.parameters.aviation_carbon_budget_objective = 2.6 * europe_ask_share"
   ]
  },
  {
   "cell_type": "markdown",
   "id": "e586eede-64ca-4575-a8c6-a3b0b10755f0",
   "metadata": {},
   "source": [
    "# 2) Optimisation setup"
   ]
  },
  {
   "cell_type": "code",
   "execution_count": null,
   "id": "27313783-533c-4223-8362-2086d60ad1bd",
   "metadata": {},
   "outputs": [],
   "source": [
    "process.setup()\n",
    "\n",
    "\n",
    "def optim_setup(process):\n",
    "    # Create a GEMSEO scenario\n",
    "\n",
    "    process.gemseo_settings[\"scenario_type\"] = \"MDO\"\n",
    "    process.gemseo_settings[\"formulation\"] = \"MDF\"\n",
    "\n",
    "    # define the design sapce: electrofuel and biofuel blending mandates\n",
    "\n",
    "    # NB: possible to modify DropinFuelDistribution to directly fix the first two values instead of creating frozen varaibles here, to reduce the design space size.\n",
    "\n",
    "    design_space = DesignSpace()\n",
    "    design_space.add_variable(\n",
    "        \"electrofuel_share_optim\",\n",
    "        size=5,\n",
    "        lower_bound=[0, 0, 0, 0, 0],\n",
    "        upper_bound=[100, 100, 100, 100, 100],\n",
    "        value=[12.81932125, 25.42564173, 37.71881271, 42.95696814, 44.42208359],\n",
    "    )\n",
    "\n",
    "    design_space.add_variable(\n",
    "        \"biofuel_share_optim\",\n",
    "        size=5,\n",
    "        lower_bound=[2, 2, 2, 2, 2],\n",
    "        upper_bound=[100, 100, 100, 100, 100],\n",
    "        value=[13.03333997, 26.2372240200, 40.31305862, 40.68022382, 45.68032885],\n",
    "    )\n",
    "\n",
    "    process.gemseo_settings[\"design_space\"] = design_space\n",
    "\n",
    "    # Define the objective\n",
    "    objective_name = \"cumulative_total_surplus_loss_discounted_obj\"\n",
    "    process.gemseo_settings[\"objective_name\"] = objective_name\n",
    "\n",
    "    process.create_gemseo_scenario()\n",
    "    # Make optimisation objective values in the 1-10 interval\n",
    "    process.scenario.formulation.optimization_problem.objective = (\n",
    "        process.scenario.formulation.optimization_problem.objective * 1e-10\n",
    "    )\n",
    "\n",
    "    # Add constraints\n",
    "    all_constraints = [\n",
    "        \"aviation_carbon_budget_constraint\",\n",
    "        \"blend_completeness_constraint\",\n",
    "        \"electricity_trajectory_constraint\",\n",
    "        \"biomass_trajectory_constraint\",\n",
    "        \"electrofuel_use_growth_constraint\",\n",
    "        \"biofuel_use_growth_constraint\",\n",
    "        # \"biofuel_use_no_degrowth_constraint\",\n",
    "        # \"electrofuel_use_no_degrowth_constraint\",\n",
    "    ]\n",
    "\n",
    "    for constraint in all_constraints:\n",
    "        process.scenario.add_constraint(constraint, constraint_type=\"ineq\")\n",
    "\n",
    "    process.scenario.set_differentiation_method(\"finite_differences\")\n",
    "\n",
    "    # Optim algo: COBYLA, a gradient-free non linear solver ==> Require installation of NLOP; better than SLSQP to start with\n",
    "    # cobyla_settings = NLOPT_COBYLA_Settings(\n",
    "    #     max_iter=200,  # CAUTION, 3 set for quick automated test , use something like 200,\n",
    "    #     ftol_rel=0.001,\n",
    "    #     ftol_abs=0.001,\n",
    "    #     # ineq_tolerance=0.015,\n",
    "    #     normalize_design_space=False,\n",
    "    #     init_step=2,\n",
    "    # )\n",
    "\n",
    "    # pymoo_settings = GASettings(\n",
    "    #     enable_progress_bar=True,\n",
    "    #     pop_size=55,\n",
    "    #     max_iter=1000,\n",
    "    #     ftol_rel=0.01,\n",
    "    #     ftol_abs=0.01,\n",
    "    #     ineq_tolerance=0.01,\n",
    "    #     normalize_design_space=False,\n",
    "    #     n_processes=6\n",
    "\n",
    "    # )\n",
    "\n",
    "    # mma_settings = NLOPT_MMA_Settings(\n",
    "    #     max_iter=100,\n",
    "    #     enable_progress_bar=True,\n",
    "    #     ftol_abs = 0.01,\n",
    "    #     # xtol_rel = 1e-50,\n",
    "    #     normalize_design_space=False,\n",
    "    # )\n",
    "\n",
    "    slsqp_settings = SLSQP_Settings(\n",
    "        max_iter=200,\n",
    "        enable_progress_bar=True,\n",
    "        ftol_abs=0.001,\n",
    "        # xtol_rel = 1e-50,\n",
    "        normalize_design_space=False,\n",
    "    )\n",
    "\n",
    "    process.gemseo_settings[\"algorithm\"] = slsqp_settings\n",
    "\n",
    "    # Adding design variables to the set of list types varaible (they are declared as ndarray but needed as lists within aeromaps functions)\n",
    "\n",
    "    CustomDataConverter._list_names.update(process.scenario.get_optim_variable_names())\n",
    "    return\n",
    "\n",
    "\n",
    "def optim_setup_min_carb(process):\n",
    "    # Create a GEMSEO scenario\n",
    "\n",
    "    process.gemseo_settings[\"scenario_type\"] = \"MDO\"\n",
    "    process.gemseo_settings[\"formulation\"] = \"MDF\"\n",
    "\n",
    "    # define the design sapce: electrofuel and biofuel blending mandates\n",
    "\n",
    "    # NB: possible to modify DropinFuelDistribution to directly fix the first two values instead of creating frozen varaibles here, to reduce the design space size.\n",
    "\n",
    "    design_space = DesignSpace()\n",
    "    design_space.add_variable(\n",
    "        \"electrofuel_share_optim\",\n",
    "        size=5,\n",
    "        lower_bound=[0, 0, 0, 0, 0],\n",
    "        upper_bound=[100, 100, 100, 100, 100],\n",
    "        value=[9.53566501, 27.03662195, 49.31527213, 52.04227029, 50.01065897],\n",
    "    )\n",
    "\n",
    "    design_space.add_variable(\n",
    "        \"biofuel_share_optim\",\n",
    "        size=5,\n",
    "        lower_bound=[2, 2, 2, 2, 2],\n",
    "        upper_bound=[100, 100, 100, 100, 100],\n",
    "        value=[9.53566501, 27.03662195, 50.68472787, 47.95772971, 49.98934103],\n",
    "    )\n",
    "\n",
    "    process.gemseo_settings[\"design_space\"] = design_space\n",
    "\n",
    "    # Define the objective\n",
    "    objective_name = \"aviation_carbon_budget_constraint\"\n",
    "    process.gemseo_settings[\"objective_name\"] = objective_name\n",
    "\n",
    "    process.create_gemseo_scenario()\n",
    "\n",
    "    process.scenario.formulation.optimization_problem.objective = (\n",
    "        process.scenario.formulation.optimization_problem.objective * 10\n",
    "    )\n",
    "\n",
    "    # Add constraints\n",
    "    all_constraints = [\n",
    "        \"blend_completeness_constraint\",\n",
    "        \"electricity_trajectory_constraint\",\n",
    "        \"biomass_trajectory_constraint\",\n",
    "        \"electrofuel_use_growth_constraint\",\n",
    "        \"biofuel_use_growth_constraint\",\n",
    "    ]\n",
    "\n",
    "    for constraint in all_constraints:\n",
    "        process.scenario.add_constraint(constraint, constraint_type=\"ineq\")\n",
    "\n",
    "    process.scenario.set_differentiation_method(\"finite_differences\")\n",
    "\n",
    "    slsqp_settings = SLSQP_Settings(\n",
    "        max_iter=200,\n",
    "        enable_progress_bar=True,\n",
    "        ftol_abs=0.0001,\n",
    "        # xtol_rel = 1e-50,\n",
    "        normalize_design_space=False,\n",
    "    )\n",
    "\n",
    "    # mma_settings = NLOPT_MMA_Settings(\n",
    "    #     max_iter=100,\n",
    "    #     enable_progress_bar=True,\n",
    "    #     ftol_abs=0.01,\n",
    "    #     # xtol_rel = 1e-50,\n",
    "    #     normalize_design_space=False,\n",
    "    # )\n",
    "\n",
    "    process.gemseo_settings[\"algorithm\"] = slsqp_settings\n",
    "\n",
    "    # Adding design variables to the set of list types varaible (they are declared as ndarray but needed as lists within aeromaps functions)\n",
    "\n",
    "    CustomDataConverter._list_names.update(process.scenario.get_optim_variable_names())\n",
    "    return\n",
    "\n",
    "\n",
    "warnings.filterwarnings(\"ignore\")"
   ]
  },
  {
   "cell_type": "code",
   "execution_count": null,
   "id": "1eccdc04-7923-4ca0-b6c4-c6514b460ca9",
   "metadata": {
    "tags": []
   },
   "outputs": [],
   "source": [
    "process30 = deepcopy(process)\n",
    "process30.parameters.aviation_carbon_budget_objective = 3.0 * europe_ask_share\n",
    "process30.setup()\n",
    "optim_setup(process30)\n",
    "process30.compute()"
   ]
  },
  {
   "cell_type": "code",
   "execution_count": null,
   "id": "b998b020-ecd2-443e-95ad-afa9659f96c0",
   "metadata": {},
   "outputs": [],
   "source": [
    "process28 = deepcopy(process)\n",
    "process28.parameters.aviation_carbon_budget_objective = 2.8 * europe_ask_share\n",
    "process28.setup()\n",
    "optim_setup(process28)\n",
    "process28.compute()"
   ]
  },
  {
   "cell_type": "code",
   "execution_count": null,
   "id": "c5362f1d-16b6-43cc-a0aa-42a9093dc21f",
   "metadata": {},
   "outputs": [],
   "source": [
    "process26 = deepcopy(process)\n",
    "process26.parameters.aviation_carbon_budget_objective = 2.6 * europe_ask_share\n",
    "process26.setup()\n",
    "optim_setup(process26)\n",
    "process26.compute()"
   ]
  },
  {
   "cell_type": "code",
   "execution_count": null,
   "id": "06354130-8867-48ff-a431-c45ad9dde59f",
   "metadata": {},
   "outputs": [],
   "source": [
    "# process24 = deepcopy(process)\n",
    "# process24.parameters.aviation_carbon_budget_objective = 2.4 * europe_ask_share\n",
    "# process24.setup()\n",
    "# optim_setup(process24)\n",
    "# process24.compute()"
   ]
  },
  {
   "cell_type": "code",
   "execution_count": null,
   "id": "9d311866-d0f4-41b6-b7f4-38aef0bebc97",
   "metadata": {},
   "outputs": [],
   "source": [
    "# process22 = deepcopy(process)\n",
    "# process22.parameters.aviation_carbon_budget_objective = 2.2 * europe_ask_share\n",
    "# process22.setup()\n",
    "# optim_setup(process22)\n",
    "# process22.compute()"
   ]
  },
  {
   "cell_type": "code",
   "execution_count": null,
   "id": "a7d4299d-952b-4bcb-81f8-f521f2e14d57",
   "metadata": {
    "tags": []
   },
   "outputs": [],
   "source": [
    "# process20 = deepcopy(process)\n",
    "# process20.parameters.aviation_carbon_budget_objective = 2.0 * europe_ask_share\n",
    "# process20.setup()\n",
    "# optim_setup(process20)\n",
    "# process20.compute()"
   ]
  },
  {
   "cell_type": "code",
   "execution_count": null,
   "id": "4a4e521a-1d8a-4ee5-9903-0c1a82b83b1e",
   "metadata": {
    "tags": []
   },
   "outputs": [],
   "source": [
    "process32 = deepcopy(process)\n",
    "process32.parameters.aviation_carbon_budget_objective = 3.2 * europe_ask_share\n",
    "process32.setup()\n",
    "optim_setup(process32)\n",
    "process32.compute()"
   ]
  },
  {
   "cell_type": "code",
   "execution_count": null,
   "id": "2582095e-ed03-488b-8c6c-c38e8061778d",
   "metadata": {
    "tags": []
   },
   "outputs": [],
   "source": [
    "process32.scenario.get_result().design_variable_names_to_values"
   ]
  },
  {
   "cell_type": "code",
   "execution_count": null,
   "id": "b89c1498-89de-48b0-9ce0-c1cce0b84788",
   "metadata": {
    "tags": []
   },
   "outputs": [],
   "source": [
    "process34 = deepcopy(process)\n",
    "process34.parameters.aviation_carbon_budget_objective = 3.4 * europe_ask_share\n",
    "process34.setup()\n",
    "optim_setup(process34)\n",
    "process34.compute()"
   ]
  },
  {
   "cell_type": "code",
   "execution_count": null,
   "id": "428bc77d-78fa-474b-bb50-d517f18a3327",
   "metadata": {
    "tags": []
   },
   "outputs": [],
   "source": [
    "process36 = deepcopy(process)\n",
    "process36.parameters.aviation_carbon_budget_objective = 3.6 * europe_ask_share\n",
    "process36.setup()\n",
    "optim_setup(process36)\n",
    "process36.compute()"
   ]
  },
  {
   "cell_type": "code",
   "execution_count": null,
   "id": "672d59ac-ad4c-403b-a9d8-f98208d766a3",
   "metadata": {
    "tags": []
   },
   "outputs": [],
   "source": [
    "process38 = deepcopy(process)\n",
    "process38.parameters.aviation_carbon_budget_objective = 3.8 * europe_ask_share\n",
    "process38.setup()\n",
    "optim_setup(process38)\n",
    "process38.compute()"
   ]
  },
  {
   "cell_type": "code",
   "execution_count": null,
   "id": "8877ccff-3dc1-478c-960c-61fa71fd3099",
   "metadata": {
    "tags": []
   },
   "outputs": [],
   "source": [
    "process_mincarb = deepcopy(process)\n",
    "process_mincarb.setup()\n",
    "optim_setup_min_carb(process_mincarb)\n",
    "process_mincarb.compute()"
   ]
  },
  {
   "cell_type": "code",
   "execution_count": null,
   "id": "8c38ad8e-11e0-44af-be65-baf2de6aaff0",
   "metadata": {
    "tags": []
   },
   "outputs": [],
   "source": [
    "# process20.scenario.save_optimization_history(\"results/opt_B5_2_0.hdf\")\n",
    "# process22.scenario.save_optimization_history(\"results/opt_B5_2_2.hdf\")\n",
    "# process24.scenario.save_optimization_history(\"results/opt_B5_2_4.hdf\")\n",
    "process26.scenario.save_optimization_history(\"results/opt_B5_2_6.hdf\")\n",
    "process28.scenario.save_optimization_history(\"results/opt_B5_2_8.hdf\")\n",
    "process30.scenario.save_optimization_history(\"results/opt_B5_3_0.hdf\")\n",
    "process32.scenario.save_optimization_history(\"results/opt_B5_3_2.hdf\")"
   ]
  },
  {
   "cell_type": "code",
   "execution_count": null,
   "id": "7ecb36fc-9ffb-4986-a5d4-8ec075e0de91",
   "metadata": {
    "tags": []
   },
   "outputs": [],
   "source": [
    "# process20.write_json(\"results/opt_B5_2_0.json\")\n",
    "# process22.write_json(\"results/opt_B5_2_2.json\")\n",
    "# process24.write_json(\"results/opt_B5_2_4.json\")\n",
    "process26.write_json(\"results/opt_B5_2_6.json\")\n",
    "process28.write_json(\"results/opt_B5_2_8.json\")\n",
    "process30.write_json(\"results/opt_B5_3_0.json\")\n",
    "process32.write_json(\"results/opt_B5_3_2.json\")"
   ]
  },
  {
   "cell_type": "code",
   "execution_count": null,
   "id": "67596aa9-bcc4-4edb-bdd7-6403dec91fc2",
   "metadata": {
    "tags": []
   },
   "outputs": [],
   "source": [
    "process34.scenario.save_optimization_history(\"results/opt_B5_3_4.hdf\")\n",
    "process36.scenario.save_optimization_history(\"results/opt_B5_3_6.hdf\")\n",
    "process38.scenario.save_optimization_history(\"results/opt_B5_3_8.hdf\")\n",
    "process34.write_json(\"results/opt_B5_3_4.json\")\n",
    "process36.write_json(\"results/opt_B5_3_6.json\")\n",
    "process38.write_json(\"results/opt_B5_3_8.json\")"
   ]
  },
  {
   "cell_type": "code",
   "execution_count": null,
   "id": "130ee27d-5197-48a7-98b1-ec60bbb61521",
   "metadata": {
    "tags": []
   },
   "outputs": [],
   "source": [
    "process_mincarb.scenario.save_optimization_history(\"results/opt_B5_mincarb.hdf\")\n",
    "process_mincarb.write_json(\"results/opt_B5_mincarb.json\")"
   ]
  },
  {
   "cell_type": "code",
   "execution_count": null,
   "id": "09761254-42cf-4416-9067-13990827ed21",
   "metadata": {
    "tags": []
   },
   "outputs": [],
   "source": [
    "process.scenario.post_process(\n",
    "    post_name=\"OptHistoryView\",\n",
    "    constraint_names=[\n",
    "        \"aviation_carbon_budget_constraint\",\n",
    "        \"blend_completeness_constraint\",\n",
    "        \"electricity_trajectory_constraint\",\n",
    "        \"biomass_trajectory_constraint\",\n",
    "        \"electrofuel_use_growth_constraint\",\n",
    "        \"biofuel_use_growth_constraint\",\n",
    "        # \"biofuel_use_no_degrowth_constraint\",\n",
    "        # \"electrofuel_use_no_degrowth_constraint\",\n",
    "    ],\n",
    "    save=False,\n",
    "    show=True,\n",
    ")"
   ]
  },
  {
   "cell_type": "code",
   "execution_count": null,
   "id": "aad2fde8-c654-4cdc-b984-0cd36dae3acb",
   "metadata": {
    "tags": []
   },
   "outputs": [],
   "source": [
    "# noqa: E402\n",
    "\n",
    "pst = process.scenario.post_process(\n",
    "    BasicHistory_Settings(\n",
    "        variable_names=[\"electrofuel_share_optim\", \"biofuel_share_optim\"],\n",
    "        save=False,\n",
    "        show=True,\n",
    "    )\n",
    ")"
   ]
  },
  {
   "cell_type": "code",
   "execution_count": null,
   "id": "a2048deb-f6f8-413a-b05e-4eea17ae421d",
   "metadata": {
    "tags": []
   },
   "outputs": [],
   "source": [
    "# Replace this with your actual data\n",
    "history = pst.database.get_x_vect_history()\n",
    "\n",
    "n_iter = len(history)\n",
    "years = np.arange(2020, 2055, 5)\n",
    "\n",
    "# Create color map normalized over the number of iterations\n",
    "cmap = plt.get_cmap(\"viridis\")\n",
    "norm = Normalize(vmin=0, vmax=n_iter - 1)\n",
    "\n",
    "# Create figure with two subplots\n",
    "fig, axes = plt.subplots(2, 1, figsize=(10, 8), sharex=True)\n",
    "\n",
    "# Loop over iterations and plot\n",
    "for i, arr in enumerate(history):\n",
    "    color = cmap(norm(i))\n",
    "\n",
    "    electrofuel = arr[:5]\n",
    "    biofuel = arr[5:]\n",
    "\n",
    "    axes[0].plot(np.arange(2030, 2055, 5), electrofuel, color=color, alpha=0.08)\n",
    "    axes[1].plot(np.arange(2030, 2055, 5), biofuel, color=color, alpha=0.08)\n",
    "\n",
    "# Plot the last iteration in black dashed line\n",
    "final_electrofuel = history[-1][:5]\n",
    "final_biofuel = history[-1][5:]\n",
    "\n",
    "axes[0].plot(\n",
    "    np.arange(2030, 2055, 5),\n",
    "    final_electrofuel,\n",
    "    color=\"black\",\n",
    "    linestyle=\"--\",\n",
    "    linewidth=1,\n",
    "    label=\"Final Iteration\",\n",
    ")\n",
    "axes[1].plot(\n",
    "    np.arange(2030, 2055, 5),\n",
    "    final_biofuel,\n",
    "    color=\"black\",\n",
    "    linestyle=\"--\",\n",
    "    linewidth=1,\n",
    "    label=\"Final Iteration\",\n",
    ")\n",
    "\n",
    "# Retrieve the optimal values\n",
    "res = process.scenario.get_result().design_variable_names_to_values\n",
    "\n",
    "optimal_electrofuel = res[\"electrofuel_share_optim\"]\n",
    "optimal_biofuel = res[\"biofuel_share_optim\"]\n",
    "\n",
    "# Plot the optimal in solid red line\n",
    "axes[0].plot(\n",
    "    np.arange(2030, 2055, 5),\n",
    "    optimal_electrofuel,\n",
    "    color=\"red\",\n",
    "    linestyle=\"-\",\n",
    "    linewidth=2,\n",
    "    label=\"Optized Solution\",\n",
    ")\n",
    "axes[1].plot(\n",
    "    np.arange(2030, 2055, 5),\n",
    "    optimal_biofuel,\n",
    "    color=\"red\",\n",
    "    linestyle=\"-\",\n",
    "    linewidth=2,\n",
    "    label=\"Optimized Solution\",\n",
    ")\n",
    "\n",
    "# Labels and titles\n",
    "axes[0].set_ylabel(\"Electrofuel Quantity\")\n",
    "axes[0].set_title(\"Evolution of Electrofuel Over Iterations\")\n",
    "axes[0].grid(True)\n",
    "\n",
    "axes[1].set_ylabel(\"Biofuel Quantity\")\n",
    "axes[1].set_title(\"Evolution of Biofuel Over Iterations\")\n",
    "axes[1].set_xlabel(\"Year\")\n",
    "axes[1].grid(True)\n",
    "\n",
    "# Add legends\n",
    "axes[0].legend()\n",
    "axes[1].legend()\n",
    "\n",
    "# Add colorbar to indicate iteration number\n",
    "sm = ScalarMappable(cmap=cmap, norm=norm)\n",
    "sm.set_array([])  # Dummy array for colorbar\n",
    "cbar = fig.colorbar(sm, ax=axes, orientation=\"vertical\", label=\"Iteration\")\n",
    "\n",
    "plt.tight_layout()\n",
    "plt.show()"
   ]
  },
  {
   "cell_type": "markdown",
   "id": "3e9a1383-0c12-4948-8b64-092951266f78",
   "metadata": {},
   "source": [
    "## 4) Compare mechanisms\n",
    "- min cost with ref carbon values\n",
    "- blend or taxes? maybe "
   ]
  },
  {
   "cell_type": "code",
   "execution_count": null,
   "id": "f048d5db-6f04-4634-bd59-62b6dad4dbeb",
   "metadata": {},
   "outputs": [],
   "source": []
  }
 ],
 "metadata": {
  "kernelspec": {
   "display_name": "Python 3 (ipykernel)",
   "language": "python",
   "name": "python3"
  },
  "language_info": {
   "codemirror_mode": {
    "name": "ipython",
    "version": 3
   },
   "file_extension": ".py",
   "mimetype": "text/x-python",
   "name": "python",
   "nbconvert_exporter": "python",
   "pygments_lexer": "ipython3",
   "version": "3.12.11"
  }
 },
 "nbformat": 4,
 "nbformat_minor": 5
}
