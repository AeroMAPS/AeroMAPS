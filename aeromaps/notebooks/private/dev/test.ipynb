{
 "cells": [
  {
   "cell_type": "code",
   "execution_count": null,
   "id": "initial_id",
   "metadata": {
    "tags": []
   },
   "outputs": [],
   "source": [
    "%matplotlib widget\n",
    "import pandas as pd\n",
    "import matplotlib.pyplot as plt\n",
    "import seaborn as sns\n",
    "\n",
    "# Charger les données depuis la deuxième feuille en utilisant la première colonne comme index\n",
    "df = pd.read_excel(\n",
    "    \"./../../../resources/cost_data/IATA_cost_data.xlsx\", sheet_name=\"Exploration\", index_col=0\n",
    ")\n",
    "\n",
    "# Garder seulement les 15 premières lignes\n",
    "df = df.head(20)"
   ]
  },
  {
   "cell_type": "code",
   "execution_count": null,
   "id": "f786d2fc9d3e805a",
   "metadata": {
    "tags": []
   },
   "outputs": [],
   "source": [
    "# Transpose so years are rows\n",
    "df_t = df.T\n",
    "df_t"
   ]
  },
  {
   "cell_type": "code",
   "execution_count": null,
   "id": "28d033a311a0ff77",
   "metadata": {
    "tags": []
   },
   "outputs": [],
   "source": [
    "sns.scatterplot(\n",
    "    data=df_t,\n",
    "    x=\"RPKs, billion\",\n",
    "    y=\"% gross margin\",\n",
    "    hue=df_t.index,\n",
    "    palette=\"viridis\",\n",
    "    s=80,\n",
    "    legend=True,\n",
    ")\n",
    "\n",
    "# Line connecting the points\n",
    "plt.plot(df_t[\"RPKs, billion\"], df_t[\"% gross margin\"], color=\"purple\", linewidth=1, alpha=0.5)\n",
    "\n",
    "for year, row in df_t.iterrows():\n",
    "    plt.text(\n",
    "        row[\"RPKs, billion\"] + 51,\n",
    "        row[\"% gross margin\"] - 1.5,  # adjust offset as needed\n",
    "        str(year),\n",
    "        fontsize=8,\n",
    "        va=\"center\",\n",
    "    )"
   ]
  },
  {
   "cell_type": "code",
   "execution_count": null,
   "id": "37bfce9f61442200",
   "metadata": {
    "tags": []
   },
   "outputs": [],
   "source": [
    "plt.figure(figsize=(10, 6))\n",
    "\n",
    "\n",
    "# Seaborn scatterplot with hue\n",
    "sns.scatterplot(\n",
    "    data=df_t,\n",
    "    x=\"Avg price (incl. anx), $/RPK\",\n",
    "    y=\"RPKs, billion\",\n",
    "    hue=df_t.index,\n",
    "    palette=\"viridis\",\n",
    "    s=80,\n",
    "    legend=False,\n",
    ")\n",
    "\n",
    "# Line connecting the points\n",
    "plt.plot(\n",
    "    df_t[\"Avg price (incl. anx), $/RPK\"],\n",
    "    df_t[\"RPKs, billion\"],\n",
    "    color=\"purple\",\n",
    "    linewidth=1,\n",
    "    alpha=0.5,\n",
    ")\n",
    "\n",
    "\n",
    "# Annotate each point with the year (index)\n",
    "for year, row in df_t.iterrows():\n",
    "    plt.text(\n",
    "        row[\"Avg price (incl. anx), $/RPK\"] + 0.00051,  # adjust offset as needed\n",
    "        row[\"RPKs, billion\"],\n",
    "        str(year),\n",
    "        fontsize=8,\n",
    "        va=\"center\",\n",
    "    )\n",
    "\n",
    "plt.xlabel(\"Average Price ($/RPK)\")\n",
    "plt.ylabel(\"RPK (billion)\")\n",
    "plt.title(\"RPK vs Average Price, connected by Year\")\n",
    "plt.grid(True)\n",
    "plt.tight_layout()\n",
    "plt.show()"
   ]
  },
  {
   "cell_type": "code",
   "execution_count": null,
   "id": "9d188851-b587-48a6-93c7-12cdd9517d0a",
   "metadata": {
    "tags": []
   },
   "outputs": [],
   "source": [
    "plt.cla()\n",
    "plt.figure(figsize=(10, 6))\n",
    "\n",
    "\n",
    "# Seaborn scatterplot with hue\n",
    "sns.scatterplot(\n",
    "    data=df_t,\n",
    "    x=\"Avg cost, $/RPK\",\n",
    "    y=\"Avg price (incl. anx), $/RPK\",\n",
    "    hue=df_t.index,\n",
    "    palette=\"viridis\",\n",
    "    s=80,\n",
    "    legend=False,\n",
    ")\n",
    "\n",
    "# Line connecting the points\n",
    "plt.plot(\n",
    "    df_t[\"Avg cost, $/RPK\"],\n",
    "    df_t[\"Avg price (incl. anx), $/RPK\"],\n",
    "    color=\"purple\",\n",
    "    linewidth=1,\n",
    "    alpha=0.5,\n",
    ")\n",
    "\n",
    "# Annotate each point with the year (index)\n",
    "for year, row in df_t.iterrows():\n",
    "    plt.text(\n",
    "        row[\"Avg cost, $/RPK\"] + 0.0005,\n",
    "        row[\"Avg price (incl. anx), $/RPK\"],\n",
    "        str(year),\n",
    "        fontsize=8,\n",
    "        va=\"center\",\n",
    "    )\n",
    "\n",
    "plt.xlabel(\"Avg cost, $/RPK\")\n",
    "plt.ylabel(\"Avg price (incl. anx), $/RPK\")\n",
    "plt.title(\"RPK vs Average Price, connected by Year\")\n",
    "plt.grid(True)\n",
    "plt.tight_layout()\n",
    "plt.show()"
   ]
  },
  {
   "cell_type": "code",
   "execution_count": null,
   "id": "4021158b-9bc0-4c62-baf0-bb4b3bdf4b66",
   "metadata": {
    "tags": []
   },
   "outputs": [],
   "source": [
    "# Seaborn scatterplot with hue\n",
    "sns.lineplot(data=df_t, x=df_t.index, y=\"Avg price (incl. anx), $/RPK\", label=\"price\")\n",
    "\n",
    "# Seaborn scatterplot with hue\n",
    "sns.lineplot(data=df_t, x=df_t.index, y=\"Avg cost, $/RPK\", label=\"cost\")\n",
    "\n",
    "\n",
    "plt.legend()"
   ]
  },
  {
   "cell_type": "code",
   "execution_count": null,
   "id": "c17da81b-f621-42fd-a526-adaf005ea6d2",
   "metadata": {
    "tags": []
   },
   "outputs": [],
   "source": [
    "df_t.drop([2020, 2022, 2021], inplace=True)"
   ]
  },
  {
   "cell_type": "code",
   "execution_count": null,
   "id": "b83f15b6-9ccd-4b0b-b307-aa026420819f",
   "metadata": {
    "tags": []
   },
   "outputs": [],
   "source": [
    "df_t"
   ]
  },
  {
   "cell_type": "code",
   "execution_count": null,
   "id": "adfecbb6-3cf4-4c65-81ca-7c90414e8d2b",
   "metadata": {
    "tags": []
   },
   "outputs": [],
   "source": [
    "df_t[\"corr_price\"] = df_t[\"Avg price (incl. anx), $/RPK\"] - (df_t[\"Avg cost, $/RPK\"] - 0.088)"
   ]
  },
  {
   "cell_type": "code",
   "execution_count": null,
   "id": "6e7bd04d-2fa1-4734-b28d-8731221e0b28",
   "metadata": {},
   "outputs": [],
   "source": [
    "mean_iata_p = df_t[\"Avg price (incl. anx), $/RPK\"].mean()\n",
    "mean_iata_c = df_t[\"Avg cost, $/RPK\"].mean()\n",
    "meancp = mean_iata_p - (mean_iata_c - 0.088)\n",
    "print(mean_iata_p - (mean_iata_c - 0.088))\n",
    "print(2 * (meancp - 0.088) / df_t[\"RPKs, billion\"].mean())\n",
    "print(np.mean(a))\n",
    "print(2 * 0.088 - meancp)\n",
    "print(np.mean(b))\n",
    "mean_iata_p - mean_iata_c"
   ]
  },
  {
   "cell_type": "code",
   "execution_count": null,
   "id": "f82b5bc1-21b9-4c7b-9c9f-c055ff40f1d3",
   "metadata": {
    "tags": []
   },
   "outputs": [],
   "source": [
    "a = (\n",
    "    2\n",
    "    * (df_t[\"Avg price (incl. anx), $/RPK\"] - (df_t[\"Avg cost, $/RPK\"] - 0.088) - 0.088)\n",
    "    / df_t[\"RPKs, billion\"]\n",
    ")"
   ]
  },
  {
   "cell_type": "code",
   "execution_count": null,
   "id": "219f3d7f-f5a6-4d4b-9a96-6584cd0cd6c9",
   "metadata": {
    "tags": []
   },
   "outputs": [],
   "source": [
    "b = 2 * 0.088 - df_t[\"corr_price\"]"
   ]
  },
  {
   "cell_type": "code",
   "execution_count": null,
   "id": "b6a28422-0dab-4757-a4b3-aa6ff8f0fa4d",
   "metadata": {
    "tags": []
   },
   "outputs": [],
   "source": [
    "import numpy as np\n",
    "import matplotlib.pyplot as plt\n",
    "import seaborn as sns\n",
    "\n",
    "# Define x range\n",
    "x = np.linspace(3000, 12000, 500)\n",
    "Y = np.array([slope * x + intercept for slope, intercept in zip(a, b)])\n",
    "\n",
    "# Mean and standard deviation across functions\n",
    "y_mean = Y.mean(axis=0)\n",
    "y_std = Y.std(axis=0)\n",
    "\n",
    "mean_slope = np.mean(a)\n",
    "mean_intercept = np.mean(b)\n",
    "\n",
    "# Use a clean seaborn style and color palette\n",
    "sns.set(style=\"whitegrid\")\n",
    "line_color = sns.color_palette(\"deep\")[0]  # blue\n",
    "fill_color = sns.color_palette(\"deep\")[0]  # same blue\n",
    "individual_line_color = sns.color_palette(\"gray\")[2]\n",
    "\n",
    "plt.figure(figsize=(10, 6))\n",
    "\n",
    "# Plot individual lines (faint)\n",
    "for y in Y:\n",
    "    plt.plot(x, y, color=individual_line_color, alpha=0.2, linewidth=1)\n",
    "\n",
    "# Plot mean line\n",
    "plt.plot(x, y_mean, color=line_color, linewidth=2, label=\"Mean Function\")\n",
    "\n",
    "# Fill ±1 std deviation\n",
    "plt.fill_between(\n",
    "    x, y_mean - y_std, y_mean + y_std, color=fill_color, alpha=0.2, label=\"±1 std deviation\"\n",
    ")\n",
    "\n",
    "# Display the mean equation in a styled box\n",
    "equation_text = rf\"$y = {mean_slope:.2e} \\cdot x + {mean_intercept:.2e}$\"\n",
    "plt.text(\n",
    "    0.98,\n",
    "    0.95,\n",
    "    equation_text,\n",
    "    transform=plt.gca().transAxes,\n",
    "    fontsize=12,\n",
    "    verticalalignment=\"top\",\n",
    "    horizontalalignment=\"right\",\n",
    "    bbox=dict(boxstyle=\"round,pad=0.4\", facecolor=\"white\", edgecolor=\"lightgrey\", linewidth=1.2),\n",
    ")\n",
    "\n",
    "\n",
    "# Specific x where you want the markers\n",
    "x_marker = df_t[\"RPKs, billion\"]\n",
    "y_marker = df_t[\"corr_price\"]\n",
    "palette = sns.color_palette(\"viridis\", len(a))\n",
    "for i, (year, valx, valy) in enumerate(zip(df_t.index, x_marker, y_marker)):\n",
    "    plt.scatter(valx, valy, color=palette[i], edgecolor=\"black\", zorder=5)\n",
    "    plt.text(valx + 151, valy - 0.0001, str(year), fontsize=10, va=\"center\")\n",
    "\n",
    "\n",
    "plt.plot(x, mean_slope / 2 * x + mean_intercept)\n",
    "\n",
    "\n",
    "# Labels and aesthetics\n",
    "plt.xlabel(\"x\", fontsize=12)\n",
    "plt.ylabel(\"y\", fontsize=12)\n",
    "plt.title(\"Inverse offer function callibration\", fontsize=14)\n",
    "plt.ylim(0.08, 0.11)\n",
    "plt.legend()\n",
    "plt.grid(True, linestyle=\"--\", alpha=0.6)\n",
    "plt.tight_layout()\n",
    "plt.show()"
   ]
  },
  {
   "cell_type": "code",
   "execution_count": null,
   "id": "8797b116-ef1e-4c6f-9eb1-f38214d4a066",
   "metadata": {},
   "outputs": [],
   "source": []
  }
 ],
 "metadata": {
  "kernelspec": {
   "display_name": "Python 3 (ipykernel)",
   "language": "python",
   "name": "python3"
  },
  "language_info": {
   "codemirror_mode": {
    "name": "ipython",
    "version": 3
   },
   "file_extension": ".py",
   "mimetype": "text/x-python",
   "name": "python",
   "nbconvert_exporter": "python",
   "pygments_lexer": "ipython3",
   "version": "3.10.18"
  }
 },
 "nbformat": 4,
 "nbformat_minor": 5
}
