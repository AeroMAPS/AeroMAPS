{
 "cells": [
  {
   "cell_type": "markdown",
   "id": "366a45f2-8d0f-4639-9b4b-301f94e1cbce",
   "metadata": {},
   "source": [
    "<div class=\"column\">\n",
    "    <a href=\"https://www.isae-supaero.fr/fr/recherche/departements/conception-conduite-vehicules-aeronautiques-spatiaux/dcas/\" target=\"_blank\">\n",
    "        <img style=\"float:left\" src=\"gui/resources/logo-ISAE_SUPAERO.png\"  width=\"100\" class=\"center\">\n",
    "    </a>\n",
    "    <a> <img style=\"float:right\" src=\"gui/resources/Beta.png\"  width=\"100\" class=\"center\"> </a>\n",
    "    <h1 style=\"text-align:center;vertical-align:center\"><font size=\"+3\"><b> AeroMAPS </b></font><br>\n",
    "        <font size=\"+2\"><i>Multidisciplinary Assessment of Prospective Scenarios for air transport</i></font>\n",
    "    </h1>   \n",
    "</div>"
   ]
  },
  {
   "cell_type": "code",
   "execution_count": null,
   "id": "e91e1ceb-c16c-4a36-bb79-826263417d7c",
   "metadata": {
    "tags": []
   },
   "outputs": [],
   "source": [
    "# IMPORT\n",
    "%matplotlib widget"
   ]
  },
  {
   "cell_type": "code",
   "execution_count": null,
   "id": "9ffce7dc-ff91-4dad-ba4e-48299d074bc7",
   "metadata": {
    "tags": []
   },
   "outputs": [],
   "source": [
    "from aeromaps.gui.graphical_user_interface import GraphicalUserInterface\n",
    "from aeromaps.core.models import default_models_bottom_up"
   ]
  },
  {
   "cell_type": "code",
   "execution_count": null,
   "id": "e27cbeed-a647-4932-b81d-8a50282a9798",
   "metadata": {
    "tags": []
   },
   "outputs": [],
   "source": [
    "import warnings\n",
    "from aeromaps import create_process\n",
    "\n",
    "warnings.simplefilter(action=\"ignore\", category=Warning)\n",
    "\n",
    "process = create_process(\n",
    "    models=default_models_bottom_up,\n",
    "    use_fleet_model=True,\n",
    "    add_examples_aircraft_and_subcategory=False,\n",
    ")\n",
    "process.compute()"
   ]
  },
  {
   "cell_type": "code",
   "execution_count": null,
   "id": "bdf49d41-0813-47b8-872e-2909519d4a5f",
   "metadata": {
    "tags": []
   },
   "outputs": [],
   "source": [
    "gui = GraphicalUserInterface(process)\n",
    "gui"
   ]
  },
  {
   "cell_type": "code",
   "execution_count": null,
   "id": "2aeac732",
   "metadata": {
    "jupyter": {
     "outputs_hidden": false
    }
   },
   "outputs": [],
   "source": []
  }
 ],
 "metadata": {
  "kernelspec": {
   "display_name": "Python 3 (ipykernel)",
   "language": "python",
   "name": "python3"
  },
  "language_info": {
   "codemirror_mode": {
    "name": "ipython",
    "version": 3
   },
   "file_extension": ".py",
   "mimetype": "text/x-python",
   "name": "python",
   "nbconvert_exporter": "python",
   "pygments_lexer": "ipython3",
   "version": "3.10.14"
  }
 },
 "nbformat": 4,
 "nbformat_minor": 5
}
