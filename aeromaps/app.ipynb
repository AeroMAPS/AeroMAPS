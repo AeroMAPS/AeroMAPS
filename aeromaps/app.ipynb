{
 "cells": [
  {
   "cell_type": "markdown",
   "id": "7dd8960fb5b3d7c",
   "metadata": {},
   "source": [
    "<div class=\"column\">\n",
    "    <a href=\"https://www.isae-supaero.fr/fr/recherche/departements/conception-conduite-vehicules-aeronautiques-spatiaux/dcas/\" target=\"_blank\">\n",
    "        <img style=\"float:left\" src=\"gui/resources/logo-ISAE_SUPAERO.png\"  width=\"100\" class=\"center\">\n",
    "    </a>\n",
    "    <a> <img style=\"float:right\" src=\"gui/resources/Beta.png\"  width=\"100\" class=\"center\"> </a>\n",
    "    <h1 style=\"text-align:center;vertical-align:center\"><font size=\"+3\"><b> AeroMAPS </b></font><br>\n",
    "        <font size=\"+2\"><i>Multidisciplinary Assessment of Prospective Scenarios for air transport</i></font>\n",
    "    </h1>\n",
    "</div>"
   ]
  },
  {
   "cell_type": "code",
   "execution_count": null,
   "id": "d79f38687dc7980b",
   "metadata": {},
   "outputs": [],
   "source": [
    "# IMPORT\n",
    "%matplotlib widget"
   ]
  },
  {
   "cell_type": "code",
   "execution_count": null,
   "id": "65a68de3e4b4bbc3",
   "metadata": {},
   "outputs": [],
   "source": [
    "from aeromaps.gui.graphical_user_interface import GraphicalUserInterface\n",
    "from aeromaps.core.models import (\n",
    "    models_traffic,\n",
    "    models_efficiency_bottom_up,\n",
    "    models_energy_without_fuel_effect,\n",
    "    models_offset,\n",
    "    models_climate_gwpstar,\n",
    "    models_sustainability,\n",
    "    models_energy_cost_complex,\n",
    "    models_operation_cost_bottom_up,\n",
    ")"
   ]
  },
  {
   "cell_type": "code",
   "execution_count": null,
   "id": "92b567c996214d62",
   "metadata": {},
   "outputs": [],
   "source": [
    "import warnings\n",
    "from aeromaps import create_process\n",
    "\n",
    "warnings.simplefilter(action=\"ignore\", category=Warning)\n",
    "\n",
    "models = {\n",
    "    \"models_traffic\": models_traffic,\n",
    "    \"models_efficiency_bottom_up\": models_efficiency_bottom_up,\n",
    "    \"models_energy_without_fuel_effect\": models_energy_without_fuel_effect,\n",
    "    \"models_offset\": models_offset,\n",
    "    \"models_climate_gwpstar\": models_climate_gwpstar,\n",
    "    \"models_sustainability\": models_sustainability,\n",
    "    \"models_energy_cost_complex\": models_energy_cost_complex,\n",
    "    \"models_operation_cost_bottom_up\": models_operation_cost_bottom_up,\n",
    "}\n",
    "\n",
    "process = create_process(\n",
    "    models=models,\n",
    "    use_fleet_model=True,\n",
    "    add_examples_aircraft_and_subcategory=False,\n",
    ")\n",
    "process.compute()"
   ]
  },
  {
   "cell_type": "code",
   "execution_count": null,
   "id": "1e9cda08831fd483",
   "metadata": {},
   "outputs": [],
   "source": [
    "gui = GraphicalUserInterface(process)\n",
    "gui"
   ]
  },
  {
   "cell_type": "code",
   "execution_count": null,
   "id": "587d55519c339a7f",
   "metadata": {},
   "outputs": [],
   "source": []
  },
  {
   "cell_type": "code",
   "execution_count": null,
   "id": "21868cba878b9555",
   "metadata": {},
   "outputs": [],
   "source": []
  }
 ],
 "metadata": {
  "kernelspec": {
   "display_name": "Python 3 (ipykernel)",
   "language": "python",
   "name": "python3"
  },
  "language_info": {
   "codemirror_mode": {
    "name": "ipython",
    "version": 3
   },
   "file_extension": ".py",
   "mimetype": "text/x-python",
   "name": "python",
   "nbconvert_exporter": "python",
   "pygments_lexer": "ipython3",
   "version": "3.12.11"
  }
 },
 "nbformat": 4,
 "nbformat_minor": 5
}
