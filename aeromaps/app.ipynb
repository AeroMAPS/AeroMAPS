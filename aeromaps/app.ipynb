{
 "cells": [
  {
   "cell_type": "markdown",
   "id": "366a45f2-8d0f-4639-9b4b-301f94e1cbce",
   "metadata": {},
   "source": [
    "<div class=\"column\">\n",
    "    <a href=\"https://www.isae-supaero.fr/fr/recherche/departements/conception-conduite-vehicules-aeronautiques-spatiaux/dcas/\" target=\"_blank\">\n",
    "        <img style=\"float:left\" src=\"gui/resources/logo-ISAE_SUPAERO.png\"  width=\"100\" class=\"center\">\n",
    "    </a>\n",
    "    <a> <img style=\"float:right\" src=\"gui/resources/Beta.png\"  width=\"100\" class=\"center\"> </a>\n",
    "    <h1 style=\"text-align:center;vertical-align:center\"><font size=\"+3\"><b> AeroMAPS </b></font><br>\n",
    "        <font size=\"+2\"><i>Multidisciplinary Assessment of Prospective Scenarios for air transport</i></font>\n",
    "    </h1>   \n",
    "</div>"
   ]
  },
  {
   "cell_type": "code",
   "execution_count": 1,
   "id": "e91e1ceb-c16c-4a36-bb79-826263417d7c",
   "metadata": {
    "tags": []
   },
   "outputs": [],
   "source": [
    "# IMPORT\n",
    "%matplotlib widget"
   ]
  },
  {
   "cell_type": "code",
   "execution_count": 2,
   "id": "9ffce7dc-ff91-4dad-ba4e-48299d074bc7",
   "metadata": {
    "tags": []
   },
   "outputs": [],
   "source": [
    "from aeromaps.gui.graphical_user_interface import GraphicalUserInterface\n",
    "from aeromaps.core.models import default_models_bottom_up"
   ]
  },
  {
   "cell_type": "code",
   "execution_count": 3,
   "id": "e27cbeed-a647-4932-b81d-8a50282a9798",
   "metadata": {
    "tags": []
   },
   "outputs": [
    {
     "ename": "OSError",
     "evalue": "[Errno 28] No space left on device",
     "output_type": "error",
     "traceback": [
      "\u001B[0;31m---------------------------------------------------------------------------\u001B[0m",
      "\u001B[0;31mOSError\u001B[0m                                   Traceback (most recent call last)",
      "Cell \u001B[0;32mIn[3], line 6\u001B[0m\n\u001B[1;32m      3\u001B[0m warnings\u001B[38;5;241m.\u001B[39msimplefilter(action\u001B[38;5;241m=\u001B[39m\u001B[38;5;124m\"\u001B[39m\u001B[38;5;124mignore\u001B[39m\u001B[38;5;124m\"\u001B[39m, category\u001B[38;5;241m=\u001B[39m\u001B[38;5;167;01mWarning\u001B[39;00m)\n\u001B[1;32m      4\u001B[0m \u001B[38;5;28;01mfrom\u001B[39;00m \u001B[38;5;21;01maeromaps\u001B[39;00m \u001B[38;5;28;01mimport\u001B[39;00m create_process\n\u001B[0;32m----> 6\u001B[0m process \u001B[38;5;241m=\u001B[39m \u001B[43mcreate_process\u001B[49m\u001B[43m(\u001B[49m\n\u001B[1;32m      7\u001B[0m \u001B[43m    \u001B[49m\u001B[43mmodels\u001B[49m\u001B[38;5;241;43m=\u001B[39;49m\u001B[43mdefault_models_bottom_up\u001B[49m\u001B[43m,\u001B[49m\n\u001B[1;32m      8\u001B[0m \u001B[43m    \u001B[49m\u001B[43muse_fleet_model\u001B[49m\u001B[38;5;241;43m=\u001B[39;49m\u001B[38;5;28;43;01mTrue\u001B[39;49;00m\u001B[43m,\u001B[49m\n\u001B[1;32m      9\u001B[0m \u001B[43m    \u001B[49m\u001B[43madd_examples_aircraft_and_subcategory\u001B[49m\u001B[38;5;241;43m=\u001B[39;49m\u001B[38;5;28;43;01mFalse\u001B[39;49;00m\u001B[43m,\u001B[49m\n\u001B[1;32m     10\u001B[0m \u001B[43m)\u001B[49m\n\u001B[1;32m     11\u001B[0m process\u001B[38;5;241m.\u001B[39mcompute()\n",
      "File \u001B[0;32m~/PycharmProjects/AeroMAPS/aeromaps/__init__.py:16\u001B[0m, in \u001B[0;36mcreate_process\u001B[0;34m(configuration_file, models, use_fleet_model, add_examples_aircraft_and_subcategory)\u001B[0m\n\u001B[1;32m      6\u001B[0m \u001B[38;5;28;01mdef\u001B[39;00m \u001B[38;5;21mcreate_process\u001B[39m(\n\u001B[1;32m      7\u001B[0m     configuration_file\u001B[38;5;241m=\u001B[39m\u001B[38;5;28;01mNone\u001B[39;00m,\n\u001B[1;32m      8\u001B[0m     models\u001B[38;5;241m=\u001B[39mdefault_models_top_down,\n\u001B[1;32m      9\u001B[0m     use_fleet_model\u001B[38;5;241m=\u001B[39m\u001B[38;5;28;01mFalse\u001B[39;00m,\n\u001B[1;32m     10\u001B[0m     add_examples_aircraft_and_subcategory\u001B[38;5;241m=\u001B[39m\u001B[38;5;28;01mTrue\u001B[39;00m,\n\u001B[1;32m     11\u001B[0m ) \u001B[38;5;241m-\u001B[39m\u001B[38;5;241m>\u001B[39m AeroMAPSProcess:\n\u001B[1;32m     12\u001B[0m \u001B[38;5;250m    \u001B[39m\u001B[38;5;124;03m\"\"\"\u001B[39;00m\n\u001B[1;32m     13\u001B[0m \u001B[38;5;124;03m    Create an AeroMAPS process.\u001B[39;00m\n\u001B[1;32m     14\u001B[0m \u001B[38;5;124;03m    \"\"\"\u001B[39;00m\n\u001B[0;32m---> 16\u001B[0m     \u001B[38;5;28;01mreturn\u001B[39;00m \u001B[43mAeroMAPSProcess\u001B[49m\u001B[43m(\u001B[49m\n\u001B[1;32m     17\u001B[0m \u001B[43m        \u001B[49m\u001B[43mconfiguration_file\u001B[49m\u001B[38;5;241;43m=\u001B[39;49m\u001B[43mconfiguration_file\u001B[49m\u001B[43m,\u001B[49m\n\u001B[1;32m     18\u001B[0m \u001B[43m        \u001B[49m\u001B[43mmodels\u001B[49m\u001B[38;5;241;43m=\u001B[39;49m\u001B[43mmodels\u001B[49m\u001B[43m,\u001B[49m\n\u001B[1;32m     19\u001B[0m \u001B[43m        \u001B[49m\u001B[43muse_fleet_model\u001B[49m\u001B[38;5;241;43m=\u001B[39;49m\u001B[43muse_fleet_model\u001B[49m\u001B[43m,\u001B[49m\n\u001B[1;32m     20\u001B[0m \u001B[43m        \u001B[49m\u001B[43madd_examples_aircraft_and_subcategory\u001B[49m\u001B[38;5;241;43m=\u001B[39;49m\u001B[43madd_examples_aircraft_and_subcategory\u001B[49m\u001B[43m,\u001B[49m\n\u001B[1;32m     21\u001B[0m \u001B[43m    \u001B[49m\u001B[43m)\u001B[49m\n",
      "File \u001B[0;32m~/PycharmProjects/AeroMAPS/aeromaps/core/process.py:57\u001B[0m, in \u001B[0;36mAeroMAPSProcess.__init__\u001B[0;34m(self, configuration_file, models, use_fleet_model, add_examples_aircraft_and_subcategory)\u001B[0m\n\u001B[1;32m     53\u001B[0m \u001B[38;5;28mself\u001B[39m\u001B[38;5;241m.\u001B[39mmodels \u001B[38;5;241m=\u001B[39m models\n\u001B[1;32m     55\u001B[0m \u001B[38;5;28mself\u001B[39m\u001B[38;5;241m.\u001B[39m_initialize_inputs()\n\u001B[0;32m---> 57\u001B[0m \u001B[38;5;28;43mself\u001B[39;49m\u001B[38;5;241;43m.\u001B[39;49m\u001B[43msetup\u001B[49m\u001B[43m(\u001B[49m\u001B[43madd_examples_aircraft_and_subcategory\u001B[49m\u001B[43m)\u001B[49m\n",
      "File \u001B[0;32m~/PycharmProjects/AeroMAPS/aeromaps/core/process.py:66\u001B[0m, in \u001B[0;36mAeroMAPSProcess.setup\u001B[0;34m(self, add_examples_aircraft_and_subcategory)\u001B[0m\n\u001B[1;32m     62\u001B[0m \u001B[38;5;28mself\u001B[39m\u001B[38;5;241m.\u001B[39mjson \u001B[38;5;241m=\u001B[39m {}\n\u001B[1;32m     64\u001B[0m \u001B[38;5;28mself\u001B[39m\u001B[38;5;241m.\u001B[39m_initialize_years()\n\u001B[0;32m---> 66\u001B[0m \u001B[38;5;28;43mself\u001B[39;49m\u001B[38;5;241;43m.\u001B[39;49m\u001B[43m_initialize_disciplines\u001B[49m\u001B[43m(\u001B[49m\n\u001B[1;32m     67\u001B[0m \u001B[43m    \u001B[49m\u001B[43madd_examples_aircraft_and_subcategory\u001B[49m\u001B[38;5;241;43m=\u001B[39;49m\u001B[43madd_examples_aircraft_and_subcategory\u001B[49m\n\u001B[1;32m     68\u001B[0m \u001B[43m\u001B[49m\u001B[43m)\u001B[49m\n\u001B[1;32m     69\u001B[0m \u001B[38;5;66;03m# Create GEMSEO process\u001B[39;00m\n\u001B[1;32m     70\u001B[0m \u001B[38;5;28mself\u001B[39m\u001B[38;5;241m.\u001B[39mprocess \u001B[38;5;241m=\u001B[39m create_mda(\n\u001B[1;32m     71\u001B[0m     \u001B[38;5;124m\"\u001B[39m\u001B[38;5;124mMDAChain\u001B[39m\u001B[38;5;124m\"\u001B[39m, disciplines\u001B[38;5;241m=\u001B[39m\u001B[38;5;28mself\u001B[39m\u001B[38;5;241m.\u001B[39mdisciplines, grammar_type\u001B[38;5;241m=\u001B[39mMDODiscipline\u001B[38;5;241m.\u001B[39mGrammarType\u001B[38;5;241m.\u001B[39mSIMPLE\n\u001B[1;32m     72\u001B[0m )\n",
      "File \u001B[0;32m~/PycharmProjects/AeroMAPS/aeromaps/core/process.py:212\u001B[0m, in \u001B[0;36mAeroMAPSProcess._initialize_disciplines\u001B[0;34m(self, add_examples_aircraft_and_subcategory)\u001B[0m\n\u001B[1;32m    209\u001B[0m         \u001B[38;5;28;01melse\u001B[39;00m:\n\u001B[1;32m    210\u001B[0m             \u001B[38;5;28mprint\u001B[39m(\u001B[38;5;124mf\u001B[39m\u001B[38;5;124m\"\u001B[39m\u001B[38;5;132;01m{\u001B[39;00mkey\u001B[38;5;132;01m}\u001B[39;00m\u001B[38;5;124m is not an instance of AeroMAPSModel\u001B[39m\u001B[38;5;124m\"\u001B[39m)\n\u001B[0;32m--> 212\u001B[0m \u001B[43mcheck_instance_in_dict\u001B[49m\u001B[43m(\u001B[49m\u001B[38;5;28;43mself\u001B[39;49m\u001B[38;5;241;43m.\u001B[39;49m\u001B[43mmodels\u001B[49m\u001B[43m)\u001B[49m\n",
      "File \u001B[0;32m~/PycharmProjects/AeroMAPS/aeromaps/core/process.py:196\u001B[0m, in \u001B[0;36mAeroMAPSProcess._initialize_disciplines.<locals>.check_instance_in_dict\u001B[0;34m(d)\u001B[0m\n\u001B[1;32m    194\u001B[0m \u001B[38;5;28;01mfor\u001B[39;00m key, value \u001B[38;5;129;01min\u001B[39;00m d\u001B[38;5;241m.\u001B[39mitems():\n\u001B[1;32m    195\u001B[0m     \u001B[38;5;28;01mif\u001B[39;00m \u001B[38;5;28misinstance\u001B[39m(value, \u001B[38;5;28mdict\u001B[39m):\n\u001B[0;32m--> 196\u001B[0m         \u001B[43mcheck_instance_in_dict\u001B[49m\u001B[43m(\u001B[49m\u001B[43mvalue\u001B[49m\u001B[43m)\u001B[49m\n\u001B[1;32m    197\u001B[0m     \u001B[38;5;28;01melif\u001B[39;00m \u001B[38;5;28misinstance\u001B[39m(value, AeroMAPSModel):\n\u001B[1;32m    198\u001B[0m         model \u001B[38;5;241m=\u001B[39m value\n",
      "File \u001B[0;32m~/PycharmProjects/AeroMAPS/aeromaps/core/process.py:205\u001B[0m, in \u001B[0;36mAeroMAPSProcess._initialize_disciplines.<locals>.check_instance_in_dict\u001B[0;34m(d)\u001B[0m\n\u001B[1;32m    203\u001B[0m     model\u001B[38;5;241m.\u001B[39mfleet_model \u001B[38;5;241m=\u001B[39m \u001B[38;5;28mself\u001B[39m\u001B[38;5;241m.\u001B[39mfleet_model\n\u001B[1;32m    204\u001B[0m \u001B[38;5;28;01mif\u001B[39;00m \u001B[38;5;28mhasattr\u001B[39m(model, \u001B[38;5;124m\"\u001B[39m\u001B[38;5;124mcompute\u001B[39m\u001B[38;5;124m\"\u001B[39m):\n\u001B[0;32m--> 205\u001B[0m     model \u001B[38;5;241m=\u001B[39m \u001B[43mAeroMAPSModelWrapper\u001B[49m\u001B[43m(\u001B[49m\u001B[43mmodel\u001B[49m\u001B[38;5;241;43m=\u001B[39;49m\u001B[43mmodel\u001B[49m\u001B[43m)\u001B[49m\n\u001B[1;32m    206\u001B[0m     \u001B[38;5;28mself\u001B[39m\u001B[38;5;241m.\u001B[39mdisciplines\u001B[38;5;241m.\u001B[39mappend(model)\n\u001B[1;32m    207\u001B[0m \u001B[38;5;28;01melse\u001B[39;00m:\n",
      "File \u001B[0;32m~/PycharmProjects/AeroMAPS/aeromaps/core/gemseo.py:331\u001B[0m, in \u001B[0;36mAeroMAPSModelWrapper.__init__\u001B[0;34m(self, model)\u001B[0m\n\u001B[1;32m    328\u001B[0m \u001B[38;5;28;01mdef\u001B[39;00m \u001B[38;5;21m__init__\u001B[39m(\u001B[38;5;28mself\u001B[39m, model):\n\u001B[1;32m    329\u001B[0m     \u001B[38;5;28mself\u001B[39m\u001B[38;5;241m.\u001B[39mmodel: AeroMAPSModel \u001B[38;5;241m=\u001B[39m model\n\u001B[0;32m--> 331\u001B[0m     \u001B[38;5;28;43msuper\u001B[39;49m\u001B[43m(\u001B[49m\u001B[43mAeroMAPSModelWrapper\u001B[49m\u001B[43m,\u001B[49m\u001B[43m \u001B[49m\u001B[38;5;28;43mself\u001B[39;49m\u001B[43m)\u001B[49m\u001B[38;5;241;43m.\u001B[39;49m\u001B[38;5;21;43m__init__\u001B[39;49m\u001B[43m(\u001B[49m\n\u001B[1;32m    332\u001B[0m \u001B[43m        \u001B[49m\u001B[43mpy_func\u001B[49m\u001B[38;5;241;43m=\u001B[39;49m\u001B[38;5;28;43mself\u001B[39;49m\u001B[38;5;241;43m.\u001B[39;49m\u001B[43mmodel\u001B[49m\u001B[38;5;241;43m.\u001B[39;49m\u001B[43mcompute\u001B[49m\u001B[43m,\u001B[49m\u001B[43m \u001B[49m\u001B[43mgrammar_type\u001B[49m\u001B[38;5;241;43m=\u001B[39;49m\u001B[43mMDODiscipline\u001B[49m\u001B[38;5;241;43m.\u001B[39;49m\u001B[43mGrammarType\u001B[49m\u001B[38;5;241;43m.\u001B[39;49m\u001B[43mSIMPLE\u001B[49m\n\u001B[1;32m    333\u001B[0m \u001B[43m    \u001B[49m\u001B[43m)\u001B[49m\n\u001B[1;32m    335\u001B[0m     \u001B[38;5;28mself\u001B[39m\u001B[38;5;241m.\u001B[39mname \u001B[38;5;241m=\u001B[39m model\u001B[38;5;241m.\u001B[39m\u001B[38;5;18m__class__\u001B[39m\u001B[38;5;241m.\u001B[39m\u001B[38;5;18m__name__\u001B[39m\n\u001B[1;32m    337\u001B[0m     \u001B[38;5;28mself\u001B[39m\u001B[38;5;241m.\u001B[39mupdate_defaults()\n",
      "File \u001B[0;32m~/PycharmProjects/AeroMAPS/aeromaps/core/gemseo.py:104\u001B[0m, in \u001B[0;36mAutoPyDiscipline.__init__\u001B[0;34m(self, py_func, py_jac, name, use_arrays, grammar_type)\u001B[0m\n\u001B[1;32m    101\u001B[0m \u001B[38;5;28;01mif\u001B[39;00m \u001B[38;5;129;01mnot\u001B[39;00m \u001B[38;5;28mcallable\u001B[39m(py_func):\n\u001B[1;32m    102\u001B[0m     \u001B[38;5;28;01mraise\u001B[39;00m \u001B[38;5;167;01mTypeError\u001B[39;00m(\u001B[38;5;124m\"\u001B[39m\u001B[38;5;124mpy_func must be callable.\u001B[39m\u001B[38;5;124m\"\u001B[39m)\n\u001B[0;32m--> 104\u001B[0m \u001B[38;5;28;43msuper\u001B[39;49m\u001B[43m(\u001B[49m\u001B[43m)\u001B[49m\u001B[38;5;241;43m.\u001B[39;49m\u001B[38;5;21;43m__init__\u001B[39;49m\u001B[43m(\u001B[49m\u001B[43mname\u001B[49m\u001B[38;5;241;43m=\u001B[39;49m\u001B[43mname\u001B[49m\u001B[43m \u001B[49m\u001B[38;5;129;43;01mor\u001B[39;49;00m\u001B[43m \u001B[49m\u001B[43mpy_func\u001B[49m\u001B[38;5;241;43m.\u001B[39;49m\u001B[38;5;18;43m__name__\u001B[39;49m\u001B[43m,\u001B[49m\u001B[43m \u001B[49m\u001B[43mgrammar_type\u001B[49m\u001B[38;5;241;43m=\u001B[39;49m\u001B[43mgrammar_type\u001B[49m\u001B[43m)\u001B[49m\n\u001B[1;32m    105\u001B[0m \u001B[38;5;28mself\u001B[39m\u001B[38;5;241m.\u001B[39mpy_func \u001B[38;5;241m=\u001B[39m py_func\n\u001B[1;32m    106\u001B[0m \u001B[38;5;28mself\u001B[39m\u001B[38;5;241m.\u001B[39muse_arrays \u001B[38;5;241m=\u001B[39m use_arrays\n",
      "File \u001B[0;32m/opt/homebrew/Caskroom/miniforge/base/envs/AeroMAPS_py39/lib/python3.9/site-packages/gemseo/core/discipline.py:331\u001B[0m, in \u001B[0;36mMDODiscipline.__init__\u001B[0;34m(self, name, input_grammar_file, output_grammar_file, auto_detect_grammar_files, grammar_type, cache_type, cache_file_path)\u001B[0m\n\u001B[1;32m    329\u001B[0m \u001B[38;5;28mself\u001B[39m\u001B[38;5;241m.\u001B[39m_status \u001B[38;5;241m=\u001B[39m \u001B[38;5;28mself\u001B[39m\u001B[38;5;241m.\u001B[39mExecutionStatus\u001B[38;5;241m.\u001B[39mPENDING\n\u001B[1;32m    330\u001B[0m \u001B[38;5;28;01mif\u001B[39;00m \u001B[38;5;28mself\u001B[39m\u001B[38;5;241m.\u001B[39mactivate_counters:\n\u001B[0;32m--> 331\u001B[0m     \u001B[38;5;28;43mself\u001B[39;49m\u001B[38;5;241;43m.\u001B[39;49m\u001B[43m_init_shared_memory_attrs\u001B[49m\u001B[43m(\u001B[49m\u001B[43m)\u001B[49m\n\u001B[1;32m    333\u001B[0m \u001B[38;5;28mself\u001B[39m\u001B[38;5;241m.\u001B[39m_status_observers \u001B[38;5;241m=\u001B[39m []\n",
      "File \u001B[0;32m/opt/homebrew/Caskroom/miniforge/base/envs/AeroMAPS_py39/lib/python3.9/site-packages/gemseo/core/discipline.py:355\u001B[0m, in \u001B[0;36mMDODiscipline._init_shared_memory_attrs\u001B[0;34m(self)\u001B[0m\n\u001B[1;32m    354\u001B[0m \u001B[38;5;28;01mdef\u001B[39;00m \u001B[38;5;21m_init_shared_memory_attrs\u001B[39m(\u001B[38;5;28mself\u001B[39m) \u001B[38;5;241m-\u001B[39m\u001B[38;5;241m>\u001B[39m \u001B[38;5;28;01mNone\u001B[39;00m:\n\u001B[0;32m--> 355\u001B[0m     \u001B[38;5;28mself\u001B[39m\u001B[38;5;241m.\u001B[39m_n_calls \u001B[38;5;241m=\u001B[39m \u001B[43mValue\u001B[49m\u001B[43m(\u001B[49m\u001B[38;5;124;43m\"\u001B[39;49m\u001B[38;5;124;43mi\u001B[39;49m\u001B[38;5;124;43m\"\u001B[39;49m\u001B[43m,\u001B[49m\u001B[43m \u001B[49m\u001B[38;5;241;43m0\u001B[39;49m\u001B[43m)\u001B[49m\n\u001B[1;32m    356\u001B[0m     \u001B[38;5;28mself\u001B[39m\u001B[38;5;241m.\u001B[39m_exec_time \u001B[38;5;241m=\u001B[39m Value(\u001B[38;5;124m\"\u001B[39m\u001B[38;5;124md\u001B[39m\u001B[38;5;124m\"\u001B[39m, \u001B[38;5;241m0.0\u001B[39m)\n\u001B[1;32m    357\u001B[0m     \u001B[38;5;28mself\u001B[39m\u001B[38;5;241m.\u001B[39m_n_calls_linearize \u001B[38;5;241m=\u001B[39m Value(\u001B[38;5;124m\"\u001B[39m\u001B[38;5;124mi\u001B[39m\u001B[38;5;124m\"\u001B[39m, \u001B[38;5;241m0\u001B[39m)\n",
      "File \u001B[0;32m/opt/homebrew/Caskroom/miniforge/base/envs/AeroMAPS_py39/lib/python3.9/multiprocessing/context.py:135\u001B[0m, in \u001B[0;36mBaseContext.Value\u001B[0;34m(self, typecode_or_type, lock, *args)\u001B[0m\n\u001B[1;32m    133\u001B[0m \u001B[38;5;250m\u001B[39m\u001B[38;5;124;03m'''Returns a synchronized shared object'''\u001B[39;00m\n\u001B[1;32m    134\u001B[0m \u001B[38;5;28;01mfrom\u001B[39;00m \u001B[38;5;21;01m.\u001B[39;00m\u001B[38;5;21;01msharedctypes\u001B[39;00m \u001B[38;5;28;01mimport\u001B[39;00m Value\n\u001B[0;32m--> 135\u001B[0m \u001B[38;5;28;01mreturn\u001B[39;00m \u001B[43mValue\u001B[49m\u001B[43m(\u001B[49m\u001B[43mtypecode_or_type\u001B[49m\u001B[43m,\u001B[49m\u001B[43m \u001B[49m\u001B[38;5;241;43m*\u001B[39;49m\u001B[43margs\u001B[49m\u001B[43m,\u001B[49m\u001B[43m \u001B[49m\u001B[43mlock\u001B[49m\u001B[38;5;241;43m=\u001B[39;49m\u001B[43mlock\u001B[49m\u001B[43m,\u001B[49m\n\u001B[1;32m    136\u001B[0m \u001B[43m             \u001B[49m\u001B[43mctx\u001B[49m\u001B[38;5;241;43m=\u001B[39;49m\u001B[38;5;28;43mself\u001B[39;49m\u001B[38;5;241;43m.\u001B[39;49m\u001B[43mget_context\u001B[49m\u001B[43m(\u001B[49m\u001B[43m)\u001B[49m\u001B[43m)\u001B[49m\n",
      "File \u001B[0;32m/opt/homebrew/Caskroom/miniforge/base/envs/AeroMAPS_py39/lib/python3.9/multiprocessing/sharedctypes.py:79\u001B[0m, in \u001B[0;36mValue\u001B[0;34m(typecode_or_type, lock, ctx, *args)\u001B[0m\n\u001B[1;32m     77\u001B[0m \u001B[38;5;28;01mif\u001B[39;00m lock \u001B[38;5;129;01min\u001B[39;00m (\u001B[38;5;28;01mTrue\u001B[39;00m, \u001B[38;5;28;01mNone\u001B[39;00m):\n\u001B[1;32m     78\u001B[0m     ctx \u001B[38;5;241m=\u001B[39m ctx \u001B[38;5;129;01mor\u001B[39;00m get_context()\n\u001B[0;32m---> 79\u001B[0m     lock \u001B[38;5;241m=\u001B[39m \u001B[43mctx\u001B[49m\u001B[38;5;241;43m.\u001B[39;49m\u001B[43mRLock\u001B[49m\u001B[43m(\u001B[49m\u001B[43m)\u001B[49m\n\u001B[1;32m     80\u001B[0m \u001B[38;5;28;01mif\u001B[39;00m \u001B[38;5;129;01mnot\u001B[39;00m \u001B[38;5;28mhasattr\u001B[39m(lock, \u001B[38;5;124m'\u001B[39m\u001B[38;5;124macquire\u001B[39m\u001B[38;5;124m'\u001B[39m):\n\u001B[1;32m     81\u001B[0m     \u001B[38;5;28;01mraise\u001B[39;00m \u001B[38;5;167;01mAttributeError\u001B[39;00m(\u001B[38;5;124m\"\u001B[39m\u001B[38;5;132;01m%r\u001B[39;00m\u001B[38;5;124m has no method \u001B[39m\u001B[38;5;124m'\u001B[39m\u001B[38;5;124macquire\u001B[39m\u001B[38;5;124m'\u001B[39m\u001B[38;5;124m\"\u001B[39m \u001B[38;5;241m%\u001B[39m lock)\n",
      "File \u001B[0;32m/opt/homebrew/Caskroom/miniforge/base/envs/AeroMAPS_py39/lib/python3.9/multiprocessing/context.py:73\u001B[0m, in \u001B[0;36mBaseContext.RLock\u001B[0;34m(self)\u001B[0m\n\u001B[1;32m     71\u001B[0m \u001B[38;5;250m\u001B[39m\u001B[38;5;124;03m'''Returns a recursive lock object'''\u001B[39;00m\n\u001B[1;32m     72\u001B[0m \u001B[38;5;28;01mfrom\u001B[39;00m \u001B[38;5;21;01m.\u001B[39;00m\u001B[38;5;21;01msynchronize\u001B[39;00m \u001B[38;5;28;01mimport\u001B[39;00m RLock\n\u001B[0;32m---> 73\u001B[0m \u001B[38;5;28;01mreturn\u001B[39;00m \u001B[43mRLock\u001B[49m\u001B[43m(\u001B[49m\u001B[43mctx\u001B[49m\u001B[38;5;241;43m=\u001B[39;49m\u001B[38;5;28;43mself\u001B[39;49m\u001B[38;5;241;43m.\u001B[39;49m\u001B[43mget_context\u001B[49m\u001B[43m(\u001B[49m\u001B[43m)\u001B[49m\u001B[43m)\u001B[49m\n",
      "File \u001B[0;32m/opt/homebrew/Caskroom/miniforge/base/envs/AeroMAPS_py39/lib/python3.9/multiprocessing/synchronize.py:187\u001B[0m, in \u001B[0;36mRLock.__init__\u001B[0;34m(self, ctx)\u001B[0m\n\u001B[1;32m    186\u001B[0m \u001B[38;5;28;01mdef\u001B[39;00m \u001B[38;5;21m__init__\u001B[39m(\u001B[38;5;28mself\u001B[39m, \u001B[38;5;241m*\u001B[39m, ctx):\n\u001B[0;32m--> 187\u001B[0m     \u001B[43mSemLock\u001B[49m\u001B[38;5;241;43m.\u001B[39;49m\u001B[38;5;21;43m__init__\u001B[39;49m\u001B[43m(\u001B[49m\u001B[38;5;28;43mself\u001B[39;49m\u001B[43m,\u001B[49m\u001B[43m \u001B[49m\u001B[43mRECURSIVE_MUTEX\u001B[49m\u001B[43m,\u001B[49m\u001B[43m \u001B[49m\u001B[38;5;241;43m1\u001B[39;49m\u001B[43m,\u001B[49m\u001B[43m \u001B[49m\u001B[38;5;241;43m1\u001B[39;49m\u001B[43m,\u001B[49m\u001B[43m \u001B[49m\u001B[43mctx\u001B[49m\u001B[38;5;241;43m=\u001B[39;49m\u001B[43mctx\u001B[49m\u001B[43m)\u001B[49m\n",
      "File \u001B[0;32m/opt/homebrew/Caskroom/miniforge/base/envs/AeroMAPS_py39/lib/python3.9/multiprocessing/synchronize.py:57\u001B[0m, in \u001B[0;36mSemLock.__init__\u001B[0;34m(self, kind, value, maxvalue, ctx)\u001B[0m\n\u001B[1;32m     55\u001B[0m \u001B[38;5;28;01mfor\u001B[39;00m i \u001B[38;5;129;01min\u001B[39;00m \u001B[38;5;28mrange\u001B[39m(\u001B[38;5;241m100\u001B[39m):\n\u001B[1;32m     56\u001B[0m     \u001B[38;5;28;01mtry\u001B[39;00m:\n\u001B[0;32m---> 57\u001B[0m         sl \u001B[38;5;241m=\u001B[39m \u001B[38;5;28mself\u001B[39m\u001B[38;5;241m.\u001B[39m_semlock \u001B[38;5;241m=\u001B[39m \u001B[43m_multiprocessing\u001B[49m\u001B[38;5;241;43m.\u001B[39;49m\u001B[43mSemLock\u001B[49m\u001B[43m(\u001B[49m\n\u001B[1;32m     58\u001B[0m \u001B[43m            \u001B[49m\u001B[43mkind\u001B[49m\u001B[43m,\u001B[49m\u001B[43m \u001B[49m\u001B[43mvalue\u001B[49m\u001B[43m,\u001B[49m\u001B[43m \u001B[49m\u001B[43mmaxvalue\u001B[49m\u001B[43m,\u001B[49m\u001B[43m \u001B[49m\u001B[38;5;28;43mself\u001B[39;49m\u001B[38;5;241;43m.\u001B[39;49m\u001B[43m_make_name\u001B[49m\u001B[43m(\u001B[49m\u001B[43m)\u001B[49m\u001B[43m,\u001B[49m\n\u001B[1;32m     59\u001B[0m \u001B[43m            \u001B[49m\u001B[43munlink_now\u001B[49m\u001B[43m)\u001B[49m\n\u001B[1;32m     60\u001B[0m     \u001B[38;5;28;01mexcept\u001B[39;00m \u001B[38;5;167;01mFileExistsError\u001B[39;00m:\n\u001B[1;32m     61\u001B[0m         \u001B[38;5;28;01mpass\u001B[39;00m\n",
      "\u001B[0;31mOSError\u001B[0m: [Errno 28] No space left on device"
     ]
    }
   ],
   "source": [
    "import warnings\n",
    "from aeromaps import create_process\n",
    "\n",
    "warnings.simplefilter(action=\"ignore\", category=Warning)\n",
    "\n",
    "process = create_process(\n",
    "    models=default_models_bottom_up,\n",
    "    use_fleet_model=True,\n",
    "    add_examples_aircraft_and_subcategory=False,\n",
    ")\n",
    "process.compute()"
   ]
  },
  {
   "cell_type": "code",
   "execution_count": null,
   "id": "bdf49d41-0813-47b8-872e-2909519d4a5f",
   "metadata": {
    "tags": []
   },
   "outputs": [],
   "source": [
    "gui = GraphicalUserInterface(process)\n",
    "gui"
   ]
  },
  {
   "cell_type": "code",
   "execution_count": null,
   "id": "2aeac732",
   "metadata": {
    "collapsed": false,
    "jupyter": {
     "outputs_hidden": false
    }
   },
   "outputs": [],
   "source": []
  }
 ],
 "metadata": {
  "kernelspec": {
   "display_name": "Python 3 (ipykernel)",
   "language": "python",
   "name": "python3"
  },
  "language_info": {
   "codemirror_mode": {
    "name": "ipython",
    "version": 3
   },
   "file_extension": ".py",
   "mimetype": "text/x-python",
   "name": "python",
   "nbconvert_exporter": "python",
   "pygments_lexer": "ipython3",
   "version": "3.9.18"
  }
 },
 "nbformat": 4,
 "nbformat_minor": 5
}
